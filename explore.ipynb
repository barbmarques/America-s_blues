{
 "cells": [
  {
   "cell_type": "code",
   "metadata": {
    "tags": [],
    "cell_id": "00000-ebaf8ec3-c93d-4437-abc9-4007671d5ef5",
    "deepnote_to_be_reexecuted": false,
    "source_hash": "ec5a2f77",
    "execution_start": 1621606866328,
    "execution_millis": 715,
    "deepnote_cell_type": "code"
   },
   "source": "import pandas as pd\nimport numpy as np\nfrom scipy import stats\n\nimport matplotlib.pyplot as plt\nimport seaborn as sns",
   "execution_count": null,
   "outputs": []
  },
  {
   "cell_type": "code",
   "metadata": {
    "tags": [],
    "cell_id": "00000-9ee7a968-7ad7-4836-8d83-b92e523ce3dc",
    "deepnote_to_be_reexecuted": false,
    "source_hash": "e08e6626",
    "execution_start": 1621606904583,
    "execution_millis": 139,
    "deepnote_cell_type": "code"
   },
   "source": "df = pd.read_csv('prepped_data.csv')\ndf.drop(columns='Unnamed: 0', inplace=True)\ndf.head()",
   "execution_count": null,
   "outputs": [
    {
     "output_type": "execute_result",
     "execution_count": 5,
     "data": {
      "application/vnd.deepnote.dataframe.v2+json": {
       "row_count": 5,
       "column_count": 23,
       "columns": [
        {
         "name": "age",
         "dtype": "object",
         "stats": {
          "unique_count": 5,
          "nan_count": 0,
          "categories": [
           {
            "name": "24",
            "count": 1
           },
           {
            "name": "52",
            "count": 1
           },
           {
            "name": "3 others",
            "count": 3
           }
          ]
         }
        },
        {
         "name": "gender",
         "dtype": "object",
         "stats": {
          "unique_count": 1,
          "nan_count": 0,
          "categories": [
           {
            "name": "Male",
            "count": 5
           }
          ]
         }
        },
        {
         "name": "race",
         "dtype": "object",
         "stats": {
          "unique_count": 3,
          "nan_count": 0,
          "categories": [
           {
            "name": "Unknown Race",
            "count": 2
           },
           {
            "name": "White",
            "count": 2
           },
           {
            "name": "Black",
            "count": 1
           }
          ]
         }
        },
        {
         "name": "date",
         "dtype": "object",
         "stats": {
          "unique_count": 5,
          "nan_count": 0,
          "categories": [
           {
            "name": "2021-05-09",
            "count": 1
           },
           {
            "name": "2021-05-07",
            "count": 1
           },
           {
            "name": "3 others",
            "count": 3
           }
          ]
         }
        },
        {
         "name": "city",
         "dtype": "object",
         "stats": {
          "unique_count": 5,
          "nan_count": 0,
          "categories": [
           {
            "name": "Leicester",
            "count": 1
           },
           {
            "name": "Rutledge",
            "count": 1
           },
           {
            "name": "3 others",
            "count": 3
           }
          ]
         }
        },
        {
         "name": "state",
         "dtype": "object",
         "stats": {
          "unique_count": 5,
          "nan_count": 0,
          "categories": [
           {
            "name": "MA",
            "count": 1
           },
           {
            "name": "TN",
            "count": 1
           },
           {
            "name": "3 others",
            "count": 3
           }
          ]
         }
        },
        {
         "name": "zipcode",
         "dtype": "float64",
         "stats": {
          "unique_count": 5,
          "nan_count": 0,
          "min": "1524.0",
          "max": "95249.0",
          "histogram": [
           {
            "bin_start": 1524,
            "bin_end": 10896.5,
            "count": 1
           },
           {
            "bin_start": 10896.5,
            "bin_end": 20269,
            "count": 0
           },
           {
            "bin_start": 20269,
            "bin_end": 29641.5,
            "count": 0
           },
           {
            "bin_start": 29641.5,
            "bin_end": 39014,
            "count": 1
           },
           {
            "bin_start": 39014,
            "bin_end": 48386.5,
            "count": 1
           },
           {
            "bin_start": 48386.5,
            "bin_end": 57759,
            "count": 0
           },
           {
            "bin_start": 57759,
            "bin_end": 67131.5,
            "count": 0
           },
           {
            "bin_start": 67131.5,
            "bin_end": 76504,
            "count": 0
           },
           {
            "bin_start": 76504,
            "bin_end": 85876.5,
            "count": 0
           },
           {
            "bin_start": 85876.5,
            "bin_end": 95249,
            "count": 2
           }
          ]
         }
        },
        {
         "name": "county",
         "dtype": "object",
         "stats": {
          "unique_count": 5,
          "nan_count": 0,
          "categories": [
           {
            "name": "Worcester",
            "count": 1
           },
           {
            "name": "Grainger",
            "count": 1
           },
           {
            "name": "3 others",
            "count": 3
           }
          ]
         }
        },
        {
         "name": "agency_responsible",
         "dtype": "object",
         "stats": {
          "unique_count": 5,
          "nan_count": 0,
          "categories": [
           {
            "name": "Leicester Police Department",
            "count": 1
           },
           {
            "name": "Bean Station Police Department, Rutledge Police Department",
            "count": 1
           },
           {
            "name": "3 others",
            "count": 3
           }
          ]
         }
        },
        {
         "name": "cause_of_death",
         "dtype": "object",
         "stats": {
          "unique_count": 1,
          "nan_count": 0,
          "categories": [
           {
            "name": "gunshot",
            "count": 5
           }
          ]
         }
        },
        {
         "name": "description_of_circumstances",
         "dtype": "object",
         "stats": {
          "unique_count": 5,
          "nan_count": 0,
          "categories": [
           {
            "name": "A man allegedly crashed an SUV into the Leicester Police Station, repeatedly ramming his vehicle into the front doors until he gained entry into the building. Responding officers saw the SUV in the front door and encountered the man. Police claim the man placed a rifle on his shoulder and aimed it at the officers. The police officers shot and killed him.",
            "count": 1
           },
           {
            "name": "Deputies responded to reports of a man shooting a gun inside a home. When deputies arrived, they made contact with the man. While encountering the subject, an officer with the Bean Station PD and an officer with Rutledge PD fired at the man, killing him. No other details are available concerning the shooting at this time. ",
            "count": 1
           },
           {
            "name": "3 others",
            "count": 3
           }
          ]
         }
        },
        {
         "name": "official_disposition",
         "dtype": "object",
         "stats": {
          "unique_count": 1,
          "nan_count": 0,
          "categories": [
           {
            "name": "Pending investigation",
            "count": 5
           }
          ]
         }
        },
        {
         "name": "criminal_charges_filed",
         "dtype": "object",
         "stats": {
          "unique_count": 1,
          "nan_count": 0,
          "categories": [
           {
            "name": "No known charges",
            "count": 5
           }
          ]
         }
        },
        {
         "name": "mental_illness",
         "dtype": "object",
         "stats": {
          "unique_count": 1,
          "nan_count": 0,
          "categories": [
           {
            "name": "no",
            "count": 5
           }
          ]
         }
        },
        {
         "name": "armed_unarmed_status",
         "dtype": "object",
         "stats": {
          "unique_count": 1,
          "nan_count": 0,
          "categories": [
           {
            "name": "Allegedly Armed",
            "count": 5
           }
          ]
         }
        },
        {
         "name": "alleged_weapon",
         "dtype": "object",
         "stats": {
          "unique_count": 1,
          "nan_count": 0,
          "categories": [
           {
            "name": "gun",
            "count": 5
           }
          ]
         }
        },
        {
         "name": "alleged_threat_lvl",
         "dtype": "object",
         "stats": {
          "unique_count": 2,
          "nan_count": 0,
          "categories": [
           {
            "name": "attack",
            "count": 3
           },
           {
            "name": "other",
            "count": 2
           }
          ]
         }
        },
        {
         "name": "fleeing",
         "dtype": "object",
         "stats": {
          "unique_count": 2,
          "nan_count": 0,
          "categories": [
           {
            "name": "not fleeing",
            "count": 4
           },
           {
            "name": "car",
            "count": 1
           }
          ]
         }
        },
        {
         "name": "body_camera",
         "dtype": "object",
         "stats": {
          "unique_count": 1,
          "nan_count": 0,
          "categories": [
           {
            "name": "no",
            "count": 5
           }
          ]
         }
        },
        {
         "name": "geography",
         "dtype": "object",
         "stats": {
          "unique_count": 3,
          "nan_count": 0,
          "categories": [
           {
            "name": "Suburban",
            "count": 2
           },
           {
            "name": "Rural",
            "count": 2
           },
           {
            "name": "Urban",
            "count": 1
           }
          ]
         }
        },
        {
         "name": "encounter_type_draft",
         "dtype": "object",
         "stats": {
          "unique_count": 2,
          "nan_count": 0,
          "categories": [
           {
            "name": "part 1 violent crime",
            "count": 4
           },
           {
            "name": "other",
            "count": 1
           }
          ]
         }
        },
        {
         "name": "initial_reported_reason_for_encounter_draft",
         "dtype": "object",
         "stats": {
          "unique_count": 3,
          "nan_count": 0,
          "categories": [
           {
            "name": "shooting",
            "count": 3
           },
           {
            "name": "deliberate car crash",
            "count": 1
           },
           {
            "name": "hostage situation",
            "count": 1
           }
          ]
         }
        },
        {
         "name": "known_past_shootings_of_Officer_draft",
         "dtype": "int64",
         "stats": {
          "unique_count": 1,
          "nan_count": 0,
          "min": "0",
          "max": "0",
          "histogram": [
           {
            "bin_start": -0.5,
            "bin_end": -0.4,
            "count": 0
           },
           {
            "bin_start": -0.4,
            "bin_end": -0.3,
            "count": 0
           },
           {
            "bin_start": -0.3,
            "bin_end": -0.19999999999999996,
            "count": 0
           },
           {
            "bin_start": -0.19999999999999996,
            "bin_end": -0.09999999999999998,
            "count": 0
           },
           {
            "bin_start": -0.09999999999999998,
            "bin_end": 0,
            "count": 0
           },
           {
            "bin_start": 0,
            "bin_end": 0.10000000000000009,
            "count": 5
           },
           {
            "bin_start": 0.10000000000000009,
            "bin_end": 0.20000000000000007,
            "count": 0
           },
           {
            "bin_start": 0.20000000000000007,
            "bin_end": 0.30000000000000004,
            "count": 0
           },
           {
            "bin_start": 0.30000000000000004,
            "bin_end": 0.4,
            "count": 0
           },
           {
            "bin_start": 0.4,
            "bin_end": 0.5,
            "count": 0
           }
          ]
         }
        },
        {
         "name": "_deepnote_index_column",
         "dtype": "int64"
        }
       ],
       "rows_top": [
        {
         "age": "24",
         "gender": "Male",
         "race": "Unknown Race",
         "date": "2021-05-09",
         "city": "Leicester",
         "state": "MA",
         "zipcode": 1524,
         "county": "Worcester",
         "agency_responsible": "Leicester Police Department",
         "cause_of_death": "gunshot",
         "description_of_circumstances": "A man allegedly crashed an SUV into the Leicester Police Station, repeatedly ramming his vehicle into the front doors until he gained entry into the building. Responding officers saw the SUV in the front door and encountered the man. Police claim the man placed a rifle on his shoulder and aimed it at the officers. The police officers shot and killed him.",
         "official_disposition": "Pending investigation",
         "criminal_charges_filed": "No known charges",
         "mental_illness": "no",
         "armed_unarmed_status": "Allegedly Armed",
         "alleged_weapon": "gun",
         "alleged_threat_lvl": "attack",
         "fleeing": "not fleeing",
         "body_camera": "no",
         "geography": "Suburban",
         "encounter_type_draft": "other",
         "initial_reported_reason_for_encounter_draft": "deliberate car crash",
         "known_past_shootings_of_Officer_draft": 0,
         "_deepnote_index_column": 0
        },
        {
         "age": "52",
         "gender": "Male",
         "race": "Unknown Race",
         "date": "2021-05-07",
         "city": "Rutledge",
         "state": "TN",
         "zipcode": 37861,
         "county": "Grainger",
         "agency_responsible": "Bean Station Police Department, Rutledge Police Department",
         "cause_of_death": "gunshot",
         "description_of_circumstances": "Deputies responded to reports of a man shooting a gun inside a home. When deputies arrived, they made contact with the man. While encountering the subject, an officer with the Bean Station PD and an officer with Rutledge PD fired at the man, killing him. No other details are available concerning the shooting at this time. ",
         "official_disposition": "Pending investigation",
         "criminal_charges_filed": "No known charges",
         "mental_illness": "no",
         "armed_unarmed_status": "Allegedly Armed",
         "alleged_weapon": "gun",
         "alleged_threat_lvl": "attack",
         "fleeing": "not fleeing",
         "body_camera": "no",
         "geography": "Rural",
         "encounter_type_draft": "part 1 violent crime",
         "initial_reported_reason_for_encounter_draft": "shooting",
         "known_past_shootings_of_Officer_draft": 0,
         "_deepnote_index_column": 1
        },
        {
         "age": "47",
         "gender": "Male",
         "race": "White",
         "date": "2021-05-06",
         "city": "San Andreas",
         "state": "CA",
         "zipcode": 95249,
         "county": "Calaveras",
         "agency_responsible": "Calaveras County Sheriff's Office",
         "cause_of_death": "gunshot",
         "description_of_circumstances": "Around 10:30 p.m., dispatchers got a call about an argument between a man and a woman at the Sierra Inn Motel. During the incident, the man allegedly pointed a gun at the woman's head. The suspect left before deputies arrived. A search started, and the man shot a deputy who was interviewing the victim. Police started searching the apartment complex. Eventually, the man emerged from an apartment holding an elderly woman hostage with a gun. Officers shot and killed Mark Aitulagi Lavea and shot and wounded the hostage.",
         "official_disposition": "Pending investigation",
         "criminal_charges_filed": "No known charges",
         "mental_illness": "no",
         "armed_unarmed_status": "Allegedly Armed",
         "alleged_weapon": "gun",
         "alleged_threat_lvl": "other",
         "fleeing": "not fleeing",
         "body_camera": "no",
         "geography": "Rural",
         "encounter_type_draft": "part 1 violent crime",
         "initial_reported_reason_for_encounter_draft": "hostage situation",
         "known_past_shootings_of_Officer_draft": 0,
         "_deepnote_index_column": 2
        },
        {
         "age": "49",
         "gender": "Male",
         "race": "White",
         "date": "2021-05-05",
         "city": "Las Vegas",
         "state": "NV",
         "zipcode": 89104,
         "county": "Clark",
         "agency_responsible": "Las Vegas Metropolitan Police Department",
         "cause_of_death": "gunshot",
         "description_of_circumstances": "Officers responded to a report of gunshots at an apartment complex. Arriving officers allegedly encountered two men running through the complex, one of whom they claim was armed with a firearm. The two men were taken into custody and informed officers they were shot at by Holt. Officers went to Holt's apartment and allegedly witnessed him fire one round before going back inside. Officers began to set up a perimeter, when Holt allegedly exited the apartment with a gun. Officer Erik Lindberg shot and killed Holt. ",
         "official_disposition": "Pending investigation",
         "criminal_charges_filed": "No known charges",
         "mental_illness": "no",
         "armed_unarmed_status": "Allegedly Armed",
         "alleged_weapon": "gun",
         "alleged_threat_lvl": "attack",
         "fleeing": "not fleeing",
         "body_camera": "no",
         "geography": "Urban",
         "encounter_type_draft": "part 1 violent crime",
         "initial_reported_reason_for_encounter_draft": "shooting",
         "known_past_shootings_of_Officer_draft": 0,
         "_deepnote_index_column": 3
        },
        {
         "age": "30",
         "gender": "Male",
         "race": "Black",
         "date": "2021-05-03",
         "city": "Biloxi",
         "state": "MS",
         "zipcode": 39532,
         "county": "Harrison",
         "agency_responsible": "Biloxi Police Department",
         "cause_of_death": "gunshot",
         "description_of_circumstances": "Police were searching for an alleged kidnapper and double-murder suspect, Eric Smith. Smith was killed he exchanged gunfire with officers. Police also shot and killed the baby La'Mello Parker.",
         "official_disposition": "Pending investigation",
         "criminal_charges_filed": "No known charges",
         "mental_illness": "no",
         "armed_unarmed_status": "Allegedly Armed",
         "alleged_weapon": "gun",
         "alleged_threat_lvl": "other",
         "fleeing": "car",
         "body_camera": "no",
         "geography": "Suburban",
         "encounter_type_draft": "part 1 violent crime",
         "initial_reported_reason_for_encounter_draft": "shooting",
         "known_past_shootings_of_Officer_draft": 0,
         "_deepnote_index_column": 4
        }
       ],
       "rows_bottom": null
      },
      "text/plain": "  age gender          race        date         city state  zipcode     county  \\\n0  24   Male  Unknown Race  2021-05-09    Leicester    MA   1524.0  Worcester   \n1  52   Male  Unknown Race  2021-05-07     Rutledge    TN  37861.0   Grainger   \n2  47   Male         White  2021-05-06  San Andreas    CA  95249.0  Calaveras   \n3  49   Male         White  2021-05-05    Las Vegas    NV  89104.0      Clark   \n4  30   Male         Black  2021-05-03       Biloxi    MS  39532.0   Harrison   \n\n                                  agency_responsible cause_of_death  ...  \\\n0                        Leicester Police Department        gunshot  ...   \n1  Bean Station Police Department, Rutledge Polic...        gunshot  ...   \n2                  Calaveras County Sheriff's Office        gunshot  ...   \n3           Las Vegas Metropolitan Police Department        gunshot  ...   \n4                           Biloxi Police Department        gunshot  ...   \n\n  mental_illness armed_unarmed_status alleged_weapon alleged_threat_lvl  \\\n0             no      Allegedly Armed            gun             attack   \n1             no      Allegedly Armed            gun             attack   \n2             no      Allegedly Armed            gun              other   \n3             no      Allegedly Armed            gun             attack   \n4             no      Allegedly Armed            gun              other   \n\n       fleeing body_camera geography  encounter_type_draft  \\\n0  not fleeing          no  Suburban                 other   \n1  not fleeing          no     Rural  part 1 violent crime   \n2  not fleeing          no     Rural  part 1 violent crime   \n3  not fleeing          no     Urban  part 1 violent crime   \n4          car          no  Suburban  part 1 violent crime   \n\n  initial_reported_reason_for_encounter_draft  \\\n0                        deliberate car crash   \n1                                    shooting   \n2                           hostage situation   \n3                                    shooting   \n4                                    shooting   \n\n  known_past_shootings_of_Officer_draft  \n0                                     0  \n1                                     0  \n2                                     0  \n3                                     0  \n4                                     0  \n\n[5 rows x 23 columns]",
      "text/html": "<div>\n<style scoped>\n    .dataframe tbody tr th:only-of-type {\n        vertical-align: middle;\n    }\n\n    .dataframe tbody tr th {\n        vertical-align: top;\n    }\n\n    .dataframe thead th {\n        text-align: right;\n    }\n</style>\n<table border=\"1\" class=\"dataframe\">\n  <thead>\n    <tr style=\"text-align: right;\">\n      <th></th>\n      <th>age</th>\n      <th>gender</th>\n      <th>race</th>\n      <th>date</th>\n      <th>city</th>\n      <th>state</th>\n      <th>zipcode</th>\n      <th>county</th>\n      <th>agency_responsible</th>\n      <th>cause_of_death</th>\n      <th>...</th>\n      <th>mental_illness</th>\n      <th>armed_unarmed_status</th>\n      <th>alleged_weapon</th>\n      <th>alleged_threat_lvl</th>\n      <th>fleeing</th>\n      <th>body_camera</th>\n      <th>geography</th>\n      <th>encounter_type_draft</th>\n      <th>initial_reported_reason_for_encounter_draft</th>\n      <th>known_past_shootings_of_Officer_draft</th>\n    </tr>\n  </thead>\n  <tbody>\n    <tr>\n      <th>0</th>\n      <td>24</td>\n      <td>Male</td>\n      <td>Unknown Race</td>\n      <td>2021-05-09</td>\n      <td>Leicester</td>\n      <td>MA</td>\n      <td>1524.0</td>\n      <td>Worcester</td>\n      <td>Leicester Police Department</td>\n      <td>gunshot</td>\n      <td>...</td>\n      <td>no</td>\n      <td>Allegedly Armed</td>\n      <td>gun</td>\n      <td>attack</td>\n      <td>not fleeing</td>\n      <td>no</td>\n      <td>Suburban</td>\n      <td>other</td>\n      <td>deliberate car crash</td>\n      <td>0</td>\n    </tr>\n    <tr>\n      <th>1</th>\n      <td>52</td>\n      <td>Male</td>\n      <td>Unknown Race</td>\n      <td>2021-05-07</td>\n      <td>Rutledge</td>\n      <td>TN</td>\n      <td>37861.0</td>\n      <td>Grainger</td>\n      <td>Bean Station Police Department, Rutledge Polic...</td>\n      <td>gunshot</td>\n      <td>...</td>\n      <td>no</td>\n      <td>Allegedly Armed</td>\n      <td>gun</td>\n      <td>attack</td>\n      <td>not fleeing</td>\n      <td>no</td>\n      <td>Rural</td>\n      <td>part 1 violent crime</td>\n      <td>shooting</td>\n      <td>0</td>\n    </tr>\n    <tr>\n      <th>2</th>\n      <td>47</td>\n      <td>Male</td>\n      <td>White</td>\n      <td>2021-05-06</td>\n      <td>San Andreas</td>\n      <td>CA</td>\n      <td>95249.0</td>\n      <td>Calaveras</td>\n      <td>Calaveras County Sheriff's Office</td>\n      <td>gunshot</td>\n      <td>...</td>\n      <td>no</td>\n      <td>Allegedly Armed</td>\n      <td>gun</td>\n      <td>other</td>\n      <td>not fleeing</td>\n      <td>no</td>\n      <td>Rural</td>\n      <td>part 1 violent crime</td>\n      <td>hostage situation</td>\n      <td>0</td>\n    </tr>\n    <tr>\n      <th>3</th>\n      <td>49</td>\n      <td>Male</td>\n      <td>White</td>\n      <td>2021-05-05</td>\n      <td>Las Vegas</td>\n      <td>NV</td>\n      <td>89104.0</td>\n      <td>Clark</td>\n      <td>Las Vegas Metropolitan Police Department</td>\n      <td>gunshot</td>\n      <td>...</td>\n      <td>no</td>\n      <td>Allegedly Armed</td>\n      <td>gun</td>\n      <td>attack</td>\n      <td>not fleeing</td>\n      <td>no</td>\n      <td>Urban</td>\n      <td>part 1 violent crime</td>\n      <td>shooting</td>\n      <td>0</td>\n    </tr>\n    <tr>\n      <th>4</th>\n      <td>30</td>\n      <td>Male</td>\n      <td>Black</td>\n      <td>2021-05-03</td>\n      <td>Biloxi</td>\n      <td>MS</td>\n      <td>39532.0</td>\n      <td>Harrison</td>\n      <td>Biloxi Police Department</td>\n      <td>gunshot</td>\n      <td>...</td>\n      <td>no</td>\n      <td>Allegedly Armed</td>\n      <td>gun</td>\n      <td>other</td>\n      <td>car</td>\n      <td>no</td>\n      <td>Suburban</td>\n      <td>part 1 violent crime</td>\n      <td>shooting</td>\n      <td>0</td>\n    </tr>\n  </tbody>\n</table>\n<p>5 rows × 23 columns</p>\n</div>"
     },
     "metadata": {}
    }
   ]
  },
  {
   "cell_type": "code",
   "metadata": {
    "tags": [],
    "cell_id": "00001-2f077b88-4413-4f11-9711-7beace618ace",
    "deepnote_cell_type": "code"
   },
   "source": "",
   "execution_count": null,
   "outputs": []
  },
  {
   "cell_type": "markdown",
   "source": "<a style='text-decoration:none;line-height:16px;display:flex;color:#5B5B62;padding:10px;justify-content:end;' href='https://deepnote.com?utm_source=created-in-deepnote-cell&projectId=258e71fc-cf2b-48c3-8461-70ecd9787aa1' target=\"_blank\">\n<img alt='Created in deepnote.com' style='display:inline;max-height:16px;margin:0px;margin-right:7.5px;' src='data:image/svg+xml;base64,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' > </img>\nCreated in <span style='font-weight:600;margin-left:4px;'>Deepnote</span></a>",
   "metadata": {
    "tags": [],
    "created_in_deepnote_cell": true,
    "deepnote_cell_type": "markdown"
   }
  }
 ],
 "nbformat": 4,
 "nbformat_minor": 2,
 "metadata": {
  "orig_nbformat": 2,
  "deepnote": {
   "is_reactive": false
  },
  "deepnote_notebook_id": "53e3a18a-9995-4491-955b-7ab2995c2565",
  "deepnote_execution_queue": []
 }
}