{
 "cells": [
  {
   "cell_type": "code",
   "metadata": {
    "tags": [],
    "cell_id": "00000-afe51ce7-bf2f-4535-a76c-beeeecb0f248",
    "deepnote_to_be_reexecuted": false,
    "source_hash": "864c6ca2",
    "execution_start": 1621959010942,
    "execution_millis": 1595,
    "deepnote_cell_type": "code"
   },
   "source": "import pandas as pd\nimport numpy as np\n\n# Helper Functions\nimport wrangle as w \nimport explore as exp\nfrom explore import rfe, split, select_kbest\n\n# Visualizations\nimport seaborn as sns\nimport matplotlib.pyplot as plt\n\n# Hypothesis tests\nfrom scipy import stats\nfrom scipy.stats import chi2_contingency\nfrom scipy.stats import ttest_1samp\nfrom scipy.stats import ttest_ind\n\n#Feature Engineering\nfrom sklearn.feature_selection import SelectKBest, f_regression, chi2\nfrom sklearn.linear_model import LogisticRegression, SGDClassifier\nfrom sklearn.feature_selection import RFE\nfrom scipy import stats\n\n# Split data\nfrom sklearn.model_selection import train_test_split\n\n# Evaluate models\nfrom sklearn.metrics import confusion_matrix\nfrom sklearn.metrics import classification_report\nfrom sklearn.metrics import accuracy_score\nfrom sklearn.metrics import precision_score\nfrom sklearn.metrics import recall_score\nfrom sklearn.metrics import f1_score\nfrom sklearn.metrics import precision_recall_fscore_support \n\n# Create models for classification ML:\n# Decision Tree  \nfrom sklearn.tree import DecisionTreeClassifier\nfrom sklearn.tree import export_graphviz\n\n# Random Forest\nfrom sklearn.ensemble import RandomForestClassifier\n\n# K-Nearest Neighbor(KNN)  \nfrom sklearn.neighbors import KNeighborsClassifier\n\n# Logistic Regression\nfrom sklearn.linear_model import LogisticRegression",
   "execution_count": null,
   "outputs": []
  },
  {
   "cell_type": "code",
   "metadata": {
    "tags": [],
    "cell_id": "00001-25082157-824e-43c1-a14e-c6627b655cef",
    "deepnote_to_be_reexecuted": false,
    "source_hash": "82eeda13",
    "execution_start": 1621959012540,
    "execution_millis": 119,
    "deepnote_cell_type": "code"
   },
   "source": "df = w.wrangle_data(cached=True)",
   "execution_count": null,
   "outputs": []
  },
  {
   "cell_type": "code",
   "metadata": {
    "tags": [],
    "cell_id": "00002-4a3d20f1-7c99-4fbb-a6e9-f87319d0cb48",
    "deepnote_to_be_reexecuted": false,
    "source_hash": "8fb9d845",
    "execution_start": 1621959012662,
    "execution_millis": 9,
    "deepnote_cell_type": "code"
   },
   "source": "df.drop(columns=['Unnamed: 0'], inplace=True)",
   "execution_count": null,
   "outputs": []
  },
  {
   "cell_type": "code",
   "metadata": {
    "tags": [],
    "cell_id": "00002-6bfd7d89-37a8-403c-9b22-989d8c76e850",
    "deepnote_to_be_reexecuted": false,
    "source_hash": "f3dd26da",
    "execution_start": 1621959012682,
    "execution_millis": 20,
    "deepnote_cell_type": "code"
   },
   "source": "df.isnull().sum()",
   "execution_count": null,
   "outputs": [
    {
     "output_type": "execute_result",
     "execution_count": 4,
     "data": {
      "text/plain": "age                                            0\ngender                                         0\nrace                                           0\ndate                                           0\ncity                                           0\nstate                                          0\nzipcode                                        0\ncounty                                         0\nagency_responsible                             0\ncause_of_death                                 0\ndescription_of_circumstances                   0\nofficial_disposition                           0\ncriminal_charges_filed                         0\nmental_illness                                 0\narmed_unarmed_status                           0\nalleged_weapon                                 0\nalleged_threat_lvl                             0\nfleeing                                        0\nbody_camera                                    0\ngeography                                      0\nencounter_type_draft                           0\ninitial_reported_reason_for_encounter_draft    0\nknown_past_shootings_of_officer_draft          0\nis_female                                      0\nis_male                                        0\nis_transgender                                 0\nwas_fleeing                                    0\nwas_not fleeing                                0\nwas_allegedly_armed                            0\nwas_unarmed                                    0\nwas_vehicle                                    0\nwas_domestic_disturbance                       0\nwas_mental_health_welfare_check                0\nwas_person_with_a_weapon                       0\nwas_traffic_stop                               0\nwas_violent_crime_part_1                       0\nis_asian/pacific islander                      0\nis_black                                       0\nis_hispanic                                    0\nis_native american                             0\nis_unknown race                                0\nis_white                                       0\nmntlill_drug or alcohol use                    0\nmntlill_no                                     0\nmntlill_unknown                                0\nmntlill_yes                                    0\nrural                                          0\nsuburban                                       0\nurban                                          0\ncod_lethal                                     0\nage_bins                                       0\nunknown                                        0\nunder 12                                       0\n12-17                                          0\n18-24                                          0\n25-34                                          0\n35-44                                          0\n45-54                                          0\n55-64                                          0\n65+                                            0\ndtype: int64"
     },
     "metadata": {}
    }
   ]
  },
  {
   "cell_type": "code",
   "metadata": {
    "tags": [],
    "cell_id": "00003-861c6add-03ca-4dbf-b4a3-9eead71c3e7e",
    "deepnote_to_be_reexecuted": false,
    "source_hash": "2a21e0e6",
    "execution_start": 1621959012708,
    "execution_millis": 45,
    "deepnote_cell_type": "code"
   },
   "source": "df.age.value_counts()",
   "execution_count": null,
   "outputs": [
    {
     "output_type": "execute_result",
     "execution_count": 5,
     "data": {
      "text/plain": "25     280\n0      279\n27     275\n28     275\n31     275\n      ... \n88       1\n93       1\n85       1\n107      1\n95       1\nName: age, Length: 88, dtype: int64"
     },
     "metadata": {}
    }
   ]
  },
  {
   "cell_type": "code",
   "metadata": {
    "tags": [],
    "cell_id": "00007-4cfb6dc6-6394-45e7-93d9-ddea660ec5be",
    "deepnote_to_be_reexecuted": false,
    "source_hash": "48919f60",
    "execution_start": 1621959012717,
    "execution_millis": 36,
    "deepnote_cell_type": "code"
   },
   "source": "df.age_bins.value_counts()",
   "execution_count": null,
   "outputs": [
    {
     "output_type": "execute_result",
     "execution_count": 6,
     "data": {
      "text/plain": "25-34       2697\n35-44       2005\n18-24       1289\n45-54       1278\n55-64        652\nunknown      279\n65+          267\n12-17        155\nunder 12      12\nName: age_bins, dtype: int64"
     },
     "metadata": {}
    }
   ]
  },
  {
   "cell_type": "code",
   "metadata": {
    "tags": [],
    "cell_id": "00006-d103c388-047e-4fd7-bd41-a3af5340dce3",
    "deepnote_to_be_reexecuted": false,
    "source_hash": "25d43fa0",
    "execution_start": 1621959012779,
    "execution_millis": 42,
    "deepnote_cell_type": "code"
   },
   "source": "df.columns",
   "execution_count": null,
   "outputs": [
    {
     "output_type": "execute_result",
     "execution_count": 7,
     "data": {
      "text/plain": "Index(['age', 'gender', 'race', 'date', 'city', 'state', 'zipcode', 'county',\n       'agency_responsible', 'cause_of_death', 'description_of_circumstances',\n       'official_disposition', 'criminal_charges_filed', 'mental_illness',\n       'armed_unarmed_status', 'alleged_weapon', 'alleged_threat_lvl',\n       'fleeing', 'body_camera', 'geography', 'encounter_type_draft',\n       'initial_reported_reason_for_encounter_draft',\n       'known_past_shootings_of_officer_draft', 'is_female', 'is_male',\n       'is_transgender', 'was_fleeing', 'was_not fleeing ',\n       'was_allegedly_armed', 'was_unarmed', 'was_vehicle',\n       'was_domestic_disturbance', 'was_mental_health_welfare_check',\n       'was_person_with_a_weapon', 'was_traffic_stop',\n       'was_violent_crime_part_1', 'is_asian/pacific islander', 'is_black',\n       'is_hispanic', 'is_native american', 'is_unknown race', 'is_white',\n       'mntlill_drug or alcohol use', 'mntlill_no', 'mntlill_unknown',\n       'mntlill_yes', 'rural', 'suburban', 'urban', 'cod_lethal', 'age_bins',\n       'unknown', 'under 12', '12-17', '18-24', '25-34', '35-44', '45-54',\n       '55-64', '65+'],\n      dtype='object')"
     },
     "metadata": {}
    }
   ]
  },
  {
   "cell_type": "code",
   "metadata": {
    "tags": [],
    "cell_id": "00006-919db769-656a-4eab-bb10-d9c631e9331c",
    "deepnote_to_be_reexecuted": false,
    "source_hash": "fb9b34ba",
    "execution_start": 1621959012780,
    "execution_millis": 1,
    "deepnote_cell_type": "code"
   },
   "source": "from explore import rfe, split, select_kbest",
   "execution_count": null,
   "outputs": []
  },
  {
   "cell_type": "code",
   "metadata": {
    "tags": [],
    "cell_id": "00007-2b4cf507-9fcb-46d5-99ad-3871b80180d8",
    "deepnote_to_be_reexecuted": false,
    "source_hash": "61bca6e2",
    "execution_start": 1621959012781,
    "execution_millis": 0,
    "deepnote_cell_type": "code"
   },
   "source": "train, validate, test = split(df, stratify_by='alleged_threat_lvl')",
   "execution_count": null,
   "outputs": []
  },
  {
   "cell_type": "code",
   "metadata": {
    "tags": [],
    "cell_id": "00008-dfce7d04-b461-49d8-8573-075ffde11aed",
    "deepnote_to_be_reexecuted": false,
    "source_hash": "68e62203",
    "execution_start": 1621959012788,
    "execution_millis": 1,
    "deepnote_cell_type": "code"
   },
   "source": "\ndef split_df(df, target, seed):\n    '''\n    split_df will take one argument(df) and \n    then split our data into 20/80, \n    then split the 80% into 30/70\n    performs a train, validate, test split\n    splits each of the 3 samples into a dataframe with independent variables\n    and a series with the dependent, or target variable. \n    The function returns 6 dataframes and 3 series:\n    train, validate, test split, X_train (df) & y_train (series), X_validate & y_validate, X_test & y_test. \n    '''\n    # Train, Validate, and test\n    train_and_validate, test = train_test_split(df, test_size=0.2, random_state=seed)\n    train, validate = train_test_split(train_and_validate, test_size=0.3, random_state=seed)\n    # Split with X and y\n    X_train = train.drop(columns=[target])\n    y_train = train[target]\n    X_validate = validate.drop(columns=[target])\n    y_validate = validate[target]\n    X_test = test.drop(columns=[target])\n    y_test = test[target]\n    return train, validate, test, X_train, y_train, X_validate, y_validate, X_test, y_test ",
   "execution_count": null,
   "outputs": []
  },
  {
   "cell_type": "code",
   "metadata": {
    "tags": [],
    "cell_id": "00009-ab50d1b3-ba5d-40ca-92ea-25209c4247ce",
    "deepnote_to_be_reexecuted": false,
    "source_hash": "4ca76457",
    "execution_start": 1621959012789,
    "execution_millis": 46,
    "deepnote_cell_type": "code"
   },
   "source": "\ntrain, validate, test, X_train, y_train, X_validate, y_validate, X_test, y_test = split_df(df, 'alleged_threat_lvl', 42)",
   "execution_count": null,
   "outputs": []
  },
  {
   "cell_type": "code",
   "metadata": {
    "tags": [],
    "cell_id": "00010-3d397d72-f255-46c4-90ee-f665b09d8778",
    "deepnote_to_be_reexecuted": false,
    "source_hash": "89d68b10",
    "execution_start": 1621959012857,
    "execution_millis": 21103,
    "deepnote_cell_type": "code"
   },
   "source": "#y_",
   "execution_count": null,
   "outputs": []
  },
  {
   "cell_type": "code",
   "metadata": {
    "tags": [],
    "cell_id": "00010-a4c560cb-74e2-44a1-9b39-e5de15e68b7b",
    "deepnote_to_be_reexecuted": false,
    "source_hash": "3ca3de2b",
    "execution_start": 1621959012858,
    "execution_millis": 33,
    "deepnote_cell_type": "code"
   },
   "source": "X_train.info()",
   "execution_count": null,
   "outputs": [
    {
     "name": "stdout",
     "text": "<class 'pandas.core.frame.DataFrame'>\nInt64Index: 4834 entries, 5178 to 5212\nData columns (total 59 columns):\n #   Column                                       Non-Null Count  Dtype  \n---  ------                                       --------------  -----  \n 0   age                                          4834 non-null   int64  \n 1   gender                                       4834 non-null   object \n 2   race                                         4834 non-null   object \n 3   date                                         4834 non-null   object \n 4   city                                         4834 non-null   object \n 5   state                                        4834 non-null   object \n 6   zipcode                                      4834 non-null   float64\n 7   county                                       4834 non-null   object \n 8   agency_responsible                           4834 non-null   object \n 9   cause_of_death                               4834 non-null   object \n 10  description_of_circumstances                 4834 non-null   object \n 11  official_disposition                         4834 non-null   object \n 12  criminal_charges_filed                       4834 non-null   object \n 13  mental_illness                               4834 non-null   object \n 14  armed_unarmed_status                         4834 non-null   object \n 15  alleged_weapon                               4834 non-null   object \n 16  fleeing                                      4834 non-null   object \n 17  body_camera                                  4834 non-null   float64\n 18  geography                                    4834 non-null   object \n 19  encounter_type_draft                         4834 non-null   object \n 20  initial_reported_reason_for_encounter_draft  4834 non-null   object \n 21  known_past_shootings_of_officer_draft        4834 non-null   int64  \n 22  is_female                                    4834 non-null   int64  \n 23  is_male                                      4834 non-null   int64  \n 24  is_transgender                               4834 non-null   int64  \n 25  was_fleeing                                  4834 non-null   float64\n 26  was_not fleeing                              4834 non-null   float64\n 27  was_allegedly_armed                          4834 non-null   float64\n 28  was_unarmed                                  4834 non-null   float64\n 29  was_vehicle                                  4834 non-null   float64\n 30  was_domestic_disturbance                     4834 non-null   int64  \n 31  was_mental_health_welfare_check              4834 non-null   int64  \n 32  was_person_with_a_weapon                     4834 non-null   int64  \n 33  was_traffic_stop                             4834 non-null   int64  \n 34  was_violent_crime_part_1                     4834 non-null   int64  \n 35  is_asian/pacific islander                    4834 non-null   int64  \n 36  is_black                                     4834 non-null   int64  \n 37  is_hispanic                                  4834 non-null   int64  \n 38  is_native american                           4834 non-null   int64  \n 39  is_unknown race                              4834 non-null   int64  \n 40  is_white                                     4834 non-null   int64  \n 41  mntlill_drug or alcohol use                  4834 non-null   int64  \n 42  mntlill_no                                   4834 non-null   int64  \n 43  mntlill_unknown                              4834 non-null   int64  \n 44  mntlill_yes                                  4834 non-null   int64  \n 45  rural                                        4834 non-null   float64\n 46  suburban                                     4834 non-null   float64\n 47  urban                                        4834 non-null   float64\n 48  cod_lethal                                   4834 non-null   int64  \n 49  age_bins                                     4834 non-null   object \n 50  unknown                                      4834 non-null   int64  \n 51  under 12                                     4834 non-null   int64  \n 52  12-17                                        4834 non-null   int64  \n 53  18-24                                        4834 non-null   int64  \n 54  25-34                                        4834 non-null   int64  \n 55  35-44                                        4834 non-null   int64  \n 56  45-54                                        4834 non-null   int64  \n 57  55-64                                        4834 non-null   int64  \n 58  65+                                          4834 non-null   int64  \ndtypes: float64(10), int64(30), object(19)\nmemory usage: 2.2+ MB\n",
     "output_type": "stream"
    }
   ]
  },
  {
   "cell_type": "code",
   "metadata": {
    "tags": [],
    "cell_id": "00010-a3624a05-3055-40b0-bd52-769edb43f3aa",
    "deepnote_to_be_reexecuted": false,
    "source_hash": "576f2697",
    "execution_start": 1621959012867,
    "execution_millis": 0,
    "deepnote_cell_type": "code"
   },
   "source": "from sklearn.feature_selection import f_regression, RFE, SelectKBest",
   "execution_count": null,
   "outputs": []
  },
  {
   "cell_type": "code",
   "metadata": {
    "tags": [],
    "cell_id": "00011-d305c63a-99ca-4dd8-ba9c-c544bdd68c9b",
    "deepnote_to_be_reexecuted": false,
    "source_hash": "1039a82",
    "execution_start": 1621959012868,
    "execution_millis": 31,
    "deepnote_cell_type": "code"
   },
   "source": "list(df.columns)",
   "execution_count": null,
   "outputs": [
    {
     "output_type": "execute_result",
     "execution_count": 15,
     "data": {
      "text/plain": "['age',\n 'gender',\n 'race',\n 'date',\n 'city',\n 'state',\n 'zipcode',\n 'county',\n 'agency_responsible',\n 'cause_of_death',\n 'description_of_circumstances',\n 'official_disposition',\n 'criminal_charges_filed',\n 'mental_illness',\n 'armed_unarmed_status',\n 'alleged_weapon',\n 'alleged_threat_lvl',\n 'fleeing',\n 'body_camera',\n 'geography',\n 'encounter_type_draft',\n 'initial_reported_reason_for_encounter_draft',\n 'known_past_shootings_of_officer_draft',\n 'is_female',\n 'is_male',\n 'is_transgender',\n 'was_fleeing',\n 'was_not fleeing ',\n 'was_allegedly_armed',\n 'was_unarmed',\n 'was_vehicle',\n 'was_domestic_disturbance',\n 'was_mental_health_welfare_check',\n 'was_person_with_a_weapon',\n 'was_traffic_stop',\n 'was_violent_crime_part_1',\n 'is_asian/pacific islander',\n 'is_black',\n 'is_hispanic',\n 'is_native american',\n 'is_unknown race',\n 'is_white',\n 'mntlill_drug or alcohol use',\n 'mntlill_no',\n 'mntlill_unknown',\n 'mntlill_yes',\n 'rural',\n 'suburban',\n 'urban',\n 'cod_lethal',\n 'age_bins',\n 'unknown',\n 'under 12',\n '12-17',\n '18-24',\n '25-34',\n '35-44',\n '45-54',\n '55-64',\n '65+']"
     },
     "metadata": {}
    }
   ]
  },
  {
   "cell_type": "code",
   "metadata": {
    "tags": [],
    "cell_id": "00012-775bc13b-cecb-4bf7-81eb-31f4c4d288c9",
    "deepnote_to_be_reexecuted": false,
    "source_hash": "368ac104",
    "execution_start": 1621959012868,
    "execution_millis": 1,
    "deepnote_cell_type": "code"
   },
   "source": "dropcols = ['date',\n 'gender',\n 'race',\n 'city',\n 'state',\n 'zipcode',\n 'county',\n 'agency_responsible',\n 'cause_of_death',\n 'description_of_circumstances',\n 'official_disposition',\n 'criminal_charges_filed',\n 'mental_illness',\n 'armed_unarmed_status',\n 'alleged_threat_lvl',\n 'alleged_weapon',\n 'fleeing',\n 'geography',\n 'encounter_type_draft',\n 'initial_reported_reason_for_encounter_draft',\n 'known_past_shootings_of_officer_draft',\n 'age_bins']\n",
   "execution_count": null,
   "outputs": []
  },
  {
   "cell_type": "code",
   "metadata": {
    "tags": [],
    "cell_id": "00014-06b8fccd-5774-4439-a81a-007dec60dc95",
    "deepnote_to_be_reexecuted": false,
    "source_hash": "d330f65b",
    "execution_start": 1621959012874,
    "execution_millis": 0,
    "deepnote_cell_type": "code"
   },
   "source": "train2 = train.drop(columns=dropcols)\nvalidate2 = validate.drop(columns=dropcols)\ntest2 = test.drop(columns=dropcols)",
   "execution_count": null,
   "outputs": []
  },
  {
   "cell_type": "code",
   "metadata": {
    "tags": [],
    "cell_id": "00014-3c66ed67-6a30-474b-8c08-cfb4ca02b97e",
    "deepnote_to_be_reexecuted": false,
    "source_hash": "569ea54a",
    "execution_start": 1621959012917,
    "execution_millis": 15,
    "deepnote_cell_type": "code"
   },
   "source": "train2.info()",
   "execution_count": null,
   "outputs": [
    {
     "name": "stdout",
     "text": "<class 'pandas.core.frame.DataFrame'>\nInt64Index: 4834 entries, 5178 to 5212\nData columns (total 38 columns):\n #   Column                           Non-Null Count  Dtype  \n---  ------                           --------------  -----  \n 0   age                              4834 non-null   int64  \n 1   body_camera                      4834 non-null   float64\n 2   is_female                        4834 non-null   int64  \n 3   is_male                          4834 non-null   int64  \n 4   is_transgender                   4834 non-null   int64  \n 5   was_fleeing                      4834 non-null   float64\n 6   was_not fleeing                  4834 non-null   float64\n 7   was_allegedly_armed              4834 non-null   float64\n 8   was_unarmed                      4834 non-null   float64\n 9   was_vehicle                      4834 non-null   float64\n 10  was_domestic_disturbance         4834 non-null   int64  \n 11  was_mental_health_welfare_check  4834 non-null   int64  \n 12  was_person_with_a_weapon         4834 non-null   int64  \n 13  was_traffic_stop                 4834 non-null   int64  \n 14  was_violent_crime_part_1         4834 non-null   int64  \n 15  is_asian/pacific islander        4834 non-null   int64  \n 16  is_black                         4834 non-null   int64  \n 17  is_hispanic                      4834 non-null   int64  \n 18  is_native american               4834 non-null   int64  \n 19  is_unknown race                  4834 non-null   int64  \n 20  is_white                         4834 non-null   int64  \n 21  mntlill_drug or alcohol use      4834 non-null   int64  \n 22  mntlill_no                       4834 non-null   int64  \n 23  mntlill_unknown                  4834 non-null   int64  \n 24  mntlill_yes                      4834 non-null   int64  \n 25  rural                            4834 non-null   float64\n 26  suburban                         4834 non-null   float64\n 27  urban                            4834 non-null   float64\n 28  cod_lethal                       4834 non-null   int64  \n 29  unknown                          4834 non-null   int64  \n 30  under 12                         4834 non-null   int64  \n 31  12-17                            4834 non-null   int64  \n 32  18-24                            4834 non-null   int64  \n 33  25-34                            4834 non-null   int64  \n 34  35-44                            4834 non-null   int64  \n 35  45-54                            4834 non-null   int64  \n 36  55-64                            4834 non-null   int64  \n 37  65+                              4834 non-null   int64  \ndtypes: float64(9), int64(29)\nmemory usage: 1.4 MB\n",
     "output_type": "stream"
    }
   ]
  },
  {
   "cell_type": "code",
   "metadata": {
    "tags": [],
    "cell_id": "00014-73c67511-909b-4b82-ae40-277da93d8f6c",
    "deepnote_to_be_reexecuted": false,
    "source_hash": "b18318e7",
    "execution_start": 1621959012966,
    "execution_millis": 7,
    "deepnote_cell_type": "code"
   },
   "source": "train2.columns",
   "execution_count": null,
   "outputs": [
    {
     "output_type": "execute_result",
     "execution_count": 19,
     "data": {
      "text/plain": "Index(['age', 'body_camera', 'is_female', 'is_male', 'is_transgender',\n       'was_fleeing', 'was_not fleeing ', 'was_allegedly_armed', 'was_unarmed',\n       'was_vehicle', 'was_domestic_disturbance',\n       'was_mental_health_welfare_check', 'was_person_with_a_weapon',\n       'was_traffic_stop', 'was_violent_crime_part_1',\n       'is_asian/pacific islander', 'is_black', 'is_hispanic',\n       'is_native american', 'is_unknown race', 'is_white',\n       'mntlill_drug or alcohol use', 'mntlill_no', 'mntlill_unknown',\n       'mntlill_yes', 'rural', 'suburban', 'urban', 'cod_lethal', 'unknown',\n       'under 12', '12-17', '18-24', '25-34', '35-44', '45-54', '55-64',\n       '65+'],\n      dtype='object')"
     },
     "metadata": {}
    }
   ]
  },
  {
   "cell_type": "code",
   "metadata": {
    "tags": [],
    "cell_id": "00020-3592d1b1-6e38-4bcb-9bb8-7be199f59179",
    "deepnote_to_be_reexecuted": false,
    "source_hash": "c5522482",
    "execution_start": 1621959012967,
    "execution_millis": 7,
    "deepnote_cell_type": "code"
   },
   "source": "f_feature = select_kbest(train2, y_train, 15)\nf_feature",
   "execution_count": null,
   "outputs": [
    {
     "output_type": "execute_result",
     "execution_count": 20,
     "data": {
      "text/plain": "['age',\n 'body_camera',\n 'is_female',\n 'was_fleeing',\n 'was_allegedly_armed',\n 'was_unarmed',\n 'was_domestic_disturbance',\n 'was_mental_health_welfare_check',\n 'was_person_with_a_weapon',\n 'was_traffic_stop',\n 'was_violent_crime_part_1',\n 'mntlill_drug or alcohol use',\n 'mntlill_no',\n 'mntlill_unknown',\n '55-64']"
     },
     "metadata": {}
    }
   ]
  },
  {
   "cell_type": "code",
   "metadata": {
    "tags": [],
    "cell_id": "00019-4661cbe5-93ba-4a7a-bde8-3405d202bee7",
    "deepnote_to_be_reexecuted": false,
    "source_hash": "ac440bf0",
    "execution_start": 1621959012967,
    "execution_millis": 12447,
    "deepnote_cell_type": "code"
   },
   "source": "rfe_list = rfe(train2, y_train, 15)",
   "execution_count": null,
   "outputs": [
    {
     "name": "stderr",
     "text": "/shared-libs/python3.7/py/lib/python3.7/site-packages/sklearn/utils/validation.py:72: FutureWarning: Pass n_features_to_select=15 as keyword args. From version 1.0 (renaming of 0.25) passing these as positional arguments will result in an error\n  \"will result in an error\", FutureWarning)\n/shared-libs/python3.7/py/lib/python3.7/site-packages/sklearn/linear_model/_logistic.py:765: ConvergenceWarning: lbfgs failed to converge (status=1):\nSTOP: TOTAL NO. of ITERATIONS REACHED LIMIT.\n\nIncrease the number of iterations (max_iter) or scale the data as shown in:\n    https://scikit-learn.org/stable/modules/preprocessing.html\nPlease also refer to the documentation for alternative solver options:\n    https://scikit-learn.org/stable/modules/linear_model.html#logistic-regression\n  extra_warning_msg=_LOGISTIC_SOLVER_CONVERGENCE_MSG)\n/shared-libs/python3.7/py/lib/python3.7/site-packages/sklearn/linear_model/_logistic.py:765: ConvergenceWarning: lbfgs failed to converge (status=1):\nSTOP: TOTAL NO. of ITERATIONS REACHED LIMIT.\n\nIncrease the number of iterations (max_iter) or scale the data as shown in:\n    https://scikit-learn.org/stable/modules/preprocessing.html\nPlease also refer to the documentation for alternative solver options:\n    https://scikit-learn.org/stable/modules/linear_model.html#logistic-regression\n  extra_warning_msg=_LOGISTIC_SOLVER_CONVERGENCE_MSG)\n/shared-libs/python3.7/py/lib/python3.7/site-packages/sklearn/linear_model/_logistic.py:765: ConvergenceWarning: lbfgs failed to converge (status=1):\nSTOP: TOTAL NO. of ITERATIONS REACHED LIMIT.\n\nIncrease the number of iterations (max_iter) or scale the data as shown in:\n    https://scikit-learn.org/stable/modules/preprocessing.html\nPlease also refer to the documentation for alternative solver options:\n    https://scikit-learn.org/stable/modules/linear_model.html#logistic-regression\n  extra_warning_msg=_LOGISTIC_SOLVER_CONVERGENCE_MSG)\n/shared-libs/python3.7/py/lib/python3.7/site-packages/sklearn/linear_model/_logistic.py:765: ConvergenceWarning: lbfgs failed to converge (status=1):\nSTOP: TOTAL NO. of ITERATIONS REACHED LIMIT.\n\nIncrease the number of iterations (max_iter) or scale the data as shown in:\n    https://scikit-learn.org/stable/modules/preprocessing.html\nPlease also refer to the documentation for alternative solver options:\n    https://scikit-learn.org/stable/modules/linear_model.html#logistic-regression\n  extra_warning_msg=_LOGISTIC_SOLVER_CONVERGENCE_MSG)\n/shared-libs/python3.7/py/lib/python3.7/site-packages/sklearn/linear_model/_logistic.py:765: ConvergenceWarning: lbfgs failed to converge (status=1):\nSTOP: TOTAL NO. of ITERATIONS REACHED LIMIT.\n\nIncrease the number of iterations (max_iter) or scale the data as shown in:\n    https://scikit-learn.org/stable/modules/preprocessing.html\nPlease also refer to the documentation for alternative solver options:\n    https://scikit-learn.org/stable/modules/linear_model.html#logistic-regression\n  extra_warning_msg=_LOGISTIC_SOLVER_CONVERGENCE_MSG)\n/shared-libs/python3.7/py/lib/python3.7/site-packages/sklearn/linear_model/_logistic.py:765: ConvergenceWarning: lbfgs failed to converge (status=1):\nSTOP: TOTAL NO. of ITERATIONS REACHED LIMIT.\n\nIncrease the number of iterations (max_iter) or scale the data as shown in:\n    https://scikit-learn.org/stable/modules/preprocessing.html\nPlease also refer to the documentation for alternative solver options:\n    https://scikit-learn.org/stable/modules/linear_model.html#logistic-regression\n  extra_warning_msg=_LOGISTIC_SOLVER_CONVERGENCE_MSG)\n/shared-libs/python3.7/py/lib/python3.7/site-packages/sklearn/linear_model/_logistic.py:765: ConvergenceWarning: lbfgs failed to converge (status=1):\nSTOP: TOTAL NO. of ITERATIONS REACHED LIMIT.\n\nIncrease the number of iterations (max_iter) or scale the data as shown in:\n    https://scikit-learn.org/stable/modules/preprocessing.html\nPlease also refer to the documentation for alternative solver options:\n    https://scikit-learn.org/stable/modules/linear_model.html#logistic-regression\n  extra_warning_msg=_LOGISTIC_SOLVER_CONVERGENCE_MSG)\n/shared-libs/python3.7/py/lib/python3.7/site-packages/sklearn/linear_model/_logistic.py:765: ConvergenceWarning: lbfgs failed to converge (status=1):\nSTOP: TOTAL NO. of ITERATIONS REACHED LIMIT.\n\nIncrease the number of iterations (max_iter) or scale the data as shown in:\n    https://scikit-learn.org/stable/modules/preprocessing.html\nPlease also refer to the documentation for alternative solver options:\n    https://scikit-learn.org/stable/modules/linear_model.html#logistic-regression\n  extra_warning_msg=_LOGISTIC_SOLVER_CONVERGENCE_MSG)\n",
     "output_type": "stream"
    }
   ]
  },
  {
   "cell_type": "code",
   "metadata": {
    "tags": [],
    "cell_id": "00016-e2445307-8f76-4d09-babb-b3623dcc6320",
    "deepnote_to_be_reexecuted": false,
    "source_hash": "adde19a5",
    "execution_start": 1621959025424,
    "execution_millis": 47,
    "deepnote_cell_type": "code"
   },
   "source": "f_feature",
   "execution_count": null,
   "outputs": [
    {
     "output_type": "execute_result",
     "execution_count": 22,
     "data": {
      "text/plain": "['age',\n 'body_camera',\n 'is_female',\n 'was_fleeing',\n 'was_allegedly_armed',\n 'was_unarmed',\n 'was_domestic_disturbance',\n 'was_mental_health_welfare_check',\n 'was_person_with_a_weapon',\n 'was_traffic_stop',\n 'was_violent_crime_part_1',\n 'mntlill_drug or alcohol use',\n 'mntlill_no',\n 'mntlill_unknown',\n '55-64']"
     },
     "metadata": {}
    }
   ]
  },
  {
   "cell_type": "code",
   "metadata": {
    "tags": [],
    "cell_id": "00020-db7d45f2-f0ce-4cf3-aec3-a33672cbb6b3",
    "deepnote_to_be_reexecuted": false,
    "source_hash": "9d8423df",
    "execution_start": 1621959025463,
    "execution_millis": 0,
    "deepnote_cell_type": "code"
   },
   "source": "rfe_list",
   "execution_count": null,
   "outputs": [
    {
     "output_type": "execute_result",
     "execution_count": 23,
     "data": {
      "text/plain": "['is_male',\n 'is_transgender',\n 'was_fleeing',\n 'was_allegedly_armed',\n 'was_unarmed',\n 'was_vehicle',\n 'was_traffic_stop',\n 'was_violent_crime_part_1',\n 'is_black',\n 'is_native american',\n 'is_white',\n 'mntlill_drug or alcohol use',\n 'mntlill_no',\n 'cod_lethal',\n 'under 12']"
     },
     "metadata": {}
    }
   ]
  },
  {
   "cell_type": "code",
   "metadata": {
    "tags": [],
    "cell_id": "00022-efcf72a8-2116-43ac-beb5-357156da745f",
    "deepnote_to_be_reexecuted": false,
    "source_hash": "75be0d0c",
    "execution_start": 1621959025498,
    "execution_millis": 5,
    "deepnote_cell_type": "code"
   },
   "source": "combo_feats = list(set(f_feature + rfe_list))",
   "execution_count": null,
   "outputs": []
  },
  {
   "cell_type": "code",
   "metadata": {
    "tags": [],
    "cell_id": "00023-aadd07c2-a6f8-4997-a1b4-9c81e1d91266",
    "deepnote_to_be_reexecuted": false,
    "source_hash": "d038553",
    "execution_start": 1621959025514,
    "execution_millis": 11,
    "deepnote_cell_type": "code"
   },
   "source": "len(combo_feats)",
   "execution_count": null,
   "outputs": [
    {
     "output_type": "execute_result",
     "execution_count": 25,
     "data": {
      "text/plain": "23"
     },
     "metadata": {}
    }
   ]
  },
  {
   "cell_type": "code",
   "metadata": {
    "tags": [],
    "cell_id": "00024-c41b01d4-a2ee-41e7-b811-24a9d990b932",
    "deepnote_to_be_reexecuted": false,
    "source_hash": "8d90ad63",
    "execution_start": 1621959025565,
    "execution_millis": 13,
    "deepnote_cell_type": "code"
   },
   "source": "combo_feats",
   "execution_count": null,
   "outputs": [
    {
     "output_type": "execute_result",
     "execution_count": 26,
     "data": {
      "text/plain": "['is_female',\n 'is_native american',\n 'was_unarmed',\n '55-64',\n 'was_vehicle',\n 'mntlill_drug or alcohol use',\n 'was_fleeing',\n 'body_camera',\n 'under 12',\n 'was_person_with_a_weapon',\n 'was_allegedly_armed',\n 'mntlill_no',\n 'cod_lethal',\n 'is_transgender',\n 'was_violent_crime_part_1',\n 'is_male',\n 'age',\n 'is_black',\n 'mntlill_unknown',\n 'was_mental_health_welfare_check',\n 'is_white',\n 'was_domestic_disturbance',\n 'was_traffic_stop']"
     },
     "metadata": {}
    }
   ]
  },
  {
   "cell_type": "code",
   "metadata": {
    "tags": [],
    "cell_id": "00025-0fa812ed-ef21-43eb-bf19-19d49558c1fd",
    "deepnote_to_be_reexecuted": false,
    "source_hash": "32e4eb35",
    "execution_start": 1621959025566,
    "execution_millis": 1,
    "deepnote_cell_type": "code"
   },
   "source": "combo_feats = ['55-64',\n 'is_native american',\n 'mntlill_no',\n 'under 12',\n 'was_traffic_stop',\n 'body_camera',\n 'age',\n 'was_allegedly_armed',\n 'is_black',\n 'was_domestic_disturbance',\n 'was_fleeing',\n 'cod_lethal',\n 'was_mental_health_welfare_check',\n 'is_white',\n 'was_violent_crime_part_1',\n 'was_vehicle',\n 'mntlill_drug or alcohol use',\n 'is_transgender',\n 'is_female']",
   "execution_count": null,
   "outputs": []
  },
  {
   "cell_type": "markdown",
   "source": "Modeling\n\nCreate a Baseline Model:",
   "metadata": {
    "tags": [],
    "cell_id": "00023-078ed2ec-d202-41f2-ae33-d35bd29d9685",
    "deepnote_to_be_reexecuted": false,
    "source_hash": "897280cf",
    "execution_start": 1621898463294,
    "execution_millis": 13,
    "deepnote_cell_type": "markdown"
   }
  },
  {
   "cell_type": "code",
   "metadata": {
    "tags": [],
    "cell_id": "00023-5a407d56-0fcb-48e8-ac40-8c34a89e797f",
    "deepnote_to_be_reexecuted": false,
    "source_hash": "fa46ff5a",
    "execution_start": 1621959025567,
    "execution_millis": 30,
    "deepnote_cell_type": "code"
   },
   "source": "y_train = pd.DataFrame(y_train)\n\ny_train.alleged_threat_lvl.value_counts()\n",
   "execution_count": null,
   "outputs": [
    {
     "output_type": "execute_result",
     "execution_count": 28,
     "data": {
      "text/plain": "0.0    2466\n1.0    2368\nName: alleged_threat_lvl, dtype: int64"
     },
     "metadata": {}
    }
   ]
  },
  {
   "cell_type": "code",
   "metadata": {
    "tags": [],
    "cell_id": "00023-ee3157ba-14d0-4f4c-add3-3525628778f2",
    "deepnote_to_be_reexecuted": false,
    "source_hash": "71519740",
    "execution_start": 1621959025582,
    "execution_millis": 15,
    "deepnote_cell_type": "code"
   },
   "source": "baseline = 0\nbaseline_accuracy = round((y_train.alleged_threat_lvl == baseline).mean(),4)\nbaseline_accuracy\nprint(f'Baseline accuracy is {baseline_accuracy}')",
   "execution_count": null,
   "outputs": [
    {
     "name": "stdout",
     "text": "Baseline accuracy is 0.5101\n",
     "output_type": "stream"
    }
   ]
  },
  {
   "cell_type": "markdown",
   "source": "\n\n\nRandom Forest ",
   "metadata": {
    "tags": [],
    "cell_id": "00023-515ba470-8d61-4094-b604-b79976dbf9f0",
    "deepnote_cell_type": "markdown"
   }
  },
  {
   "cell_type": "code",
   "metadata": {
    "tags": [],
    "cell_id": "00024-d3ef19db-34d5-418f-ada7-9aad1834afac",
    "deepnote_to_be_reexecuted": false,
    "source_hash": "5fe20fb4",
    "execution_start": 1621959025582,
    "execution_millis": 1,
    "deepnote_cell_type": "code"
   },
   "source": "from sklearn.ensemble import RandomForestClassifier\nfrom sklearn.metrics import classification_report\nfrom sklearn.metrics import confusion_matrix\n\n# create the model \nrf = RandomForestClassifier(bootstrap=True, \n                            class_weight=None, \n                            criterion='gini',\n                            min_samples_leaf=3,\n                            n_estimators=100,\n                            max_depth=3, \n                            random_state=123)\n\n",
   "execution_count": null,
   "outputs": []
  },
  {
   "cell_type": "code",
   "metadata": {
    "tags": [],
    "cell_id": "00025-f804edfc-1bef-44b2-bbcf-46ada16d5e0a",
    "deepnote_to_be_reexecuted": false,
    "source_hash": "35f21c7",
    "execution_start": 1621959025585,
    "execution_millis": 295,
    "deepnote_cell_type": "code"
   },
   "source": "# fit the model\nrf.fit(train2, y_train)\n\n\n# Find feature importance\nprint(rf.feature_importances_)\n\n",
   "execution_count": null,
   "outputs": [
    {
     "name": "stderr",
     "text": "/shared-libs/python3.7/py-core/lib/python3.7/site-packages/ipykernel_launcher.py:2: DataConversionWarning: A column-vector y was passed when a 1d array was expected. Please change the shape of y to (n_samples,), for example using ravel().\n  \n[1.96071945e-02 1.22853569e-02 4.84143166e-03 3.34139627e-03\n 2.47178718e-04 3.00992294e-01 0.00000000e+00 1.89830391e-01\n 6.81534886e-02 3.20080971e-03 4.36342151e-02 4.60627880e-03\n 3.30915386e-03 4.74121724e-02 1.56020790e-01 5.80675719e-04\n 1.10264299e-03 1.59446520e-03 1.91198224e-03 5.62825441e-03\n 6.78772459e-03 1.31126551e-02 1.26119560e-02 1.62446707e-02\n 5.37994907e-03 3.70477680e-03 1.74979101e-03 4.47276838e-03\n 5.93582050e-02 1.21445742e-03 0.00000000e+00 5.01111614e-04\n 1.63743177e-03 1.62864183e-03 8.47045404e-04 3.65413333e-04\n 1.29021195e-03 7.93018439e-04]\n",
     "output_type": "stream"
    }
   ]
  },
  {
   "cell_type": "markdown",
   "source": "### Random Forest generated list of feature importances",
   "metadata": {
    "tags": [],
    "cell_id": "00031-3c145fb2-efd7-41f2-bda6-9dbe91c38e86",
    "deepnote_cell_type": "markdown"
   }
  },
  {
   "cell_type": "code",
   "metadata": {
    "tags": [],
    "cell_id": "00031-9166225f-f78f-41b3-85c5-f2309d845c2f",
    "deepnote_to_be_reexecuted": false,
    "source_hash": "d09a482e",
    "execution_start": 1621959025899,
    "execution_millis": 599,
    "deepnote_cell_type": "code"
   },
   "source": "feature_names = list(train2.columns)\n\nplt.figure(figsize=(12, 11))\nplt.barh(feature_names, rf.feature_importances_)\n\n",
   "execution_count": null,
   "outputs": [
    {
     "output_type": "execute_result",
     "execution_count": 32,
     "data": {
      "text/plain": "<BarContainer object of 38 artists>"
     },
     "metadata": {}
    },
    {
     "data": {
      "text/plain": "<Figure size 864x792 with 1 Axes>",
      "image/png": "[encoded data removed]"
     },
     "metadata": {
      "needs_background": "light",
      "image/png": {
       "width": 863,
       "height": 629
      }
     },
     "output_type": "display_data"
    }
   ]
  },
  {
   "cell_type": "markdown",
   "source": "### Top Features according to Random Forest: (ordered greatest to least)\nwas_fleeing<br>\nwas_allegedly_armed<br>\nwas_violent_crime<br>\nwas_unarmed<br>\nage\n",
   "metadata": {
    "tags": [],
    "cell_id": "00033-cef110d8-e52d-4feb-9815-1809a71b4f18",
    "deepnote_cell_type": "markdown"
   }
  },
  {
   "cell_type": "code",
   "metadata": {
    "tags": [],
    "cell_id": "00026-ca4a9c6e-9836-498a-ae28-c6186e40a41f",
    "deepnote_to_be_reexecuted": false,
    "source_hash": "b18318e7",
    "execution_start": 1621959026518,
    "execution_millis": 617791,
    "deepnote_cell_type": "code"
   },
   "source": "train2.columns",
   "execution_count": null,
   "outputs": [
    {
     "output_type": "execute_result",
     "execution_count": 33,
     "data": {
      "text/plain": "Index(['age', 'body_camera', 'is_female', 'is_male', 'is_transgender',\n       'was_fleeing', 'was_not fleeing ', 'was_allegedly_armed', 'was_unarmed',\n       'was_vehicle', 'was_domestic_disturbance',\n       'was_mental_health_welfare_check', 'was_person_with_a_weapon',\n       'was_traffic_stop', 'was_violent_crime_part_1',\n       'is_asian/pacific islander', 'is_black', 'is_hispanic',\n       'is_native american', 'is_unknown race', 'is_white',\n       'mntlill_drug or alcohol use', 'mntlill_no', 'mntlill_unknown',\n       'mntlill_yes', 'rural', 'suburban', 'urban', 'cod_lethal', 'unknown',\n       'under 12', '12-17', '18-24', '25-34', '35-44', '45-54', '55-64',\n       '65+'],\n      dtype='object')"
     },
     "metadata": {}
    }
   ]
  },
  {
   "cell_type": "code",
   "metadata": {
    "tags": [],
    "cell_id": "00027-d3f95a7f-fd59-45c6-a522-728d8e97850e",
    "deepnote_to_be_reexecuted": false,
    "source_hash": "9330a7f8",
    "execution_start": 1621959026531,
    "execution_millis": 195,
    "deepnote_cell_type": "code"
   },
   "source": "# make predictions\ny_pred = rf.predict(train2)\n\n# estimate probability\ny_pred_proba = rf.predict_proba(train2)\n\n\n#Compute accuracy\ntrain_accuracy = round(rf.score(train2, y_train),2)\nprint('Accuracy of random forest classifier on training set: {:.2f}'\n     .format(rf.score(train2, y_train)))\n",
   "execution_count": null,
   "outputs": [
    {
     "name": "stdout",
     "text": "Accuracy of random forest classifier on training set: 0.70\n",
     "output_type": "stream"
    }
   ]
  },
  {
   "cell_type": "code",
   "metadata": {
    "tags": [],
    "cell_id": "00028-55ef49e9-e134-4cba-b91b-a01bb25a1347",
    "deepnote_to_be_reexecuted": false,
    "source_hash": "571ca5f9",
    "execution_start": 1621959026722,
    "execution_millis": 26,
    "deepnote_cell_type": "code"
   },
   "source": "# run classification report\nprint(classification_report(y_train, y_pred))",
   "execution_count": null,
   "outputs": [
    {
     "name": "stdout",
     "text": "              precision    recall  f1-score   support\n\n         0.0       0.71      0.70      0.71      2466\n         1.0       0.70      0.70      0.70      2368\n\n    accuracy                           0.70      4834\n   macro avg       0.70      0.70      0.70      4834\nweighted avg       0.70      0.70      0.70      4834\n\n",
     "output_type": "stream"
    }
   ]
  },
  {
   "cell_type": "code",
   "metadata": {
    "tags": [],
    "cell_id": "00032-8cf1818c-8672-4d06-a947-445812a92a61",
    "deepnote_to_be_reexecuted": false,
    "source_hash": "3a14f657",
    "execution_start": 1621959026787,
    "execution_millis": 281,
    "deepnote_cell_type": "code"
   },
   "source": "# fit the model on validate\nrf.fit(validate2, y_validate)\n\n# make predictions\ny_pred_val = rf.predict(validate2)\n\n# estimate probability\ny_pred_val_proba = rf.predict_proba(validate2)\n\n#Compute accuracy\nvalidate_accuracy = round(rf.score(validate2, y_validate),2)\nprint('Accuracy of random forest classifier on validate set: {:.2f}'\n     .format(rf.score(validate2, y_validate)))\n",
   "execution_count": null,
   "outputs": [
    {
     "name": "stdout",
     "text": "Accuracy of random forest classifier on validate set: 0.72\n",
     "output_type": "stream"
    }
   ]
  },
  {
   "cell_type": "code",
   "metadata": {
    "tags": [],
    "cell_id": "00032-af4eb133-581a-4f99-9bfc-ec69559453c0",
    "deepnote_to_be_reexecuted": false,
    "source_hash": "bb080a19",
    "execution_start": 1621959027064,
    "execution_millis": 24,
    "deepnote_cell_type": "code"
   },
   "source": "# run classification report on validate\nprint(classification_report(y_validate, y_pred_val))",
   "execution_count": null,
   "outputs": [
    {
     "name": "stdout",
     "text": "              precision    recall  f1-score   support\n\n         0.0       0.72      0.72      0.72      1053\n         1.0       0.71      0.71      0.71      1020\n\n    accuracy                           0.72      2073\n   macro avg       0.72      0.72      0.72      2073\nweighted avg       0.72      0.72      0.72      2073\n\n",
     "output_type": "stream"
    }
   ]
  },
  {
   "cell_type": "code",
   "metadata": {
    "tags": [],
    "cell_id": "00034-3c2f89f9-ae98-4ab6-9f40-5f87b1e4df6b",
    "deepnote_to_be_reexecuted": false,
    "source_hash": "a5201d0f",
    "execution_start": 1621959027079,
    "execution_millis": 2,
    "deepnote_cell_type": "code"
   },
   "source": "def get_metrics_bin(clf, X, y):\n    '''\n    get_metrics_bin will take in a sklearn classifier model, an X and a y variable and utilize\n    the model to make a prediction and then gather accuracy, class report evaluations\n\n    return:  a classification report as a pandas DataFrame\n    '''\n    y_pred = clf.predict(X)\n    accuracy = clf.score(X, y)\n    conf = confusion_matrix(y, y_pred)\n    class_report = pd.DataFrame(classification_report(y, y_pred, output_dict=True)).T\n    tpr = conf[1][1] / conf[1].sum()\n    fpr = conf[0][1] / conf[0].sum()\n    tnr = conf[0][0] / conf[0].sum()\n    fnr = conf[1][0] / conf[1].sum()\n    print(f'''\n    The accuracy for our model is {accuracy:.4}\n    The True Positive Rate is {tpr:.3}, The False Positive Rate is {fpr:.3},\n    The True Negative Rate is {tnr:.3}, and the False Negative Rate is {fnr:.3}\n    ''')\n    return class_report",
   "execution_count": null,
   "outputs": []
  },
  {
   "cell_type": "code",
   "metadata": {
    "tags": [],
    "cell_id": "00034-21f54af0-6d73-4293-bb45-c42cc0a79e49",
    "deepnote_to_be_reexecuted": false,
    "source_hash": "c1f85ee1",
    "execution_start": 1621959027084,
    "execution_millis": 41,
    "deepnote_cell_type": "code"
   },
   "source": "# X = validate2\n# clf = RandomForestClassifier\n# print('Model #1: min samples 3, max depth 3')\n# class_report_val = get_metrics_bin(clf, validate2, y_validate)\n# # print('-------------------------------------------\\n Model #2: min samples 3, max_depth 3\\n')\n# # class_report_val1 = get_metrics_bin(clf1, X_val, y_val)",
   "execution_count": null,
   "outputs": []
  },
  {
   "cell_type": "markdown",
   "source": "### Takeaways on Random Forest Classifier Model (max depth 3):\n\nBaseline accuracy = 51% <br>\nAccuracy on Train = 70% <br>\nAccuracy on Validate = 72%",
   "metadata": {
    "tags": [],
    "cell_id": "00029-b74715f9-548b-430d-8ce6-cbba70590e45",
    "deepnote_to_be_reexecuted": false,
    "source_hash": "bb95de7",
    "execution_start": 1621894512751,
    "execution_millis": 11,
    "deepnote_cell_type": "markdown"
   }
  },
  {
   "cell_type": "code",
   "metadata": {
    "tags": [],
    "cell_id": "00032-2b00238d-061d-4bec-ae1a-bb5677d827a1",
    "deepnote_to_be_reexecuted": false,
    "source_hash": "2e7e6100",
    "execution_start": 1621959027127,
    "execution_millis": 49,
    "deepnote_cell_type": "code"
   },
   "source": "\n#begin building a dataframe to record accuracy\nmetric_df = pd.DataFrame(data=[{\n    'model': 'random forest', \n    'baseline_accuracy': round(baseline_accuracy,2),\n    'train_accuracy': round(train_accuracy, 2),\n    'validate_accuracy': round(validate_accuracy, 2)}])\nmetric_df",
   "execution_count": null,
   "outputs": [
    {
     "output_type": "execute_result",
     "execution_count": 40,
     "data": {
      "application/vnd.deepnote.dataframe.v2+json": {
       "row_count": 1,
       "column_count": 4,
       "columns": [
        {
         "name": "model",
         "dtype": "object",
         "stats": {
          "unique_count": 1,
          "nan_count": 0,
          "categories": [
           {
            "name": "random forest",
            "count": 1
           }
          ]
         }
        },
        {
         "name": "baseline_accuracy",
         "dtype": "float64",
         "stats": {
          "unique_count": 1,
          "nan_count": 0,
          "min": "0.51",
          "max": "0.51",
          "histogram": [
           {
            "bin_start": 0.010000000000000009,
            "bin_end": 0.11000000000000001,
            "count": 0
           },
           {
            "bin_start": 0.11000000000000001,
            "bin_end": 0.21000000000000002,
            "count": 0
           },
           {
            "bin_start": 0.21000000000000002,
            "bin_end": 0.31000000000000005,
            "count": 0
           },
           {
            "bin_start": 0.31000000000000005,
            "bin_end": 0.41000000000000003,
            "count": 0
           },
           {
            "bin_start": 0.41000000000000003,
            "bin_end": 0.51,
            "count": 0
           },
           {
            "bin_start": 0.51,
            "bin_end": 0.6100000000000001,
            "count": 1
           },
           {
            "bin_start": 0.6100000000000001,
            "bin_end": 0.7100000000000001,
            "count": 0
           },
           {
            "bin_start": 0.7100000000000001,
            "bin_end": 0.81,
            "count": 0
           },
           {
            "bin_start": 0.81,
            "bin_end": 0.91,
            "count": 0
           },
           {
            "bin_start": 0.91,
            "bin_end": 1.01,
            "count": 0
           }
          ]
         }
        },
        {
         "name": "train_accuracy",
         "dtype": "float64",
         "stats": {
          "unique_count": 1,
          "nan_count": 0,
          "min": "0.7",
          "max": "0.7",
          "histogram": [
           {
            "bin_start": 0.19999999999999996,
            "bin_end": 0.29999999999999993,
            "count": 0
           },
           {
            "bin_start": 0.29999999999999993,
            "bin_end": 0.39999999999999997,
            "count": 0
           },
           {
            "bin_start": 0.39999999999999997,
            "bin_end": 0.5,
            "count": 0
           },
           {
            "bin_start": 0.5,
            "bin_end": 0.6,
            "count": 0
           },
           {
            "bin_start": 0.6,
            "bin_end": 0.7,
            "count": 0
           },
           {
            "bin_start": 0.7,
            "bin_end": 0.8,
            "count": 1
           },
           {
            "bin_start": 0.8,
            "bin_end": 0.9,
            "count": 0
           },
           {
            "bin_start": 0.9,
            "bin_end": 1,
            "count": 0
           },
           {
            "bin_start": 1,
            "bin_end": 1.1,
            "count": 0
           },
           {
            "bin_start": 1.1,
            "bin_end": 1.2,
            "count": 0
           }
          ]
         }
        },
        {
         "name": "validate_accuracy",
         "dtype": "float64",
         "stats": {
          "unique_count": 1,
          "nan_count": 0,
          "min": "0.72",
          "max": "0.72",
          "histogram": [
           {
            "bin_start": 0.21999999999999997,
            "bin_end": 0.31999999999999995,
            "count": 0
           },
           {
            "bin_start": 0.31999999999999995,
            "bin_end": 0.42,
            "count": 0
           },
           {
            "bin_start": 0.42,
            "bin_end": 0.52,
            "count": 0
           },
           {
            "bin_start": 0.52,
            "bin_end": 0.62,
            "count": 0
           },
           {
            "bin_start": 0.62,
            "bin_end": 0.72,
            "count": 0
           },
           {
            "bin_start": 0.72,
            "bin_end": 0.8200000000000001,
            "count": 1
           },
           {
            "bin_start": 0.8200000000000001,
            "bin_end": 0.92,
            "count": 0
           },
           {
            "bin_start": 0.92,
            "bin_end": 1.02,
            "count": 0
           },
           {
            "bin_start": 1.02,
            "bin_end": 1.12,
            "count": 0
           },
           {
            "bin_start": 1.12,
            "bin_end": 1.22,
            "count": 0
           }
          ]
         }
        },
        {
         "name": "_deepnote_index_column",
         "dtype": "int64"
        }
       ],
       "rows_top": [
        {
         "model": "random forest",
         "baseline_accuracy": 0.51,
         "train_accuracy": 0.7,
         "validate_accuracy": 0.72,
         "_deepnote_index_column": 0
        }
       ],
       "rows_bottom": null
      },
      "text/plain": "           model  baseline_accuracy  train_accuracy  validate_accuracy\n0  random forest               0.51             0.7               0.72",
      "text/html": "<div>\n<style scoped>\n    .dataframe tbody tr th:only-of-type {\n        vertical-align: middle;\n    }\n\n    .dataframe tbody tr th {\n        vertical-align: top;\n    }\n\n    .dataframe thead th {\n        text-align: right;\n    }\n</style>\n<table border=\"1\" class=\"dataframe\">\n  <thead>\n    <tr style=\"text-align: right;\">\n      <th></th>\n      <th>model</th>\n      <th>baseline_accuracy</th>\n      <th>train_accuracy</th>\n      <th>validate_accuracy</th>\n    </tr>\n  </thead>\n  <tbody>\n    <tr>\n      <th>0</th>\n      <td>random forest</td>\n      <td>0.51</td>\n      <td>0.7</td>\n      <td>0.72</td>\n    </tr>\n  </tbody>\n</table>\n</div>"
     },
     "metadata": {}
    }
   ]
  },
  {
   "cell_type": "code",
   "source": "",
   "metadata": {
    "cell_id": "00037-c7741957-35d0-43c9-b5e6-fff0faebc2a6",
    "deepnote_to_be_reexecuted": false,
    "source_hash": "b623e53d",
    "execution_start": 1621959027168,
    "execution_millis": 0,
    "deepnote_cell_type": "visualization"
   },
   "execution_count": null,
   "outputs": []
  },
  {
   "cell_type": "markdown",
   "source": "### Naive Bayes\nNaïve Bayes Classifier is one of the simple and most effective Classification algorithms which helps in building fast machine learning models that can make quick predictions. It is a probabilistic classifier, which means it predicts on the basis of the probability of an object. It's biggest limitation is that it implicitly assumes that all the attributes are mutually independent. (In real life, it's almost impossible that we get a set of predictors that are completely independent or one another.)",
   "metadata": {
    "tags": [],
    "cell_id": "00036-bc2283cf-5389-4db5-b928-2d9743c2a13b",
    "deepnote_to_be_reexecuted": false,
    "source_hash": "99d3384f",
    "execution_start": 1621900322718,
    "execution_millis": 7,
    "deepnote_cell_type": "markdown"
   }
  },
  {
   "cell_type": "code",
   "metadata": {
    "tags": [],
    "cell_id": "00038-bf577518-5ce8-4a7c-b12c-ad63c5c4e317",
    "deepnote_to_be_reexecuted": false,
    "source_hash": "fe51bc76",
    "execution_start": 1621959027168,
    "execution_millis": 8,
    "deepnote_cell_type": "code"
   },
   "source": "from sklearn.naive_bayes import CategoricalNB\n\n# make the model\nclassifier = CategoricalNB()\n\n# fit the model\nclassifier.fit(train2, y_train)",
   "execution_count": null,
   "outputs": [
    {
     "name": "stderr",
     "text": "/shared-libs/python3.7/py/lib/python3.7/site-packages/sklearn/utils/validation.py:63: DataConversionWarning: A column-vector y was passed when a 1d array was expected. Please change the shape of y to (n_samples, ), for example using ravel().\n  return f(*args, **kwargs)\n",
     "output_type": "stream"
    },
    {
     "output_type": "execute_result",
     "execution_count": 41,
     "data": {
      "text/plain": "CategoricalNB()"
     },
     "metadata": {}
    }
   ]
  },
  {
   "cell_type": "code",
   "metadata": {
    "tags": [],
    "cell_id": "00039-f8de9f52-1243-4ab5-99f1-55dad9c3156b",
    "deepnote_to_be_reexecuted": false,
    "source_hash": "dad90cf1",
    "execution_start": 1621959027170,
    "execution_millis": 5,
    "deepnote_cell_type": "code"
   },
   "source": "# make predictions on train\nnb_y_pred  =  classifier.predict(train2)\n\n# make predictions on validate\nnb_y_val_pred  =  classifier.predict(validate2)",
   "execution_count": null,
   "outputs": []
  },
  {
   "cell_type": "code",
   "metadata": {
    "tags": [],
    "cell_id": "00040-8012050f-8a4d-4414-b974-95543fe6cd30",
    "deepnote_to_be_reexecuted": false,
    "source_hash": "20ca0f84",
    "execution_start": 1621959027222,
    "execution_millis": 0,
    "deepnote_cell_type": "code"
   },
   "source": "# evaluate model on train\nfrom sklearn.metrics import confusion_matrix,accuracy_score\ncm_train = confusion_matrix(y_train, nb_y_pred)\nac_train = accuracy_score(y_train,nb_y_pred)",
   "execution_count": null,
   "outputs": []
  },
  {
   "cell_type": "code",
   "metadata": {
    "tags": [],
    "cell_id": "00041-00cf078f-1b1f-486a-84f1-724cb86ded7a",
    "deepnote_to_be_reexecuted": false,
    "source_hash": "85adb028",
    "execution_start": 1621959027251,
    "execution_millis": 618018,
    "deepnote_cell_type": "code"
   },
   "source": "# evaluate model on validate\ncm_validate = confusion_matrix(y_validate, nb_y_val_pred)\nac_validate = accuracy_score(y_validate,nb_y_val_pred)",
   "execution_count": null,
   "outputs": []
  },
  {
   "cell_type": "code",
   "metadata": {
    "tags": [],
    "cell_id": "00042-307e743c-b4e2-46dd-9a4e-be45fb381299",
    "deepnote_to_be_reexecuted": false,
    "source_hash": "98109a86",
    "execution_start": 1621959027251,
    "execution_millis": 0,
    "deepnote_cell_type": "code"
   },
   "source": "print('Accuracy of Naive Bayes Gaussian Classifier on train set: {:.2f}'.format(ac_train))\nprint('Accuracy of Naive Bayes Gaussian Classifier on validate set: {:.2f}'.format(ac_validate))",
   "execution_count": null,
   "outputs": [
    {
     "name": "stdout",
     "text": "Accuracy of Naive Bayes Gaussian Classifier on train set: 0.70\nAccuracy of Naive Bayes Gaussian Classifier on validate set: 0.68\n",
     "output_type": "stream"
    }
   ]
  },
  {
   "cell_type": "markdown",
   "source": "### Takeaways on Naive Bayes Model:\nBaseline accuracy = 51% <br>\nAccuracy on Train = 70% <br>\nAccuracy on Validate = 68%",
   "metadata": {
    "tags": [],
    "cell_id": "00045-9732d597-06db-4357-a678-493f3cbeec4c",
    "deepnote_to_be_reexecuted": false,
    "source_hash": "94e0f3ab",
    "execution_start": 1621902072354,
    "execution_millis": 7,
    "deepnote_cell_type": "markdown"
   }
  },
  {
   "cell_type": "markdown",
   "source": "### Dataframe Summarizing Models",
   "metadata": {
    "tags": [],
    "cell_id": "00035-1f82fffe-df47-4cc4-a31c-a9432e509979",
    "deepnote_cell_type": "markdown"
   }
  },
  {
   "cell_type": "code",
   "metadata": {
    "tags": [],
    "cell_id": "00043-c8dcda21-b9ad-414d-b940-a027a05dced4",
    "deepnote_to_be_reexecuted": false,
    "source_hash": "bce38aaf",
    "execution_start": 1621959027252,
    "execution_millis": 13,
    "deepnote_cell_type": "code"
   },
   "source": "# append dataframe to record accuracy on Naive Bayes\nmetric_df = metric_df.append({\n    'model': 'naive bayes', \n    'baseline_accuracy': round(baseline_accuracy,2),\n    'train_accuracy': round(ac_train, 2),\n    'validate_accuracy':round(ac_validate,2)}, ignore_index=True)\n  \n\n\nmetric_df",
   "execution_count": null,
   "outputs": [
    {
     "output_type": "execute_result",
     "execution_count": 46,
     "data": {
      "application/vnd.deepnote.dataframe.v2+json": {
       "row_count": 2,
       "column_count": 4,
       "columns": [
        {
         "name": "model",
         "dtype": "object",
         "stats": {
          "unique_count": 2,
          "nan_count": 0,
          "categories": [
           {
            "name": "random forest",
            "count": 1
           },
           {
            "name": "naive bayes",
            "count": 1
           }
          ]
         }
        },
        {
         "name": "baseline_accuracy",
         "dtype": "float64",
         "stats": {
          "unique_count": 1,
          "nan_count": 0,
          "min": "0.51",
          "max": "0.51",
          "histogram": [
           {
            "bin_start": 0.010000000000000009,
            "bin_end": 0.11000000000000001,
            "count": 0
           },
           {
            "bin_start": 0.11000000000000001,
            "bin_end": 0.21000000000000002,
            "count": 0
           },
           {
            "bin_start": 0.21000000000000002,
            "bin_end": 0.31000000000000005,
            "count": 0
           },
           {
            "bin_start": 0.31000000000000005,
            "bin_end": 0.41000000000000003,
            "count": 0
           },
           {
            "bin_start": 0.41000000000000003,
            "bin_end": 0.51,
            "count": 0
           },
           {
            "bin_start": 0.51,
            "bin_end": 0.6100000000000001,
            "count": 2
           },
           {
            "bin_start": 0.6100000000000001,
            "bin_end": 0.7100000000000001,
            "count": 0
           },
           {
            "bin_start": 0.7100000000000001,
            "bin_end": 0.81,
            "count": 0
           },
           {
            "bin_start": 0.81,
            "bin_end": 0.91,
            "count": 0
           },
           {
            "bin_start": 0.91,
            "bin_end": 1.01,
            "count": 0
           }
          ]
         }
        },
        {
         "name": "train_accuracy",
         "dtype": "float64",
         "stats": {
          "unique_count": 1,
          "nan_count": 0,
          "min": "0.7",
          "max": "0.7",
          "histogram": [
           {
            "bin_start": 0.19999999999999996,
            "bin_end": 0.29999999999999993,
            "count": 0
           },
           {
            "bin_start": 0.29999999999999993,
            "bin_end": 0.39999999999999997,
            "count": 0
           },
           {
            "bin_start": 0.39999999999999997,
            "bin_end": 0.5,
            "count": 0
           },
           {
            "bin_start": 0.5,
            "bin_end": 0.6,
            "count": 0
           },
           {
            "bin_start": 0.6,
            "bin_end": 0.7,
            "count": 0
           },
           {
            "bin_start": 0.7,
            "bin_end": 0.8,
            "count": 2
           },
           {
            "bin_start": 0.8,
            "bin_end": 0.9,
            "count": 0
           },
           {
            "bin_start": 0.9,
            "bin_end": 1,
            "count": 0
           },
           {
            "bin_start": 1,
            "bin_end": 1.1,
            "count": 0
           },
           {
            "bin_start": 1.1,
            "bin_end": 1.2,
            "count": 0
           }
          ]
         }
        },
        {
         "name": "validate_accuracy",
         "dtype": "float64",
         "stats": {
          "unique_count": 2,
          "nan_count": 0,
          "min": "0.68",
          "max": "0.72",
          "histogram": [
           {
            "bin_start": 0.68,
            "bin_end": 0.684,
            "count": 1
           },
           {
            "bin_start": 0.684,
            "bin_end": 0.6880000000000001,
            "count": 0
           },
           {
            "bin_start": 0.6880000000000001,
            "bin_end": 0.6920000000000001,
            "count": 0
           },
           {
            "bin_start": 0.6920000000000001,
            "bin_end": 0.6960000000000001,
            "count": 0
           },
           {
            "bin_start": 0.6960000000000001,
            "bin_end": 0.7,
            "count": 0
           },
           {
            "bin_start": 0.7,
            "bin_end": 0.704,
            "count": 0
           },
           {
            "bin_start": 0.704,
            "bin_end": 0.708,
            "count": 0
           },
           {
            "bin_start": 0.708,
            "bin_end": 0.712,
            "count": 0
           },
           {
            "bin_start": 0.712,
            "bin_end": 0.716,
            "count": 0
           },
           {
            "bin_start": 0.716,
            "bin_end": 0.72,
            "count": 1
           }
          ]
         }
        },
        {
         "name": "_deepnote_index_column",
         "dtype": "int64"
        }
       ],
       "rows_top": [
        {
         "model": "random forest",
         "baseline_accuracy": 0.51,
         "train_accuracy": 0.7,
         "validate_accuracy": 0.72,
         "_deepnote_index_column": 0
        },
        {
         "model": "naive bayes",
         "baseline_accuracy": 0.51,
         "train_accuracy": 0.7,
         "validate_accuracy": 0.68,
         "_deepnote_index_column": 1
        }
       ],
       "rows_bottom": null
      },
      "text/plain": "           model  baseline_accuracy  train_accuracy  validate_accuracy\n0  random forest               0.51             0.7               0.72\n1    naive bayes               0.51             0.7               0.68",
      "text/html": "<div>\n<style scoped>\n    .dataframe tbody tr th:only-of-type {\n        vertical-align: middle;\n    }\n\n    .dataframe tbody tr th {\n        vertical-align: top;\n    }\n\n    .dataframe thead th {\n        text-align: right;\n    }\n</style>\n<table border=\"1\" class=\"dataframe\">\n  <thead>\n    <tr style=\"text-align: right;\">\n      <th></th>\n      <th>model</th>\n      <th>baseline_accuracy</th>\n      <th>train_accuracy</th>\n      <th>validate_accuracy</th>\n    </tr>\n  </thead>\n  <tbody>\n    <tr>\n      <th>0</th>\n      <td>random forest</td>\n      <td>0.51</td>\n      <td>0.7</td>\n      <td>0.72</td>\n    </tr>\n    <tr>\n      <th>1</th>\n      <td>naive bayes</td>\n      <td>0.51</td>\n      <td>0.7</td>\n      <td>0.68</td>\n    </tr>\n  </tbody>\n</table>\n</div>"
     },
     "metadata": {}
    }
   ]
  },
  {
   "cell_type": "markdown",
   "source": "",
   "metadata": {
    "tags": [],
    "cell_id": "00046-8a5b83a8-30e3-483a-b5ca-c5cc36802154",
    "deepnote_cell_type": "markdown"
   }
  },
  {
   "cell_type": "markdown",
   "source": "### GridSearchCV",
   "metadata": {
    "tags": [],
    "cell_id": "00046-217bb1dc-a743-42a8-ab02-21847598bdbc",
    "deepnote_cell_type": "markdown"
   }
  },
  {
   "cell_type": "code",
   "metadata": {
    "tags": [],
    "cell_id": "00047-35748be9-71e7-4d9e-bddb-b1cf454b54f1",
    "deepnote_to_be_reexecuted": false,
    "source_hash": "2264946b",
    "execution_start": 1621959027257,
    "execution_millis": 1,
    "deepnote_cell_type": "code"
   },
   "source": "# ignore warnings\nimport warnings\nwarnings.filterwarnings(\"ignore\")\nfrom sklearn.model_selection import RandomizedSearchCV, GridSearchCV\nfrom scipy.stats import uniform",
   "execution_count": null,
   "outputs": []
  },
  {
   "cell_type": "code",
   "metadata": {
    "tags": [],
    "cell_id": "00048-22ef8f8c-abdc-423c-83c9-d63f8767c7d9",
    "deepnote_to_be_reexecuted": false,
    "source_hash": "cd3ac985",
    "execution_start": 1621959027261,
    "execution_millis": 57349,
    "is_output_hidden": true,
    "deepnote_cell_type": "code"
   },
   "source": "# Create a parameter dictionary for the model, {'parameter': [list of settings]}\nparameters = [\n    {\n    'alpha': [0.0001, 0.001, 0.01, 0.1, 1],\n    'shuffle': [True, False],\n    'verbose': [0, 1, 5, 10],\n    'class_weight': [None, 'balanced'],\n    },\n]\n# Created variable model which holds the KNN model\nmodel = SGDClassifier()\n# Create grid_search model, looking at recall\ngrid_search = GridSearchCV(model,\n                           param_grid=parameters,\n                           scoring='accuracy',\n                           )\n# Create variable r that hold the FIT grid_search\nr = grid_search.fit(X_train[f_feature], y_train)\nscores = r.cv_results_\nlm = r.best_estimator_",
   "execution_count": null,
   "outputs": [
    {
     "name": "stdout",
     "text": "Norm: 0.21, NNZs: 15, Bias: 0.470136, T: 38670, Avg. loss: 0.968512\nTotal training time: 0.03 seconds.\n-- Epoch 11\nNorm: 0.21, NNZs: 15, Bias: 0.468809, T: 42537, Avg. loss: 0.973061\nTotal training time: 0.03 seconds.\nConvergence after 11 epochs took 0.03 seconds\n-- Epoch 1\nNorm: 0.16, NNZs: 15, Bias: -0.381230, T: 3867, Avg. loss: 1.771205\nTotal training time: 0.00 seconds.\n-- Epoch 2\nNorm: 0.18, NNZs: 15, Bias: -0.385106, T: 7734, Avg. loss: 0.985514\nTotal training time: 0.01 seconds.\n-- Epoch 3\nNorm: 0.19, NNZs: 15, Bias: -0.388341, T: 11601, Avg. loss: 0.980347\nTotal training time: 0.01 seconds.\n-- Epoch 4\nNorm: 0.20, NNZs: 15, Bias: -0.390798, T: 15468, Avg. loss: 0.959403\nTotal training time: 0.01 seconds.\n-- Epoch 5\nNorm: 0.20, NNZs: 15, Bias: -0.393162, T: 19335, Avg. loss: 0.966443\nTotal training time: 0.01 seconds.\n-- Epoch 6\nNorm: 0.21, NNZs: 15, Bias: -0.394388, T: 23202, Avg. loss: 0.944466\nTotal training time: 0.01 seconds.\n-- Epoch 7\nNorm: 0.21, NNZs: 15, Bias: -0.395835, T: 27069, Avg. loss: 0.944373\nTotal training time: 0.01 seconds.\n-- Epoch 8\nNorm: 0.21, NNZs: 15, Bias: -0.397627, T: 30936, Avg. loss: 0.952397\nTotal training time: 0.01 seconds.\n-- Epoch 9\nNorm: 0.21, NNZs: 15, Bias: -0.398367, T: 34803, Avg. loss: 0.949683\nTotal training time: 0.01 seconds.\n-- Epoch 10\nNorm: 0.21, NNZs: 15, Bias: -0.399223, T: 38670, Avg. loss: 0.941941\nTotal training time: 0.01 seconds.\n-- Epoch 11\nNorm: 0.21, NNZs: 15, Bias: -0.400142, T: 42537, Avg. loss: 0.948421\nTotal training time: 0.01 seconds.\n-- Epoch 12\nNorm: 0.21, NNZs: 15, Bias: -0.401148, T: 46404, Avg. loss: 0.950000\nTotal training time: 0.02 seconds.\n-- Epoch 13\nNorm: 0.22, NNZs: 15, Bias: -0.401771, T: 50271, Avg. loss: 0.944368\nTotal training time: 0.02 seconds.\n-- Epoch 14\nNorm: 0.22, NNZs: 15, Bias: -0.402450, T: 54138, Avg. loss: 0.949061\nTotal training time: 0.02 seconds.\n-- Epoch 15\nNorm: 0.22, NNZs: 15, Bias: -0.403104, T: 58005, Avg. loss: 0.950640\nTotal training time: 0.02 seconds.\nConvergence after 15 epochs took 0.02 seconds\n-- Epoch 1\nNorm: 0.17, NNZs: 15, Bias: -0.091914, T: 3867, Avg. loss: 1.627768\nTotal training time: 0.00 seconds.\n-- Epoch 2\nNorm: 0.18, NNZs: 15, Bias: -0.099552, T: 7734, Avg. loss: 0.996154\nTotal training time: 0.00 seconds.\n-- Epoch 3\nNorm: 0.19, NNZs: 15, Bias: -0.102898, T: 11601, Avg. loss: 0.975535\nTotal training time: 0.00 seconds.\n-- Epoch 4\nNorm: 0.20, NNZs: 15, Bias: -0.105123, T: 15468, Avg. loss: 0.971800\nTotal training time: 0.00 seconds.\n-- Epoch 5\nNorm: 0.20, NNZs: 15, Bias: -0.107775, T: 19335, Avg. loss: 0.953416\nTotal training time: 0.01 seconds.\n-- Epoch 6\nNorm: 0.20, NNZs: 15, Bias: -0.109921, T: 23202, Avg. loss: 0.967136\nTotal training time: 0.01 seconds.\n-- Epoch 7\nNorm: 0.20, NNZs: 15, Bias: -0.111648, T: 27069, Avg. loss: 0.963817\nTotal training time: 0.01 seconds.\n-- Epoch 8\nNorm: 0.20, NNZs: 15, Bias: -0.113053, T: 30936, Avg. loss: 0.969260\nTotal training time: 0.01 seconds.\n-- Epoch 9\nNorm: 0.21, NNZs: 15, Bias: -0.113964, T: 34803, Avg. loss: 0.965578\nTotal training time: 0.01 seconds.\n-- Epoch 10\nNorm: 0.21, NNZs: 15, Bias: -0.114834, T: 38670, Avg. loss: 0.954826\nTotal training time: 0.01 seconds.\nConvergence after 10 epochs took 0.01 seconds\n-- Epoch 1\nNorm: 0.17, NNZs: 15, Bias: -0.299177, T: 3867, Avg. loss: 2.291534\nTotal training time: 0.00 seconds.\n-- Epoch 2\nNorm: 0.18, NNZs: 15, Bias: -0.301738, T: 7734, Avg. loss: 0.974403\nTotal training time: 0.00 seconds.\n-- Epoch 3\nNorm: 0.19, NNZs: 15, Bias: -0.303993, T: 11601, Avg. loss: 0.973191\nTotal training time: 0.00 seconds.\n-- Epoch 4\nNorm: 0.20, NNZs: 15, Bias: -0.306182, T: 15468, Avg. loss: 0.968504\nTotal training time: 0.00 seconds.\n-- Epoch 5\nNorm: 0.20, NNZs: 15, Bias: -0.307914, T: 19335, Avg. loss: 0.953725\nTotal training time: 0.01 seconds.\n-- Epoch 6\nNorm: 0.20, NNZs: 15, Bias: -0.309146, T: 23202, Avg. loss: 0.958459\nTotal training time: 0.01 seconds.\n-- Epoch 7\nNorm: 0.21, NNZs: 15, Bias: -0.309740, T: 27069, Avg. loss: 0.957211\nTotal training time: 0.01 seconds.\n-- Epoch 8\nNorm: 0.21, NNZs: 15, Bias: -0.311288, T: 30936, Avg. loss: 0.951253\nTotal training time: 0.07 seconds.\n-- Epoch 9\nNorm: 0.21, NNZs: 15, Bias: -0.311700, T: 34803, Avg. loss: 0.949994\nTotal training time: 0.07 seconds.\n-- Epoch 10\nNorm: 0.21, NNZs: 15, Bias: -0.312830, T: 38670, Avg. loss: 0.954478\nTotal training time: 0.07 seconds.\n-- Epoch 11\nNorm: 0.21, NNZs: 15, Bias: -0.313342, T: 42537, Avg. loss: 0.949066\nTotal training time: 0.07 seconds.\n-- Epoch 12\nNorm: 0.21, NNZs: 15, Bias: -0.314123, T: 46404, Avg. loss: 0.940799\nTotal training time: 0.07 seconds.\n-- Epoch 13\nNorm: 0.21, NNZs: 15, Bias: -0.314359, T: 50271, Avg. loss: 0.946459\nTotal training time: 0.08 seconds.\n-- Epoch 14\nNorm: 0.21, NNZs: 15, Bias: -0.314958, T: 54138, Avg. loss: 0.938183\nTotal training time: 0.08 seconds.\n-- Epoch 15\nNorm: 0.21, NNZs: 15, Bias: -0.315328, T: 58005, Avg. loss: 0.955656\nTotal training time: 0.08 seconds.\n-- Epoch 16\nNorm: 0.21, NNZs: 15, Bias: -0.316138, T: 61872, Avg. loss: 0.949046\nTotal training time: 0.08 seconds.\n-- Epoch 17\nNorm: 0.21, NNZs: 15, Bias: -0.316370, T: 65739, Avg. loss: 0.950488\nTotal training time: 0.08 seconds.\n-- Epoch 18\nNorm: 0.22, NNZs: 15, Bias: -0.316645, T: 69606, Avg. loss: 0.944257\nTotal training time: 0.09 seconds.\n-- Epoch 19\nNorm: 0.22, NNZs: 15, Bias: -0.317087, T: 73473, Avg. loss: 0.953494\nTotal training time: 0.09 seconds.\nConvergence after 19 epochs took 0.09 seconds\n-- Epoch 1\nNorm: 0.16, NNZs: 15, Bias: -0.744566, T: 3868, Avg. loss: 1.669474\nTotal training time: 0.00 seconds.\n-- Epoch 2\nNorm: 0.18, NNZs: 15, Bias: -0.743028, T: 7736, Avg. loss: 0.985565\nTotal training time: 0.00 seconds.\n-- Epoch 3\nNorm: 0.19, NNZs: 15, Bias: -0.742794, T: 11604, Avg. loss: 0.963412\nTotal training time: 0.00 seconds.\n-- Epoch 4\nNorm: 0.19, NNZs: 15, Bias: -0.744560, T: 15472, Avg. loss: 0.969898\nTotal training time: 0.00 seconds.\n-- Epoch 5\nNorm: 0.20, NNZs: 15, Bias: -0.746167, T: 19340, Avg. loss: 0.949891\nTotal training time: 0.00 seconds.\n-- Epoch 6\nNorm: 0.20, NNZs: 15, Bias: -0.746786, T: 23208, Avg. loss: 0.947205\nTotal training time: 0.00 seconds.\n-- Epoch 7\nNorm: 0.21, NNZs: 15, Bias: -0.747096, T: 27076, Avg. loss: 0.945256\nTotal training time: 0.00 seconds.\n-- Epoch 8\nNorm: 0.21, NNZs: 15, Bias: -0.747694, T: 30944, Avg. loss: 0.940036\nTotal training time: 0.00 seconds.\n-- Epoch 9\nNorm: 0.21, NNZs: 15, Bias: -0.748838, T: 34812, Avg. loss: 0.942810\nTotal training time: 0.00 seconds.\n-- Epoch 10\nNorm: 0.21, NNZs: 15, Bias: -0.749766, T: 38680, Avg. loss: 0.944570\nTotal training time: 0.00 seconds.\n-- Epoch 11\nNorm: 0.21, NNZs: 15, Bias: -0.750205, T: 42548, Avg. loss: 0.946813\nTotal training time: 0.07 seconds.\n-- Epoch 12\nNorm: 0.21, NNZs: 15, Bias: -0.750901, T: 46416, Avg. loss: 0.944173\nTotal training time: 0.07 seconds.\n-- Epoch 13\nNorm: 0.21, NNZs: 15, Bias: -0.751311, T: 50284, Avg. loss: 0.944037\nTotal training time: 0.08 seconds.\nConvergence after 13 epochs took 0.08 seconds\n-- Epoch 1\nNorm: 0.17, NNZs: 15, Bias: -0.297686, T: 3867, Avg. loss: 2.054700\nTotal training time: 0.00 seconds.\n-- Epoch 2\nNorm: 0.18, NNZs: 15, Bias: -0.303826, T: 7734, Avg. loss: 0.987360\nTotal training time: 0.00 seconds.\n-- Epoch 3\nNorm: 0.19, NNZs: 15, Bias: -0.308180, T: 11601, Avg. loss: 0.970622\nTotal training time: 0.01 seconds.\n-- Epoch 4\nNorm: 0.20, NNZs: 15, Bias: -0.311176, T: 15468, Avg. loss: 0.962663\nTotal training time: 0.01 seconds.\n-- Epoch 5\nNorm: 0.20, NNZs: 15, Bias: -0.313464, T: 19335, Avg. loss: 0.964984\nTotal training time: 0.06 seconds.\n-- Epoch 6\nNorm: 0.20, NNZs: 15, Bias: -0.315108, T: 23202, Avg. loss: 0.959184\nTotal training time: 0.06 seconds.\n-- Epoch 7\nNorm: 0.21, NNZs: 15, Bias: -0.316396, T: 27069, Avg. loss: 0.949603\nTotal training time: 0.06 seconds.\n-- Epoch 8\nNorm: 0.21, NNZs: 15, Bias: -0.317833, T: 30936, Avg. loss: 0.956180\nTotal training time: 0.07 seconds.\n-- Epoch 9\nNorm: 0.21, NNZs: 15, Bias: -0.319302, T: 34803, Avg. loss: 0.946584\nTotal training time: 0.07 seconds.\n-- Epoch 10\nNorm: 0.21, NNZs: 15, Bias: -0.320503, T: 38670, Avg. loss: 0.955403\nTotal training time: 0.07 seconds.\n-- Epoch 11\nNorm: 0.21, NNZs: 15, Bias: -0.321406, T: 42537, Avg. loss: 0.948696\nTotal training time: 0.07 seconds.\n-- Epoch 12\nNorm: 0.21, NNZs: 15, Bias: -0.322635, T: 46404, Avg. loss: 0.946290\nTotal training time: 0.07 seconds.\n-- Epoch 13\nNorm: 0.21, NNZs: 15, Bias: -0.323034, T: 50271, Avg. loss: 0.948094\nTotal training time: 0.08 seconds.\n-- Epoch 14\nNorm: 0.21, NNZs: 15, Bias: -0.324003, T: 54138, Avg. loss: 0.947731\nTotal training time: 0.08 seconds.\nConvergence after 14 epochs took 0.08 seconds\n-- Epoch 1\nNorm: 0.19, NNZs: 15, Bias: 0.743973, T: 3867, Avg. loss: 1.608762\nTotal training time: 0.00 seconds.\n-- Epoch 2\nNorm: 0.20, NNZs: 15, Bias: 0.726526, T: 7734, Avg. loss: 0.991412\nTotal training time: 0.00 seconds.\n-- Epoch 3\nNorm: 0.20, NNZs: 15, Bias: 0.719480, T: 11601, Avg. loss: 0.981539\nTotal training time: 0.00 seconds.\n-- Epoch 4\nNorm: 0.20, NNZs: 15, Bias: 0.714688, T: 15468, Avg. loss: 0.974558\nTotal training time: 0.00 seconds.\n-- Epoch 5\nNorm: 0.21, NNZs: 15, Bias: 0.710916, T: 19335, Avg. loss: 0.971459\nTotal training time: 0.00 seconds.\n-- Epoch 6\nNorm: 0.21, NNZs: 15, Bias: 0.708400, T: 23202, Avg. loss: 0.974485\nTotal training time: 0.00 seconds.\n-- Epoch 7\nNorm: 0.21, NNZs: 15, Bias: 0.706064, T: 27069, Avg. loss: 0.971227\nTotal training time: 0.00 seconds.\n-- Epoch 8\nNorm: 0.21, NNZs: 15, Bias: 0.704516, T: 30936, Avg. loss: 0.972031\nTotal training time: 0.00 seconds.\n-- Epoch 9\nNorm: 0.21, NNZs: 15, Bias: 0.702702, T: 34803, Avg. loss: 0.966810\nTotal training time: 0.00 seconds.\n-- Epoch 10\nNorm: 0.22, NNZs: 15, Bias: 0.700791, T: 38670, Avg. loss: 0.960057\nTotal training time: 0.00 seconds.\n-- Epoch 11\nNorm: 0.21, NNZs: 15, Bias: 0.699843, T: 42537, Avg. loss: 0.964880\nTotal training time: 0.00 seconds.\n-- Epoch 12\nNorm: 0.22, NNZs: 15, Bias: 0.698556, T: 46404, Avg. loss: 0.963200\nTotal training time: 0.00 seconds.\n-- Epoch 13\nNorm: 0.22, NNZs: 15, Bias: 0.697599, T: 50271, Avg. loss: 0.966105\nTotal training time: 0.00 seconds.\n-- Epoch 14\nNorm: 0.22, NNZs: 15, Bias: 0.696403, T: 54138, Avg. loss: 0.952117\nTotal training time: 0.06 seconds.\n-- Epoch 15\nNorm: 0.22, NNZs: 15, Bias: 0.695834, T: 58005, Avg. loss: 0.965134\nTotal training time: 0.07 seconds.\n-- Epoch 16\nNorm: 0.22, NNZs: 15, Bias: 0.695108, T: 61872, Avg. loss: 0.963323\nTotal training time: 0.07 seconds.\n-- Epoch 17\nNorm: 0.22, NNZs: 15, Bias: 0.694213, T: 65739, Avg. loss: 0.963493\nTotal training time: 0.07 seconds.\n-- Epoch 18\nNorm: 0.22, NNZs: 15, Bias: 0.693862, T: 69606, Avg. loss: 0.961147\nTotal training time: 0.07 seconds.\n-- Epoch 19\nNorm: 0.22, NNZs: 15, Bias: 0.693090, T: 73473, Avg. loss: 0.967650\nTotal training time: 0.07 seconds.\nConvergence after 19 epochs took 0.07 seconds\n-- Epoch 1\nNorm: 0.16, NNZs: 15, Bias: -0.764821, T: 3867, Avg. loss: 1.864012\nTotal training time: 0.00 seconds.\n-- Epoch 2\nNorm: 0.17, NNZs: 15, Bias: -0.760519, T: 7734, Avg. loss: 0.987131\nTotal training time: 0.00 seconds.\n-- Epoch 3\nNorm: 0.18, NNZs: 15, Bias: -0.761071, T: 11601, Avg. loss: 0.972158\nTotal training time: 0.00 seconds.\n-- Epoch 4\nNorm: 0.18, NNZs: 15, Bias: -0.761165, T: 15468, Avg. loss: 0.950371\nTotal training time: 0.00 seconds.\n-- Epoch 5\nNorm: 0.19, NNZs: 15, Bias: -0.761973, T: 19335, Avg. loss: 0.962940\nTotal training time: 0.01 seconds.\n-- Epoch 6\nNorm: 0.19, NNZs: 15, Bias: -0.763093, T: 23202, Avg. loss: 0.952054\nTotal training time: 0.01 seconds.\n-- Epoch 7\nNorm: 0.20, NNZs: 15, Bias: -0.762817, T: 27069, Avg. loss: 0.952905\nTotal training time: 0.01 seconds.\n-- Epoch 8\nNorm: 0.20, NNZs: 15, Bias: -0.763917, T: 30936, Avg. loss: 0.950550\nTotal training time: 0.01 seconds.\n-- Epoch 9\nNorm: 0.20, NNZs: 15, Bias: -0.764254, T: 34803, Avg. loss: 0.947240\nTotal training time: 0.01 seconds.\n-- Epoch 10\nNorm: 0.20, NNZs: 15, Bias: -0.765097, T: 38670, Avg. loss: 0.944105\nTotal training time: 0.01 seconds.\n-- Epoch 11\nNorm: 0.20, NNZs: 15, Bias: -0.765593, T: 42537, Avg. loss: 0.945927\nTotal training time: 0.01 seconds.\n-- Epoch 12\nNorm: 0.20, NNZs: 15, Bias: -0.765852, T: 46404, Avg. loss: 0.944568\nTotal training time: 0.01 seconds.\n-- Epoch 13\nNorm: 0.20, NNZs: 15, Bias: -0.766523, T: 50271, Avg. loss: 0.939509\nTotal training time: 0.01 seconds.\n-- Epoch 14\nNorm: 0.20, NNZs: 15, Bias: -0.766961, T: 54138, Avg. loss: 0.947048\nTotal training time: 0.01 seconds.\n-- Epoch 15\nNorm: 0.21, NNZs: 15, Bias: -0.767096, T: 58005, Avg. loss: 0.939666\nTotal training time: 0.02 seconds.\n-- Epoch 16\nNorm: 0.21, NNZs: 15, Bias: -0.767557, T: 61872, Avg. loss: 0.944396\nTotal training time: 0.02 seconds.\n-- Epoch 17\nNorm: 0.21, NNZs: 15, Bias: -0.768191, T: 65739, Avg. loss: 0.943530\nTotal training time: 0.08 seconds.\n-- Epoch 18\nNorm: 0.21, NNZs: 15, Bias: -0.768405, T: 69606, Avg. loss: 0.947059\nTotal training time: 0.08 seconds.\nConvergence after 18 epochs took 0.08 seconds\n-- Epoch 1\nNorm: 0.17, NNZs: 15, Bias: -0.475204, T: 3867, Avg. loss: 1.844144\nTotal training time: 0.00 seconds.\n-- Epoch 2\nNorm: 0.18, NNZs: 15, Bias: -0.477478, T: 7734, Avg. loss: 0.999099\nTotal training time: 0.00 seconds.\n-- Epoch 3\nNorm: 0.19, NNZs: 15, Bias: -0.479263, T: 11601, Avg. loss: 0.973390\nTotal training time: 0.00 seconds.\n-- Epoch 4\nNorm: 0.19, NNZs: 15, Bias: -0.479974, T: 15468, Avg. loss: 0.949766\nTotal training time: 0.00 seconds.\n-- Epoch 5\nNorm: 0.20, NNZs: 15, Bias: -0.481254, T: 19335, Avg. loss: 0.959822\nTotal training time: 0.00 seconds.\n-- Epoch 6\nNorm: 0.20, NNZs: 15, Bias: -0.482809, T: 23202, Avg. loss: 0.954645\nTotal training time: 0.00 seconds.\n-- Epoch 7\nNorm: 0.20, NNZs: 15, Bias: -0.483591, T: 27069, Avg. loss: 0.945980\nTotal training time: 0.00 seconds.\n-- Epoch 8\nNorm: 0.20, NNZs: 15, Bias: -0.484166, T: 30936, Avg. loss: 0.951402\nTotal training time: 0.00 seconds.\n-- Epoch 9\nNorm: 0.21, NNZs: 15, Bias: -0.484866, T: 34803, Avg. loss: 0.954606\nTotal training time: 0.00 seconds.\n-- Epoch 10\nNorm: 0.21, NNZs: 15, Bias: -0.485673, T: 38670, Avg. loss: 0.949276\nTotal training time: 0.00 seconds.\n-- Epoch 11\nNorm: 0.21, NNZs: 15, Bias: -0.486527, T: 42537, Avg. loss: 0.944863\nTotal training time: 0.00 seconds.\n-- Epoch 12\nNorm: 0.21, NNZs: 15, Bias: -0.486803, T: 46404, Avg. loss: 0.941139\nTotal training time: 0.00 seconds.\n-- Epoch 13\nNorm: 0.21, NNZs: 15, Bias: -0.487277, T: 50271, Avg. loss: 0.950920\nTotal training time: 0.00 seconds.\n-- Epoch 14\nNorm: 0.21, NNZs: 15, Bias: -0.488068, T: 54138, Avg. loss: 0.932576\nTotal training time: 0.01 seconds.\n-- Epoch 15\nNorm: 0.21, NNZs: 15, Bias: -0.488603, T: 58005, Avg. loss: 0.951716\nTotal training time: 0.01 seconds.\n-- Epoch 16\nNorm: 0.21, NNZs: 15, Bias: -0.488733, T: 61872, Avg. loss: 0.945982\nTotal training time: 0.01 seconds.\n-- Epoch 17\nNorm: 0.21, NNZs: 15, Bias: -0.489642, T: 65739, Avg. loss: 0.939251\nTotal training time: 0.01 seconds.\n-- Epoch 18\nNorm: 0.21, NNZs: 15, Bias: -0.489657, T: 69606, Avg. loss: 0.953147\nTotal training time: 0.07 seconds.\n-- Epoch 19\nNorm: 0.21, NNZs: 15, Bias: -0.490145, T: 73473, Avg. loss: 0.951025\nTotal training time: 0.07 seconds.\nConvergence after 19 epochs took 0.07 seconds\n-- Epoch 1\nNorm: 0.16, NNZs: 15, Bias: -0.889986, T: 3868, Avg. loss: 1.909007\nTotal training time: 0.00 seconds.\n-- Epoch 2\nNorm: 0.18, NNZs: 15, Bias: -0.882778, T: 7736, Avg. loss: 0.962021\nTotal training time: 0.00 seconds.\n-- Epoch 3\nNorm: 0.19, NNZs: 15, Bias: -0.881342, T: 11604, Avg. loss: 0.961167\nTotal training time: 0.00 seconds.\n-- Epoch 4\nNorm: 0.19, NNZs: 15, Bias: -0.882043, T: 15472, Avg. loss: 0.958881\nTotal training time: 0.00 seconds.\n-- Epoch 5\nNorm: 0.19, NNZs: 15, Bias: -0.882020, T: 19340, Avg. loss: 0.953185\nTotal training time: 0.00 seconds.\n-- Epoch 6\nNorm: 0.20, NNZs: 15, Bias: -0.881896, T: 23208, Avg. loss: 0.947114\nTotal training time: 0.01 seconds.\n-- Epoch 7\nNorm: 0.20, NNZs: 15, Bias: -0.882716, T: 27076, Avg. loss: 0.951146\nTotal training time: 0.01 seconds.\n-- Epoch 8\nNorm: 0.20, NNZs: 15, Bias: -0.881999, T: 30944, Avg. loss: 0.936362\nTotal training time: 0.01 seconds.\n-- Epoch 9\nNorm: 0.20, NNZs: 15, Bias: -0.881821, T: 34812, Avg. loss: 0.946770\nTotal training time: 0.01 seconds.\n-- Epoch 10\nNorm: 0.20, NNZs: 15, Bias: -0.881787, T: 38680, Avg. loss: 0.944518\nTotal training time: 0.01 seconds.\n-- Epoch 11\nNorm: 0.21, NNZs: 15, Bias: -0.881656, T: 42548, Avg. loss: 0.940856\nTotal training time: 0.01 seconds.\n-- Epoch 12\nNorm: 0.21, NNZs: 15, Bias: -0.882125, T: 46416, Avg. loss: 0.943802\nTotal training time: 0.01 seconds.\n-- Epoch 13\nNorm: 0.21, NNZs: 15, Bias: -0.882631, T: 50284, Avg. loss: 0.941302\nTotal training time: 0.01 seconds.\nConvergence after 13 epochs took 0.01 seconds\n-- Epoch 1\nNorm: 0.15, NNZs: 15, Bias: -0.905223, T: 3867, Avg. loss: 1.311422\nTotal training time: 0.00 seconds.\n-- Epoch 2\nNorm: 0.17, NNZs: 15, Bias: -0.899070, T: 7734, Avg. loss: 0.969841\nTotal training time: 0.00 seconds.\n-- Epoch 3\nNorm: 0.18, NNZs: 15, Bias: -0.896748, T: 11601, Avg. loss: 0.955577\nTotal training time: 0.00 seconds.\n-- Epoch 4\nNorm: 0.18, NNZs: 15, Bias: -0.895927, T: 15468, Avg. loss: 0.951618\nTotal training time: 0.00 seconds.\n-- Epoch 5\nNorm: 0.19, NNZs: 15, Bias: -0.895591, T: 19335, Avg. loss: 0.951667\nTotal training time: 0.00 seconds.\n-- Epoch 6\nNorm: 0.19, NNZs: 15, Bias: -0.895173, T: 23202, Avg. loss: 0.953631\nTotal training time: 0.01 seconds.\n-- Epoch 7\nNorm: 0.19, NNZs: 15, Bias: -0.894876, T: 27069, Avg. loss: 0.952417\nTotal training time: 0.01 seconds.\n-- Epoch 8\nNorm: 0.19, NNZs: 15, Bias: -0.894745, T: 30936, Avg. loss: 0.951819\nTotal training time: 0.01 seconds.\n-- Epoch 9\nNorm: 0.20, NNZs: 15, Bias: -0.894743, T: 34803, Avg. loss: 0.951205\nTotal training time: 0.01 seconds.\nConvergence after 9 epochs took 0.01 seconds\n-- Epoch 1\nNorm: 0.18, NNZs: 15, Bias: 0.815444, T: 3867, Avg. loss: 1.914033\nTotal training time: 0.00 seconds.\n-- Epoch 2\nNorm: 0.19, NNZs: 15, Bias: 0.798935, T: 7734, Avg. loss: 0.988788\nTotal training time: 0.00 seconds.\n-- Epoch 3\nNorm: 0.19, NNZs: 15, Bias: 0.790798, T: 11601, Avg. loss: 0.981051\nTotal training time: 0.00 seconds.\n-- Epoch 4\nNorm: 0.20, NNZs: 15, Bias: 0.785476, T: 15468, Avg. loss: 0.979066\nTotal training time: 0.00 seconds.\n-- Epoch 5\nNorm: 0.20, NNZs: 15, Bias: 0.781827, T: 19335, Avg. loss: 0.979000\nTotal training time: 0.00 seconds.\n-- Epoch 6\nNorm: 0.21, NNZs: 15, Bias: 0.779156, T: 23202, Avg. loss: 0.977237\nTotal training time: 0.01 seconds.\n-- Epoch 7\nNorm: 0.21, NNZs: 15, Bias: 0.776993, T: 27069, Avg. loss: 0.975920\nTotal training time: 0.01 seconds.\n-- Epoch 8\nNorm: 0.21, NNZs: 15, Bias: 0.775123, T: 30936, Avg. loss: 0.974840\nTotal training time: 0.01 seconds.\n-- Epoch 9\nNorm: 0.21, NNZs: 15, Bias: 0.773477, T: 34803, Avg. loss: 0.974083\nTotal training time: 0.01 seconds.\n-- Epoch 10\nNorm: 0.21, NNZs: 15, Bias: 0.772039, T: 38670, Avg. loss: 0.973455\nTotal training time: 0.01 seconds.\n-- Epoch 11\nNorm: 0.22, NNZs: 15, Bias: 0.770766, T: 42537, Avg. loss: 0.972627\nTotal training time: 0.01 seconds.\n-- Epoch 12\nNorm: 0.22, NNZs: 15, Bias: 0.769606, T: 46404, Avg. loss: 0.972288\nTotal training time: 0.01 seconds.\n-- Epoch 13\nNorm: 0.22, NNZs: 15, Bias: 0.768561, T: 50271, Avg. loss: 0.971908\nTotal training time: 0.01 seconds.\nConvergence after 13 epochs took 0.01 seconds\n-- Epoch 1\nNorm: 0.17, NNZs: 15, Bias: 0.819444, T: 3867, Avg. loss: 1.904986\nTotal training time: 0.00 seconds.\n-- Epoch 2\nNorm: 0.18, NNZs: 15, Bias: 0.802018, T: 7734, Avg. loss: 0.988963\nTotal training time: 0.00 seconds.\n-- Epoch 3\nNorm: 0.19, NNZs: 15, Bias: 0.793577, T: 11601, Avg. loss: 0.982172\nTotal training time: 0.00 seconds.\n-- Epoch 4\nNorm: 0.19, NNZs: 15, Bias: 0.788233, T: 15468, Avg. loss: 0.980840\nTotal training time: 0.00 seconds.\n-- Epoch 5\nNorm: 0.20, NNZs: 15, Bias: 0.784628, T: 19335, Avg. loss: 0.978594\nTotal training time: 0.00 seconds.\n-- Epoch 6\nNorm: 0.20, NNZs: 15, Bias: 0.781852, T: 23202, Avg. loss: 0.977853\nTotal training time: 0.01 seconds.\n-- Epoch 7\nNorm: 0.20, NNZs: 15, Bias: 0.779564, T: 27069, Avg. loss: 0.978034\nTotal training time: 0.01 seconds.\n-- Epoch 8\nNorm: 0.21, NNZs: 15, Bias: 0.777692, T: 30936, Avg. loss: 0.977911\nTotal training time: 0.01 seconds.\n-- Epoch 9\nNorm: 0.21, NNZs: 15, Bias: 0.776139, T: 34803, Avg. loss: 0.977588\nTotal training time: 0.01 seconds.\n-- Epoch 10\nNorm: 0.21, NNZs: 15, Bias: 0.774755, T: 38670, Avg. loss: 0.976957\nTotal training time: 0.07 seconds.\nConvergence after 10 epochs took 0.07 seconds\n-- Epoch 1\nNorm: 0.17, NNZs: 15, Bias: 0.825833, T: 3867, Avg. loss: 1.906355\nTotal training time: 0.00 seconds.\n-- Epoch 2\nNorm: 0.19, NNZs: 15, Bias: 0.811119, T: 7734, Avg. loss: 0.987736\nTotal training time: 0.00 seconds.\n-- Epoch 3\nNorm: 0.19, NNZs: 15, Bias: 0.804096, T: 11601, Avg. loss: 0.979527\nTotal training time: 0.00 seconds.\n-- Epoch 4\nNorm: 0.20, NNZs: 15, Bias: 0.799536, T: 15468, Avg. loss: 0.977853\nTotal training time: 0.00 seconds.\n-- Epoch 5\nNorm: 0.20, NNZs: 15, Bias: 0.796495, T: 19335, Avg. loss: 0.976248\nTotal training time: 0.00 seconds.\n-- Epoch 6\nNorm: 0.21, NNZs: 15, Bias: 0.794229, T: 23202, Avg. loss: 0.976284\nTotal training time: 0.01 seconds.\n-- Epoch 7\nNorm: 0.21, NNZs: 15, Bias: 0.792378, T: 27069, Avg. loss: 0.976439\nTotal training time: 0.01 seconds.\n-- Epoch 8\nNorm: 0.21, NNZs: 15, Bias: 0.790919, T: 30936, Avg. loss: 0.976025\nTotal training time: 0.01 seconds.\n-- Epoch 9\nNorm: 0.21, NNZs: 15, Bias: 0.789638, T: 34803, Avg. loss: 0.974615\nTotal training time: 0.01 seconds.\n-- Epoch 10\nNorm: 0.21, NNZs: 15, Bias: 0.788497, T: 38670, Avg. loss: 0.974499\nTotal training time: 0.01 seconds.\n-- Epoch 11\nNorm: 0.21, NNZs: 15, Bias: 0.787519, T: 42537, Avg. loss: 0.973500\nTotal training time: 0.01 seconds.\n-- Epoch 12\nNorm: 0.21, NNZs: 15, Bias: 0.786606, T: 46404, Avg. loss: 0.972892\nTotal training time: 0.01 seconds.\n-- Epoch 13\nNorm: 0.22, NNZs: 15, Bias: 0.785811, T: 50271, Avg. loss: 0.972570\nTotal training time: 0.01 seconds.\n-- Epoch 14\nNorm: 0.22, NNZs: 15, Bias: 0.785076, T: 54138, Avg. loss: 0.971945\nTotal training time: 0.02 seconds.\nConvergence after 14 epochs took 0.02 seconds\n-- Epoch 1\nNorm: 0.19, NNZs: 15, Bias: 0.818384, T: 3868, Avg. loss: 1.920305\nTotal training time: 0.00 seconds.\n-- Epoch 2\nNorm: 0.20, NNZs: 15, Bias: 0.801938, T: 7736, Avg. loss: 0.988807\nTotal training time: 0.00 seconds.\n-- Epoch 3\nNorm: 0.20, NNZs: 15, Bias: 0.794142, T: 11604, Avg. loss: 0.981883\nTotal training time: 0.00 seconds.\n-- Epoch 4\nNorm: 0.21, NNZs: 15, Bias: 0.789297, T: 15472, Avg. loss: 0.980771\nTotal training time: 0.00 seconds.\n-- Epoch 5\nNorm: 0.21, NNZs: 15, Bias: 0.785937, T: 19340, Avg. loss: 0.978860\nTotal training time: 0.01 seconds.\n-- Epoch 6\nNorm: 0.21, NNZs: 15, Bias: 0.783290, T: 23208, Avg. loss: 0.977811\nTotal training time: 0.01 seconds.\n-- Epoch 7\nNorm: 0.21, NNZs: 15, Bias: 0.781096, T: 27076, Avg. loss: 0.976609\nTotal training time: 0.01 seconds.\n-- Epoch 8\nNorm: 0.21, NNZs: 15, Bias: 0.779229, T: 30944, Avg. loss: 0.974711\nTotal training time: 0.01 seconds.\n-- Epoch 9\nNorm: 0.22, NNZs: 15, Bias: 0.777613, T: 34812, Avg. loss: 0.973673\nTotal training time: 0.01 seconds.\n-- Epoch 10\nNorm: 0.22, NNZs: 15, Bias: 0.776112, T: 38680, Avg. loss: 0.972546\nTotal training time: 0.01 seconds.\n-- Epoch 11\nNorm: 0.22, NNZs: 15, Bias: 0.774780, T: 42548, Avg. loss: 0.971769\nTotal training time: 0.01 seconds.\n-- Epoch 12\nNorm: 0.22, NNZs: 15, Bias: 0.773587, T: 46416, Avg. loss: 0.971313\nTotal training time: 0.01 seconds.\n-- Epoch 13\nNorm: 0.22, NNZs: 15, Bias: 0.772512, T: 50284, Avg. loss: 0.970911\nTotal training time: 0.01 seconds.\n-- Epoch 14\nNorm: 0.22, NNZs: 15, Bias: 0.771554, T: 54152, Avg. loss: 0.970199\nTotal training time: 0.01 seconds.\n-- Epoch 15\nNorm: 0.22, NNZs: 15, Bias: 0.770644, T: 58020, Avg. loss: 0.969567\nTotal training time: 0.02 seconds.\nConvergence after 15 epochs took 0.02 seconds\n-- Epoch 1\nNorm: 0.15, NNZs: 15, Bias: -0.905223, T: 3867, Avg. loss: 1.311422\nTotal training time: 0.00 seconds.\n-- Epoch 2\nNorm: 0.17, NNZs: 15, Bias: -0.899070, T: 7734, Avg. loss: 0.969841\nTotal training time: 0.00 seconds.\n-- Epoch 3\nNorm: 0.18, NNZs: 15, Bias: -0.896748, T: 11601, Avg. loss: 0.955577\nTotal training time: 0.00 seconds.\n-- Epoch 4\nNorm: 0.18, NNZs: 15, Bias: -0.895927, T: 15468, Avg. loss: 0.951618\nTotal training time: 0.00 seconds.\n-- Epoch 5\nNorm: 0.19, NNZs: 15, Bias: -0.895591, T: 19335, Avg. loss: 0.951667\nTotal training time: 0.00 seconds.\n-- Epoch 6\nNorm: 0.19, NNZs: 15, Bias: -0.895173, T: 23202, Avg. loss: 0.953631\nTotal training time: 0.00 seconds.\n-- Epoch 7\nNorm: 0.19, NNZs: 15, Bias: -0.894876, T: 27069, Avg. loss: 0.952417\nTotal training time: 0.00 seconds.\n-- Epoch 8\nNorm: 0.19, NNZs: 15, Bias: -0.894745, T: 30936, Avg. loss: 0.951819\nTotal training time: 0.00 seconds.\n-- Epoch 9\nNorm: 0.20, NNZs: 15, Bias: -0.894743, T: 34803, Avg. loss: 0.951205\nTotal training time: 0.00 seconds.\nConvergence after 9 epochs took 0.00 seconds\n-- Epoch 1\nNorm: 0.18, NNZs: 15, Bias: 0.815444, T: 3867, Avg. loss: 1.914033\nTotal training time: 0.00 seconds.\n-- Epoch 2\nNorm: 0.19, NNZs: 15, Bias: 0.798935, T: 7734, Avg. loss: 0.988788\nTotal training time: 0.00 seconds.\n-- Epoch 3\nNorm: 0.19, NNZs: 15, Bias: 0.790798, T: 11601, Avg. loss: 0.981051\nTotal training time: 0.00 seconds.\n-- Epoch 4\nNorm: 0.20, NNZs: 15, Bias: 0.785476, T: 15468, Avg. loss: 0.979066\nTotal training time: 0.00 seconds.\n-- Epoch 5\nNorm: 0.20, NNZs: 15, Bias: 0.781827, T: 19335, Avg. loss: 0.979000\nTotal training time: 0.01 seconds.\n-- Epoch 6\nNorm: 0.21, NNZs: 15, Bias: 0.779156, T: 23202, Avg. loss: 0.977237\nTotal training time: 0.01 seconds.\n-- Epoch 7\nNorm: 0.21, NNZs: 15, Bias: 0.776993, T: 27069, Avg. loss: 0.975920\nTotal training time: 0.01 seconds.\n-- Epoch 8\nNorm: 0.21, NNZs: 15, Bias: 0.775123, T: 30936, Avg. loss: 0.974840\nTotal training time: 0.01 seconds.\n-- Epoch 9\nNorm: 0.21, NNZs: 15, Bias: 0.773477, T: 34803, Avg. loss: 0.974083\nTotal training time: 0.01 seconds.\n-- Epoch 10\nNorm: 0.21, NNZs: 15, Bias: 0.772039, T: 38670, Avg. loss: 0.973455\nTotal training time: 0.01 seconds.\n-- Epoch 11\nNorm: 0.22, NNZs: 15, Bias: 0.770766, T: 42537, Avg. loss: 0.972627\nTotal training time: 0.01 seconds.\n-- Epoch 12\nNorm: 0.22, NNZs: 15, Bias: 0.769606, T: 46404, Avg. loss: 0.972288\nTotal training time: 0.01 seconds.\n-- Epoch 13\nNorm: 0.22, NNZs: 15, Bias: 0.768561, T: 50271, Avg. loss: 0.971908\nTotal training time: 0.01 seconds.\nConvergence after 13 epochs took 0.01 seconds\n-- Epoch 1\nNorm: 0.17, NNZs: 15, Bias: 0.819444, T: 3867, Avg. loss: 1.904986\nTotal training time: 0.00 seconds.\n-- Epoch 2\nNorm: 0.18, NNZs: 15, Bias: 0.802018, T: 7734, Avg. loss: 0.988963\nTotal training time: 0.00 seconds.\n-- Epoch 3\nNorm: 0.19, NNZs: 15, Bias: 0.793577, T: 11601, Avg. loss: 0.982172\nTotal training time: 0.00 seconds.\n-- Epoch 4\nNorm: 0.19, NNZs: 15, Bias: 0.788233, T: 15468, Avg. loss: 0.980840\nTotal training time: 0.00 seconds.\n-- Epoch 5\nNorm: 0.20, NNZs: 15, Bias: 0.784628, T: 19335, Avg. loss: 0.978594\nTotal training time: 0.00 seconds.\n-- Epoch 6\nNorm: 0.20, NNZs: 15, Bias: 0.781852, T: 23202, Avg. loss: 0.977853\nTotal training time: 0.00 seconds.\n-- Epoch 7\nNorm: 0.20, NNZs: 15, Bias: 0.779564, T: 27069, Avg. loss: 0.978034\nTotal training time: 0.00 seconds.\n-- Epoch 8\nNorm: 0.21, NNZs: 15, Bias: 0.777692, T: 30936, Avg. loss: 0.977911\nTotal training time: 0.00 seconds.\n-- Epoch 9\nNorm: 0.21, NNZs: 15, Bias: 0.776139, T: 34803, Avg. loss: 0.977588\nTotal training time: 0.00 seconds.\n-- Epoch 10\nNorm: 0.21, NNZs: 15, Bias: 0.774755, T: 38670, Avg. loss: 0.976957\nTotal training time: 0.00 seconds.\nConvergence after 10 epochs took 0.00 seconds\n-- Epoch 1\nNorm: 0.17, NNZs: 15, Bias: 0.825833, T: 3867, Avg. loss: 1.906355\nTotal training time: 0.00 seconds.\n-- Epoch 2\nNorm: 0.19, NNZs: 15, Bias: 0.811119, T: 7734, Avg. loss: 0.987736\nTotal training time: 0.00 seconds.\n-- Epoch 3\nNorm: 0.19, NNZs: 15, Bias: 0.804096, T: 11601, Avg. loss: 0.979527\nTotal training time: 0.00 seconds.\n-- Epoch 4\nNorm: 0.20, NNZs: 15, Bias: 0.799536, T: 15468, Avg. loss: 0.977853\nTotal training time: 0.00 seconds.\n-- Epoch 5\nNorm: 0.20, NNZs: 15, Bias: 0.796495, T: 19335, Avg. loss: 0.976248\nTotal training time: 0.01 seconds.\n-- Epoch 6\nNorm: 0.21, NNZs: 15, Bias: 0.794229, T: 23202, Avg. loss: 0.976284\nTotal training time: 0.01 seconds.\n-- Epoch 7\nNorm: 0.21, NNZs: 15, Bias: 0.792378, T: 27069, Avg. loss: 0.976439\nTotal training time: 0.01 seconds.\n-- Epoch 8\nNorm: 0.21, NNZs: 15, Bias: 0.790919, T: 30936, Avg. loss: 0.976025\nTotal training time: 0.01 seconds.\n-- Epoch 9\nNorm: 0.21, NNZs: 15, Bias: 0.789638, T: 34803, Avg. loss: 0.974615\nTotal training time: 0.01 seconds.\n-- Epoch 10\nNorm: 0.21, NNZs: 15, Bias: 0.788497, T: 38670, Avg. loss: 0.974499\nTotal training time: 0.01 seconds.\n-- Epoch 11\nNorm: 0.21, NNZs: 15, Bias: 0.787519, T: 42537, Avg. loss: 0.973500\nTotal training time: 0.01 seconds.\n-- Epoch 12\nNorm: 0.21, NNZs: 15, Bias: 0.786606, T: 46404, Avg. loss: 0.972892\nTotal training time: 0.01 seconds.\n-- Epoch 13\nNorm: 0.22, NNZs: 15, Bias: 0.785811, T: 50271, Avg. loss: 0.972570\nTotal training time: 0.02 seconds.\n-- Epoch 14\nNorm: 0.22, NNZs: 15, Bias: 0.785076, T: 54138, Avg. loss: 0.971945\nTotal training time: 0.02 seconds.\nConvergence after 14 epochs took 0.02 seconds\n-- Epoch 1\nNorm: 0.19, NNZs: 15, Bias: 0.818384, T: 3868, Avg. loss: 1.920305\nTotal training time: 0.00 seconds.\n-- Epoch 2\nNorm: 0.20, NNZs: 15, Bias: 0.801938, T: 7736, Avg. loss: 0.988807\nTotal training time: 0.05 seconds.\n-- Epoch 3\nNorm: 0.20, NNZs: 15, Bias: 0.794142, T: 11604, Avg. loss: 0.981883\nTotal training time: 0.06 seconds.\n-- Epoch 4\nNorm: 0.21, NNZs: 15, Bias: 0.789297, T: 15472, Avg. loss: 0.980771\nTotal training time: 0.06 seconds.\n-- Epoch 5\nNorm: 0.21, NNZs: 15, Bias: 0.785937, T: 19340, Avg. loss: 0.978860\nTotal training time: 0.06 seconds.\n-- Epoch 6\nNorm: 0.21, NNZs: 15, Bias: 0.783290, T: 23208, Avg. loss: 0.977811\nTotal training time: 0.06 seconds.\n-- Epoch 7\nNorm: 0.21, NNZs: 15, Bias: 0.781096, T: 27076, Avg. loss: 0.976609\nTotal training time: 0.06 seconds.\n-- Epoch 8\nNorm: 0.21, NNZs: 15, Bias: 0.779229, T: 30944, Avg. loss: 0.974711\nTotal training time: 0.06 seconds.\n-- Epoch 9\nNorm: 0.22, NNZs: 15, Bias: 0.777613, T: 34812, Avg. loss: 0.973673\nTotal training time: 0.06 seconds.\n-- Epoch 10\nNorm: 0.22, NNZs: 15, Bias: 0.776112, T: 38680, Avg. loss: 0.972546\nTotal training time: 0.06 seconds.\n-- Epoch 11\nNorm: 0.22, NNZs: 15, Bias: 0.774780, T: 42548, Avg. loss: 0.971769\nTotal training time: 0.06 seconds.\n-- Epoch 12\nNorm: 0.22, NNZs: 15, Bias: 0.773587, T: 46416, Avg. loss: 0.971313\nTotal training time: 0.06 seconds.\n-- Epoch 13\nNorm: 0.22, NNZs: 15, Bias: 0.772512, T: 50284, Avg. loss: 0.970911\nTotal training time: 0.06 seconds.\n-- Epoch 14\nNorm: 0.22, NNZs: 15, Bias: 0.771554, T: 54152, Avg. loss: 0.970199\nTotal training time: 0.06 seconds.\n-- Epoch 15\nNorm: 0.22, NNZs: 15, Bias: 0.770644, T: 58020, Avg. loss: 0.969567\nTotal training time: 0.07 seconds.\nConvergence after 15 epochs took 0.07 seconds\n-- Epoch 1\nNorm: 0.15, NNZs: 15, Bias: -0.905223, T: 3867, Avg. loss: 1.311422\nTotal training time: 0.00 seconds.\n-- Epoch 2\nNorm: 0.17, NNZs: 15, Bias: -0.899070, T: 7734, Avg. loss: 0.969841\nTotal training time: 0.00 seconds.\n-- Epoch 3\nNorm: 0.18, NNZs: 15, Bias: -0.896748, T: 11601, Avg. loss: 0.955577\nTotal training time: 0.00 seconds.\n-- Epoch 4\nNorm: 0.18, NNZs: 15, Bias: -0.895927, T: 15468, Avg. loss: 0.951618\nTotal training time: 0.00 seconds.\n-- Epoch 5\nNorm: 0.19, NNZs: 15, Bias: -0.895591, T: 19335, Avg. loss: 0.951667\nTotal training time: 0.00 seconds.\n-- Epoch 6\nNorm: 0.19, NNZs: 15, Bias: -0.895173, T: 23202, Avg. loss: 0.953631\nTotal training time: 0.00 seconds.\n-- Epoch 7\nNorm: 0.19, NNZs: 15, Bias: -0.894876, T: 27069, Avg. loss: 0.952417\nTotal training time: 0.01 seconds.\n-- Epoch 8\nNorm: 0.19, NNZs: 15, Bias: -0.894745, T: 30936, Avg. loss: 0.951819\nTotal training time: 0.01 seconds.\n-- Epoch 9\nNorm: 0.20, NNZs: 15, Bias: -0.894743, T: 34803, Avg. loss: 0.951205\nTotal training time: 0.01 seconds.\nConvergence after 9 epochs took 0.01 seconds\n-- Epoch 1\nNorm: 0.18, NNZs: 15, Bias: 0.815444, T: 3867, Avg. loss: 1.914033\nTotal training time: 0.00 seconds.\n-- Epoch 2\nNorm: 0.19, NNZs: 15, Bias: 0.798935, T: 7734, Avg. loss: 0.988788\nTotal training time: 0.00 seconds.\n-- Epoch 3\nNorm: 0.19, NNZs: 15, Bias: 0.790798, T: 11601, Avg. loss: 0.981051\nTotal training time: 0.00 seconds.\n-- Epoch 4\nNorm: 0.20, NNZs: 15, Bias: 0.785476, T: 15468, Avg. loss: 0.979066\nTotal training time: 0.06 seconds.\n-- Epoch 5\nNorm: 0.20, NNZs: 15, Bias: 0.781827, T: 19335, Avg. loss: 0.979000\nTotal training time: 0.06 seconds.\n-- Epoch 6\nNorm: 0.21, NNZs: 15, Bias: 0.779156, T: 23202, Avg. loss: 0.977237\nTotal training time: 0.06 seconds.\n-- Epoch 7\nNorm: 0.21, NNZs: 15, Bias: 0.776993, T: 27069, Avg. loss: 0.975920\nTotal training time: 0.06 seconds.\n-- Epoch 8\nNorm: 0.21, NNZs: 15, Bias: 0.775123, T: 30936, Avg. loss: 0.974840\nTotal training time: 0.06 seconds.\n-- Epoch 9\nNorm: 0.21, NNZs: 15, Bias: 0.773477, T: 34803, Avg. loss: 0.974083\nTotal training time: 0.06 seconds.\n-- Epoch 10\nNorm: 0.21, NNZs: 15, Bias: 0.772039, T: 38670, Avg. loss: 0.973455\nTotal training time: 0.07 seconds.\n-- Epoch 11\nNorm: 0.22, NNZs: 15, Bias: 0.770766, T: 42537, Avg. loss: 0.972627\nTotal training time: 0.07 seconds.\n-- Epoch 12\nNorm: 0.22, NNZs: 15, Bias: 0.769606, T: 46404, Avg. loss: 0.972288\nTotal training time: 0.07 seconds.\n-- Epoch 13\nNorm: 0.22, NNZs: 15, Bias: 0.768561, T: 50271, Avg. loss: 0.971908\nTotal training time: 0.07 seconds.\nConvergence after 13 epochs took 0.07 seconds\n-- Epoch 1\nNorm: 0.17, NNZs: 15, Bias: 0.819444, T: 3867, Avg. loss: 1.904986\nTotal training time: 0.00 seconds.\n-- Epoch 2\nNorm: 0.18, NNZs: 15, Bias: 0.802018, T: 7734, Avg. loss: 0.988963\nTotal training time: 0.00 seconds.\n-- Epoch 3\nNorm: 0.19, NNZs: 15, Bias: 0.793577, T: 11601, Avg. loss: 0.982172\nTotal training time: 0.00 seconds.\n-- Epoch 4\nNorm: 0.19, NNZs: 15, Bias: 0.788233, T: 15468, Avg. loss: 0.980840\nTotal training time: 0.00 seconds.\n-- Epoch 5\nNorm: 0.20, NNZs: 15, Bias: 0.784628, T: 19335, Avg. loss: 0.978594\nTotal training time: 0.01 seconds.\n-- Epoch 6\nNorm: 0.20, NNZs: 15, Bias: 0.781852, T: 23202, Avg. loss: 0.977853\nTotal training time: 0.01 seconds.\n-- Epoch 7\nNorm: 0.20, NNZs: 15, Bias: 0.779564, T: 27069, Avg. loss: 0.978034\nTotal training time: 0.01 seconds.\n-- Epoch 8\nNorm: 0.21, NNZs: 15, Bias: 0.777692, T: 30936, Avg. loss: 0.977911\nTotal training time: 0.01 seconds.\n-- Epoch 9\nNorm: 0.21, NNZs: 15, Bias: 0.776139, T: 34803, Avg. loss: 0.977588\nTotal training time: 0.01 seconds.\n-- Epoch 10\nNorm: 0.21, NNZs: 15, Bias: 0.774755, T: 38670, Avg. loss: 0.976957\nTotal training time: 0.01 seconds.\nConvergence after 10 epochs took 0.01 seconds\n-- Epoch 1\nNorm: 0.17, NNZs: 15, Bias: 0.825833, T: 3867, Avg. loss: 1.906355\nTotal training time: 0.00 seconds.\n-- Epoch 2\nNorm: 0.19, NNZs: 15, Bias: 0.811119, T: 7734, Avg. loss: 0.987736\nTotal training time: 0.00 seconds.\n-- Epoch 3\nNorm: 0.19, NNZs: 15, Bias: 0.804096, T: 11601, Avg. loss: 0.979527\nTotal training time: 0.00 seconds.\n-- Epoch 4\nNorm: 0.20, NNZs: 15, Bias: 0.799536, T: 15468, Avg. loss: 0.977853\nTotal training time: 0.00 seconds.\n-- Epoch 5\nNorm: 0.20, NNZs: 15, Bias: 0.796495, T: 19335, Avg. loss: 0.976248\nTotal training time: 0.01 seconds.\n-- Epoch 6\nNorm: 0.21, NNZs: 15, Bias: 0.794229, T: 23202, Avg. loss: 0.976284\nTotal training time: 0.01 seconds.\n-- Epoch 7\nNorm: 0.21, NNZs: 15, Bias: 0.792378, T: 27069, Avg. loss: 0.976439\nTotal training time: 0.01 seconds.\n-- Epoch 8\nNorm: 0.21, NNZs: 15, Bias: 0.790919, T: 30936, Avg. loss: 0.976025\nTotal training time: 0.01 seconds.\n-- Epoch 9\nNorm: 0.21, NNZs: 15, Bias: 0.789638, T: 34803, Avg. loss: 0.974615\nTotal training time: 0.01 seconds.\n-- Epoch 10\nNorm: 0.21, NNZs: 15, Bias: 0.788497, T: 38670, Avg. loss: 0.974499\nTotal training time: 0.01 seconds.\n-- Epoch 11\nNorm: 0.21, NNZs: 15, Bias: 0.787519, T: 42537, Avg. loss: 0.973500\nTotal training time: 0.01 seconds.\n-- Epoch 12\nNorm: 0.21, NNZs: 15, Bias: 0.786606, T: 46404, Avg. loss: 0.972892\nTotal training time: 0.01 seconds.\n-- Epoch 13\nNorm: 0.22, NNZs: 15, Bias: 0.785811, T: 50271, Avg. loss: 0.972570\nTotal training time: 0.01 seconds.\n-- Epoch 14\nNorm: 0.22, NNZs: 15, Bias: 0.785076, T: 54138, Avg. loss: 0.971945\nTotal training time: 0.01 seconds.\nConvergence after 14 epochs took 0.01 seconds\n-- Epoch 1\nNorm: 0.19, NNZs: 15, Bias: 0.818384, T: 3868, Avg. loss: 1.920305\nTotal training time: 0.00 seconds.\n-- Epoch 2\nNorm: 0.20, NNZs: 15, Bias: 0.801938, T: 7736, Avg. loss: 0.988807\nTotal training time: 0.00 seconds.\n-- Epoch 3\nNorm: 0.20, NNZs: 15, Bias: 0.794142, T: 11604, Avg. loss: 0.981883\nTotal training time: 0.00 seconds.\n-- Epoch 4\nNorm: 0.21, NNZs: 15, Bias: 0.789297, T: 15472, Avg. loss: 0.980771\nTotal training time: 0.00 seconds.\n-- Epoch 5\nNorm: 0.21, NNZs: 15, Bias: 0.785937, T: 19340, Avg. loss: 0.978860\nTotal training time: 0.00 seconds.\n-- Epoch 6\nNorm: 0.21, NNZs: 15, Bias: 0.783290, T: 23208, Avg. loss: 0.977811\nTotal training time: 0.00 seconds.\n-- Epoch 7\nNorm: 0.21, NNZs: 15, Bias: 0.781096, T: 27076, Avg. loss: 0.976609\nTotal training time: 0.00 seconds.\n-- Epoch 8\nNorm: 0.21, NNZs: 15, Bias: 0.779229, T: 30944, Avg. loss: 0.974711\nTotal training time: 0.00 seconds.\n-- Epoch 9\nNorm: 0.22, NNZs: 15, Bias: 0.777613, T: 34812, Avg. loss: 0.973673\nTotal training time: 0.00 seconds.\n-- Epoch 10\nNorm: 0.22, NNZs: 15, Bias: 0.776112, T: 38680, Avg. loss: 0.972546\nTotal training time: 0.00 seconds.\n-- Epoch 11\nNorm: 0.22, NNZs: 15, Bias: 0.774780, T: 42548, Avg. loss: 0.971769\nTotal training time: 0.00 seconds.\n-- Epoch 12\nNorm: 0.22, NNZs: 15, Bias: 0.773587, T: 46416, Avg. loss: 0.971313\nTotal training time: 0.00 seconds.\n-- Epoch 13\nNorm: 0.22, NNZs: 15, Bias: 0.772512, T: 50284, Avg. loss: 0.970911\nTotal training time: 0.00 seconds.\n-- Epoch 14\nNorm: 0.22, NNZs: 15, Bias: 0.771554, T: 54152, Avg. loss: 0.970199\nTotal training time: 0.00 seconds.\n-- Epoch 15\nNorm: 0.22, NNZs: 15, Bias: 0.770644, T: 58020, Avg. loss: 0.969567\nTotal training time: 0.00 seconds.\nConvergence after 15 epochs took 0.00 seconds\n",
     "output_type": "stream"
    }
   ]
  },
  {
   "cell_type": "code",
   "metadata": {
    "tags": [],
    "cell_id": "00049-17ec2782-a3dc-4b89-a678-94576b39c441",
    "deepnote_to_be_reexecuted": false,
    "source_hash": "32c9439c",
    "execution_start": 1621959084609,
    "execution_millis": 15,
    "deepnote_cell_type": "code"
   },
   "source": "# Returns max value of the mean test score \nmax(scores['mean_test_score'])",
   "execution_count": null,
   "outputs": [
    {
     "output_type": "execute_result",
     "execution_count": 49,
     "data": {
      "text/plain": "0.6876281684833458"
     },
     "metadata": {}
    }
   ]
  },
  {
   "cell_type": "code",
   "metadata": {
    "tags": [],
    "cell_id": "00050-9c7659bd-9c73-4b11-8197-2001238ca999",
    "deepnote_to_be_reexecuted": false,
    "source_hash": "46f0d3fb",
    "execution_start": 1621959084617,
    "execution_millis": 17,
    "is_output_hidden": true,
    "deepnote_cell_type": "code"
   },
   "source": "# loop that runs all of the possible parameter configurations from the parameter dictionary above\nfor mean_score, params in sorted(list(zip(scores[\"mean_test_score\"], scores[\"params\"])),key = lambda x: x[0]):\n     print(f'Best parameters for SGD Classifier are {params} with a score of {mean_score}')",
   "execution_count": null,
   "outputs": [
    {
     "name": "stdout",
     "text": "Best parameters for SGD Classifier are {'alpha': 1, 'class_weight': 'balanced', 'shuffle': False, 'verbose': 0} with a score of 0.502272936511505\nBest parameters for SGD Classifier are {'alpha': 1, 'class_weight': 'balanced', 'shuffle': False, 'verbose': 1} with a score of 0.502272936511505\nBest parameters for SGD Classifier are {'alpha': 1, 'class_weight': 'balanced', 'shuffle': False, 'verbose': 5} with a score of 0.502272936511505\nBest parameters for SGD Classifier are {'alpha': 1, 'class_weight': 'balanced', 'shuffle': False, 'verbose': 10} with a score of 0.502272936511505\nBest parameters for SGD Classifier are {'alpha': 1, 'class_weight': 'balanced', 'shuffle': True, 'verbose': 1} with a score of 0.5163419767439371\nBest parameters for SGD Classifier are {'alpha': 1, 'class_weight': None, 'shuffle': True, 'verbose': 0} with a score of 0.5171795547048459\nBest parameters for SGD Classifier are {'alpha': 1, 'class_weight': None, 'shuffle': True, 'verbose': 1} with a score of 0.5184095867563336\nBest parameters for SGD Classifier are {'alpha': 1, 'class_weight': None, 'shuffle': False, 'verbose': 0} with a score of 0.5208872074525597\nBest parameters for SGD Classifier are {'alpha': 1, 'class_weight': None, 'shuffle': False, 'verbose': 1} with a score of 0.5208872074525597\nBest parameters for SGD Classifier are {'alpha': 1, 'class_weight': None, 'shuffle': False, 'verbose': 5} with a score of 0.5208872074525597\nBest parameters for SGD Classifier are {'alpha': 1, 'class_weight': None, 'shuffle': False, 'verbose': 10} with a score of 0.5208872074525597\nBest parameters for SGD Classifier are {'alpha': 0.0001, 'class_weight': None, 'shuffle': False, 'verbose': 0} with a score of 0.5262689455981124\nBest parameters for SGD Classifier are {'alpha': 0.0001, 'class_weight': None, 'shuffle': False, 'verbose': 1} with a score of 0.5262689455981124\nBest parameters for SGD Classifier are {'alpha': 0.0001, 'class_weight': None, 'shuffle': False, 'verbose': 5} with a score of 0.5262689455981124\nBest parameters for SGD Classifier are {'alpha': 0.0001, 'class_weight': None, 'shuffle': False, 'verbose': 10} with a score of 0.5262689455981124\nBest parameters for SGD Classifier are {'alpha': 1, 'class_weight': 'balanced', 'shuffle': True, 'verbose': 0} with a score of 0.5320557700171926\nBest parameters for SGD Classifier are {'alpha': 1, 'class_weight': 'balanced', 'shuffle': True, 'verbose': 10} with a score of 0.5364033819993533\nBest parameters for SGD Classifier are {'alpha': 1, 'class_weight': None, 'shuffle': True, 'verbose': 5} with a score of 0.5434354399104186\nBest parameters for SGD Classifier are {'alpha': 0.0001, 'class_weight': None, 'shuffle': True, 'verbose': 10} with a score of 0.5436653884610362\nBest parameters for SGD Classifier are {'alpha': 0.0001, 'class_weight': 'balanced', 'shuffle': True, 'verbose': 1} with a score of 0.5452953682709539\nBest parameters for SGD Classifier are {'alpha': 1, 'class_weight': 'balanced', 'shuffle': True, 'verbose': 5} with a score of 0.549857941468031\nBest parameters for SGD Classifier are {'alpha': 1, 'class_weight': None, 'shuffle': True, 'verbose': 10} with a score of 0.5550176529404082\nBest parameters for SGD Classifier are {'alpha': 0.0001, 'class_weight': 'balanced', 'shuffle': True, 'verbose': 10} with a score of 0.5792504619310967\nBest parameters for SGD Classifier are {'alpha': 0.0001, 'class_weight': 'balanced', 'shuffle': False, 'verbose': 0} with a score of 0.5796298556291363\nBest parameters for SGD Classifier are {'alpha': 0.0001, 'class_weight': 'balanced', 'shuffle': False, 'verbose': 1} with a score of 0.5796298556291363\nBest parameters for SGD Classifier are {'alpha': 0.0001, 'class_weight': 'balanced', 'shuffle': False, 'verbose': 5} with a score of 0.5796298556291363\nBest parameters for SGD Classifier are {'alpha': 0.0001, 'class_weight': 'balanced', 'shuffle': False, 'verbose': 10} with a score of 0.5796298556291363\nBest parameters for SGD Classifier are {'alpha': 0.0001, 'class_weight': None, 'shuffle': True, 'verbose': 0} with a score of 0.5852122099682912\nBest parameters for SGD Classifier are {'alpha': 0.0001, 'class_weight': None, 'shuffle': True, 'verbose': 1} with a score of 0.5870824153590217\nBest parameters for SGD Classifier are {'alpha': 0.001, 'class_weight': 'balanced', 'shuffle': True, 'verbose': 0} with a score of 0.5881099042737459\nBest parameters for SGD Classifier are {'alpha': 0.001, 'class_weight': None, 'shuffle': True, 'verbose': 0} with a score of 0.5960052327212078\nBest parameters for SGD Classifier are {'alpha': 0.01, 'class_weight': 'balanced', 'shuffle': False, 'verbose': 0} with a score of 0.6005207028632233\nBest parameters for SGD Classifier are {'alpha': 0.01, 'class_weight': 'balanced', 'shuffle': False, 'verbose': 1} with a score of 0.6005207028632233\nBest parameters for SGD Classifier are {'alpha': 0.01, 'class_weight': 'balanced', 'shuffle': False, 'verbose': 5} with a score of 0.6005207028632233\nBest parameters for SGD Classifier are {'alpha': 0.01, 'class_weight': 'balanced', 'shuffle': False, 'verbose': 10} with a score of 0.6005207028632233\nBest parameters for SGD Classifier are {'alpha': 0.01, 'class_weight': None, 'shuffle': False, 'verbose': 0} with a score of 0.607965126610871\nBest parameters for SGD Classifier are {'alpha': 0.01, 'class_weight': None, 'shuffle': False, 'verbose': 1} with a score of 0.607965126610871\nBest parameters for SGD Classifier are {'alpha': 0.01, 'class_weight': None, 'shuffle': False, 'verbose': 5} with a score of 0.607965126610871\nBest parameters for SGD Classifier are {'alpha': 0.01, 'class_weight': None, 'shuffle': False, 'verbose': 10} with a score of 0.607965126610871\nBest parameters for SGD Classifier are {'alpha': 0.001, 'class_weight': 'balanced', 'shuffle': True, 'verbose': 5} with a score of 0.6104605180051428\nBest parameters for SGD Classifier are {'alpha': 0.001, 'class_weight': None, 'shuffle': True, 'verbose': 5} with a score of 0.6121112659802467\nBest parameters for SGD Classifier are {'alpha': 0.001, 'class_weight': 'balanced', 'shuffle': True, 'verbose': 10} with a score of 0.6166871136746591\nBest parameters for SGD Classifier are {'alpha': 0.0001, 'class_weight': None, 'shuffle': True, 'verbose': 5} with a score of 0.6176871971755296\nBest parameters for SGD Classifier are {'alpha': 0.001, 'class_weight': None, 'shuffle': True, 'verbose': 1} with a score of 0.623710607393895\nBest parameters for SGD Classifier are {'alpha': 0.001, 'class_weight': 'balanced', 'shuffle': False, 'verbose': 0} with a score of 0.6300952124026626\nBest parameters for SGD Classifier are {'alpha': 0.001, 'class_weight': 'balanced', 'shuffle': False, 'verbose': 1} with a score of 0.6300952124026626\nBest parameters for SGD Classifier are {'alpha': 0.001, 'class_weight': 'balanced', 'shuffle': False, 'verbose': 5} with a score of 0.6300952124026626\nBest parameters for SGD Classifier are {'alpha': 0.001, 'class_weight': 'balanced', 'shuffle': False, 'verbose': 10} with a score of 0.6300952124026626\nBest parameters for SGD Classifier are {'alpha': 0.1, 'class_weight': None, 'shuffle': True, 'verbose': 10} with a score of 0.6301095574239767\nBest parameters for SGD Classifier are {'alpha': 0.0001, 'class_weight': 'balanced', 'shuffle': True, 'verbose': 0} with a score of 0.6323824939354816\nBest parameters for SGD Classifier are {'alpha': 0.001, 'class_weight': None, 'shuffle': True, 'verbose': 10} with a score of 0.633000400375968\nBest parameters for SGD Classifier are {'alpha': 0.01, 'class_weight': None, 'shuffle': True, 'verbose': 10} with a score of 0.6400568662337467\nBest parameters for SGD Classifier are {'alpha': 0.1, 'class_weight': None, 'shuffle': True, 'verbose': 1} with a score of 0.6402632632568336\nBest parameters for SGD Classifier are {'alpha': 0.01, 'class_weight': 'balanced', 'shuffle': True, 'verbose': 10} with a score of 0.6408681093047803\nBest parameters for SGD Classifier are {'alpha': 0.0001, 'class_weight': 'balanced', 'shuffle': True, 'verbose': 5} with a score of 0.6415067839104529\nBest parameters for SGD Classifier are {'alpha': 0.1, 'class_weight': 'balanced', 'shuffle': True, 'verbose': 5} with a score of 0.6468698949387768\nBest parameters for SGD Classifier are {'alpha': 0.01, 'class_weight': None, 'shuffle': True, 'verbose': 0} with a score of 0.6501778140328565\nBest parameters for SGD Classifier are {'alpha': 0.01, 'class_weight': None, 'shuffle': True, 'verbose': 1} with a score of 0.6543136763720371\nBest parameters for SGD Classifier are {'alpha': 0.1, 'class_weight': 'balanced', 'shuffle': True, 'verbose': 10} with a score of 0.6586585049918533\nBest parameters for SGD Classifier are {'alpha': 0.001, 'class_weight': None, 'shuffle': False, 'verbose': 0} with a score of 0.6588434915353669\nBest parameters for SGD Classifier are {'alpha': 0.001, 'class_weight': None, 'shuffle': False, 'verbose': 1} with a score of 0.6588434915353669\nBest parameters for SGD Classifier are {'alpha': 0.001, 'class_weight': None, 'shuffle': False, 'verbose': 5} with a score of 0.6588434915353669\nBest parameters for SGD Classifier are {'alpha': 0.001, 'class_weight': None, 'shuffle': False, 'verbose': 10} with a score of 0.6588434915353669\nBest parameters for SGD Classifier are {'alpha': 0.01, 'class_weight': None, 'shuffle': True, 'verbose': 5} with a score of 0.6588777483026842\nBest parameters for SGD Classifier are {'alpha': 0.001, 'class_weight': 'balanced', 'shuffle': True, 'verbose': 1} with a score of 0.6599116603612805\nBest parameters for SGD Classifier are {'alpha': 0.1, 'class_weight': None, 'shuffle': True, 'verbose': 0} with a score of 0.6607291124713902\nBest parameters for SGD Classifier are {'alpha': 0.1, 'class_weight': None, 'shuffle': False, 'verbose': 0} with a score of 0.6615549146685337\nBest parameters for SGD Classifier are {'alpha': 0.1, 'class_weight': None, 'shuffle': False, 'verbose': 1} with a score of 0.6615549146685337\nBest parameters for SGD Classifier are {'alpha': 0.1, 'class_weight': None, 'shuffle': False, 'verbose': 5} with a score of 0.6615549146685337\nBest parameters for SGD Classifier are {'alpha': 0.1, 'class_weight': None, 'shuffle': False, 'verbose': 10} with a score of 0.6615549146685337\nBest parameters for SGD Classifier are {'alpha': 0.01, 'class_weight': 'balanced', 'shuffle': True, 'verbose': 1} with a score of 0.6630129683274776\nBest parameters for SGD Classifier are {'alpha': 0.1, 'class_weight': None, 'shuffle': True, 'verbose': 5} with a score of 0.6634208379633495\nBest parameters for SGD Classifier are {'alpha': 0.1, 'class_weight': 'balanced', 'shuffle': True, 'verbose': 0} with a score of 0.6663236707839019\nBest parameters for SGD Classifier are {'alpha': 0.1, 'class_weight': 'balanced', 'shuffle': False, 'verbose': 0} with a score of 0.6671394100556458\nBest parameters for SGD Classifier are {'alpha': 0.1, 'class_weight': 'balanced', 'shuffle': False, 'verbose': 1} with a score of 0.6671394100556458\nBest parameters for SGD Classifier are {'alpha': 0.1, 'class_weight': 'balanced', 'shuffle': False, 'verbose': 5} with a score of 0.6671394100556458\nBest parameters for SGD Classifier are {'alpha': 0.1, 'class_weight': 'balanced', 'shuffle': False, 'verbose': 10} with a score of 0.6671394100556458\nBest parameters for SGD Classifier are {'alpha': 0.01, 'class_weight': 'balanced', 'shuffle': True, 'verbose': 5} with a score of 0.6725222187251771\nBest parameters for SGD Classifier are {'alpha': 0.1, 'class_weight': 'balanced', 'shuffle': True, 'verbose': 1} with a score of 0.6766638618938426\nBest parameters for SGD Classifier are {'alpha': 0.01, 'class_weight': 'balanced', 'shuffle': True, 'verbose': 0} with a score of 0.6876281684833458\n",
     "output_type": "stream"
    }
   ]
  },
  {
   "cell_type": "markdown",
   "source": "Best parameters for SGD Classifier are {'alpha': 0.01, 'class_weight': None, 'shuffle': True, 'verbose': 5} using f_feature from Select K Best\n",
   "metadata": {
    "tags": [],
    "cell_id": "00051-c3636cb1-861e-4d20-ac55-4f50c27ad9cc",
    "deepnote_cell_type": "markdown"
   }
  },
  {
   "cell_type": "code",
   "metadata": {
    "tags": [],
    "cell_id": "00049-3e3bd1e4-f867-4c2a-aa7d-34e78b11a543",
    "deepnote_to_be_reexecuted": false,
    "source_hash": "6f44e136",
    "is_output_hidden": true,
    "allow_embed": false,
    "execution_start": 1621959084636,
    "execution_millis": 45070,
    "deepnote_cell_type": "code"
   },
   "source": "# Create a parameter dictionary for the model, {'parameter': [list of settings]}\nparameters = [\n    {\n    'alpha': [0.0001, 0.001, 0.01, 0.1, 1],\n    'shuffle': [True, False],\n    'verbose': [0, 1, 5, 10],\n    'class_weight': [None, 'balanced'],\n    },\n]\n# Created variable model which holds the KNN model\nmodel = SGDClassifier()\n# Create grid_search model, looking at recall\ngrid_search = GridSearchCV(model,\n                           param_grid=parameters,\n                           scoring='accuracy',\n                           )\n# Create variable r that hold the FIT grid_search\nr = grid_search.fit(X_train[rfe_list], y_train)\nscores = r.cv_results_\nlm = r.best_estimator_",
   "execution_count": null,
   "outputs": [
    {
     "name": "stdout",
     "text": "Total training time: 0.00 seconds.\n-- Epoch 3\nNorm: 0.24, NNZs: 15, Bias: 0.002891, T: 11601, Avg. loss: 0.944488\nTotal training time: 0.00 seconds.\n-- Epoch 4\nNorm: 0.24, NNZs: 15, Bias: -0.003225, T: 15468, Avg. loss: 0.944357\nTotal training time: 0.00 seconds.\n-- Epoch 5\nNorm: 0.24, NNZs: 15, Bias: -0.007925, T: 19335, Avg. loss: 0.944257\nTotal training time: 0.01 seconds.\n-- Epoch 6\nNorm: 0.24, NNZs: 15, Bias: -0.011743, T: 23202, Avg. loss: 0.944177\nTotal training time: 0.01 seconds.\n-- Epoch 7\nNorm: 0.24, NNZs: 15, Bias: -0.014958, T: 27069, Avg. loss: 0.944110\nTotal training time: 0.01 seconds.\nConvergence after 7 epochs took 0.01 seconds\n-- Epoch 1\nNorm: 0.23, NNZs: 15, Bias: 0.029448, T: 3867, Avg. loss: 0.951113\nTotal training time: 0.00 seconds.\n-- Epoch 2\nNorm: 0.23, NNZs: 15, Bias: 0.013861, T: 7734, Avg. loss: 0.948007\nTotal training time: 0.00 seconds.\n-- Epoch 3\nNorm: 0.23, NNZs: 15, Bias: 0.005133, T: 11601, Avg. loss: 0.947681\nTotal training time: 0.00 seconds.\n-- Epoch 4\nNorm: 0.23, NNZs: 15, Bias: -0.000960, T: 15468, Avg. loss: 0.947495\nTotal training time: 0.00 seconds.\n-- Epoch 5\nNorm: 0.23, NNZs: 15, Bias: -0.005646, T: 19335, Avg. loss: 0.947366\nTotal training time: 0.01 seconds.\n-- Epoch 6\nNorm: 0.23, NNZs: 15, Bias: -0.009455, T: 23202, Avg. loss: 0.947266\nTotal training time: 0.01 seconds.\n-- Epoch 7\nNorm: 0.23, NNZs: 15, Bias: -0.012663, T: 27069, Avg. loss: 0.947186\nTotal training time: 0.01 seconds.\nConvergence after 7 epochs took 0.01 seconds\n-- Epoch 1\nNorm: 0.23, NNZs: 15, Bias: 0.028962, T: 3867, Avg. loss: 0.949495\nTotal training time: 0.00 seconds.\n-- Epoch 2\nNorm: 0.23, NNZs: 15, Bias: 0.013492, T: 7734, Avg. loss: 0.946165\nTotal training time: 0.00 seconds.\n-- Epoch 3\nNorm: 0.23, NNZs: 15, Bias: 0.004883, T: 11601, Avg. loss: 0.945848\nTotal training time: 0.00 seconds.\n-- Epoch 4\nNorm: 0.23, NNZs: 15, Bias: -0.001108, T: 15468, Avg. loss: 0.945670\nTotal training time: 0.01 seconds.\n-- Epoch 5\nNorm: 0.23, NNZs: 15, Bias: -0.005708, T: 19335, Avg. loss: 0.945547\nTotal training time: 0.01 seconds.\n-- Epoch 6\nNorm: 0.23, NNZs: 15, Bias: -0.009442, T: 23202, Avg. loss: 0.945453\nTotal training time: 0.01 seconds.\n-- Epoch 7\nNorm: 0.23, NNZs: 15, Bias: -0.012585, T: 27069, Avg. loss: 0.945377\nTotal training time: 0.01 seconds.\nConvergence after 7 epochs took 0.01 seconds\n-- Epoch 1\nNorm: 0.24, NNZs: 15, Bias: 0.028819, T: 3868, Avg. loss: 0.948445\nTotal training time: 0.00 seconds.\n-- Epoch 2\nNorm: 0.24, NNZs: 15, Bias: 0.013260, T: 7736, Avg. loss: 0.944546\nTotal training time: 0.00 seconds.\n-- Epoch 3\nNorm: 0.24, NNZs: 15, Bias: 0.004584, T: 11604, Avg. loss: 0.944139\nTotal training time: 0.00 seconds.\n-- Epoch 4\nNorm: 0.24, NNZs: 15, Bias: -0.001461, T: 15472, Avg. loss: 0.943921\nTotal training time: 0.00 seconds.\n-- Epoch 5\nNorm: 0.24, NNZs: 15, Bias: -0.006104, T: 19340, Avg. loss: 0.943775\nTotal training time: 0.00 seconds.\n-- Epoch 6\nNorm: 0.24, NNZs: 15, Bias: -0.009876, T: 23208, Avg. loss: 0.943666\nTotal training time: 0.00 seconds.\n-- Epoch 7\nNorm: 0.24, NNZs: 15, Bias: -0.013052, T: 27076, Avg. loss: 0.943579\nTotal training time: 0.00 seconds.\nConvergence after 7 epochs took 0.00 seconds\n-- Epoch 1\nNorm: 0.22, NNZs: 15, Bias: -0.461267, T: 3867, Avg. loss: 0.944954\nTotal training time: 0.00 seconds.\n-- Epoch 2\nNorm: 0.22, NNZs: 15, Bias: -0.462104, T: 7734, Avg. loss: 0.940747\nTotal training time: 0.00 seconds.\n-- Epoch 3\nNorm: 0.22, NNZs: 15, Bias: -0.462077, T: 11601, Avg. loss: 0.940370\nTotal training time: 0.00 seconds.\n-- Epoch 4\nNorm: 0.22, NNZs: 15, Bias: -0.462526, T: 15468, Avg. loss: 0.940154\nTotal training time: 0.00 seconds.\n-- Epoch 5\nNorm: 0.22, NNZs: 15, Bias: -0.462779, T: 19335, Avg. loss: 0.939905\nTotal training time: 0.00 seconds.\n-- Epoch 6\nNorm: 0.22, NNZs: 15, Bias: -0.462845, T: 23202, Avg. loss: 0.939888\nTotal training time: 0.00 seconds.\n-- Epoch 7\nNorm: 0.22, NNZs: 15, Bias: -0.462821, T: 27069, Avg. loss: 0.940020\nTotal training time: 0.00 seconds.\nConvergence after 7 epochs took 0.00 seconds\n-- Epoch 1\nNorm: 0.23, NNZs: 15, Bias: 0.139288, T: 3867, Avg. loss: 0.952397\nTotal training time: 0.00 seconds.\n-- Epoch 2\nNorm: 0.23, NNZs: 15, Bias: 0.133810, T: 7734, Avg. loss: 0.949084\nTotal training time: 0.00 seconds.\n-- Epoch 3\nNorm: 0.23, NNZs: 15, Bias: 0.132826, T: 11601, Avg. loss: 0.949127\nTotal training time: 0.00 seconds.\n-- Epoch 4\nNorm: 0.23, NNZs: 15, Bias: 0.132583, T: 15468, Avg. loss: 0.949304\nTotal training time: 0.00 seconds.\n-- Epoch 5\nNorm: 0.23, NNZs: 15, Bias: 0.132628, T: 19335, Avg. loss: 0.949582\nTotal training time: 0.00 seconds.\n-- Epoch 6\nNorm: 0.23, NNZs: 15, Bias: 0.132519, T: 23202, Avg. loss: 0.949527\nTotal training time: 0.01 seconds.\n-- Epoch 7\nNorm: 0.23, NNZs: 15, Bias: 0.132541, T: 27069, Avg. loss: 0.949382\nTotal training time: 0.01 seconds.\nConvergence after 7 epochs took 0.01 seconds\n-- Epoch 1\nNorm: 0.22, NNZs: 15, Bias: -0.001548, T: 3867, Avg. loss: 0.956625\nTotal training time: 0.00 seconds.\n-- Epoch 2\nNorm: 0.22, NNZs: 15, Bias: -0.000585, T: 7734, Avg. loss: 0.950332\nTotal training time: 0.00 seconds.\n-- Epoch 3\nNorm: 0.22, NNZs: 15, Bias: -0.000900, T: 11601, Avg. loss: 0.949940\nTotal training time: 0.00 seconds.\n-- Epoch 4\nNorm: 0.22, NNZs: 15, Bias: -0.000805, T: 15468, Avg. loss: 0.949865\nTotal training time: 0.01 seconds.\n-- Epoch 5\nNorm: 0.22, NNZs: 15, Bias: -0.000566, T: 19335, Avg. loss: 0.949694\nTotal training time: 0.01 seconds.\n-- Epoch 6\nNorm: 0.22, NNZs: 15, Bias: -0.000465, T: 23202, Avg. loss: 0.949676\nTotal training time: 0.01 seconds.\n-- Epoch 7\nNorm: 0.22, NNZs: 15, Bias: -0.000599, T: 27069, Avg. loss: 0.949472\nTotal training time: 0.01 seconds.\nConvergence after 7 epochs took 0.01 seconds\n-- Epoch 1\nNorm: 0.23, NNZs: 15, Bias: 0.520150, T: 3867, Avg. loss: 0.963980\nTotal training time: 0.00 seconds.\n-- Epoch 2\nNorm: 0.23, NNZs: 15, Bias: 0.521100, T: 7734, Avg. loss: 0.959001\nTotal training time: 0.01 seconds.\n-- Epoch 3\nNorm: 0.23, NNZs: 15, Bias: 0.521881, T: 11601, Avg. loss: 0.958289\nTotal training time: 0.01 seconds.\n-- Epoch 4\nNorm: 0.23, NNZs: 15, Bias: 0.521573, T: 15468, Avg. loss: 0.958199\nTotal training time: 0.01 seconds.\n-- Epoch 5\nNorm: 0.23, NNZs: 15, Bias: 0.521402, T: 19335, Avg. loss: 0.957957\nTotal training time: 0.01 seconds.\n-- Epoch 6\nNorm: 0.23, NNZs: 15, Bias: 0.521298, T: 23202, Avg. loss: 0.958032\nTotal training time: 0.01 seconds.\n-- Epoch 7\nNorm: 0.23, NNZs: 15, Bias: 0.521463, T: 27069, Avg. loss: 0.958104\nTotal training time: 0.01 seconds.\nConvergence after 7 epochs took 0.01 seconds\n-- Epoch 1\nNorm: 0.23, NNZs: 15, Bias: 0.433970, T: 3868, Avg. loss: 0.961329\nTotal training time: 0.00 seconds.\n-- Epoch 2\nNorm: 0.23, NNZs: 15, Bias: 0.437074, T: 7736, Avg. loss: 0.955526\nTotal training time: 0.00 seconds.\n-- Epoch 3\nNorm: 0.23, NNZs: 15, Bias: 0.437249, T: 11604, Avg. loss: 0.954804\nTotal training time: 0.00 seconds.\n-- Epoch 4\nNorm: 0.23, NNZs: 15, Bias: 0.437197, T: 15472, Avg. loss: 0.954917\nTotal training time: 0.01 seconds.\n-- Epoch 5\nNorm: 0.23, NNZs: 15, Bias: 0.437117, T: 19340, Avg. loss: 0.954970\nTotal training time: 0.01 seconds.\n-- Epoch 6\nNorm: 0.23, NNZs: 15, Bias: 0.436975, T: 23208, Avg. loss: 0.954674\nTotal training time: 0.01 seconds.\n-- Epoch 7\nNorm: 0.23, NNZs: 15, Bias: 0.437040, T: 27076, Avg. loss: 0.954749\nTotal training time: 0.01 seconds.\nConvergence after 7 epochs took 0.01 seconds\n-- Epoch 1\nNorm: 0.22, NNZs: 15, Bias: 0.038175, T: 3867, Avg. loss: 0.945794\nTotal training time: 0.00 seconds.\n-- Epoch 2\nNorm: 0.22, NNZs: 15, Bias: 0.037655, T: 7734, Avg. loss: 0.951288\nTotal training time: 0.00 seconds.\n-- Epoch 3\nNorm: 0.22, NNZs: 15, Bias: 0.038601, T: 11601, Avg. loss: 0.950871\nTotal training time: 0.00 seconds.\n-- Epoch 4\nNorm: 0.22, NNZs: 15, Bias: 0.038907, T: 15468, Avg. loss: 0.950119\nTotal training time: 0.01 seconds.\n-- Epoch 5\nNorm: 0.22, NNZs: 15, Bias: 0.039170, T: 19335, Avg. loss: 0.950156\nTotal training time: 0.01 seconds.\n-- Epoch 6\nNorm: 0.22, NNZs: 15, Bias: 0.038955, T: 23202, Avg. loss: 0.949686\nTotal training time: 0.01 seconds.\nConvergence after 6 epochs took 0.01 seconds\n-- Epoch 1\nNorm: 0.23, NNZs: 15, Bias: 0.739054, T: 3867, Avg. loss: 0.969620\nTotal training time: 0.01 seconds.\n-- Epoch 2\nNorm: 0.23, NNZs: 15, Bias: 0.738516, T: 7734, Avg. loss: 0.962560\nTotal training time: 0.01 seconds.\n-- Epoch 3\nNorm: 0.23, NNZs: 15, Bias: 0.738262, T: 11601, Avg. loss: 0.961947\nTotal training time: 0.01 seconds.\n-- Epoch 4\nNorm: 0.23, NNZs: 15, Bias: 0.738007, T: 15468, Avg. loss: 0.962117\nTotal training time: 0.01 seconds.\n-- Epoch 5\nNorm: 0.23, NNZs: 15, Bias: 0.738046, T: 19335, Avg. loss: 0.961923\nTotal training time: 0.02 seconds.\n-- Epoch 6\nNorm: 0.23, NNZs: 15, Bias: 0.738091, T: 23202, Avg. loss: 0.962027\nTotal training time: 0.02 seconds.\n-- Epoch 7\nNorm: 0.23, NNZs: 15, Bias: 0.738095, T: 27069, Avg. loss: 0.961920\nTotal training time: 0.02 seconds.\nConvergence after 7 epochs took 0.02 seconds\n-- Epoch 1\nNorm: 0.22, NNZs: 15, Bias: 0.433202, T: 3867, Avg. loss: 0.963883\nTotal training time: 0.00 seconds.\n-- Epoch 2\nNorm: 0.22, NNZs: 15, Bias: 0.434628, T: 7734, Avg. loss: 0.959254\nTotal training time: 0.00 seconds.\n-- Epoch 3\nNorm: 0.22, NNZs: 15, Bias: 0.434484, T: 11601, Avg. loss: 0.958924\nTotal training time: 0.00 seconds.\n-- Epoch 4\nNorm: 0.22, NNZs: 15, Bias: 0.434479, T: 15468, Avg. loss: 0.958728\nTotal training time: 0.01 seconds.\n-- Epoch 5\nNorm: 0.22, NNZs: 15, Bias: 0.434275, T: 19335, Avg. loss: 0.958604\nTotal training time: 0.01 seconds.\n-- Epoch 6\nNorm: 0.22, NNZs: 15, Bias: 0.434202, T: 23202, Avg. loss: 0.958520\nTotal training time: 0.01 seconds.\n-- Epoch 7\nNorm: 0.22, NNZs: 15, Bias: 0.434121, T: 27069, Avg. loss: 0.958402\nTotal training time: 0.01 seconds.\nConvergence after 7 epochs took 0.01 seconds\n-- Epoch 1\nNorm: 0.23, NNZs: 15, Bias: 0.405997, T: 3867, Avg. loss: 0.960618\nTotal training time: 0.00 seconds.\n-- Epoch 2\nNorm: 0.23, NNZs: 15, Bias: 0.409169, T: 7734, Avg. loss: 0.956187\nTotal training time: 0.00 seconds.\n-- Epoch 3\nNorm: 0.23, NNZs: 15, Bias: 0.408738, T: 11601, Avg. loss: 0.955822\nTotal training time: 0.00 seconds.\n-- Epoch 4\nNorm: 0.23, NNZs: 15, Bias: 0.408627, T: 15468, Avg. loss: 0.955718\nTotal training time: 0.00 seconds.\n-- Epoch 5\nNorm: 0.23, NNZs: 15, Bias: 0.408722, T: 19335, Avg. loss: 0.955921\nTotal training time: 0.01 seconds.\n-- Epoch 6\nNorm: 0.23, NNZs: 15, Bias: 0.408844, T: 23202, Avg. loss: 0.955688\nTotal training time: 0.01 seconds.\n-- Epoch 7\nNorm: 0.23, NNZs: 15, Bias: 0.408767, T: 27069, Avg. loss: 0.955710\nTotal training time: 0.01 seconds.\nConvergence after 7 epochs took 0.01 seconds\n-- Epoch 1\nNorm: 0.23, NNZs: 15, Bias: 0.152406, T: 3868, Avg. loss: 0.943485\nTotal training time: 0.07 seconds.\n-- Epoch 2\nNorm: 0.23, NNZs: 15, Bias: 0.150858, T: 7736, Avg. loss: 0.948805\nTotal training time: 0.07 seconds.\n-- Epoch 3\nNorm: 0.23, NNZs: 15, Bias: 0.152979, T: 11604, Avg. loss: 0.949810\nTotal training time: 0.07 seconds.\n-- Epoch 4\nNorm: 0.23, NNZs: 15, Bias: 0.152246, T: 15472, Avg. loss: 0.948851\nTotal training time: 0.07 seconds.\n-- Epoch 5\nNorm: 0.23, NNZs: 15, Bias: 0.152073, T: 19340, Avg. loss: 0.948812\nTotal training time: 0.07 seconds.\n-- Epoch 6\nNorm: 0.23, NNZs: 15, Bias: 0.152314, T: 23208, Avg. loss: 0.949235\nTotal training time: 0.07 seconds.\nConvergence after 6 epochs took 0.07 seconds\n-- Epoch 1\nNorm: 0.22, NNZs: 15, Bias: -0.460731, T: 3867, Avg. loss: 0.943509\nTotal training time: 0.00 seconds.\n-- Epoch 2\nNorm: 0.22, NNZs: 15, Bias: -0.458516, T: 7734, Avg. loss: 0.941038\nTotal training time: 0.00 seconds.\n-- Epoch 3\nNorm: 0.22, NNZs: 15, Bias: -0.458712, T: 11601, Avg. loss: 0.939779\nTotal training time: 0.00 seconds.\n-- Epoch 4\nNorm: 0.22, NNZs: 15, Bias: -0.458729, T: 15468, Avg. loss: 0.939742\nTotal training time: 0.00 seconds.\n-- Epoch 5\nNorm: 0.22, NNZs: 15, Bias: -0.459206, T: 19335, Avg. loss: 0.939727\nTotal training time: 0.01 seconds.\n-- Epoch 6\nNorm: 0.22, NNZs: 15, Bias: -0.459254, T: 23202, Avg. loss: 0.939853\nTotal training time: 0.01 seconds.\n-- Epoch 7\nNorm: 0.22, NNZs: 15, Bias: -0.459276, T: 27069, Avg. loss: 0.939696\nTotal training time: 0.01 seconds.\n-- Epoch 8\nNorm: 0.22, NNZs: 15, Bias: -0.459365, T: 30936, Avg. loss: 0.939762\nTotal training time: 0.01 seconds.\nConvergence after 8 epochs took 0.01 seconds\n-- Epoch 1\nNorm: 0.23, NNZs: 15, Bias: 0.696210, T: 3867, Avg. loss: 0.964781\nTotal training time: 0.00 seconds.\n-- Epoch 2\nNorm: 0.23, NNZs: 15, Bias: 0.696127, T: 7734, Avg. loss: 0.961879\nTotal training time: 0.00 seconds.\n-- Epoch 3\nNorm: 0.23, NNZs: 15, Bias: 0.694123, T: 11601, Avg. loss: 0.960725\nTotal training time: 0.01 seconds.\n-- Epoch 4\nNorm: 0.23, NNZs: 15, Bias: 0.694773, T: 15468, Avg. loss: 0.961426\nTotal training time: 0.01 seconds.\n-- Epoch 5\nNorm: 0.23, NNZs: 15, Bias: 0.694757, T: 19335, Avg. loss: 0.960948\nTotal training time: 0.01 seconds.\n-- Epoch 6\nNorm: 0.23, NNZs: 15, Bias: 0.694595, T: 23202, Avg. loss: 0.961063\nTotal training time: 0.01 seconds.\n-- Epoch 7\nNorm: 0.23, NNZs: 15, Bias: 0.694602, T: 27069, Avg. loss: 0.961138\nTotal training time: 0.01 seconds.\n-- Epoch 8\nNorm: 0.23, NNZs: 15, Bias: 0.694693, T: 30936, Avg. loss: 0.961032\nTotal training time: 0.01 seconds.\nConvergence after 8 epochs took 0.01 seconds\n-- Epoch 1\nNorm: 0.22, NNZs: 15, Bias: 0.673161, T: 3867, Avg. loss: 0.972515\nTotal training time: 0.00 seconds.\n-- Epoch 2\nNorm: 0.22, NNZs: 15, Bias: 0.673393, T: 7734, Avg. loss: 0.964288\nTotal training time: 0.00 seconds.\n-- Epoch 3\nNorm: 0.22, NNZs: 15, Bias: 0.673511, T: 11601, Avg. loss: 0.963556\nTotal training time: 0.00 seconds.\n-- Epoch 4\nNorm: 0.22, NNZs: 15, Bias: 0.674083, T: 15468, Avg. loss: 0.963748\nTotal training time: 0.00 seconds.\n-- Epoch 5\nNorm: 0.22, NNZs: 15, Bias: 0.674139, T: 19335, Avg. loss: 0.963416\nTotal training time: 0.01 seconds.\n-- Epoch 6\nNorm: 0.22, NNZs: 15, Bias: 0.674144, T: 23202, Avg. loss: 0.963213\nTotal training time: 0.01 seconds.\n-- Epoch 7\nNorm: 0.22, NNZs: 15, Bias: 0.673938, T: 27069, Avg. loss: 0.963280\nTotal training time: 0.01 seconds.\nConvergence after 7 epochs took 0.01 seconds\n-- Epoch 1\nNorm: 0.23, NNZs: 15, Bias: 0.599219, T: 3867, Avg. loss: 0.959327\nTotal training time: 0.00 seconds.\n-- Epoch 2\nNorm: 0.23, NNZs: 15, Bias: 0.596073, T: 7734, Avg. loss: 0.959531\nTotal training time: 0.00 seconds.\n-- Epoch 3\nNorm: 0.23, NNZs: 15, Bias: 0.594841, T: 11601, Avg. loss: 0.959393\nTotal training time: 0.01 seconds.\n-- Epoch 4\nNorm: 0.23, NNZs: 15, Bias: 0.593871, T: 15468, Avg. loss: 0.959313\nTotal training time: 0.01 seconds.\n-- Epoch 5\nNorm: 0.23, NNZs: 15, Bias: 0.593524, T: 19335, Avg. loss: 0.959340\nTotal training time: 0.01 seconds.\n-- Epoch 6\nNorm: 0.23, NNZs: 15, Bias: 0.593511, T: 23202, Avg. loss: 0.959322\nTotal training time: 0.01 seconds.\nConvergence after 6 epochs took 0.01 seconds\n-- Epoch 1\nNorm: 0.23, NNZs: 15, Bias: -0.281178, T: 3868, Avg. loss: 0.947295\nTotal training time: 0.00 seconds.\n-- Epoch 2\nNorm: 0.23, NNZs: 15, Bias: -0.285018, T: 7736, Avg. loss: 0.940313\nTotal training time: 0.00 seconds.\n-- Epoch 3\nNorm: 0.23, NNZs: 15, Bias: -0.284956, T: 11604, Avg. loss: 0.940167\nTotal training time: 0.00 seconds.\n-- Epoch 4\nNorm: 0.23, NNZs: 15, Bias: -0.284773, T: 15472, Avg. loss: 0.940353\nTotal training time: 0.00 seconds.\n-- Epoch 5\nNorm: 0.23, NNZs: 15, Bias: -0.284567, T: 19340, Avg. loss: 0.940340\nTotal training time: 0.01 seconds.\n-- Epoch 6\nNorm: 0.23, NNZs: 15, Bias: -0.284659, T: 23208, Avg. loss: 0.940069\nTotal training time: 0.01 seconds.\n-- Epoch 7\nNorm: 0.23, NNZs: 15, Bias: -0.284723, T: 27076, Avg. loss: 0.940054\nTotal training time: 0.01 seconds.\nConvergence after 7 epochs took 0.01 seconds\n-- Epoch 1\nNorm: 0.22, NNZs: 15, Bias: -0.686357, T: 3867, Avg. loss: 0.938113\nTotal training time: 0.00 seconds.\n-- Epoch 2\nNorm: 0.22, NNZs: 15, Bias: -0.687095, T: 7734, Avg. loss: 0.935787\nTotal training time: 0.00 seconds.\n-- Epoch 3\nNorm: 0.22, NNZs: 15, Bias: -0.687238, T: 11601, Avg. loss: 0.935483\nTotal training time: 0.01 seconds.\n-- Epoch 4\nNorm: 0.22, NNZs: 15, Bias: -0.687264, T: 15468, Avg. loss: 0.935366\nTotal training time: 0.01 seconds.\n-- Epoch 5\nNorm: 0.22, NNZs: 15, Bias: -0.687202, T: 19335, Avg. loss: 0.935303\nTotal training time: 0.01 seconds.\n-- Epoch 6\nNorm: 0.22, NNZs: 15, Bias: -0.687182, T: 23202, Avg. loss: 0.935273\nTotal training time: 0.01 seconds.\n-- Epoch 7\nNorm: 0.22, NNZs: 15, Bias: -0.687155, T: 27069, Avg. loss: 0.935245\nTotal training time: 0.01 seconds.\nConvergence after 7 epochs took 0.01 seconds\n-- Epoch 1\nNorm: 0.23, NNZs: 15, Bias: 0.068531, T: 3867, Avg. loss: 0.948325\nTotal training time: 0.00 seconds.\n-- Epoch 2\nNorm: 0.23, NNZs: 15, Bias: 0.066960, T: 7734, Avg. loss: 0.947785\nTotal training time: 0.00 seconds.\n-- Epoch 3\nNorm: 0.23, NNZs: 15, Bias: 0.066467, T: 11601, Avg. loss: 0.947867\nTotal training time: 0.00 seconds.\n-- Epoch 4\nNorm: 0.23, NNZs: 15, Bias: 0.066228, T: 15468, Avg. loss: 0.947903\nTotal training time: 0.00 seconds.\n-- Epoch 5\nNorm: 0.23, NNZs: 15, Bias: 0.066086, T: 19335, Avg. loss: 0.947923\nTotal training time: 0.00 seconds.\n-- Epoch 6\nNorm: 0.23, NNZs: 15, Bias: 0.065993, T: 23202, Avg. loss: 0.947935\nTotal training time: 0.01 seconds.\nConvergence after 6 epochs took 0.01 seconds\n-- Epoch 1\nNorm: 0.22, NNZs: 15, Bias: 0.070583, T: 3867, Avg. loss: 0.952059\nTotal training time: 0.00 seconds.\n-- Epoch 2\nNorm: 0.22, NNZs: 15, Bias: 0.069155, T: 7734, Avg. loss: 0.951020\nTotal training time: 0.00 seconds.\n-- Epoch 3\nNorm: 0.22, NNZs: 15, Bias: 0.068710, T: 11601, Avg. loss: 0.950973\nTotal training time: 0.00 seconds.\n-- Epoch 4\nNorm: 0.22, NNZs: 15, Bias: 0.068494, T: 15468, Avg. loss: 0.950953\nTotal training time: 0.00 seconds.\n-- Epoch 5\nNorm: 0.22, NNZs: 15, Bias: 0.068366, T: 19335, Avg. loss: 0.950942\nTotal training time: 0.00 seconds.\n-- Epoch 6\nNorm: 0.22, NNZs: 15, Bias: 0.068282, T: 23202, Avg. loss: 0.950935\nTotal training time: 0.00 seconds.\n-- Epoch 7\nNorm: 0.22, NNZs: 15, Bias: 0.068222, T: 27069, Avg. loss: 0.950930\nTotal training time: 0.00 seconds.\nConvergence after 7 epochs took 0.00 seconds\n-- Epoch 1\nNorm: 0.23, NNZs: 15, Bias: 0.065962, T: 3867, Avg. loss: 0.950180\nTotal training time: 0.00 seconds.\n-- Epoch 2\nNorm: 0.23, NNZs: 15, Bias: 0.064292, T: 7734, Avg. loss: 0.948885\nTotal training time: 0.00 seconds.\n-- Epoch 3\nNorm: 0.23, NNZs: 15, Bias: 0.063756, T: 11601, Avg. loss: 0.948837\nTotal training time: 0.00 seconds.\n-- Epoch 4\nNorm: 0.23, NNZs: 15, Bias: 0.063493, T: 15468, Avg. loss: 0.948819\nTotal training time: 0.07 seconds.\n-- Epoch 5\nNorm: 0.23, NNZs: 15, Bias: 0.063336, T: 19335, Avg. loss: 0.948810\nTotal training time: 0.08 seconds.\n-- Epoch 6\nNorm: 0.23, NNZs: 15, Bias: 0.063233, T: 23202, Avg. loss: 0.948805\nTotal training time: 0.08 seconds.\n-- Epoch 7\nNorm: 0.23, NNZs: 15, Bias: 0.063159, T: 27069, Avg. loss: 0.948801\nTotal training time: 0.08 seconds.\nConvergence after 7 epochs took 0.08 seconds\n-- Epoch 1\nNorm: 0.23, NNZs: 15, Bias: 0.067849, T: 3868, Avg. loss: 0.949250\nTotal training time: 0.00 seconds.\n-- Epoch 2\nNorm: 0.23, NNZs: 15, Bias: 0.066266, T: 7736, Avg. loss: 0.947401\nTotal training time: 0.01 seconds.\n-- Epoch 3\nNorm: 0.23, NNZs: 15, Bias: 0.065766, T: 11604, Avg. loss: 0.947267\nTotal training time: 0.01 seconds.\n-- Epoch 4\nNorm: 0.23, NNZs: 15, Bias: 0.065523, T: 15472, Avg. loss: 0.947213\nTotal training time: 0.08 seconds.\n-- Epoch 5\nNorm: 0.23, NNZs: 15, Bias: 0.065379, T: 19340, Avg. loss: 0.947183\nTotal training time: 0.08 seconds.\n-- Epoch 6\nNorm: 0.23, NNZs: 15, Bias: 0.065283, T: 23208, Avg. loss: 0.947164\nTotal training time: 0.08 seconds.\n-- Epoch 7\nNorm: 0.23, NNZs: 15, Bias: 0.065216, T: 27076, Avg. loss: 0.947151\nTotal training time: 0.08 seconds.\nConvergence after 7 epochs took 0.09 seconds\n-- Epoch 1\nNorm: 0.22, NNZs: 15, Bias: -0.686357, T: 3867, Avg. loss: 0.938113\nTotal training time: 0.00 seconds.\n-- Epoch 2\nNorm: 0.22, NNZs: 15, Bias: -0.687095, T: 7734, Avg. loss: 0.935787\nTotal training time: 0.00 seconds.\n-- Epoch 3\nNorm: 0.22, NNZs: 15, Bias: -0.687238, T: 11601, Avg. loss: 0.935483\nTotal training time: 0.00 seconds.\n-- Epoch 4\nNorm: 0.22, NNZs: 15, Bias: -0.687264, T: 15468, Avg. loss: 0.935366\nTotal training time: 0.07 seconds.\n-- Epoch 5\nNorm: 0.22, NNZs: 15, Bias: -0.687202, T: 19335, Avg. loss: 0.935303\nTotal training time: 0.07 seconds.\n-- Epoch 6\nNorm: 0.22, NNZs: 15, Bias: -0.687182, T: 23202, Avg. loss: 0.935273\nTotal training time: 0.07 seconds.\n-- Epoch 7\nNorm: 0.22, NNZs: 15, Bias: -0.687155, T: 27069, Avg. loss: 0.935245\nTotal training time: 0.07 seconds.\nConvergence after 7 epochs took 0.07 seconds\n-- Epoch 1\nNorm: 0.23, NNZs: 15, Bias: 0.068531, T: 3867, Avg. loss: 0.948325\nTotal training time: 0.00 seconds.\n-- Epoch 2\nNorm: 0.23, NNZs: 15, Bias: 0.066960, T: 7734, Avg. loss: 0.947785\nTotal training time: 0.01 seconds.\n-- Epoch 3\nNorm: 0.23, NNZs: 15, Bias: 0.066467, T: 11601, Avg. loss: 0.947867\nTotal training time: 0.01 seconds.\n-- Epoch 4\nNorm: 0.23, NNZs: 15, Bias: 0.066228, T: 15468, Avg. loss: 0.947903\nTotal training time: 0.01 seconds.\n-- Epoch 5\nNorm: 0.23, NNZs: 15, Bias: 0.066086, T: 19335, Avg. loss: 0.947923\nTotal training time: 0.01 seconds.\n-- Epoch 6\nNorm: 0.23, NNZs: 15, Bias: 0.065993, T: 23202, Avg. loss: 0.947935\nTotal training time: 0.01 seconds.\nConvergence after 6 epochs took 0.01 seconds\n-- Epoch 1\nNorm: 0.22, NNZs: 15, Bias: 0.070583, T: 3867, Avg. loss: 0.952059\nTotal training time: 0.00 seconds.\n-- Epoch 2\nNorm: 0.22, NNZs: 15, Bias: 0.069155, T: 7734, Avg. loss: 0.951020\nTotal training time: 0.00 seconds.\n-- Epoch 3\nNorm: 0.22, NNZs: 15, Bias: 0.068710, T: 11601, Avg. loss: 0.950973\nTotal training time: 0.00 seconds.\n-- Epoch 4\nNorm: 0.22, NNZs: 15, Bias: 0.068494, T: 15468, Avg. loss: 0.950953\nTotal training time: 0.00 seconds.\n-- Epoch 5\nNorm: 0.22, NNZs: 15, Bias: 0.068366, T: 19335, Avg. loss: 0.950942\nTotal training time: 0.00 seconds.\n-- Epoch 6\nNorm: 0.22, NNZs: 15, Bias: 0.068282, T: 23202, Avg. loss: 0.950935\nTotal training time: 0.00 seconds.\n-- Epoch 7\nNorm: 0.22, NNZs: 15, Bias: 0.068222, T: 27069, Avg. loss: 0.950930\nTotal training time: 0.00 seconds.\nConvergence after 7 epochs took 0.00 seconds\n-- Epoch 1\nNorm: 0.23, NNZs: 15, Bias: 0.065962, T: 3867, Avg. loss: 0.950180\nTotal training time: 0.00 seconds.\n-- Epoch 2\nNorm: 0.23, NNZs: 15, Bias: 0.064292, T: 7734, Avg. loss: 0.948885\nTotal training time: 0.00 seconds.\n-- Epoch 3\nNorm: 0.23, NNZs: 15, Bias: 0.063756, T: 11601, Avg. loss: 0.948837\nTotal training time: 0.00 seconds.\n-- Epoch 4\nNorm: 0.23, NNZs: 15, Bias: 0.063493, T: 15468, Avg. loss: 0.948819\nTotal training time: 0.01 seconds.\n-- Epoch 5\nNorm: 0.23, NNZs: 15, Bias: 0.063336, T: 19335, Avg. loss: 0.948810\nTotal training time: 0.01 seconds.\n-- Epoch 6\nNorm: 0.23, NNZs: 15, Bias: 0.063233, T: 23202, Avg. loss: 0.948805\nTotal training time: 0.01 seconds.\n-- Epoch 7\nNorm: 0.23, NNZs: 15, Bias: 0.063159, T: 27069, Avg. loss: 0.948801\nTotal training time: 0.01 seconds.\nConvergence after 7 epochs took 0.01 seconds\n-- Epoch 1\nNorm: 0.23, NNZs: 15, Bias: 0.067849, T: 3868, Avg. loss: 0.949250\nTotal training time: 0.00 seconds.\n-- Epoch 2\nNorm: 0.23, NNZs: 15, Bias: 0.066266, T: 7736, Avg. loss: 0.947401\nTotal training time: 0.00 seconds.\n-- Epoch 3\nNorm: 0.23, NNZs: 15, Bias: 0.065766, T: 11604, Avg. loss: 0.947267\nTotal training time: 0.01 seconds.\n-- Epoch 4\nNorm: 0.23, NNZs: 15, Bias: 0.065523, T: 15472, Avg. loss: 0.947213\nTotal training time: 0.01 seconds.\n-- Epoch 5\nNorm: 0.23, NNZs: 15, Bias: 0.065379, T: 19340, Avg. loss: 0.947183\nTotal training time: 0.01 seconds.\n-- Epoch 6\nNorm: 0.23, NNZs: 15, Bias: 0.065283, T: 23208, Avg. loss: 0.947164\nTotal training time: 0.01 seconds.\n-- Epoch 7\nNorm: 0.23, NNZs: 15, Bias: 0.065216, T: 27076, Avg. loss: 0.947151\nTotal training time: 0.01 seconds.\nConvergence after 7 epochs took 0.01 seconds\n-- Epoch 1\nNorm: 0.22, NNZs: 15, Bias: -0.686357, T: 3867, Avg. loss: 0.938113\nTotal training time: 0.00 seconds.\n-- Epoch 2\nNorm: 0.22, NNZs: 15, Bias: -0.687095, T: 7734, Avg. loss: 0.935787\nTotal training time: 0.00 seconds.\n-- Epoch 3\nNorm: 0.22, NNZs: 15, Bias: -0.687238, T: 11601, Avg. loss: 0.935483\nTotal training time: 0.01 seconds.\n-- Epoch 4\nNorm: 0.22, NNZs: 15, Bias: -0.687264, T: 15468, Avg. loss: 0.935366\nTotal training time: 0.01 seconds.\n-- Epoch 5\nNorm: 0.22, NNZs: 15, Bias: -0.687202, T: 19335, Avg. loss: 0.935303\nTotal training time: 0.01 seconds.\n-- Epoch 6\nNorm: 0.22, NNZs: 15, Bias: -0.687182, T: 23202, Avg. loss: 0.935273\nTotal training time: 0.01 seconds.\n-- Epoch 7\nNorm: 0.22, NNZs: 15, Bias: -0.687155, T: 27069, Avg. loss: 0.935245\nTotal training time: 0.01 seconds.\nConvergence after 7 epochs took 0.01 seconds\n-- Epoch 1\nNorm: 0.23, NNZs: 15, Bias: 0.068531, T: 3867, Avg. loss: 0.948325\nTotal training time: 0.00 seconds.\n-- Epoch 2\nNorm: 0.23, NNZs: 15, Bias: 0.066960, T: 7734, Avg. loss: 0.947785\nTotal training time: 0.00 seconds.\n-- Epoch 3\nNorm: 0.23, NNZs: 15, Bias: 0.066467, T: 11601, Avg. loss: 0.947867\nTotal training time: 0.00 seconds.\n-- Epoch 4\nNorm: 0.23, NNZs: 15, Bias: 0.066228, T: 15468, Avg. loss: 0.947903\nTotal training time: 0.00 seconds.\n-- Epoch 5\nNorm: 0.23, NNZs: 15, Bias: 0.066086, T: 19335, Avg. loss: 0.947923\nTotal training time: 0.01 seconds.\n-- Epoch 6\nNorm: 0.23, NNZs: 15, Bias: 0.065993, T: 23202, Avg. loss: 0.947935\nTotal training time: 0.01 seconds.\nConvergence after 6 epochs took 0.01 seconds\n-- Epoch 1\nNorm: 0.22, NNZs: 15, Bias: 0.070583, T: 3867, Avg. loss: 0.952059\nTotal training time: 0.00 seconds.\n-- Epoch 2\nNorm: 0.22, NNZs: 15, Bias: 0.069155, T: 7734, Avg. loss: 0.951020\nTotal training time: 0.00 seconds.\n-- Epoch 3\nNorm: 0.22, NNZs: 15, Bias: 0.068710, T: 11601, Avg. loss: 0.950973\nTotal training time: 0.00 seconds.\n-- Epoch 4\nNorm: 0.22, NNZs: 15, Bias: 0.068494, T: 15468, Avg. loss: 0.950953\nTotal training time: 0.00 seconds.\n-- Epoch 5\nNorm: 0.22, NNZs: 15, Bias: 0.068366, T: 19335, Avg. loss: 0.950942\nTotal training time: 0.00 seconds.\n-- Epoch 6\nNorm: 0.22, NNZs: 15, Bias: 0.068282, T: 23202, Avg. loss: 0.950935\nTotal training time: 0.01 seconds.\n-- Epoch 7\nNorm: 0.22, NNZs: 15, Bias: 0.068222, T: 27069, Avg. loss: 0.950930\nTotal training time: 0.01 seconds.\nConvergence after 7 epochs took 0.01 seconds\n-- Epoch 1\nNorm: 0.23, NNZs: 15, Bias: 0.065962, T: 3867, Avg. loss: 0.950180\nTotal training time: 0.00 seconds.\n-- Epoch 2\nNorm: 0.23, NNZs: 15, Bias: 0.064292, T: 7734, Avg. loss: 0.948885\nTotal training time: 0.00 seconds.\n-- Epoch 3\nNorm: 0.23, NNZs: 15, Bias: 0.063756, T: 11601, Avg. loss: 0.948837\nTotal training time: 0.00 seconds.\n-- Epoch 4\nNorm: 0.23, NNZs: 15, Bias: 0.063493, T: 15468, Avg. loss: 0.948819\nTotal training time: 0.00 seconds.\n-- Epoch 5\nNorm: 0.23, NNZs: 15, Bias: 0.063336, T: 19335, Avg. loss: 0.948810\nTotal training time: 0.00 seconds.\n-- Epoch 6\nNorm: 0.23, NNZs: 15, Bias: 0.063233, T: 23202, Avg. loss: 0.948805\nTotal training time: 0.01 seconds.\n-- Epoch 7\nNorm: 0.23, NNZs: 15, Bias: 0.063159, T: 27069, Avg. loss: 0.948801\nTotal training time: 0.01 seconds.\nConvergence after 7 epochs took 0.01 seconds\n-- Epoch 1\nNorm: 0.23, NNZs: 15, Bias: 0.067849, T: 3868, Avg. loss: 0.949250\nTotal training time: 0.00 seconds.\n-- Epoch 2\nNorm: 0.23, NNZs: 15, Bias: 0.066266, T: 7736, Avg. loss: 0.947401\nTotal training time: 0.00 seconds.\n-- Epoch 3\nNorm: 0.23, NNZs: 15, Bias: 0.065766, T: 11604, Avg. loss: 0.947267\nTotal training time: 0.00 seconds.\n-- Epoch 4\nNorm: 0.23, NNZs: 15, Bias: 0.065523, T: 15472, Avg. loss: 0.947213\nTotal training time: 0.00 seconds.\n-- Epoch 5\nNorm: 0.23, NNZs: 15, Bias: 0.065379, T: 19340, Avg. loss: 0.947183\nTotal training time: 0.00 seconds.\n-- Epoch 6\nNorm: 0.23, NNZs: 15, Bias: 0.065283, T: 23208, Avg. loss: 0.947164\nTotal training time: 0.01 seconds.\n-- Epoch 7\nNorm: 0.23, NNZs: 15, Bias: 0.065216, T: 27076, Avg. loss: 0.947151\nTotal training time: 0.01 seconds.\nConvergence after 7 epochs took 0.01 seconds\n-- Epoch 1\nNorm: 18.68, NNZs: 15, Bias: -10.167363, T: 4834, Avg. loss: 5.476326\nTotal training time: 0.00 seconds.\n-- Epoch 2\nNorm: 12.19, NNZs: 15, Bias: -3.122510, T: 9668, Avg. loss: 2.272191\nTotal training time: 0.00 seconds.\n-- Epoch 3\nNorm: 8.76, NNZs: 15, Bias: -3.635583, T: 14502, Avg. loss: 1.662135\nTotal training time: 0.00 seconds.\n-- Epoch 4\nNorm: 4.99, NNZs: 15, Bias: -4.444123, T: 19336, Avg. loss: 1.366132\nTotal training time: 0.00 seconds.\n-- Epoch 5\nNorm: 6.14, NNZs: 15, Bias: -3.267389, T: 24170, Avg. loss: 1.238873\nTotal training time: 0.01 seconds.\n-- Epoch 6\nNorm: 5.25, NNZs: 15, Bias: -2.631947, T: 29004, Avg. loss: 1.128282\nTotal training time: 0.01 seconds.\n-- Epoch 7\nNorm: 5.76, NNZs: 15, Bias: -2.847313, T: 33838, Avg. loss: 1.056981\nTotal training time: 0.01 seconds.\n-- Epoch 8\nNorm: 5.35, NNZs: 15, Bias: -1.869900, T: 38672, Avg. loss: 1.007384\nTotal training time: 0.01 seconds.\n-- Epoch 9\nNorm: 5.25, NNZs: 15, Bias: -3.043641, T: 43506, Avg. loss: 0.973303\nTotal training time: 0.01 seconds.\n-- Epoch 10\nNorm: 4.98, NNZs: 15, Bias: -2.260907, T: 48340, Avg. loss: 0.941576\nTotal training time: 0.01 seconds.\n-- Epoch 11\nNorm: 4.81, NNZs: 15, Bias: -2.409202, T: 53174, Avg. loss: 0.913254\nTotal training time: 0.01 seconds.\n-- Epoch 12\nNorm: 4.65, NNZs: 15, Bias: -2.689704, T: 58008, Avg. loss: 0.916740\nTotal training time: 0.01 seconds.\n-- Epoch 13\nNorm: 5.03, NNZs: 15, Bias: -2.068477, T: 62842, Avg. loss: 0.882813\nTotal training time: 0.01 seconds.\n-- Epoch 14\nNorm: 4.54, NNZs: 15, Bias: -2.214599, T: 67676, Avg. loss: 0.869143\nTotal training time: 0.02 seconds.\n-- Epoch 15\nNorm: 4.98, NNZs: 15, Bias: -1.734919, T: 72510, Avg. loss: 0.850955\nTotal training time: 0.02 seconds.\n-- Epoch 16\nNorm: 4.53, NNZs: 15, Bias: -1.888270, T: 77344, Avg. loss: 0.844515\nTotal training time: 0.02 seconds.\n-- Epoch 17\nNorm: 4.51, NNZs: 15, Bias: -1.527932, T: 82178, Avg. loss: 0.844980\nTotal training time: 0.02 seconds.\n-- Epoch 18\nNorm: 4.21, NNZs: 15, Bias: -1.721326, T: 87012, Avg. loss: 0.823897\nTotal training time: 0.02 seconds.\n-- Epoch 19\nNorm: 4.08, NNZs: 15, Bias: -2.018876, T: 91846, Avg. loss: 0.807531\nTotal training time: 0.02 seconds.\n-- Epoch 20\nNorm: 4.05, NNZs: 15, Bias: -1.584147, T: 96680, Avg. loss: 0.811003\nTotal training time: 0.02 seconds.\n-- Epoch 21\nNorm: 4.58, NNZs: 15, Bias: -1.549504, T: 101514, Avg. loss: 0.797272\nTotal training time: 0.03 seconds.\n-- Epoch 22\nNorm: 4.08, NNZs: 15, Bias: -1.640910, T: 106348, Avg. loss: 0.793694\nTotal training time: 0.03 seconds.\n-- Epoch 23\nNorm: 4.49, NNZs: 15, Bias: -1.511369, T: 111182, Avg. loss: 0.795988\nTotal training time: 0.03 seconds.\n-- Epoch 24\nNorm: 4.18, NNZs: 15, Bias: -1.725148, T: 116016, Avg. loss: 0.781993\nTotal training time: 0.03 seconds.\n-- Epoch 25\nNorm: 4.26, NNZs: 15, Bias: -1.516674, T: 120850, Avg. loss: 0.783866\nTotal training time: 0.09 seconds.\n-- Epoch 26\nNorm: 4.02, NNZs: 15, Bias: -1.463729, T: 125684, Avg. loss: 0.783678\nTotal training time: 0.09 seconds.\n-- Epoch 27\nNorm: 4.12, NNZs: 15, Bias: -1.524713, T: 130518, Avg. loss: 0.780437\nTotal training time: 0.10 seconds.\n-- Epoch 28\nNorm: 4.05, NNZs: 15, Bias: -1.598107, T: 135352, Avg. loss: 0.773380\nTotal training time: 0.10 seconds.\n-- Epoch 29\nNorm: 3.93, NNZs: 15, Bias: -1.396561, T: 140186, Avg. loss: 0.767801\nTotal training time: 0.10 seconds.\n-- Epoch 30\nNorm: 4.33, NNZs: 15, Bias: -1.427263, T: 145020, Avg. loss: 0.765845\nTotal training time: 0.10 seconds.\n-- Epoch 31\nNorm: 4.32, NNZs: 15, Bias: -1.223961, T: 149854, Avg. loss: 0.761433\nTotal training time: 0.10 seconds.\n-- Epoch 32\nNorm: 3.77, NNZs: 15, Bias: -1.709171, T: 154688, Avg. loss: 0.753897\nTotal training time: 0.10 seconds.\n-- Epoch 33\nNorm: 4.23, NNZs: 15, Bias: -1.459773, T: 159522, Avg. loss: 0.757185\nTotal training time: 0.10 seconds.\n-- Epoch 34\nNorm: 4.00, NNZs: 15, Bias: -1.400044, T: 164356, Avg. loss: 0.750004\nTotal training time: 0.10 seconds.\n-- Epoch 35\nNorm: 3.97, NNZs: 15, Bias: -1.529310, T: 169190, Avg. loss: 0.752482\nTotal training time: 0.10 seconds.\n-- Epoch 36\nNorm: 3.75, NNZs: 15, Bias: -1.512719, T: 174024, Avg. loss: 0.745810\nTotal training time: 0.10 seconds.\n-- Epoch 37\nNorm: 4.02, NNZs: 15, Bias: -1.445485, T: 178858, Avg. loss: 0.747232\nTotal training time: 0.10 seconds.\n-- Epoch 38\nNorm: 3.88, NNZs: 15, Bias: -1.417284, T: 183692, Avg. loss: 0.742403\nTotal training time: 0.11 seconds.\n-- Epoch 39\nNorm: 3.80, NNZs: 15, Bias: -1.533755, T: 188526, Avg. loss: 0.740193\nTotal training time: 0.11 seconds.\n-- Epoch 40\nNorm: 3.76, NNZs: 15, Bias: -1.434014, T: 193360, Avg. loss: 0.739542\nTotal training time: 0.11 seconds.\n-- Epoch 41\nNorm: 4.05, NNZs: 15, Bias: -1.306862, T: 198194, Avg. loss: 0.739032\nTotal training time: 0.11 seconds.\n-- Epoch 42\nNorm: 3.76, NNZs: 15, Bias: -1.444807, T: 203028, Avg. loss: 0.740805\nTotal training time: 0.11 seconds.\n-- Epoch 43\nNorm: 3.87, NNZs: 15, Bias: -1.527260, T: 207862, Avg. loss: 0.732926\nTotal training time: 0.11 seconds.\n-- Epoch 44\nNorm: 4.00, NNZs: 15, Bias: -1.289785, T: 212696, Avg. loss: 0.729771\nTotal training time: 0.11 seconds.\n-- Epoch 45\nNorm: 3.85, NNZs: 15, Bias: -1.610061, T: 217530, Avg. loss: 0.729450\nTotal training time: 0.11 seconds.\n-- Epoch 46\nNorm: 4.15, NNZs: 15, Bias: -1.266755, T: 222364, Avg. loss: 0.729412\nTotal training time: 0.11 seconds.\n-- Epoch 47\nNorm: 3.89, NNZs: 15, Bias: -1.399225, T: 227198, Avg. loss: 0.727804\nTotal training time: 0.11 seconds.\n-- Epoch 48\nNorm: 3.85, NNZs: 15, Bias: -1.338917, T: 232032, Avg. loss: 0.727055\nTotal training time: 0.11 seconds.\n-- Epoch 49\nNorm: 3.86, NNZs: 15, Bias: -1.318229, T: 236866, Avg. loss: 0.724803\nTotal training time: 0.11 seconds.\n-- Epoch 50\nNorm: 3.87, NNZs: 15, Bias: -1.295093, T: 241700, Avg. loss: 0.724418\nTotal training time: 0.11 seconds.\n-- Epoch 51\nNorm: 3.96, NNZs: 15, Bias: -1.231163, T: 246534, Avg. loss: 0.721754\nTotal training time: 0.12 seconds.\n-- Epoch 52\nNorm: 3.70, NNZs: 15, Bias: -1.164041, T: 251368, Avg. loss: 0.716852\nTotal training time: 0.12 seconds.\n-- Epoch 53\nNorm: 3.76, NNZs: 15, Bias: -1.245877, T: 256202, Avg. loss: 0.722495\nTotal training time: 0.12 seconds.\n-- Epoch 54\nNorm: 3.86, NNZs: 15, Bias: -1.255275, T: 261036, Avg. loss: 0.717821\nTotal training time: 0.12 seconds.\n-- Epoch 55\nNorm: 3.60, NNZs: 15, Bias: -1.400283, T: 265870, Avg. loss: 0.716354\nTotal training time: 0.12 seconds.\n-- Epoch 56\nNorm: 3.81, NNZs: 15, Bias: -1.354268, T: 270704, Avg. loss: 0.719129\nTotal training time: 0.12 seconds.\n-- Epoch 57\nNorm: 3.60, NNZs: 15, Bias: -1.558343, T: 275538, Avg. loss: 0.713646\nTotal training time: 0.12 seconds.\n-- Epoch 58\nNorm: 3.76, NNZs: 15, Bias: -1.446297, T: 280372, Avg. loss: 0.715517\nTotal training time: 0.12 seconds.\n-- Epoch 59\nNorm: 3.75, NNZs: 15, Bias: -1.348959, T: 285206, Avg. loss: 0.714617\nTotal training time: 0.12 seconds.\n-- Epoch 60\nNorm: 3.73, NNZs: 15, Bias: -1.260662, T: 290040, Avg. loss: 0.710754\nTotal training time: 0.12 seconds.\n-- Epoch 61\nNorm: 3.80, NNZs: 15, Bias: -1.329556, T: 294874, Avg. loss: 0.711321\nTotal training time: 0.12 seconds.\n-- Epoch 62\nNorm: 3.92, NNZs: 15, Bias: -1.125916, T: 299708, Avg. loss: 0.712053\nTotal training time: 0.12 seconds.\n-- Epoch 63\nNorm: 3.75, NNZs: 15, Bias: -1.374983, T: 304542, Avg. loss: 0.707291\nTotal training time: 0.12 seconds.\n-- Epoch 64\nNorm: 3.78, NNZs: 15, Bias: -1.095759, T: 309376, Avg. loss: 0.707411\nTotal training time: 0.13 seconds.\n-- Epoch 65\nNorm: 3.67, NNZs: 15, Bias: -1.114907, T: 314210, Avg. loss: 0.705072\nTotal training time: 0.13 seconds.\n-- Epoch 66\nNorm: 3.75, NNZs: 15, Bias: -0.993175, T: 319044, Avg. loss: 0.705449\nTotal training time: 0.13 seconds.\n-- Epoch 67\nNorm: 3.62, NNZs: 15, Bias: -1.044759, T: 323878, Avg. loss: 0.703460\nTotal training time: 0.13 seconds.\n-- Epoch 68\nNorm: 3.72, NNZs: 15, Bias: -1.197130, T: 328712, Avg. loss: 0.702861\nTotal training time: 0.13 seconds.\n-- Epoch 69\nNorm: 3.65, NNZs: 15, Bias: -1.201138, T: 333546, Avg. loss: 0.705215\nTotal training time: 0.13 seconds.\n-- Epoch 70\nNorm: 3.76, NNZs: 15, Bias: -1.136599, T: 338380, Avg. loss: 0.703896\nTotal training time: 0.13 seconds.\n-- Epoch 71\nNorm: 3.57, NNZs: 15, Bias: -1.439502, T: 343214, Avg. loss: 0.700198\nTotal training time: 0.19 seconds.\n-- Epoch 72\nNorm: 3.57, NNZs: 15, Bias: -1.299010, T: 348048, Avg. loss: 0.701770\nTotal training time: 0.19 seconds.\n-- Epoch 73\nNorm: 3.85, NNZs: 15, Bias: -1.034153, T: 352882, Avg. loss: 0.699769\nTotal training time: 0.19 seconds.\n-- Epoch 74\nNorm: 3.70, NNZs: 15, Bias: -1.102154, T: 357716, Avg. loss: 0.699877\nTotal training time: 0.19 seconds.\n-- Epoch 75\nNorm: 3.88, NNZs: 15, Bias: -1.014418, T: 362550, Avg. loss: 0.697845\nTotal training time: 0.19 seconds.\n-- Epoch 76\nNorm: 3.73, NNZs: 15, Bias: -1.105570, T: 367384, Avg. loss: 0.699549\nTotal training time: 0.19 seconds.\n-- Epoch 77\nNorm: 3.70, NNZs: 15, Bias: -1.157866, T: 372218, Avg. loss: 0.699213\nTotal training time: 0.20 seconds.\n-- Epoch 78\nNorm: 3.78, NNZs: 15, Bias: -0.999067, T: 377052, Avg. loss: 0.696216\nTotal training time: 0.20 seconds.\n-- Epoch 79\nNorm: 3.66, NNZs: 15, Bias: -1.217770, T: 381886, Avg. loss: 0.694994\nTotal training time: 0.20 seconds.\n-- Epoch 80\nNorm: 3.78, NNZs: 15, Bias: -1.105415, T: 386720, Avg. loss: 0.697271\nTotal training time: 0.20 seconds.\n-- Epoch 81\nNorm: 3.70, NNZs: 15, Bias: -1.039466, T: 391554, Avg. loss: 0.693571\nTotal training time: 0.20 seconds.\n-- Epoch 82\nNorm: 3.78, NNZs: 15, Bias: -1.058574, T: 396388, Avg. loss: 0.695139\nTotal training time: 0.20 seconds.\n-- Epoch 83\nNorm: 3.67, NNZs: 15, Bias: -1.139544, T: 401222, Avg. loss: 0.694379\nTotal training time: 0.20 seconds.\n-- Epoch 84\nNorm: 3.57, NNZs: 15, Bias: -1.221788, T: 406056, Avg. loss: 0.691482\nTotal training time: 0.20 seconds.\n-- Epoch 85\nNorm: 3.66, NNZs: 15, Bias: -0.997349, T: 410890, Avg. loss: 0.693716\nTotal training time: 0.20 seconds.\n-- Epoch 86\nNorm: 3.68, NNZs: 15, Bias: -1.062452, T: 415724, Avg. loss: 0.694659\nTotal training time: 0.20 seconds.\n-- Epoch 87\nNorm: 3.69, NNZs: 15, Bias: -0.968302, T: 420558, Avg. loss: 0.692047\nTotal training time: 0.20 seconds.\n-- Epoch 88\nNorm: 3.80, NNZs: 15, Bias: -0.891799, T: 425392, Avg. loss: 0.691064\nTotal training time: 0.21 seconds.\n-- Epoch 89\nNorm: 3.80, NNZs: 15, Bias: -1.027781, T: 430226, Avg. loss: 0.691242\nTotal training time: 0.21 seconds.\nConvergence after 89 epochs took 0.21 seconds\n",
     "output_type": "stream"
    }
   ]
  },
  {
   "cell_type": "code",
   "metadata": {
    "tags": [],
    "cell_id": "00050-a8e1d628-6041-48d2-b19f-cd87e24f5871",
    "deepnote_to_be_reexecuted": false,
    "source_hash": "32c9439c",
    "allow_embed": false,
    "execution_start": 1621959129707,
    "execution_millis": 16,
    "deepnote_cell_type": "code"
   },
   "source": "# Returns max value of the mean test score \nmax(scores['mean_test_score'])",
   "execution_count": null,
   "outputs": [
    {
     "output_type": "execute_result",
     "execution_count": 52,
     "data": {
      "text/plain": "0.7006613697140203"
     },
     "metadata": {}
    }
   ]
  },
  {
   "cell_type": "code",
   "metadata": {
    "tags": [],
    "cell_id": "00051-fb51c8a0-61ba-4267-9fae-aad236819c5c",
    "deepnote_to_be_reexecuted": false,
    "source_hash": "46f0d3fb",
    "allow_embed": false,
    "execution_start": 1621959129717,
    "execution_millis": 106,
    "is_output_hidden": true,
    "deepnote_cell_type": "code"
   },
   "source": "# loop that runs all of the possible parameter configurations from the parameter dictionary above\nfor mean_score, params in sorted(list(zip(scores[\"mean_test_score\"], scores[\"params\"])),key = lambda x: x[0]):\n     print(f'Best parameters for SGD Classifier are {params} with a score of {mean_score}')",
   "execution_count": null,
   "outputs": [
    {
     "name": "stdout",
     "text": "Best parameters for SGD Classifier are {'alpha': 1, 'class_weight': 'balanced', 'shuffle': True, 'verbose': 10} with a score of 0.49793388872117345\nBest parameters for SGD Classifier are {'alpha': 1, 'class_weight': None, 'shuffle': True, 'verbose': 10} with a score of 0.4989680148845654\nBest parameters for SGD Classifier are {'alpha': 1, 'class_weight': 'balanced', 'shuffle': True, 'verbose': 0} with a score of 0.5018635681420628\nBest parameters for SGD Classifier are {'alpha': 1, 'class_weight': None, 'shuffle': True, 'verbose': 5} with a score of 0.5148935578008011\nBest parameters for SGD Classifier are {'alpha': 1, 'class_weight': None, 'shuffle': True, 'verbose': 1} with a score of 0.5287465662943384\nBest parameters for SGD Classifier are {'alpha': 1, 'class_weight': None, 'shuffle': True, 'verbose': 0} with a score of 0.5401262361875644\nBest parameters for SGD Classifier are {'alpha': 1, 'class_weight': 'balanced', 'shuffle': True, 'verbose': 5} with a score of 0.5502752317149151\nBest parameters for SGD Classifier are {'alpha': 1, 'class_weight': None, 'shuffle': False, 'verbose': 0} with a score of 0.5550304992281522\nBest parameters for SGD Classifier are {'alpha': 1, 'class_weight': None, 'shuffle': False, 'verbose': 1} with a score of 0.5550304992281522\nBest parameters for SGD Classifier are {'alpha': 1, 'class_weight': None, 'shuffle': False, 'verbose': 5} with a score of 0.5550304992281522\nBest parameters for SGD Classifier are {'alpha': 1, 'class_weight': None, 'shuffle': False, 'verbose': 10} with a score of 0.5550304992281522\nBest parameters for SGD Classifier are {'alpha': 1, 'class_weight': 'balanced', 'shuffle': True, 'verbose': 1} with a score of 0.5595635259634182\nBest parameters for SGD Classifier are {'alpha': 1, 'class_weight': 'balanced', 'shuffle': False, 'verbose': 0} with a score of 0.6642579877146668\nBest parameters for SGD Classifier are {'alpha': 1, 'class_weight': 'balanced', 'shuffle': False, 'verbose': 1} with a score of 0.6642579877146668\nBest parameters for SGD Classifier are {'alpha': 1, 'class_weight': 'balanced', 'shuffle': False, 'verbose': 5} with a score of 0.6642579877146668\nBest parameters for SGD Classifier are {'alpha': 1, 'class_weight': 'balanced', 'shuffle': False, 'verbose': 10} with a score of 0.6642579877146668\nBest parameters for SGD Classifier are {'alpha': 0.01, 'class_weight': None, 'shuffle': True, 'verbose': 1} with a score of 0.6708699720165032\nBest parameters for SGD Classifier are {'alpha': 0.01, 'class_weight': None, 'shuffle': True, 'verbose': 5} with a score of 0.6708699720165032\nBest parameters for SGD Classifier are {'alpha': 0.01, 'class_weight': None, 'shuffle': False, 'verbose': 0} with a score of 0.6708699720165032\nBest parameters for SGD Classifier are {'alpha': 0.01, 'class_weight': None, 'shuffle': False, 'verbose': 1} with a score of 0.6708699720165032\nBest parameters for SGD Classifier are {'alpha': 0.01, 'class_weight': None, 'shuffle': False, 'verbose': 5} with a score of 0.6708699720165032\nBest parameters for SGD Classifier are {'alpha': 0.01, 'class_weight': None, 'shuffle': False, 'verbose': 10} with a score of 0.6708699720165032\nBest parameters for SGD Classifier are {'alpha': 0.01, 'class_weight': None, 'shuffle': True, 'verbose': 0} with a score of 0.6710767972491816\nBest parameters for SGD Classifier are {'alpha': 0.01, 'class_weight': None, 'shuffle': True, 'verbose': 10} with a score of 0.6733544440661927\nBest parameters for SGD Classifier are {'alpha': 0.01, 'class_weight': 'balanced', 'shuffle': True, 'verbose': 0} with a score of 0.6741826014160891\nBest parameters for SGD Classifier are {'alpha': 0.01, 'class_weight': 'balanced', 'shuffle': True, 'verbose': 5} with a score of 0.674388998439176\nBest parameters for SGD Classifier are {'alpha': 0.01, 'class_weight': 'balanced', 'shuffle': True, 'verbose': 10} with a score of 0.6754235528121594\nBest parameters for SGD Classifier are {'alpha': 0.1, 'class_weight': None, 'shuffle': True, 'verbose': 0} with a score of 0.6756273805776976\nBest parameters for SGD Classifier are {'alpha': 0.1, 'class_weight': None, 'shuffle': True, 'verbose': 10} with a score of 0.6758354904391504\nBest parameters for SGD Classifier are {'alpha': 0.1, 'class_weight': None, 'shuffle': True, 'verbose': 1} with a score of 0.676247642170937\nBest parameters for SGD Classifier are {'alpha': 0.01, 'class_weight': 'balanced', 'shuffle': True, 'verbose': 1} with a score of 0.677078582883178\nBest parameters for SGD Classifier are {'alpha': 0.1, 'class_weight': 'balanced', 'shuffle': True, 'verbose': 5} with a score of 0.6772828388583075\nBest parameters for SGD Classifier are {'alpha': 0.1, 'class_weight': None, 'shuffle': True, 'verbose': 5} with a score of 0.6779033145563428\nBest parameters for SGD Classifier are {'alpha': 0.1, 'class_weight': None, 'shuffle': False, 'verbose': 0} with a score of 0.6791444800572088\nBest parameters for SGD Classifier are {'alpha': 0.1, 'class_weight': None, 'shuffle': False, 'verbose': 1} with a score of 0.6791444800572088\nBest parameters for SGD Classifier are {'alpha': 0.1, 'class_weight': None, 'shuffle': False, 'verbose': 5} with a score of 0.6791444800572088\nBest parameters for SGD Classifier are {'alpha': 0.1, 'class_weight': None, 'shuffle': False, 'verbose': 10} with a score of 0.6791444800572088\nBest parameters for SGD Classifier are {'alpha': 0.1, 'class_weight': 'balanced', 'shuffle': True, 'verbose': 10} with a score of 0.679351519394683\nBest parameters for SGD Classifier are {'alpha': 0.1, 'class_weight': 'balanced', 'shuffle': True, 'verbose': 1} with a score of 0.6797636711264696\nBest parameters for SGD Classifier are {'alpha': 0.1, 'class_weight': 'balanced', 'shuffle': True, 'verbose': 0} with a score of 0.6807995101282274\nBest parameters for SGD Classifier are {'alpha': 0.1, 'class_weight': 'balanced', 'shuffle': False, 'verbose': 0} with a score of 0.6828675483502156\nBest parameters for SGD Classifier are {'alpha': 0.1, 'class_weight': 'balanced', 'shuffle': False, 'verbose': 1} with a score of 0.6828675483502156\nBest parameters for SGD Classifier are {'alpha': 0.1, 'class_weight': 'balanced', 'shuffle': False, 'verbose': 5} with a score of 0.6828675483502156\nBest parameters for SGD Classifier are {'alpha': 0.1, 'class_weight': 'balanced', 'shuffle': False, 'verbose': 10} with a score of 0.6828675483502156\nBest parameters for SGD Classifier are {'alpha': 0.001, 'class_weight': None, 'shuffle': True, 'verbose': 1} with a score of 0.683075872316464\nBest parameters for SGD Classifier are {'alpha': 0.001, 'class_weight': 'balanced', 'shuffle': True, 'verbose': 0} with a score of 0.6832826975491424\nBest parameters for SGD Classifier are {'alpha': 0.001, 'class_weight': 'balanced', 'shuffle': True, 'verbose': 10} with a score of 0.6832826975491424\nBest parameters for SGD Classifier are {'alpha': 0.01, 'class_weight': 'balanced', 'shuffle': False, 'verbose': 0} with a score of 0.6832826975491424\nBest parameters for SGD Classifier are {'alpha': 0.01, 'class_weight': 'balanced', 'shuffle': False, 'verbose': 1} with a score of 0.6832826975491424\nBest parameters for SGD Classifier are {'alpha': 0.01, 'class_weight': 'balanced', 'shuffle': False, 'verbose': 5} with a score of 0.6832826975491424\nBest parameters for SGD Classifier are {'alpha': 0.01, 'class_weight': 'balanced', 'shuffle': False, 'verbose': 10} with a score of 0.6832826975491424\nBest parameters for SGD Classifier are {'alpha': 0.001, 'class_weight': None, 'shuffle': True, 'verbose': 10} with a score of 0.6834895227818208\nBest parameters for SGD Classifier are {'alpha': 0.001, 'class_weight': 'balanced', 'shuffle': True, 'verbose': 1} with a score of 0.6834895227818208\nBest parameters for SGD Classifier are {'alpha': 0.001, 'class_weight': 'balanced', 'shuffle': True, 'verbose': 5} with a score of 0.6834895227818208\nBest parameters for SGD Classifier are {'alpha': 0.001, 'class_weight': 'balanced', 'shuffle': False, 'verbose': 0} with a score of 0.6834895227818208\nBest parameters for SGD Classifier are {'alpha': 0.001, 'class_weight': 'balanced', 'shuffle': False, 'verbose': 1} with a score of 0.6834895227818208\nBest parameters for SGD Classifier are {'alpha': 0.001, 'class_weight': 'balanced', 'shuffle': False, 'verbose': 5} with a score of 0.6834895227818208\nBest parameters for SGD Classifier are {'alpha': 0.001, 'class_weight': 'balanced', 'shuffle': False, 'verbose': 10} with a score of 0.6834895227818208\nBest parameters for SGD Classifier are {'alpha': 0.001, 'class_weight': None, 'shuffle': True, 'verbose': 0} with a score of 0.6836963480144992\nBest parameters for SGD Classifier are {'alpha': 0.001, 'class_weight': None, 'shuffle': True, 'verbose': 5} with a score of 0.6836963480144992\nBest parameters for SGD Classifier are {'alpha': 0.001, 'class_weight': None, 'shuffle': False, 'verbose': 0} with a score of 0.6839031732471776\nBest parameters for SGD Classifier are {'alpha': 0.001, 'class_weight': None, 'shuffle': False, 'verbose': 1} with a score of 0.6839031732471776\nBest parameters for SGD Classifier are {'alpha': 0.001, 'class_weight': None, 'shuffle': False, 'verbose': 5} with a score of 0.6839031732471776\nBest parameters for SGD Classifier are {'alpha': 0.001, 'class_weight': None, 'shuffle': False, 'verbose': 10} with a score of 0.6839031732471776\nBest parameters for SGD Classifier are {'alpha': 0.0001, 'class_weight': 'balanced', 'shuffle': True, 'verbose': 0} with a score of 0.6870074786805149\nBest parameters for SGD Classifier are {'alpha': 0.0001, 'class_weight': None, 'shuffle': False, 'verbose': 0} with a score of 0.6892812716112029\nBest parameters for SGD Classifier are {'alpha': 0.0001, 'class_weight': None, 'shuffle': False, 'verbose': 1} with a score of 0.6892812716112029\nBest parameters for SGD Classifier are {'alpha': 0.0001, 'class_weight': None, 'shuffle': False, 'verbose': 5} with a score of 0.6892812716112029\nBest parameters for SGD Classifier are {'alpha': 0.0001, 'class_weight': None, 'shuffle': False, 'verbose': 10} with a score of 0.6892812716112029\nBest parameters for SGD Classifier are {'alpha': 0.0001, 'class_weight': None, 'shuffle': True, 'verbose': 1} with a score of 0.6899038883571953\nBest parameters for SGD Classifier are {'alpha': 0.0001, 'class_weight': 'balanced', 'shuffle': True, 'verbose': 5} with a score of 0.6901111417994652\nBest parameters for SGD Classifier are {'alpha': 0.0001, 'class_weight': 'balanced', 'shuffle': True, 'verbose': 10} with a score of 0.6907301187639302\nBest parameters for SGD Classifier are {'alpha': 0.0001, 'class_weight': None, 'shuffle': True, 'verbose': 5} with a score of 0.6909369439966087\nBest parameters for SGD Classifier are {'alpha': 0.0001, 'class_weight': None, 'shuffle': True, 'verbose': 10} with a score of 0.6909395132541574\nBest parameters for SGD Classifier are {'alpha': 0.0001, 'class_weight': 'balanced', 'shuffle': False, 'verbose': 0} with a score of 0.6927973005667354\nBest parameters for SGD Classifier are {'alpha': 0.0001, 'class_weight': 'balanced', 'shuffle': False, 'verbose': 1} with a score of 0.6927973005667354\nBest parameters for SGD Classifier are {'alpha': 0.0001, 'class_weight': 'balanced', 'shuffle': False, 'verbose': 5} with a score of 0.6927973005667354\nBest parameters for SGD Classifier are {'alpha': 0.0001, 'class_weight': 'balanced', 'shuffle': False, 'verbose': 10} with a score of 0.6927973005667354\nBest parameters for SGD Classifier are {'alpha': 0.0001, 'class_weight': None, 'shuffle': True, 'verbose': 0} with a score of 0.6977619625701996\nBest parameters for SGD Classifier are {'alpha': 0.0001, 'class_weight': 'balanced', 'shuffle': True, 'verbose': 1} with a score of 0.7006613697140203\n",
     "output_type": "stream"
    }
   ]
  },
  {
   "cell_type": "markdown",
   "source": "Best parameters for SGD Classifier are {'alpha': 0.0001, 'class_weight': 'balanced', 'shuffle': True, 'verbose': 1} using rfe_list froms RFE\n",
   "metadata": {
    "tags": [],
    "cell_id": "00052-6260c188-07db-413d-b166-cdb4d0a8303e",
    "deepnote_cell_type": "markdown"
   }
  },
  {
   "cell_type": "code",
   "metadata": {
    "tags": [],
    "cell_id": "00062-575c3364-08d8-4a10-971f-a1c39ab86df8",
    "deepnote_to_be_reexecuted": false,
    "source_hash": "40a0c84e",
    "is_output_hidden": true,
    "allow_embed": false,
    "execution_start": 1621959129933,
    "execution_millis": 117974,
    "deepnote_cell_type": "code"
   },
   "source": "# Create a parameter dictionary for the model, {'parameter': [list of settings]}\nparameters = [\n    {\n    'alpha': [0.0001, 0.001, 0.01, 0.1, 1],\n    'shuffle': [True, False],\n    'verbose': [0, 1, 5, 10],\n    'class_weight': [None, 'balanced'],\n    },\n]\n# Created variable model which holds the KNN model\nmodel = SGDClassifier()\n# Create grid_search model, looking at recall\ngrid_search = GridSearchCV(model,\n                           param_grid=parameters,\n                           scoring='accuracy',\n                           )\n# Create variable r that hold the FIT grid_search\nr = grid_search.fit(X_train[combo_feats], y_train)\nscores = r.cv_results_\nlm = r.best_estimator_",
   "execution_count": null,
   "outputs": [
    {
     "name": "stdout",
     "text": "Norm: 0.17, NNZs: 19, Bias: -0.296740, T: 3867, Avg. loss: 1.633305\nTotal training time: 0.01 seconds.\n-- Epoch 2\nNorm: 0.18, NNZs: 19, Bias: -0.302793, T: 7734, Avg. loss: 0.989102\nTotal training time: 0.01 seconds.\n-- Epoch 3\nNorm: 0.19, NNZs: 19, Bias: -0.305229, T: 11601, Avg. loss: 0.970797\nTotal training time: 0.01 seconds.\n-- Epoch 4\nNorm: 0.19, NNZs: 19, Bias: -0.308072, T: 15468, Avg. loss: 0.967018\nTotal training time: 0.10 seconds.\n-- Epoch 5\nNorm: 0.19, NNZs: 19, Bias: -0.310324, T: 19335, Avg. loss: 0.948538\nTotal training time: 0.10 seconds.\n-- Epoch 6\nNorm: 0.20, NNZs: 19, Bias: -0.312387, T: 23202, Avg. loss: 0.967271\nTotal training time: 0.11 seconds.\n-- Epoch 7\nNorm: 0.20, NNZs: 19, Bias: -0.313986, T: 27069, Avg. loss: 0.962590\nTotal training time: 0.11 seconds.\n-- Epoch 8\nNorm: 0.20, NNZs: 19, Bias: -0.315232, T: 30936, Avg. loss: 0.958550\nTotal training time: 0.11 seconds.\n-- Epoch 9\nNorm: 0.20, NNZs: 19, Bias: -0.316054, T: 34803, Avg. loss: 0.954092\nTotal training time: 0.11 seconds.\n-- Epoch 10\nNorm: 0.20, NNZs: 19, Bias: -0.317114, T: 38670, Avg. loss: 0.954342\nTotal training time: 0.12 seconds.\nConvergence after 10 epochs took 0.12 seconds\n-- Epoch 1\nNorm: 0.17, NNZs: 19, Bias: 0.601035, T: 3867, Avg. loss: 2.635995\nTotal training time: 0.01 seconds.\n-- Epoch 2\nNorm: 0.18, NNZs: 19, Bias: 0.590296, T: 7734, Avg. loss: 1.022839\nTotal training time: 0.01 seconds.\n-- Epoch 3\nNorm: 0.19, NNZs: 19, Bias: 0.584877, T: 11601, Avg. loss: 0.988017\nTotal training time: 0.01 seconds.\n-- Epoch 4\nNorm: 0.19, NNZs: 19, Bias: 0.581681, T: 15468, Avg. loss: 0.980140\nTotal training time: 0.01 seconds.\n-- Epoch 5\nNorm: 0.20, NNZs: 19, Bias: 0.578906, T: 19335, Avg. loss: 0.971716\nTotal training time: 0.01 seconds.\n-- Epoch 6\nNorm: 0.20, NNZs: 19, Bias: 0.577100, T: 23202, Avg. loss: 0.967987\nTotal training time: 0.02 seconds.\n-- Epoch 7\nNorm: 0.20, NNZs: 19, Bias: 0.575283, T: 27069, Avg. loss: 0.967416\nTotal training time: 0.02 seconds.\n-- Epoch 8\nNorm: 0.20, NNZs: 19, Bias: 0.574029, T: 30936, Avg. loss: 0.962464\nTotal training time: 0.02 seconds.\n-- Epoch 9\nNorm: 0.20, NNZs: 19, Bias: 0.572785, T: 34803, Avg. loss: 0.959137\nTotal training time: 0.02 seconds.\n-- Epoch 10\nNorm: 0.21, NNZs: 19, Bias: 0.571873, T: 38670, Avg. loss: 0.976887\nTotal training time: 0.02 seconds.\n-- Epoch 11\nNorm: 0.21, NNZs: 19, Bias: 0.570669, T: 42537, Avg. loss: 0.968132\nTotal training time: 0.02 seconds.\n-- Epoch 12\nNorm: 0.21, NNZs: 19, Bias: 0.569797, T: 46404, Avg. loss: 0.971804\nTotal training time: 0.03 seconds.\n-- Epoch 13\nNorm: 0.21, NNZs: 19, Bias: 0.568939, T: 50271, Avg. loss: 0.959347\nTotal training time: 0.03 seconds.\n-- Epoch 14\nNorm: 0.21, NNZs: 19, Bias: 0.568214, T: 54138, Avg. loss: 0.962080\nTotal training time: 0.03 seconds.\nConvergence after 14 epochs took 0.03 seconds\n-- Epoch 1\nNorm: 0.16, NNZs: 19, Bias: -0.816452, T: 3868, Avg. loss: 1.603818\nTotal training time: 0.00 seconds.\n-- Epoch 2\nNorm: 0.17, NNZs: 19, Bias: -0.816919, T: 7736, Avg. loss: 0.984746\nTotal training time: 0.00 seconds.\n-- Epoch 3\nNorm: 0.19, NNZs: 19, Bias: -0.816370, T: 11604, Avg. loss: 0.967551\nTotal training time: 0.00 seconds.\n-- Epoch 4\nNorm: 0.19, NNZs: 19, Bias: -0.817232, T: 15472, Avg. loss: 0.944049\nTotal training time: 0.00 seconds.\n-- Epoch 5\nNorm: 0.19, NNZs: 19, Bias: -0.818451, T: 19340, Avg. loss: 0.959751\nTotal training time: 0.01 seconds.\n-- Epoch 6\nNorm: 0.19, NNZs: 19, Bias: -0.819704, T: 23208, Avg. loss: 0.948634\nTotal training time: 0.01 seconds.\n-- Epoch 7\nNorm: 0.20, NNZs: 19, Bias: -0.820366, T: 27076, Avg. loss: 0.945776\nTotal training time: 0.01 seconds.\n-- Epoch 8\nNorm: 0.20, NNZs: 19, Bias: -0.820567, T: 30944, Avg. loss: 0.943569\nTotal training time: 0.01 seconds.\n-- Epoch 9\nNorm: 0.20, NNZs: 19, Bias: -0.820805, T: 34812, Avg. loss: 0.939817\nTotal training time: 0.01 seconds.\n-- Epoch 10\nNorm: 0.20, NNZs: 19, Bias: -0.821806, T: 38680, Avg. loss: 0.948533\nTotal training time: 0.01 seconds.\n-- Epoch 11\nNorm: 0.20, NNZs: 19, Bias: -0.822274, T: 42548, Avg. loss: 0.949696\nTotal training time: 0.01 seconds.\n-- Epoch 12\nNorm: 0.21, NNZs: 19, Bias: -0.823126, T: 46416, Avg. loss: 0.949134\nTotal training time: 0.01 seconds.\n-- Epoch 13\nNorm: 0.21, NNZs: 19, Bias: -0.823749, T: 50284, Avg. loss: 0.944831\nTotal training time: 0.01 seconds.\n-- Epoch 14\nNorm: 0.21, NNZs: 19, Bias: -0.823653, T: 54152, Avg. loss: 0.937843\nTotal training time: 0.02 seconds.\n-- Epoch 15\nNorm: 0.21, NNZs: 19, Bias: -0.824518, T: 58020, Avg. loss: 0.945333\nTotal training time: 0.02 seconds.\n-- Epoch 16\nNorm: 0.21, NNZs: 19, Bias: -0.824726, T: 61888, Avg. loss: 0.940871\nTotal training time: 0.02 seconds.\n-- Epoch 17\nNorm: 0.21, NNZs: 19, Bias: -0.825363, T: 65756, Avg. loss: 0.944810\nTotal training time: 0.02 seconds.\n-- Epoch 18\nNorm: 0.21, NNZs: 19, Bias: -0.825709, T: 69624, Avg. loss: 0.944232\nTotal training time: 0.02 seconds.\n-- Epoch 19\nNorm: 0.21, NNZs: 19, Bias: -0.826033, T: 73492, Avg. loss: 0.942799\nTotal training time: 0.02 seconds.\nConvergence after 19 epochs took 0.02 seconds\n-- Epoch 1\nNorm: 0.15, NNZs: 19, Bias: -0.929420, T: 3867, Avg. loss: 1.312011\nTotal training time: 0.00 seconds.\n-- Epoch 2\nNorm: 0.17, NNZs: 19, Bias: -0.923305, T: 7734, Avg. loss: 0.967797\nTotal training time: 0.00 seconds.\n-- Epoch 3\nNorm: 0.18, NNZs: 19, Bias: -0.921427, T: 11601, Avg. loss: 0.955692\nTotal training time: 0.00 seconds.\n-- Epoch 4\nNorm: 0.18, NNZs: 19, Bias: -0.921042, T: 15468, Avg. loss: 0.952594\nTotal training time: 0.00 seconds.\n-- Epoch 5\nNorm: 0.18, NNZs: 19, Bias: -0.921007, T: 19335, Avg. loss: 0.953460\nTotal training time: 0.01 seconds.\n-- Epoch 6\nNorm: 0.19, NNZs: 19, Bias: -0.921053, T: 23202, Avg. loss: 0.954061\nTotal training time: 0.01 seconds.\n-- Epoch 7\nNorm: 0.19, NNZs: 19, Bias: -0.921025, T: 27069, Avg. loss: 0.953204\nTotal training time: 0.01 seconds.\n-- Epoch 8\nNorm: 0.19, NNZs: 19, Bias: -0.920955, T: 30936, Avg. loss: 0.952590\nTotal training time: 0.01 seconds.\n-- Epoch 9\nNorm: 0.19, NNZs: 19, Bias: -0.921011, T: 34803, Avg. loss: 0.952345\nTotal training time: 0.01 seconds.\nConvergence after 9 epochs took 0.01 seconds\n-- Epoch 1\nNorm: 0.17, NNZs: 19, Bias: 0.804888, T: 3867, Avg. loss: 1.915816\nTotal training time: 0.00 seconds.\n-- Epoch 2\nNorm: 0.18, NNZs: 19, Bias: 0.788311, T: 7734, Avg. loss: 0.988405\nTotal training time: 0.00 seconds.\n-- Epoch 3\nNorm: 0.19, NNZs: 19, Bias: 0.780179, T: 11601, Avg. loss: 0.982532\nTotal training time: 0.00 seconds.\n-- Epoch 4\nNorm: 0.20, NNZs: 19, Bias: 0.774774, T: 15468, Avg. loss: 0.981114\nTotal training time: 0.00 seconds.\n-- Epoch 5\nNorm: 0.20, NNZs: 19, Bias: 0.771009, T: 19335, Avg. loss: 0.980726\nTotal training time: 0.00 seconds.\n-- Epoch 6\nNorm: 0.20, NNZs: 19, Bias: 0.768239, T: 23202, Avg. loss: 0.978934\nTotal training time: 0.00 seconds.\n-- Epoch 7\nNorm: 0.20, NNZs: 19, Bias: 0.766036, T: 27069, Avg. loss: 0.977364\nTotal training time: 0.00 seconds.\n-- Epoch 8\nNorm: 0.21, NNZs: 19, Bias: 0.764201, T: 30936, Avg. loss: 0.976386\nTotal training time: 0.00 seconds.\n-- Epoch 9\nNorm: 0.21, NNZs: 19, Bias: 0.762558, T: 34803, Avg. loss: 0.976559\nTotal training time: 0.07 seconds.\n-- Epoch 10\nNorm: 0.21, NNZs: 19, Bias: 0.761119, T: 38670, Avg. loss: 0.975555\nTotal training time: 0.07 seconds.\n-- Epoch 11\nNorm: 0.21, NNZs: 19, Bias: 0.759872, T: 42537, Avg. loss: 0.974593\nTotal training time: 0.07 seconds.\n-- Epoch 12\nNorm: 0.21, NNZs: 19, Bias: 0.758757, T: 46404, Avg. loss: 0.974110\nTotal training time: 0.07 seconds.\nConvergence after 12 epochs took 0.07 seconds\n-- Epoch 1\nNorm: 0.17, NNZs: 19, Bias: 0.804948, T: 3867, Avg. loss: 1.905376\nTotal training time: 0.00 seconds.\n-- Epoch 2\nNorm: 0.18, NNZs: 19, Bias: 0.788647, T: 7734, Avg. loss: 0.987544\nTotal training time: 0.00 seconds.\n-- Epoch 3\nNorm: 0.18, NNZs: 19, Bias: 0.780365, T: 11601, Avg. loss: 0.983438\nTotal training time: 0.01 seconds.\n-- Epoch 4\nNorm: 0.19, NNZs: 19, Bias: 0.774928, T: 15468, Avg. loss: 0.981551\nTotal training time: 0.01 seconds.\n-- Epoch 5\nNorm: 0.19, NNZs: 19, Bias: 0.771325, T: 19335, Avg. loss: 0.981162\nTotal training time: 0.01 seconds.\n-- Epoch 6\nNorm: 0.20, NNZs: 19, Bias: 0.768596, T: 23202, Avg. loss: 0.979518\nTotal training time: 0.01 seconds.\n-- Epoch 7\nNorm: 0.20, NNZs: 19, Bias: 0.766351, T: 27069, Avg. loss: 0.980044\nTotal training time: 0.01 seconds.\n-- Epoch 8\nNorm: 0.20, NNZs: 19, Bias: 0.764553, T: 30936, Avg. loss: 0.980017\nTotal training time: 0.01 seconds.\n-- Epoch 9\nNorm: 0.20, NNZs: 19, Bias: 0.762968, T: 34803, Avg. loss: 0.978461\nTotal training time: 0.01 seconds.\n-- Epoch 10\nNorm: 0.20, NNZs: 19, Bias: 0.761584, T: 38670, Avg. loss: 0.979040\nTotal training time: 0.02 seconds.\n-- Epoch 11\nNorm: 0.20, NNZs: 19, Bias: 0.760361, T: 42537, Avg. loss: 0.977992\nTotal training time: 0.02 seconds.\n-- Epoch 12\nNorm: 0.21, NNZs: 19, Bias: 0.759315, T: 46404, Avg. loss: 0.977565\nTotal training time: 0.02 seconds.\n-- Epoch 13\nNorm: 0.21, NNZs: 19, Bias: 0.758313, T: 50271, Avg. loss: 0.977205\nTotal training time: 0.02 seconds.\n-- Epoch 14\nNorm: 0.21, NNZs: 19, Bias: 0.757405, T: 54138, Avg. loss: 0.976294\nTotal training time: 0.02 seconds.\nConvergence after 14 epochs took 0.02 seconds\n-- Epoch 1\nNorm: 0.17, NNZs: 19, Bias: 0.803151, T: 3867, Avg. loss: 1.919080\nTotal training time: 0.01 seconds.\n-- Epoch 2\nNorm: 0.18, NNZs: 19, Bias: 0.789004, T: 7734, Avg. loss: 0.988320\nTotal training time: 0.01 seconds.\n-- Epoch 3\nNorm: 0.19, NNZs: 19, Bias: 0.782054, T: 11601, Avg. loss: 0.981400\nTotal training time: 0.01 seconds.\n-- Epoch 4\nNorm: 0.19, NNZs: 19, Bias: 0.777724, T: 15468, Avg. loss: 0.980606\nTotal training time: 0.01 seconds.\n-- Epoch 5\nNorm: 0.20, NNZs: 19, Bias: 0.774744, T: 19335, Avg. loss: 0.979471\nTotal training time: 0.02 seconds.\n-- Epoch 6\nNorm: 0.20, NNZs: 19, Bias: 0.772429, T: 23202, Avg. loss: 0.978448\nTotal training time: 0.02 seconds.\n-- Epoch 7\nNorm: 0.20, NNZs: 19, Bias: 0.770656, T: 27069, Avg. loss: 0.978853\nTotal training time: 0.02 seconds.\n-- Epoch 8\nNorm: 0.20, NNZs: 19, Bias: 0.769195, T: 30936, Avg. loss: 0.977600\nTotal training time: 0.02 seconds.\n-- Epoch 9\nNorm: 0.21, NNZs: 19, Bias: 0.767944, T: 34803, Avg. loss: 0.976789\nTotal training time: 0.02 seconds.\n-- Epoch 10\nNorm: 0.21, NNZs: 19, Bias: 0.766803, T: 38670, Avg. loss: 0.976676\nTotal training time: 0.02 seconds.\n-- Epoch 11\nNorm: 0.21, NNZs: 19, Bias: 0.765825, T: 42537, Avg. loss: 0.975678\nTotal training time: 0.03 seconds.\nConvergence after 11 epochs took 0.03 seconds\n-- Epoch 1\nNorm: 0.18, NNZs: 19, Bias: 0.807252, T: 3868, Avg. loss: 1.923714\nTotal training time: 0.01 seconds.\n-- Epoch 2\nNorm: 0.19, NNZs: 19, Bias: 0.791740, T: 7736, Avg. loss: 0.989737\nTotal training time: 0.01 seconds.\n-- Epoch 3\nNorm: 0.20, NNZs: 19, Bias: 0.784062, T: 11604, Avg. loss: 0.984799\nTotal training time: 0.01 seconds.\n-- Epoch 4\nNorm: 0.20, NNZs: 19, Bias: 0.779059, T: 15472, Avg. loss: 0.982862\nTotal training time: 0.02 seconds.\n-- Epoch 5\nNorm: 0.20, NNZs: 19, Bias: 0.775644, T: 19340, Avg. loss: 0.981845\nTotal training time: 0.02 seconds.\n-- Epoch 6\nNorm: 0.20, NNZs: 19, Bias: 0.772949, T: 23208, Avg. loss: 0.979709\nTotal training time: 0.02 seconds.\n-- Epoch 7\nNorm: 0.21, NNZs: 19, Bias: 0.770755, T: 27076, Avg. loss: 0.979243\nTotal training time: 0.02 seconds.\n-- Epoch 8\nNorm: 0.21, NNZs: 19, Bias: 0.768886, T: 30944, Avg. loss: 0.977597\nTotal training time: 0.02 seconds.\n-- Epoch 9\nNorm: 0.21, NNZs: 19, Bias: 0.767239, T: 34812, Avg. loss: 0.976240\nTotal training time: 0.02 seconds.\n-- Epoch 10\nNorm: 0.21, NNZs: 19, Bias: 0.765737, T: 38680, Avg. loss: 0.975194\nTotal training time: 0.03 seconds.\n-- Epoch 11\nNorm: 0.21, NNZs: 19, Bias: 0.764427, T: 42548, Avg. loss: 0.974347\nTotal training time: 0.03 seconds.\n-- Epoch 12\nNorm: 0.21, NNZs: 19, Bias: 0.763256, T: 46416, Avg. loss: 0.974185\nTotal training time: 0.03 seconds.\n-- Epoch 13\nNorm: 0.21, NNZs: 19, Bias: 0.762180, T: 50284, Avg. loss: 0.973574\nTotal training time: 0.03 seconds.\n-- Epoch 14\nNorm: 0.21, NNZs: 19, Bias: 0.761202, T: 54152, Avg. loss: 0.972825\nTotal training time: 0.03 seconds.\n-- Epoch 15\nNorm: 0.21, NNZs: 19, Bias: 0.760310, T: 58020, Avg. loss: 0.972213\nTotal training time: 0.09 seconds.\nConvergence after 15 epochs took 0.09 seconds\n-- Epoch 1\nNorm: 0.15, NNZs: 19, Bias: -0.929420, T: 3867, Avg. loss: 1.312011\nTotal training time: 0.00 seconds.\n-- Epoch 2\nNorm: 0.17, NNZs: 19, Bias: -0.923305, T: 7734, Avg. loss: 0.967797\nTotal training time: 0.01 seconds.\n-- Epoch 3\nNorm: 0.18, NNZs: 19, Bias: -0.921427, T: 11601, Avg. loss: 0.955692\nTotal training time: 0.08 seconds.\n-- Epoch 4\nNorm: 0.18, NNZs: 19, Bias: -0.921042, T: 15468, Avg. loss: 0.952594\nTotal training time: 0.08 seconds.\n-- Epoch 5\nNorm: 0.18, NNZs: 19, Bias: -0.921007, T: 19335, Avg. loss: 0.953460\nTotal training time: 0.09 seconds.\n-- Epoch 6\nNorm: 0.19, NNZs: 19, Bias: -0.921053, T: 23202, Avg. loss: 0.954061\nTotal training time: 0.09 seconds.\n-- Epoch 7\nNorm: 0.19, NNZs: 19, Bias: -0.921025, T: 27069, Avg. loss: 0.953204\nTotal training time: 0.09 seconds.\n-- Epoch 8\nNorm: 0.19, NNZs: 19, Bias: -0.920955, T: 30936, Avg. loss: 0.952590\nTotal training time: 0.09 seconds.\n-- Epoch 9\nNorm: 0.19, NNZs: 19, Bias: -0.921011, T: 34803, Avg. loss: 0.952345\nTotal training time: 0.09 seconds.\nConvergence after 9 epochs took 0.09 seconds\n-- Epoch 1\nNorm: 0.17, NNZs: 19, Bias: 0.804888, T: 3867, Avg. loss: 1.915816\nTotal training time: 0.00 seconds.\n-- Epoch 2\nNorm: 0.18, NNZs: 19, Bias: 0.788311, T: 7734, Avg. loss: 0.988405\nTotal training time: 0.00 seconds.\n-- Epoch 3\nNorm: 0.19, NNZs: 19, Bias: 0.780179, T: 11601, Avg. loss: 0.982532\nTotal training time: 0.00 seconds.\n-- Epoch 4\nNorm: 0.20, NNZs: 19, Bias: 0.774774, T: 15468, Avg. loss: 0.981114\nTotal training time: 0.00 seconds.\n-- Epoch 5\nNorm: 0.20, NNZs: 19, Bias: 0.771009, T: 19335, Avg. loss: 0.980726\nTotal training time: 0.01 seconds.\n-- Epoch 6\nNorm: 0.20, NNZs: 19, Bias: 0.768239, T: 23202, Avg. loss: 0.978934\nTotal training time: 0.01 seconds.\n-- Epoch 7\nNorm: 0.20, NNZs: 19, Bias: 0.766036, T: 27069, Avg. loss: 0.977364\nTotal training time: 0.01 seconds.\n-- Epoch 8\nNorm: 0.21, NNZs: 19, Bias: 0.764201, T: 30936, Avg. loss: 0.976386\nTotal training time: 0.01 seconds.\n-- Epoch 9\nNorm: 0.21, NNZs: 19, Bias: 0.762558, T: 34803, Avg. loss: 0.976559\nTotal training time: 0.07 seconds.\n-- Epoch 10\nNorm: 0.21, NNZs: 19, Bias: 0.761119, T: 38670, Avg. loss: 0.975555\nTotal training time: 0.07 seconds.\n-- Epoch 11\nNorm: 0.21, NNZs: 19, Bias: 0.759872, T: 42537, Avg. loss: 0.974593\nTotal training time: 0.07 seconds.\n-- Epoch 12\nNorm: 0.21, NNZs: 19, Bias: 0.758757, T: 46404, Avg. loss: 0.974110\nTotal training time: 0.08 seconds.\nConvergence after 12 epochs took 0.08 seconds\n-- Epoch 1\nNorm: 0.17, NNZs: 19, Bias: 0.804948, T: 3867, Avg. loss: 1.905376\nTotal training time: 0.00 seconds.\n-- Epoch 2\nNorm: 0.18, NNZs: 19, Bias: 0.788647, T: 7734, Avg. loss: 0.987544\nTotal training time: 0.07 seconds.\n-- Epoch 3\nNorm: 0.18, NNZs: 19, Bias: 0.780365, T: 11601, Avg. loss: 0.983438\nTotal training time: 0.07 seconds.\n-- Epoch 4\nNorm: 0.19, NNZs: 19, Bias: 0.774928, T: 15468, Avg. loss: 0.981551\nTotal training time: 0.07 seconds.\n-- Epoch 5\nNorm: 0.19, NNZs: 19, Bias: 0.771325, T: 19335, Avg. loss: 0.981162\nTotal training time: 0.08 seconds.\n-- Epoch 6\nNorm: 0.20, NNZs: 19, Bias: 0.768596, T: 23202, Avg. loss: 0.979518\nTotal training time: 0.08 seconds.\n-- Epoch 7\nNorm: 0.20, NNZs: 19, Bias: 0.766351, T: 27069, Avg. loss: 0.980044\nTotal training time: 0.08 seconds.\n-- Epoch 8\nNorm: 0.20, NNZs: 19, Bias: 0.764553, T: 30936, Avg. loss: 0.980017\nTotal training time: 0.08 seconds.\n-- Epoch 9\nNorm: 0.20, NNZs: 19, Bias: 0.762968, T: 34803, Avg. loss: 0.978461\nTotal training time: 0.08 seconds.\n-- Epoch 10\nNorm: 0.20, NNZs: 19, Bias: 0.761584, T: 38670, Avg. loss: 0.979040\nTotal training time: 0.08 seconds.\n-- Epoch 11\nNorm: 0.20, NNZs: 19, Bias: 0.760361, T: 42537, Avg. loss: 0.977992\nTotal training time: 0.08 seconds.\n-- Epoch 12\nNorm: 0.21, NNZs: 19, Bias: 0.759315, T: 46404, Avg. loss: 0.977565\nTotal training time: 0.08 seconds.\n-- Epoch 13\nNorm: 0.21, NNZs: 19, Bias: 0.758313, T: 50271, Avg. loss: 0.977205\nTotal training time: 0.08 seconds.\n-- Epoch 14\nNorm: 0.21, NNZs: 19, Bias: 0.757405, T: 54138, Avg. loss: 0.976294\nTotal training time: 0.08 seconds.\nConvergence after 14 epochs took 0.08 seconds\n-- Epoch 1\nNorm: 0.17, NNZs: 19, Bias: 0.803151, T: 3867, Avg. loss: 1.919080\nTotal training time: 0.00 seconds.\n-- Epoch 2\nNorm: 0.18, NNZs: 19, Bias: 0.789004, T: 7734, Avg. loss: 0.988320\nTotal training time: 0.00 seconds.\n-- Epoch 3\nNorm: 0.19, NNZs: 19, Bias: 0.782054, T: 11601, Avg. loss: 0.981400\nTotal training time: 0.01 seconds.\n-- Epoch 4\nNorm: 0.19, NNZs: 19, Bias: 0.777724, T: 15468, Avg. loss: 0.980606\nTotal training time: 0.01 seconds.\n-- Epoch 5\nNorm: 0.20, NNZs: 19, Bias: 0.774744, T: 19335, Avg. loss: 0.979471\nTotal training time: 0.01 seconds.\n-- Epoch 6\nNorm: 0.20, NNZs: 19, Bias: 0.772429, T: 23202, Avg. loss: 0.978448\nTotal training time: 0.01 seconds.\n-- Epoch 7\nNorm: 0.20, NNZs: 19, Bias: 0.770656, T: 27069, Avg. loss: 0.978853\nTotal training time: 0.01 seconds.\n-- Epoch 8\nNorm: 0.20, NNZs: 19, Bias: 0.769195, T: 30936, Avg. loss: 0.977600\nTotal training time: 0.01 seconds.\n-- Epoch 9\nNorm: 0.21, NNZs: 19, Bias: 0.767944, T: 34803, Avg. loss: 0.976789\nTotal training time: 0.01 seconds.\n-- Epoch 10\nNorm: 0.21, NNZs: 19, Bias: 0.766803, T: 38670, Avg. loss: 0.976676\nTotal training time: 0.02 seconds.\n-- Epoch 11\nNorm: 0.21, NNZs: 19, Bias: 0.765825, T: 42537, Avg. loss: 0.975678\nTotal training time: 0.02 seconds.\nConvergence after 11 epochs took 0.02 seconds\n-- Epoch 1\nNorm: 0.18, NNZs: 19, Bias: 0.807252, T: 3868, Avg. loss: 1.923714\nTotal training time: 0.00 seconds.\n-- Epoch 2\nNorm: 0.19, NNZs: 19, Bias: 0.791740, T: 7736, Avg. loss: 0.989737\nTotal training time: 0.00 seconds.\n-- Epoch 3\nNorm: 0.20, NNZs: 19, Bias: 0.784062, T: 11604, Avg. loss: 0.984799\nTotal training time: 0.02 seconds.\n-- Epoch 4\nNorm: 0.20, NNZs: 19, Bias: 0.779059, T: 15472, Avg. loss: 0.982862\nTotal training time: 0.02 seconds.\n-- Epoch 5\nNorm: 0.20, NNZs: 19, Bias: 0.775644, T: 19340, Avg. loss: 0.981845\nTotal training time: 0.02 seconds.\n-- Epoch 6\nNorm: 0.20, NNZs: 19, Bias: 0.772949, T: 23208, Avg. loss: 0.979709\nTotal training time: 0.02 seconds.\n-- Epoch 7\nNorm: 0.21, NNZs: 19, Bias: 0.770755, T: 27076, Avg. loss: 0.979243\nTotal training time: 0.02 seconds.\n-- Epoch 8\nNorm: 0.21, NNZs: 19, Bias: 0.768886, T: 30944, Avg. loss: 0.977597\nTotal training time: 0.09 seconds.\n-- Epoch 9\nNorm: 0.21, NNZs: 19, Bias: 0.767239, T: 34812, Avg. loss: 0.976240\nTotal training time: 0.09 seconds.\n-- Epoch 10\nNorm: 0.21, NNZs: 19, Bias: 0.765737, T: 38680, Avg. loss: 0.975194\nTotal training time: 0.09 seconds.\n-- Epoch 11\nNorm: 0.21, NNZs: 19, Bias: 0.764427, T: 42548, Avg. loss: 0.974347\nTotal training time: 0.09 seconds.\n-- Epoch 12\nNorm: 0.21, NNZs: 19, Bias: 0.763256, T: 46416, Avg. loss: 0.974185\nTotal training time: 0.09 seconds.\n-- Epoch 13\nNorm: 0.21, NNZs: 19, Bias: 0.762180, T: 50284, Avg. loss: 0.973574\nTotal training time: 0.09 seconds.\n-- Epoch 14\nNorm: 0.21, NNZs: 19, Bias: 0.761202, T: 54152, Avg. loss: 0.972825\nTotal training time: 0.10 seconds.\n-- Epoch 15\nNorm: 0.21, NNZs: 19, Bias: 0.760310, T: 58020, Avg. loss: 0.972213\nTotal training time: 0.10 seconds.\nConvergence after 15 epochs took 0.10 seconds\n-- Epoch 1\nNorm: 0.15, NNZs: 19, Bias: -0.929420, T: 3867, Avg. loss: 1.312011\nTotal training time: 0.00 seconds.\n-- Epoch 2\nNorm: 0.17, NNZs: 19, Bias: -0.923305, T: 7734, Avg. loss: 0.967797\nTotal training time: 0.07 seconds.\n-- Epoch 3\nNorm: 0.18, NNZs: 19, Bias: -0.921427, T: 11601, Avg. loss: 0.955692\nTotal training time: 0.07 seconds.\n-- Epoch 4\nNorm: 0.18, NNZs: 19, Bias: -0.921042, T: 15468, Avg. loss: 0.952594\nTotal training time: 0.07 seconds.\n-- Epoch 5\nNorm: 0.18, NNZs: 19, Bias: -0.921007, T: 19335, Avg. loss: 0.953460\nTotal training time: 0.08 seconds.\n-- Epoch 6\nNorm: 0.19, NNZs: 19, Bias: -0.921053, T: 23202, Avg. loss: 0.954061\nTotal training time: 0.08 seconds.\n-- Epoch 7\nNorm: 0.19, NNZs: 19, Bias: -0.921025, T: 27069, Avg. loss: 0.953204\nTotal training time: 0.08 seconds.\n-- Epoch 8\nNorm: 0.19, NNZs: 19, Bias: -0.920955, T: 30936, Avg. loss: 0.952590\nTotal training time: 0.08 seconds.\n-- Epoch 9\nNorm: 0.19, NNZs: 19, Bias: -0.921011, T: 34803, Avg. loss: 0.952345\nTotal training time: 0.08 seconds.\nConvergence after 9 epochs took 0.08 seconds\n-- Epoch 1\nNorm: 0.17, NNZs: 19, Bias: 0.804888, T: 3867, Avg. loss: 1.915816\nTotal training time: 0.07 seconds.\n-- Epoch 2\nNorm: 0.18, NNZs: 19, Bias: 0.788311, T: 7734, Avg. loss: 0.988405\nTotal training time: 0.07 seconds.\n-- Epoch 3\nNorm: 0.19, NNZs: 19, Bias: 0.780179, T: 11601, Avg. loss: 0.982532\nTotal training time: 0.07 seconds.\n-- Epoch 4\nNorm: 0.20, NNZs: 19, Bias: 0.774774, T: 15468, Avg. loss: 0.981114\nTotal training time: 0.07 seconds.\n-- Epoch 5\nNorm: 0.20, NNZs: 19, Bias: 0.771009, T: 19335, Avg. loss: 0.980726\nTotal training time: 0.07 seconds.\n-- Epoch 6\nNorm: 0.20, NNZs: 19, Bias: 0.768239, T: 23202, Avg. loss: 0.978934\nTotal training time: 0.07 seconds.\n-- Epoch 7\nNorm: 0.20, NNZs: 19, Bias: 0.766036, T: 27069, Avg. loss: 0.977364\nTotal training time: 0.08 seconds.\n-- Epoch 8\nNorm: 0.21, NNZs: 19, Bias: 0.764201, T: 30936, Avg. loss: 0.976386\nTotal training time: 0.08 seconds.\n-- Epoch 9\nNorm: 0.21, NNZs: 19, Bias: 0.762558, T: 34803, Avg. loss: 0.976559\nTotal training time: 0.08 seconds.\n-- Epoch 10\nNorm: 0.21, NNZs: 19, Bias: 0.761119, T: 38670, Avg. loss: 0.975555\nTotal training time: 0.08 seconds.\n-- Epoch 11\nNorm: 0.21, NNZs: 19, Bias: 0.759872, T: 42537, Avg. loss: 0.974593\nTotal training time: 0.08 seconds.\n-- Epoch 12\nNorm: 0.21, NNZs: 19, Bias: 0.758757, T: 46404, Avg. loss: 0.974110\nTotal training time: 0.09 seconds.\nConvergence after 12 epochs took 0.09 seconds\n-- Epoch 1\nNorm: 0.17, NNZs: 19, Bias: 0.804948, T: 3867, Avg. loss: 1.905376\nTotal training time: 0.00 seconds.\n-- Epoch 2\nNorm: 0.18, NNZs: 19, Bias: 0.788647, T: 7734, Avg. loss: 0.987544\nTotal training time: 0.00 seconds.\n-- Epoch 3\nNorm: 0.18, NNZs: 19, Bias: 0.780365, T: 11601, Avg. loss: 0.983438\nTotal training time: 0.00 seconds.\n-- Epoch 4\nNorm: 0.19, NNZs: 19, Bias: 0.774928, T: 15468, Avg. loss: 0.981551\nTotal training time: 0.01 seconds.\n-- Epoch 5\nNorm: 0.19, NNZs: 19, Bias: 0.771325, T: 19335, Avg. loss: 0.981162\nTotal training time: 0.01 seconds.\n-- Epoch 6\nNorm: 0.20, NNZs: 19, Bias: 0.768596, T: 23202, Avg. loss: 0.979518\nTotal training time: 0.01 seconds.\n-- Epoch 7\nNorm: 0.20, NNZs: 19, Bias: 0.766351, T: 27069, Avg. loss: 0.980044\nTotal training time: 0.01 seconds.\n-- Epoch 8\nNorm: 0.20, NNZs: 19, Bias: 0.764553, T: 30936, Avg. loss: 0.980017\nTotal training time: 0.01 seconds.\n-- Epoch 9\nNorm: 0.20, NNZs: 19, Bias: 0.762968, T: 34803, Avg. loss: 0.978461\nTotal training time: 0.01 seconds.\n-- Epoch 10\nNorm: 0.20, NNZs: 19, Bias: 0.761584, T: 38670, Avg. loss: 0.979040\nTotal training time: 0.01 seconds.\n-- Epoch 11\nNorm: 0.20, NNZs: 19, Bias: 0.760361, T: 42537, Avg. loss: 0.977992\nTotal training time: 0.01 seconds.\n-- Epoch 12\nNorm: 0.21, NNZs: 19, Bias: 0.759315, T: 46404, Avg. loss: 0.977565\nTotal training time: 0.02 seconds.\n-- Epoch 13\nNorm: 0.21, NNZs: 19, Bias: 0.758313, T: 50271, Avg. loss: 0.977205\nTotal training time: 0.02 seconds.\n-- Epoch 14\nNorm: 0.21, NNZs: 19, Bias: 0.757405, T: 54138, Avg. loss: 0.976294\nTotal training time: 0.02 seconds.\nConvergence after 14 epochs took 0.02 seconds\n-- Epoch 1\nNorm: 0.17, NNZs: 19, Bias: 0.803151, T: 3867, Avg. loss: 1.919080\nTotal training time: 0.00 seconds.\n-- Epoch 2\nNorm: 0.18, NNZs: 19, Bias: 0.789004, T: 7734, Avg. loss: 0.988320\nTotal training time: 0.00 seconds.\n-- Epoch 3\nNorm: 0.19, NNZs: 19, Bias: 0.782054, T: 11601, Avg. loss: 0.981400\nTotal training time: 0.00 seconds.\n-- Epoch 4\nNorm: 0.19, NNZs: 19, Bias: 0.777724, T: 15468, Avg. loss: 0.980606\nTotal training time: 0.00 seconds.\n-- Epoch 5\nNorm: 0.20, NNZs: 19, Bias: 0.774744, T: 19335, Avg. loss: 0.979471\nTotal training time: 0.01 seconds.\n-- Epoch 6\nNorm: 0.20, NNZs: 19, Bias: 0.772429, T: 23202, Avg. loss: 0.978448\nTotal training time: 0.01 seconds.\n-- Epoch 7\nNorm: 0.20, NNZs: 19, Bias: 0.770656, T: 27069, Avg. loss: 0.978853\nTotal training time: 0.01 seconds.\n-- Epoch 8\nNorm: 0.20, NNZs: 19, Bias: 0.769195, T: 30936, Avg. loss: 0.977600\nTotal training time: 0.01 seconds.\n-- Epoch 9\nNorm: 0.21, NNZs: 19, Bias: 0.767944, T: 34803, Avg. loss: 0.976789\nTotal training time: 0.01 seconds.\n-- Epoch 10\nNorm: 0.21, NNZs: 19, Bias: 0.766803, T: 38670, Avg. loss: 0.976676\nTotal training time: 0.01 seconds.\n-- Epoch 11\nNorm: 0.21, NNZs: 19, Bias: 0.765825, T: 42537, Avg. loss: 0.975678\nTotal training time: 0.01 seconds.\nConvergence after 11 epochs took 0.01 seconds\n-- Epoch 1\nNorm: 0.18, NNZs: 19, Bias: 0.807252, T: 3868, Avg. loss: 1.923714\nTotal training time: 0.00 seconds.\n-- Epoch 2\nNorm: 0.19, NNZs: 19, Bias: 0.791740, T: 7736, Avg. loss: 0.989737\nTotal training time: 0.01 seconds.\n-- Epoch 3\nNorm: 0.20, NNZs: 19, Bias: 0.784062, T: 11604, Avg. loss: 0.984799\nTotal training time: 0.01 seconds.\n-- Epoch 4\nNorm: 0.20, NNZs: 19, Bias: 0.779059, T: 15472, Avg. loss: 0.982862\nTotal training time: 0.01 seconds.\n-- Epoch 5\nNorm: 0.20, NNZs: 19, Bias: 0.775644, T: 19340, Avg. loss: 0.981845\nTotal training time: 0.01 seconds.\n-- Epoch 6\nNorm: 0.20, NNZs: 19, Bias: 0.772949, T: 23208, Avg. loss: 0.979709\nTotal training time: 0.01 seconds.\n-- Epoch 7\nNorm: 0.21, NNZs: 19, Bias: 0.770755, T: 27076, Avg. loss: 0.979243\nTotal training time: 0.02 seconds.\n-- Epoch 8\nNorm: 0.21, NNZs: 19, Bias: 0.768886, T: 30944, Avg. loss: 0.977597\nTotal training time: 0.02 seconds.\n-- Epoch 9\nNorm: 0.21, NNZs: 19, Bias: 0.767239, T: 34812, Avg. loss: 0.976240\nTotal training time: 0.02 seconds.\n-- Epoch 10\nNorm: 0.21, NNZs: 19, Bias: 0.765737, T: 38680, Avg. loss: 0.975194\nTotal training time: 0.02 seconds.\n-- Epoch 11\nNorm: 0.21, NNZs: 19, Bias: 0.764427, T: 42548, Avg. loss: 0.974347\nTotal training time: 0.02 seconds.\n-- Epoch 12\nNorm: 0.21, NNZs: 19, Bias: 0.763256, T: 46416, Avg. loss: 0.974185\nTotal training time: 0.02 seconds.\n-- Epoch 13\nNorm: 0.21, NNZs: 19, Bias: 0.762180, T: 50284, Avg. loss: 0.973574\nTotal training time: 0.02 seconds.\n-- Epoch 14\nNorm: 0.21, NNZs: 19, Bias: 0.761202, T: 54152, Avg. loss: 0.972825\nTotal training time: 0.03 seconds.\n-- Epoch 15\nNorm: 0.21, NNZs: 19, Bias: 0.760310, T: 58020, Avg. loss: 0.972213\nTotal training time: 0.03 seconds.\nConvergence after 15 epochs took 0.03 seconds\n-- Epoch 1\nNorm: 7.56, NNZs: 19, Bias: -3.670688, T: 4834, Avg. loss: 36.527675\nTotal training time: 0.00 seconds.\n-- Epoch 2\nNorm: 6.27, NNZs: 19, Bias: -3.038345, T: 9668, Avg. loss: 5.214974\nTotal training time: 0.00 seconds.\n-- Epoch 3\nNorm: 5.47, NNZs: 19, Bias: -2.831448, T: 14502, Avg. loss: 3.363198\nTotal training time: 0.00 seconds.\n-- Epoch 4\nNorm: 5.01, NNZs: 19, Bias: -2.419596, T: 19336, Avg. loss: 2.519043\nTotal training time: 0.00 seconds.\n-- Epoch 5\nNorm: 4.59, NNZs: 19, Bias: -2.357802, T: 24170, Avg. loss: 2.078252\nTotal training time: 0.01 seconds.\n-- Epoch 6\nNorm: 4.31, NNZs: 19, Bias: -2.174960, T: 29004, Avg. loss: 1.823923\nTotal training time: 0.01 seconds.\n-- Epoch 7\nNorm: 3.96, NNZs: 19, Bias: -2.021513, T: 33838, Avg. loss: 1.652599\nTotal training time: 0.01 seconds.\n-- Epoch 8\nNorm: 3.71, NNZs: 19, Bias: -1.927843, T: 38672, Avg. loss: 1.513920\nTotal training time: 0.01 seconds.\n-- Epoch 9\nNorm: 3.54, NNZs: 19, Bias: -1.857293, T: 43506, Avg. loss: 1.394138\nTotal training time: 0.01 seconds.\n-- Epoch 10\nNorm: 3.39, NNZs: 19, Bias: -1.719447, T: 48340, Avg. loss: 1.313605\nTotal training time: 0.01 seconds.\n-- Epoch 11\nNorm: 3.27, NNZs: 19, Bias: -1.696705, T: 53174, Avg. loss: 1.279552\nTotal training time: 0.01 seconds.\n-- Epoch 12\nNorm: 3.20, NNZs: 19, Bias: -1.626220, T: 58008, Avg. loss: 1.222219\nTotal training time: 0.01 seconds.\n-- Epoch 13\nNorm: 3.09, NNZs: 19, Bias: -1.565160, T: 62842, Avg. loss: 1.166026\nTotal training time: 0.02 seconds.\n-- Epoch 14\nNorm: 3.02, NNZs: 19, Bias: -1.532491, T: 67676, Avg. loss: 1.112088\nTotal training time: 0.02 seconds.\n-- Epoch 15\nNorm: 2.92, NNZs: 19, Bias: -1.486266, T: 72510, Avg. loss: 1.105650\nTotal training time: 0.02 seconds.\n-- Epoch 16\nNorm: 2.87, NNZs: 19, Bias: -1.435510, T: 77344, Avg. loss: 1.085865\nTotal training time: 0.02 seconds.\n-- Epoch 17\nNorm: 2.81, NNZs: 19, Bias: -1.411476, T: 82178, Avg. loss: 1.044152\nTotal training time: 0.02 seconds.\n-- Epoch 18\nNorm: 2.77, NNZs: 19, Bias: -1.360609, T: 87012, Avg. loss: 1.037423\nTotal training time: 0.02 seconds.\n-- Epoch 19\nNorm: 2.73, NNZs: 19, Bias: -1.321402, T: 91846, Avg. loss: 1.022437\nTotal training time: 0.02 seconds.\n-- Epoch 20\nNorm: 2.70, NNZs: 19, Bias: -1.292911, T: 96680, Avg. loss: 1.015657\nTotal training time: 0.02 seconds.\n-- Epoch 21\nNorm: 2.67, NNZs: 19, Bias: -1.254023, T: 101514, Avg. loss: 0.961190\nTotal training time: 0.02 seconds.\n-- Epoch 22\nNorm: 2.65, NNZs: 19, Bias: -1.223195, T: 106348, Avg. loss: 0.983582\nTotal training time: 0.02 seconds.\n-- Epoch 23\nNorm: 2.63, NNZs: 19, Bias: -1.198321, T: 111182, Avg. loss: 0.951324\nTotal training time: 0.02 seconds.\n-- Epoch 24\nNorm: 2.60, NNZs: 19, Bias: -1.171103, T: 116016, Avg. loss: 0.942744\nTotal training time: 0.09 seconds.\n-- Epoch 25\nNorm: 2.57, NNZs: 19, Bias: -1.131678, T: 120850, Avg. loss: 0.938260\nTotal training time: 0.09 seconds.\n-- Epoch 26\nNorm: 2.54, NNZs: 19, Bias: -1.124462, T: 125684, Avg. loss: 0.919825\nTotal training time: 0.09 seconds.\n-- Epoch 27\nNorm: 2.52, NNZs: 19, Bias: -1.108109, T: 130518, Avg. loss: 0.919158\nTotal training time: 0.09 seconds.\n-- Epoch 28\nNorm: 2.49, NNZs: 19, Bias: -1.094406, T: 135352, Avg. loss: 0.902810\nTotal training time: 0.09 seconds.\n-- Epoch 29\nNorm: 2.49, NNZs: 19, Bias: -1.067692, T: 140186, Avg. loss: 0.899930\nTotal training time: 0.09 seconds.\n-- Epoch 30\nNorm: 2.48, NNZs: 19, Bias: -1.048957, T: 145020, Avg. loss: 0.890386\nTotal training time: 0.09 seconds.\n-- Epoch 31\nNorm: 2.46, NNZs: 19, Bias: -1.025996, T: 149854, Avg. loss: 0.890473\nTotal training time: 0.09 seconds.\n-- Epoch 32\nNorm: 2.44, NNZs: 19, Bias: -1.016224, T: 154688, Avg. loss: 0.883164\nTotal training time: 0.09 seconds.\n-- Epoch 33\nNorm: 2.42, NNZs: 19, Bias: -0.992774, T: 159522, Avg. loss: 0.873267\nTotal training time: 0.09 seconds.\n-- Epoch 34\nNorm: 2.40, NNZs: 19, Bias: -0.977884, T: 164356, Avg. loss: 0.867827\nTotal training time: 0.09 seconds.\n-- Epoch 35\nNorm: 2.39, NNZs: 19, Bias: -0.957715, T: 169190, Avg. loss: 0.869413\nTotal training time: 0.09 seconds.\n-- Epoch 36\nNorm: 2.38, NNZs: 19, Bias: -0.951889, T: 174024, Avg. loss: 0.856129\nTotal training time: 0.10 seconds.\n-- Epoch 37\nNorm: 2.37, NNZs: 19, Bias: -0.938758, T: 178858, Avg. loss: 0.856726\nTotal training time: 0.10 seconds.\n-- Epoch 38\nNorm: 2.37, NNZs: 19, Bias: -0.921665, T: 183692, Avg. loss: 0.848354\nTotal training time: 0.10 seconds.\n-- Epoch 39\nNorm: 2.35, NNZs: 19, Bias: -0.910390, T: 188526, Avg. loss: 0.851795\nTotal training time: 0.11 seconds.\n-- Epoch 40\nNorm: 2.33, NNZs: 19, Bias: -0.899858, T: 193360, Avg. loss: 0.840990\nTotal training time: 0.11 seconds.\n-- Epoch 41\nNorm: 2.33, NNZs: 19, Bias: -0.884477, T: 198194, Avg. loss: 0.838188\nTotal training time: 0.11 seconds.\n-- Epoch 42\nNorm: 2.33, NNZs: 19, Bias: -0.867019, T: 203028, Avg. loss: 0.838890\nTotal training time: 0.11 seconds.\n-- Epoch 43\nNorm: 2.32, NNZs: 19, Bias: -0.855892, T: 207862, Avg. loss: 0.825741\nTotal training time: 0.12 seconds.\n-- Epoch 44\nNorm: 2.30, NNZs: 19, Bias: -0.845892, T: 212696, Avg. loss: 0.823583\nTotal training time: 0.12 seconds.\n-- Epoch 45\nNorm: 2.30, NNZs: 19, Bias: -0.832284, T: 217530, Avg. loss: 0.826591\nTotal training time: 0.12 seconds.\n-- Epoch 46\nNorm: 2.30, NNZs: 19, Bias: -0.819935, T: 222364, Avg. loss: 0.820191\nTotal training time: 0.12 seconds.\n-- Epoch 47\nNorm: 2.29, NNZs: 19, Bias: -0.815512, T: 227198, Avg. loss: 0.819320\nTotal training time: 0.12 seconds.\n-- Epoch 48\nNorm: 2.29, NNZs: 19, Bias: -0.805031, T: 232032, Avg. loss: 0.815595\nTotal training time: 0.13 seconds.\n-- Epoch 49\nNorm: 2.28, NNZs: 19, Bias: -0.798162, T: 236866, Avg. loss: 0.805549\nTotal training time: 0.13 seconds.\n-- Epoch 50\nNorm: 2.27, NNZs: 19, Bias: -0.787791, T: 241700, Avg. loss: 0.808653\nTotal training time: 0.13 seconds.\n-- Epoch 51\nNorm: 2.27, NNZs: 19, Bias: -0.774280, T: 246534, Avg. loss: 0.811823\nTotal training time: 0.19 seconds.\n-- Epoch 52\nNorm: 2.26, NNZs: 19, Bias: -0.767019, T: 251368, Avg. loss: 0.809336\nTotal training time: 0.19 seconds.\n-- Epoch 53\nNorm: 2.26, NNZs: 19, Bias: -0.758829, T: 256202, Avg. loss: 0.807004\nTotal training time: 0.19 seconds.\n-- Epoch 54\nNorm: 2.25, NNZs: 19, Bias: -0.747252, T: 261036, Avg. loss: 0.795726\nTotal training time: 0.19 seconds.\n-- Epoch 55\nNorm: 2.25, NNZs: 19, Bias: -0.737739, T: 265870, Avg. loss: 0.796016\nTotal training time: 0.19 seconds.\n-- Epoch 56\nNorm: 2.24, NNZs: 19, Bias: -0.732184, T: 270704, Avg. loss: 0.797153\nTotal training time: 0.19 seconds.\n-- Epoch 57\nNorm: 2.24, NNZs: 19, Bias: -0.723344, T: 275538, Avg. loss: 0.789322\nTotal training time: 0.19 seconds.\n-- Epoch 58\nNorm: 2.24, NNZs: 19, Bias: -0.711910, T: 280372, Avg. loss: 0.791152\nTotal training time: 0.20 seconds.\n-- Epoch 59\nNorm: 2.24, NNZs: 19, Bias: -0.705250, T: 285206, Avg. loss: 0.785636\nTotal training time: 0.20 seconds.\n-- Epoch 60\nNorm: 2.23, NNZs: 19, Bias: -0.702204, T: 290040, Avg. loss: 0.792131\nTotal training time: 0.20 seconds.\n-- Epoch 61\nNorm: 2.23, NNZs: 19, Bias: -0.694346, T: 294874, Avg. loss: 0.798233\nTotal training time: 0.20 seconds.\n-- Epoch 62\nNorm: 2.22, NNZs: 19, Bias: -0.688879, T: 299708, Avg. loss: 0.785590\nTotal training time: 0.20 seconds.\n-- Epoch 63\nNorm: 2.22, NNZs: 19, Bias: -0.679607, T: 304542, Avg. loss: 0.786852\nTotal training time: 0.20 seconds.\n-- Epoch 64\nNorm: 2.21, NNZs: 19, Bias: -0.672751, T: 309376, Avg. loss: 0.775479\nTotal training time: 0.20 seconds.\n-- Epoch 65\nNorm: 2.21, NNZs: 19, Bias: -0.665302, T: 314210, Avg. loss: 0.775337\nTotal training time: 0.21 seconds.\n-- Epoch 66\nNorm: 2.21, NNZs: 19, Bias: -0.656802, T: 319044, Avg. loss: 0.784672\nTotal training time: 0.21 seconds.\n-- Epoch 67\nNorm: 2.21, NNZs: 19, Bias: -0.650890, T: 323878, Avg. loss: 0.772939\nTotal training time: 0.21 seconds.\n-- Epoch 68\nNorm: 2.21, NNZs: 19, Bias: -0.641368, T: 328712, Avg. loss: 0.775083\nTotal training time: 0.21 seconds.\n-- Epoch 69\nNorm: 2.21, NNZs: 19, Bias: -0.635321, T: 333546, Avg. loss: 0.774600\nTotal training time: 0.21 seconds.\n-- Epoch 70\nNorm: 2.20, NNZs: 19, Bias: -0.629338, T: 338380, Avg. loss: 0.773176\nTotal training time: 0.21 seconds.\n-- Epoch 71\nNorm: 2.21, NNZs: 19, Bias: -0.623167, T: 343214, Avg. loss: 0.773275\nTotal training time: 0.21 seconds.\n-- Epoch 72\nNorm: 2.20, NNZs: 19, Bias: -0.617951, T: 348048, Avg. loss: 0.770348\nTotal training time: 0.21 seconds.\n-- Epoch 73\nNorm: 2.20, NNZs: 19, Bias: -0.613042, T: 352882, Avg. loss: 0.767944\nTotal training time: 0.22 seconds.\n-- Epoch 74\nNorm: 2.20, NNZs: 19, Bias: -0.609371, T: 357716, Avg. loss: 0.766877\nTotal training time: 0.22 seconds.\n-- Epoch 75\nNorm: 2.19, NNZs: 19, Bias: -0.604643, T: 362550, Avg. loss: 0.771437\nTotal training time: 0.22 seconds.\n-- Epoch 76\nNorm: 2.19, NNZs: 19, Bias: -0.597543, T: 367384, Avg. loss: 0.764421\nTotal training time: 0.22 seconds.\n-- Epoch 77\nNorm: 2.19, NNZs: 19, Bias: -0.592381, T: 372218, Avg. loss: 0.768211\nTotal training time: 0.22 seconds.\n-- Epoch 78\nNorm: 2.19, NNZs: 19, Bias: -0.587604, T: 377052, Avg. loss: 0.754225\nTotal training time: 0.22 seconds.\n-- Epoch 79\nNorm: 2.18, NNZs: 19, Bias: -0.582073, T: 381886, Avg. loss: 0.764965\nTotal training time: 0.22 seconds.\n-- Epoch 80\nNorm: 2.18, NNZs: 19, Bias: -0.574820, T: 386720, Avg. loss: 0.760992\nTotal training time: 0.22 seconds.\n-- Epoch 81\nNorm: 2.18, NNZs: 19, Bias: -0.568639, T: 391554, Avg. loss: 0.756928\nTotal training time: 0.22 seconds.\n-- Epoch 82\nNorm: 2.17, NNZs: 19, Bias: -0.567103, T: 396388, Avg. loss: 0.752518\nTotal training time: 0.22 seconds.\n-- Epoch 83\nNorm: 2.17, NNZs: 19, Bias: -0.564099, T: 401222, Avg. loss: 0.758463\nTotal training time: 0.22 seconds.\n-- Epoch 84\nNorm: 2.16, NNZs: 19, Bias: -0.561139, T: 406056, Avg. loss: 0.755808\nTotal training time: 0.22 seconds.\n-- Epoch 85\nNorm: 2.16, NNZs: 19, Bias: -0.555254, T: 410890, Avg. loss: 0.761639\nTotal training time: 0.29 seconds.\n-- Epoch 86\nNorm: 2.16, NNZs: 19, Bias: -0.545557, T: 415724, Avg. loss: 0.752257\nTotal training time: 0.29 seconds.\n-- Epoch 87\nNorm: 2.16, NNZs: 19, Bias: -0.537185, T: 420558, Avg. loss: 0.750469\nTotal training time: 0.29 seconds.\n-- Epoch 88\nNorm: 2.16, NNZs: 19, Bias: -0.531995, T: 425392, Avg. loss: 0.751697\nTotal training time: 0.29 seconds.\n-- Epoch 89\nNorm: 2.16, NNZs: 19, Bias: -0.528723, T: 430226, Avg. loss: 0.757317\nTotal training time: 0.29 seconds.\n-- Epoch 90\nNorm: 2.16, NNZs: 19, Bias: -0.521825, T: 435060, Avg. loss: 0.753874\nTotal training time: 0.29 seconds.\n-- Epoch 91\nNorm: 2.16, NNZs: 19, Bias: -0.517228, T: 439894, Avg. loss: 0.746385\nTotal training time: 0.29 seconds.\n-- Epoch 92\nNorm: 2.15, NNZs: 19, Bias: -0.515399, T: 444728, Avg. loss: 0.751914\nTotal training time: 0.29 seconds.\n-- Epoch 93\nNorm: 2.15, NNZs: 19, Bias: -0.513148, T: 449562, Avg. loss: 0.754741\nTotal training time: 0.29 seconds.\n-- Epoch 94\nNorm: 2.15, NNZs: 19, Bias: -0.506086, T: 454396, Avg. loss: 0.751882\nTotal training time: 0.29 seconds.\n-- Epoch 95\nNorm: 2.15, NNZs: 19, Bias: -0.504324, T: 459230, Avg. loss: 0.745832\nTotal training time: 0.30 seconds.\n-- Epoch 96\nNorm: 2.15, NNZs: 19, Bias: -0.496543, T: 464064, Avg. loss: 0.739742\nTotal training time: 0.30 seconds.\n-- Epoch 97\nNorm: 2.15, NNZs: 19, Bias: -0.493538, T: 468898, Avg. loss: 0.742187\nTotal training time: 0.30 seconds.\n-- Epoch 98\nNorm: 2.15, NNZs: 19, Bias: -0.490139, T: 473732, Avg. loss: 0.747937\nTotal training time: 0.30 seconds.\n-- Epoch 99\nNorm: 2.15, NNZs: 19, Bias: -0.485311, T: 478566, Avg. loss: 0.740656\nTotal training time: 0.30 seconds.\n-- Epoch 100\nNorm: 2.15, NNZs: 19, Bias: -0.484068, T: 483400, Avg. loss: 0.743045\nTotal training time: 0.30 seconds.\n-- Epoch 101\nNorm: 2.14, NNZs: 19, Bias: -0.479135, T: 488234, Avg. loss: 0.739416\nTotal training time: 0.30 seconds.\nConvergence after 101 epochs took 0.30 seconds\n",
     "output_type": "stream"
    }
   ]
  },
  {
   "cell_type": "code",
   "metadata": {
    "tags": [],
    "cell_id": "00063-14c42876-8d61-4420-b9b7-09bf1e247d9c",
    "deepnote_to_be_reexecuted": false,
    "source_hash": "32c9439c",
    "allow_embed": false,
    "execution_start": 1621959247909,
    "execution_millis": 16,
    "deepnote_cell_type": "code"
   },
   "source": "# Returns max value of the mean test score \nmax(scores['mean_test_score'])",
   "execution_count": null,
   "outputs": [
    {
     "output_type": "execute_result",
     "execution_count": 55,
     "data": {
      "text/plain": "0.7049999892947603"
     },
     "metadata": {}
    }
   ]
  },
  {
   "cell_type": "code",
   "metadata": {
    "tags": [],
    "cell_id": "00064-ca01cd0e-8596-4f70-af95-dc73b4f98a07",
    "deepnote_to_be_reexecuted": false,
    "source_hash": "46f0d3fb",
    "allow_embed": false,
    "is_output_hidden": false,
    "execution_start": 1621959247994,
    "execution_millis": 47,
    "deepnote_cell_type": "code"
   },
   "source": "# loop that runs all of the possible parameter configurations from the parameter dictionary above\nfor mean_score, params in sorted(list(zip(scores[\"mean_test_score\"], scores[\"params\"])),key = lambda x: x[0]):\n     print(f'Best parameters for SGD Classifier are {params} with a score of {mean_score}')",
   "execution_count": null,
   "outputs": [
    {
     "name": "stdout",
     "text": "Best parameters for SGD Classifier are {'alpha': 1, 'class_weight': None, 'shuffle': True, 'verbose': 10} with a score of 0.5022772186074196\nBest parameters for SGD Classifier are {'alpha': 1, 'class_weight': 'balanced', 'shuffle': False, 'verbose': 0} with a score of 0.5028934122095401\nBest parameters for SGD Classifier are {'alpha': 1, 'class_weight': 'balanced', 'shuffle': False, 'verbose': 1} with a score of 0.5028934122095401\nBest parameters for SGD Classifier are {'alpha': 1, 'class_weight': 'balanced', 'shuffle': False, 'verbose': 5} with a score of 0.5028934122095401\nBest parameters for SGD Classifier are {'alpha': 1, 'class_weight': 'balanced', 'shuffle': False, 'verbose': 10} with a score of 0.5028934122095401\nBest parameters for SGD Classifier are {'alpha': 1, 'class_weight': None, 'shuffle': False, 'verbose': 0} with a score of 0.5134414990761378\nBest parameters for SGD Classifier are {'alpha': 1, 'class_weight': None, 'shuffle': False, 'verbose': 1} with a score of 0.5134414990761378\nBest parameters for SGD Classifier are {'alpha': 1, 'class_weight': None, 'shuffle': False, 'verbose': 5} with a score of 0.5134414990761378\nBest parameters for SGD Classifier are {'alpha': 1, 'class_weight': None, 'shuffle': False, 'verbose': 10} with a score of 0.5134414990761378\nBest parameters for SGD Classifier are {'alpha': 0.0001, 'class_weight': 'balanced', 'shuffle': False, 'verbose': 0} with a score of 0.5146871607777144\nBest parameters for SGD Classifier are {'alpha': 0.0001, 'class_weight': 'balanced', 'shuffle': False, 'verbose': 1} with a score of 0.5146871607777144\nBest parameters for SGD Classifier are {'alpha': 0.0001, 'class_weight': 'balanced', 'shuffle': False, 'verbose': 5} with a score of 0.5146871607777144\nBest parameters for SGD Classifier are {'alpha': 0.0001, 'class_weight': 'balanced', 'shuffle': False, 'verbose': 10} with a score of 0.5146871607777144\nBest parameters for SGD Classifier are {'alpha': 1, 'class_weight': None, 'shuffle': True, 'verbose': 1} with a score of 0.5153108480476855\nBest parameters for SGD Classifier are {'alpha': 0.0001, 'class_weight': None, 'shuffle': False, 'verbose': 0} with a score of 0.5208917036532702\nBest parameters for SGD Classifier are {'alpha': 0.0001, 'class_weight': None, 'shuffle': False, 'verbose': 1} with a score of 0.5208917036532702\nBest parameters for SGD Classifier are {'alpha': 0.0001, 'class_weight': None, 'shuffle': False, 'verbose': 5} with a score of 0.5208917036532702\nBest parameters for SGD Classifier are {'alpha': 0.0001, 'class_weight': None, 'shuffle': False, 'verbose': 10} with a score of 0.5208917036532702\nBest parameters for SGD Classifier are {'alpha': 1, 'class_weight': 'balanced', 'shuffle': True, 'verbose': 5} with a score of 0.5250237121061274\nBest parameters for SGD Classifier are {'alpha': 1, 'class_weight': None, 'shuffle': True, 'verbose': 0} with a score of 0.5260642614133915\nBest parameters for SGD Classifier are {'alpha': 1, 'class_weight': 'balanced', 'shuffle': True, 'verbose': 1} with a score of 0.5264757708307909\nBest parameters for SGD Classifier are {'alpha': 1, 'class_weight': None, 'shuffle': True, 'verbose': 5} with a score of 0.52853974106166\nBest parameters for SGD Classifier are {'alpha': 1, 'class_weight': 'balanced', 'shuffle': True, 'verbose': 10} with a score of 0.5302099725731757\nBest parameters for SGD Classifier are {'alpha': 0.0001, 'class_weight': None, 'shuffle': True, 'verbose': 1} with a score of 0.5453020055196217\nBest parameters for SGD Classifier are {'alpha': 1, 'class_weight': 'balanced', 'shuffle': True, 'verbose': 0} with a score of 0.5473813912957837\nBest parameters for SGD Classifier are {'alpha': 0.001, 'class_weight': None, 'shuffle': True, 'verbose': 1} with a score of 0.5720139339401064\nBest parameters for SGD Classifier are {'alpha': 0.0001, 'class_weight': None, 'shuffle': True, 'verbose': 0} with a score of 0.577355634488857\nBest parameters for SGD Classifier are {'alpha': 0.0001, 'class_weight': None, 'shuffle': True, 'verbose': 5} with a score of 0.5821124007356641\nBest parameters for SGD Classifier are {'alpha': 0.0001, 'class_weight': 'balanced', 'shuffle': True, 'verbose': 10} with a score of 0.5823273619505803\nBest parameters for SGD Classifier are {'alpha': 0.0001, 'class_weight': 'balanced', 'shuffle': True, 'verbose': 0} with a score of 0.5930799188971034\nBest parameters for SGD Classifier are {'alpha': 0.0001, 'class_weight': 'balanced', 'shuffle': True, 'verbose': 5} with a score of 0.5959748298402137\nBest parameters for SGD Classifier are {'alpha': 0.01, 'class_weight': None, 'shuffle': False, 'verbose': 0} with a score of 0.6005224157015892\nBest parameters for SGD Classifier are {'alpha': 0.01, 'class_weight': None, 'shuffle': False, 'verbose': 1} with a score of 0.6005224157015892\nBest parameters for SGD Classifier are {'alpha': 0.01, 'class_weight': None, 'shuffle': False, 'verbose': 5} with a score of 0.6005224157015892\nBest parameters for SGD Classifier are {'alpha': 0.01, 'class_weight': None, 'shuffle': False, 'verbose': 10} with a score of 0.6005224157015892\nBest parameters for SGD Classifier are {'alpha': 0.001, 'class_weight': 'balanced', 'shuffle': True, 'verbose': 1} with a score of 0.6112756149624995\nBest parameters for SGD Classifier are {'alpha': 0.001, 'class_weight': None, 'shuffle': True, 'verbose': 10} with a score of 0.6158272688149942\nBest parameters for SGD Classifier are {'alpha': 0.01, 'class_weight': 'balanced', 'shuffle': False, 'verbose': 0} with a score of 0.6183093857119305\nBest parameters for SGD Classifier are {'alpha': 0.01, 'class_weight': 'balanced', 'shuffle': False, 'verbose': 1} with a score of 0.6183093857119305\nBest parameters for SGD Classifier are {'alpha': 0.01, 'class_weight': 'balanced', 'shuffle': False, 'verbose': 5} with a score of 0.6183093857119305\nBest parameters for SGD Classifier are {'alpha': 0.01, 'class_weight': 'balanced', 'shuffle': False, 'verbose': 10} with a score of 0.6183093857119305\nBest parameters for SGD Classifier are {'alpha': 0.0001, 'class_weight': None, 'shuffle': True, 'verbose': 10} with a score of 0.6193405144081823\nBest parameters for SGD Classifier are {'alpha': 0.001, 'class_weight': None, 'shuffle': True, 'verbose': 5} with a score of 0.623927281447177\nBest parameters for SGD Classifier are {'alpha': 0.001, 'class_weight': 'balanced', 'shuffle': True, 'verbose': 5} with a score of 0.6358968100526484\nBest parameters for SGD Classifier are {'alpha': 0.001, 'class_weight': None, 'shuffle': True, 'verbose': 0} with a score of 0.6363333697311486\nBest parameters for SGD Classifier are {'alpha': 0.0001, 'class_weight': 'balanced', 'shuffle': True, 'verbose': 1} with a score of 0.6369591980490771\nBest parameters for SGD Classifier are {'alpha': 0.001, 'class_weight': 'balanced', 'shuffle': False, 'verbose': 0} with a score of 0.6408503386067345\nBest parameters for SGD Classifier are {'alpha': 0.001, 'class_weight': 'balanced', 'shuffle': False, 'verbose': 1} with a score of 0.6408503386067345\nBest parameters for SGD Classifier are {'alpha': 0.001, 'class_weight': 'balanced', 'shuffle': False, 'verbose': 5} with a score of 0.6408503386067345\nBest parameters for SGD Classifier are {'alpha': 0.001, 'class_weight': 'balanced', 'shuffle': False, 'verbose': 10} with a score of 0.6408503386067345\nBest parameters for SGD Classifier are {'alpha': 0.01, 'class_weight': 'balanced', 'shuffle': True, 'verbose': 1} with a score of 0.6427316774468431\nBest parameters for SGD Classifier are {'alpha': 0.01, 'class_weight': 'balanced', 'shuffle': True, 'verbose': 0} with a score of 0.6479185802282785\nBest parameters for SGD Classifier are {'alpha': 0.01, 'class_weight': None, 'shuffle': True, 'verbose': 0} with a score of 0.6501940859973322\nBest parameters for SGD Classifier are {'alpha': 0.001, 'class_weight': None, 'shuffle': False, 'verbose': 0} with a score of 0.6513982113685365\nBest parameters for SGD Classifier are {'alpha': 0.001, 'class_weight': None, 'shuffle': False, 'verbose': 1} with a score of 0.6513982113685365\nBest parameters for SGD Classifier are {'alpha': 0.001, 'class_weight': None, 'shuffle': False, 'verbose': 5} with a score of 0.6513982113685365\nBest parameters for SGD Classifier are {'alpha': 0.001, 'class_weight': None, 'shuffle': False, 'verbose': 10} with a score of 0.6513982113685365\nBest parameters for SGD Classifier are {'alpha': 0.01, 'class_weight': 'balanced', 'shuffle': True, 'verbose': 5} with a score of 0.6514020652548597\nBest parameters for SGD Classifier are {'alpha': 0.1, 'class_weight': 'balanced', 'shuffle': True, 'verbose': 5} with a score of 0.6526732054271284\nBest parameters for SGD Classifier are {'alpha': 0.1, 'class_weight': None, 'shuffle': True, 'verbose': 1} with a score of 0.6621854532919682\nBest parameters for SGD Classifier are {'alpha': 0.01, 'class_weight': 'balanced', 'shuffle': True, 'verbose': 10} with a score of 0.6625881844127427\nBest parameters for SGD Classifier are {'alpha': 0.001, 'class_weight': 'balanced', 'shuffle': True, 'verbose': 10} with a score of 0.665072014148045\nBest parameters for SGD Classifier are {'alpha': 0.1, 'class_weight': None, 'shuffle': True, 'verbose': 10} with a score of 0.6702482116896936\nBest parameters for SGD Classifier are {'alpha': 0.1, 'class_weight': None, 'shuffle': False, 'verbose': 0} with a score of 0.6716944895848722\nBest parameters for SGD Classifier are {'alpha': 0.1, 'class_weight': None, 'shuffle': False, 'verbose': 1} with a score of 0.6716944895848722\nBest parameters for SGD Classifier are {'alpha': 0.1, 'class_weight': None, 'shuffle': False, 'verbose': 5} with a score of 0.6716944895848722\nBest parameters for SGD Classifier are {'alpha': 0.1, 'class_weight': None, 'shuffle': False, 'verbose': 10} with a score of 0.6716944895848722\nBest parameters for SGD Classifier are {'alpha': 0.1, 'class_weight': 'balanced', 'shuffle': False, 'verbose': 0} with a score of 0.6776971316380516\nBest parameters for SGD Classifier are {'alpha': 0.1, 'class_weight': 'balanced', 'shuffle': False, 'verbose': 1} with a score of 0.6776971316380516\nBest parameters for SGD Classifier are {'alpha': 0.1, 'class_weight': 'balanced', 'shuffle': False, 'verbose': 5} with a score of 0.6776971316380516\nBest parameters for SGD Classifier are {'alpha': 0.1, 'class_weight': 'balanced', 'shuffle': False, 'verbose': 10} with a score of 0.6776971316380516\nBest parameters for SGD Classifier are {'alpha': 0.1, 'class_weight': None, 'shuffle': True, 'verbose': 0} with a score of 0.6803852173484835\nBest parameters for SGD Classifier are {'alpha': 0.01, 'class_weight': None, 'shuffle': True, 'verbose': 1} with a score of 0.6803918545971511\nBest parameters for SGD Classifier are {'alpha': 0.1, 'class_weight': 'balanced', 'shuffle': True, 'verbose': 10} with a score of 0.6810089046184545\nBest parameters for SGD Classifier are {'alpha': 0.001, 'class_weight': 'balanced', 'shuffle': True, 'verbose': 0} with a score of 0.6824571094567947\nBest parameters for SGD Classifier are {'alpha': 0.1, 'class_weight': None, 'shuffle': True, 'verbose': 5} with a score of 0.6841087138510816\nBest parameters for SGD Classifier are {'alpha': 0.1, 'class_weight': 'balanced', 'shuffle': True, 'verbose': 0} with a score of 0.6851445528528394\nBest parameters for SGD Classifier are {'alpha': 0.1, 'class_weight': 'balanced', 'shuffle': True, 'verbose': 1} with a score of 0.692590475334057\nBest parameters for SGD Classifier are {'alpha': 0.01, 'class_weight': None, 'shuffle': True, 'verbose': 5} with a score of 0.6942480746626244\nBest parameters for SGD Classifier are {'alpha': 0.01, 'class_weight': None, 'shuffle': True, 'verbose': 10} with a score of 0.7049999892947603\n",
     "output_type": "stream"
    }
   ]
  },
  {
   "cell_type": "markdown",
   "source": "Best parameters for SGD Classifier are {'alpha': 0.01, 'class_weight': None, 'shuffle': True, 'verbose': 0} using combo_feats\n",
   "metadata": {
    "tags": [],
    "cell_id": "00065-850cbacd-cffb-489c-896c-5844996d9cf7",
    "deepnote_cell_type": "markdown"
   }
  },
  {
   "cell_type": "code",
   "metadata": {
    "tags": [],
    "cell_id": "00056-645ac43a-0c8d-47b9-9421-f62d19b649ad",
    "deepnote_to_be_reexecuted": false,
    "source_hash": "2e1db916",
    "execution_start": 1621959299264,
    "execution_millis": 428,
    "is_output_hidden": true,
    "deepnote_cell_type": "code"
   },
   "source": "# Build 3 models using Select K Best features, RFE feature, and a combination of the of the features minimizing multicolinearity\nsgd_skb = SGDClassifier(alpha=0.01, shuffle=True, verbose=5, class_weight=None)\nsgd_rfe = SGDClassifier(alpha=0.0001, class_weight='balanced', shuffle=True, verbose=1)\nsgd_cf = SGDClassifier(alpha=0.01, class_weight=None, shuffle=True, verbose=0)\n\n# fitting the SGD Classifiers with the X_train with the corresponding features\nsgd_skb.fit(X_train[f_feature], y_train)\nsgd_rfe.fit(X_train[rfe_list], y_train)\nsgd_cf.fit(X_train[combo_feats], y_train)\n\n# Model SKB predictions\ny_pred_sgd_skb = sgd_skb.predict(X_train[f_feature])\ny_pred_val_sgd_skb = sgd_skb.predict(X_validate[f_feature])\n\n# Model RFE predictions\ny_pred_sgd_rfe = sgd_rfe.predict(X_train[rfe_list])\ny_pred_val_sgd_rfe = sgd_rfe.predict(X_validate[rfe_list])\n\n# Model Combo Features\ny_pred_sgd_cf = sgd_cf.predict(X_train[combo_feats])\ny_pred_val_sgd_cf = sgd_cf.predict(X_validate[combo_feats])\n\n# Measure accuracy of the select k best feature model\naccuracy_train_sgd_skb = sgd_skb.score(X_train[f_feature], y_train)\naccuracy_val_sgd_skb = sgd_skb.score(X_validate[f_feature], y_validate)\n\n# Measure accuracy of the RFE feature model\naccuracy_train_sgd_rfe = sgd_rfe.score(X_train[rfe_list], y_train)\naccuracy_val_sgd_rfe = sgd_rfe.score(X_validate[rfe_list], y_validate)\n\n# Measure accuracy of the CF feature model\naccuracy_train_sgd_cf = sgd_cf.score(X_train[combo_feats], y_train)\naccuracy_val_sgd_cf = sgd_cf.score(X_validate[combo_feats], y_validate)",
   "execution_count": null,
   "outputs": [
    {
     "name": "stdout",
     "text": "-- Epoch 1\nNorm: 8.19, NNZs: 15, Bias: 1.566128, T: 4834, Avg. loss: 36.740200\nTotal training time: 0.00 seconds.\n-- Epoch 2\nNorm: 6.38, NNZs: 15, Bias: 1.746795, T: 9668, Avg. loss: 5.345328\nTotal training time: 0.00 seconds.\n-- Epoch 3\nNorm: 5.46, NNZs: 15, Bias: 1.552385, T: 14502, Avg. loss: 3.248108\nTotal training time: 0.00 seconds.\n-- Epoch 4\nNorm: 4.72, NNZs: 15, Bias: 1.478759, T: 19336, Avg. loss: 2.517909\nTotal training time: 0.00 seconds.\n-- Epoch 5\nNorm: 4.29, NNZs: 15, Bias: 1.452855, T: 24170, Avg. loss: 2.093600\nTotal training time: 0.00 seconds.\n-- Epoch 6\nNorm: 3.91, NNZs: 15, Bias: 1.336040, T: 29004, Avg. loss: 1.840907\nTotal training time: 0.00 seconds.\n-- Epoch 7\nNorm: 3.68, NNZs: 15, Bias: 1.275031, T: 33838, Avg. loss: 1.622404\nTotal training time: 0.00 seconds.\n-- Epoch 8\nNorm: 3.44, NNZs: 15, Bias: 1.180316, T: 38672, Avg. loss: 1.487418\nTotal training time: 0.01 seconds.\n-- Epoch 9\nNorm: 3.19, NNZs: 15, Bias: 1.133253, T: 43506, Avg. loss: 1.425202\nTotal training time: 0.01 seconds.\n-- Epoch 10\nNorm: 3.05, NNZs: 15, Bias: 1.092219, T: 48340, Avg. loss: 1.351642\nTotal training time: 0.01 seconds.\n-- Epoch 11\nNorm: 2.92, NNZs: 15, Bias: 1.066092, T: 53174, Avg. loss: 1.296321\nTotal training time: 0.01 seconds.\n-- Epoch 12\nNorm: 2.84, NNZs: 15, Bias: 1.017517, T: 58008, Avg. loss: 1.226033\nTotal training time: 0.01 seconds.\n-- Epoch 13\nNorm: 2.76, NNZs: 15, Bias: 0.965951, T: 62842, Avg. loss: 1.178588\nTotal training time: 0.01 seconds.\n-- Epoch 14\nNorm: 2.66, NNZs: 15, Bias: 0.940056, T: 67676, Avg. loss: 1.160166\nTotal training time: 0.01 seconds.\n-- Epoch 15\nNorm: 2.57, NNZs: 15, Bias: 0.920839, T: 72510, Avg. loss: 1.117040\nTotal training time: 0.01 seconds.\n-- Epoch 16\nNorm: 2.52, NNZs: 15, Bias: 0.881980, T: 77344, Avg. loss: 1.092671\nTotal training time: 0.01 seconds.\n-- Epoch 17\nNorm: 2.47, NNZs: 15, Bias: 0.853782, T: 82178, Avg. loss: 1.059156\nTotal training time: 0.01 seconds.\n-- Epoch 18\nNorm: 2.44, NNZs: 15, Bias: 0.835567, T: 87012, Avg. loss: 1.063024\nTotal training time: 0.01 seconds.\n-- Epoch 19\nNorm: 2.40, NNZs: 15, Bias: 0.795638, T: 91846, Avg. loss: 1.023128\nTotal training time: 0.01 seconds.\n-- Epoch 20\nNorm: 2.38, NNZs: 15, Bias: 0.795006, T: 96680, Avg. loss: 1.011240\nTotal training time: 0.01 seconds.\n-- Epoch 21\nNorm: 2.36, NNZs: 15, Bias: 0.762506, T: 101514, Avg. loss: 0.985264\nTotal training time: 0.01 seconds.\n-- Epoch 22\nNorm: 2.34, NNZs: 15, Bias: 0.757812, T: 106348, Avg. loss: 0.974731\nTotal training time: 0.01 seconds.\n-- Epoch 23\nNorm: 2.30, NNZs: 15, Bias: 0.769843, T: 111182, Avg. loss: 0.961280\nTotal training time: 0.01 seconds.\n-- Epoch 24\nNorm: 2.27, NNZs: 15, Bias: 0.756597, T: 116016, Avg. loss: 0.954845\nTotal training time: 0.01 seconds.\n-- Epoch 25\nNorm: 2.25, NNZs: 15, Bias: 0.748026, T: 120850, Avg. loss: 0.953536\nTotal training time: 0.02 seconds.\n-- Epoch 26\nNorm: 2.24, NNZs: 15, Bias: 0.733494, T: 125684, Avg. loss: 0.941060\nTotal training time: 0.02 seconds.\n-- Epoch 27\nNorm: 2.22, NNZs: 15, Bias: 0.715563, T: 130518, Avg. loss: 0.929377\nTotal training time: 0.02 seconds.\n-- Epoch 28\nNorm: 2.21, NNZs: 15, Bias: 0.709577, T: 135352, Avg. loss: 0.903535\nTotal training time: 0.02 seconds.\n-- Epoch 29\nNorm: 2.20, NNZs: 15, Bias: 0.706514, T: 140186, Avg. loss: 0.898957\nTotal training time: 0.02 seconds.\n-- Epoch 30\nNorm: 2.18, NNZs: 15, Bias: 0.707939, T: 145020, Avg. loss: 0.902578\nTotal training time: 0.02 seconds.\n-- Epoch 31\nNorm: 2.17, NNZs: 15, Bias: 0.699338, T: 149854, Avg. loss: 0.899923\nTotal training time: 0.02 seconds.\n-- Epoch 32\nNorm: 2.17, NNZs: 15, Bias: 0.688680, T: 154688, Avg. loss: 0.886675\nTotal training time: 0.02 seconds.\n-- Epoch 33\nNorm: 2.13, NNZs: 15, Bias: 0.686619, T: 159522, Avg. loss: 0.891757\nTotal training time: 0.02 seconds.\n-- Epoch 34\nNorm: 2.12, NNZs: 15, Bias: 0.681659, T: 164356, Avg. loss: 0.878703\nTotal training time: 0.02 seconds.\n-- Epoch 35\nNorm: 2.11, NNZs: 15, Bias: 0.668489, T: 169190, Avg. loss: 0.881698\nTotal training time: 0.02 seconds.\n-- Epoch 36\nNorm: 2.10, NNZs: 15, Bias: 0.656254, T: 174024, Avg. loss: 0.866923\nTotal training time: 0.02 seconds.\n-- Epoch 37\nNorm: 2.09, NNZs: 15, Bias: 0.649465, T: 178858, Avg. loss: 0.863151\nTotal training time: 0.02 seconds.\n-- Epoch 38\nNorm: 2.09, NNZs: 15, Bias: 0.641771, T: 183692, Avg. loss: 0.854615\nTotal training time: 0.02 seconds.\n-- Epoch 39\nNorm: 2.09, NNZs: 15, Bias: 0.642819, T: 188526, Avg. loss: 0.847494\nTotal training time: 0.02 seconds.\n-- Epoch 40\nNorm: 2.07, NNZs: 15, Bias: 0.643431, T: 193360, Avg. loss: 0.851912\nTotal training time: 0.02 seconds.\n-- Epoch 41\nNorm: 2.07, NNZs: 15, Bias: 0.638283, T: 198194, Avg. loss: 0.843380\nTotal training time: 0.02 seconds.\n-- Epoch 42\nNorm: 2.06, NNZs: 15, Bias: 0.632248, T: 203028, Avg. loss: 0.849794\nTotal training time: 0.02 seconds.\n-- Epoch 43\nNorm: 2.06, NNZs: 15, Bias: 0.629708, T: 207862, Avg. loss: 0.837938\nTotal training time: 0.02 seconds.\n-- Epoch 44\nNorm: 2.06, NNZs: 15, Bias: 0.623103, T: 212696, Avg. loss: 0.839764\nTotal training time: 0.02 seconds.\n-- Epoch 45\nNorm: 2.05, NNZs: 15, Bias: 0.616592, T: 217530, Avg. loss: 0.830268\nTotal training time: 0.02 seconds.\n-- Epoch 46\nNorm: 2.05, NNZs: 15, Bias: 0.613324, T: 222364, Avg. loss: 0.829029\nTotal training time: 0.02 seconds.\n-- Epoch 47\nNorm: 2.05, NNZs: 15, Bias: 0.611126, T: 227198, Avg. loss: 0.819448\nTotal training time: 0.02 seconds.\n-- Epoch 48\nNorm: 2.04, NNZs: 15, Bias: 0.609469, T: 232032, Avg. loss: 0.827603\nTotal training time: 0.03 seconds.\n-- Epoch 49\nNorm: 2.04, NNZs: 15, Bias: 0.604831, T: 236866, Avg. loss: 0.821235\nTotal training time: 0.03 seconds.\n-- Epoch 50\nNorm: 2.04, NNZs: 15, Bias: 0.601472, T: 241700, Avg. loss: 0.816933\nTotal training time: 0.03 seconds.\n-- Epoch 51\nNorm: 2.03, NNZs: 15, Bias: 0.598566, T: 246534, Avg. loss: 0.814988\nTotal training time: 0.03 seconds.\n-- Epoch 52\nNorm: 2.03, NNZs: 15, Bias: 0.595441, T: 251368, Avg. loss: 0.823837\nTotal training time: 0.03 seconds.\n-- Epoch 53\nNorm: 2.02, NNZs: 15, Bias: 0.597357, T: 256202, Avg. loss: 0.812704\nTotal training time: 0.03 seconds.\n-- Epoch 54\nNorm: 2.02, NNZs: 15, Bias: 0.597728, T: 261036, Avg. loss: 0.810352\nTotal training time: 0.03 seconds.\n-- Epoch 55\nNorm: 2.01, NNZs: 15, Bias: 0.595111, T: 265870, Avg. loss: 0.805984\nTotal training time: 0.03 seconds.\n-- Epoch 56\nNorm: 2.00, NNZs: 15, Bias: 0.595138, T: 270704, Avg. loss: 0.801815\nTotal training time: 0.03 seconds.\n-- Epoch 57\nNorm: 2.00, NNZs: 15, Bias: 0.593325, T: 275538, Avg. loss: 0.799487\nTotal training time: 0.03 seconds.\n-- Epoch 58\nNorm: 1.99, NNZs: 15, Bias: 0.595136, T: 280372, Avg. loss: 0.797376\nTotal training time: 0.03 seconds.\n-- Epoch 59\nNorm: 1.98, NNZs: 15, Bias: 0.594735, T: 285206, Avg. loss: 0.794143\nTotal training time: 0.03 seconds.\n-- Epoch 60\nNorm: 1.99, NNZs: 15, Bias: 0.592674, T: 290040, Avg. loss: 0.797131\nTotal training time: 0.03 seconds.\n-- Epoch 61\nNorm: 1.98, NNZs: 15, Bias: 0.592630, T: 294874, Avg. loss: 0.784639\nTotal training time: 0.03 seconds.\n-- Epoch 62\nNorm: 1.98, NNZs: 15, Bias: 0.588247, T: 299708, Avg. loss: 0.795978\nTotal training time: 0.03 seconds.\n-- Epoch 63\nNorm: 1.98, NNZs: 15, Bias: 0.589221, T: 304542, Avg. loss: 0.789520\nTotal training time: 0.03 seconds.\n-- Epoch 64\nNorm: 1.98, NNZs: 15, Bias: 0.585960, T: 309376, Avg. loss: 0.790589\nTotal training time: 0.03 seconds.\n-- Epoch 65\nNorm: 1.98, NNZs: 15, Bias: 0.585292, T: 314210, Avg. loss: 0.790793\nTotal training time: 0.03 seconds.\n-- Epoch 66\nNorm: 1.98, NNZs: 15, Bias: 0.584987, T: 319044, Avg. loss: 0.782577\nTotal training time: 0.03 seconds.\n-- Epoch 67\nNorm: 1.98, NNZs: 15, Bias: 0.585607, T: 323878, Avg. loss: 0.794748\nTotal training time: 0.03 seconds.\n-- Epoch 68\nNorm: 1.98, NNZs: 15, Bias: 0.588619, T: 328712, Avg. loss: 0.779490\nTotal training time: 0.04 seconds.\n-- Epoch 69\nNorm: 1.98, NNZs: 15, Bias: 0.584634, T: 333546, Avg. loss: 0.789714\nTotal training time: 0.04 seconds.\n-- Epoch 70\nNorm: 1.98, NNZs: 15, Bias: 0.589950, T: 338380, Avg. loss: 0.778674\nTotal training time: 0.04 seconds.\n-- Epoch 71\nNorm: 1.98, NNZs: 15, Bias: 0.586738, T: 343214, Avg. loss: 0.769557\nTotal training time: 0.04 seconds.\n-- Epoch 72\nNorm: 1.98, NNZs: 15, Bias: 0.583513, T: 348048, Avg. loss: 0.771853\nTotal training time: 0.04 seconds.\n-- Epoch 73\nNorm: 1.98, NNZs: 15, Bias: 0.582951, T: 352882, Avg. loss: 0.784775\nTotal training time: 0.04 seconds.\n-- Epoch 74\nNorm: 1.98, NNZs: 15, Bias: 0.582349, T: 357716, Avg. loss: 0.771059\nTotal training time: 0.04 seconds.\n-- Epoch 75\nNorm: 1.97, NNZs: 15, Bias: 0.578958, T: 362550, Avg. loss: 0.776117\nTotal training time: 0.04 seconds.\n-- Epoch 76\nNorm: 1.97, NNZs: 15, Bias: 0.578663, T: 367384, Avg. loss: 0.772342\nTotal training time: 0.04 seconds.\nConvergence after 76 epochs took 0.04 seconds\n-- Epoch 1\nNorm: 16.48, NNZs: 15, Bias: -4.912546, T: 4834, Avg. loss: 5.415738\nTotal training time: 0.00 seconds.\n-- Epoch 2\nNorm: 11.73, NNZs: 15, Bias: -6.151048, T: 9668, Avg. loss: 2.284300\nTotal training time: 0.00 seconds.\n-- Epoch 3\nNorm: 5.69, NNZs: 15, Bias: -3.588927, T: 14502, Avg. loss: 1.643182\nTotal training time: 0.00 seconds.\n-- Epoch 4\nNorm: 6.66, NNZs: 15, Bias: -3.298643, T: 19336, Avg. loss: 1.388912\nTotal training time: 0.00 seconds.\n-- Epoch 5\nNorm: 4.95, NNZs: 15, Bias: -4.379216, T: 24170, Avg. loss: 1.217808\nTotal training time: 0.00 seconds.\n-- Epoch 6\nNorm: 5.23, NNZs: 15, Bias: -2.569878, T: 29004, Avg. loss: 1.144632\nTotal training time: 0.00 seconds.\n-- Epoch 7\nNorm: 5.13, NNZs: 15, Bias: -2.779464, T: 33838, Avg. loss: 1.060686\nTotal training time: 0.00 seconds.\n-- Epoch 8\nNorm: 4.63, NNZs: 15, Bias: -1.536645, T: 38672, Avg. loss: 1.031899\nTotal training time: 0.01 seconds.\n-- Epoch 9\nNorm: 4.38, NNZs: 15, Bias: -1.617884, T: 43506, Avg. loss: 0.971886\nTotal training time: 0.01 seconds.\n-- Epoch 10\nNorm: 4.71, NNZs: 15, Bias: -2.074636, T: 48340, Avg. loss: 0.944096\nTotal training time: 0.01 seconds.\n-- Epoch 11\nNorm: 4.81, NNZs: 15, Bias: -2.242313, T: 53174, Avg. loss: 0.911236\nTotal training time: 0.01 seconds.\n-- Epoch 12\nNorm: 4.79, NNZs: 15, Bias: -1.829837, T: 58008, Avg. loss: 0.903555\nTotal training time: 0.01 seconds.\n-- Epoch 13\nNorm: 4.42, NNZs: 15, Bias: -1.770075, T: 62842, Avg. loss: 0.879863\nTotal training time: 0.01 seconds.\n-- Epoch 14\nNorm: 4.06, NNZs: 15, Bias: -2.144184, T: 67676, Avg. loss: 0.874174\nTotal training time: 0.01 seconds.\n-- Epoch 15\nNorm: 4.52, NNZs: 15, Bias: -1.332864, T: 72510, Avg. loss: 0.859544\nTotal training time: 0.01 seconds.\n-- Epoch 16\nNorm: 4.68, NNZs: 15, Bias: -1.314576, T: 77344, Avg. loss: 0.849075\nTotal training time: 0.01 seconds.\n-- Epoch 17\nNorm: 4.12, NNZs: 15, Bias: -1.785962, T: 82178, Avg. loss: 0.835538\nTotal training time: 0.01 seconds.\n-- Epoch 18\nNorm: 4.45, NNZs: 15, Bias: -1.659108, T: 87012, Avg. loss: 0.827007\nTotal training time: 0.01 seconds.\n-- Epoch 19\nNorm: 4.22, NNZs: 15, Bias: -1.341068, T: 91846, Avg. loss: 0.819982\nTotal training time: 0.01 seconds.\n-- Epoch 20\nNorm: 4.11, NNZs: 15, Bias: -1.748660, T: 96680, Avg. loss: 0.810418\nTotal training time: 0.02 seconds.\n-- Epoch 21\nNorm: 4.32, NNZs: 15, Bias: -1.705266, T: 101514, Avg. loss: 0.800170\nTotal training time: 0.02 seconds.\n-- Epoch 22\nNorm: 4.17, NNZs: 15, Bias: -1.650755, T: 106348, Avg. loss: 0.797687\nTotal training time: 0.02 seconds.\n-- Epoch 23\nNorm: 4.11, NNZs: 15, Bias: -1.581580, T: 111182, Avg. loss: 0.790198\nTotal training time: 0.02 seconds.\n-- Epoch 24\nNorm: 3.96, NNZs: 15, Bias: -1.624309, T: 116016, Avg. loss: 0.779649\nTotal training time: 0.02 seconds.\n-- Epoch 25\nNorm: 4.23, NNZs: 15, Bias: -1.535829, T: 120850, Avg. loss: 0.776570\nTotal training time: 0.02 seconds.\n-- Epoch 26\nNorm: 4.00, NNZs: 15, Bias: -1.569294, T: 125684, Avg. loss: 0.781118\nTotal training time: 0.02 seconds.\n-- Epoch 27\nNorm: 4.03, NNZs: 15, Bias: -1.455376, T: 130518, Avg. loss: 0.772745\nTotal training time: 0.02 seconds.\n-- Epoch 28\nNorm: 3.87, NNZs: 15, Bias: -1.533863, T: 135352, Avg. loss: 0.774609\nTotal training time: 0.02 seconds.\n-- Epoch 29\nNorm: 4.15, NNZs: 15, Bias: -1.299089, T: 140186, Avg. loss: 0.769606\nTotal training time: 0.02 seconds.\n-- Epoch 30\nNorm: 3.82, NNZs: 15, Bias: -1.435560, T: 145020, Avg. loss: 0.767805\nTotal training time: 0.02 seconds.\n-- Epoch 31\nNorm: 4.05, NNZs: 15, Bias: -1.561190, T: 149854, Avg. loss: 0.769146\nTotal training time: 0.02 seconds.\n-- Epoch 32\nNorm: 3.93, NNZs: 15, Bias: -1.597111, T: 154688, Avg. loss: 0.759897\nTotal training time: 0.02 seconds.\n-- Epoch 33\nNorm: 4.03, NNZs: 15, Bias: -1.336710, T: 159522, Avg. loss: 0.752662\nTotal training time: 0.02 seconds.\n-- Epoch 34\nNorm: 3.94, NNZs: 15, Bias: -1.234602, T: 164356, Avg. loss: 0.757044\nTotal training time: 0.02 seconds.\n-- Epoch 35\nNorm: 4.00, NNZs: 15, Bias: -1.301386, T: 169190, Avg. loss: 0.753026\nTotal training time: 0.02 seconds.\n-- Epoch 36\nNorm: 4.01, NNZs: 15, Bias: -1.360991, T: 174024, Avg. loss: 0.739435\nTotal training time: 0.02 seconds.\n-- Epoch 37\nNorm: 3.87, NNZs: 15, Bias: -1.435577, T: 178858, Avg. loss: 0.746279\nTotal training time: 0.03 seconds.\n-- Epoch 38\nNorm: 3.86, NNZs: 15, Bias: -1.455925, T: 183692, Avg. loss: 0.741123\nTotal training time: 0.03 seconds.\n-- Epoch 39\nNorm: 4.01, NNZs: 15, Bias: -1.234768, T: 188526, Avg. loss: 0.743378\nTotal training time: 0.03 seconds.\n-- Epoch 40\nNorm: 3.72, NNZs: 15, Bias: -1.465066, T: 193360, Avg. loss: 0.737947\nTotal training time: 0.03 seconds.\n-- Epoch 41\nNorm: 3.72, NNZs: 15, Bias: -1.418935, T: 198194, Avg. loss: 0.735463\nTotal training time: 0.03 seconds.\n-- Epoch 42\nNorm: 3.95, NNZs: 15, Bias: -1.158580, T: 203028, Avg. loss: 0.735354\nTotal training time: 0.03 seconds.\n-- Epoch 43\nNorm: 3.96, NNZs: 15, Bias: -1.346407, T: 207862, Avg. loss: 0.732717\nTotal training time: 0.03 seconds.\n-- Epoch 44\nNorm: 3.58, NNZs: 15, Bias: -1.508926, T: 212696, Avg. loss: 0.730124\nTotal training time: 0.03 seconds.\n-- Epoch 45\nNorm: 3.54, NNZs: 15, Bias: -1.234367, T: 217530, Avg. loss: 0.729392\nTotal training time: 0.03 seconds.\n-- Epoch 46\nNorm: 3.75, NNZs: 15, Bias: -1.351213, T: 222364, Avg. loss: 0.726334\nTotal training time: 0.03 seconds.\n-- Epoch 47\nNorm: 3.90, NNZs: 15, Bias: -1.146647, T: 227198, Avg. loss: 0.729601\nTotal training time: 0.03 seconds.\n-- Epoch 48\nNorm: 3.84, NNZs: 15, Bias: -1.339442, T: 232032, Avg. loss: 0.728430\nTotal training time: 0.04 seconds.\n-- Epoch 49\nNorm: 3.82, NNZs: 15, Bias: -1.316534, T: 236866, Avg. loss: 0.726252\nTotal training time: 0.04 seconds.\n-- Epoch 50\nNorm: 3.68, NNZs: 15, Bias: -1.349568, T: 241700, Avg. loss: 0.722885\nTotal training time: 0.04 seconds.\n-- Epoch 51\nNorm: 3.77, NNZs: 15, Bias: -1.410400, T: 246534, Avg. loss: 0.719948\nTotal training time: 0.07 seconds.\n-- Epoch 52\nNorm: 3.68, NNZs: 15, Bias: -1.472193, T: 251368, Avg. loss: 0.720786\nTotal training time: 0.07 seconds.\n-- Epoch 53\nNorm: 3.76, NNZs: 15, Bias: -1.248873, T: 256202, Avg. loss: 0.721488\nTotal training time: 0.07 seconds.\n-- Epoch 54\nNorm: 3.75, NNZs: 15, Bias: -1.344726, T: 261036, Avg. loss: 0.717338\nTotal training time: 0.07 seconds.\n-- Epoch 55\nNorm: 3.86, NNZs: 15, Bias: -1.284633, T: 265870, Avg. loss: 0.715040\nTotal training time: 0.07 seconds.\n-- Epoch 56\nNorm: 3.66, NNZs: 15, Bias: -1.452797, T: 270704, Avg. loss: 0.717013\nTotal training time: 0.07 seconds.\n-- Epoch 57\nNorm: 3.87, NNZs: 15, Bias: -1.304250, T: 275538, Avg. loss: 0.715601\nTotal training time: 0.08 seconds.\n-- Epoch 58\nNorm: 3.72, NNZs: 15, Bias: -1.258628, T: 280372, Avg. loss: 0.712431\nTotal training time: 0.08 seconds.\n-- Epoch 59\nNorm: 3.59, NNZs: 15, Bias: -1.474970, T: 285206, Avg. loss: 0.715263\nTotal training time: 0.08 seconds.\n-- Epoch 60\nNorm: 3.79, NNZs: 15, Bias: -1.328928, T: 290040, Avg. loss: 0.712470\nTotal training time: 0.08 seconds.\n-- Epoch 61\nNorm: 3.70, NNZs: 15, Bias: -1.244973, T: 294874, Avg. loss: 0.710257\nTotal training time: 0.08 seconds.\n-- Epoch 62\nNorm: 3.72, NNZs: 15, Bias: -1.213074, T: 299708, Avg. loss: 0.711949\nTotal training time: 0.08 seconds.\n-- Epoch 63\nNorm: 3.64, NNZs: 15, Bias: -1.133230, T: 304542, Avg. loss: 0.706639\nTotal training time: 0.08 seconds.\n-- Epoch 64\nNorm: 3.71, NNZs: 15, Bias: -1.286824, T: 309376, Avg. loss: 0.709903\nTotal training time: 0.08 seconds.\n-- Epoch 65\nNorm: 3.74, NNZs: 15, Bias: -0.980414, T: 314210, Avg. loss: 0.706441\nTotal training time: 0.08 seconds.\n-- Epoch 66\nNorm: 3.74, NNZs: 15, Bias: -1.138918, T: 319044, Avg. loss: 0.706718\nTotal training time: 0.08 seconds.\n-- Epoch 67\nNorm: 3.71, NNZs: 15, Bias: -1.118306, T: 323878, Avg. loss: 0.704642\nTotal training time: 0.08 seconds.\n-- Epoch 68\nNorm: 3.73, NNZs: 15, Bias: -1.176521, T: 328712, Avg. loss: 0.705812\nTotal training time: 0.08 seconds.\n-- Epoch 69\nNorm: 3.88, NNZs: 15, Bias: -1.052164, T: 333546, Avg. loss: 0.703718\nTotal training time: 0.08 seconds.\n-- Epoch 70\nNorm: 3.76, NNZs: 15, Bias: -1.090580, T: 338380, Avg. loss: 0.704548\nTotal training time: 0.08 seconds.\n-- Epoch 71\nNorm: 3.92, NNZs: 15, Bias: -1.139954, T: 343214, Avg. loss: 0.702067\nTotal training time: 0.08 seconds.\n-- Epoch 72\nNorm: 3.75, NNZs: 15, Bias: -1.098831, T: 348048, Avg. loss: 0.701245\nTotal training time: 0.08 seconds.\n-- Epoch 73\nNorm: 3.75, NNZs: 15, Bias: -1.057968, T: 352882, Avg. loss: 0.695761\nTotal training time: 0.09 seconds.\n-- Epoch 74\nNorm: 3.69, NNZs: 15, Bias: -1.088183, T: 357716, Avg. loss: 0.701742\nTotal training time: 0.09 seconds.\n-- Epoch 75\nNorm: 3.67, NNZs: 15, Bias: -1.170544, T: 362550, Avg. loss: 0.700072\nTotal training time: 0.09 seconds.\n-- Epoch 76\nNorm: 3.74, NNZs: 15, Bias: -1.144105, T: 367384, Avg. loss: 0.697036\nTotal training time: 0.09 seconds.\n-- Epoch 77\nNorm: 3.75, NNZs: 15, Bias: -1.095021, T: 372218, Avg. loss: 0.696039\nTotal training time: 0.09 seconds.\n-- Epoch 78\nNorm: 3.51, NNZs: 15, Bias: -1.191237, T: 377052, Avg. loss: 0.696864\nTotal training time: 0.09 seconds.\nConvergence after 78 epochs took 0.09 seconds\n",
     "output_type": "stream"
    }
   ]
  },
  {
   "cell_type": "code",
   "metadata": {
    "tags": [],
    "cell_id": "00060-7e5fbb44-a8a8-4de8-bc0f-d384b3ab3b75",
    "deepnote_to_be_reexecuted": false,
    "source_hash": "962e44ec",
    "execution_start": 1621959249395,
    "execution_millis": 4,
    "output_cleared": true,
    "deepnote_cell_type": "code"
   },
   "source": "# Add accuracy of the SKB model to the metric_df\nmetric_df = metric_df.append({\n    'model': 'SGD Classifier SKB Features', \n    'baseline_accuracy': round(baseline_accuracy,2),\n    'train_accuracy': round(accuracy_train_sgd_skb, 2),\n    'validate_accuracy':round(accuracy_val_sgd_skb,2)}, ignore_index=True)\n",
   "execution_count": null,
   "outputs": []
  },
  {
   "cell_type": "code",
   "metadata": {
    "tags": [],
    "cell_id": "00061-60b11f13-4225-4299-9769-853a128cda69",
    "deepnote_to_be_reexecuted": false,
    "source_hash": "cb4e0fa5",
    "execution_start": 1621959249482,
    "execution_millis": 8,
    "deepnote_cell_type": "code"
   },
   "source": "# Add accuracy of the RFE model to the metric_df\nmetric_df = metric_df.append({\n    'model': 'SGD Classifier RFE Features', \n    'baseline_accuracy': round(baseline_accuracy,2),\n    'train_accuracy': round(accuracy_train_sgd_rfe, 2),\n    'validate_accuracy':round(accuracy_val_sgd_rfe,2)}, ignore_index=True)",
   "execution_count": null,
   "outputs": []
  },
  {
   "cell_type": "code",
   "metadata": {
    "tags": [],
    "cell_id": "00073-51513955-2f8a-4c03-98a5-2b4f97233fb6",
    "deepnote_to_be_reexecuted": false,
    "source_hash": "18ccc7a1",
    "execution_start": 1621959392818,
    "execution_millis": 0,
    "deepnote_cell_type": "code"
   },
   "source": "# Add accuracy of the CF model to the metric_df\nmetric_df = metric_df.append({\n    'model': 'SGD Classifier CF Features', \n    'baseline_accuracy': round(baseline_accuracy,2),\n    'train_accuracy': round(accuracy_train_sgd_cf, 2),\n    'validate_accuracy':round(accuracy_val_sgd_cf,2)}, ignore_index=True)",
   "execution_count": null,
   "outputs": []
  },
  {
   "cell_type": "code",
   "metadata": {
    "tags": [],
    "cell_id": "00063-738a4a78-840c-49b6-9eea-091156bab26a",
    "deepnote_to_be_reexecuted": false,
    "source_hash": "400c35cf",
    "execution_start": 1621959462550,
    "execution_millis": 13,
    "deepnote_cell_type": "code"
   },
   "source": "metric_df",
   "execution_count": null,
   "outputs": [
    {
     "output_type": "execute_result",
     "execution_count": 85,
     "data": {
      "application/vnd.deepnote.dataframe.v2+json": {
       "row_count": 5,
       "column_count": 4,
       "columns": [
        {
         "name": "model",
         "dtype": "object",
         "stats": {
          "unique_count": 5,
          "nan_count": 0,
          "categories": [
           {
            "name": "random forest",
            "count": 1
           },
           {
            "name": "naive bayes",
            "count": 1
           },
           {
            "name": "3 others",
            "count": 3
           }
          ]
         }
        },
        {
         "name": "baseline_accuracy",
         "dtype": "float64",
         "stats": {
          "unique_count": 1,
          "nan_count": 0,
          "min": "0.51",
          "max": "0.51",
          "histogram": [
           {
            "bin_start": 0.010000000000000009,
            "bin_end": 0.11000000000000001,
            "count": 0
           },
           {
            "bin_start": 0.11000000000000001,
            "bin_end": 0.21000000000000002,
            "count": 0
           },
           {
            "bin_start": 0.21000000000000002,
            "bin_end": 0.31000000000000005,
            "count": 0
           },
           {
            "bin_start": 0.31000000000000005,
            "bin_end": 0.41000000000000003,
            "count": 0
           },
           {
            "bin_start": 0.41000000000000003,
            "bin_end": 0.51,
            "count": 0
           },
           {
            "bin_start": 0.51,
            "bin_end": 0.6100000000000001,
            "count": 5
           },
           {
            "bin_start": 0.6100000000000001,
            "bin_end": 0.7100000000000001,
            "count": 0
           },
           {
            "bin_start": 0.7100000000000001,
            "bin_end": 0.81,
            "count": 0
           },
           {
            "bin_start": 0.81,
            "bin_end": 0.91,
            "count": 0
           },
           {
            "bin_start": 0.91,
            "bin_end": 1.01,
            "count": 0
           }
          ]
         }
        },
        {
         "name": "train_accuracy",
         "dtype": "float64",
         "stats": {
          "unique_count": 4,
          "nan_count": 0,
          "min": "0.67",
          "max": "0.7",
          "histogram": [
           {
            "bin_start": 0.67,
            "bin_end": 0.673,
            "count": 1
           },
           {
            "bin_start": 0.673,
            "bin_end": 0.676,
            "count": 0
           },
           {
            "bin_start": 0.676,
            "bin_end": 0.679,
            "count": 0
           },
           {
            "bin_start": 0.679,
            "bin_end": 0.682,
            "count": 1
           },
           {
            "bin_start": 0.682,
            "bin_end": 0.685,
            "count": 0
           },
           {
            "bin_start": 0.685,
            "bin_end": 0.688,
            "count": 0
           },
           {
            "bin_start": 0.688,
            "bin_end": 0.691,
            "count": 1
           },
           {
            "bin_start": 0.691,
            "bin_end": 0.694,
            "count": 0
           },
           {
            "bin_start": 0.694,
            "bin_end": 0.697,
            "count": 0
           },
           {
            "bin_start": 0.697,
            "bin_end": 0.7,
            "count": 2
           }
          ]
         }
        },
        {
         "name": "validate_accuracy",
         "dtype": "float64",
         "stats": {
          "unique_count": 4,
          "nan_count": 0,
          "min": "0.67",
          "max": "0.72",
          "histogram": [
           {
            "bin_start": 0.67,
            "bin_end": 0.675,
            "count": 1
           },
           {
            "bin_start": 0.675,
            "bin_end": 0.68,
            "count": 0
           },
           {
            "bin_start": 0.68,
            "bin_end": 0.685,
            "count": 2
           },
           {
            "bin_start": 0.685,
            "bin_end": 0.6900000000000001,
            "count": 1
           },
           {
            "bin_start": 0.6900000000000001,
            "bin_end": 0.6950000000000001,
            "count": 0
           },
           {
            "bin_start": 0.6950000000000001,
            "bin_end": 0.7,
            "count": 0
           },
           {
            "bin_start": 0.7,
            "bin_end": 0.705,
            "count": 0
           },
           {
            "bin_start": 0.705,
            "bin_end": 0.71,
            "count": 0
           },
           {
            "bin_start": 0.71,
            "bin_end": 0.715,
            "count": 0
           },
           {
            "bin_start": 0.715,
            "bin_end": 0.72,
            "count": 1
           }
          ]
         }
        },
        {
         "name": "_deepnote_index_column",
         "dtype": "int64"
        }
       ],
       "rows_top": [
        {
         "model": "random forest",
         "baseline_accuracy": 0.51,
         "train_accuracy": 0.7,
         "validate_accuracy": 0.72,
         "_deepnote_index_column": 0
        },
        {
         "model": "naive bayes",
         "baseline_accuracy": 0.51,
         "train_accuracy": 0.7,
         "validate_accuracy": 0.68,
         "_deepnote_index_column": 1
        },
        {
         "model": "SGD Classifier SKB Features",
         "baseline_accuracy": 0.51,
         "train_accuracy": 0.68,
         "validate_accuracy": 0.69,
         "_deepnote_index_column": 2
        },
        {
         "model": "SGD Classifier RFE Features",
         "baseline_accuracy": 0.51,
         "train_accuracy": 0.69,
         "validate_accuracy": 0.68,
         "_deepnote_index_column": 3
        },
        {
         "model": "SGD Classifier CF Features",
         "baseline_accuracy": 0.51,
         "train_accuracy": 0.67,
         "validate_accuracy": 0.67,
         "_deepnote_index_column": 5
        }
       ],
       "rows_bottom": null
      },
      "text/plain": "                         model  baseline_accuracy  train_accuracy  \\\n0                random forest               0.51            0.70   \n1                  naive bayes               0.51            0.70   \n2  SGD Classifier SKB Features               0.51            0.68   \n3  SGD Classifier RFE Features               0.51            0.69   \n5   SGD Classifier CF Features               0.51            0.67   \n\n   validate_accuracy  \n0               0.72  \n1               0.68  \n2               0.69  \n3               0.68  \n5               0.67  ",
      "text/html": "<div>\n<style scoped>\n    .dataframe tbody tr th:only-of-type {\n        vertical-align: middle;\n    }\n\n    .dataframe tbody tr th {\n        vertical-align: top;\n    }\n\n    .dataframe thead th {\n        text-align: right;\n    }\n</style>\n<table border=\"1\" class=\"dataframe\">\n  <thead>\n    <tr style=\"text-align: right;\">\n      <th></th>\n      <th>model</th>\n      <th>baseline_accuracy</th>\n      <th>train_accuracy</th>\n      <th>validate_accuracy</th>\n    </tr>\n  </thead>\n  <tbody>\n    <tr>\n      <th>0</th>\n      <td>random forest</td>\n      <td>0.51</td>\n      <td>0.70</td>\n      <td>0.72</td>\n    </tr>\n    <tr>\n      <th>1</th>\n      <td>naive bayes</td>\n      <td>0.51</td>\n      <td>0.70</td>\n      <td>0.68</td>\n    </tr>\n    <tr>\n      <th>2</th>\n      <td>SGD Classifier SKB Features</td>\n      <td>0.51</td>\n      <td>0.68</td>\n      <td>0.69</td>\n    </tr>\n    <tr>\n      <th>3</th>\n      <td>SGD Classifier RFE Features</td>\n      <td>0.51</td>\n      <td>0.69</td>\n      <td>0.68</td>\n    </tr>\n    <tr>\n      <th>5</th>\n      <td>SGD Classifier CF Features</td>\n      <td>0.51</td>\n      <td>0.67</td>\n      <td>0.67</td>\n    </tr>\n  </tbody>\n</table>\n</div>"
     },
     "metadata": {}
    }
   ]
  },
  {
   "cell_type": "code",
   "metadata": {
    "tags": [],
    "cell_id": "00075-c41135db-9108-4f7d-861a-ead6033e108e",
    "deepnote_to_be_reexecuted": false,
    "source_hash": "6414faa4",
    "execution_start": 1621959456081,
    "execution_millis": 1,
    "deepnote_cell_type": "code"
   },
   "source": "",
   "execution_count": null,
   "outputs": []
  },
  {
   "cell_type": "markdown",
   "source": "___\n# KNN \n## Train",
   "metadata": {
    "tags": [],
    "cell_id": "00066-5c562e23-abbc-415c-a7e1-f93c4e0f290b",
    "deepnote_cell_type": "markdown"
   }
  },
  {
   "cell_type": "code",
   "metadata": {
    "tags": [],
    "cell_id": "00069-ccaeab24-85c5-4c80-be63-036ad728bd92",
    "deepnote_to_be_reexecuted": false,
    "source_hash": "97f90de9",
    "execution_start": 1621959249638,
    "execution_millis": 0,
    "deepnote_cell_type": "code"
   },
   "source": "def get_metrics(mod, X, y):\n    \"\"\"\n    get_metrics returns the baseline accuracy score \n    along with the current model's accuracy score for comparison \n    along with a table of precision/recall/f1-score/support percentages of the model\n    \"\"\"\n    baseline_accuracy = (train.alleged_threat_lvl == 0).mean()\n    y_pred = mod.predict(X)\n    accuracy = mod.score(X, y)\n    conf = confusion_matrix(y, y_pred)\n    prfs = pd.DataFrame(precision_recall_fscore_support(y, y_pred), index=['precision', 'recall', 'f1-score', 'support'])\n    \n    print(f'''\n    BASELINE accuracy is: {baseline_accuracy:.2%}\n    The accuracy for our model is: {accuracy:.5%} \n    ''')\n    return conf, prfs",
   "execution_count": null,
   "outputs": []
  },
  {
   "cell_type": "markdown",
   "source": "### Select K Best",
   "metadata": {
    "tags": [],
    "cell_id": "00072-bbb023ce-b81e-4c84-bb76-7f81cdb3f985",
    "deepnote_cell_type": "markdown"
   }
  },
  {
   "cell_type": "code",
   "metadata": {
    "tags": [],
    "cell_id": "00071-16dd3d22-80a0-4e0c-aa88-06c9b829ece7",
    "deepnote_to_be_reexecuted": false,
    "source_hash": "1fd2a00e",
    "execution_start": 1621959249687,
    "execution_millis": 39,
    "deepnote_cell_type": "code"
   },
   "source": "# Create KNN object (thing)\nknn = KNeighborsClassifier(n_neighbors=5, weights='uniform')\n# fit the model (thing)\nknn.fit(train[f_feature], y_train)",
   "execution_count": null,
   "outputs": [
    {
     "output_type": "execute_result",
     "execution_count": 62,
     "data": {
      "text/plain": "KNeighborsClassifier()"
     },
     "metadata": {}
    }
   ]
  },
  {
   "cell_type": "code",
   "metadata": {
    "tags": [],
    "cell_id": "00072-d0c66d9b-66bd-4379-b697-322c7f2fa99a",
    "deepnote_to_be_reexecuted": false,
    "source_hash": "c6cb09d",
    "execution_start": 1621959249717,
    "execution_millis": 3411,
    "deepnote_cell_type": "code"
   },
   "source": "# Use the model (thing)\n# Select k Best features\nget_metrics(knn, train[f_feature], y_train)",
   "execution_count": null,
   "outputs": [
    {
     "name": "stdout",
     "text": "\n    BASELINE accuracy is: 51.01%\n    The accuracy for our model is: 74.18287% \n    \n",
     "output_type": "stream"
    },
    {
     "output_type": "execute_result",
     "execution_count": 63,
     "data": {
      "text/plain": "(array([[1773,  693],\n        [ 555, 1813]]),\n                      0            1\n precision     0.761598     0.723464\n recall        0.718978     0.765625\n f1-score      0.739675     0.743947\n support    2466.000000  2368.000000)"
     },
     "metadata": {}
    }
   ]
  },
  {
   "cell_type": "markdown",
   "source": "### RFE",
   "metadata": {
    "tags": [],
    "cell_id": "00075-dd3dafa5-b701-4f58-8846-354ac51d570b",
    "deepnote_cell_type": "markdown"
   }
  },
  {
   "cell_type": "code",
   "metadata": {
    "tags": [],
    "cell_id": "00074-64bb6ddf-12c4-4a4d-ad53-afca2030a16e",
    "deepnote_to_be_reexecuted": false,
    "source_hash": "963da197",
    "execution_start": 1621959253179,
    "execution_millis": 112,
    "deepnote_cell_type": "code"
   },
   "source": "# Create KNN object (thing)\nknn = KNeighborsClassifier(n_neighbors=5, weights='uniform')\n# fit the model (thing)\nknn.fit(train[rfe_list], y_train)",
   "execution_count": null,
   "outputs": [
    {
     "output_type": "execute_result",
     "execution_count": 64,
     "data": {
      "text/plain": "KNeighborsClassifier()"
     },
     "metadata": {}
    }
   ]
  },
  {
   "cell_type": "code",
   "metadata": {
    "tags": [],
    "cell_id": "00073-cc52a515-248f-47d1-b97d-58ac9d1f5815",
    "deepnote_to_be_reexecuted": false,
    "source_hash": "15d2c431",
    "execution_start": 1621959253288,
    "execution_millis": 4209,
    "deepnote_cell_type": "code"
   },
   "source": "# Use the model (thing)\n# RFE features\nget_metrics(knn, train[rfe_list], y_train)",
   "execution_count": null,
   "outputs": [
    {
     "name": "stdout",
     "text": "\n    BASELINE accuracy is: 51.01%\n    The accuracy for our model is: 68.61812% \n    \n",
     "output_type": "stream"
    },
    {
     "output_type": "execute_result",
     "execution_count": 65,
     "data": {
      "text/plain": "(array([[1544,  922],\n        [ 595, 1773]]),\n                      0            1\n precision     0.721833     0.657885\n recall        0.626115     0.748733\n f1-score      0.670575     0.700375\n support    2466.000000  2368.000000)"
     },
     "metadata": {}
    }
   ]
  },
  {
   "cell_type": "markdown",
   "source": "### Combo",
   "metadata": {
    "tags": [],
    "cell_id": "00078-90a5b75f-62ea-4bac-b207-7b51211d56f7",
    "deepnote_cell_type": "markdown"
   }
  },
  {
   "cell_type": "code",
   "metadata": {
    "tags": [],
    "cell_id": "00075-ebf12e50-f8ee-471d-b3ab-a3e3508108b3",
    "deepnote_to_be_reexecuted": false,
    "source_hash": "db6ff987",
    "execution_start": 1621959257509,
    "execution_millis": 95,
    "deepnote_cell_type": "code"
   },
   "source": "# Create KNN object (thing)\nknn = KNeighborsClassifier(n_neighbors=5, weights='uniform')\n# fit the model (thing)\nknn.fit(train[combo_feats], y_train)",
   "execution_count": null,
   "outputs": [
    {
     "output_type": "execute_result",
     "execution_count": 66,
     "data": {
      "text/plain": "KNeighborsClassifier()"
     },
     "metadata": {}
    }
   ]
  },
  {
   "cell_type": "code",
   "metadata": {
    "tags": [],
    "cell_id": "00077-6aa18c7b-affe-4d6d-9a4d-b669b29cb1c9",
    "deepnote_to_be_reexecuted": false,
    "source_hash": "a535d258",
    "execution_start": 1621959257599,
    "execution_millis": 5309,
    "deepnote_cell_type": "code"
   },
   "source": "# Use the model (thing)\n# combo features\nget_metrics(knn, train[combo_feats], y_train)",
   "execution_count": null,
   "outputs": [
    {
     "name": "stdout",
     "text": "\n    BASELINE accuracy is: 51.01%\n    The accuracy for our model is: 75.69301% \n    \n",
     "output_type": "stream"
    },
    {
     "output_type": "execute_result",
     "execution_count": 67,
     "data": {
      "text/plain": "(array([[1824,  642],\n        [ 533, 1835]]),\n                      0            1\n precision     0.773865     0.740816\n recall        0.739659     0.774916\n f1-score      0.756376     0.757482\n support    2466.000000  2368.000000)"
     },
     "metadata": {}
    }
   ]
  },
  {
   "cell_type": "markdown",
   "source": "## Validate",
   "metadata": {
    "tags": [],
    "cell_id": "00074-1b8d4992-af34-4e73-8ecc-ba6ed8d40a27",
    "deepnote_cell_type": "markdown"
   }
  },
  {
   "cell_type": "markdown",
   "source": "### Select K Best",
   "metadata": {
    "tags": [],
    "cell_id": "00088-1b3bba08-fe12-4aa5-beba-1a2a694741c8",
    "deepnote_cell_type": "markdown"
   }
  },
  {
   "cell_type": "code",
   "metadata": {
    "tags": [],
    "cell_id": "00088-a96610d4-38f4-4743-aae2-bf606be314e1",
    "deepnote_to_be_reexecuted": false,
    "source_hash": "1fd2a00e",
    "execution_start": 1621959452261,
    "execution_millis": 43,
    "deepnote_cell_type": "code"
   },
   "source": "# Create KNN object (thing)\nknn = KNeighborsClassifier(n_neighbors=5, weights='uniform')\n# fit the model (thing)\nknn.fit(train[f_feature], y_train)",
   "execution_count": null,
   "outputs": [
    {
     "output_type": "execute_result",
     "execution_count": 80,
     "data": {
      "text/plain": "KNeighborsClassifier()"
     },
     "metadata": {}
    }
   ]
  },
  {
   "cell_type": "code",
   "metadata": {
    "tags": [],
    "cell_id": "00074-45cf7421-6669-4ed5-9fee-eccbc121696d",
    "deepnote_to_be_reexecuted": false,
    "source_hash": "a576bb5c",
    "execution_start": 1621959452660,
    "execution_millis": 252,
    "deepnote_cell_type": "code"
   },
   "source": "# Use the model (thing)\n# Select k Best features\nget_metrics(knn, validate[f_feature], y_validate)",
   "execution_count": null,
   "outputs": [
    {
     "name": "stdout",
     "text": "\n    BASELINE accuracy is: 51.01%\n    The accuracy for our model is: 65.60540% \n    \n",
     "output_type": "stream"
    },
    {
     "output_type": "execute_result",
     "execution_count": 81,
     "data": {
      "text/plain": "(array([[684, 369],\n        [344, 676]]),\n                      0            1\n precision     0.665370     0.646890\n recall        0.649573     0.662745\n f1-score      0.657376     0.654722\n support    1053.000000  1020.000000)"
     },
     "metadata": {}
    }
   ]
  },
  {
   "cell_type": "markdown",
   "source": "### RFE",
   "metadata": {
    "tags": [],
    "cell_id": "00091-ae31fb63-8766-49ab-ade2-bd8ad964cb5c",
    "deepnote_cell_type": "markdown"
   }
  },
  {
   "cell_type": "code",
   "metadata": {
    "tags": [],
    "cell_id": "00090-b716f319-6901-409d-8401-c207578bb537",
    "deepnote_to_be_reexecuted": false,
    "source_hash": "963da197",
    "execution_start": 1621959459926,
    "execution_millis": 48,
    "deepnote_cell_type": "code"
   },
   "source": "# Create KNN object (thing)\nknn = KNeighborsClassifier(n_neighbors=5, weights='uniform')\n# fit the model (thing)\nknn.fit(train[rfe_list], y_train)",
   "execution_count": null,
   "outputs": [
    {
     "output_type": "execute_result",
     "execution_count": 83,
     "data": {
      "text/plain": "KNeighborsClassifier()"
     },
     "metadata": {}
    }
   ]
  },
  {
   "cell_type": "code",
   "metadata": {
    "tags": [],
    "cell_id": "00076-450d3381-593b-4304-acf5-8af16e153ad8",
    "deepnote_to_be_reexecuted": false,
    "source_hash": "ef609b5",
    "execution_start": 1621959460180,
    "execution_millis": 459,
    "deepnote_cell_type": "code"
   },
   "source": "# Use the model (thing)\n# RFE features\nget_metrics(knn, validate[rfe_list], y_validate)",
   "execution_count": null,
   "outputs": [
    {
     "name": "stdout",
     "text": "\n    BASELINE accuracy is: 51.01%\n    The accuracy for our model is: 66.85962% \n    \n",
     "output_type": "stream"
    },
    {
     "output_type": "execute_result",
     "execution_count": 84,
     "data": {
      "text/plain": "(array([[638, 415],\n        [272, 748]]),\n                      0            1\n precision     0.701099     0.643164\n recall        0.605888     0.733333\n f1-score      0.650025     0.685295\n support    1053.000000  1020.000000)"
     },
     "metadata": {}
    }
   ]
  },
  {
   "cell_type": "markdown",
   "source": "### Combo Features",
   "metadata": {
    "tags": [],
    "cell_id": "00094-2d4ba687-560a-4b7e-9939-a5e6e6db94af",
    "deepnote_cell_type": "markdown"
   }
  },
  {
   "cell_type": "code",
   "metadata": {
    "tags": [],
    "cell_id": "00092-90b11f93-5c05-43ac-8e09-981e68e99b64",
    "deepnote_to_be_reexecuted": false,
    "source_hash": "db6ff987",
    "execution_start": 1621959465537,
    "execution_millis": 20,
    "deepnote_cell_type": "code"
   },
   "source": "# Create KNN object (thing)\nknn = KNeighborsClassifier(n_neighbors=5, weights='uniform')\n# fit the model (thing)\nknn.fit(train[combo_feats], y_train)",
   "execution_count": null,
   "outputs": [
    {
     "output_type": "execute_result",
     "execution_count": 86,
     "data": {
      "text/plain": "KNeighborsClassifier()"
     },
     "metadata": {}
    }
   ]
  },
  {
   "cell_type": "code",
   "metadata": {
    "tags": [],
    "cell_id": "00092-3ca10d33-8dff-4ba0-a340-c34823ef9b06",
    "deepnote_to_be_reexecuted": false,
    "source_hash": "62cc88b1",
    "execution_start": 1621959465814,
    "execution_millis": 891,
    "deepnote_cell_type": "code"
   },
   "source": "# Use the model (thing)\n# Combo features\nget_metrics(knn, validate[combo_feats], y_validate)",
   "execution_count": null,
   "outputs": [
    {
     "name": "stdout",
     "text": "\n    BASELINE accuracy is: 51.01%\n    The accuracy for our model is: 67.24554% \n    \n",
     "output_type": "stream"
    },
    {
     "output_type": "execute_result",
     "execution_count": 87,
     "data": {
      "text/plain": "(array([[698, 355],\n        [324, 696]]),\n                      0            1\n precision     0.682975     0.662226\n recall        0.662868     0.682353\n f1-score      0.672771     0.672139\n support    1053.000000  1020.000000)"
     },
     "metadata": {}
    }
   ]
  },
  {
   "cell_type": "markdown",
   "source": "**KNN using Combo feats is running best with Train=76% & Validate=67.24%**",
   "metadata": {
    "tags": [],
    "cell_id": "00078-b65913b2-3915-412e-b88c-516009f16f49",
    "deepnote_cell_type": "markdown"
   }
  },
  {
   "cell_type": "code",
   "metadata": {
    "tags": [],
    "cell_id": "00098-6af4d042-499d-4162-b903-34116eb811e8",
    "deepnote_cell_type": "code"
   },
   "source": "",
   "execution_count": null,
   "outputs": []
  },
  {
   "cell_type": "markdown",
   "source": "<a style='text-decoration:none;line-height:16px;display:flex;color:#5B5B62;padding:10px;justify-content:end;' href='https://deepnote.com?utm_source=created-in-deepnote-cell&projectId=258e71fc-cf2b-48c3-8461-70ecd9787aa1' target=\"_blank\">\n<img alt='Created in deepnote.com' style='display:inline;max-height:16px;margin:0px;margin-right:7.5px;' src='data:image/svg+xml;base64,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' > </img>\nCreated in <span style='font-weight:600;margin-left:4px;'>Deepnote</span></a>",
   "metadata": {
    "tags": [],
    "created_in_deepnote_cell": true,
    "deepnote_cell_type": "markdown"
   }
  }
 ],
 "nbformat": 4,
 "nbformat_minor": 2,
 "metadata": {
  "orig_nbformat": 2,
  "deepnote": {
   "is_reactive": false
  },
  "deepnote_notebook_id": "898de622-f47c-4fb6-afc3-512715d2b613",
  "deepnote_execution_queue": []
 }
}