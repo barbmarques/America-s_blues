{
 "cells": [
  {
   "cell_type": "code",
   "metadata": {
    "tags": [],
    "cell_id": "00000-ecb47137-bec1-48b6-9372-dc8b96c97e28",
    "deepnote_to_be_reexecuted": false,
    "source_hash": "2098c280",
    "execution_start": 1621870415806,
    "execution_millis": 2276,
    "deepnote_cell_type": "code"
   },
   "source": "import pandas as pd\nimport numpy as np\nfrom scipy import stats\n\n# Personal Functions\nimport explore as ex \nimport wrangle as w\n\n# Visualizations\nimport seaborn as sns\nimport matplotlib.pyplot as plt",
   "execution_count": null,
   "outputs": []
  },
  {
   "cell_type": "code",
   "metadata": {
    "tags": [],
    "cell_id": "00000-add84c03-00a4-4ee2-8d92-68cca582e73f",
    "deepnote_to_be_reexecuted": false,
    "source_hash": "90a66",
    "execution_start": 1621870418097,
    "execution_millis": 9390,
    "deepnote_cell_type": "code"
   },
   "source": "df = pd.read_excel('data.xlsx')\ndf.head(1)",
   "execution_count": null,
   "outputs": [
    {
     "output_type": "execute_result",
     "execution_count": 2,
     "data": {
      "application/vnd.deepnote.dataframe.v2+json": {
       "row_count": 1,
       "column_count": 49,
       "columns": [
        {
         "name": "Victim's name",
         "dtype": "object",
         "stats": {
          "unique_count": 1,
          "nan_count": 0,
          "categories": [
           {
            "name": "Kalon Horton",
            "count": 1
           }
          ]
         }
        },
        {
         "name": "Victim's age",
         "dtype": "object",
         "stats": {
          "unique_count": 1,
          "nan_count": 0,
          "categories": [
           {
            "name": "29",
            "count": 1
           }
          ]
         }
        },
        {
         "name": "Victim's gender",
         "dtype": "object",
         "stats": {
          "unique_count": 1,
          "nan_count": 0,
          "categories": [
           {
            "name": "Male",
            "count": 1
           }
          ]
         }
        },
        {
         "name": "Victim's race",
         "dtype": "object",
         "stats": {
          "unique_count": 1,
          "nan_count": 0,
          "categories": [
           {
            "name": "Black",
            "count": 1
           }
          ]
         }
        },
        {
         "name": "URL of image of victim",
         "dtype": "object",
         "stats": {
          "unique_count": 0,
          "nan_count": 1,
          "categories": [
           {
            "name": "Missing",
            "count": 1
           }
          ]
         }
        },
        {
         "name": "Date of Incident (month/day/year)",
         "dtype": "datetime64[ns]",
         "stats": {
          "unique_count": 1,
          "nan_count": 0,
          "min": "2021-05-09 00:00:00",
          "max": "2021-05-09 00:00:00",
          "histogram": null
         }
        },
        {
         "name": "Street Address of Incident",
         "dtype": "object",
         "stats": {
          "unique_count": 0,
          "nan_count": 1,
          "categories": [
           {
            "name": "Missing",
            "count": 1
           }
          ]
         }
        },
        {
         "name": "City",
         "dtype": "object",
         "stats": {
          "unique_count": 1,
          "nan_count": 0,
          "categories": [
           {
            "name": "Lancaster",
            "count": 1
           }
          ]
         }
        },
        {
         "name": "State",
         "dtype": "object",
         "stats": {
          "unique_count": 1,
          "nan_count": 0,
          "categories": [
           {
            "name": "TX",
            "count": 1
           }
          ]
         }
        },
        {
         "name": "Zipcode",
         "dtype": "float64",
         "stats": {
          "unique_count": 0,
          "nan_count": 1,
          "min": null,
          "max": null,
          "histogram": [
           {
            "bin_start": 0,
            "bin_end": 0.1,
            "count": 0
           },
           {
            "bin_start": 0.1,
            "bin_end": 0.2,
            "count": 0
           },
           {
            "bin_start": 0.2,
            "bin_end": 0.30000000000000004,
            "count": 0
           },
           {
            "bin_start": 0.30000000000000004,
            "bin_end": 0.4,
            "count": 0
           },
           {
            "bin_start": 0.4,
            "bin_end": 0.5,
            "count": 0
           },
           {
            "bin_start": 0.5,
            "bin_end": 0.6000000000000001,
            "count": 0
           },
           {
            "bin_start": 0.6000000000000001,
            "bin_end": 0.7000000000000001,
            "count": 0
           },
           {
            "bin_start": 0.7000000000000001,
            "bin_end": 0.8,
            "count": 0
           },
           {
            "bin_start": 0.8,
            "bin_end": 0.9,
            "count": 0
           },
           {
            "bin_start": 0.9,
            "bin_end": 1,
            "count": 0
           }
          ]
         }
        },
        {
         "name": "County",
         "dtype": "object",
         "stats": {
          "unique_count": 0,
          "nan_count": 1,
          "categories": [
           {
            "name": "Missing",
            "count": 1
           }
          ]
         }
        },
        {
         "name": "Agency responsible for death",
         "dtype": "object",
         "stats": {
          "unique_count": 1,
          "nan_count": 0,
          "categories": [
           {
            "name": "Lancaster Police Department",
            "count": 1
           }
          ]
         }
        },
        {
         "name": "ORI Agency Identifier (if available)",
         "dtype": "object",
         "stats": {
          "unique_count": 1,
          "nan_count": 0,
          "categories": [
           {
            "name": "TX0571700",
            "count": 1
           }
          ]
         }
        },
        {
         "name": "Cause of death",
         "dtype": "object",
         "stats": {
          "unique_count": 1,
          "nan_count": 0,
          "categories": [
           {
            "name": "Gunshot",
            "count": 1
           }
          ]
         }
        },
        {
         "name": "A brief description of the circumstances surrounding the death",
         "dtype": "object",
         "stats": {
          "unique_count": 1,
          "nan_count": 0,
          "categories": [
           {
            "name": "Police responded to a call of a man firing shots within an apartment complex. Officers went to Horton's apartment and forced their way in. Police claim Horton was armed, and they shot and killed him.",
            "count": 1
           }
          ]
         }
        },
        {
         "name": "Official disposition of death (justified or other)",
         "dtype": "object",
         "stats": {
          "unique_count": 1,
          "nan_count": 0,
          "categories": [
           {
            "name": "Pending investigation",
            "count": 1
           }
          ]
         }
        },
        {
         "name": "Criminal Charges?",
         "dtype": "object",
         "stats": {
          "unique_count": 1,
          "nan_count": 0,
          "categories": [
           {
            "name": "No known charges",
            "count": 1
           }
          ]
         }
        },
        {
         "name": "Link to news article or photo of official document",
         "dtype": "object",
         "stats": {
          "unique_count": 1,
          "nan_count": 0,
          "categories": [
           {
            "name": "https://www.fox4news.com/news/lancaster-police-officers-involved-in-shooting",
            "count": 1
           }
          ]
         }
        },
        {
         "name": "Symptoms of mental illness?",
         "dtype": "object",
         "stats": {
          "unique_count": 1,
          "nan_count": 0,
          "categories": [
           {
            "name": "No",
            "count": 1
           }
          ]
         }
        },
        {
         "name": "Armed/Unarmed Status",
         "dtype": "object",
         "stats": {
          "unique_count": 1,
          "nan_count": 0,
          "categories": [
           {
            "name": "Allegedly Armed",
            "count": 1
           }
          ]
         }
        },
        {
         "name": "Alleged Weapon (Source: WaPo and Review of Cases Not Included in WaPo Database)",
         "dtype": "object",
         "stats": {
          "unique_count": 1,
          "nan_count": 0,
          "categories": [
           {
            "name": "gun",
            "count": 1
           }
          ]
         }
        },
        {
         "name": "Alleged Threat Level (Source: WaPo)",
         "dtype": "object",
         "stats": {
          "unique_count": 1,
          "nan_count": 0,
          "categories": [
           {
            "name": "attack",
            "count": 1
           }
          ]
         }
        },
        {
         "name": "Fleeing (Source: WaPo)",
         "dtype": "object",
         "stats": {
          "unique_count": 0,
          "nan_count": 1,
          "categories": [
           {
            "name": "Missing",
            "count": 1
           }
          ]
         }
        },
        {
         "name": "Body Camera (Source: WaPo)",
         "dtype": "object",
         "stats": {
          "unique_count": 1,
          "nan_count": 0,
          "categories": [
           {
            "name": "no",
            "count": 1
           }
          ]
         }
        },
        {
         "name": "WaPo ID (If included in WaPo database)",
         "dtype": "float64",
         "stats": {
          "unique_count": 1,
          "nan_count": 0,
          "min": "6842.0",
          "max": "6842.0",
          "histogram": [
           {
            "bin_start": 6841.5,
            "bin_end": 6841.6,
            "count": 0
           },
           {
            "bin_start": 6841.6,
            "bin_end": 6841.7,
            "count": 0
           },
           {
            "bin_start": 6841.7,
            "bin_end": 6841.8,
            "count": 0
           },
           {
            "bin_start": 6841.8,
            "bin_end": 6841.9,
            "count": 0
           },
           {
            "bin_start": 6841.9,
            "bin_end": 6842,
            "count": 0
           },
           {
            "bin_start": 6842,
            "bin_end": 6842.1,
            "count": 1
           },
           {
            "bin_start": 6842.1,
            "bin_end": 6842.2,
            "count": 0
           },
           {
            "bin_start": 6842.2,
            "bin_end": 6842.3,
            "count": 0
           },
           {
            "bin_start": 6842.3,
            "bin_end": 6842.4,
            "count": 0
           },
           {
            "bin_start": 6842.4,
            "bin_end": 6842.5,
            "count": 0
           }
          ]
         }
        },
        {
         "name": "Off-Duty Killing?",
         "dtype": "object",
         "stats": {
          "unique_count": 0,
          "nan_count": 1,
          "categories": [
           {
            "name": "Missing",
            "count": 1
           }
          ]
         }
        },
        {
         "name": "Geography (via Trulia methodology based on zipcode population density: http://jedkolko.com/wp-content/uploads/2015/05/full-ZCTA-urban-suburban-rural-classification.xlsx )",
         "dtype": "object",
         "stats": {
          "unique_count": 0,
          "nan_count": 1,
          "categories": [
           {
            "name": "Missing",
            "count": 1
           }
          ]
         }
        },
        {
         "name": "MPV ID",
         "dtype": "float64",
         "stats": {
          "unique_count": 0,
          "nan_count": 1,
          "min": null,
          "max": null,
          "histogram": [
           {
            "bin_start": 0,
            "bin_end": 0.1,
            "count": 0
           },
           {
            "bin_start": 0.1,
            "bin_end": 0.2,
            "count": 0
           },
           {
            "bin_start": 0.2,
            "bin_end": 0.30000000000000004,
            "count": 0
           },
           {
            "bin_start": 0.30000000000000004,
            "bin_end": 0.4,
            "count": 0
           },
           {
            "bin_start": 0.4,
            "bin_end": 0.5,
            "count": 0
           },
           {
            "bin_start": 0.5,
            "bin_end": 0.6000000000000001,
            "count": 0
           },
           {
            "bin_start": 0.6000000000000001,
            "bin_end": 0.7000000000000001,
            "count": 0
           },
           {
            "bin_start": 0.7000000000000001,
            "bin_end": 0.8,
            "count": 0
           },
           {
            "bin_start": 0.8,
            "bin_end": 0.9,
            "count": 0
           },
           {
            "bin_start": 0.9,
            "bin_end": 1,
            "count": 0
           }
          ]
         }
        },
        {
         "name": "Fatal Encounters ID",
         "dtype": "float64",
         "stats": {
          "unique_count": 0,
          "nan_count": 1,
          "min": null,
          "max": null,
          "histogram": [
           {
            "bin_start": 0,
            "bin_end": 0.1,
            "count": 0
           },
           {
            "bin_start": 0.1,
            "bin_end": 0.2,
            "count": 0
           },
           {
            "bin_start": 0.2,
            "bin_end": 0.30000000000000004,
            "count": 0
           },
           {
            "bin_start": 0.30000000000000004,
            "bin_end": 0.4,
            "count": 0
           },
           {
            "bin_start": 0.4,
            "bin_end": 0.5,
            "count": 0
           },
           {
            "bin_start": 0.5,
            "bin_end": 0.6000000000000001,
            "count": 0
           },
           {
            "bin_start": 0.6000000000000001,
            "bin_end": 0.7000000000000001,
            "count": 0
           },
           {
            "bin_start": 0.7000000000000001,
            "bin_end": 0.8,
            "count": 0
           },
           {
            "bin_start": 0.8,
            "bin_end": 0.9,
            "count": 0
           },
           {
            "bin_start": 0.9,
            "bin_end": 1,
            "count": 0
           }
          ]
         }
        },
        {
         "name": "Encounter Type (DRAFT)",
         "dtype": "object",
         "stats": {
          "unique_count": 1,
          "nan_count": 0,
          "categories": [
           {
            "name": "Part 1 Violent Crime",
            "count": 1
           }
          ]
         }
        },
        {
         "name": "Initial Reported Reason for Encounter (DRAFT)",
         "dtype": "object",
         "stats": {
          "unique_count": 1,
          "nan_count": 0,
          "categories": [
           {
            "name": "gunshots",
            "count": 1
           }
          ]
         }
        },
        {
         "name": "Names of Officers Involved (DRAFT)",
         "dtype": "object",
         "stats": {
          "unique_count": 0,
          "nan_count": 1,
          "categories": [
           {
            "name": "Missing",
            "count": 1
           }
          ]
         }
        },
        {
         "name": "Race of Officers Involved (DRAFT)",
         "dtype": "object",
         "stats": {
          "unique_count": 0,
          "nan_count": 1,
          "categories": [
           {
            "name": "Missing",
            "count": 1
           }
          ]
         }
        },
        {
         "name": "Known Past Shootings of Officer(s) (DRAFT)",
         "dtype": "object",
         "stats": {
          "unique_count": 0,
          "nan_count": 1,
          "categories": [
           {
            "name": "Missing",
            "count": 1
           }
          ]
         }
        },
        {
         "name": "Call for Service? (DRAFT)",
         "dtype": "object",
         "stats": {
          "unique_count": 1,
          "nan_count": 0,
          "categories": [
           {
            "name": "Yes",
            "count": 1
           }
          ]
         }
        },
        {
         "name": "Unnamed: 35",
         "dtype": "float64",
         "stats": {
          "unique_count": 0,
          "nan_count": 1,
          "min": null,
          "max": null,
          "histogram": [
           {
            "bin_start": 0,
            "bin_end": 0.1,
            "count": 0
           },
           {
            "bin_start": 0.1,
            "bin_end": 0.2,
            "count": 0
           },
           {
            "bin_start": 0.2,
            "bin_end": 0.30000000000000004,
            "count": 0
           },
           {
            "bin_start": 0.30000000000000004,
            "bin_end": 0.4,
            "count": 0
           },
           {
            "bin_start": 0.4,
            "bin_end": 0.5,
            "count": 0
           },
           {
            "bin_start": 0.5,
            "bin_end": 0.6000000000000001,
            "count": 0
           },
           {
            "bin_start": 0.6000000000000001,
            "bin_end": 0.7000000000000001,
            "count": 0
           },
           {
            "bin_start": 0.7000000000000001,
            "bin_end": 0.8,
            "count": 0
           },
           {
            "bin_start": 0.8,
            "bin_end": 0.9,
            "count": 0
           },
           {
            "bin_start": 0.9,
            "bin_end": 1,
            "count": 0
           }
          ]
         }
        },
        {
         "name": "Unnamed: 36",
         "dtype": "float64",
         "stats": {
          "unique_count": 0,
          "nan_count": 1,
          "min": null,
          "max": null,
          "histogram": [
           {
            "bin_start": 0,
            "bin_end": 0.1,
            "count": 0
           },
           {
            "bin_start": 0.1,
            "bin_end": 0.2,
            "count": 0
           },
           {
            "bin_start": 0.2,
            "bin_end": 0.30000000000000004,
            "count": 0
           },
           {
            "bin_start": 0.30000000000000004,
            "bin_end": 0.4,
            "count": 0
           },
           {
            "bin_start": 0.4,
            "bin_end": 0.5,
            "count": 0
           },
           {
            "bin_start": 0.5,
            "bin_end": 0.6000000000000001,
            "count": 0
           },
           {
            "bin_start": 0.6000000000000001,
            "bin_end": 0.7000000000000001,
            "count": 0
           },
           {
            "bin_start": 0.7000000000000001,
            "bin_end": 0.8,
            "count": 0
           },
           {
            "bin_start": 0.8,
            "bin_end": 0.9,
            "count": 0
           },
           {
            "bin_start": 0.9,
            "bin_end": 1,
            "count": 0
           }
          ]
         }
        },
        {
         "name": "Unnamed: 37",
         "dtype": "float64",
         "stats": {
          "unique_count": 0,
          "nan_count": 1,
          "min": null,
          "max": null,
          "histogram": [
           {
            "bin_start": 0,
            "bin_end": 0.1,
            "count": 0
           },
           {
            "bin_start": 0.1,
            "bin_end": 0.2,
            "count": 0
           },
           {
            "bin_start": 0.2,
            "bin_end": 0.30000000000000004,
            "count": 0
           },
           {
            "bin_start": 0.30000000000000004,
            "bin_end": 0.4,
            "count": 0
           },
           {
            "bin_start": 0.4,
            "bin_end": 0.5,
            "count": 0
           },
           {
            "bin_start": 0.5,
            "bin_end": 0.6000000000000001,
            "count": 0
           },
           {
            "bin_start": 0.6000000000000001,
            "bin_end": 0.7000000000000001,
            "count": 0
           },
           {
            "bin_start": 0.7000000000000001,
            "bin_end": 0.8,
            "count": 0
           },
           {
            "bin_start": 0.8,
            "bin_end": 0.9,
            "count": 0
           },
           {
            "bin_start": 0.9,
            "bin_end": 1,
            "count": 0
           }
          ]
         }
        },
        {
         "name": "Unnamed: 38",
         "dtype": "float64",
         "stats": {
          "unique_count": 0,
          "nan_count": 1,
          "min": null,
          "max": null,
          "histogram": [
           {
            "bin_start": 0,
            "bin_end": 0.1,
            "count": 0
           },
           {
            "bin_start": 0.1,
            "bin_end": 0.2,
            "count": 0
           },
           {
            "bin_start": 0.2,
            "bin_end": 0.30000000000000004,
            "count": 0
           },
           {
            "bin_start": 0.30000000000000004,
            "bin_end": 0.4,
            "count": 0
           },
           {
            "bin_start": 0.4,
            "bin_end": 0.5,
            "count": 0
           },
           {
            "bin_start": 0.5,
            "bin_end": 0.6000000000000001,
            "count": 0
           },
           {
            "bin_start": 0.6000000000000001,
            "bin_end": 0.7000000000000001,
            "count": 0
           },
           {
            "bin_start": 0.7000000000000001,
            "bin_end": 0.8,
            "count": 0
           },
           {
            "bin_start": 0.8,
            "bin_end": 0.9,
            "count": 0
           },
           {
            "bin_start": 0.9,
            "bin_end": 1,
            "count": 0
           }
          ]
         }
        },
        {
         "name": "Unnamed: 39",
         "dtype": "float64",
         "stats": {
          "unique_count": 0,
          "nan_count": 1,
          "min": null,
          "max": null,
          "histogram": [
           {
            "bin_start": 0,
            "bin_end": 0.1,
            "count": 0
           },
           {
            "bin_start": 0.1,
            "bin_end": 0.2,
            "count": 0
           },
           {
            "bin_start": 0.2,
            "bin_end": 0.30000000000000004,
            "count": 0
           },
           {
            "bin_start": 0.30000000000000004,
            "bin_end": 0.4,
            "count": 0
           },
           {
            "bin_start": 0.4,
            "bin_end": 0.5,
            "count": 0
           },
           {
            "bin_start": 0.5,
            "bin_end": 0.6000000000000001,
            "count": 0
           },
           {
            "bin_start": 0.6000000000000001,
            "bin_end": 0.7000000000000001,
            "count": 0
           },
           {
            "bin_start": 0.7000000000000001,
            "bin_end": 0.8,
            "count": 0
           },
           {
            "bin_start": 0.8,
            "bin_end": 0.9,
            "count": 0
           },
           {
            "bin_start": 0.9,
            "bin_end": 1,
            "count": 0
           }
          ]
         }
        },
        {
         "name": "Unnamed: 40",
         "dtype": "float64",
         "stats": {
          "unique_count": 0,
          "nan_count": 1,
          "min": null,
          "max": null,
          "histogram": [
           {
            "bin_start": 0,
            "bin_end": 0.1,
            "count": 0
           },
           {
            "bin_start": 0.1,
            "bin_end": 0.2,
            "count": 0
           },
           {
            "bin_start": 0.2,
            "bin_end": 0.30000000000000004,
            "count": 0
           },
           {
            "bin_start": 0.30000000000000004,
            "bin_end": 0.4,
            "count": 0
           },
           {
            "bin_start": 0.4,
            "bin_end": 0.5,
            "count": 0
           },
           {
            "bin_start": 0.5,
            "bin_end": 0.6000000000000001,
            "count": 0
           },
           {
            "bin_start": 0.6000000000000001,
            "bin_end": 0.7000000000000001,
            "count": 0
           },
           {
            "bin_start": 0.7000000000000001,
            "bin_end": 0.8,
            "count": 0
           },
           {
            "bin_start": 0.8,
            "bin_end": 0.9,
            "count": 0
           },
           {
            "bin_start": 0.9,
            "bin_end": 1,
            "count": 0
           }
          ]
         }
        },
        {
         "name": "Unnamed: 41",
         "dtype": "float64",
         "stats": {
          "unique_count": 0,
          "nan_count": 1,
          "min": null,
          "max": null,
          "histogram": [
           {
            "bin_start": 0,
            "bin_end": 0.1,
            "count": 0
           },
           {
            "bin_start": 0.1,
            "bin_end": 0.2,
            "count": 0
           },
           {
            "bin_start": 0.2,
            "bin_end": 0.30000000000000004,
            "count": 0
           },
           {
            "bin_start": 0.30000000000000004,
            "bin_end": 0.4,
            "count": 0
           },
           {
            "bin_start": 0.4,
            "bin_end": 0.5,
            "count": 0
           },
           {
            "bin_start": 0.5,
            "bin_end": 0.6000000000000001,
            "count": 0
           },
           {
            "bin_start": 0.6000000000000001,
            "bin_end": 0.7000000000000001,
            "count": 0
           },
           {
            "bin_start": 0.7000000000000001,
            "bin_end": 0.8,
            "count": 0
           },
           {
            "bin_start": 0.8,
            "bin_end": 0.9,
            "count": 0
           },
           {
            "bin_start": 0.9,
            "bin_end": 1,
            "count": 0
           }
          ]
         }
        },
        {
         "name": "Unnamed: 42",
         "dtype": "float64",
         "stats": {
          "unique_count": 0,
          "nan_count": 1,
          "min": null,
          "max": null,
          "histogram": [
           {
            "bin_start": 0,
            "bin_end": 0.1,
            "count": 0
           },
           {
            "bin_start": 0.1,
            "bin_end": 0.2,
            "count": 0
           },
           {
            "bin_start": 0.2,
            "bin_end": 0.30000000000000004,
            "count": 0
           },
           {
            "bin_start": 0.30000000000000004,
            "bin_end": 0.4,
            "count": 0
           },
           {
            "bin_start": 0.4,
            "bin_end": 0.5,
            "count": 0
           },
           {
            "bin_start": 0.5,
            "bin_end": 0.6000000000000001,
            "count": 0
           },
           {
            "bin_start": 0.6000000000000001,
            "bin_end": 0.7000000000000001,
            "count": 0
           },
           {
            "bin_start": 0.7000000000000001,
            "bin_end": 0.8,
            "count": 0
           },
           {
            "bin_start": 0.8,
            "bin_end": 0.9,
            "count": 0
           },
           {
            "bin_start": 0.9,
            "bin_end": 1,
            "count": 0
           }
          ]
         }
        },
        {
         "name": "Unnamed: 43",
         "dtype": "float64",
         "stats": {
          "unique_count": 0,
          "nan_count": 1,
          "min": null,
          "max": null,
          "histogram": [
           {
            "bin_start": 0,
            "bin_end": 0.1,
            "count": 0
           },
           {
            "bin_start": 0.1,
            "bin_end": 0.2,
            "count": 0
           },
           {
            "bin_start": 0.2,
            "bin_end": 0.30000000000000004,
            "count": 0
           },
           {
            "bin_start": 0.30000000000000004,
            "bin_end": 0.4,
            "count": 0
           },
           {
            "bin_start": 0.4,
            "bin_end": 0.5,
            "count": 0
           },
           {
            "bin_start": 0.5,
            "bin_end": 0.6000000000000001,
            "count": 0
           },
           {
            "bin_start": 0.6000000000000001,
            "bin_end": 0.7000000000000001,
            "count": 0
           },
           {
            "bin_start": 0.7000000000000001,
            "bin_end": 0.8,
            "count": 0
           },
           {
            "bin_start": 0.8,
            "bin_end": 0.9,
            "count": 0
           },
           {
            "bin_start": 0.9,
            "bin_end": 1,
            "count": 0
           }
          ]
         }
        },
        {
         "name": "Unnamed: 44",
         "dtype": "float64",
         "stats": {
          "unique_count": 0,
          "nan_count": 1,
          "min": null,
          "max": null,
          "histogram": [
           {
            "bin_start": 0,
            "bin_end": 0.1,
            "count": 0
           },
           {
            "bin_start": 0.1,
            "bin_end": 0.2,
            "count": 0
           },
           {
            "bin_start": 0.2,
            "bin_end": 0.30000000000000004,
            "count": 0
           },
           {
            "bin_start": 0.30000000000000004,
            "bin_end": 0.4,
            "count": 0
           },
           {
            "bin_start": 0.4,
            "bin_end": 0.5,
            "count": 0
           },
           {
            "bin_start": 0.5,
            "bin_end": 0.6000000000000001,
            "count": 0
           },
           {
            "bin_start": 0.6000000000000001,
            "bin_end": 0.7000000000000001,
            "count": 0
           },
           {
            "bin_start": 0.7000000000000001,
            "bin_end": 0.8,
            "count": 0
           },
           {
            "bin_start": 0.8,
            "bin_end": 0.9,
            "count": 0
           },
           {
            "bin_start": 0.9,
            "bin_end": 1,
            "count": 0
           }
          ]
         }
        },
        {
         "name": "Unnamed: 45",
         "dtype": "float64",
         "stats": {
          "unique_count": 0,
          "nan_count": 1,
          "min": null,
          "max": null,
          "histogram": [
           {
            "bin_start": 0,
            "bin_end": 0.1,
            "count": 0
           },
           {
            "bin_start": 0.1,
            "bin_end": 0.2,
            "count": 0
           },
           {
            "bin_start": 0.2,
            "bin_end": 0.30000000000000004,
            "count": 0
           },
           {
            "bin_start": 0.30000000000000004,
            "bin_end": 0.4,
            "count": 0
           },
           {
            "bin_start": 0.4,
            "bin_end": 0.5,
            "count": 0
           },
           {
            "bin_start": 0.5,
            "bin_end": 0.6000000000000001,
            "count": 0
           },
           {
            "bin_start": 0.6000000000000001,
            "bin_end": 0.7000000000000001,
            "count": 0
           },
           {
            "bin_start": 0.7000000000000001,
            "bin_end": 0.8,
            "count": 0
           },
           {
            "bin_start": 0.8,
            "bin_end": 0.9,
            "count": 0
           },
           {
            "bin_start": 0.9,
            "bin_end": 1,
            "count": 0
           }
          ]
         }
        },
        {
         "name": "Unnamed: 46",
         "dtype": "float64",
         "stats": {
          "unique_count": 0,
          "nan_count": 1,
          "min": null,
          "max": null,
          "histogram": [
           {
            "bin_start": 0,
            "bin_end": 0.1,
            "count": 0
           },
           {
            "bin_start": 0.1,
            "bin_end": 0.2,
            "count": 0
           },
           {
            "bin_start": 0.2,
            "bin_end": 0.30000000000000004,
            "count": 0
           },
           {
            "bin_start": 0.30000000000000004,
            "bin_end": 0.4,
            "count": 0
           },
           {
            "bin_start": 0.4,
            "bin_end": 0.5,
            "count": 0
           },
           {
            "bin_start": 0.5,
            "bin_end": 0.6000000000000001,
            "count": 0
           },
           {
            "bin_start": 0.6000000000000001,
            "bin_end": 0.7000000000000001,
            "count": 0
           },
           {
            "bin_start": 0.7000000000000001,
            "bin_end": 0.8,
            "count": 0
           },
           {
            "bin_start": 0.8,
            "bin_end": 0.9,
            "count": 0
           },
           {
            "bin_start": 0.9,
            "bin_end": 1,
            "count": 0
           }
          ]
         }
        },
        {
         "name": "Unnamed: 47",
         "dtype": "float64",
         "stats": {
          "unique_count": 0,
          "nan_count": 1,
          "min": null,
          "max": null,
          "histogram": [
           {
            "bin_start": 0,
            "bin_end": 0.1,
            "count": 0
           },
           {
            "bin_start": 0.1,
            "bin_end": 0.2,
            "count": 0
           },
           {
            "bin_start": 0.2,
            "bin_end": 0.30000000000000004,
            "count": 0
           },
           {
            "bin_start": 0.30000000000000004,
            "bin_end": 0.4,
            "count": 0
           },
           {
            "bin_start": 0.4,
            "bin_end": 0.5,
            "count": 0
           },
           {
            "bin_start": 0.5,
            "bin_end": 0.6000000000000001,
            "count": 0
           },
           {
            "bin_start": 0.6000000000000001,
            "bin_end": 0.7000000000000001,
            "count": 0
           },
           {
            "bin_start": 0.7000000000000001,
            "bin_end": 0.8,
            "count": 0
           },
           {
            "bin_start": 0.8,
            "bin_end": 0.9,
            "count": 0
           },
           {
            "bin_start": 0.9,
            "bin_end": 1,
            "count": 0
           }
          ]
         }
        },
        {
         "name": "Unnamed: 48",
         "dtype": "float64",
         "stats": {
          "unique_count": 0,
          "nan_count": 1,
          "min": null,
          "max": null,
          "histogram": [
           {
            "bin_start": 0,
            "bin_end": 0.1,
            "count": 0
           },
           {
            "bin_start": 0.1,
            "bin_end": 0.2,
            "count": 0
           },
           {
            "bin_start": 0.2,
            "bin_end": 0.30000000000000004,
            "count": 0
           },
           {
            "bin_start": 0.30000000000000004,
            "bin_end": 0.4,
            "count": 0
           },
           {
            "bin_start": 0.4,
            "bin_end": 0.5,
            "count": 0
           },
           {
            "bin_start": 0.5,
            "bin_end": 0.6000000000000001,
            "count": 0
           },
           {
            "bin_start": 0.6000000000000001,
            "bin_end": 0.7000000000000001,
            "count": 0
           },
           {
            "bin_start": 0.7000000000000001,
            "bin_end": 0.8,
            "count": 0
           },
           {
            "bin_start": 0.8,
            "bin_end": 0.9,
            "count": 0
           },
           {
            "bin_start": 0.9,
            "bin_end": 1,
            "count": 0
           }
          ]
         }
        },
        {
         "name": "_deepnote_index_column",
         "dtype": "int64"
        }
       ],
       "rows_top": [
        {
         "Victim's name": "Kalon Horton",
         "Victim's age": 29,
         "Victim's gender": "Male",
         "Victim's race": "Black",
         "URL of image of victim": "nan",
         "Date of Incident (month/day/year)": "2021-05-09T00:00:00.000000",
         "Street Address of Incident": "nan",
         "City": "Lancaster",
         "State": "TX",
         "Zipcode": "nan",
         "County": "nan",
         "Agency responsible for death": "Lancaster Police Department",
         "ORI Agency Identifier (if available)": "TX0571700",
         "Cause of death": "Gunshot",
         "A brief description of the circumstances surrounding the death": "Police responded to a call of a man firing shots within an apartment complex. Officers went to Horton's apartment and forced their way in. Police claim Horton was armed, and they shot and killed him.",
         "Official disposition of death (justified or other)": "Pending investigation",
         "Criminal Charges?": "No known charges",
         "Link to news article or photo of official document": "https://www.fox4news.com/news/lancaster-police-officers-involved-in-shooting",
         "Symptoms of mental illness?": "No",
         "Armed/Unarmed Status": "Allegedly Armed",
         "Alleged Weapon (Source: WaPo and Review of Cases Not Included in WaPo Database)": "gun",
         "Alleged Threat Level (Source: WaPo)": "attack",
         "Fleeing (Source: WaPo)": "nan",
         "Body Camera (Source: WaPo)": "no",
         "WaPo ID (If included in WaPo database)": 6842,
         "Off-Duty Killing?": "nan",
         "Geography (via Trulia methodology based on zipcode population density: http://jedkolko.com/wp-content/uploads/2015/05/full-ZCTA-urban-suburban-rural-classification.xlsx )": "nan",
         "MPV ID": "nan",
         "Fatal Encounters ID": "nan",
         "Encounter Type (DRAFT)": "Part 1 Violent Crime",
         "Initial Reported Reason for Encounter (DRAFT)": "gunshots",
         "Names of Officers Involved (DRAFT)": "nan",
         "Race of Officers Involved (DRAFT)": "nan",
         "Known Past Shootings of Officer(s) (DRAFT)": "nan",
         "Call for Service? (DRAFT)": "Yes",
         "Unnamed: 35": "nan",
         "Unnamed: 36": "nan",
         "Unnamed: 37": "nan",
         "Unnamed: 38": "nan",
         "Unnamed: 39": "nan",
         "Unnamed: 40": "nan",
         "Unnamed: 41": "nan",
         "Unnamed: 42": "nan",
         "Unnamed: 43": "nan",
         "Unnamed: 44": "nan",
         "Unnamed: 45": "nan",
         "Unnamed: 46": "nan",
         "Unnamed: 47": "nan",
         "Unnamed: 48": "nan",
         "_deepnote_index_column": 0
        }
       ],
       "rows_bottom": null
      },
      "text/plain": "  Victim's name Victim's age Victim's gender Victim's race  \\\n0  Kalon Horton           29            Male         Black   \n\n  URL of image of victim Date of Incident (month/day/year)  \\\n0                    NaN                        2021-05-09   \n\n  Street Address of Incident       City State  Zipcode  ... Unnamed: 39  \\\n0                        NaN  Lancaster    TX      NaN  ...         NaN   \n\n  Unnamed: 40 Unnamed: 41 Unnamed: 42 Unnamed: 43 Unnamed: 44 Unnamed: 45  \\\n0         NaN         NaN         NaN         NaN         NaN         NaN   \n\n  Unnamed: 46 Unnamed: 47 Unnamed: 48  \n0         NaN         NaN         NaN  \n\n[1 rows x 49 columns]",
      "text/html": "<div>\n<style scoped>\n    .dataframe tbody tr th:only-of-type {\n        vertical-align: middle;\n    }\n\n    .dataframe tbody tr th {\n        vertical-align: top;\n    }\n\n    .dataframe thead th {\n        text-align: right;\n    }\n</style>\n<table border=\"1\" class=\"dataframe\">\n  <thead>\n    <tr style=\"text-align: right;\">\n      <th></th>\n      <th>Victim's name</th>\n      <th>Victim's age</th>\n      <th>Victim's gender</th>\n      <th>Victim's race</th>\n      <th>URL of image of victim</th>\n      <th>Date of Incident (month/day/year)</th>\n      <th>Street Address of Incident</th>\n      <th>City</th>\n      <th>State</th>\n      <th>Zipcode</th>\n      <th>...</th>\n      <th>Unnamed: 39</th>\n      <th>Unnamed: 40</th>\n      <th>Unnamed: 41</th>\n      <th>Unnamed: 42</th>\n      <th>Unnamed: 43</th>\n      <th>Unnamed: 44</th>\n      <th>Unnamed: 45</th>\n      <th>Unnamed: 46</th>\n      <th>Unnamed: 47</th>\n      <th>Unnamed: 48</th>\n    </tr>\n  </thead>\n  <tbody>\n    <tr>\n      <th>0</th>\n      <td>Kalon Horton</td>\n      <td>29</td>\n      <td>Male</td>\n      <td>Black</td>\n      <td>NaN</td>\n      <td>2021-05-09</td>\n      <td>NaN</td>\n      <td>Lancaster</td>\n      <td>TX</td>\n      <td>NaN</td>\n      <td>...</td>\n      <td>NaN</td>\n      <td>NaN</td>\n      <td>NaN</td>\n      <td>NaN</td>\n      <td>NaN</td>\n      <td>NaN</td>\n      <td>NaN</td>\n      <td>NaN</td>\n      <td>NaN</td>\n      <td>NaN</td>\n    </tr>\n  </tbody>\n</table>\n<p>1 rows × 49 columns</p>\n</div>"
     },
     "metadata": {}
    }
   ]
  },
  {
   "cell_type": "markdown",
   "source": "## First Steps of Cleaning:\n- Target Variable == alleged threat level\n- Columns 35 - 48 are unnamed and full of nulls: remove columns\n- Column names not adequate for python exploration: rename remaining columns\n",
   "metadata": {
    "tags": [],
    "cell_id": "00002-91597b46-7091-42f2-98e1-b8ebc3808b32",
    "deepnote_cell_type": "markdown"
   }
  },
  {
   "cell_type": "code",
   "metadata": {
    "tags": [],
    "cell_id": "00001-f64971d5-0b55-484b-b605-e29dd73f3d00",
    "deepnote_to_be_reexecuted": false,
    "source_hash": "976d6d1c",
    "execution_start": 1621870427438,
    "execution_millis": 7,
    "deepnote_cell_type": "code"
   },
   "source": "df.drop(columns=(list(df.columns[35:])), inplace=True)",
   "execution_count": null,
   "outputs": []
  },
  {
   "cell_type": "code",
   "metadata": {
    "tags": [],
    "cell_id": "00003-32641dbd-cd61-4ce9-99b9-5df0e0573826",
    "deepnote_to_be_reexecuted": false,
    "source_hash": "1039a82",
    "execution_start": 1621870427445,
    "execution_millis": 42,
    "deepnote_cell_type": "code"
   },
   "source": "list(df.columns)",
   "execution_count": null,
   "outputs": [
    {
     "output_type": "execute_result",
     "execution_count": 4,
     "data": {
      "text/plain": "[\"Victim's name\",\n \"Victim's age\",\n \"Victim's gender\",\n \"Victim's race\",\n 'URL of image of victim',\n 'Date of Incident (month/day/year)',\n 'Street Address of Incident',\n 'City',\n 'State',\n 'Zipcode',\n 'County',\n 'Agency responsible for death',\n 'ORI Agency Identifier (if available)',\n 'Cause of death',\n 'A brief description of the circumstances surrounding the death',\n 'Official disposition of death (justified or other)',\n 'Criminal Charges?',\n 'Link to news article or photo of official document',\n 'Symptoms of mental illness?',\n 'Armed/Unarmed Status',\n 'Alleged Weapon (Source: WaPo and Review of Cases Not Included in WaPo Database)',\n 'Alleged Threat Level (Source: WaPo)',\n 'Fleeing (Source: WaPo)',\n 'Body Camera (Source: WaPo)',\n 'WaPo ID (If included in WaPo database)',\n 'Off-Duty Killing?',\n 'Geography (via Trulia methodology based on zipcode population density: http://jedkolko.com/wp-content/uploads/2015/05/full-ZCTA-urban-suburban-rural-classification.xlsx )',\n 'MPV ID',\n 'Fatal Encounters ID',\n 'Encounter Type (DRAFT)',\n 'Initial Reported Reason for Encounter (DRAFT)',\n 'Names of Officers Involved (DRAFT)',\n 'Race of Officers Involved (DRAFT)',\n 'Known Past Shootings of Officer(s) (DRAFT)',\n 'Call for Service? (DRAFT)']"
     },
     "metadata": {}
    }
   ]
  },
  {
   "cell_type": "code",
   "metadata": {
    "tags": [],
    "cell_id": "00004-57f7a6c1-50f5-48c6-a40b-0e779530e2b4",
    "deepnote_to_be_reexecuted": false,
    "source_hash": "49881212",
    "execution_start": 1621870427456,
    "execution_millis": 5,
    "deepnote_cell_type": "code"
   },
   "source": "columns = [\"name\",\n \"age\",\n \"gender\",\n \"race\",\n 'img_url',\n 'date',\n 'address',\n 'city',\n 'state',\n 'zipcode',\n 'county',\n 'agency_responsible',\n 'ori_agency_identifier',\n 'cause_of_death',\n 'description_of_circumstances',\n 'official_disposition',\n 'criminal_charges_filed',\n 'news_article_or_photo_of_official_document',\n 'mental_illness',\n 'armed_unarmed_status',\n 'alleged_weapon',\n 'alleged_threat_lvl',\n 'fleeing',\n 'body_camera',\n 'wapo_id',\n 'off_duty_killing',\n 'geography',\n 'mpv_id',\n 'fatal_encounters_id',\n 'encounter_type_draft',\n 'initial_reported_reason_for_encounter_draft',\n 'names_of_officers_involved_draft',\n 'race_of_officers_involved_draft',\n 'known_past_shootings_of_Officer_draft',\n 'call_for_service_draft']\n",
   "execution_count": null,
   "outputs": []
  },
  {
   "cell_type": "code",
   "metadata": {
    "tags": [],
    "cell_id": "00006-2dbf9773-547f-438b-ab35-2538784c11ca",
    "deepnote_to_be_reexecuted": false,
    "source_hash": "dc273454",
    "execution_start": 1621870427465,
    "execution_millis": 22,
    "deepnote_cell_type": "code"
   },
   "source": "columns",
   "execution_count": null,
   "outputs": [
    {
     "output_type": "execute_result",
     "execution_count": 6,
     "data": {
      "text/plain": "['name',\n 'age',\n 'gender',\n 'race',\n 'img_url',\n 'date',\n 'address',\n 'city',\n 'state',\n 'zipcode',\n 'county',\n 'agency_responsible',\n 'ori_agency_identifier',\n 'cause_of_death',\n 'description_of_circumstances',\n 'official_disposition',\n 'criminal_charges_filed',\n 'news_article_or_photo_of_official_document',\n 'mental_illness',\n 'armed_unarmed_status',\n 'alleged_weapon',\n 'alleged_threat_lvl',\n 'fleeing',\n 'body_camera',\n 'wapo_id',\n 'off_duty_killing',\n 'geography',\n 'mpv_id',\n 'fatal_encounters_id',\n 'encounter_type_draft',\n 'initial_reported_reason_for_encounter_draft',\n 'names_of_officers_involved_draft',\n 'race_of_officers_involved_draft',\n 'known_past_shootings_of_Officer_draft',\n 'call_for_service_draft']"
     },
     "metadata": {}
    }
   ]
  },
  {
   "cell_type": "code",
   "metadata": {
    "tags": [],
    "cell_id": "00005-609fdf2b-2d1a-4ed4-9f57-98357553dced",
    "deepnote_to_be_reexecuted": false,
    "source_hash": "341c17dd",
    "execution_start": 1621870427474,
    "execution_millis": 2,
    "deepnote_cell_type": "code"
   },
   "source": "df.columns = columns",
   "execution_count": null,
   "outputs": []
  },
  {
   "cell_type": "code",
   "metadata": {
    "tags": [],
    "cell_id": "00006-a4d5203e-67bc-4c78-b449-a4648ff7586b",
    "deepnote_to_be_reexecuted": false,
    "source_hash": "c085b6ba",
    "execution_start": 1621870427567,
    "execution_millis": 14,
    "deepnote_cell_type": "code"
   },
   "source": "df.head()",
   "execution_count": null,
   "outputs": [
    {
     "output_type": "execute_result",
     "execution_count": 8,
     "data": {
      "application/vnd.deepnote.dataframe.v2+json": {
       "row_count": 5,
       "column_count": 35,
       "columns": [
        {
         "name": "name",
         "dtype": "object",
         "stats": {
          "unique_count": 5,
          "nan_count": 0,
          "categories": [
           {
            "name": "Kalon Horton",
            "count": 1
           },
           {
            "name": "Name withheld by police",
            "count": 1
           },
           {
            "name": "3 others",
            "count": 3
           }
          ]
         }
        },
        {
         "name": "age",
         "dtype": "object",
         "stats": {
          "unique_count": 4,
          "nan_count": 1,
          "categories": [
           {
            "name": "29.0",
            "count": 1
           },
           {
            "name": "3 others",
            "count": 3
           },
           {
            "name": "Missing",
            "count": 1
           }
          ]
         }
        },
        {
         "name": "gender",
         "dtype": "object",
         "stats": {
          "unique_count": 1,
          "nan_count": 0,
          "categories": [
           {
            "name": "Male",
            "count": 5
           }
          ]
         }
        },
        {
         "name": "race",
         "dtype": "object",
         "stats": {
          "unique_count": 3,
          "nan_count": 0,
          "categories": [
           {
            "name": "Unknown Race",
            "count": 3
           },
           {
            "name": "Black",
            "count": 1
           },
           {
            "name": "Hispanic",
            "count": 1
           }
          ]
         }
        },
        {
         "name": "img_url",
         "dtype": "object",
         "stats": {
          "unique_count": 0,
          "nan_count": 5,
          "categories": [
           {
            "name": "Missing",
            "count": 5
           }
          ]
         }
        },
        {
         "name": "date",
         "dtype": "datetime64[ns]",
         "stats": {
          "unique_count": 2,
          "nan_count": 0,
          "min": "2021-05-08 00:00:00",
          "max": "2021-05-09 00:00:00",
          "histogram": [
           {
            "bin_start": 1620432000000000000,
            "bin_end": 1620440640000000000,
            "count": 2
           },
           {
            "bin_start": 1620440640000000000,
            "bin_end": 1620449280000000000,
            "count": 0
           },
           {
            "bin_start": 1620449280000000000,
            "bin_end": 1620457920000000000,
            "count": 0
           },
           {
            "bin_start": 1620457920000000000,
            "bin_end": 1620466560000000000,
            "count": 0
           },
           {
            "bin_start": 1620466560000000000,
            "bin_end": 1620475200000000000,
            "count": 0
           },
           {
            "bin_start": 1620475200000000000,
            "bin_end": 1620483840000000000,
            "count": 0
           },
           {
            "bin_start": 1620483840000000000,
            "bin_end": 1620492480000000000,
            "count": 0
           },
           {
            "bin_start": 1620492480000000000,
            "bin_end": 1620501120000000000,
            "count": 0
           },
           {
            "bin_start": 1620501120000000000,
            "bin_end": 1620509760000000000,
            "count": 0
           },
           {
            "bin_start": 1620509760000000000,
            "bin_end": 1620518400000000000,
            "count": 3
           }
          ]
         }
        },
        {
         "name": "address",
         "dtype": "object",
         "stats": {
          "unique_count": 1,
          "nan_count": 4,
          "categories": [
           {
            "name": "90 S. Main St.",
            "count": 1
           },
           {
            "name": "Missing",
            "count": 4
           }
          ]
         }
        },
        {
         "name": "city",
         "dtype": "object",
         "stats": {
          "unique_count": 5,
          "nan_count": 0,
          "categories": [
           {
            "name": "Lancaster",
            "count": 1
           },
           {
            "name": "Leicester",
            "count": 1
           },
           {
            "name": "3 others",
            "count": 3
           }
          ]
         }
        },
        {
         "name": "state",
         "dtype": "object",
         "stats": {
          "unique_count": 5,
          "nan_count": 0,
          "categories": [
           {
            "name": "TX",
            "count": 1
           },
           {
            "name": "MA",
            "count": 1
           },
           {
            "name": "3 others",
            "count": 3
           }
          ]
         }
        },
        {
         "name": "zipcode",
         "dtype": "float64",
         "stats": {
          "unique_count": 1,
          "nan_count": 4,
          "min": "1524.0",
          "max": "1524.0",
          "histogram": [
           {
            "bin_start": 1523.5,
            "bin_end": 1523.6,
            "count": 0
           },
           {
            "bin_start": 1523.6,
            "bin_end": 1523.7,
            "count": 0
           },
           {
            "bin_start": 1523.7,
            "bin_end": 1523.8,
            "count": 0
           },
           {
            "bin_start": 1523.8,
            "bin_end": 1523.9,
            "count": 0
           },
           {
            "bin_start": 1523.9,
            "bin_end": 1524,
            "count": 0
           },
           {
            "bin_start": 1524,
            "bin_end": 1524.1,
            "count": 1
           },
           {
            "bin_start": 1524.1,
            "bin_end": 1524.2,
            "count": 0
           },
           {
            "bin_start": 1524.2,
            "bin_end": 1524.3,
            "count": 0
           },
           {
            "bin_start": 1524.3,
            "bin_end": 1524.4,
            "count": 0
           },
           {
            "bin_start": 1524.4,
            "bin_end": 1524.5,
            "count": 0
           }
          ]
         }
        },
        {
         "name": "county",
         "dtype": "object",
         "stats": {
          "unique_count": 2,
          "nan_count": 3,
          "categories": [
           {
            "name": "Worcester",
            "count": 1
           },
           {
            "name": "Riverside",
            "count": 1
           },
           {
            "name": "Missing",
            "count": 3
           }
          ]
         }
        },
        {
         "name": "agency_responsible",
         "dtype": "object",
         "stats": {
          "unique_count": 5,
          "nan_count": 0,
          "categories": [
           {
            "name": "Lancaster Police Department",
            "count": 1
           },
           {
            "name": "Leicester Police Department",
            "count": 1
           },
           {
            "name": "3 others",
            "count": 3
           }
          ]
         }
        },
        {
         "name": "ori_agency_identifier",
         "dtype": "object",
         "stats": {
          "unique_count": 5,
          "nan_count": 0,
          "categories": [
           {
            "name": "TX0571700",
            "count": 1
           },
           {
            "name": "MA0142400",
            "count": 1
           },
           {
            "name": "3 others",
            "count": 3
           }
          ]
         }
        },
        {
         "name": "cause_of_death",
         "dtype": "object",
         "stats": {
          "unique_count": 1,
          "nan_count": 0,
          "categories": [
           {
            "name": "Gunshot",
            "count": 5
           }
          ]
         }
        },
        {
         "name": "description_of_circumstances",
         "dtype": "object",
         "stats": {
          "unique_count": 5,
          "nan_count": 0,
          "categories": [
           {
            "name": "Police responded to a call of a man firing shots within an apartment complex. Officers went to Horton's apartment and forced their way in. Police claim Horton was armed, and they shot and killed him.",
            "count": 1
           },
           {
            "name": "A man allegedly crashed an SUV into the Leicester Police Station, repeatedly ramming his vehicle into the front doors until he gained entry into the building. Responding officers saw the SUV in the front door and encountered the man. Police claim the man placed a rifle on his shoulder and aimed it at the officers. The police officers shot and killed him.",
            "count": 1
           },
           {
            "name": "3 others",
            "count": 3
           }
          ]
         }
        },
        {
         "name": "official_disposition",
         "dtype": "object",
         "stats": {
          "unique_count": 1,
          "nan_count": 0,
          "categories": [
           {
            "name": "Pending investigation",
            "count": 5
           }
          ]
         }
        },
        {
         "name": "criminal_charges_filed",
         "dtype": "object",
         "stats": {
          "unique_count": 1,
          "nan_count": 0,
          "categories": [
           {
            "name": "No known charges",
            "count": 5
           }
          ]
         }
        },
        {
         "name": "news_article_or_photo_of_official_document",
         "dtype": "object",
         "stats": {
          "unique_count": 5,
          "nan_count": 0,
          "categories": [
           {
            "name": "https://www.fox4news.com/news/lancaster-police-officers-involved-in-shooting",
            "count": 1
           },
           {
            "name": "https://www.wcvb.com/article/leicester-police-station-shooting-car-crash-massachusetts/36374400",
            "count": 1
           },
           {
            "name": "3 others",
            "count": 3
           }
          ]
         }
        },
        {
         "name": "mental_illness",
         "dtype": "object",
         "stats": {
          "unique_count": 2,
          "nan_count": 0,
          "categories": [
           {
            "name": "No",
            "count": 4
           },
           {
            "name": "Yes",
            "count": 1
           }
          ]
         }
        },
        {
         "name": "armed_unarmed_status",
         "dtype": "object",
         "stats": {
          "unique_count": 1,
          "nan_count": 0,
          "categories": [
           {
            "name": "Allegedly Armed",
            "count": 5
           }
          ]
         }
        },
        {
         "name": "alleged_weapon",
         "dtype": "object",
         "stats": {
          "unique_count": 1,
          "nan_count": 0,
          "categories": [
           {
            "name": "gun",
            "count": 5
           }
          ]
         }
        },
        {
         "name": "alleged_threat_lvl",
         "dtype": "object",
         "stats": {
          "unique_count": 1,
          "nan_count": 0,
          "categories": [
           {
            "name": "attack",
            "count": 5
           }
          ]
         }
        },
        {
         "name": "fleeing",
         "dtype": "object",
         "stats": {
          "unique_count": 1,
          "nan_count": 1,
          "categories": [
           {
            "name": "not fleeing",
            "count": 4
           },
           {
            "name": "Missing",
            "count": 1
           }
          ]
         }
        },
        {
         "name": "body_camera",
         "dtype": "object",
         "stats": {
          "unique_count": 1,
          "nan_count": 0,
          "categories": [
           {
            "name": "no",
            "count": 5
           }
          ]
         }
        },
        {
         "name": "wapo_id",
         "dtype": "float64",
         "stats": {
          "unique_count": 5,
          "nan_count": 0,
          "min": "6841.0",
          "max": "6846.0",
          "histogram": [
           {
            "bin_start": 6841,
            "bin_end": 6841.5,
            "count": 1
           },
           {
            "bin_start": 6841.5,
            "bin_end": 6842,
            "count": 0
           },
           {
            "bin_start": 6842,
            "bin_end": 6842.5,
            "count": 1
           },
           {
            "bin_start": 6842.5,
            "bin_end": 6843,
            "count": 0
           },
           {
            "bin_start": 6843,
            "bin_end": 6843.5,
            "count": 0
           },
           {
            "bin_start": 6843.5,
            "bin_end": 6844,
            "count": 0
           },
           {
            "bin_start": 6844,
            "bin_end": 6844.5,
            "count": 1
           },
           {
            "bin_start": 6844.5,
            "bin_end": 6845,
            "count": 0
           },
           {
            "bin_start": 6845,
            "bin_end": 6845.5,
            "count": 1
           },
           {
            "bin_start": 6845.5,
            "bin_end": 6846,
            "count": 1
           }
          ]
         }
        },
        {
         "name": "off_duty_killing",
         "dtype": "object",
         "stats": {
          "unique_count": 0,
          "nan_count": 5,
          "categories": [
           {
            "name": "Missing",
            "count": 5
           }
          ]
         }
        },
        {
         "name": "geography",
         "dtype": "object",
         "stats": {
          "unique_count": 1,
          "nan_count": 4,
          "categories": [
           {
            "name": "Suburban",
            "count": 1
           },
           {
            "name": "Missing",
            "count": 4
           }
          ]
         }
        },
        {
         "name": "mpv_id",
         "dtype": "float64",
         "stats": {
          "unique_count": 0,
          "nan_count": 5,
          "min": null,
          "max": null,
          "histogram": [
           {
            "bin_start": 0,
            "bin_end": 0.1,
            "count": 0
           },
           {
            "bin_start": 0.1,
            "bin_end": 0.2,
            "count": 0
           },
           {
            "bin_start": 0.2,
            "bin_end": 0.30000000000000004,
            "count": 0
           },
           {
            "bin_start": 0.30000000000000004,
            "bin_end": 0.4,
            "count": 0
           },
           {
            "bin_start": 0.4,
            "bin_end": 0.5,
            "count": 0
           },
           {
            "bin_start": 0.5,
            "bin_end": 0.6000000000000001,
            "count": 0
           },
           {
            "bin_start": 0.6000000000000001,
            "bin_end": 0.7000000000000001,
            "count": 0
           },
           {
            "bin_start": 0.7000000000000001,
            "bin_end": 0.8,
            "count": 0
           },
           {
            "bin_start": 0.8,
            "bin_end": 0.9,
            "count": 0
           },
           {
            "bin_start": 0.9,
            "bin_end": 1,
            "count": 0
           }
          ]
         }
        },
        {
         "name": "fatal_encounters_id",
         "dtype": "float64",
         "stats": {
          "unique_count": 0,
          "nan_count": 5,
          "min": null,
          "max": null,
          "histogram": [
           {
            "bin_start": 0,
            "bin_end": 0.1,
            "count": 0
           },
           {
            "bin_start": 0.1,
            "bin_end": 0.2,
            "count": 0
           },
           {
            "bin_start": 0.2,
            "bin_end": 0.30000000000000004,
            "count": 0
           },
           {
            "bin_start": 0.30000000000000004,
            "bin_end": 0.4,
            "count": 0
           },
           {
            "bin_start": 0.4,
            "bin_end": 0.5,
            "count": 0
           },
           {
            "bin_start": 0.5,
            "bin_end": 0.6000000000000001,
            "count": 0
           },
           {
            "bin_start": 0.6000000000000001,
            "bin_end": 0.7000000000000001,
            "count": 0
           },
           {
            "bin_start": 0.7000000000000001,
            "bin_end": 0.8,
            "count": 0
           },
           {
            "bin_start": 0.8,
            "bin_end": 0.9,
            "count": 0
           },
           {
            "bin_start": 0.9,
            "bin_end": 1,
            "count": 0
           }
          ]
         }
        },
        {
         "name": "encounter_type_draft",
         "dtype": "object",
         "stats": {
          "unique_count": 3,
          "nan_count": 0,
          "categories": [
           {
            "name": "Part 1 Violent Crime",
            "count": 3
           },
           {
            "name": "Other",
            "count": 1
           },
           {
            "name": "Person with a gun",
            "count": 1
           }
          ]
         }
        },
        {
         "name": "initial_reported_reason_for_encounter_draft",
         "dtype": "object",
         "stats": {
          "unique_count": 4,
          "nan_count": 0,
          "categories": [
           {
            "name": "murder",
            "count": 2
           },
           {
            "name": "gunshots",
            "count": 1
           },
           {
            "name": "2 others",
            "count": 2
           }
          ]
         }
        },
        {
         "name": "names_of_officers_involved_draft",
         "dtype": "object",
         "stats": {
          "unique_count": 0,
          "nan_count": 5,
          "categories": [
           {
            "name": "Missing",
            "count": 5
           }
          ]
         }
        },
        {
         "name": "race_of_officers_involved_draft",
         "dtype": "object",
         "stats": {
          "unique_count": 0,
          "nan_count": 5,
          "categories": [
           {
            "name": "Missing",
            "count": 5
           }
          ]
         }
        },
        {
         "name": "known_past_shootings_of_Officer_draft",
         "dtype": "object",
         "stats": {
          "unique_count": 0,
          "nan_count": 5,
          "categories": [
           {
            "name": "Missing",
            "count": 5
           }
          ]
         }
        },
        {
         "name": "call_for_service_draft",
         "dtype": "object",
         "stats": {
          "unique_count": 2,
          "nan_count": 0,
          "categories": [
           {
            "name": "Yes",
            "count": 4
           },
           {
            "name": "No",
            "count": 1
           }
          ]
         }
        },
        {
         "name": "_deepnote_index_column",
         "dtype": "int64"
        }
       ],
       "rows_top": [
        {
         "name": "Kalon Horton",
         "age": "29",
         "gender": "Male",
         "race": "Black",
         "img_url": "nan",
         "date": "2021-05-09T00:00:00.000000",
         "address": "nan",
         "city": "Lancaster",
         "state": "TX",
         "zipcode": "nan",
         "county": "nan",
         "agency_responsible": "Lancaster Police Department",
         "ori_agency_identifier": "TX0571700",
         "cause_of_death": "Gunshot",
         "description_of_circumstances": "Police responded to a call of a man firing shots within an apartment complex. Officers went to Horton's apartment and forced their way in. Police claim Horton was armed, and they shot and killed him.",
         "official_disposition": "Pending investigation",
         "criminal_charges_filed": "No known charges",
         "news_article_or_photo_of_official_document": "https://www.fox4news.com/news/lancaster-police-officers-involved-in-shooting",
         "mental_illness": "No",
         "armed_unarmed_status": "Allegedly Armed",
         "alleged_weapon": "gun",
         "alleged_threat_lvl": "attack",
         "fleeing": "nan",
         "body_camera": "no",
         "wapo_id": 6842,
         "off_duty_killing": "nan",
         "geography": "nan",
         "mpv_id": "nan",
         "fatal_encounters_id": "nan",
         "encounter_type_draft": "Part 1 Violent Crime",
         "initial_reported_reason_for_encounter_draft": "gunshots",
         "names_of_officers_involved_draft": "nan",
         "race_of_officers_involved_draft": "nan",
         "known_past_shootings_of_Officer_draft": "nan",
         "call_for_service_draft": "Yes",
         "_deepnote_index_column": 0
        },
        {
         "name": "Name withheld by police",
         "age": "nan",
         "gender": "Male",
         "race": "Unknown Race",
         "img_url": "nan",
         "date": "2021-05-09T00:00:00.000000",
         "address": "90 S. Main St.",
         "city": "Leicester",
         "state": "MA",
         "zipcode": "1524.0",
         "county": "Worcester",
         "agency_responsible": "Leicester Police Department",
         "ori_agency_identifier": "MA0142400",
         "cause_of_death": "Gunshot",
         "description_of_circumstances": "A man allegedly crashed an SUV into the Leicester Police Station, repeatedly ramming his vehicle into the front doors until he gained entry into the building. Responding officers saw the SUV in the front door and encountered the man. Police claim the man placed a rifle on his shoulder and aimed it at the officers. The police officers shot and killed him.",
         "official_disposition": "Pending investigation",
         "criminal_charges_filed": "No known charges",
         "news_article_or_photo_of_official_document": "https://www.wcvb.com/article/leicester-police-station-shooting-car-crash-massachusetts/36374400",
         "mental_illness": "No",
         "armed_unarmed_status": "Allegedly Armed",
         "alleged_weapon": "gun",
         "alleged_threat_lvl": "attack",
         "fleeing": "not fleeing",
         "body_camera": "no",
         "wapo_id": 6844,
         "off_duty_killing": "nan",
         "geography": "Suburban",
         "mpv_id": "nan",
         "fatal_encounters_id": "nan",
         "encounter_type_draft": "Other",
         "initial_reported_reason_for_encounter_draft": "deliberate car crash",
         "names_of_officers_involved_draft": "nan",
         "race_of_officers_involved_draft": "nan",
         "known_past_shootings_of_Officer_draft": "nan",
         "call_for_service_draft": "Yes",
         "_deepnote_index_column": 1
        },
        {
         "name": "Jeffrey Mark Murray",
         "age": "62",
         "gender": "Male",
         "race": "Unknown Race",
         "img_url": "nan",
         "date": "2021-05-09T00:00:00.000000",
         "address": "nan",
         "city": "Greenville",
         "state": "SC",
         "zipcode": "nan",
         "county": "nan",
         "agency_responsible": "Greenville Police Department",
         "ori_agency_identifier": "SC0230000",
         "cause_of_death": "Gunshot",
         "description_of_circumstances": "Murray allegedly shot and killed David Oliver while Oliver was on the phone with the police. Police found Murray and killed him. ",
         "official_disposition": "Pending investigation",
         "criminal_charges_filed": "No known charges",
         "news_article_or_photo_of_official_document": "https://www.seattletimes.com/nation-world/nation/cyclist-killed-in-dispute-shooter-dies-in-police-gun-battle/",
         "mental_illness": "No",
         "armed_unarmed_status": "Allegedly Armed",
         "alleged_weapon": "gun",
         "alleged_threat_lvl": "attack",
         "fleeing": "not fleeing",
         "body_camera": "no",
         "wapo_id": 6841,
         "off_duty_killing": "nan",
         "geography": "nan",
         "mpv_id": "nan",
         "fatal_encounters_id": "nan",
         "encounter_type_draft": "Part 1 Violent Crime",
         "initial_reported_reason_for_encounter_draft": "murder",
         "names_of_officers_involved_draft": "nan",
         "race_of_officers_involved_draft": "nan",
         "known_past_shootings_of_Officer_draft": "nan",
         "call_for_service_draft": "Yes",
         "_deepnote_index_column": 2
        },
        {
         "name": "Everton Brown",
         "age": "56",
         "gender": "Male",
         "race": "Unknown Race",
         "img_url": "nan",
         "date": "2021-05-08T00:00:00.000000",
         "address": "nan",
         "city": "Baltimore",
         "state": "MD",
         "zipcode": "nan",
         "county": "nan",
         "agency_responsible": "Baltimore County Police Department",
         "ori_agency_identifier": "MD0030000",
         "cause_of_death": "Gunshot",
         "description_of_circumstances": "Brown allegedly shot and killed two neighbors, and injured another. Police responded to the scene and found Brown in a parking lot. Police allegedly commanded Brown to drop his gun and Brown refused. At least four officers shot at Brown, killing him. ",
         "official_disposition": "Pending investigation",
         "criminal_charges_filed": "No known charges",
         "news_article_or_photo_of_official_document": "https://abcnews.go.com/US/wireStory/police-maryland-man-killed-neighbors-set-house-ablaze-77591766",
         "mental_illness": "Yes",
         "armed_unarmed_status": "Allegedly Armed",
         "alleged_weapon": "gun",
         "alleged_threat_lvl": "attack",
         "fleeing": "not fleeing",
         "body_camera": "no",
         "wapo_id": 6846,
         "off_duty_killing": "nan",
         "geography": "nan",
         "mpv_id": "nan",
         "fatal_encounters_id": "nan",
         "encounter_type_draft": "Part 1 Violent Crime",
         "initial_reported_reason_for_encounter_draft": "murder",
         "names_of_officers_involved_draft": "nan",
         "race_of_officers_involved_draft": "nan",
         "known_past_shootings_of_Officer_draft": "nan",
         "call_for_service_draft": "Yes",
         "_deepnote_index_column": 3
        },
        {
         "name": "Felix Jerry Marquez",
         "age": "34",
         "gender": "Male",
         "race": "Hispanic",
         "img_url": "nan",
         "date": "2021-05-08T00:00:00.000000",
         "address": "nan",
         "city": "Riverside",
         "state": "CA",
         "zipcode": "nan",
         "county": "Riverside",
         "agency_responsible": "Riverside Police Department",
         "ori_agency_identifier": "CA0331300",
         "cause_of_death": "Gunshot",
         "description_of_circumstances": "Officers who were part of a homeless outreach unit encountered Marquez and claim he pulled a handgun, pointing it at them. The officers shot and killed Marquez. ",
         "official_disposition": "Pending investigation",
         "criminal_charges_filed": "No known charges",
         "news_article_or_photo_of_official_document": "https://www.avpress.com/news/police-shoot-man-who-pulled-gun/article_cd0b7314-b138-11eb-a877-6f0ab8fbc496.html",
         "mental_illness": "No",
         "armed_unarmed_status": "Allegedly Armed",
         "alleged_weapon": "gun",
         "alleged_threat_lvl": "attack",
         "fleeing": "not fleeing",
         "body_camera": "no",
         "wapo_id": 6845,
         "off_duty_killing": "nan",
         "geography": "nan",
         "mpv_id": "nan",
         "fatal_encounters_id": "nan",
         "encounter_type_draft": "Person with a gun",
         "initial_reported_reason_for_encounter_draft": "person with a gun",
         "names_of_officers_involved_draft": "nan",
         "race_of_officers_involved_draft": "nan",
         "known_past_shootings_of_Officer_draft": "nan",
         "call_for_service_draft": "No",
         "_deepnote_index_column": 4
        }
       ],
       "rows_bottom": null
      },
      "text/plain": "                      name  age gender          race img_url       date  \\\n0             Kalon Horton   29   Male         Black     NaN 2021-05-09   \n1  Name withheld by police  NaN   Male  Unknown Race     NaN 2021-05-09   \n2      Jeffrey Mark Murray   62   Male  Unknown Race     NaN 2021-05-09   \n3            Everton Brown   56   Male  Unknown Race     NaN 2021-05-08   \n4      Felix Jerry Marquez   34   Male      Hispanic     NaN 2021-05-08   \n\n          address        city state  zipcode  ... off_duty_killing geography  \\\n0             NaN   Lancaster    TX      NaN  ...              NaN       NaN   \n1  90 S. Main St.   Leicester    MA   1524.0  ...              NaN  Suburban   \n2             NaN  Greenville    SC      NaN  ...              NaN       NaN   \n3             NaN   Baltimore    MD      NaN  ...              NaN       NaN   \n4             NaN   Riverside    CA      NaN  ...              NaN       NaN   \n\n  mpv_id fatal_encounters_id  encounter_type_draft  \\\n0    NaN                 NaN  Part 1 Violent Crime   \n1    NaN                 NaN                 Other   \n2    NaN                 NaN  Part 1 Violent Crime   \n3    NaN                 NaN  Part 1 Violent Crime   \n4    NaN                 NaN     Person with a gun   \n\n  initial_reported_reason_for_encounter_draft  \\\n0                                    gunshots   \n1                        deliberate car crash   \n2                                      murder   \n3                                      murder   \n4                           person with a gun   \n\n  names_of_officers_involved_draft race_of_officers_involved_draft  \\\n0                              NaN                             NaN   \n1                              NaN                             NaN   \n2                              NaN                             NaN   \n3                              NaN                             NaN   \n4                              NaN                             NaN   \n\n  known_past_shootings_of_Officer_draft call_for_service_draft  \n0                                   NaN                    Yes  \n1                                   NaN                    Yes  \n2                                   NaN                    Yes  \n3                                   NaN                    Yes  \n4                                   NaN                     No  \n\n[5 rows x 35 columns]",
      "text/html": "<div>\n<style scoped>\n    .dataframe tbody tr th:only-of-type {\n        vertical-align: middle;\n    }\n\n    .dataframe tbody tr th {\n        vertical-align: top;\n    }\n\n    .dataframe thead th {\n        text-align: right;\n    }\n</style>\n<table border=\"1\" class=\"dataframe\">\n  <thead>\n    <tr style=\"text-align: right;\">\n      <th></th>\n      <th>name</th>\n      <th>age</th>\n      <th>gender</th>\n      <th>race</th>\n      <th>img_url</th>\n      <th>date</th>\n      <th>address</th>\n      <th>city</th>\n      <th>state</th>\n      <th>zipcode</th>\n      <th>...</th>\n      <th>off_duty_killing</th>\n      <th>geography</th>\n      <th>mpv_id</th>\n      <th>fatal_encounters_id</th>\n      <th>encounter_type_draft</th>\n      <th>initial_reported_reason_for_encounter_draft</th>\n      <th>names_of_officers_involved_draft</th>\n      <th>race_of_officers_involved_draft</th>\n      <th>known_past_shootings_of_Officer_draft</th>\n      <th>call_for_service_draft</th>\n    </tr>\n  </thead>\n  <tbody>\n    <tr>\n      <th>0</th>\n      <td>Kalon Horton</td>\n      <td>29</td>\n      <td>Male</td>\n      <td>Black</td>\n      <td>NaN</td>\n      <td>2021-05-09</td>\n      <td>NaN</td>\n      <td>Lancaster</td>\n      <td>TX</td>\n      <td>NaN</td>\n      <td>...</td>\n      <td>NaN</td>\n      <td>NaN</td>\n      <td>NaN</td>\n      <td>NaN</td>\n      <td>Part 1 Violent Crime</td>\n      <td>gunshots</td>\n      <td>NaN</td>\n      <td>NaN</td>\n      <td>NaN</td>\n      <td>Yes</td>\n    </tr>\n    <tr>\n      <th>1</th>\n      <td>Name withheld by police</td>\n      <td>NaN</td>\n      <td>Male</td>\n      <td>Unknown Race</td>\n      <td>NaN</td>\n      <td>2021-05-09</td>\n      <td>90 S. Main St.</td>\n      <td>Leicester</td>\n      <td>MA</td>\n      <td>1524.0</td>\n      <td>...</td>\n      <td>NaN</td>\n      <td>Suburban</td>\n      <td>NaN</td>\n      <td>NaN</td>\n      <td>Other</td>\n      <td>deliberate car crash</td>\n      <td>NaN</td>\n      <td>NaN</td>\n      <td>NaN</td>\n      <td>Yes</td>\n    </tr>\n    <tr>\n      <th>2</th>\n      <td>Jeffrey Mark Murray</td>\n      <td>62</td>\n      <td>Male</td>\n      <td>Unknown Race</td>\n      <td>NaN</td>\n      <td>2021-05-09</td>\n      <td>NaN</td>\n      <td>Greenville</td>\n      <td>SC</td>\n      <td>NaN</td>\n      <td>...</td>\n      <td>NaN</td>\n      <td>NaN</td>\n      <td>NaN</td>\n      <td>NaN</td>\n      <td>Part 1 Violent Crime</td>\n      <td>murder</td>\n      <td>NaN</td>\n      <td>NaN</td>\n      <td>NaN</td>\n      <td>Yes</td>\n    </tr>\n    <tr>\n      <th>3</th>\n      <td>Everton Brown</td>\n      <td>56</td>\n      <td>Male</td>\n      <td>Unknown Race</td>\n      <td>NaN</td>\n      <td>2021-05-08</td>\n      <td>NaN</td>\n      <td>Baltimore</td>\n      <td>MD</td>\n      <td>NaN</td>\n      <td>...</td>\n      <td>NaN</td>\n      <td>NaN</td>\n      <td>NaN</td>\n      <td>NaN</td>\n      <td>Part 1 Violent Crime</td>\n      <td>murder</td>\n      <td>NaN</td>\n      <td>NaN</td>\n      <td>NaN</td>\n      <td>Yes</td>\n    </tr>\n    <tr>\n      <th>4</th>\n      <td>Felix Jerry Marquez</td>\n      <td>34</td>\n      <td>Male</td>\n      <td>Hispanic</td>\n      <td>NaN</td>\n      <td>2021-05-08</td>\n      <td>NaN</td>\n      <td>Riverside</td>\n      <td>CA</td>\n      <td>NaN</td>\n      <td>...</td>\n      <td>NaN</td>\n      <td>NaN</td>\n      <td>NaN</td>\n      <td>NaN</td>\n      <td>Person with a gun</td>\n      <td>person with a gun</td>\n      <td>NaN</td>\n      <td>NaN</td>\n      <td>NaN</td>\n      <td>No</td>\n    </tr>\n  </tbody>\n</table>\n<p>5 rows × 35 columns</p>\n</div>"
     },
     "metadata": {}
    }
   ]
  },
  {
   "cell_type": "code",
   "metadata": {
    "tags": [],
    "cell_id": "00007-922a8333-141c-4189-a980-390ffc90a412",
    "deepnote_to_be_reexecuted": false,
    "source_hash": "de1e323c",
    "execution_start": 1621870427589,
    "execution_millis": 23,
    "deepnote_cell_type": "code"
   },
   "source": "df.info()",
   "execution_count": null,
   "outputs": [
    {
     "name": "stdout",
     "text": "<class 'pandas.core.frame.DataFrame'>\nRangeIndex: 9147 entries, 0 to 9146\nData columns (total 35 columns):\n #   Column                                       Non-Null Count  Dtype         \n---  ------                                       --------------  -----         \n 0   name                                         9147 non-null   object        \n 1   age                                          9138 non-null   object        \n 2   gender                                       9137 non-null   object        \n 3   race                                         9147 non-null   object        \n 4   img_url                                      4882 non-null   object        \n 5   date                                         9147 non-null   datetime64[ns]\n 6   address                                      9042 non-null   object        \n 7   city                                         9138 non-null   object        \n 8   state                                        9147 non-null   object        \n 9   zipcode                                      9099 non-null   float64       \n 10  county                                       9130 non-null   object        \n 11  agency_responsible                           9143 non-null   object        \n 12  ori_agency_identifier                        9144 non-null   object        \n 13  cause_of_death                               9147 non-null   object        \n 14  description_of_circumstances                 9132 non-null   object        \n 15  official_disposition                         9136 non-null   object        \n 16  criminal_charges_filed                       9147 non-null   object        \n 17  news_article_or_photo_of_official_document   9147 non-null   object        \n 18  mental_illness                               9086 non-null   object        \n 19  armed_unarmed_status                         9147 non-null   object        \n 20  alleged_weapon                               9147 non-null   object        \n 21  alleged_threat_lvl                           6750 non-null   object        \n 22  fleeing                                      6056 non-null   object        \n 23  body_camera                                  5982 non-null   object        \n 24  wapo_id                                      6048 non-null   float64       \n 25  off_duty_killing                             248 non-null    object        \n 26  geography                                    9122 non-null   object        \n 27  mpv_id                                       9068 non-null   float64       \n 28  fatal_encounters_id                          9016 non-null   float64       \n 29  encounter_type_draft                         4839 non-null   object        \n 30  initial_reported_reason_for_encounter_draft  4839 non-null   object        \n 31  names_of_officers_involved_draft             1394 non-null   object        \n 32  race_of_officers_involved_draft              341 non-null    object        \n 33  known_past_shootings_of_Officer_draft        74 non-null     object        \n 34  call_for_service_draft                       3616 non-null   object        \ndtypes: datetime64[ns](1), float64(4), object(30)\nmemory usage: 2.4+ MB\n",
     "output_type": "stream"
    }
   ]
  },
  {
   "cell_type": "markdown",
   "source": "## Next obvious data types:\n- age is object: convert to int \n    - inspect age value counts... why null?",
   "metadata": {
    "tags": [],
    "cell_id": "00009-a428ac4b-2768-4bfe-afab-46ec2104f5d5",
    "deepnote_cell_type": "markdown"
   }
  },
  {
   "cell_type": "code",
   "metadata": {
    "tags": [],
    "cell_id": "00011-59bb5367-a4a2-4be6-aa91-5b67a2e6a691",
    "deepnote_to_be_reexecuted": false,
    "source_hash": "e802f30e",
    "execution_start": 1621870427608,
    "execution_millis": 133,
    "deepnote_cell_type": "code"
   },
   "source": "df[df.age.isnull() == True]",
   "execution_count": null,
   "outputs": [
    {
     "output_type": "execute_result",
     "execution_count": 10,
     "data": {
      "application/vnd.deepnote.dataframe.v2+json": {
       "row_count": 9,
       "column_count": 35,
       "columns": [
        {
         "name": "name",
         "dtype": "object",
         "stats": {
          "unique_count": 7,
          "nan_count": 0,
          "categories": [
           {
            "name": "Name withheld by police",
            "count": 3
           },
           {
            "name": "Harmony Wolfgram",
            "count": 1
           },
           {
            "name": "5 others",
            "count": 5
           }
          ]
         }
        },
        {
         "name": "age",
         "dtype": "object",
         "stats": {
          "unique_count": 0,
          "nan_count": 9,
          "categories": [
           {
            "name": "Missing",
            "count": 9
           }
          ]
         }
        },
        {
         "name": "gender",
         "dtype": "object",
         "stats": {
          "unique_count": 2,
          "nan_count": 0,
          "categories": [
           {
            "name": "Male",
            "count": 7
           },
           {
            "name": "Female",
            "count": 2
           }
          ]
         }
        },
        {
         "name": "race",
         "dtype": "object",
         "stats": {
          "unique_count": 4,
          "nan_count": 0,
          "categories": [
           {
            "name": "Unknown Race",
            "count": 3
           },
           {
            "name": "White",
            "count": 2
           },
           {
            "name": "2 others",
            "count": 4
           }
          ]
         }
        },
        {
         "name": "img_url",
         "dtype": "object",
         "stats": {
          "unique_count": 1,
          "nan_count": 8,
          "categories": [
           {
            "name": "https://fatalencounters.org/wp-content/uploads/2021/01/Steven-Verdone.jpg",
            "count": 1
           },
           {
            "name": "Missing",
            "count": 8
           }
          ]
         }
        },
        {
         "name": "date",
         "dtype": "datetime64[ns]",
         "stats": {
          "unique_count": 9,
          "nan_count": 0,
          "min": "2020-11-13 00:00:00",
          "max": "2021-05-09 00:00:00",
          "histogram": [
           {
            "bin_start": 1605225600000000000,
            "bin_end": 1606754880000000000,
            "count": 2
           },
           {
            "bin_start": 1606754880000000000,
            "bin_end": 1608284160000000000,
            "count": 0
           },
           {
            "bin_start": 1608284160000000000,
            "bin_end": 1609813440000000000,
            "count": 3
           },
           {
            "bin_start": 1609813440000000000,
            "bin_end": 1611342720000000000,
            "count": 1
           },
           {
            "bin_start": 1611342720000000000,
            "bin_end": 1612872000000000000,
            "count": 1
           },
           {
            "bin_start": 1612872000000000000,
            "bin_end": 1614401280000000000,
            "count": 0
           },
           {
            "bin_start": 1614401280000000000,
            "bin_end": 1615930560000000000,
            "count": 0
           },
           {
            "bin_start": 1615930560000000000,
            "bin_end": 1617459840000000000,
            "count": 0
           },
           {
            "bin_start": 1617459840000000000,
            "bin_end": 1618989120000000000,
            "count": 1
           },
           {
            "bin_start": 1618989120000000000,
            "bin_end": 1620518400000000000,
            "count": 1
           }
          ]
         }
        },
        {
         "name": "address",
         "dtype": "object",
         "stats": {
          "unique_count": 9,
          "nan_count": 0,
          "categories": [
           {
            "name": "90 S. Main St.",
            "count": 1
           },
           {
            "name": "1100 McVicar Ave.",
            "count": 1
           },
           {
            "name": "7 others",
            "count": 7
           }
          ]
         }
        },
        {
         "name": "city",
         "dtype": "object",
         "stats": {
          "unique_count": 9,
          "nan_count": 0,
          "categories": [
           {
            "name": "Leicester",
            "count": 1
           },
           {
            "name": "Kingman",
            "count": 1
           },
           {
            "name": "7 others",
            "count": 7
           }
          ]
         }
        },
        {
         "name": "state",
         "dtype": "object",
         "stats": {
          "unique_count": 7,
          "nan_count": 0,
          "categories": [
           {
            "name": "AZ",
            "count": 2
           },
           {
            "name": "FL",
            "count": 2
           },
           {
            "name": "5 others",
            "count": 5
           }
          ]
         }
        },
        {
         "name": "zipcode",
         "dtype": "float64",
         "stats": {
          "unique_count": 9,
          "nan_count": 0,
          "min": "1524.0",
          "max": "90303.0",
          "histogram": [
           {
            "bin_start": 1524,
            "bin_end": 10401.9,
            "count": 1
           },
           {
            "bin_start": 10401.9,
            "bin_end": 19279.8,
            "count": 0
           },
           {
            "bin_start": 19279.8,
            "bin_end": 28157.699999999997,
            "count": 0
           },
           {
            "bin_start": 28157.699999999997,
            "bin_end": 37035.6,
            "count": 3
           },
           {
            "bin_start": 37035.6,
            "bin_end": 45913.5,
            "count": 1
           },
           {
            "bin_start": 45913.5,
            "bin_end": 54791.399999999994,
            "count": 0
           },
           {
            "bin_start": 54791.399999999994,
            "bin_end": 63669.299999999996,
            "count": 0
           },
           {
            "bin_start": 63669.299999999996,
            "bin_end": 72547.2,
            "count": 0
           },
           {
            "bin_start": 72547.2,
            "bin_end": 81425.09999999999,
            "count": 1
           },
           {
            "bin_start": 81425.09999999999,
            "bin_end": 90303,
            "count": 3
           }
          ]
         }
        },
        {
         "name": "county",
         "dtype": "object",
         "stats": {
          "unique_count": 9,
          "nan_count": 0,
          "categories": [
           {
            "name": "Worcester",
            "count": 1
           },
           {
            "name": "Mohave",
            "count": 1
           },
           {
            "name": "7 others",
            "count": 7
           }
          ]
         }
        },
        {
         "name": "agency_responsible",
         "dtype": "object",
         "stats": {
          "unique_count": 9,
          "nan_count": 0,
          "categories": [
           {
            "name": "Leicester Police Department",
            "count": 1
           },
           {
            "name": "Mohave County Sheriff's Office",
            "count": 1
           },
           {
            "name": "7 others",
            "count": 7
           }
          ]
         }
        },
        {
         "name": "ori_agency_identifier",
         "dtype": "object",
         "stats": {
          "unique_count": 9,
          "nan_count": 0,
          "categories": [
           {
            "name": "MA0142400",
            "count": 1
           },
           {
            "name": "AZ0080000",
            "count": 1
           },
           {
            "name": "7 others",
            "count": 7
           }
          ]
         }
        },
        {
         "name": "cause_of_death",
         "dtype": "object",
         "stats": {
          "unique_count": 1,
          "nan_count": 0,
          "categories": [
           {
            "name": "Gunshot",
            "count": 9
           }
          ]
         }
        },
        {
         "name": "description_of_circumstances",
         "dtype": "object",
         "stats": {
          "unique_count": 9,
          "nan_count": 0,
          "categories": [
           {
            "name": "A man allegedly crashed an SUV into the Leicester Police Station, repeatedly ramming his vehicle into the front doors until he gained entry into the building. Responding officers saw the SUV in the front door and encountered the man. Police claim the man placed a rifle on his shoulder and aimed it at the officers. The police officers shot and killed him.",
            "count": 1
           },
           {
            "name": "A deputy shot and killed a man following several pursuits. Details as to what precipitated the killing were withheld by police.",
            "count": 1
           },
           {
            "name": "7 others",
            "count": 7
           }
          ]
         }
        },
        {
         "name": "official_disposition",
         "dtype": "object",
         "stats": {
          "unique_count": 1,
          "nan_count": 0,
          "categories": [
           {
            "name": "Pending investigation",
            "count": 9
           }
          ]
         }
        },
        {
         "name": "criminal_charges_filed",
         "dtype": "object",
         "stats": {
          "unique_count": 1,
          "nan_count": 0,
          "categories": [
           {
            "name": "No known charges",
            "count": 9
           }
          ]
         }
        },
        {
         "name": "news_article_or_photo_of_official_document",
         "dtype": "object",
         "stats": {
          "unique_count": 9,
          "nan_count": 0,
          "categories": [
           {
            "name": "https://www.wcvb.com/article/leicester-police-station-shooting-car-crash-massachusetts/36374400",
            "count": 1
           },
           {
            "name": "https://www.12news.com/article/news/local/arizona/pd-mohave-county-deputy-shoots-kills-man-after-multiple-vehicle-pursuits/75-afaf6649-2b76-4134-8646-74cb767e8a94",
            "count": 1
           },
           {
            "name": "7 others",
            "count": 7
           }
          ]
         }
        },
        {
         "name": "mental_illness",
         "dtype": "object",
         "stats": {
          "unique_count": 2,
          "nan_count": 0,
          "categories": [
           {
            "name": "No",
            "count": 7
           },
           {
            "name": "Unknown",
            "count": 2
           }
          ]
         }
        },
        {
         "name": "armed_unarmed_status",
         "dtype": "object",
         "stats": {
          "unique_count": 3,
          "nan_count": 0,
          "categories": [
           {
            "name": "Allegedly Armed",
            "count": 4
           },
           {
            "name": "Vehicle",
            "count": 3
           },
           {
            "name": "Allegedly armed",
            "count": 2
           }
          ]
         }
        },
        {
         "name": "alleged_weapon",
         "dtype": "object",
         "stats": {
          "unique_count": 3,
          "nan_count": 0,
          "categories": [
           {
            "name": "gun",
            "count": 5
           },
           {
            "name": "vehicle",
            "count": 3
           },
           {
            "name": "knife",
            "count": 1
           }
          ]
         }
        },
        {
         "name": "alleged_threat_lvl",
         "dtype": "object",
         "stats": {
          "unique_count": 2,
          "nan_count": 0,
          "categories": [
           {
            "name": "attack",
            "count": 6
           },
           {
            "name": "other",
            "count": 3
           }
          ]
         }
        },
        {
         "name": "fleeing",
         "dtype": "object",
         "stats": {
          "unique_count": 4,
          "nan_count": 2,
          "categories": [
           {
            "name": "not fleeing",
            "count": 4
           },
           {
            "name": "3 others",
            "count": 3
           },
           {
            "name": "Missing",
            "count": 2
           }
          ]
         }
        },
        {
         "name": "body_camera",
         "dtype": "object",
         "stats": {
          "unique_count": 2,
          "nan_count": 4,
          "categories": [
           {
            "name": "no",
            "count": 3
           },
           {
            "name": "No",
            "count": 2
           },
           {
            "name": "Missing",
            "count": 4
           }
          ]
         }
        },
        {
         "name": "wapo_id",
         "dtype": "float64",
         "stats": {
          "unique_count": 5,
          "nan_count": 4,
          "min": "6347.0",
          "max": "6844.0",
          "histogram": [
           {
            "bin_start": 6347,
            "bin_end": 6396.7,
            "count": 1
           },
           {
            "bin_start": 6396.7,
            "bin_end": 6446.4,
            "count": 0
           },
           {
            "bin_start": 6446.4,
            "bin_end": 6496.1,
            "count": 1
           },
           {
            "bin_start": 6496.1,
            "bin_end": 6545.8,
            "count": 1
           },
           {
            "bin_start": 6545.8,
            "bin_end": 6595.5,
            "count": 1
           },
           {
            "bin_start": 6595.5,
            "bin_end": 6645.2,
            "count": 0
           },
           {
            "bin_start": 6645.2,
            "bin_end": 6694.9,
            "count": 0
           },
           {
            "bin_start": 6694.9,
            "bin_end": 6744.6,
            "count": 0
           },
           {
            "bin_start": 6744.6,
            "bin_end": 6794.3,
            "count": 0
           },
           {
            "bin_start": 6794.3,
            "bin_end": 6844,
            "count": 1
           }
          ]
         }
        },
        {
         "name": "off_duty_killing",
         "dtype": "object",
         "stats": {
          "unique_count": 0,
          "nan_count": 9,
          "categories": [
           {
            "name": "Missing",
            "count": 9
           }
          ]
         }
        },
        {
         "name": "geography",
         "dtype": "object",
         "stats": {
          "unique_count": 3,
          "nan_count": 0,
          "categories": [
           {
            "name": "Suburban",
            "count": 4
           },
           {
            "name": "Rural",
            "count": 3
           },
           {
            "name": "Urban",
            "count": 2
           }
          ]
         }
        },
        {
         "name": "mpv_id",
         "dtype": "float64",
         "stats": {
          "unique_count": 7,
          "nan_count": 2,
          "min": "8929.0",
          "max": "9053.0",
          "histogram": [
           {
            "bin_start": 8929,
            "bin_end": 8941.4,
            "count": 2
           },
           {
            "bin_start": 8941.4,
            "bin_end": 8953.8,
            "count": 0
           },
           {
            "bin_start": 8953.8,
            "bin_end": 8966.2,
            "count": 0
           },
           {
            "bin_start": 8966.2,
            "bin_end": 8978.6,
            "count": 0
           },
           {
            "bin_start": 8978.6,
            "bin_end": 8991,
            "count": 1
           },
           {
            "bin_start": 8991,
            "bin_end": 9003.4,
            "count": 1
           },
           {
            "bin_start": 9003.4,
            "bin_end": 9015.8,
            "count": 0
           },
           {
            "bin_start": 9015.8,
            "bin_end": 9028.2,
            "count": 1
           },
           {
            "bin_start": 9028.2,
            "bin_end": 9040.6,
            "count": 0
           },
           {
            "bin_start": 9040.6,
            "bin_end": 9053,
            "count": 2
           }
          ]
         }
        },
        {
         "name": "fatal_encounters_id",
         "dtype": "float64",
         "stats": {
          "unique_count": 7,
          "nan_count": 2,
          "min": "29169.0",
          "max": "30061.0",
          "histogram": [
           {
            "bin_start": 29169,
            "bin_end": 29258.2,
            "count": 2
           },
           {
            "bin_start": 29258.2,
            "bin_end": 29347.4,
            "count": 0
           },
           {
            "bin_start": 29347.4,
            "bin_end": 29436.6,
            "count": 2
           },
           {
            "bin_start": 29436.6,
            "bin_end": 29525.8,
            "count": 1
           },
           {
            "bin_start": 29525.8,
            "bin_end": 29615,
            "count": 1
           },
           {
            "bin_start": 29615,
            "bin_end": 29704.2,
            "count": 0
           },
           {
            "bin_start": 29704.2,
            "bin_end": 29793.4,
            "count": 0
           },
           {
            "bin_start": 29793.4,
            "bin_end": 29882.6,
            "count": 0
           },
           {
            "bin_start": 29882.6,
            "bin_end": 29971.8,
            "count": 0
           },
           {
            "bin_start": 29971.8,
            "bin_end": 30061,
            "count": 1
           }
          ]
         }
        },
        {
         "name": "encounter_type_draft",
         "dtype": "object",
         "stats": {
          "unique_count": 7,
          "nan_count": 0,
          "categories": [
           {
            "name": "Part 1 Violent Crime",
            "count": 3
           },
           {
            "name": "Other",
            "count": 1
           },
           {
            "name": "5 others",
            "count": 5
           }
          ]
         }
        },
        {
         "name": "initial_reported_reason_for_encounter_draft",
         "dtype": "object",
         "stats": {
          "unique_count": 8,
          "nan_count": 0,
          "categories": [
           {
            "name": "Shooting",
            "count": 2
           },
           {
            "name": "deliberate car crash",
            "count": 1
           },
           {
            "name": "6 others",
            "count": 6
           }
          ]
         }
        },
        {
         "name": "names_of_officers_involved_draft",
         "dtype": "object",
         "stats": {
          "unique_count": 0,
          "nan_count": 9,
          "categories": [
           {
            "name": "Missing",
            "count": 9
           }
          ]
         }
        },
        {
         "name": "race_of_officers_involved_draft",
         "dtype": "object",
         "stats": {
          "unique_count": 0,
          "nan_count": 9,
          "categories": [
           {
            "name": "Missing",
            "count": 9
           }
          ]
         }
        },
        {
         "name": "known_past_shootings_of_Officer_draft",
         "dtype": "object",
         "stats": {
          "unique_count": 0,
          "nan_count": 9,
          "categories": [
           {
            "name": "Missing",
            "count": 9
           }
          ]
         }
        },
        {
         "name": "call_for_service_draft",
         "dtype": "object",
         "stats": {
          "unique_count": 2,
          "nan_count": 0,
          "categories": [
           {
            "name": "Yes",
            "count": 7
           },
           {
            "name": "No",
            "count": 2
           }
          ]
         }
        },
        {
         "name": "_deepnote_index_column",
         "dtype": "int64"
        }
       ],
       "rows_top": [
        {
         "name": "Name withheld by police",
         "age": "nan",
         "gender": "Male",
         "race": "Unknown Race",
         "img_url": "nan",
         "date": "2021-05-09T00:00:00.000000",
         "address": "90 S. Main St.",
         "city": "Leicester",
         "state": "MA",
         "zipcode": 1524,
         "county": "Worcester",
         "agency_responsible": "Leicester Police Department",
         "ori_agency_identifier": "MA0142400",
         "cause_of_death": "Gunshot",
         "description_of_circumstances": "A man allegedly crashed an SUV into the Leicester Police Station, repeatedly ramming his vehicle into the front doors until he gained entry into the building. Responding officers saw the SUV in the front door and encountered the man. Police claim the man placed a rifle on his shoulder and aimed it at the officers. The police officers shot and killed him.",
         "official_disposition": "Pending investigation",
         "criminal_charges_filed": "No known charges",
         "news_article_or_photo_of_official_document": "https://www.wcvb.com/article/leicester-police-station-shooting-car-crash-massachusetts/36374400",
         "mental_illness": "No",
         "armed_unarmed_status": "Allegedly Armed",
         "alleged_weapon": "gun",
         "alleged_threat_lvl": "attack",
         "fleeing": "not fleeing",
         "body_camera": "no",
         "wapo_id": "6844.0",
         "off_duty_killing": "nan",
         "geography": "Suburban",
         "mpv_id": "nan",
         "fatal_encounters_id": "nan",
         "encounter_type_draft": "Other",
         "initial_reported_reason_for_encounter_draft": "deliberate car crash",
         "names_of_officers_involved_draft": "nan",
         "race_of_officers_involved_draft": "nan",
         "known_past_shootings_of_Officer_draft": "nan",
         "call_for_service_draft": "Yes",
         "_deepnote_index_column": 1
        },
        {
         "name": "Name withheld by police",
         "age": "nan",
         "gender": "Male",
         "race": "Unknown Race",
         "img_url": "nan",
         "date": "2021-04-17T00:00:00.000000",
         "address": "1100 McVicar Ave.",
         "city": "Kingman",
         "state": "AZ",
         "zipcode": 86409,
         "county": "Mohave",
         "agency_responsible": "Mohave County Sheriff's Office",
         "ori_agency_identifier": "AZ0080000",
         "cause_of_death": "Gunshot",
         "description_of_circumstances": "A deputy shot and killed a man following several pursuits. Details as to what precipitated the killing were withheld by police.",
         "official_disposition": "Pending investigation",
         "criminal_charges_filed": "No known charges",
         "news_article_or_photo_of_official_document": "https://www.12news.com/article/news/local/arizona/pd-mohave-county-deputy-shoots-kills-man-after-multiple-vehicle-pursuits/75-afaf6649-2b76-4134-8646-74cb767e8a94",
         "mental_illness": "No",
         "armed_unarmed_status": "Vehicle",
         "alleged_weapon": "vehicle",
         "alleged_threat_lvl": "other",
         "fleeing": "car",
         "body_camera": "nan",
         "wapo_id": "nan",
         "off_duty_killing": "nan",
         "geography": "Rural",
         "mpv_id": "nan",
         "fatal_encounters_id": "30061.0",
         "encounter_type_draft": "Traffic Stop",
         "initial_reported_reason_for_encounter_draft": "traffic stop ",
         "names_of_officers_involved_draft": "nan",
         "race_of_officers_involved_draft": "nan",
         "known_past_shootings_of_Officer_draft": "nan",
         "call_for_service_draft": "No",
         "_deepnote_index_column": 53
        },
        {
         "name": "Harmony Wolfgram",
         "age": "nan",
         "gender": "Female",
         "race": "Unknown Race",
         "img_url": "nan",
         "date": "2021-01-26T00:00:00.000000",
         "address": "E. 25th Ave. and Imboden Rd.",
         "city": "Aurora",
         "state": "CO",
         "zipcode": 80137,
         "county": "Adams",
         "agency_responsible": "Adams County Sheriff's Office",
         "ori_agency_identifier": "CO0010000",
         "cause_of_death": "Gunshot",
         "description_of_circumstances": "About 12:18 a.m., deputies located a suspected stolen vehicle, described as a gray Jeep SUV. Deputies lost sight of the Jeep, and it was eventually found abandoned. As deputies were searching the area, they found two female suspects on the property. Deputies were alerted that one of the women was armed, though it's unclear how they discovered the gun, and they shot and killed one of the women.",
         "official_disposition": "Pending investigation",
         "criminal_charges_filed": "No known charges",
         "news_article_or_photo_of_official_document": "https://www.9news.com/article/news/crime/adams-county-officer-involved-shooting/73-7cfba7b6-70a2-4f1b-b792-5ee49f8cffc9",
         "mental_illness": "No",
         "armed_unarmed_status": "Allegedly Armed",
         "alleged_weapon": "gun",
         "alleged_threat_lvl": "other",
         "fleeing": "not fleeing",
         "body_camera": "no",
         "wapo_id": "6547.0",
         "off_duty_killing": "nan",
         "geography": "Rural",
         "mpv_id": "8929.0",
         "fatal_encounters_id": "29530.0",
         "encounter_type_draft": "Other Non-Violent Offense",
         "initial_reported_reason_for_encounter_draft": "Suspect (stolen vehicle)",
         "names_of_officers_involved_draft": "nan",
         "race_of_officers_involved_draft": "nan",
         "known_past_shootings_of_Officer_draft": "nan",
         "call_for_service_draft": "No",
         "_deepnote_index_column": 313
        },
        {
         "name": "Steven Verdone",
         "age": "nan",
         "gender": "Male",
         "race": "White",
         "img_url": "https://fatalencounters.org/wp-content/uploads/2021/01/Steven-Verdone.jpg",
         "date": "2021-01-22T00:00:00.000000",
         "address": "6241 W. Cardinal St.",
         "city": "Homosassa",
         "state": "FL",
         "zipcode": 34446,
         "county": "Citrus",
         "agency_responsible": "Citrus County Sheriff's Office",
         "ori_agency_identifier": "FL0090000",
         "cause_of_death": "Gunshot",
         "description_of_circumstances": "Deputies responded at around 9:45 a.m. to 911 calls reporting a man, Verdone, behaving erratically and running in and out of traffic near the Marathon Gas station. Verdone yelled at people near the locked entrance to the convenience store, which he also tried to enter before the deputy's arrival. Verdone approached the deputy as he was exiting his cruiser. Verdone advanced with a knife, and the deputy shot and killed him.",
         "official_disposition": "Pending investigation",
         "criminal_charges_filed": "No known charges",
         "news_article_or_photo_of_official_document": "https://www.chronicleonline.com/news/local/deputy-shoots-kills-man-armed-with-knife/article_0712050c-5cc8-11eb-bf39-ef9591178d38.html",
         "mental_illness": "Unknown",
         "armed_unarmed_status": "Allegedly Armed",
         "alleged_weapon": "knife",
         "alleged_threat_lvl": "other",
         "fleeing": "not fleeing",
         "body_camera": "no",
         "wapo_id": "6544.0",
         "off_duty_killing": "nan",
         "geography": "Suburban",
         "mpv_id": "8933.0",
         "fatal_encounters_id": "29525.0",
         "encounter_type_draft": "Mental Health/Welfare Check",
         "initial_reported_reason_for_encounter_draft": "Erratic behavior",
         "names_of_officers_involved_draft": "nan",
         "race_of_officers_involved_draft": "nan",
         "known_past_shootings_of_Officer_draft": "nan",
         "call_for_service_draft": "Yes",
         "_deepnote_index_column": 320
        },
        {
         "name": "Amanda Faulkner",
         "age": "nan",
         "gender": "Female",
         "race": "White",
         "img_url": "nan",
         "date": "2021-01-04T00:00:00.000000",
         "address": "1400 Mooney Rd.",
         "city": "Columbiana",
         "state": "AL",
         "zipcode": 35051,
         "county": "Shelby ",
         "agency_responsible": "Shelby County Sheriff's Office",
         "ori_agency_identifier": "AL0590000",
         "cause_of_death": "Gunshot",
         "description_of_circumstances": "Around 6 p.m., deputies were dispatched to a domestic disturbance. Police have withheld details as to what happened next, but say a woman ran over a deputy, and the deputy shot and killed her.",
         "official_disposition": "Pending investigation",
         "criminal_charges_filed": "No known charges",
         "news_article_or_photo_of_official_document": "https://www.al.com/news/birmingham/2021/01/female-suspect-shot-and-killed-shelby-county-run-over-during-domestic-call.html",
         "mental_illness": "No",
         "armed_unarmed_status": "Vehicle",
         "alleged_weapon": "vehicle",
         "alleged_threat_lvl": "attack",
         "fleeing": "nan",
         "body_camera": "nan",
         "wapo_id": "nan",
         "off_duty_killing": "nan",
         "geography": "Rural",
         "mpv_id": "8988.0",
         "fatal_encounters_id": "29432.0",
         "encounter_type_draft": "Domestic Disturbance",
         "initial_reported_reason_for_encounter_draft": "Domestic Disturbance",
         "names_of_officers_involved_draft": "nan",
         "race_of_officers_involved_draft": "nan",
         "known_past_shootings_of_Officer_draft": "nan",
         "call_for_service_draft": "Yes",
         "_deepnote_index_column": 375
        },
        {
         "name": "Rodolfo Caraballo Moreno",
         "age": "nan",
         "gender": "Male",
         "race": "Hispanic",
         "img_url": "nan",
         "date": "2020-12-31T00:00:00.000000",
         "address": "Southwest 38th Avenue and 28th Street",
         "city": "Miami",
         "state": "FL",
         "zipcode": 33133,
         "county": "Miami-Dade",
         "agency_responsible": "Miami Police Department",
         "ori_agency_identifier": "FL0130600",
         "cause_of_death": "Gunshot",
         "description_of_circumstances": "Police responded to a call of shots fired and shot and killed Rodolfo Caraballo Moreno. Police said he opened fire at a home near Coral Way.",
         "official_disposition": "Pending investigation",
         "criminal_charges_filed": "No known charges",
         "news_article_or_photo_of_official_document": "https://www.local10.com/news/local/2021/01/01/investigation-continues-after-miami-man-dies-in-police-involved-shooting/",
         "mental_illness": "No",
         "armed_unarmed_status": "Allegedly Armed",
         "alleged_weapon": "gun",
         "alleged_threat_lvl": "attack",
         "fleeing": "Not fleeing",
         "body_camera": "nan",
         "wapo_id": "nan",
         "off_duty_killing": "nan",
         "geography": "Urban",
         "mpv_id": "8996.0",
         "fatal_encounters_id": "nan",
         "encounter_type_draft": "Part 1 Violent Crime",
         "initial_reported_reason_for_encounter_draft": "Shooting",
         "names_of_officers_involved_draft": "nan",
         "race_of_officers_involved_draft": "nan",
         "known_past_shootings_of_Officer_draft": "nan",
         "call_for_service_draft": "Yes",
         "_deepnote_index_column": 383
        },
        {
         "name": "John Moreno",
         "age": "nan",
         "gender": "Male",
         "race": "Hispanic",
         "img_url": "nan",
         "date": "2020-12-25T00:00:00.000000",
         "address": "1030 Abanico Court",
         "city": "Rio Rico",
         "state": "AZ",
         "zipcode": 85648,
         "county": "Santa Cruz",
         "agency_responsible": "Santa Cruz County Sheriff's Office",
         "ori_agency_identifier": "CA0440000",
         "cause_of_death": "Gunshot",
         "description_of_circumstances": "Deputies received a 911 call that reported an intruder was terrorizing people at a home. A Hispanic man had gone to a home looking for a person who had since left. The man became angry and threatened the people inside the home and tried to find a way inside. He reportedly got into a semi truck and began ramming cars in a carport, as well as crashing into the home and garage. He was able to get into the home due to the damage he had created. Deputies found the suspect back outside in his vehicle upon arrival. He allegedly drove semi-truck into the deputy's patrol car, and was preparing to hit him again, when the deputy shot and killed him.",
         "official_disposition": "Pending investigation",
         "criminal_charges_filed": "No known charges",
         "news_article_or_photo_of_official_document": "https://kvoa.com/news/2020/12/27/santa-cruz-sheriff-confirms-officer-involved-shooting-in-rio-rico/",
         "mental_illness": "No",
         "armed_unarmed_status": "Vehicle",
         "alleged_weapon": "vehicle",
         "alleged_threat_lvl": "attack",
         "fleeing": "Car",
         "body_camera": "No",
         "wapo_id": "6455.0",
         "off_duty_killing": "nan",
         "geography": "Suburban",
         "mpv_id": "9019.0",
         "fatal_encounters_id": "29370.0",
         "encounter_type_draft": "Part 1 Violent Crime",
         "initial_reported_reason_for_encounter_draft": "Home intrusion, vehicular assault, aggravated assault",
         "names_of_officers_involved_draft": "nan",
         "race_of_officers_involved_draft": "nan",
         "known_past_shootings_of_Officer_draft": "nan",
         "call_for_service_draft": "Yes",
         "_deepnote_index_column": 409
        },
        {
         "name": "Name withheld by police",
         "age": "nan",
         "gender": "Male",
         "race": "Black",
         "img_url": "nan",
         "date": "2020-11-15T00:00:00.000000",
         "address": "Van Wick St. and Van Ness Ave.",
         "city": "Inglewood",
         "state": "CA",
         "zipcode": 90303,
         "county": "Los Angeles",
         "agency_responsible": "Los Angeles County Sheriff's Department",
         "ori_agency_identifier": "CA0190000",
         "cause_of_death": "Gunshot",
         "description_of_circumstances": "A caller reported a man in the middle of the street holding a firearm about 1:50 a.m. at an intersection. As deputies arrived, they saw a man pointing a firearm at a passing by vehicle. The deputies told the man to drop the weapon, but he allegedly turned and pointed the weapon at the deputies, who shot and killed him.",
         "official_disposition": "Pending investigation",
         "criminal_charges_filed": "No known charges",
         "news_article_or_photo_of_official_document": "https://fox5sandiego.com/news/california-news/man-shot-killed-in-la-county-after-deputies-say-he-pointed-gun-at-them/",
         "mental_illness": "Unknown",
         "armed_unarmed_status": "Allegedly armed",
         "alleged_weapon": "gun",
         "alleged_threat_lvl": "attack",
         "fleeing": "nan",
         "body_camera": "nan",
         "wapo_id": "nan",
         "off_duty_killing": "nan",
         "geography": "Urban",
         "mpv_id": "9052.0",
         "fatal_encounters_id": "29175.0",
         "encounter_type_draft": "Person with a Weapon (gun)",
         "initial_reported_reason_for_encounter_draft": "Person with a gun, erratic behavior",
         "names_of_officers_involved_draft": "nan",
         "race_of_officers_involved_draft": "nan",
         "known_past_shootings_of_Officer_draft": "nan",
         "call_for_service_draft": "Yes",
         "_deepnote_index_column": 516
        },
        {
         "name": "Tracey Leon McKinney",
         "age": "nan",
         "gender": "Male",
         "race": "Black",
         "img_url": "nan",
         "date": "2020-11-13T00:00:00.000000",
         "address": "Glover Ave and Adams Ave",
         "city": "Gulfport",
         "state": "MS",
         "zipcode": 39507,
         "county": "Harrison",
         "agency_responsible": "Gulfport Police Department",
         "ori_agency_identifier": "MS0240200",
         "cause_of_death": "Gunshot",
         "description_of_circumstances": "Gulfport police officers responded to a call of shots fired. Upon arrival, those officers saw a female lying on the ground with an apparent gunshot wound. Tracey McKinney reportedly was near the female with a firearm in his hand. Police shot and killed him.",
         "official_disposition": "Pending investigation",
         "criminal_charges_filed": "No known charges",
         "news_article_or_photo_of_official_document": "https://www.wxxv25.com/2020/11/17/mbi-issues-press-release-last-fridays-officer-involved-shooting-gulfport/",
         "mental_illness": "No",
         "armed_unarmed_status": "Allegedly armed",
         "alleged_weapon": "gun",
         "alleged_threat_lvl": "attack",
         "fleeing": "not fleeing",
         "body_camera": "No",
         "wapo_id": "6347.0",
         "off_duty_killing": "nan",
         "geography": "Suburban",
         "mpv_id": "9053.0",
         "fatal_encounters_id": "29169.0",
         "encounter_type_draft": "Part 1 Violent Crime",
         "initial_reported_reason_for_encounter_draft": "Shooting",
         "names_of_officers_involved_draft": "nan",
         "race_of_officers_involved_draft": "nan",
         "known_past_shootings_of_Officer_draft": "nan",
         "call_for_service_draft": "Yes",
         "_deepnote_index_column": 525
        }
       ],
       "rows_bottom": null
      },
      "text/plain": "                         name  age  gender          race  \\\n1     Name withheld by police  NaN    Male  Unknown Race   \n53    Name withheld by police  NaN    Male  Unknown Race   \n313          Harmony Wolfgram  NaN  Female  Unknown Race   \n320            Steven Verdone  NaN    Male         White   \n375           Amanda Faulkner  NaN  Female         White   \n383  Rodolfo Caraballo Moreno  NaN    Male      Hispanic   \n409               John Moreno  NaN    Male      Hispanic   \n516   Name withheld by police  NaN    Male         Black   \n525      Tracey Leon McKinney  NaN    Male         Black   \n\n                                               img_url       date  \\\n1                                                  NaN 2021-05-09   \n53                                                 NaN 2021-04-17   \n313                                                NaN 2021-01-26   \n320  https://fatalencounters.org/wp-content/uploads... 2021-01-22   \n375                                                NaN 2021-01-04   \n383                                                NaN 2020-12-31   \n409                                                NaN 2020-12-25   \n516                                                NaN 2020-11-15   \n525                                                NaN 2020-11-13   \n\n                                   address        city state  zipcode  ...  \\\n1                           90 S. Main St.   Leicester    MA   1524.0  ...   \n53                       1100 McVicar Ave.     Kingman    AZ  86409.0  ...   \n313           E. 25th Ave. and Imboden Rd.      Aurora    CO  80137.0  ...   \n320                   6241 W. Cardinal St.   Homosassa    FL  34446.0  ...   \n375                        1400 Mooney Rd.  Columbiana    AL  35051.0  ...   \n383  Southwest 38th Avenue and 28th Street       Miami    FL  33133.0  ...   \n409                     1030 Abanico Court    Rio Rico    AZ  85648.0  ...   \n516         Van Wick St. and Van Ness Ave.   Inglewood    CA  90303.0  ...   \n525               Glover Ave and Adams Ave    Gulfport    MS  39507.0  ...   \n\n    off_duty_killing geography  mpv_id fatal_encounters_id  \\\n1                NaN  Suburban     NaN                 NaN   \n53               NaN     Rural     NaN             30061.0   \n313              NaN     Rural  8929.0             29530.0   \n320              NaN  Suburban  8933.0             29525.0   \n375              NaN     Rural  8988.0             29432.0   \n383              NaN     Urban  8996.0                 NaN   \n409              NaN  Suburban  9019.0             29370.0   \n516              NaN     Urban  9052.0             29175.0   \n525              NaN  Suburban  9053.0             29169.0   \n\n            encounter_type_draft  \\\n1                          Other   \n53                  Traffic Stop   \n313    Other Non-Violent Offense   \n320  Mental Health/Welfare Check   \n375         Domestic Disturbance   \n383         Part 1 Violent Crime   \n409         Part 1 Violent Crime   \n516   Person with a Weapon (gun)   \n525         Part 1 Violent Crime   \n\n           initial_reported_reason_for_encounter_draft  \\\n1                                 deliberate car crash   \n53                                       traffic stop    \n313                           Suspect (stolen vehicle)   \n320                                   Erratic behavior   \n375                               Domestic Disturbance   \n383                                           Shooting   \n409  Home intrusion, vehicular assault, aggravated ...   \n516                Person with a gun, erratic behavior   \n525                                           Shooting   \n\n    names_of_officers_involved_draft race_of_officers_involved_draft  \\\n1                                NaN                             NaN   \n53                               NaN                             NaN   \n313                              NaN                             NaN   \n320                              NaN                             NaN   \n375                              NaN                             NaN   \n383                              NaN                             NaN   \n409                              NaN                             NaN   \n516                              NaN                             NaN   \n525                              NaN                             NaN   \n\n    known_past_shootings_of_Officer_draft call_for_service_draft  \n1                                     NaN                    Yes  \n53                                    NaN                     No  \n313                                   NaN                     No  \n320                                   NaN                    Yes  \n375                                   NaN                    Yes  \n383                                   NaN                    Yes  \n409                                   NaN                    Yes  \n516                                   NaN                    Yes  \n525                                   NaN                    Yes  \n\n[9 rows x 35 columns]",
      "text/html": "<div>\n<style scoped>\n    .dataframe tbody tr th:only-of-type {\n        vertical-align: middle;\n    }\n\n    .dataframe tbody tr th {\n        vertical-align: top;\n    }\n\n    .dataframe thead th {\n        text-align: right;\n    }\n</style>\n<table border=\"1\" class=\"dataframe\">\n  <thead>\n    <tr style=\"text-align: right;\">\n      <th></th>\n      <th>name</th>\n      <th>age</th>\n      <th>gender</th>\n      <th>race</th>\n      <th>img_url</th>\n      <th>date</th>\n      <th>address</th>\n      <th>city</th>\n      <th>state</th>\n      <th>zipcode</th>\n      <th>...</th>\n      <th>off_duty_killing</th>\n      <th>geography</th>\n      <th>mpv_id</th>\n      <th>fatal_encounters_id</th>\n      <th>encounter_type_draft</th>\n      <th>initial_reported_reason_for_encounter_draft</th>\n      <th>names_of_officers_involved_draft</th>\n      <th>race_of_officers_involved_draft</th>\n      <th>known_past_shootings_of_Officer_draft</th>\n      <th>call_for_service_draft</th>\n    </tr>\n  </thead>\n  <tbody>\n    <tr>\n      <th>1</th>\n      <td>Name withheld by police</td>\n      <td>NaN</td>\n      <td>Male</td>\n      <td>Unknown Race</td>\n      <td>NaN</td>\n      <td>2021-05-09</td>\n      <td>90 S. Main St.</td>\n      <td>Leicester</td>\n      <td>MA</td>\n      <td>1524.0</td>\n      <td>...</td>\n      <td>NaN</td>\n      <td>Suburban</td>\n      <td>NaN</td>\n      <td>NaN</td>\n      <td>Other</td>\n      <td>deliberate car crash</td>\n      <td>NaN</td>\n      <td>NaN</td>\n      <td>NaN</td>\n      <td>Yes</td>\n    </tr>\n    <tr>\n      <th>53</th>\n      <td>Name withheld by police</td>\n      <td>NaN</td>\n      <td>Male</td>\n      <td>Unknown Race</td>\n      <td>NaN</td>\n      <td>2021-04-17</td>\n      <td>1100 McVicar Ave.</td>\n      <td>Kingman</td>\n      <td>AZ</td>\n      <td>86409.0</td>\n      <td>...</td>\n      <td>NaN</td>\n      <td>Rural</td>\n      <td>NaN</td>\n      <td>30061.0</td>\n      <td>Traffic Stop</td>\n      <td>traffic stop</td>\n      <td>NaN</td>\n      <td>NaN</td>\n      <td>NaN</td>\n      <td>No</td>\n    </tr>\n    <tr>\n      <th>313</th>\n      <td>Harmony Wolfgram</td>\n      <td>NaN</td>\n      <td>Female</td>\n      <td>Unknown Race</td>\n      <td>NaN</td>\n      <td>2021-01-26</td>\n      <td>E. 25th Ave. and Imboden Rd.</td>\n      <td>Aurora</td>\n      <td>CO</td>\n      <td>80137.0</td>\n      <td>...</td>\n      <td>NaN</td>\n      <td>Rural</td>\n      <td>8929.0</td>\n      <td>29530.0</td>\n      <td>Other Non-Violent Offense</td>\n      <td>Suspect (stolen vehicle)</td>\n      <td>NaN</td>\n      <td>NaN</td>\n      <td>NaN</td>\n      <td>No</td>\n    </tr>\n    <tr>\n      <th>320</th>\n      <td>Steven Verdone</td>\n      <td>NaN</td>\n      <td>Male</td>\n      <td>White</td>\n      <td>https://fatalencounters.org/wp-content/uploads...</td>\n      <td>2021-01-22</td>\n      <td>6241 W. Cardinal St.</td>\n      <td>Homosassa</td>\n      <td>FL</td>\n      <td>34446.0</td>\n      <td>...</td>\n      <td>NaN</td>\n      <td>Suburban</td>\n      <td>8933.0</td>\n      <td>29525.0</td>\n      <td>Mental Health/Welfare Check</td>\n      <td>Erratic behavior</td>\n      <td>NaN</td>\n      <td>NaN</td>\n      <td>NaN</td>\n      <td>Yes</td>\n    </tr>\n    <tr>\n      <th>375</th>\n      <td>Amanda Faulkner</td>\n      <td>NaN</td>\n      <td>Female</td>\n      <td>White</td>\n      <td>NaN</td>\n      <td>2021-01-04</td>\n      <td>1400 Mooney Rd.</td>\n      <td>Columbiana</td>\n      <td>AL</td>\n      <td>35051.0</td>\n      <td>...</td>\n      <td>NaN</td>\n      <td>Rural</td>\n      <td>8988.0</td>\n      <td>29432.0</td>\n      <td>Domestic Disturbance</td>\n      <td>Domestic Disturbance</td>\n      <td>NaN</td>\n      <td>NaN</td>\n      <td>NaN</td>\n      <td>Yes</td>\n    </tr>\n    <tr>\n      <th>383</th>\n      <td>Rodolfo Caraballo Moreno</td>\n      <td>NaN</td>\n      <td>Male</td>\n      <td>Hispanic</td>\n      <td>NaN</td>\n      <td>2020-12-31</td>\n      <td>Southwest 38th Avenue and 28th Street</td>\n      <td>Miami</td>\n      <td>FL</td>\n      <td>33133.0</td>\n      <td>...</td>\n      <td>NaN</td>\n      <td>Urban</td>\n      <td>8996.0</td>\n      <td>NaN</td>\n      <td>Part 1 Violent Crime</td>\n      <td>Shooting</td>\n      <td>NaN</td>\n      <td>NaN</td>\n      <td>NaN</td>\n      <td>Yes</td>\n    </tr>\n    <tr>\n      <th>409</th>\n      <td>John Moreno</td>\n      <td>NaN</td>\n      <td>Male</td>\n      <td>Hispanic</td>\n      <td>NaN</td>\n      <td>2020-12-25</td>\n      <td>1030 Abanico Court</td>\n      <td>Rio Rico</td>\n      <td>AZ</td>\n      <td>85648.0</td>\n      <td>...</td>\n      <td>NaN</td>\n      <td>Suburban</td>\n      <td>9019.0</td>\n      <td>29370.0</td>\n      <td>Part 1 Violent Crime</td>\n      <td>Home intrusion, vehicular assault, aggravated ...</td>\n      <td>NaN</td>\n      <td>NaN</td>\n      <td>NaN</td>\n      <td>Yes</td>\n    </tr>\n    <tr>\n      <th>516</th>\n      <td>Name withheld by police</td>\n      <td>NaN</td>\n      <td>Male</td>\n      <td>Black</td>\n      <td>NaN</td>\n      <td>2020-11-15</td>\n      <td>Van Wick St. and Van Ness Ave.</td>\n      <td>Inglewood</td>\n      <td>CA</td>\n      <td>90303.0</td>\n      <td>...</td>\n      <td>NaN</td>\n      <td>Urban</td>\n      <td>9052.0</td>\n      <td>29175.0</td>\n      <td>Person with a Weapon (gun)</td>\n      <td>Person with a gun, erratic behavior</td>\n      <td>NaN</td>\n      <td>NaN</td>\n      <td>NaN</td>\n      <td>Yes</td>\n    </tr>\n    <tr>\n      <th>525</th>\n      <td>Tracey Leon McKinney</td>\n      <td>NaN</td>\n      <td>Male</td>\n      <td>Black</td>\n      <td>NaN</td>\n      <td>2020-11-13</td>\n      <td>Glover Ave and Adams Ave</td>\n      <td>Gulfport</td>\n      <td>MS</td>\n      <td>39507.0</td>\n      <td>...</td>\n      <td>NaN</td>\n      <td>Suburban</td>\n      <td>9053.0</td>\n      <td>29169.0</td>\n      <td>Part 1 Violent Crime</td>\n      <td>Shooting</td>\n      <td>NaN</td>\n      <td>NaN</td>\n      <td>NaN</td>\n      <td>Yes</td>\n    </tr>\n  </tbody>\n</table>\n<p>9 rows × 35 columns</p>\n</div>"
     },
     "metadata": {}
    }
   ]
  },
  {
   "cell_type": "code",
   "metadata": {
    "tags": [],
    "cell_id": "00011-9741f495-f363-42f6-8977-a260980cb5f5",
    "deepnote_to_be_reexecuted": false,
    "source_hash": "954fad26",
    "execution_start": 1621870427704,
    "execution_millis": 3,
    "deepnote_cell_type": "code"
   },
   "source": "# Harmony Wolfgram was 41 according to Westword News\ndf.loc[313,'age'] = 41",
   "execution_count": null,
   "outputs": []
  },
  {
   "cell_type": "code",
   "metadata": {
    "tags": [],
    "cell_id": "00013-e6f80333-1eb0-48d8-9683-7789775abaec",
    "deepnote_to_be_reexecuted": false,
    "source_hash": "958b51b5",
    "execution_start": 1621870427712,
    "execution_millis": 1,
    "deepnote_cell_type": "code"
   },
   "source": "# Rodolfo Caraballo Moreno was 57 according to his obituary\ndf.loc[383,'age'] = 57",
   "execution_count": null,
   "outputs": []
  },
  {
   "cell_type": "code",
   "metadata": {
    "tags": [],
    "cell_id": "00013-1dd7aaaa-4504-48e4-90bd-7c1898f7f493",
    "deepnote_to_be_reexecuted": false,
    "source_hash": "138066e2",
    "execution_start": 1621870427718,
    "execution_millis": 0,
    "deepnote_cell_type": "code"
   },
   "source": "# John Moreno was 32 according to Nogales International\ndf.loc[409, 'age'] = 32",
   "execution_count": null,
   "outputs": []
  },
  {
   "cell_type": "code",
   "metadata": {
    "tags": [],
    "cell_id": "00014-bad668eb-bd9f-472e-bc66-91a3bb6616c2",
    "deepnote_to_be_reexecuted": false,
    "source_hash": "d5d20e4d",
    "execution_start": 1621870427724,
    "execution_millis": 3,
    "deepnote_cell_type": "code"
   },
   "source": "# Tracey Leon McKinney was 41 according to his obituary\ndf.loc[525, 'age'] = 41",
   "execution_count": null,
   "outputs": []
  },
  {
   "cell_type": "code",
   "metadata": {
    "tags": [],
    "cell_id": "00015-8ce4a31b-34ee-4a53-9f55-b8263c8a4ed0",
    "deepnote_to_be_reexecuted": false,
    "source_hash": "e802f30e",
    "execution_start": 1621870427730,
    "execution_millis": 142,
    "deepnote_cell_type": "code"
   },
   "source": "df[df.age.isnull() == True]",
   "execution_count": null,
   "outputs": [
    {
     "output_type": "execute_result",
     "execution_count": 15,
     "data": {
      "application/vnd.deepnote.dataframe.v2+json": {
       "row_count": 5,
       "column_count": 35,
       "columns": [
        {
         "name": "name",
         "dtype": "object",
         "stats": {
          "unique_count": 3,
          "nan_count": 0,
          "categories": [
           {
            "name": "Name withheld by police",
            "count": 3
           },
           {
            "name": "Steven Verdone",
            "count": 1
           },
           {
            "name": "Amanda Faulkner",
            "count": 1
           }
          ]
         }
        },
        {
         "name": "age",
         "dtype": "object",
         "stats": {
          "unique_count": 0,
          "nan_count": 5,
          "categories": [
           {
            "name": "Missing",
            "count": 5
           }
          ]
         }
        },
        {
         "name": "gender",
         "dtype": "object",
         "stats": {
          "unique_count": 2,
          "nan_count": 0,
          "categories": [
           {
            "name": "Male",
            "count": 4
           },
           {
            "name": "Female",
            "count": 1
           }
          ]
         }
        },
        {
         "name": "race",
         "dtype": "object",
         "stats": {
          "unique_count": 3,
          "nan_count": 0,
          "categories": [
           {
            "name": "Unknown Race",
            "count": 2
           },
           {
            "name": "White",
            "count": 2
           },
           {
            "name": "Black",
            "count": 1
           }
          ]
         }
        },
        {
         "name": "img_url",
         "dtype": "object",
         "stats": {
          "unique_count": 1,
          "nan_count": 4,
          "categories": [
           {
            "name": "https://fatalencounters.org/wp-content/uploads/2021/01/Steven-Verdone.jpg",
            "count": 1
           },
           {
            "name": "Missing",
            "count": 4
           }
          ]
         }
        },
        {
         "name": "date",
         "dtype": "datetime64[ns]",
         "stats": {
          "unique_count": 5,
          "nan_count": 0,
          "min": "2020-11-15 00:00:00",
          "max": "2021-05-09 00:00:00",
          "histogram": [
           {
            "bin_start": 1605398400000000000,
            "bin_end": 1606910400000000000,
            "count": 1
           },
           {
            "bin_start": 1606910400000000000,
            "bin_end": 1608422400000000000,
            "count": 0
           },
           {
            "bin_start": 1608422400000000000,
            "bin_end": 1609934400000000000,
            "count": 1
           },
           {
            "bin_start": 1609934400000000000,
            "bin_end": 1611446400000000000,
            "count": 1
           },
           {
            "bin_start": 1611446400000000000,
            "bin_end": 1612958400000000000,
            "count": 0
           },
           {
            "bin_start": 1612958400000000000,
            "bin_end": 1614470400000000000,
            "count": 0
           },
           {
            "bin_start": 1614470400000000000,
            "bin_end": 1615982400000000000,
            "count": 0
           },
           {
            "bin_start": 1615982400000000000,
            "bin_end": 1617494400000000000,
            "count": 0
           },
           {
            "bin_start": 1617494400000000000,
            "bin_end": 1619006400000000000,
            "count": 1
           },
           {
            "bin_start": 1619006400000000000,
            "bin_end": 1620518400000000000,
            "count": 1
           }
          ]
         }
        },
        {
         "name": "address",
         "dtype": "object",
         "stats": {
          "unique_count": 5,
          "nan_count": 0,
          "categories": [
           {
            "name": "90 S. Main St.",
            "count": 1
           },
           {
            "name": "1100 McVicar Ave.",
            "count": 1
           },
           {
            "name": "3 others",
            "count": 3
           }
          ]
         }
        },
        {
         "name": "city",
         "dtype": "object",
         "stats": {
          "unique_count": 5,
          "nan_count": 0,
          "categories": [
           {
            "name": "Leicester",
            "count": 1
           },
           {
            "name": "Kingman",
            "count": 1
           },
           {
            "name": "3 others",
            "count": 3
           }
          ]
         }
        },
        {
         "name": "state",
         "dtype": "object",
         "stats": {
          "unique_count": 5,
          "nan_count": 0,
          "categories": [
           {
            "name": "MA",
            "count": 1
           },
           {
            "name": "AZ",
            "count": 1
           },
           {
            "name": "3 others",
            "count": 3
           }
          ]
         }
        },
        {
         "name": "zipcode",
         "dtype": "float64",
         "stats": {
          "unique_count": 5,
          "nan_count": 0,
          "min": "1524.0",
          "max": "90303.0",
          "histogram": [
           {
            "bin_start": 1524,
            "bin_end": 10401.9,
            "count": 1
           },
           {
            "bin_start": 10401.9,
            "bin_end": 19279.8,
            "count": 0
           },
           {
            "bin_start": 19279.8,
            "bin_end": 28157.699999999997,
            "count": 0
           },
           {
            "bin_start": 28157.699999999997,
            "bin_end": 37035.6,
            "count": 2
           },
           {
            "bin_start": 37035.6,
            "bin_end": 45913.5,
            "count": 0
           },
           {
            "bin_start": 45913.5,
            "bin_end": 54791.399999999994,
            "count": 0
           },
           {
            "bin_start": 54791.399999999994,
            "bin_end": 63669.299999999996,
            "count": 0
           },
           {
            "bin_start": 63669.299999999996,
            "bin_end": 72547.2,
            "count": 0
           },
           {
            "bin_start": 72547.2,
            "bin_end": 81425.09999999999,
            "count": 0
           },
           {
            "bin_start": 81425.09999999999,
            "bin_end": 90303,
            "count": 2
           }
          ]
         }
        },
        {
         "name": "county",
         "dtype": "object",
         "stats": {
          "unique_count": 5,
          "nan_count": 0,
          "categories": [
           {
            "name": "Worcester",
            "count": 1
           },
           {
            "name": "Mohave",
            "count": 1
           },
           {
            "name": "3 others",
            "count": 3
           }
          ]
         }
        },
        {
         "name": "agency_responsible",
         "dtype": "object",
         "stats": {
          "unique_count": 5,
          "nan_count": 0,
          "categories": [
           {
            "name": "Leicester Police Department",
            "count": 1
           },
           {
            "name": "Mohave County Sheriff's Office",
            "count": 1
           },
           {
            "name": "3 others",
            "count": 3
           }
          ]
         }
        },
        {
         "name": "ori_agency_identifier",
         "dtype": "object",
         "stats": {
          "unique_count": 5,
          "nan_count": 0,
          "categories": [
           {
            "name": "MA0142400",
            "count": 1
           },
           {
            "name": "AZ0080000",
            "count": 1
           },
           {
            "name": "3 others",
            "count": 3
           }
          ]
         }
        },
        {
         "name": "cause_of_death",
         "dtype": "object",
         "stats": {
          "unique_count": 1,
          "nan_count": 0,
          "categories": [
           {
            "name": "Gunshot",
            "count": 5
           }
          ]
         }
        },
        {
         "name": "description_of_circumstances",
         "dtype": "object",
         "stats": {
          "unique_count": 5,
          "nan_count": 0,
          "categories": [
           {
            "name": "A man allegedly crashed an SUV into the Leicester Police Station, repeatedly ramming his vehicle into the front doors until he gained entry into the building. Responding officers saw the SUV in the front door and encountered the man. Police claim the man placed a rifle on his shoulder and aimed it at the officers. The police officers shot and killed him.",
            "count": 1
           },
           {
            "name": "A deputy shot and killed a man following several pursuits. Details as to what precipitated the killing were withheld by police.",
            "count": 1
           },
           {
            "name": "3 others",
            "count": 3
           }
          ]
         }
        },
        {
         "name": "official_disposition",
         "dtype": "object",
         "stats": {
          "unique_count": 1,
          "nan_count": 0,
          "categories": [
           {
            "name": "Pending investigation",
            "count": 5
           }
          ]
         }
        },
        {
         "name": "criminal_charges_filed",
         "dtype": "object",
         "stats": {
          "unique_count": 1,
          "nan_count": 0,
          "categories": [
           {
            "name": "No known charges",
            "count": 5
           }
          ]
         }
        },
        {
         "name": "news_article_or_photo_of_official_document",
         "dtype": "object",
         "stats": {
          "unique_count": 5,
          "nan_count": 0,
          "categories": [
           {
            "name": "https://www.wcvb.com/article/leicester-police-station-shooting-car-crash-massachusetts/36374400",
            "count": 1
           },
           {
            "name": "https://www.12news.com/article/news/local/arizona/pd-mohave-county-deputy-shoots-kills-man-after-multiple-vehicle-pursuits/75-afaf6649-2b76-4134-8646-74cb767e8a94",
            "count": 1
           },
           {
            "name": "3 others",
            "count": 3
           }
          ]
         }
        },
        {
         "name": "mental_illness",
         "dtype": "object",
         "stats": {
          "unique_count": 2,
          "nan_count": 0,
          "categories": [
           {
            "name": "No",
            "count": 3
           },
           {
            "name": "Unknown",
            "count": 2
           }
          ]
         }
        },
        {
         "name": "armed_unarmed_status",
         "dtype": "object",
         "stats": {
          "unique_count": 3,
          "nan_count": 0,
          "categories": [
           {
            "name": "Allegedly Armed",
            "count": 2
           },
           {
            "name": "Vehicle",
            "count": 2
           },
           {
            "name": "Allegedly armed",
            "count": 1
           }
          ]
         }
        },
        {
         "name": "alleged_weapon",
         "dtype": "object",
         "stats": {
          "unique_count": 3,
          "nan_count": 0,
          "categories": [
           {
            "name": "gun",
            "count": 2
           },
           {
            "name": "vehicle",
            "count": 2
           },
           {
            "name": "knife",
            "count": 1
           }
          ]
         }
        },
        {
         "name": "alleged_threat_lvl",
         "dtype": "object",
         "stats": {
          "unique_count": 2,
          "nan_count": 0,
          "categories": [
           {
            "name": "attack",
            "count": 3
           },
           {
            "name": "other",
            "count": 2
           }
          ]
         }
        },
        {
         "name": "fleeing",
         "dtype": "object",
         "stats": {
          "unique_count": 2,
          "nan_count": 2,
          "categories": [
           {
            "name": "not fleeing",
            "count": 2
           },
           {
            "name": "car",
            "count": 1
           },
           {
            "name": "Missing",
            "count": 2
           }
          ]
         }
        },
        {
         "name": "body_camera",
         "dtype": "object",
         "stats": {
          "unique_count": 1,
          "nan_count": 3,
          "categories": [
           {
            "name": "no",
            "count": 2
           },
           {
            "name": "Missing",
            "count": 3
           }
          ]
         }
        },
        {
         "name": "wapo_id",
         "dtype": "float64",
         "stats": {
          "unique_count": 2,
          "nan_count": 3,
          "min": "6544.0",
          "max": "6844.0",
          "histogram": [
           {
            "bin_start": 6544,
            "bin_end": 6574,
            "count": 1
           },
           {
            "bin_start": 6574,
            "bin_end": 6604,
            "count": 0
           },
           {
            "bin_start": 6604,
            "bin_end": 6634,
            "count": 0
           },
           {
            "bin_start": 6634,
            "bin_end": 6664,
            "count": 0
           },
           {
            "bin_start": 6664,
            "bin_end": 6694,
            "count": 0
           },
           {
            "bin_start": 6694,
            "bin_end": 6724,
            "count": 0
           },
           {
            "bin_start": 6724,
            "bin_end": 6754,
            "count": 0
           },
           {
            "bin_start": 6754,
            "bin_end": 6784,
            "count": 0
           },
           {
            "bin_start": 6784,
            "bin_end": 6814,
            "count": 0
           },
           {
            "bin_start": 6814,
            "bin_end": 6844,
            "count": 1
           }
          ]
         }
        },
        {
         "name": "off_duty_killing",
         "dtype": "object",
         "stats": {
          "unique_count": 0,
          "nan_count": 5,
          "categories": [
           {
            "name": "Missing",
            "count": 5
           }
          ]
         }
        },
        {
         "name": "geography",
         "dtype": "object",
         "stats": {
          "unique_count": 3,
          "nan_count": 0,
          "categories": [
           {
            "name": "Suburban",
            "count": 2
           },
           {
            "name": "Rural",
            "count": 2
           },
           {
            "name": "Urban",
            "count": 1
           }
          ]
         }
        },
        {
         "name": "mpv_id",
         "dtype": "float64",
         "stats": {
          "unique_count": 3,
          "nan_count": 2,
          "min": "8933.0",
          "max": "9052.0",
          "histogram": [
           {
            "bin_start": 8933,
            "bin_end": 8944.9,
            "count": 1
           },
           {
            "bin_start": 8944.9,
            "bin_end": 8956.8,
            "count": 0
           },
           {
            "bin_start": 8956.8,
            "bin_end": 8968.7,
            "count": 0
           },
           {
            "bin_start": 8968.7,
            "bin_end": 8980.6,
            "count": 0
           },
           {
            "bin_start": 8980.6,
            "bin_end": 8992.5,
            "count": 1
           },
           {
            "bin_start": 8992.5,
            "bin_end": 9004.4,
            "count": 0
           },
           {
            "bin_start": 9004.4,
            "bin_end": 9016.3,
            "count": 0
           },
           {
            "bin_start": 9016.3,
            "bin_end": 9028.2,
            "count": 0
           },
           {
            "bin_start": 9028.2,
            "bin_end": 9040.1,
            "count": 0
           },
           {
            "bin_start": 9040.1,
            "bin_end": 9052,
            "count": 1
           }
          ]
         }
        },
        {
         "name": "fatal_encounters_id",
         "dtype": "float64",
         "stats": {
          "unique_count": 4,
          "nan_count": 1,
          "min": "29175.0",
          "max": "30061.0",
          "histogram": [
           {
            "bin_start": 29175,
            "bin_end": 29263.6,
            "count": 1
           },
           {
            "bin_start": 29263.6,
            "bin_end": 29352.2,
            "count": 0
           },
           {
            "bin_start": 29352.2,
            "bin_end": 29440.8,
            "count": 1
           },
           {
            "bin_start": 29440.8,
            "bin_end": 29529.4,
            "count": 1
           },
           {
            "bin_start": 29529.4,
            "bin_end": 29618,
            "count": 0
           },
           {
            "bin_start": 29618,
            "bin_end": 29706.6,
            "count": 0
           },
           {
            "bin_start": 29706.6,
            "bin_end": 29795.2,
            "count": 0
           },
           {
            "bin_start": 29795.2,
            "bin_end": 29883.8,
            "count": 0
           },
           {
            "bin_start": 29883.8,
            "bin_end": 29972.4,
            "count": 0
           },
           {
            "bin_start": 29972.4,
            "bin_end": 30061,
            "count": 1
           }
          ]
         }
        },
        {
         "name": "encounter_type_draft",
         "dtype": "object",
         "stats": {
          "unique_count": 5,
          "nan_count": 0,
          "categories": [
           {
            "name": "Other",
            "count": 1
           },
           {
            "name": "Traffic Stop",
            "count": 1
           },
           {
            "name": "3 others",
            "count": 3
           }
          ]
         }
        },
        {
         "name": "initial_reported_reason_for_encounter_draft",
         "dtype": "object",
         "stats": {
          "unique_count": 5,
          "nan_count": 0,
          "categories": [
           {
            "name": "deliberate car crash",
            "count": 1
           },
           {
            "name": "traffic stop ",
            "count": 1
           },
           {
            "name": "3 others",
            "count": 3
           }
          ]
         }
        },
        {
         "name": "names_of_officers_involved_draft",
         "dtype": "object",
         "stats": {
          "unique_count": 0,
          "nan_count": 5,
          "categories": [
           {
            "name": "Missing",
            "count": 5
           }
          ]
         }
        },
        {
         "name": "race_of_officers_involved_draft",
         "dtype": "object",
         "stats": {
          "unique_count": 0,
          "nan_count": 5,
          "categories": [
           {
            "name": "Missing",
            "count": 5
           }
          ]
         }
        },
        {
         "name": "known_past_shootings_of_Officer_draft",
         "dtype": "object",
         "stats": {
          "unique_count": 0,
          "nan_count": 5,
          "categories": [
           {
            "name": "Missing",
            "count": 5
           }
          ]
         }
        },
        {
         "name": "call_for_service_draft",
         "dtype": "object",
         "stats": {
          "unique_count": 2,
          "nan_count": 0,
          "categories": [
           {
            "name": "Yes",
            "count": 4
           },
           {
            "name": "No",
            "count": 1
           }
          ]
         }
        },
        {
         "name": "_deepnote_index_column",
         "dtype": "int64"
        }
       ],
       "rows_top": [
        {
         "name": "Name withheld by police",
         "age": "nan",
         "gender": "Male",
         "race": "Unknown Race",
         "img_url": "nan",
         "date": "2021-05-09T00:00:00.000000",
         "address": "90 S. Main St.",
         "city": "Leicester",
         "state": "MA",
         "zipcode": 1524,
         "county": "Worcester",
         "agency_responsible": "Leicester Police Department",
         "ori_agency_identifier": "MA0142400",
         "cause_of_death": "Gunshot",
         "description_of_circumstances": "A man allegedly crashed an SUV into the Leicester Police Station, repeatedly ramming his vehicle into the front doors until he gained entry into the building. Responding officers saw the SUV in the front door and encountered the man. Police claim the man placed a rifle on his shoulder and aimed it at the officers. The police officers shot and killed him.",
         "official_disposition": "Pending investigation",
         "criminal_charges_filed": "No known charges",
         "news_article_or_photo_of_official_document": "https://www.wcvb.com/article/leicester-police-station-shooting-car-crash-massachusetts/36374400",
         "mental_illness": "No",
         "armed_unarmed_status": "Allegedly Armed",
         "alleged_weapon": "gun",
         "alleged_threat_lvl": "attack",
         "fleeing": "not fleeing",
         "body_camera": "no",
         "wapo_id": "6844.0",
         "off_duty_killing": "nan",
         "geography": "Suburban",
         "mpv_id": "nan",
         "fatal_encounters_id": "nan",
         "encounter_type_draft": "Other",
         "initial_reported_reason_for_encounter_draft": "deliberate car crash",
         "names_of_officers_involved_draft": "nan",
         "race_of_officers_involved_draft": "nan",
         "known_past_shootings_of_Officer_draft": "nan",
         "call_for_service_draft": "Yes",
         "_deepnote_index_column": 1
        },
        {
         "name": "Name withheld by police",
         "age": "nan",
         "gender": "Male",
         "race": "Unknown Race",
         "img_url": "nan",
         "date": "2021-04-17T00:00:00.000000",
         "address": "1100 McVicar Ave.",
         "city": "Kingman",
         "state": "AZ",
         "zipcode": 86409,
         "county": "Mohave",
         "agency_responsible": "Mohave County Sheriff's Office",
         "ori_agency_identifier": "AZ0080000",
         "cause_of_death": "Gunshot",
         "description_of_circumstances": "A deputy shot and killed a man following several pursuits. Details as to what precipitated the killing were withheld by police.",
         "official_disposition": "Pending investigation",
         "criminal_charges_filed": "No known charges",
         "news_article_or_photo_of_official_document": "https://www.12news.com/article/news/local/arizona/pd-mohave-county-deputy-shoots-kills-man-after-multiple-vehicle-pursuits/75-afaf6649-2b76-4134-8646-74cb767e8a94",
         "mental_illness": "No",
         "armed_unarmed_status": "Vehicle",
         "alleged_weapon": "vehicle",
         "alleged_threat_lvl": "other",
         "fleeing": "car",
         "body_camera": "nan",
         "wapo_id": "nan",
         "off_duty_killing": "nan",
         "geography": "Rural",
         "mpv_id": "nan",
         "fatal_encounters_id": "30061.0",
         "encounter_type_draft": "Traffic Stop",
         "initial_reported_reason_for_encounter_draft": "traffic stop ",
         "names_of_officers_involved_draft": "nan",
         "race_of_officers_involved_draft": "nan",
         "known_past_shootings_of_Officer_draft": "nan",
         "call_for_service_draft": "No",
         "_deepnote_index_column": 53
        },
        {
         "name": "Steven Verdone",
         "age": "nan",
         "gender": "Male",
         "race": "White",
         "img_url": "https://fatalencounters.org/wp-content/uploads/2021/01/Steven-Verdone.jpg",
         "date": "2021-01-22T00:00:00.000000",
         "address": "6241 W. Cardinal St.",
         "city": "Homosassa",
         "state": "FL",
         "zipcode": 34446,
         "county": "Citrus",
         "agency_responsible": "Citrus County Sheriff's Office",
         "ori_agency_identifier": "FL0090000",
         "cause_of_death": "Gunshot",
         "description_of_circumstances": "Deputies responded at around 9:45 a.m. to 911 calls reporting a man, Verdone, behaving erratically and running in and out of traffic near the Marathon Gas station. Verdone yelled at people near the locked entrance to the convenience store, which he also tried to enter before the deputy's arrival. Verdone approached the deputy as he was exiting his cruiser. Verdone advanced with a knife, and the deputy shot and killed him.",
         "official_disposition": "Pending investigation",
         "criminal_charges_filed": "No known charges",
         "news_article_or_photo_of_official_document": "https://www.chronicleonline.com/news/local/deputy-shoots-kills-man-armed-with-knife/article_0712050c-5cc8-11eb-bf39-ef9591178d38.html",
         "mental_illness": "Unknown",
         "armed_unarmed_status": "Allegedly Armed",
         "alleged_weapon": "knife",
         "alleged_threat_lvl": "other",
         "fleeing": "not fleeing",
         "body_camera": "no",
         "wapo_id": "6544.0",
         "off_duty_killing": "nan",
         "geography": "Suburban",
         "mpv_id": "8933.0",
         "fatal_encounters_id": "29525.0",
         "encounter_type_draft": "Mental Health/Welfare Check",
         "initial_reported_reason_for_encounter_draft": "Erratic behavior",
         "names_of_officers_involved_draft": "nan",
         "race_of_officers_involved_draft": "nan",
         "known_past_shootings_of_Officer_draft": "nan",
         "call_for_service_draft": "Yes",
         "_deepnote_index_column": 320
        },
        {
         "name": "Amanda Faulkner",
         "age": "nan",
         "gender": "Female",
         "race": "White",
         "img_url": "nan",
         "date": "2021-01-04T00:00:00.000000",
         "address": "1400 Mooney Rd.",
         "city": "Columbiana",
         "state": "AL",
         "zipcode": 35051,
         "county": "Shelby ",
         "agency_responsible": "Shelby County Sheriff's Office",
         "ori_agency_identifier": "AL0590000",
         "cause_of_death": "Gunshot",
         "description_of_circumstances": "Around 6 p.m., deputies were dispatched to a domestic disturbance. Police have withheld details as to what happened next, but say a woman ran over a deputy, and the deputy shot and killed her.",
         "official_disposition": "Pending investigation",
         "criminal_charges_filed": "No known charges",
         "news_article_or_photo_of_official_document": "https://www.al.com/news/birmingham/2021/01/female-suspect-shot-and-killed-shelby-county-run-over-during-domestic-call.html",
         "mental_illness": "No",
         "armed_unarmed_status": "Vehicle",
         "alleged_weapon": "vehicle",
         "alleged_threat_lvl": "attack",
         "fleeing": "nan",
         "body_camera": "nan",
         "wapo_id": "nan",
         "off_duty_killing": "nan",
         "geography": "Rural",
         "mpv_id": "8988.0",
         "fatal_encounters_id": "29432.0",
         "encounter_type_draft": "Domestic Disturbance",
         "initial_reported_reason_for_encounter_draft": "Domestic Disturbance",
         "names_of_officers_involved_draft": "nan",
         "race_of_officers_involved_draft": "nan",
         "known_past_shootings_of_Officer_draft": "nan",
         "call_for_service_draft": "Yes",
         "_deepnote_index_column": 375
        },
        {
         "name": "Name withheld by police",
         "age": "nan",
         "gender": "Male",
         "race": "Black",
         "img_url": "nan",
         "date": "2020-11-15T00:00:00.000000",
         "address": "Van Wick St. and Van Ness Ave.",
         "city": "Inglewood",
         "state": "CA",
         "zipcode": 90303,
         "county": "Los Angeles",
         "agency_responsible": "Los Angeles County Sheriff's Department",
         "ori_agency_identifier": "CA0190000",
         "cause_of_death": "Gunshot",
         "description_of_circumstances": "A caller reported a man in the middle of the street holding a firearm about 1:50 a.m. at an intersection. As deputies arrived, they saw a man pointing a firearm at a passing by vehicle. The deputies told the man to drop the weapon, but he allegedly turned and pointed the weapon at the deputies, who shot and killed him.",
         "official_disposition": "Pending investigation",
         "criminal_charges_filed": "No known charges",
         "news_article_or_photo_of_official_document": "https://fox5sandiego.com/news/california-news/man-shot-killed-in-la-county-after-deputies-say-he-pointed-gun-at-them/",
         "mental_illness": "Unknown",
         "armed_unarmed_status": "Allegedly armed",
         "alleged_weapon": "gun",
         "alleged_threat_lvl": "attack",
         "fleeing": "nan",
         "body_camera": "nan",
         "wapo_id": "nan",
         "off_duty_killing": "nan",
         "geography": "Urban",
         "mpv_id": "9052.0",
         "fatal_encounters_id": "29175.0",
         "encounter_type_draft": "Person with a Weapon (gun)",
         "initial_reported_reason_for_encounter_draft": "Person with a gun, erratic behavior",
         "names_of_officers_involved_draft": "nan",
         "race_of_officers_involved_draft": "nan",
         "known_past_shootings_of_Officer_draft": "nan",
         "call_for_service_draft": "Yes",
         "_deepnote_index_column": 516
        }
       ],
       "rows_bottom": null
      },
      "text/plain": "                        name  age  gender          race  \\\n1    Name withheld by police  NaN    Male  Unknown Race   \n53   Name withheld by police  NaN    Male  Unknown Race   \n320           Steven Verdone  NaN    Male         White   \n375          Amanda Faulkner  NaN  Female         White   \n516  Name withheld by police  NaN    Male         Black   \n\n                                               img_url       date  \\\n1                                                  NaN 2021-05-09   \n53                                                 NaN 2021-04-17   \n320  https://fatalencounters.org/wp-content/uploads... 2021-01-22   \n375                                                NaN 2021-01-04   \n516                                                NaN 2020-11-15   \n\n                            address        city state  zipcode  ...  \\\n1                    90 S. Main St.   Leicester    MA   1524.0  ...   \n53                1100 McVicar Ave.     Kingman    AZ  86409.0  ...   \n320            6241 W. Cardinal St.   Homosassa    FL  34446.0  ...   \n375                 1400 Mooney Rd.  Columbiana    AL  35051.0  ...   \n516  Van Wick St. and Van Ness Ave.   Inglewood    CA  90303.0  ...   \n\n    off_duty_killing geography  mpv_id fatal_encounters_id  \\\n1                NaN  Suburban     NaN                 NaN   \n53               NaN     Rural     NaN             30061.0   \n320              NaN  Suburban  8933.0             29525.0   \n375              NaN     Rural  8988.0             29432.0   \n516              NaN     Urban  9052.0             29175.0   \n\n            encounter_type_draft initial_reported_reason_for_encounter_draft  \\\n1                          Other                        deliberate car crash   \n53                  Traffic Stop                               traffic stop    \n320  Mental Health/Welfare Check                            Erratic behavior   \n375         Domestic Disturbance                        Domestic Disturbance   \n516   Person with a Weapon (gun)         Person with a gun, erratic behavior   \n\n    names_of_officers_involved_draft race_of_officers_involved_draft  \\\n1                                NaN                             NaN   \n53                               NaN                             NaN   \n320                              NaN                             NaN   \n375                              NaN                             NaN   \n516                              NaN                             NaN   \n\n    known_past_shootings_of_Officer_draft call_for_service_draft  \n1                                     NaN                    Yes  \n53                                    NaN                     No  \n320                                   NaN                    Yes  \n375                                   NaN                    Yes  \n516                                   NaN                    Yes  \n\n[5 rows x 35 columns]",
      "text/html": "<div>\n<style scoped>\n    .dataframe tbody tr th:only-of-type {\n        vertical-align: middle;\n    }\n\n    .dataframe tbody tr th {\n        vertical-align: top;\n    }\n\n    .dataframe thead th {\n        text-align: right;\n    }\n</style>\n<table border=\"1\" class=\"dataframe\">\n  <thead>\n    <tr style=\"text-align: right;\">\n      <th></th>\n      <th>name</th>\n      <th>age</th>\n      <th>gender</th>\n      <th>race</th>\n      <th>img_url</th>\n      <th>date</th>\n      <th>address</th>\n      <th>city</th>\n      <th>state</th>\n      <th>zipcode</th>\n      <th>...</th>\n      <th>off_duty_killing</th>\n      <th>geography</th>\n      <th>mpv_id</th>\n      <th>fatal_encounters_id</th>\n      <th>encounter_type_draft</th>\n      <th>initial_reported_reason_for_encounter_draft</th>\n      <th>names_of_officers_involved_draft</th>\n      <th>race_of_officers_involved_draft</th>\n      <th>known_past_shootings_of_Officer_draft</th>\n      <th>call_for_service_draft</th>\n    </tr>\n  </thead>\n  <tbody>\n    <tr>\n      <th>1</th>\n      <td>Name withheld by police</td>\n      <td>NaN</td>\n      <td>Male</td>\n      <td>Unknown Race</td>\n      <td>NaN</td>\n      <td>2021-05-09</td>\n      <td>90 S. Main St.</td>\n      <td>Leicester</td>\n      <td>MA</td>\n      <td>1524.0</td>\n      <td>...</td>\n      <td>NaN</td>\n      <td>Suburban</td>\n      <td>NaN</td>\n      <td>NaN</td>\n      <td>Other</td>\n      <td>deliberate car crash</td>\n      <td>NaN</td>\n      <td>NaN</td>\n      <td>NaN</td>\n      <td>Yes</td>\n    </tr>\n    <tr>\n      <th>53</th>\n      <td>Name withheld by police</td>\n      <td>NaN</td>\n      <td>Male</td>\n      <td>Unknown Race</td>\n      <td>NaN</td>\n      <td>2021-04-17</td>\n      <td>1100 McVicar Ave.</td>\n      <td>Kingman</td>\n      <td>AZ</td>\n      <td>86409.0</td>\n      <td>...</td>\n      <td>NaN</td>\n      <td>Rural</td>\n      <td>NaN</td>\n      <td>30061.0</td>\n      <td>Traffic Stop</td>\n      <td>traffic stop</td>\n      <td>NaN</td>\n      <td>NaN</td>\n      <td>NaN</td>\n      <td>No</td>\n    </tr>\n    <tr>\n      <th>320</th>\n      <td>Steven Verdone</td>\n      <td>NaN</td>\n      <td>Male</td>\n      <td>White</td>\n      <td>https://fatalencounters.org/wp-content/uploads...</td>\n      <td>2021-01-22</td>\n      <td>6241 W. Cardinal St.</td>\n      <td>Homosassa</td>\n      <td>FL</td>\n      <td>34446.0</td>\n      <td>...</td>\n      <td>NaN</td>\n      <td>Suburban</td>\n      <td>8933.0</td>\n      <td>29525.0</td>\n      <td>Mental Health/Welfare Check</td>\n      <td>Erratic behavior</td>\n      <td>NaN</td>\n      <td>NaN</td>\n      <td>NaN</td>\n      <td>Yes</td>\n    </tr>\n    <tr>\n      <th>375</th>\n      <td>Amanda Faulkner</td>\n      <td>NaN</td>\n      <td>Female</td>\n      <td>White</td>\n      <td>NaN</td>\n      <td>2021-01-04</td>\n      <td>1400 Mooney Rd.</td>\n      <td>Columbiana</td>\n      <td>AL</td>\n      <td>35051.0</td>\n      <td>...</td>\n      <td>NaN</td>\n      <td>Rural</td>\n      <td>8988.0</td>\n      <td>29432.0</td>\n      <td>Domestic Disturbance</td>\n      <td>Domestic Disturbance</td>\n      <td>NaN</td>\n      <td>NaN</td>\n      <td>NaN</td>\n      <td>Yes</td>\n    </tr>\n    <tr>\n      <th>516</th>\n      <td>Name withheld by police</td>\n      <td>NaN</td>\n      <td>Male</td>\n      <td>Black</td>\n      <td>NaN</td>\n      <td>2020-11-15</td>\n      <td>Van Wick St. and Van Ness Ave.</td>\n      <td>Inglewood</td>\n      <td>CA</td>\n      <td>90303.0</td>\n      <td>...</td>\n      <td>NaN</td>\n      <td>Urban</td>\n      <td>9052.0</td>\n      <td>29175.0</td>\n      <td>Person with a Weapon (gun)</td>\n      <td>Person with a gun, erratic behavior</td>\n      <td>NaN</td>\n      <td>NaN</td>\n      <td>NaN</td>\n      <td>Yes</td>\n    </tr>\n  </tbody>\n</table>\n<p>5 rows × 35 columns</p>\n</div>"
     },
     "metadata": {}
    }
   ]
  },
  {
   "cell_type": "code",
   "metadata": {
    "tags": [],
    "cell_id": "00016-d4f25e24-6f57-4657-9ce2-c8da0055127a",
    "deepnote_to_be_reexecuted": false,
    "source_hash": "41704a",
    "execution_start": 1621870427843,
    "execution_millis": 0,
    "deepnote_cell_type": "code"
   },
   "source": "# Leicester D.A. Released the name and age of the victim of this incident\ndf.loc[1, 'name'] = 'Zachary Richardson'\ndf.loc[1, 'age'] = 24",
   "execution_count": null,
   "outputs": []
  },
  {
   "cell_type": "code",
   "metadata": {
    "tags": [],
    "cell_id": "00017-ffbe998d-152f-417e-8a3f-c0e90fc6b258",
    "deepnote_to_be_reexecuted": false,
    "source_hash": "a2d42a3f",
    "execution_start": 1621870427844,
    "execution_millis": 5,
    "deepnote_cell_type": "code"
   },
   "source": "# Kingman PD released the name and age of 29–year old Kingman resident, Bradley Michael Rose.\ndf.loc[53, 'name'] = 'Bradley Michael Rose'\ndf.loc[53, 'age'] = 29",
   "execution_count": null,
   "outputs": []
  },
  {
   "cell_type": "code",
   "metadata": {
    "tags": [],
    "cell_id": "00018-118bc8b9-9390-4c74-80a8-0ae89f156db2",
    "deepnote_to_be_reexecuted": false,
    "source_hash": "e802f30e",
    "execution_start": 1621870427849,
    "execution_millis": 117,
    "deepnote_cell_type": "code"
   },
   "source": "df[df.age.isnull() == True]",
   "execution_count": null,
   "outputs": [
    {
     "output_type": "execute_result",
     "execution_count": 18,
     "data": {
      "application/vnd.deepnote.dataframe.v2+json": {
       "row_count": 3,
       "column_count": 35,
       "columns": [
        {
         "name": "name",
         "dtype": "object",
         "stats": {
          "unique_count": 3,
          "nan_count": 0,
          "categories": [
           {
            "name": "Steven Verdone",
            "count": 1
           },
           {
            "name": "Amanda Faulkner",
            "count": 1
           },
           {
            "name": "Name withheld by police",
            "count": 1
           }
          ]
         }
        },
        {
         "name": "age",
         "dtype": "object",
         "stats": {
          "unique_count": 0,
          "nan_count": 3,
          "categories": [
           {
            "name": "Missing",
            "count": 3
           }
          ]
         }
        },
        {
         "name": "gender",
         "dtype": "object",
         "stats": {
          "unique_count": 2,
          "nan_count": 0,
          "categories": [
           {
            "name": "Male",
            "count": 2
           },
           {
            "name": "Female",
            "count": 1
           }
          ]
         }
        },
        {
         "name": "race",
         "dtype": "object",
         "stats": {
          "unique_count": 2,
          "nan_count": 0,
          "categories": [
           {
            "name": "White",
            "count": 2
           },
           {
            "name": "Black",
            "count": 1
           }
          ]
         }
        },
        {
         "name": "img_url",
         "dtype": "object",
         "stats": {
          "unique_count": 1,
          "nan_count": 2,
          "categories": [
           {
            "name": "https://fatalencounters.org/wp-content/uploads/2021/01/Steven-Verdone.jpg",
            "count": 1
           },
           {
            "name": "Missing",
            "count": 2
           }
          ]
         }
        },
        {
         "name": "date",
         "dtype": "datetime64[ns]",
         "stats": {
          "unique_count": 3,
          "nan_count": 0,
          "min": "2020-11-15 00:00:00",
          "max": "2021-01-22 00:00:00",
          "histogram": [
           {
            "bin_start": 1605398400000000000,
            "bin_end": 1605985920000000000,
            "count": 1
           },
           {
            "bin_start": 1605985920000000000,
            "bin_end": 1606573440000000000,
            "count": 0
           },
           {
            "bin_start": 1606573440000000000,
            "bin_end": 1607160960000000000,
            "count": 0
           },
           {
            "bin_start": 1607160960000000000,
            "bin_end": 1607748480000000000,
            "count": 0
           },
           {
            "bin_start": 1607748480000000000,
            "bin_end": 1608336000000000000,
            "count": 0
           },
           {
            "bin_start": 1608336000000000000,
            "bin_end": 1608923520000000000,
            "count": 0
           },
           {
            "bin_start": 1608923520000000000,
            "bin_end": 1609511040000000000,
            "count": 0
           },
           {
            "bin_start": 1609511040000000000,
            "bin_end": 1610098560000000000,
            "count": 1
           },
           {
            "bin_start": 1610098560000000000,
            "bin_end": 1610686080000000000,
            "count": 0
           },
           {
            "bin_start": 1610686080000000000,
            "bin_end": 1611273600000000000,
            "count": 1
           }
          ]
         }
        },
        {
         "name": "address",
         "dtype": "object",
         "stats": {
          "unique_count": 3,
          "nan_count": 0,
          "categories": [
           {
            "name": "6241 W. Cardinal St.",
            "count": 1
           },
           {
            "name": "1400 Mooney Rd.",
            "count": 1
           },
           {
            "name": "Van Wick St. and Van Ness Ave.",
            "count": 1
           }
          ]
         }
        },
        {
         "name": "city",
         "dtype": "object",
         "stats": {
          "unique_count": 3,
          "nan_count": 0,
          "categories": [
           {
            "name": "Homosassa",
            "count": 1
           },
           {
            "name": "Columbiana",
            "count": 1
           },
           {
            "name": "Inglewood",
            "count": 1
           }
          ]
         }
        },
        {
         "name": "state",
         "dtype": "object",
         "stats": {
          "unique_count": 3,
          "nan_count": 0,
          "categories": [
           {
            "name": "FL",
            "count": 1
           },
           {
            "name": "AL",
            "count": 1
           },
           {
            "name": "CA",
            "count": 1
           }
          ]
         }
        },
        {
         "name": "zipcode",
         "dtype": "float64",
         "stats": {
          "unique_count": 3,
          "nan_count": 0,
          "min": "34446.0",
          "max": "90303.0",
          "histogram": [
           {
            "bin_start": 34446,
            "bin_end": 40031.7,
            "count": 2
           },
           {
            "bin_start": 40031.7,
            "bin_end": 45617.4,
            "count": 0
           },
           {
            "bin_start": 45617.4,
            "bin_end": 51203.1,
            "count": 0
           },
           {
            "bin_start": 51203.1,
            "bin_end": 56788.8,
            "count": 0
           },
           {
            "bin_start": 56788.8,
            "bin_end": 62374.5,
            "count": 0
           },
           {
            "bin_start": 62374.5,
            "bin_end": 67960.2,
            "count": 0
           },
           {
            "bin_start": 67960.2,
            "bin_end": 73545.9,
            "count": 0
           },
           {
            "bin_start": 73545.9,
            "bin_end": 79131.6,
            "count": 0
           },
           {
            "bin_start": 79131.6,
            "bin_end": 84717.29999999999,
            "count": 0
           },
           {
            "bin_start": 84717.29999999999,
            "bin_end": 90303,
            "count": 1
           }
          ]
         }
        },
        {
         "name": "county",
         "dtype": "object",
         "stats": {
          "unique_count": 3,
          "nan_count": 0,
          "categories": [
           {
            "name": "Citrus",
            "count": 1
           },
           {
            "name": "Shelby ",
            "count": 1
           },
           {
            "name": "Los Angeles",
            "count": 1
           }
          ]
         }
        },
        {
         "name": "agency_responsible",
         "dtype": "object",
         "stats": {
          "unique_count": 3,
          "nan_count": 0,
          "categories": [
           {
            "name": "Citrus County Sheriff's Office",
            "count": 1
           },
           {
            "name": "Shelby County Sheriff's Office",
            "count": 1
           },
           {
            "name": "Los Angeles County Sheriff's Department",
            "count": 1
           }
          ]
         }
        },
        {
         "name": "ori_agency_identifier",
         "dtype": "object",
         "stats": {
          "unique_count": 3,
          "nan_count": 0,
          "categories": [
           {
            "name": "FL0090000",
            "count": 1
           },
           {
            "name": "AL0590000",
            "count": 1
           },
           {
            "name": "CA0190000",
            "count": 1
           }
          ]
         }
        },
        {
         "name": "cause_of_death",
         "dtype": "object",
         "stats": {
          "unique_count": 1,
          "nan_count": 0,
          "categories": [
           {
            "name": "Gunshot",
            "count": 3
           }
          ]
         }
        },
        {
         "name": "description_of_circumstances",
         "dtype": "object",
         "stats": {
          "unique_count": 3,
          "nan_count": 0,
          "categories": [
           {
            "name": "Deputies responded at around 9:45 a.m. to 911 calls reporting a man, Verdone, behaving erratically and running in and out of traffic near the Marathon Gas station. Verdone yelled at people near the locked entrance to the convenience store, which he also tried to enter before the deputy's arrival. Verdone approached the deputy as he was exiting his cruiser. Verdone advanced with a knife, and the deputy shot and killed him.",
            "count": 1
           },
           {
            "name": "Around 6 p.m., deputies were dispatched to a domestic disturbance. Police have withheld details as to what happened next, but say a woman ran over a deputy, and the deputy shot and killed her.",
            "count": 1
           },
           {
            "name": "A caller reported a man in the middle of the street holding a firearm about 1:50 a.m. at an intersection. As deputies arrived, they saw a man pointing a firearm at a passing by vehicle. The deputies told the man to drop the weapon, but he allegedly turned and pointed the weapon at the deputies, who shot and killed him.",
            "count": 1
           }
          ]
         }
        },
        {
         "name": "official_disposition",
         "dtype": "object",
         "stats": {
          "unique_count": 1,
          "nan_count": 0,
          "categories": [
           {
            "name": "Pending investigation",
            "count": 3
           }
          ]
         }
        },
        {
         "name": "criminal_charges_filed",
         "dtype": "object",
         "stats": {
          "unique_count": 1,
          "nan_count": 0,
          "categories": [
           {
            "name": "No known charges",
            "count": 3
           }
          ]
         }
        },
        {
         "name": "news_article_or_photo_of_official_document",
         "dtype": "object",
         "stats": {
          "unique_count": 3,
          "nan_count": 0,
          "categories": [
           {
            "name": "https://www.chronicleonline.com/news/local/deputy-shoots-kills-man-armed-with-knife/article_0712050c-5cc8-11eb-bf39-ef9591178d38.html",
            "count": 1
           },
           {
            "name": "https://www.al.com/news/birmingham/2021/01/female-suspect-shot-and-killed-shelby-county-run-over-during-domestic-call.html",
            "count": 1
           },
           {
            "name": "https://fox5sandiego.com/news/california-news/man-shot-killed-in-la-county-after-deputies-say-he-pointed-gun-at-them/",
            "count": 1
           }
          ]
         }
        },
        {
         "name": "mental_illness",
         "dtype": "object",
         "stats": {
          "unique_count": 2,
          "nan_count": 0,
          "categories": [
           {
            "name": "Unknown",
            "count": 2
           },
           {
            "name": "No",
            "count": 1
           }
          ]
         }
        },
        {
         "name": "armed_unarmed_status",
         "dtype": "object",
         "stats": {
          "unique_count": 3,
          "nan_count": 0,
          "categories": [
           {
            "name": "Allegedly Armed",
            "count": 1
           },
           {
            "name": "Vehicle",
            "count": 1
           },
           {
            "name": "Allegedly armed",
            "count": 1
           }
          ]
         }
        },
        {
         "name": "alleged_weapon",
         "dtype": "object",
         "stats": {
          "unique_count": 3,
          "nan_count": 0,
          "categories": [
           {
            "name": "knife",
            "count": 1
           },
           {
            "name": "vehicle",
            "count": 1
           },
           {
            "name": "gun",
            "count": 1
           }
          ]
         }
        },
        {
         "name": "alleged_threat_lvl",
         "dtype": "object",
         "stats": {
          "unique_count": 2,
          "nan_count": 0,
          "categories": [
           {
            "name": "attack",
            "count": 2
           },
           {
            "name": "other",
            "count": 1
           }
          ]
         }
        },
        {
         "name": "fleeing",
         "dtype": "object",
         "stats": {
          "unique_count": 1,
          "nan_count": 2,
          "categories": [
           {
            "name": "not fleeing",
            "count": 1
           },
           {
            "name": "Missing",
            "count": 2
           }
          ]
         }
        },
        {
         "name": "body_camera",
         "dtype": "object",
         "stats": {
          "unique_count": 1,
          "nan_count": 2,
          "categories": [
           {
            "name": "no",
            "count": 1
           },
           {
            "name": "Missing",
            "count": 2
           }
          ]
         }
        },
        {
         "name": "wapo_id",
         "dtype": "float64",
         "stats": {
          "unique_count": 1,
          "nan_count": 2,
          "min": "6544.0",
          "max": "6544.0",
          "histogram": [
           {
            "bin_start": 6543.5,
            "bin_end": 6543.6,
            "count": 0
           },
           {
            "bin_start": 6543.6,
            "bin_end": 6543.7,
            "count": 0
           },
           {
            "bin_start": 6543.7,
            "bin_end": 6543.8,
            "count": 0
           },
           {
            "bin_start": 6543.8,
            "bin_end": 6543.9,
            "count": 0
           },
           {
            "bin_start": 6543.9,
            "bin_end": 6544,
            "count": 0
           },
           {
            "bin_start": 6544,
            "bin_end": 6544.1,
            "count": 1
           },
           {
            "bin_start": 6544.1,
            "bin_end": 6544.2,
            "count": 0
           },
           {
            "bin_start": 6544.2,
            "bin_end": 6544.3,
            "count": 0
           },
           {
            "bin_start": 6544.3,
            "bin_end": 6544.4,
            "count": 0
           },
           {
            "bin_start": 6544.4,
            "bin_end": 6544.5,
            "count": 0
           }
          ]
         }
        },
        {
         "name": "off_duty_killing",
         "dtype": "object",
         "stats": {
          "unique_count": 0,
          "nan_count": 3,
          "categories": [
           {
            "name": "Missing",
            "count": 3
           }
          ]
         }
        },
        {
         "name": "geography",
         "dtype": "object",
         "stats": {
          "unique_count": 3,
          "nan_count": 0,
          "categories": [
           {
            "name": "Suburban",
            "count": 1
           },
           {
            "name": "Rural",
            "count": 1
           },
           {
            "name": "Urban",
            "count": 1
           }
          ]
         }
        },
        {
         "name": "mpv_id",
         "dtype": "float64",
         "stats": {
          "unique_count": 3,
          "nan_count": 0,
          "min": "8933.0",
          "max": "9052.0",
          "histogram": [
           {
            "bin_start": 8933,
            "bin_end": 8944.9,
            "count": 1
           },
           {
            "bin_start": 8944.9,
            "bin_end": 8956.8,
            "count": 0
           },
           {
            "bin_start": 8956.8,
            "bin_end": 8968.7,
            "count": 0
           },
           {
            "bin_start": 8968.7,
            "bin_end": 8980.6,
            "count": 0
           },
           {
            "bin_start": 8980.6,
            "bin_end": 8992.5,
            "count": 1
           },
           {
            "bin_start": 8992.5,
            "bin_end": 9004.4,
            "count": 0
           },
           {
            "bin_start": 9004.4,
            "bin_end": 9016.3,
            "count": 0
           },
           {
            "bin_start": 9016.3,
            "bin_end": 9028.2,
            "count": 0
           },
           {
            "bin_start": 9028.2,
            "bin_end": 9040.1,
            "count": 0
           },
           {
            "bin_start": 9040.1,
            "bin_end": 9052,
            "count": 1
           }
          ]
         }
        },
        {
         "name": "fatal_encounters_id",
         "dtype": "float64",
         "stats": {
          "unique_count": 3,
          "nan_count": 0,
          "min": "29175.0",
          "max": "29525.0",
          "histogram": [
           {
            "bin_start": 29175,
            "bin_end": 29210,
            "count": 1
           },
           {
            "bin_start": 29210,
            "bin_end": 29245,
            "count": 0
           },
           {
            "bin_start": 29245,
            "bin_end": 29280,
            "count": 0
           },
           {
            "bin_start": 29280,
            "bin_end": 29315,
            "count": 0
           },
           {
            "bin_start": 29315,
            "bin_end": 29350,
            "count": 0
           },
           {
            "bin_start": 29350,
            "bin_end": 29385,
            "count": 0
           },
           {
            "bin_start": 29385,
            "bin_end": 29420,
            "count": 0
           },
           {
            "bin_start": 29420,
            "bin_end": 29455,
            "count": 1
           },
           {
            "bin_start": 29455,
            "bin_end": 29490,
            "count": 0
           },
           {
            "bin_start": 29490,
            "bin_end": 29525,
            "count": 1
           }
          ]
         }
        },
        {
         "name": "encounter_type_draft",
         "dtype": "object",
         "stats": {
          "unique_count": 3,
          "nan_count": 0,
          "categories": [
           {
            "name": "Mental Health/Welfare Check",
            "count": 1
           },
           {
            "name": "Domestic Disturbance",
            "count": 1
           },
           {
            "name": "Person with a Weapon (gun)",
            "count": 1
           }
          ]
         }
        },
        {
         "name": "initial_reported_reason_for_encounter_draft",
         "dtype": "object",
         "stats": {
          "unique_count": 3,
          "nan_count": 0,
          "categories": [
           {
            "name": "Erratic behavior",
            "count": 1
           },
           {
            "name": "Domestic Disturbance",
            "count": 1
           },
           {
            "name": "Person with a gun, erratic behavior",
            "count": 1
           }
          ]
         }
        },
        {
         "name": "names_of_officers_involved_draft",
         "dtype": "object",
         "stats": {
          "unique_count": 0,
          "nan_count": 3,
          "categories": [
           {
            "name": "Missing",
            "count": 3
           }
          ]
         }
        },
        {
         "name": "race_of_officers_involved_draft",
         "dtype": "object",
         "stats": {
          "unique_count": 0,
          "nan_count": 3,
          "categories": [
           {
            "name": "Missing",
            "count": 3
           }
          ]
         }
        },
        {
         "name": "known_past_shootings_of_Officer_draft",
         "dtype": "object",
         "stats": {
          "unique_count": 0,
          "nan_count": 3,
          "categories": [
           {
            "name": "Missing",
            "count": 3
           }
          ]
         }
        },
        {
         "name": "call_for_service_draft",
         "dtype": "object",
         "stats": {
          "unique_count": 1,
          "nan_count": 0,
          "categories": [
           {
            "name": "Yes",
            "count": 3
           }
          ]
         }
        },
        {
         "name": "_deepnote_index_column",
         "dtype": "int64"
        }
       ],
       "rows_top": [
        {
         "name": "Steven Verdone",
         "age": "nan",
         "gender": "Male",
         "race": "White",
         "img_url": "https://fatalencounters.org/wp-content/uploads/2021/01/Steven-Verdone.jpg",
         "date": "2021-01-22T00:00:00.000000",
         "address": "6241 W. Cardinal St.",
         "city": "Homosassa",
         "state": "FL",
         "zipcode": 34446,
         "county": "Citrus",
         "agency_responsible": "Citrus County Sheriff's Office",
         "ori_agency_identifier": "FL0090000",
         "cause_of_death": "Gunshot",
         "description_of_circumstances": "Deputies responded at around 9:45 a.m. to 911 calls reporting a man, Verdone, behaving erratically and running in and out of traffic near the Marathon Gas station. Verdone yelled at people near the locked entrance to the convenience store, which he also tried to enter before the deputy's arrival. Verdone approached the deputy as he was exiting his cruiser. Verdone advanced with a knife, and the deputy shot and killed him.",
         "official_disposition": "Pending investigation",
         "criminal_charges_filed": "No known charges",
         "news_article_or_photo_of_official_document": "https://www.chronicleonline.com/news/local/deputy-shoots-kills-man-armed-with-knife/article_0712050c-5cc8-11eb-bf39-ef9591178d38.html",
         "mental_illness": "Unknown",
         "armed_unarmed_status": "Allegedly Armed",
         "alleged_weapon": "knife",
         "alleged_threat_lvl": "other",
         "fleeing": "not fleeing",
         "body_camera": "no",
         "wapo_id": "6544.0",
         "off_duty_killing": "nan",
         "geography": "Suburban",
         "mpv_id": 8933,
         "fatal_encounters_id": 29525,
         "encounter_type_draft": "Mental Health/Welfare Check",
         "initial_reported_reason_for_encounter_draft": "Erratic behavior",
         "names_of_officers_involved_draft": "nan",
         "race_of_officers_involved_draft": "nan",
         "known_past_shootings_of_Officer_draft": "nan",
         "call_for_service_draft": "Yes",
         "_deepnote_index_column": 320
        },
        {
         "name": "Amanda Faulkner",
         "age": "nan",
         "gender": "Female",
         "race": "White",
         "img_url": "nan",
         "date": "2021-01-04T00:00:00.000000",
         "address": "1400 Mooney Rd.",
         "city": "Columbiana",
         "state": "AL",
         "zipcode": 35051,
         "county": "Shelby ",
         "agency_responsible": "Shelby County Sheriff's Office",
         "ori_agency_identifier": "AL0590000",
         "cause_of_death": "Gunshot",
         "description_of_circumstances": "Around 6 p.m., deputies were dispatched to a domestic disturbance. Police have withheld details as to what happened next, but say a woman ran over a deputy, and the deputy shot and killed her.",
         "official_disposition": "Pending investigation",
         "criminal_charges_filed": "No known charges",
         "news_article_or_photo_of_official_document": "https://www.al.com/news/birmingham/2021/01/female-suspect-shot-and-killed-shelby-county-run-over-during-domestic-call.html",
         "mental_illness": "No",
         "armed_unarmed_status": "Vehicle",
         "alleged_weapon": "vehicle",
         "alleged_threat_lvl": "attack",
         "fleeing": "nan",
         "body_camera": "nan",
         "wapo_id": "nan",
         "off_duty_killing": "nan",
         "geography": "Rural",
         "mpv_id": 8988,
         "fatal_encounters_id": 29432,
         "encounter_type_draft": "Domestic Disturbance",
         "initial_reported_reason_for_encounter_draft": "Domestic Disturbance",
         "names_of_officers_involved_draft": "nan",
         "race_of_officers_involved_draft": "nan",
         "known_past_shootings_of_Officer_draft": "nan",
         "call_for_service_draft": "Yes",
         "_deepnote_index_column": 375
        },
        {
         "name": "Name withheld by police",
         "age": "nan",
         "gender": "Male",
         "race": "Black",
         "img_url": "nan",
         "date": "2020-11-15T00:00:00.000000",
         "address": "Van Wick St. and Van Ness Ave.",
         "city": "Inglewood",
         "state": "CA",
         "zipcode": 90303,
         "county": "Los Angeles",
         "agency_responsible": "Los Angeles County Sheriff's Department",
         "ori_agency_identifier": "CA0190000",
         "cause_of_death": "Gunshot",
         "description_of_circumstances": "A caller reported a man in the middle of the street holding a firearm about 1:50 a.m. at an intersection. As deputies arrived, they saw a man pointing a firearm at a passing by vehicle. The deputies told the man to drop the weapon, but he allegedly turned and pointed the weapon at the deputies, who shot and killed him.",
         "official_disposition": "Pending investigation",
         "criminal_charges_filed": "No known charges",
         "news_article_or_photo_of_official_document": "https://fox5sandiego.com/news/california-news/man-shot-killed-in-la-county-after-deputies-say-he-pointed-gun-at-them/",
         "mental_illness": "Unknown",
         "armed_unarmed_status": "Allegedly armed",
         "alleged_weapon": "gun",
         "alleged_threat_lvl": "attack",
         "fleeing": "nan",
         "body_camera": "nan",
         "wapo_id": "nan",
         "off_duty_killing": "nan",
         "geography": "Urban",
         "mpv_id": 9052,
         "fatal_encounters_id": 29175,
         "encounter_type_draft": "Person with a Weapon (gun)",
         "initial_reported_reason_for_encounter_draft": "Person with a gun, erratic behavior",
         "names_of_officers_involved_draft": "nan",
         "race_of_officers_involved_draft": "nan",
         "known_past_shootings_of_Officer_draft": "nan",
         "call_for_service_draft": "Yes",
         "_deepnote_index_column": 516
        }
       ],
       "rows_bottom": null
      },
      "text/plain": "                        name  age  gender   race  \\\n320           Steven Verdone  NaN    Male  White   \n375          Amanda Faulkner  NaN  Female  White   \n516  Name withheld by police  NaN    Male  Black   \n\n                                               img_url       date  \\\n320  https://fatalencounters.org/wp-content/uploads... 2021-01-22   \n375                                                NaN 2021-01-04   \n516                                                NaN 2020-11-15   \n\n                            address        city state  zipcode  ...  \\\n320            6241 W. Cardinal St.   Homosassa    FL  34446.0  ...   \n375                 1400 Mooney Rd.  Columbiana    AL  35051.0  ...   \n516  Van Wick St. and Van Ness Ave.   Inglewood    CA  90303.0  ...   \n\n    off_duty_killing geography  mpv_id fatal_encounters_id  \\\n320              NaN  Suburban  8933.0             29525.0   \n375              NaN     Rural  8988.0             29432.0   \n516              NaN     Urban  9052.0             29175.0   \n\n            encounter_type_draft initial_reported_reason_for_encounter_draft  \\\n320  Mental Health/Welfare Check                            Erratic behavior   \n375         Domestic Disturbance                        Domestic Disturbance   \n516   Person with a Weapon (gun)         Person with a gun, erratic behavior   \n\n    names_of_officers_involved_draft race_of_officers_involved_draft  \\\n320                              NaN                             NaN   \n375                              NaN                             NaN   \n516                              NaN                             NaN   \n\n    known_past_shootings_of_Officer_draft call_for_service_draft  \n320                                   NaN                    Yes  \n375                                   NaN                    Yes  \n516                                   NaN                    Yes  \n\n[3 rows x 35 columns]",
      "text/html": "<div>\n<style scoped>\n    .dataframe tbody tr th:only-of-type {\n        vertical-align: middle;\n    }\n\n    .dataframe tbody tr th {\n        vertical-align: top;\n    }\n\n    .dataframe thead th {\n        text-align: right;\n    }\n</style>\n<table border=\"1\" class=\"dataframe\">\n  <thead>\n    <tr style=\"text-align: right;\">\n      <th></th>\n      <th>name</th>\n      <th>age</th>\n      <th>gender</th>\n      <th>race</th>\n      <th>img_url</th>\n      <th>date</th>\n      <th>address</th>\n      <th>city</th>\n      <th>state</th>\n      <th>zipcode</th>\n      <th>...</th>\n      <th>off_duty_killing</th>\n      <th>geography</th>\n      <th>mpv_id</th>\n      <th>fatal_encounters_id</th>\n      <th>encounter_type_draft</th>\n      <th>initial_reported_reason_for_encounter_draft</th>\n      <th>names_of_officers_involved_draft</th>\n      <th>race_of_officers_involved_draft</th>\n      <th>known_past_shootings_of_Officer_draft</th>\n      <th>call_for_service_draft</th>\n    </tr>\n  </thead>\n  <tbody>\n    <tr>\n      <th>320</th>\n      <td>Steven Verdone</td>\n      <td>NaN</td>\n      <td>Male</td>\n      <td>White</td>\n      <td>https://fatalencounters.org/wp-content/uploads...</td>\n      <td>2021-01-22</td>\n      <td>6241 W. Cardinal St.</td>\n      <td>Homosassa</td>\n      <td>FL</td>\n      <td>34446.0</td>\n      <td>...</td>\n      <td>NaN</td>\n      <td>Suburban</td>\n      <td>8933.0</td>\n      <td>29525.0</td>\n      <td>Mental Health/Welfare Check</td>\n      <td>Erratic behavior</td>\n      <td>NaN</td>\n      <td>NaN</td>\n      <td>NaN</td>\n      <td>Yes</td>\n    </tr>\n    <tr>\n      <th>375</th>\n      <td>Amanda Faulkner</td>\n      <td>NaN</td>\n      <td>Female</td>\n      <td>White</td>\n      <td>NaN</td>\n      <td>2021-01-04</td>\n      <td>1400 Mooney Rd.</td>\n      <td>Columbiana</td>\n      <td>AL</td>\n      <td>35051.0</td>\n      <td>...</td>\n      <td>NaN</td>\n      <td>Rural</td>\n      <td>8988.0</td>\n      <td>29432.0</td>\n      <td>Domestic Disturbance</td>\n      <td>Domestic Disturbance</td>\n      <td>NaN</td>\n      <td>NaN</td>\n      <td>NaN</td>\n      <td>Yes</td>\n    </tr>\n    <tr>\n      <th>516</th>\n      <td>Name withheld by police</td>\n      <td>NaN</td>\n      <td>Male</td>\n      <td>Black</td>\n      <td>NaN</td>\n      <td>2020-11-15</td>\n      <td>Van Wick St. and Van Ness Ave.</td>\n      <td>Inglewood</td>\n      <td>CA</td>\n      <td>90303.0</td>\n      <td>...</td>\n      <td>NaN</td>\n      <td>Urban</td>\n      <td>9052.0</td>\n      <td>29175.0</td>\n      <td>Person with a Weapon (gun)</td>\n      <td>Person with a gun, erratic behavior</td>\n      <td>NaN</td>\n      <td>NaN</td>\n      <td>NaN</td>\n      <td>Yes</td>\n    </tr>\n  </tbody>\n</table>\n<p>3 rows × 35 columns</p>\n</div>"
     },
     "metadata": {}
    }
   ]
  },
  {
   "cell_type": "code",
   "metadata": {
    "tags": [],
    "cell_id": "00019-cd24f2d9-7d49-477c-80db-3183c482e9a1",
    "deepnote_to_be_reexecuted": false,
    "source_hash": "a85d27df",
    "execution_start": 1621870427976,
    "execution_millis": 264457679,
    "deepnote_cell_type": "code"
   },
   "source": "df.loc[320, 'age'] = 57",
   "execution_count": null,
   "outputs": []
  },
  {
   "cell_type": "code",
   "metadata": {
    "tags": [],
    "cell_id": "00020-9cf7ddf1-a09e-4575-9042-9d0a2876841e",
    "deepnote_to_be_reexecuted": false,
    "source_hash": "d15e1db5",
    "execution_start": 1621870428026,
    "execution_millis": 264457684,
    "deepnote_cell_type": "code"
   },
   "source": "# Amanda Falkner was 48 years old\ndf.loc[375, 'age'] = 48",
   "execution_count": null,
   "outputs": []
  },
  {
   "cell_type": "code",
   "metadata": {
    "tags": [],
    "cell_id": "00021-012b24d2-2aad-4e8d-9d91-99c619e0cd2a",
    "deepnote_to_be_reexecuted": false,
    "source_hash": "e802f30e",
    "execution_start": 1621870428027,
    "execution_millis": 74,
    "deepnote_cell_type": "code"
   },
   "source": "df[df.age.isnull() == True]",
   "execution_count": null,
   "outputs": [
    {
     "output_type": "execute_result",
     "execution_count": 21,
     "data": {
      "application/vnd.deepnote.dataframe.v2+json": {
       "row_count": 1,
       "column_count": 35,
       "columns": [
        {
         "name": "name",
         "dtype": "object",
         "stats": {
          "unique_count": 1,
          "nan_count": 0,
          "categories": [
           {
            "name": "Name withheld by police",
            "count": 1
           }
          ]
         }
        },
        {
         "name": "age",
         "dtype": "object",
         "stats": {
          "unique_count": 0,
          "nan_count": 1,
          "categories": [
           {
            "name": "Missing",
            "count": 1
           }
          ]
         }
        },
        {
         "name": "gender",
         "dtype": "object",
         "stats": {
          "unique_count": 1,
          "nan_count": 0,
          "categories": [
           {
            "name": "Male",
            "count": 1
           }
          ]
         }
        },
        {
         "name": "race",
         "dtype": "object",
         "stats": {
          "unique_count": 1,
          "nan_count": 0,
          "categories": [
           {
            "name": "Black",
            "count": 1
           }
          ]
         }
        },
        {
         "name": "img_url",
         "dtype": "object",
         "stats": {
          "unique_count": 0,
          "nan_count": 1,
          "categories": [
           {
            "name": "Missing",
            "count": 1
           }
          ]
         }
        },
        {
         "name": "date",
         "dtype": "datetime64[ns]",
         "stats": {
          "unique_count": 1,
          "nan_count": 0,
          "min": "2020-11-15 00:00:00",
          "max": "2020-11-15 00:00:00",
          "histogram": null
         }
        },
        {
         "name": "address",
         "dtype": "object",
         "stats": {
          "unique_count": 1,
          "nan_count": 0,
          "categories": [
           {
            "name": "Van Wick St. and Van Ness Ave.",
            "count": 1
           }
          ]
         }
        },
        {
         "name": "city",
         "dtype": "object",
         "stats": {
          "unique_count": 1,
          "nan_count": 0,
          "categories": [
           {
            "name": "Inglewood",
            "count": 1
           }
          ]
         }
        },
        {
         "name": "state",
         "dtype": "object",
         "stats": {
          "unique_count": 1,
          "nan_count": 0,
          "categories": [
           {
            "name": "CA",
            "count": 1
           }
          ]
         }
        },
        {
         "name": "zipcode",
         "dtype": "float64",
         "stats": {
          "unique_count": 1,
          "nan_count": 0,
          "min": "90303.0",
          "max": "90303.0",
          "histogram": [
           {
            "bin_start": 90302.5,
            "bin_end": 90302.6,
            "count": 0
           },
           {
            "bin_start": 90302.6,
            "bin_end": 90302.7,
            "count": 0
           },
           {
            "bin_start": 90302.7,
            "bin_end": 90302.8,
            "count": 0
           },
           {
            "bin_start": 90302.8,
            "bin_end": 90302.9,
            "count": 0
           },
           {
            "bin_start": 90302.9,
            "bin_end": 90303,
            "count": 0
           },
           {
            "bin_start": 90303,
            "bin_end": 90303.1,
            "count": 1
           },
           {
            "bin_start": 90303.1,
            "bin_end": 90303.2,
            "count": 0
           },
           {
            "bin_start": 90303.2,
            "bin_end": 90303.3,
            "count": 0
           },
           {
            "bin_start": 90303.3,
            "bin_end": 90303.4,
            "count": 0
           },
           {
            "bin_start": 90303.4,
            "bin_end": 90303.5,
            "count": 0
           }
          ]
         }
        },
        {
         "name": "county",
         "dtype": "object",
         "stats": {
          "unique_count": 1,
          "nan_count": 0,
          "categories": [
           {
            "name": "Los Angeles",
            "count": 1
           }
          ]
         }
        },
        {
         "name": "agency_responsible",
         "dtype": "object",
         "stats": {
          "unique_count": 1,
          "nan_count": 0,
          "categories": [
           {
            "name": "Los Angeles County Sheriff's Department",
            "count": 1
           }
          ]
         }
        },
        {
         "name": "ori_agency_identifier",
         "dtype": "object",
         "stats": {
          "unique_count": 1,
          "nan_count": 0,
          "categories": [
           {
            "name": "CA0190000",
            "count": 1
           }
          ]
         }
        },
        {
         "name": "cause_of_death",
         "dtype": "object",
         "stats": {
          "unique_count": 1,
          "nan_count": 0,
          "categories": [
           {
            "name": "Gunshot",
            "count": 1
           }
          ]
         }
        },
        {
         "name": "description_of_circumstances",
         "dtype": "object",
         "stats": {
          "unique_count": 1,
          "nan_count": 0,
          "categories": [
           {
            "name": "A caller reported a man in the middle of the street holding a firearm about 1:50 a.m. at an intersection. As deputies arrived, they saw a man pointing a firearm at a passing by vehicle. The deputies told the man to drop the weapon, but he allegedly turned and pointed the weapon at the deputies, who shot and killed him.",
            "count": 1
           }
          ]
         }
        },
        {
         "name": "official_disposition",
         "dtype": "object",
         "stats": {
          "unique_count": 1,
          "nan_count": 0,
          "categories": [
           {
            "name": "Pending investigation",
            "count": 1
           }
          ]
         }
        },
        {
         "name": "criminal_charges_filed",
         "dtype": "object",
         "stats": {
          "unique_count": 1,
          "nan_count": 0,
          "categories": [
           {
            "name": "No known charges",
            "count": 1
           }
          ]
         }
        },
        {
         "name": "news_article_or_photo_of_official_document",
         "dtype": "object",
         "stats": {
          "unique_count": 1,
          "nan_count": 0,
          "categories": [
           {
            "name": "https://fox5sandiego.com/news/california-news/man-shot-killed-in-la-county-after-deputies-say-he-pointed-gun-at-them/",
            "count": 1
           }
          ]
         }
        },
        {
         "name": "mental_illness",
         "dtype": "object",
         "stats": {
          "unique_count": 1,
          "nan_count": 0,
          "categories": [
           {
            "name": "Unknown",
            "count": 1
           }
          ]
         }
        },
        {
         "name": "armed_unarmed_status",
         "dtype": "object",
         "stats": {
          "unique_count": 1,
          "nan_count": 0,
          "categories": [
           {
            "name": "Allegedly armed",
            "count": 1
           }
          ]
         }
        },
        {
         "name": "alleged_weapon",
         "dtype": "object",
         "stats": {
          "unique_count": 1,
          "nan_count": 0,
          "categories": [
           {
            "name": "gun",
            "count": 1
           }
          ]
         }
        },
        {
         "name": "alleged_threat_lvl",
         "dtype": "object",
         "stats": {
          "unique_count": 1,
          "nan_count": 0,
          "categories": [
           {
            "name": "attack",
            "count": 1
           }
          ]
         }
        },
        {
         "name": "fleeing",
         "dtype": "object",
         "stats": {
          "unique_count": 0,
          "nan_count": 1,
          "categories": [
           {
            "name": "Missing",
            "count": 1
           }
          ]
         }
        },
        {
         "name": "body_camera",
         "dtype": "object",
         "stats": {
          "unique_count": 0,
          "nan_count": 1,
          "categories": [
           {
            "name": "Missing",
            "count": 1
           }
          ]
         }
        },
        {
         "name": "wapo_id",
         "dtype": "float64",
         "stats": {
          "unique_count": 0,
          "nan_count": 1,
          "min": null,
          "max": null,
          "histogram": [
           {
            "bin_start": 0,
            "bin_end": 0.1,
            "count": 0
           },
           {
            "bin_start": 0.1,
            "bin_end": 0.2,
            "count": 0
           },
           {
            "bin_start": 0.2,
            "bin_end": 0.30000000000000004,
            "count": 0
           },
           {
            "bin_start": 0.30000000000000004,
            "bin_end": 0.4,
            "count": 0
           },
           {
            "bin_start": 0.4,
            "bin_end": 0.5,
            "count": 0
           },
           {
            "bin_start": 0.5,
            "bin_end": 0.6000000000000001,
            "count": 0
           },
           {
            "bin_start": 0.6000000000000001,
            "bin_end": 0.7000000000000001,
            "count": 0
           },
           {
            "bin_start": 0.7000000000000001,
            "bin_end": 0.8,
            "count": 0
           },
           {
            "bin_start": 0.8,
            "bin_end": 0.9,
            "count": 0
           },
           {
            "bin_start": 0.9,
            "bin_end": 1,
            "count": 0
           }
          ]
         }
        },
        {
         "name": "off_duty_killing",
         "dtype": "object",
         "stats": {
          "unique_count": 0,
          "nan_count": 1,
          "categories": [
           {
            "name": "Missing",
            "count": 1
           }
          ]
         }
        },
        {
         "name": "geography",
         "dtype": "object",
         "stats": {
          "unique_count": 1,
          "nan_count": 0,
          "categories": [
           {
            "name": "Urban",
            "count": 1
           }
          ]
         }
        },
        {
         "name": "mpv_id",
         "dtype": "float64",
         "stats": {
          "unique_count": 1,
          "nan_count": 0,
          "min": "9052.0",
          "max": "9052.0",
          "histogram": [
           {
            "bin_start": 9051.5,
            "bin_end": 9051.6,
            "count": 0
           },
           {
            "bin_start": 9051.6,
            "bin_end": 9051.7,
            "count": 0
           },
           {
            "bin_start": 9051.7,
            "bin_end": 9051.8,
            "count": 0
           },
           {
            "bin_start": 9051.8,
            "bin_end": 9051.9,
            "count": 0
           },
           {
            "bin_start": 9051.9,
            "bin_end": 9052,
            "count": 0
           },
           {
            "bin_start": 9052,
            "bin_end": 9052.1,
            "count": 1
           },
           {
            "bin_start": 9052.1,
            "bin_end": 9052.2,
            "count": 0
           },
           {
            "bin_start": 9052.2,
            "bin_end": 9052.3,
            "count": 0
           },
           {
            "bin_start": 9052.3,
            "bin_end": 9052.4,
            "count": 0
           },
           {
            "bin_start": 9052.4,
            "bin_end": 9052.5,
            "count": 0
           }
          ]
         }
        },
        {
         "name": "fatal_encounters_id",
         "dtype": "float64",
         "stats": {
          "unique_count": 1,
          "nan_count": 0,
          "min": "29175.0",
          "max": "29175.0",
          "histogram": [
           {
            "bin_start": 29174.5,
            "bin_end": 29174.6,
            "count": 0
           },
           {
            "bin_start": 29174.6,
            "bin_end": 29174.7,
            "count": 0
           },
           {
            "bin_start": 29174.7,
            "bin_end": 29174.8,
            "count": 0
           },
           {
            "bin_start": 29174.8,
            "bin_end": 29174.9,
            "count": 0
           },
           {
            "bin_start": 29174.9,
            "bin_end": 29175,
            "count": 0
           },
           {
            "bin_start": 29175,
            "bin_end": 29175.1,
            "count": 1
           },
           {
            "bin_start": 29175.1,
            "bin_end": 29175.2,
            "count": 0
           },
           {
            "bin_start": 29175.2,
            "bin_end": 29175.3,
            "count": 0
           },
           {
            "bin_start": 29175.3,
            "bin_end": 29175.4,
            "count": 0
           },
           {
            "bin_start": 29175.4,
            "bin_end": 29175.5,
            "count": 0
           }
          ]
         }
        },
        {
         "name": "encounter_type_draft",
         "dtype": "object",
         "stats": {
          "unique_count": 1,
          "nan_count": 0,
          "categories": [
           {
            "name": "Person with a Weapon (gun)",
            "count": 1
           }
          ]
         }
        },
        {
         "name": "initial_reported_reason_for_encounter_draft",
         "dtype": "object",
         "stats": {
          "unique_count": 1,
          "nan_count": 0,
          "categories": [
           {
            "name": "Person with a gun, erratic behavior",
            "count": 1
           }
          ]
         }
        },
        {
         "name": "names_of_officers_involved_draft",
         "dtype": "object",
         "stats": {
          "unique_count": 0,
          "nan_count": 1,
          "categories": [
           {
            "name": "Missing",
            "count": 1
           }
          ]
         }
        },
        {
         "name": "race_of_officers_involved_draft",
         "dtype": "object",
         "stats": {
          "unique_count": 0,
          "nan_count": 1,
          "categories": [
           {
            "name": "Missing",
            "count": 1
           }
          ]
         }
        },
        {
         "name": "known_past_shootings_of_Officer_draft",
         "dtype": "object",
         "stats": {
          "unique_count": 0,
          "nan_count": 1,
          "categories": [
           {
            "name": "Missing",
            "count": 1
           }
          ]
         }
        },
        {
         "name": "call_for_service_draft",
         "dtype": "object",
         "stats": {
          "unique_count": 1,
          "nan_count": 0,
          "categories": [
           {
            "name": "Yes",
            "count": 1
           }
          ]
         }
        },
        {
         "name": "_deepnote_index_column",
         "dtype": "int64"
        }
       ],
       "rows_top": [
        {
         "name": "Name withheld by police",
         "age": "nan",
         "gender": "Male",
         "race": "Black",
         "img_url": "nan",
         "date": "2020-11-15T00:00:00.000000",
         "address": "Van Wick St. and Van Ness Ave.",
         "city": "Inglewood",
         "state": "CA",
         "zipcode": 90303,
         "county": "Los Angeles",
         "agency_responsible": "Los Angeles County Sheriff's Department",
         "ori_agency_identifier": "CA0190000",
         "cause_of_death": "Gunshot",
         "description_of_circumstances": "A caller reported a man in the middle of the street holding a firearm about 1:50 a.m. at an intersection. As deputies arrived, they saw a man pointing a firearm at a passing by vehicle. The deputies told the man to drop the weapon, but he allegedly turned and pointed the weapon at the deputies, who shot and killed him.",
         "official_disposition": "Pending investigation",
         "criminal_charges_filed": "No known charges",
         "news_article_or_photo_of_official_document": "https://fox5sandiego.com/news/california-news/man-shot-killed-in-la-county-after-deputies-say-he-pointed-gun-at-them/",
         "mental_illness": "Unknown",
         "armed_unarmed_status": "Allegedly armed",
         "alleged_weapon": "gun",
         "alleged_threat_lvl": "attack",
         "fleeing": "nan",
         "body_camera": "nan",
         "wapo_id": "nan",
         "off_duty_killing": "nan",
         "geography": "Urban",
         "mpv_id": 9052,
         "fatal_encounters_id": 29175,
         "encounter_type_draft": "Person with a Weapon (gun)",
         "initial_reported_reason_for_encounter_draft": "Person with a gun, erratic behavior",
         "names_of_officers_involved_draft": "nan",
         "race_of_officers_involved_draft": "nan",
         "known_past_shootings_of_Officer_draft": "nan",
         "call_for_service_draft": "Yes",
         "_deepnote_index_column": 516
        }
       ],
       "rows_bottom": null
      },
      "text/plain": "                        name  age gender   race img_url       date  \\\n516  Name withheld by police  NaN   Male  Black     NaN 2020-11-15   \n\n                            address       city state  zipcode  ...  \\\n516  Van Wick St. and Van Ness Ave.  Inglewood    CA  90303.0  ...   \n\n    off_duty_killing geography  mpv_id fatal_encounters_id  \\\n516              NaN     Urban  9052.0             29175.0   \n\n           encounter_type_draft initial_reported_reason_for_encounter_draft  \\\n516  Person with a Weapon (gun)         Person with a gun, erratic behavior   \n\n    names_of_officers_involved_draft race_of_officers_involved_draft  \\\n516                              NaN                             NaN   \n\n    known_past_shootings_of_Officer_draft call_for_service_draft  \n516                                   NaN                    Yes  \n\n[1 rows x 35 columns]",
      "text/html": "<div>\n<style scoped>\n    .dataframe tbody tr th:only-of-type {\n        vertical-align: middle;\n    }\n\n    .dataframe tbody tr th {\n        vertical-align: top;\n    }\n\n    .dataframe thead th {\n        text-align: right;\n    }\n</style>\n<table border=\"1\" class=\"dataframe\">\n  <thead>\n    <tr style=\"text-align: right;\">\n      <th></th>\n      <th>name</th>\n      <th>age</th>\n      <th>gender</th>\n      <th>race</th>\n      <th>img_url</th>\n      <th>date</th>\n      <th>address</th>\n      <th>city</th>\n      <th>state</th>\n      <th>zipcode</th>\n      <th>...</th>\n      <th>off_duty_killing</th>\n      <th>geography</th>\n      <th>mpv_id</th>\n      <th>fatal_encounters_id</th>\n      <th>encounter_type_draft</th>\n      <th>initial_reported_reason_for_encounter_draft</th>\n      <th>names_of_officers_involved_draft</th>\n      <th>race_of_officers_involved_draft</th>\n      <th>known_past_shootings_of_Officer_draft</th>\n      <th>call_for_service_draft</th>\n    </tr>\n  </thead>\n  <tbody>\n    <tr>\n      <th>516</th>\n      <td>Name withheld by police</td>\n      <td>NaN</td>\n      <td>Male</td>\n      <td>Black</td>\n      <td>NaN</td>\n      <td>2020-11-15</td>\n      <td>Van Wick St. and Van Ness Ave.</td>\n      <td>Inglewood</td>\n      <td>CA</td>\n      <td>90303.0</td>\n      <td>...</td>\n      <td>NaN</td>\n      <td>Urban</td>\n      <td>9052.0</td>\n      <td>29175.0</td>\n      <td>Person with a Weapon (gun)</td>\n      <td>Person with a gun, erratic behavior</td>\n      <td>NaN</td>\n      <td>NaN</td>\n      <td>NaN</td>\n      <td>Yes</td>\n    </tr>\n  </tbody>\n</table>\n<p>1 rows × 35 columns</p>\n</div>"
     },
     "metadata": {}
    }
   ]
  },
  {
   "cell_type": "code",
   "metadata": {
    "tags": [],
    "cell_id": "00022-4e392300-e4e6-4aea-b441-beb95f786a5d",
    "deepnote_to_be_reexecuted": false,
    "source_hash": "ff4991b7",
    "execution_start": 1621870428089,
    "execution_millis": 3,
    "deepnote_cell_type": "code"
   },
   "source": "# Name not released but age is 40-45 will make age 43\ndf.loc[516, 'age'] = 43",
   "execution_count": null,
   "outputs": []
  },
  {
   "cell_type": "code",
   "metadata": {
    "tags": [],
    "cell_id": "00024-a0bdf57d-8ef3-409a-8f53-061fd2158b4d",
    "deepnote_to_be_reexecuted": false,
    "source_hash": "aee422df",
    "execution_start": 1621870428095,
    "execution_millis": 348,
    "deepnote_cell_type": "code"
   },
   "source": "df[df.fatal_encounters_id.isnull() == True]",
   "execution_count": null,
   "outputs": [
    {
     "output_type": "execute_result",
     "execution_count": 23,
     "data": {
      "application/vnd.deepnote.dataframe.v2+json": {
       "row_count": 131,
       "column_count": 35,
       "columns": [
        {
         "name": "name",
         "dtype": "object",
         "stats": {
          "unique_count": 123,
          "nan_count": 0,
          "categories": [
           {
            "name": "Name withheld by police",
            "count": 9
           },
           {
            "name": "Kalon Horton",
            "count": 1
           },
           {
            "name": "121 others",
            "count": 121
           }
          ]
         }
        },
        {
         "name": "age",
         "dtype": "object",
         "stats": {
          "unique_count": 48,
          "nan_count": 0,
          "categories": [
           {
            "name": "Unknown",
            "count": 18
           },
           {
            "name": "27",
            "count": 8
           },
           {
            "name": "46 others",
            "count": 105
           }
          ]
         }
        },
        {
         "name": "gender",
         "dtype": "object",
         "stats": {
          "unique_count": 3,
          "nan_count": 0,
          "categories": [
           {
            "name": "Male",
            "count": 122
           },
           {
            "name": "Female",
            "count": 8
           },
           {
            "name": "Unknown",
            "count": 1
           }
          ]
         }
        },
        {
         "name": "race",
         "dtype": "object",
         "stats": {
          "unique_count": 6,
          "nan_count": 0,
          "categories": [
           {
            "name": "White",
            "count": 46
           },
           {
            "name": "Unknown Race",
            "count": 37
           },
           {
            "name": "4 others",
            "count": 48
           }
          ]
         }
        },
        {
         "name": "img_url",
         "dtype": "object",
         "stats": {
          "unique_count": 43,
          "nan_count": 88,
          "categories": [
           {
            "name": "https://cmg-cmg-tv-10040-prod.cdn.arcpublishing.com/resizer/86N3UST7mXmKGiDYQWUQfYfRLCk=/1440x0/filters:format(jpg):quality(70)/cloudfront-us-east-1.images.arcpublishing.com/cmg/C4PWPL4M2NBRNDTQD6AYDS5JQM.jpg",
            "count": 1
           },
           {
            "name": "42 others",
            "count": 42
           },
           {
            "name": "Missing",
            "count": 88
           }
          ]
         }
        },
        {
         "name": "date",
         "dtype": "datetime64[ns]",
         "stats": {
          "unique_count": 96,
          "nan_count": 0,
          "min": "2013-04-07 00:00:00",
          "max": "2021-05-09 00:00:00",
          "histogram": [
           {
            "bin_start": 1365292800000000000,
            "bin_end": 1390815360000000000,
            "count": 10
           },
           {
            "bin_start": 1390815360000000000,
            "bin_end": 1416337920000000000,
            "count": 10
           },
           {
            "bin_start": 1416337920000000000,
            "bin_end": 1441860480000000000,
            "count": 16
           },
           {
            "bin_start": 1441860480000000000,
            "bin_end": 1467383040000000000,
            "count": 5
           },
           {
            "bin_start": 1467383040000000000,
            "bin_end": 1492905600000000000,
            "count": 3
           },
           {
            "bin_start": 1492905600000000000,
            "bin_end": 1518428160000000000,
            "count": 1
           },
           {
            "bin_start": 1518428160000000000,
            "bin_end": 1543950720000000000,
            "count": 6
           },
           {
            "bin_start": 1543950720000000000,
            "bin_end": 1569473280000000000,
            "count": 4
           },
           {
            "bin_start": 1569473280000000000,
            "bin_end": 1594995840000000000,
            "count": 2
           },
           {
            "bin_start": 1594995840000000000,
            "bin_end": 1620518400000000000,
            "count": 74
           }
          ]
         }
        },
        {
         "name": "address",
         "dtype": "object",
         "stats": {
          "unique_count": 111,
          "nan_count": 20,
          "categories": [
           {
            "name": "90 S. Main St.",
            "count": 1
           },
           {
            "name": "110 others",
            "count": 110
           },
           {
            "name": "Missing",
            "count": 20
           }
          ]
         }
        },
        {
         "name": "city",
         "dtype": "object",
         "stats": {
          "unique_count": 113,
          "nan_count": 3,
          "categories": [
           {
            "name": "Los Angeles",
            "count": 4
           },
           {
            "name": "112 others",
            "count": 124
           },
           {
            "name": "Missing",
            "count": 3
           }
          ]
         }
        },
        {
         "name": "state",
         "dtype": "object",
         "stats": {
          "unique_count": 33,
          "nan_count": 0,
          "categories": [
           {
            "name": "TX",
            "count": 22
           },
           {
            "name": "CA",
            "count": 21
           },
           {
            "name": "31 others",
            "count": 88
           }
          ]
         }
        },
        {
         "name": "zipcode",
         "dtype": "float64",
         "stats": {
          "unique_count": 109,
          "nan_count": 22,
          "min": "1085.0",
          "max": "97801.0",
          "histogram": [
           {
            "bin_start": 1085,
            "bin_end": 10756.6,
            "count": 6
           },
           {
            "bin_start": 10756.6,
            "bin_end": 20428.2,
            "count": 1
           },
           {
            "bin_start": 20428.2,
            "bin_end": 30099.800000000003,
            "count": 10
           },
           {
            "bin_start": 30099.800000000003,
            "bin_end": 39771.4,
            "count": 21
           },
           {
            "bin_start": 39771.4,
            "bin_end": 49443,
            "count": 9
           },
           {
            "bin_start": 49443,
            "bin_end": 59114.600000000006,
            "count": 0
           },
           {
            "bin_start": 59114.600000000006,
            "bin_end": 68786.2,
            "count": 4
           },
           {
            "bin_start": 68786.2,
            "bin_end": 78457.8,
            "count": 22
           },
           {
            "bin_start": 78457.8,
            "bin_end": 88129.40000000001,
            "count": 16
           },
           {
            "bin_start": 88129.40000000001,
            "bin_end": 97801,
            "count": 20
           }
          ]
         }
        },
        {
         "name": "county",
         "dtype": "object",
         "stats": {
          "unique_count": 89,
          "nan_count": 11,
          "categories": [
           {
            "name": "Jefferson",
            "count": 6
           },
           {
            "name": "88 others",
            "count": 114
           },
           {
            "name": "Missing",
            "count": 11
           }
          ]
         }
        },
        {
         "name": "agency_responsible",
         "dtype": "object",
         "stats": {
          "unique_count": 120,
          "nan_count": 0,
          "categories": [
           {
            "name": "Riverside County Sheriff's Department",
            "count": 3
           },
           {
            "name": "Los Angeles Police Department",
            "count": 3
           },
           {
            "name": "118 others",
            "count": 125
           }
          ]
         }
        },
        {
         "name": "ori_agency_identifier",
         "dtype": "object",
         "stats": {
          "unique_count": 117,
          "nan_count": 0,
          "categories": [
           {
            "name": "CA0330000",
            "count": 3
           },
           {
            "name": "CA0194200",
            "count": 3
           },
           {
            "name": "115 others",
            "count": 125
           }
          ]
         }
        },
        {
         "name": "cause_of_death",
         "dtype": "object",
         "stats": {
          "unique_count": 7,
          "nan_count": 0,
          "categories": [
           {
            "name": "Gunshot",
            "count": 112
           },
           {
            "name": "Taser",
            "count": 8
           },
           {
            "name": "5 others",
            "count": 11
           }
          ]
         }
        },
        {
         "name": "description_of_circumstances",
         "dtype": "object",
         "stats": {
          "unique_count": 129,
          "nan_count": 2,
          "categories": [
           {
            "name": "Police responded to a call of a man firing shots within an apartment complex. Officers went to Horton's apartment and forced their way in. Police claim Horton was armed, and they shot and killed him.",
            "count": 1
           },
           {
            "name": "128 others",
            "count": 128
           },
           {
            "name": "Missing",
            "count": 2
           }
          ]
         }
        },
        {
         "name": "official_disposition",
         "dtype": "object",
         "stats": {
          "unique_count": 10,
          "nan_count": 11,
          "categories": [
           {
            "name": "Pending investigation",
            "count": 74
           },
           {
            "name": "9 others",
            "count": 46
           },
           {
            "name": "Missing",
            "count": 11
           }
          ]
         }
        },
        {
         "name": "criminal_charges_filed",
         "dtype": "object",
         "stats": {
          "unique_count": 4,
          "nan_count": 0,
          "categories": [
           {
            "name": "No known charges",
            "count": 126
           },
           {
            "name": "Charged with a crime",
            "count": 3
           },
           {
            "name": "2 others",
            "count": 2
           }
          ]
         }
        },
        {
         "name": "news_article_or_photo_of_official_document",
         "dtype": "object",
         "stats": {
          "unique_count": 131,
          "nan_count": 0,
          "categories": [
           {
            "name": "https://www.fox4news.com/news/lancaster-police-officers-involved-in-shooting",
            "count": 1
           },
           {
            "name": "https://www.wcvb.com/article/leicester-police-station-shooting-car-crash-massachusetts/36374400",
            "count": 1
           },
           {
            "name": "129 others",
            "count": 129
           }
          ]
         }
        },
        {
         "name": "mental_illness",
         "dtype": "object",
         "stats": {
          "unique_count": 4,
          "nan_count": 0,
          "categories": [
           {
            "name": "No",
            "count": 82
           },
           {
            "name": "Unknown",
            "count": 26
           },
           {
            "name": "2 others",
            "count": 23
           }
          ]
         }
        },
        {
         "name": "armed_unarmed_status",
         "dtype": "object",
         "stats": {
          "unique_count": 4,
          "nan_count": 0,
          "categories": [
           {
            "name": "Allegedly Armed",
            "count": 81
           },
           {
            "name": "Unarmed/Did Not Have Actual Weapon",
            "count": 25
           },
           {
            "name": "2 others",
            "count": 25
           }
          ]
         }
        },
        {
         "name": "alleged_weapon",
         "dtype": "object",
         "stats": {
          "unique_count": 19,
          "nan_count": 0,
          "categories": [
           {
            "name": "gun",
            "count": 61
           },
           {
            "name": "no object",
            "count": 21
           },
           {
            "name": "17 others",
            "count": 49
           }
          ]
         }
        },
        {
         "name": "alleged_threat_lvl",
         "dtype": "object",
         "stats": {
          "unique_count": 5,
          "nan_count": 39,
          "categories": [
           {
            "name": "attack",
            "count": 62
           },
           {
            "name": "4 others",
            "count": 30
           },
           {
            "name": "Missing",
            "count": 39
           }
          ]
         }
        },
        {
         "name": "fleeing",
         "dtype": "object",
         "stats": {
          "unique_count": 10,
          "nan_count": 58,
          "categories": [
           {
            "name": "Not fleeing",
            "count": 24
           },
           {
            "name": "9 others",
            "count": 49
           },
           {
            "name": "Missing",
            "count": 58
           }
          ]
         }
        },
        {
         "name": "body_camera",
         "dtype": "object",
         "stats": {
          "unique_count": 4,
          "nan_count": 51,
          "categories": [
           {
            "name": "no",
            "count": 37
           },
           {
            "name": "3 others",
            "count": 43
           },
           {
            "name": "Missing",
            "count": 51
           }
          ]
         }
        },
        {
         "name": "wapo_id",
         "dtype": "float64",
         "stats": {
          "unique_count": 79,
          "nan_count": 52,
          "min": "239.0",
          "max": "6846.0",
          "histogram": [
           {
            "bin_start": 239,
            "bin_end": 899.7,
            "count": 9
           },
           {
            "bin_start": 899.7,
            "bin_end": 1560.4,
            "count": 0
           },
           {
            "bin_start": 1560.4,
            "bin_end": 2221.1000000000004,
            "count": 1
           },
           {
            "bin_start": 2221.1000000000004,
            "bin_end": 2881.8,
            "count": 0
           },
           {
            "bin_start": 2881.8,
            "bin_end": 3542.5,
            "count": 1
           },
           {
            "bin_start": 3542.5,
            "bin_end": 4203.200000000001,
            "count": 0
           },
           {
            "bin_start": 4203.200000000001,
            "bin_end": 4863.900000000001,
            "count": 0
           },
           {
            "bin_start": 4863.900000000001,
            "bin_end": 5524.6,
            "count": 0
           },
           {
            "bin_start": 5524.6,
            "bin_end": 6185.3,
            "count": 17
           },
           {
            "bin_start": 6185.3,
            "bin_end": 6846,
            "count": 51
           }
          ]
         }
        },
        {
         "name": "off_duty_killing",
         "dtype": "object",
         "stats": {
          "unique_count": 1,
          "nan_count": 129,
          "categories": [
           {
            "name": "Off-Duty",
            "count": 2
           },
           {
            "name": "Missing",
            "count": 129
           }
          ]
         }
        },
        {
         "name": "geography",
         "dtype": "object",
         "stats": {
          "unique_count": 4,
          "nan_count": 19,
          "categories": [
           {
            "name": "Suburban",
            "count": 46
           },
           {
            "name": "3 others",
            "count": 66
           },
           {
            "name": "Missing",
            "count": 19
           }
          ]
         }
        },
        {
         "name": "mpv_id",
         "dtype": "float64",
         "stats": {
          "unique_count": 118,
          "nan_count": 13,
          "min": "268.0",
          "max": "9103.0",
          "histogram": [
           {
            "bin_start": 268,
            "bin_end": 1151.5,
            "count": 10
           },
           {
            "bin_start": 1151.5,
            "bin_end": 2035,
            "count": 10
           },
           {
            "bin_start": 2035,
            "bin_end": 2918.5,
            "count": 16
           },
           {
            "bin_start": 2918.5,
            "bin_end": 3802,
            "count": 5
           },
           {
            "bin_start": 3802,
            "bin_end": 4685.5,
            "count": 3
           },
           {
            "bin_start": 4685.5,
            "bin_end": 5569,
            "count": 2
           },
           {
            "bin_start": 5569,
            "bin_end": 6452.5,
            "count": 3
           },
           {
            "bin_start": 6452.5,
            "bin_end": 7336,
            "count": 3
           },
           {
            "bin_start": 7336,
            "bin_end": 8219.5,
            "count": 1
           },
           {
            "bin_start": 8219.5,
            "bin_end": 9103,
            "count": 65
           }
          ]
         }
        },
        {
         "name": "fatal_encounters_id",
         "dtype": "float64",
         "stats": {
          "unique_count": 0,
          "nan_count": 131,
          "min": null,
          "max": null,
          "histogram": [
           {
            "bin_start": 0,
            "bin_end": 0.1,
            "count": 0
           },
           {
            "bin_start": 0.1,
            "bin_end": 0.2,
            "count": 0
           },
           {
            "bin_start": 0.2,
            "bin_end": 0.30000000000000004,
            "count": 0
           },
           {
            "bin_start": 0.30000000000000004,
            "bin_end": 0.4,
            "count": 0
           },
           {
            "bin_start": 0.4,
            "bin_end": 0.5,
            "count": 0
           },
           {
            "bin_start": 0.5,
            "bin_end": 0.6000000000000001,
            "count": 0
           },
           {
            "bin_start": 0.6000000000000001,
            "bin_end": 0.7000000000000001,
            "count": 0
           },
           {
            "bin_start": 0.7000000000000001,
            "bin_end": 0.8,
            "count": 0
           },
           {
            "bin_start": 0.8,
            "bin_end": 0.9,
            "count": 0
           },
           {
            "bin_start": 0.9,
            "bin_end": 1,
            "count": 0
           }
          ]
         }
        },
        {
         "name": "encounter_type_draft",
         "dtype": "object",
         "stats": {
          "unique_count": 14,
          "nan_count": 44,
          "categories": [
           {
            "name": "Other Non-Violent Offense",
            "count": 23
           },
           {
            "name": "13 others",
            "count": 64
           },
           {
            "name": "Missing",
            "count": 44
           }
          ]
         }
        },
        {
         "name": "initial_reported_reason_for_encounter_draft",
         "dtype": "object",
         "stats": {
          "unique_count": 67,
          "nan_count": 44,
          "categories": [
           {
            "name": "Shooting",
            "count": 7
           },
           {
            "name": "66 others",
            "count": 80
           },
           {
            "name": "Missing",
            "count": 44
           }
          ]
         }
        },
        {
         "name": "names_of_officers_involved_draft",
         "dtype": "object",
         "stats": {
          "unique_count": 18,
          "nan_count": 113,
          "categories": [
           {
            "name": "Daniel Lopez",
            "count": 1
           },
           {
            "name": "17 others",
            "count": 17
           },
           {
            "name": "Missing",
            "count": 113
           }
          ]
         }
        },
        {
         "name": "race_of_officers_involved_draft",
         "dtype": "object",
         "stats": {
          "unique_count": 2,
          "nan_count": 129,
          "categories": [
           {
            "name": "Hispanic",
            "count": 1
           },
           {
            "name": "White",
            "count": 1
           },
           {
            "name": "Missing",
            "count": 129
           }
          ]
         }
        },
        {
         "name": "known_past_shootings_of_Officer_draft",
         "dtype": "object",
         "stats": {
          "unique_count": 0,
          "nan_count": 131,
          "categories": [
           {
            "name": "Missing",
            "count": 131
           }
          ]
         }
        },
        {
         "name": "call_for_service_draft",
         "dtype": "object",
         "stats": {
          "unique_count": 3,
          "nan_count": 50,
          "categories": [
           {
            "name": "Yes",
            "count": 49
           },
           {
            "name": "2 others",
            "count": 32
           },
           {
            "name": "Missing",
            "count": 50
           }
          ]
         }
        },
        {
         "name": "_deepnote_index_column",
         "dtype": "int64"
        }
       ],
       "rows_top": [
        {
         "name": "Kalon Horton",
         "age": "29",
         "gender": "Male",
         "race": "Black",
         "img_url": "nan",
         "date": "2021-05-09T00:00:00.000000",
         "address": "nan",
         "city": "Lancaster",
         "state": "TX",
         "zipcode": "nan",
         "county": "nan",
         "agency_responsible": "Lancaster Police Department",
         "ori_agency_identifier": "TX0571700",
         "cause_of_death": "Gunshot",
         "description_of_circumstances": "Police responded to a call of a man firing shots within an apartment complex. Officers went to Horton's apartment and forced their way in. Police claim Horton was armed, and they shot and killed him.",
         "official_disposition": "Pending investigation",
         "criminal_charges_filed": "No known charges",
         "news_article_or_photo_of_official_document": "https://www.fox4news.com/news/lancaster-police-officers-involved-in-shooting",
         "mental_illness": "No",
         "armed_unarmed_status": "Allegedly Armed",
         "alleged_weapon": "gun",
         "alleged_threat_lvl": "attack",
         "fleeing": "nan",
         "body_camera": "no",
         "wapo_id": 6842,
         "off_duty_killing": "nan",
         "geography": "nan",
         "mpv_id": "nan",
         "fatal_encounters_id": "nan",
         "encounter_type_draft": "Part 1 Violent Crime",
         "initial_reported_reason_for_encounter_draft": "gunshots",
         "names_of_officers_involved_draft": "nan",
         "race_of_officers_involved_draft": "nan",
         "known_past_shootings_of_Officer_draft": "nan",
         "call_for_service_draft": "Yes",
         "_deepnote_index_column": 0
        },
        {
         "name": "Zachary Richardson",
         "age": "24",
         "gender": "Male",
         "race": "Unknown Race",
         "img_url": "nan",
         "date": "2021-05-09T00:00:00.000000",
         "address": "90 S. Main St.",
         "city": "Leicester",
         "state": "MA",
         "zipcode": "1524.0",
         "county": "Worcester",
         "agency_responsible": "Leicester Police Department",
         "ori_agency_identifier": "MA0142400",
         "cause_of_death": "Gunshot",
         "description_of_circumstances": "A man allegedly crashed an SUV into the Leicester Police Station, repeatedly ramming his vehicle into the front doors until he gained entry into the building. Responding officers saw the SUV in the front door and encountered the man. Police claim the man placed a rifle on his shoulder and aimed it at the officers. The police officers shot and killed him.",
         "official_disposition": "Pending investigation",
         "criminal_charges_filed": "No known charges",
         "news_article_or_photo_of_official_document": "https://www.wcvb.com/article/leicester-police-station-shooting-car-crash-massachusetts/36374400",
         "mental_illness": "No",
         "armed_unarmed_status": "Allegedly Armed",
         "alleged_weapon": "gun",
         "alleged_threat_lvl": "attack",
         "fleeing": "not fleeing",
         "body_camera": "no",
         "wapo_id": 6844,
         "off_duty_killing": "nan",
         "geography": "Suburban",
         "mpv_id": "nan",
         "fatal_encounters_id": "nan",
         "encounter_type_draft": "Other",
         "initial_reported_reason_for_encounter_draft": "deliberate car crash",
         "names_of_officers_involved_draft": "nan",
         "race_of_officers_involved_draft": "nan",
         "known_past_shootings_of_Officer_draft": "nan",
         "call_for_service_draft": "Yes",
         "_deepnote_index_column": 1
        },
        {
         "name": "Jeffrey Mark Murray",
         "age": "62",
         "gender": "Male",
         "race": "Unknown Race",
         "img_url": "nan",
         "date": "2021-05-09T00:00:00.000000",
         "address": "nan",
         "city": "Greenville",
         "state": "SC",
         "zipcode": "nan",
         "county": "nan",
         "agency_responsible": "Greenville Police Department",
         "ori_agency_identifier": "SC0230000",
         "cause_of_death": "Gunshot",
         "description_of_circumstances": "Murray allegedly shot and killed David Oliver while Oliver was on the phone with the police. Police found Murray and killed him. ",
         "official_disposition": "Pending investigation",
         "criminal_charges_filed": "No known charges",
         "news_article_or_photo_of_official_document": "https://www.seattletimes.com/nation-world/nation/cyclist-killed-in-dispute-shooter-dies-in-police-gun-battle/",
         "mental_illness": "No",
         "armed_unarmed_status": "Allegedly Armed",
         "alleged_weapon": "gun",
         "alleged_threat_lvl": "attack",
         "fleeing": "not fleeing",
         "body_camera": "no",
         "wapo_id": 6841,
         "off_duty_killing": "nan",
         "geography": "nan",
         "mpv_id": "nan",
         "fatal_encounters_id": "nan",
         "encounter_type_draft": "Part 1 Violent Crime",
         "initial_reported_reason_for_encounter_draft": "murder",
         "names_of_officers_involved_draft": "nan",
         "race_of_officers_involved_draft": "nan",
         "known_past_shootings_of_Officer_draft": "nan",
         "call_for_service_draft": "Yes",
         "_deepnote_index_column": 2
        },
        {
         "name": "Everton Brown",
         "age": "56",
         "gender": "Male",
         "race": "Unknown Race",
         "img_url": "nan",
         "date": "2021-05-08T00:00:00.000000",
         "address": "nan",
         "city": "Baltimore",
         "state": "MD",
         "zipcode": "nan",
         "county": "nan",
         "agency_responsible": "Baltimore County Police Department",
         "ori_agency_identifier": "MD0030000",
         "cause_of_death": "Gunshot",
         "description_of_circumstances": "Brown allegedly shot and killed two neighbors, and injured another. Police responded to the scene and found Brown in a parking lot. Police allegedly commanded Brown to drop his gun and Brown refused. At least four officers shot at Brown, killing him. ",
         "official_disposition": "Pending investigation",
         "criminal_charges_filed": "No known charges",
         "news_article_or_photo_of_official_document": "https://abcnews.go.com/US/wireStory/police-maryland-man-killed-neighbors-set-house-ablaze-77591766",
         "mental_illness": "Yes",
         "armed_unarmed_status": "Allegedly Armed",
         "alleged_weapon": "gun",
         "alleged_threat_lvl": "attack",
         "fleeing": "not fleeing",
         "body_camera": "no",
         "wapo_id": 6846,
         "off_duty_killing": "nan",
         "geography": "nan",
         "mpv_id": "nan",
         "fatal_encounters_id": "nan",
         "encounter_type_draft": "Part 1 Violent Crime",
         "initial_reported_reason_for_encounter_draft": "murder",
         "names_of_officers_involved_draft": "nan",
         "race_of_officers_involved_draft": "nan",
         "known_past_shootings_of_Officer_draft": "nan",
         "call_for_service_draft": "Yes",
         "_deepnote_index_column": 3
        },
        {
         "name": "Felix Jerry Marquez",
         "age": "34",
         "gender": "Male",
         "race": "Hispanic",
         "img_url": "nan",
         "date": "2021-05-08T00:00:00.000000",
         "address": "nan",
         "city": "Riverside",
         "state": "CA",
         "zipcode": "nan",
         "county": "Riverside",
         "agency_responsible": "Riverside Police Department",
         "ori_agency_identifier": "CA0331300",
         "cause_of_death": "Gunshot",
         "description_of_circumstances": "Officers who were part of a homeless outreach unit encountered Marquez and claim he pulled a handgun, pointing it at them. The officers shot and killed Marquez. ",
         "official_disposition": "Pending investigation",
         "criminal_charges_filed": "No known charges",
         "news_article_or_photo_of_official_document": "https://www.avpress.com/news/police-shoot-man-who-pulled-gun/article_cd0b7314-b138-11eb-a877-6f0ab8fbc496.html",
         "mental_illness": "No",
         "armed_unarmed_status": "Allegedly Armed",
         "alleged_weapon": "gun",
         "alleged_threat_lvl": "attack",
         "fleeing": "not fleeing",
         "body_camera": "no",
         "wapo_id": 6845,
         "off_duty_killing": "nan",
         "geography": "nan",
         "mpv_id": "nan",
         "fatal_encounters_id": "nan",
         "encounter_type_draft": "Person with a gun",
         "initial_reported_reason_for_encounter_draft": "person with a gun",
         "names_of_officers_involved_draft": "nan",
         "race_of_officers_involved_draft": "nan",
         "known_past_shootings_of_Officer_draft": "nan",
         "call_for_service_draft": "No",
         "_deepnote_index_column": 4
        },
        {
         "name": "Daniel Hobbs",
         "age": "34",
         "gender": "Male",
         "race": "Unknown Race",
         "img_url": "nan",
         "date": "2021-05-08T00:00:00.000000",
         "address": "Northwest 33rd Street and Portland",
         "city": "Oklahoma City",
         "state": "OK",
         "zipcode": "nan",
         "county": "Oklahoma",
         "agency_responsible": "Oklahoma City Police Department",
         "ori_agency_identifier": "OK0550600",
         "cause_of_death": "Gunshot",
         "description_of_circumstances": "A neighbor called the police after seeing Hobbs in his grandfather's yard. The caller stated his grandfather allegedly had a victim protective order against Hobbs and that Hobbs may be under the influence. Officer Daniel Lopez responded to the home and spoke with Hobbs, who disclosed he was taking medication for mental illness. Lopez asked to search Hobbs for weapons, and a scuffle allegedly ensued. Police claim Lopez's body camera shut off during the scuffle. Lopez shot Hobbs four times. ",
         "official_disposition": "Pending investigation",
         "criminal_charges_filed": "No known charges",
         "news_article_or_photo_of_official_document": "https://www.koco.com/article/bodycam-video-shows-struggle-before-oklahoma-city-officer-shoots-kills-man/36429908#",
         "mental_illness": "Yes",
         "armed_unarmed_status": "Unarmed/Did Not Have Actual Weapon",
         "alleged_weapon": "no object",
         "alleged_threat_lvl": "other",
         "fleeing": "not fleeing",
         "body_camera": "yes",
         "wapo_id": 6840,
         "off_duty_killing": "nan",
         "geography": "nan",
         "mpv_id": "nan",
         "fatal_encounters_id": "nan",
         "encounter_type_draft": "Other",
         "initial_reported_reason_for_encounter_draft": "violation of protective order",
         "names_of_officers_involved_draft": "Daniel Lopez",
         "race_of_officers_involved_draft": "nan",
         "known_past_shootings_of_Officer_draft": "nan",
         "call_for_service_draft": "Yes",
         "_deepnote_index_column": 5
        },
        {
         "name": "Adonis Traughber",
         "age": "54",
         "gender": "Male",
         "race": "Unknown Race",
         "img_url": "nan",
         "date": "2021-05-08T00:00:00.000000",
         "address": "Hedge Apple Drive",
         "city": "Clarksville",
         "state": "TN",
         "zipcode": "nan",
         "county": "Montgomery",
         "agency_responsible": "Clarksville Police Department",
         "ori_agency_identifier": "TN0630100",
         "cause_of_death": "Gunshot",
         "description_of_circumstances": "Traughber shot his ex-girlfriend Shequita Jones and called the police, requesting a SWAT team. Police arrived and asked Traughber to put his gun down. Jones heard Traughber state he was surrendering, before police shot and killed him. ",
         "official_disposition": "Pending investigation",
         "criminal_charges_filed": "No known charges",
         "news_article_or_photo_of_official_document": "https://www.wsmv.com/news/ex-girlfriend-recounts-domestic-dispute-that-ended-in-an-officer-involved-shooting/article_f0e044c2-b138-11eb-a207-6375f1c167de.html",
         "mental_illness": "No",
         "armed_unarmed_status": "Allegedly Armed",
         "alleged_weapon": "gun",
         "alleged_threat_lvl": "attack",
         "fleeing": "not fleeing",
         "body_camera": "no",
         "wapo_id": 6839,
         "off_duty_killing": "nan",
         "geography": "nan",
         "mpv_id": "nan",
         "fatal_encounters_id": "nan",
         "encounter_type_draft": "Part 1 Violent Crime/Domestic disturbance (intimate partner violence)",
         "initial_reported_reason_for_encounter_draft": "shooting/domestic disturbance",
         "names_of_officers_involved_draft": "nan",
         "race_of_officers_involved_draft": "nan",
         "known_past_shootings_of_Officer_draft": "nan",
         "call_for_service_draft": "Yes",
         "_deepnote_index_column": 6
        },
        {
         "name": "Robbie Leigh Hodge",
         "age": "52",
         "gender": "Male",
         "race": "Unknown Race",
         "img_url": "nan",
         "date": "2021-05-07T00:00:00.000000",
         "address": "1200 Rocky Branch Rd.",
         "city": "Rutledge",
         "state": "TN",
         "zipcode": "37861.0",
         "county": "Grainger",
         "agency_responsible": "Bean Station Police Department, Rutledge Police Department",
         "ori_agency_identifier": "TN0290300, TN0290100",
         "cause_of_death": "Gunshot",
         "description_of_circumstances": "Deputies responded to reports of a man shooting a gun inside a home. When deputies arrived, they made contact with the man. While encountering the subject, an officer with the Bean Station PD and an officer with Rutledge PD fired at the man, killing him. No other details are available concerning the shooting at this time. ",
         "official_disposition": "Pending investigation",
         "criminal_charges_filed": "No known charges",
         "news_article_or_photo_of_official_document": "https://www.wate.com/news/local-news/tbi-1-man-dead-after-officer-involved-shooting-in-grainger-co-friday-night/",
         "mental_illness": "No",
         "armed_unarmed_status": "Allegedly Armed",
         "alleged_weapon": "gun",
         "alleged_threat_lvl": "attack",
         "fleeing": "not fleeing",
         "body_camera": "no",
         "wapo_id": 6843,
         "off_duty_killing": "nan",
         "geography": "Rural",
         "mpv_id": "nan",
         "fatal_encounters_id": "nan",
         "encounter_type_draft": "Part 1 Violent Crime",
         "initial_reported_reason_for_encounter_draft": "gunshots",
         "names_of_officers_involved_draft": "nan",
         "race_of_officers_involved_draft": "nan",
         "known_past_shootings_of_Officer_draft": "nan",
         "call_for_service_draft": "Yes",
         "_deepnote_index_column": 7
        },
        {
         "name": "William Holt",
         "age": "49",
         "gender": "Male",
         "race": "White",
         "img_url": "nan",
         "date": "2021-05-05T00:00:00.000000",
         "address": "2775 Fremont St.",
         "city": "Las Vegas",
         "state": "NV",
         "zipcode": "89104.0",
         "county": "Clark",
         "agency_responsible": "Las Vegas Metropolitan Police Department",
         "ori_agency_identifier": "NV0020100",
         "cause_of_death": "Gunshot",
         "description_of_circumstances": "Officers responded to a report of gunshots at an apartment complex. Arriving officers allegedly encountered two men running through the complex, one of whom they claim was armed with a firearm. The two men were taken into custody and informed officers they were shot at by Holt. Officers went to Holt's apartment and allegedly witnessed him fire one round before going back inside. Officers began to set up a perimeter, when Holt allegedly exited the apartment with a gun. Officer Erik Lindberg shot and killed Holt. ",
         "official_disposition": "Pending investigation",
         "criminal_charges_filed": "No known charges",
         "news_article_or_photo_of_official_document": "https://www.ktnv.com/news/watch-press-conference-for-may-4-shooting-involving-las-vegas-police",
         "mental_illness": "No",
         "armed_unarmed_status": "Allegedly Armed",
         "alleged_weapon": "gun",
         "alleged_threat_lvl": "attack",
         "fleeing": "not fleeing",
         "body_camera": "no",
         "wapo_id": 6837,
         "off_duty_killing": "nan",
         "geography": "Urban",
         "mpv_id": "nan",
         "fatal_encounters_id": "nan",
         "encounter_type_draft": "Part 1 Violent Crime",
         "initial_reported_reason_for_encounter_draft": "gunshots",
         "names_of_officers_involved_draft": "Erik Lindberg",
         "race_of_officers_involved_draft": "nan",
         "known_past_shootings_of_Officer_draft": "nan",
         "call_for_service_draft": "Yes",
         "_deepnote_index_column": 9
        },
        {
         "name": "Ashton Pinke",
         "age": "27",
         "gender": "Male",
         "race": "Black",
         "img_url": "nan",
         "date": "2021-05-04T00:00:00.000000",
         "address": "5800 Northwest Drive",
         "city": "Mesquite",
         "state": "TX",
         "zipcode": "75150.0",
         "county": "Dallas",
         "agency_responsible": "Mesquite Police Department",
         "ori_agency_identifier": "TX0571800",
         "cause_of_death": "Gunshot",
         "description_of_circumstances": "Officers were dispatched to a domestic violence situation and 911 hang-up. 911 dispatchers heard sounds of struggle and screaming during the phone call. When officers arrived, they were contacted by someone who said that a man was armed with a knife. Officers found the man, who they allege was armed with a knife and a club, and claim charged at them. Two officers shot at Pinke multiple times, killing him. ",
         "official_disposition": "Pending investigation",
         "criminal_charges_filed": "No known charges",
         "news_article_or_photo_of_official_document": "https://www.wfaa.com/article/news/local/northwest-drive-shooting-mesquite-1-shot-police/287-15dd293a-d15b-4c8d-9086-44d494045e51",
         "mental_illness": "Yes",
         "armed_unarmed_status": "Unclear",
         "alleged_weapon": "undetermined",
         "alleged_threat_lvl": "nan",
         "fleeing": "nan",
         "body_camera": "no",
         "wapo_id": 6833,
         "off_duty_killing": "nan",
         "geography": "Suburban",
         "mpv_id": "nan",
         "fatal_encounters_id": "nan",
         "encounter_type_draft": "Domestic Disturbance",
         "initial_reported_reason_for_encounter_draft": "domestic disturbance",
         "names_of_officers_involved_draft": "nan",
         "race_of_officers_involved_draft": "nan",
         "known_past_shootings_of_Officer_draft": "nan",
         "call_for_service_draft": "Yes",
         "_deepnote_index_column": 10
        },
        {
         "name": "Latoya Denis James",
         "age": "37",
         "gender": "Female",
         "race": "Unknown Race",
         "img_url": "nan",
         "date": "2021-05-04T00:00:00.000000",
         "address": "nan",
         "city": "Camden County",
         "state": "GA",
         "zipcode": "nan",
         "county": "Camden",
         "agency_responsible": "Camden County Sheriff's Office",
         "ori_agency_identifier": "GA0200000",
         "cause_of_death": "Gunshot",
         "description_of_circumstances": "Camden County deputies were serving a drug-related search warrant and allege they exchanged gunfire with the resident of the home. They shot and killed the individual.",
         "official_disposition": "Pending investigation",
         "criminal_charges_filed": "No known charges",
         "news_article_or_photo_of_official_document": "https://www.news4jax.com/news/georgia/2021/05/07/gbi-releases-bodycam-in-deadly-shooting-as-deputies-served-warrant/",
         "mental_illness": "No",
         "armed_unarmed_status": "Unclear",
         "alleged_weapon": "undetermined",
         "alleged_threat_lvl": "nan",
         "fleeing": "nan",
         "body_camera": "no",
         "wapo_id": 6814,
         "off_duty_killing": "nan",
         "geography": "nan",
         "mpv_id": "nan",
         "fatal_encounters_id": "nan",
         "encounter_type_draft": "Other Non-Violent Offense",
         "initial_reported_reason_for_encounter_draft": "warrant (drugs, search)",
         "names_of_officers_involved_draft": "nan",
         "race_of_officers_involved_draft": "nan",
         "known_past_shootings_of_Officer_draft": "nan",
         "call_for_service_draft": "No",
         "_deepnote_index_column": 11
        },
        {
         "name": "Peyton Ham",
         "age": "16",
         "gender": "Male",
         "race": "Unknown Race",
         "img_url": "nan",
         "date": "2021-04-13T00:00:00.000000",
         "address": "nan",
         "city": "Leonardtown",
         "state": "MD",
         "zipcode": "nan",
         "county": "nan",
         "agency_responsible": "Maryland State Police",
         "ori_agency_identifier": "MDMSP0000",
         "cause_of_death": "Gunshot",
         "description_of_circumstances": "Maryland State Police responded to two 911 calls alleging a man was acting suspicious and may have a gun. Troopers arrived and confronted Ham in the driveway. The troopers shot and killed Ham after he allegedly pointed a toy gun at them. ",
         "official_disposition": "Pending investigation",
         "criminal_charges_filed": "No known charges",
         "news_article_or_photo_of_official_document": "https://baltimore.cbslocal.com/2021/04/14/mother-of-peyton-ham-teen-killed-in-trooper-involved-shooting-mourns-awesome-young-man/",
         "mental_illness": "No",
         "armed_unarmed_status": "Allegedly Armed",
         "alleged_weapon": "knife",
         "alleged_threat_lvl": "other",
         "fleeing": "not fleeing ",
         "body_camera": "no",
         "wapo_id": 6778,
         "off_duty_killing": "nan",
         "geography": "nan",
         "mpv_id": "9103.0",
         "fatal_encounters_id": "nan",
         "encounter_type_draft": "Person with a Weapon",
         "initial_reported_reason_for_encounter_draft": "Person with a weapon",
         "names_of_officers_involved_draft": "nan",
         "race_of_officers_involved_draft": "nan",
         "known_past_shootings_of_Officer_draft": "nan",
         "call_for_service_draft": "No",
         "_deepnote_index_column": 68
        },
        {
         "name": "DeShund Tanner",
         "age": "31",
         "gender": "Male",
         "race": "Black",
         "img_url": "nan",
         "date": "2021-04-09T00:00:00.000000",
         "address": "nan",
         "city": "Georgetown",
         "state": "KY",
         "zipcode": "nan",
         "county": "Scott",
         "agency_responsible": "Georgetown Police Department",
         "ori_agency_identifier": "KY1050100",
         "cause_of_death": "Gunshot",
         "description_of_circumstances": "Police responded to reports of an armed man attempting to break into cars at a gas station. When officers arrived, the man fled to a nearby McDonald's. Police allege Tanner attempted to take a car from others, pointing a gun at them and later police. Officers shot and killed him.",
         "official_disposition": "Pending investigation",
         "criminal_charges_filed": "No known charges",
         "news_article_or_photo_of_official_document": "https://www.wkyt.com/2021/04/09/shots-fired-outside-mcdonalds-in-georgetown-2/",
         "mental_illness": "No",
         "armed_unarmed_status": "Allegedly Armed",
         "alleged_weapon": "gun",
         "alleged_threat_lvl": "other",
         "fleeing": "foot",
         "body_camera": "no",
         "wapo_id": 6777,
         "off_duty_killing": "nan",
         "geography": "nan",
         "mpv_id": "9094.0",
         "fatal_encounters_id": "nan",
         "encounter_type_draft": "Other Non-Violent Offense",
         "initial_reported_reason_for_encounter_draft": "attempted vehicle theft",
         "names_of_officers_involved_draft": "nan",
         "race_of_officers_involved_draft": "nan",
         "known_past_shootings_of_Officer_draft": "nan",
         "call_for_service_draft": "Yes",
         "_deepnote_index_column": 81
        },
        {
         "name": "Name withheld by police",
         "age": "Unknown",
         "gender": "Male",
         "race": "Unknown Race",
         "img_url": "nan",
         "date": "2021-04-09T00:00:00.000000",
         "address": "I-10",
         "city": "Whitewater",
         "state": "CA",
         "zipcode": "nan",
         "county": "Riverside",
         "agency_responsible": "Riverside County Sheriff's Department",
         "ori_agency_identifier": "CA0330000",
         "cause_of_death": "Gunshot",
         "description_of_circumstances": "A motorist called the police reporting a man was throwing rocks at passing vehicles. A deputy arrived at the scene, and found the man allegedly smashing the window of a parked car with a tire iron. The deputy ordered the man to stop and drop the tire iron, but the man allegedly began walking toward the interstate. The deputy then drove ahead to stop traffic as the man was walking on the freeway. The deputy repeatedly asked the man to drop the tire iron and get off the freeway, and at one point the man allegedly ran at the deputy with the tire iron in hand. The deputy shot and killed the man. ",
         "official_disposition": "Pending investigation",
         "criminal_charges_filed": "No known charges",
         "news_article_or_photo_of_official_document": "https://www.desertsun.com/story/news/traffic/2021/04/09/deputy-involved-shooting-closes-10-east-whitewater-canyon-road/7159048002/",
         "mental_illness": "No",
         "armed_unarmed_status": "Allegedly Armed",
         "alleged_weapon": "tire iron",
         "alleged_threat_lvl": "other",
         "fleeing": "not fleeing",
         "body_camera": "no",
         "wapo_id": 6772,
         "off_duty_killing": "nan",
         "geography": "nan",
         "mpv_id": "9096.0",
         "fatal_encounters_id": "nan",
         "encounter_type_draft": "Other Non-Violent Offense",
         "initial_reported_reason_for_encounter_draft": "erratic behavior, damage to vehicle",
         "names_of_officers_involved_draft": "nan",
         "race_of_officers_involved_draft": "nan",
         "known_past_shootings_of_Officer_draft": "nan",
         "call_for_service_draft": "Yes",
         "_deepnote_index_column": 82
        }
       ],
       "rows_bottom": [
        {
         "name": "Steven Travis Goble",
         "age": "31",
         "gender": "Male",
         "race": "White",
         "img_url": "http://media.mlive.com/grpress/news_impact/photo/goblejpg-d9ec06a5df6aa46b.jpg",
         "date": "2014-05-08T00:00:00.000000",
         "address": "Hubbell Rd and Hoppough Rd",
         "city": "Orleans",
         "state": "MI",
         "zipcode": "48865.0",
         "county": "Ionia",
         "agency_responsible": "Ionia County Sheriff's Office",
         "ori_agency_identifier": "MI3413400",
         "cause_of_death": "Gunshot",
         "description_of_circumstances": "Following a police chase, an armed Goble allegedly shot at officers, who then returned fire.",
         "official_disposition": "nan",
         "criminal_charges_filed": "No known charges",
         "news_article_or_photo_of_official_document": "http://www.mlive.com/news/grand-rapids/index.ssf/2014/05/two_troopers_one_deputy_on_lea.html",
         "mental_illness": "Unknown",
         "armed_unarmed_status": "Allegedly Armed",
         "alleged_weapon": "gun",
         "alleged_threat_lvl": "nan",
         "fleeing": "nan",
         "body_camera": "nan",
         "wapo_id": "nan",
         "off_duty_killing": "nan",
         "geography": "Rural",
         "mpv_id": 1441,
         "fatal_encounters_id": "nan",
         "encounter_type_draft": "nan",
         "initial_reported_reason_for_encounter_draft": "nan",
         "names_of_officers_involved_draft": "nan",
         "race_of_officers_involved_draft": "nan",
         "known_past_shootings_of_Officer_draft": "nan",
         "call_for_service_draft": "nan",
         "_deepnote_index_column": 7712
        },
        {
         "name": "Eric Paul Andrews",
         "age": "25",
         "gender": "Male",
         "race": "White",
         "img_url": "nan",
         "date": "2014-03-12T00:00:00.000000",
         "address": "6800 Victoria Ave",
         "city": "Highland",
         "state": "CA",
         "zipcode": "92346.0",
         "county": "San Bernardino",
         "agency_responsible": "San Bernardino County Sheriff's Department",
         "ori_agency_identifier": "CA0360000",
         "cause_of_death": "Gunshot",
         "description_of_circumstances": "Deputies found the suspect standing over the victim who had been moderately injured by a sharp object, she added. As deputies approached the two, the suspect turned, raised a hatchet over his head and ran toward deputies. A deputy-involved shooting occurred.",
         "official_disposition": "nan",
         "criminal_charges_filed": "No known charges",
         "news_article_or_photo_of_official_document": "http://www.sbsun.com/general-news/20140312/highland-deputies-shoot-kill-hatchet-wielding-man",
         "mental_illness": "Unknown",
         "armed_unarmed_status": "Allegedly Armed",
         "alleged_weapon": "hatchet",
         "alleged_threat_lvl": "nan",
         "fleeing": "nan",
         "body_camera": "nan",
         "wapo_id": "nan",
         "off_duty_killing": "nan",
         "geography": "Suburban",
         "mpv_id": 1276,
         "fatal_encounters_id": "nan",
         "encounter_type_draft": "nan",
         "initial_reported_reason_for_encounter_draft": "nan",
         "names_of_officers_involved_draft": "nan",
         "race_of_officers_involved_draft": "nan",
         "known_past_shootings_of_Officer_draft": "nan",
         "call_for_service_draft": "nan",
         "_deepnote_index_column": 7874
        },
        {
         "name": "Bobby Canipe",
         "age": "70",
         "gender": "Male",
         "race": "White",
         "img_url": "http://wbtw.images.worldnow.com/images/24833263_BG2.JPG",
         "date": "2014-02-25T00:00:00.000000",
         "address": "nan",
         "city": "Clover",
         "state": "SC",
         "zipcode": "29710.0",
         "county": "York",
         "agency_responsible": "York County Sheriff's Office",
         "ori_agency_identifier": "SC0460000",
         "cause_of_death": "Gunshot",
         "description_of_circumstances": "York County deputies say an officer shot a 70-year-old man reaching for a cane during a traffic stop because he thought the man was grabbing a rifle from the bed of his pickup truck.",
         "official_disposition": "Justified",
         "criminal_charges_filed": "No known charges",
         "news_article_or_photo_of_official_document": "http://www.wbtw.com/story/24833263/70-year-old-man-reaching-for-cane-is-shot-during-sc-traffic-stop",
         "mental_illness": "No",
         "armed_unarmed_status": "Unarmed/Did Not Have Actual Weapon",
         "alleged_weapon": "cane",
         "alleged_threat_lvl": "nan",
         "fleeing": "nan",
         "body_camera": "nan",
         "wapo_id": "nan",
         "off_duty_killing": "nan",
         "geography": "Rural",
         "mpv_id": 1223,
         "fatal_encounters_id": "nan",
         "encounter_type_draft": "nan",
         "initial_reported_reason_for_encounter_draft": "nan",
         "names_of_officers_involved_draft": "nan",
         "race_of_officers_involved_draft": "nan",
         "known_past_shootings_of_Officer_draft": "nan",
         "call_for_service_draft": "nan",
         "_deepnote_index_column": 7926
        },
        {
         "name": "Name withheld by police",
         "age": "Unknown",
         "gender": "Male",
         "race": "Unknown Race",
         "img_url": "nan",
         "date": "2014-02-10T00:00:00.000000",
         "address": "Amelia Concourse southeast of Yulee",
         "city": "Fernandina Beach",
         "state": "FL",
         "zipcode": "32034.0",
         "county": "Nassau",
         "agency_responsible": "Nassau County Sheriff's Office",
         "ori_agency_identifier": "FL0450000",
         "cause_of_death": "Gunshot",
         "description_of_circumstances": "A deputy was responding to a report of a man attempting to break into homes and cars. When he confronted the suspect, a fight ensued, and then the deputy shot the suspect. No weapon was found at the scene.",
         "official_disposition": "Unreported",
         "criminal_charges_filed": "No known charges",
         "news_article_or_photo_of_official_document": "http://members.jacksonville.com/news/crime/2014-02-10/story/sheriff-nassau-deputy-fatally-shoots-suspected-burglar-during-struggle",
         "mental_illness": "No",
         "armed_unarmed_status": "Unarmed/Did Not Have Actual Weapon",
         "alleged_weapon": "no object",
         "alleged_threat_lvl": "nan",
         "fleeing": "nan",
         "body_camera": "nan",
         "wapo_id": "nan",
         "off_duty_killing": "nan",
         "geography": "Suburban",
         "mpv_id": 1194,
         "fatal_encounters_id": "nan",
         "encounter_type_draft": "nan",
         "initial_reported_reason_for_encounter_draft": "nan",
         "names_of_officers_involved_draft": "nan",
         "race_of_officers_involved_draft": "nan",
         "known_past_shootings_of_Officer_draft": "nan",
         "call_for_service_draft": "nan",
         "_deepnote_index_column": 7960
        },
        {
         "name": "Gabriel Sanchez Velasquez",
         "age": "31",
         "gender": "Male",
         "race": "Hispanic",
         "img_url": "nan",
         "date": "2014-01-17T00:00:00.000000",
         "address": "nan",
         "city": "nan",
         "state": "AZ",
         "zipcode": "85607.0",
         "county": "Cochise",
         "agency_responsible": "U.S. Border Patrol",
         "ori_agency_identifier": "Border Patrol",
         "cause_of_death": "Gunshot",
         "description_of_circumstances": "Sanchez, a sinewy 5-foot-9 car mechanic who spoke English well after spending 15 years in the United States, had allegedly leapt from under a mesquite bush and lunged to seize the agent's firearm, forcing him to shoot.",
         "official_disposition": "nan",
         "criminal_charges_filed": "No known charges",
         "news_article_or_photo_of_official_document": "https://facebook.com/KilledByPolice/posts/613431745371112",
         "mental_illness": "Unknown",
         "armed_unarmed_status": "Unarmed/Did Not Have Actual Weapon",
         "alleged_weapon": "no object",
         "alleged_threat_lvl": "nan",
         "fleeing": "nan",
         "body_camera": "nan",
         "wapo_id": "nan",
         "off_duty_killing": "nan",
         "geography": "Rural",
         "mpv_id": 1135,
         "fatal_encounters_id": "nan",
         "encounter_type_draft": "nan",
         "initial_reported_reason_for_encounter_draft": "nan",
         "names_of_officers_involved_draft": "nan",
         "race_of_officers_involved_draft": "nan",
         "known_past_shootings_of_Officer_draft": "nan",
         "call_for_service_draft": "nan",
         "_deepnote_index_column": 8015
        },
        {
         "name": "Nathan Massey",
         "age": "Unknown",
         "gender": "Male",
         "race": "White",
         "img_url": "https://scontent-sjc.xx.fbcdn.net/hphotos-xaf1/v/t1.0-9/1014101_1412913878959489_1362540006_n.jpg?oh=f45a3ca183e632a7d253599e14aad355&oe=55B20980",
         "date": "2014-01-08T00:00:00.000000",
         "address": "Josephine and Lasalle streets",
         "city": "New Orleans",
         "state": "LA",
         "zipcode": "70113.0",
         "county": "Orleans",
         "agency_responsible": "New Orleans Police Department",
         "ori_agency_identifier": "LANPD0000",
         "cause_of_death": "Gunshot",
         "description_of_circumstances": "A New Orleans police officer shot the man late Wednesday (Jan. 7) after gunfire was exchanged following a traffic stop at the intersection of Josephine and Lasalle streets in Central City, police said.",
         "official_disposition": "nan",
         "criminal_charges_filed": "No known charges",
         "news_article_or_photo_of_official_document": "http://www.nola.com/crime/index.ssf/2015/01/man_shot_by_nopd_officer_after.html#incart_story_package",
         "mental_illness": "Unknown",
         "armed_unarmed_status": "Allegedly Armed",
         "alleged_weapon": "gun",
         "alleged_threat_lvl": "nan",
         "fleeing": "nan",
         "body_camera": "nan",
         "wapo_id": "nan",
         "off_duty_killing": "nan",
         "geography": "Urban",
         "mpv_id": 1112,
         "fatal_encounters_id": "nan",
         "encounter_type_draft": "nan",
         "initial_reported_reason_for_encounter_draft": "nan",
         "names_of_officers_involved_draft": "nan",
         "race_of_officers_involved_draft": "nan",
         "known_past_shootings_of_Officer_draft": "nan",
         "call_for_service_draft": "nan",
         "_deepnote_index_column": 8037
        },
        {
         "name": "Dante Chavful",
         "age": "37",
         "gender": "Male",
         "race": "Black",
         "img_url": "nan",
         "date": "2013-12-28T00:00:00.000000",
         "address": "Antoine and Veteran's Memorial",
         "city": "Houston",
         "state": "TX",
         "zipcode": "nan",
         "county": "Harris",
         "agency_responsible": "Prairie View Police Department",
         "ori_agency_identifier": "TX2370800",
         "cause_of_death": "Gunshot",
         "description_of_circumstances": "nan",
         "official_disposition": "nan",
         "criminal_charges_filed": "No known charges",
         "news_article_or_photo_of_official_document": "http://www.chron.com/news/houston-texas/houston/article/Authorities-Off-duty-officer-kills-man-who-5099348.php?cmpid=hpbn",
         "mental_illness": "Unknown",
         "armed_unarmed_status": "Vehicle",
         "alleged_weapon": "vehicle",
         "alleged_threat_lvl": "nan",
         "fleeing": "nan",
         "body_camera": "nan",
         "wapo_id": "nan",
         "off_duty_killing": "nan",
         "geography": "Undetermined",
         "mpv_id": 1078,
         "fatal_encounters_id": "nan",
         "encounter_type_draft": "nan",
         "initial_reported_reason_for_encounter_draft": "nan",
         "names_of_officers_involved_draft": "nan",
         "race_of_officers_involved_draft": "nan",
         "known_past_shootings_of_Officer_draft": "nan",
         "call_for_service_draft": "nan",
         "_deepnote_index_column": 8071
        },
        {
         "name": "Jack Lamar Robertson",
         "age": "43",
         "gender": "Male",
         "race": "Black",
         "img_url": "http://i.dailymail.co.uk/i/pix/2013/10/08/article-2449377-1898F32F00000578-530_306x423.jpg",
         "date": "2013-10-08T00:00:00.000000",
         "address": "Reed Street",
         "city": "Waycross",
         "state": "GA",
         "zipcode": "31501.0",
         "county": "Ware",
         "agency_responsible": "Waycross Police Department",
         "ori_agency_identifier": "GA1480100",
         "cause_of_death": "Gunshot",
         "description_of_circumstances": "Robertson was shot by police after he allegedly lunged at them with meat fork and knife.[33]",
         "official_disposition": "Justified",
         "criminal_charges_filed": "No known charges",
         "news_article_or_photo_of_official_document": "http://www.huffingtonpost.com/2013/10/08/jack-lamar-roberson-police-fatally-shoot_n_4065116.html",
         "mental_illness": "Unknown",
         "armed_unarmed_status": "Allegedly Armed",
         "alleged_weapon": "unknown weapon",
         "alleged_threat_lvl": "nan",
         "fleeing": "nan",
         "body_camera": "nan",
         "wapo_id": "nan",
         "off_duty_killing": "nan",
         "geography": "Urban",
         "mpv_id": 857,
         "fatal_encounters_id": "nan",
         "encounter_type_draft": "nan",
         "initial_reported_reason_for_encounter_draft": "nan",
         "names_of_officers_involved_draft": "nan",
         "race_of_officers_involved_draft": "nan",
         "known_past_shootings_of_Officer_draft": "nan",
         "call_for_service_draft": "nan",
         "_deepnote_index_column": 8292
        },
        {
         "name": "Wendy Lawrence",
         "age": "45",
         "gender": "Female",
         "race": "White",
         "img_url": "nan",
         "date": "2013-10-01T00:00:00.000000",
         "address": "Dave Street and Kennard Road",
         "city": "Manchester",
         "state": "NH",
         "zipcode": "3104.0",
         "county": "Hillsborough",
         "agency_responsible": "New Hampshire State Police",
         "ori_agency_identifier": "NHNSP0000",
         "cause_of_death": "Gunshot",
         "description_of_circumstances": "Lawrence, a new grandmother, was driving on a suspended license and fled from a traffic stop with a state trooper. After a high-speed chase on an interstate and on surface streets, several troopers attempted to box Lawrence's vehicle in. She rammed the cruisers and one trooper felt in danger of his life. He fired 11 shots, four of which fatally struck the victim.",
         "official_disposition": "Pending investigation/No Known Charges",
         "criminal_charges_filed": "No known charges",
         "news_article_or_photo_of_official_document": "http://www.concordmonitor.com/home/8751046-95/woman-dies-after-chase-police-involved-shooting-in-manchester",
         "mental_illness": "Unknown",
         "armed_unarmed_status": "Vehicle",
         "alleged_weapon": "vehicle",
         "alleged_threat_lvl": "nan",
         "fleeing": "nan",
         "body_camera": "nan",
         "wapo_id": "nan",
         "off_duty_killing": "nan",
         "geography": "Suburban",
         "mpv_id": 840,
         "fatal_encounters_id": "nan",
         "encounter_type_draft": "nan",
         "initial_reported_reason_for_encounter_draft": "nan",
         "names_of_officers_involved_draft": "nan",
         "race_of_officers_involved_draft": "nan",
         "known_past_shootings_of_Officer_draft": "nan",
         "call_for_service_draft": "nan",
         "_deepnote_index_column": 8311
        },
        {
         "name": "Name withheld by police",
         "age": "Unknown",
         "gender": "Male",
         "race": "Black",
         "img_url": "nan",
         "date": "2013-07-29T00:00:00.000000",
         "address": "7005 AL-129",
         "city": "Winfield",
         "state": "AL",
         "zipcode": "35594.0",
         "county": "Fayette",
         "agency_responsible": "Winfield Police Department",
         "ori_agency_identifier": "AL0490200",
         "cause_of_death": "Gunshot",
         "description_of_circumstances": "Winfield officers arrived to check out a suspicious person in a car. Police say an \"African Male\" exited the vehicle but quickly ran and led police on a foot chase into a wooded area nearby. Police say the suspect was armed, and they later discovered a stolen gun in the vehicle. They believed the suspect was surrounded and resumed the manhunt after backup officers and helicopter for aerial vision arrived. When the suspect was relocated, he allegedly fired shots, and officers returned fire striking the suspect and killing him.",
         "official_disposition": "Unreported",
         "criminal_charges_filed": "No known charges",
         "news_article_or_photo_of_official_document": "http://www.abc3340.com/story/22961088/winfield-officer-shoots-and-kills-suspect-abi-investigating",
         "mental_illness": "No",
         "armed_unarmed_status": "Allegedly Armed",
         "alleged_weapon": "gun",
         "alleged_threat_lvl": "nan",
         "fleeing": "nan",
         "body_camera": "nan",
         "wapo_id": "nan",
         "off_duty_killing": "nan",
         "geography": "Rural",
         "mpv_id": 659,
         "fatal_encounters_id": "nan",
         "encounter_type_draft": "nan",
         "initial_reported_reason_for_encounter_draft": "nan",
         "names_of_officers_involved_draft": "nan",
         "race_of_officers_involved_draft": "nan",
         "known_past_shootings_of_Officer_draft": "nan",
         "call_for_service_draft": "nan",
         "_deepnote_index_column": 8488
        },
        {
         "name": "Christopher Calhoun",
         "age": "38",
         "gender": "Male",
         "race": "Unknown Race",
         "img_url": "nan",
         "date": "2013-06-27T00:00:00.000000",
         "address": "Oak Street SW and Lee Street SW",
         "city": "Atlanta",
         "state": "GA",
         "zipcode": "30310.0",
         "county": "Fulton",
         "agency_responsible": "Atlanta Police Department",
         "ori_agency_identifier": "GAAPD0000",
         "cause_of_death": "Gunshot",
         "description_of_circumstances": "Calhoun was wanted on multiple vehicle theft and drug-related warrants from Jackson County, Miss. Atlanta police got a tip that Calhoun was parked in a Chevrolet Suburban at the mall. Police pulled in, yelled freeze, and then there were a lot of shots, witnesses said. Calhoun was killed.",
         "official_disposition": "Unknown",
         "criminal_charges_filed": "No known charges",
         "news_article_or_photo_of_official_document": "http://www.ajc.com/news/news/local/authorities-fugitive-shot-and-killed-by-atlanta-po/nQWrK/",
         "mental_illness": "No",
         "armed_unarmed_status": "Unclear",
         "alleged_weapon": "undetermined",
         "alleged_threat_lvl": "nan",
         "fleeing": "nan",
         "body_camera": "nan",
         "wapo_id": "nan",
         "off_duty_killing": "nan",
         "geography": "Urban",
         "mpv_id": 554,
         "fatal_encounters_id": "nan",
         "encounter_type_draft": "nan",
         "initial_reported_reason_for_encounter_draft": "nan",
         "names_of_officers_involved_draft": "nan",
         "race_of_officers_involved_draft": "nan",
         "known_past_shootings_of_Officer_draft": "nan",
         "call_for_service_draft": "nan",
         "_deepnote_index_column": 8595
        },
        {
         "name": "Danny Valdes",
         "age": "30",
         "gender": "Male",
         "race": "Hispanic",
         "img_url": "nan",
         "date": "2013-05-07T00:00:00.000000",
         "address": "Northwest 59th Street and 35th Avenue",
         "city": "Miami",
         "state": "FL",
         "zipcode": "33142.0",
         "county": "Miami-Dade",
         "agency_responsible": "Miami-Dade Police Department",
         "ori_agency_identifier": "FL0130000",
         "cause_of_death": "Gunshot",
         "description_of_circumstances": "Police believed Danny Valdes was driving a stolen Nissan in Liberty City when patrol officers tried pulling him over. He led them on a short chase. When he stopped, he was reaching under the seat when they shot and killed him.",
         "official_disposition": "Unknown",
         "criminal_charges_filed": "No known charges",
         "news_article_or_photo_of_official_document": "http://www.miamiherald.com/2013/05/10/3391600/motorist-killed-by-miami-dade.html",
         "mental_illness": "No",
         "armed_unarmed_status": "Unclear",
         "alleged_weapon": "undetermined",
         "alleged_threat_lvl": "nan",
         "fleeing": "nan",
         "body_camera": "nan",
         "wapo_id": "nan",
         "off_duty_killing": "nan",
         "geography": "Urban",
         "mpv_id": 369,
         "fatal_encounters_id": "nan",
         "encounter_type_draft": "nan",
         "initial_reported_reason_for_encounter_draft": "nan",
         "names_of_officers_involved_draft": "nan",
         "race_of_officers_involved_draft": "nan",
         "known_past_shootings_of_Officer_draft": "nan",
         "call_for_service_draft": "nan",
         "_deepnote_index_column": 8780
        },
        {
         "name": "Todd Jones",
         "age": "41",
         "gender": "Male",
         "race": "Unknown Race",
         "img_url": "nan",
         "date": "2013-04-29T00:00:00.000000",
         "address": "9900 Beach Boulevard",
         "city": "Jacksonville",
         "state": "FL",
         "zipcode": "32246.0",
         "county": "Duval",
         "agency_responsible": "Jacksonville Sheriff's Office",
         "ori_agency_identifier": "FL0162400",
         "cause_of_death": "Gunshot",
         "description_of_circumstances": "Three officers shot and killed Jones after police said he stabbed his stepfather, then later charged an officer while holding a pellet gun following a nearly two-hour standoff.",
         "official_disposition": "Unknown",
         "criminal_charges_filed": "No known charges",
         "news_article_or_photo_of_official_document": "http://www.news4jax.com/news/3-officers-shoot-kill-man-in-suicide-by-cop/19968562",
         "mental_illness": "No",
         "armed_unarmed_status": "Unarmed/Did Not Have Actual Weapon",
         "alleged_weapon": "toy weapon",
         "alleged_threat_lvl": "nan",
         "fleeing": "nan",
         "body_camera": "nan",
         "wapo_id": "nan",
         "off_duty_killing": "nan",
         "geography": "Suburban",
         "mpv_id": 343,
         "fatal_encounters_id": "nan",
         "encounter_type_draft": "nan",
         "initial_reported_reason_for_encounter_draft": "nan",
         "names_of_officers_involved_draft": "nan",
         "race_of_officers_involved_draft": "nan",
         "known_past_shootings_of_Officer_draft": "nan",
         "call_for_service_draft": "nan",
         "_deepnote_index_column": 8808
        },
        {
         "name": "Douglas Musto",
         "age": "28",
         "gender": "Male",
         "race": "Unknown Race",
         "img_url": "nan",
         "date": "2013-04-07T00:00:00.000000",
         "address": "128 Elm Street",
         "city": "Westfield",
         "state": "MA",
         "zipcode": "1085.0",
         "county": "Hampden",
         "agency_responsible": "Westfield Police Department",
         "ori_agency_identifier": "MA0072200",
         "cause_of_death": "Gunshot",
         "description_of_circumstances": "After Musto stabbed an officer, the officer fired five shots at Musto after he ignored orders to drop a knife and after a stun gun was used several times. Four of those shots struck and killed him.",
         "official_disposition": "Justified",
         "criminal_charges_filed": "No known charges",
         "news_article_or_photo_of_official_document": "http://www.masslive.com/news/index.ssf/2012/08/hampden_district_attorney_west.html",
         "mental_illness": "No",
         "armed_unarmed_status": "Allegedly Armed",
         "alleged_weapon": "knife",
         "alleged_threat_lvl": "nan",
         "fleeing": "nan",
         "body_camera": "nan",
         "wapo_id": "nan",
         "off_duty_killing": "nan",
         "geography": "Suburban",
         "mpv_id": 268,
         "fatal_encounters_id": "nan",
         "encounter_type_draft": "nan",
         "initial_reported_reason_for_encounter_draft": "nan",
         "names_of_officers_involved_draft": "nan",
         "race_of_officers_involved_draft": "nan",
         "known_past_shootings_of_Officer_draft": "nan",
         "call_for_service_draft": "nan",
         "_deepnote_index_column": 8880
        }
       ]
      },
      "text/plain": "                         name      age gender          race img_url  \\\n0                Kalon Horton       29   Male         Black     NaN   \n1          Zachary Richardson       24   Male  Unknown Race     NaN   \n2         Jeffrey Mark Murray       62   Male  Unknown Race     NaN   \n3               Everton Brown       56   Male  Unknown Race     NaN   \n4         Felix Jerry Marquez       34   Male      Hispanic     NaN   \n...                       ...      ...    ...           ...     ...   \n8488  Name withheld by police  Unknown   Male         Black     NaN   \n8595      Christopher Calhoun       38   Male  Unknown Race     NaN   \n8780             Danny Valdes       30   Male      Hispanic     NaN   \n8808               Todd Jones       41   Male  Unknown Race     NaN   \n8880            Douglas Musto       28   Male  Unknown Race     NaN   \n\n           date                                address          city state  \\\n0    2021-05-09                                    NaN     Lancaster    TX   \n1    2021-05-09                         90 S. Main St.     Leicester    MA   \n2    2021-05-09                                    NaN    Greenville    SC   \n3    2021-05-08                                    NaN     Baltimore    MD   \n4    2021-05-08                                    NaN     Riverside    CA   \n...         ...                                    ...           ...   ...   \n8488 2013-07-29                            7005 AL-129      Winfield    AL   \n8595 2013-06-27        Oak Street SW and Lee Street SW       Atlanta    GA   \n8780 2013-05-07  Northwest 59th Street and 35th Avenue         Miami    FL   \n8808 2013-04-29                   9900 Beach Boulevard  Jacksonville    FL   \n8880 2013-04-07                         128 Elm Street     Westfield    MA   \n\n      zipcode  ... off_duty_killing geography mpv_id fatal_encounters_id  \\\n0         NaN  ...              NaN       NaN    NaN                 NaN   \n1      1524.0  ...              NaN  Suburban    NaN                 NaN   \n2         NaN  ...              NaN       NaN    NaN                 NaN   \n3         NaN  ...              NaN       NaN    NaN                 NaN   \n4         NaN  ...              NaN       NaN    NaN                 NaN   \n...       ...  ...              ...       ...    ...                 ...   \n8488  35594.0  ...              NaN     Rural  659.0                 NaN   \n8595  30310.0  ...              NaN     Urban  554.0                 NaN   \n8780  33142.0  ...              NaN     Urban  369.0                 NaN   \n8808  32246.0  ...              NaN  Suburban  343.0                 NaN   \n8880   1085.0  ...              NaN  Suburban  268.0                 NaN   \n\n      encounter_type_draft initial_reported_reason_for_encounter_draft  \\\n0     Part 1 Violent Crime                                    gunshots   \n1                    Other                        deliberate car crash   \n2     Part 1 Violent Crime                                      murder   \n3     Part 1 Violent Crime                                      murder   \n4        Person with a gun                           person with a gun   \n...                    ...                                         ...   \n8488                   NaN                                         NaN   \n8595                   NaN                                         NaN   \n8780                   NaN                                         NaN   \n8808                   NaN                                         NaN   \n8880                   NaN                                         NaN   \n\n     names_of_officers_involved_draft race_of_officers_involved_draft  \\\n0                                 NaN                             NaN   \n1                                 NaN                             NaN   \n2                                 NaN                             NaN   \n3                                 NaN                             NaN   \n4                                 NaN                             NaN   \n...                               ...                             ...   \n8488                              NaN                             NaN   \n8595                              NaN                             NaN   \n8780                              NaN                             NaN   \n8808                              NaN                             NaN   \n8880                              NaN                             NaN   \n\n     known_past_shootings_of_Officer_draft call_for_service_draft  \n0                                      NaN                    Yes  \n1                                      NaN                    Yes  \n2                                      NaN                    Yes  \n3                                      NaN                    Yes  \n4                                      NaN                     No  \n...                                    ...                    ...  \n8488                                   NaN                    NaN  \n8595                                   NaN                    NaN  \n8780                                   NaN                    NaN  \n8808                                   NaN                    NaN  \n8880                                   NaN                    NaN  \n\n[131 rows x 35 columns]",
      "text/html": "<div>\n<style scoped>\n    .dataframe tbody tr th:only-of-type {\n        vertical-align: middle;\n    }\n\n    .dataframe tbody tr th {\n        vertical-align: top;\n    }\n\n    .dataframe thead th {\n        text-align: right;\n    }\n</style>\n<table border=\"1\" class=\"dataframe\">\n  <thead>\n    <tr style=\"text-align: right;\">\n      <th></th>\n      <th>name</th>\n      <th>age</th>\n      <th>gender</th>\n      <th>race</th>\n      <th>img_url</th>\n      <th>date</th>\n      <th>address</th>\n      <th>city</th>\n      <th>state</th>\n      <th>zipcode</th>\n      <th>...</th>\n      <th>off_duty_killing</th>\n      <th>geography</th>\n      <th>mpv_id</th>\n      <th>fatal_encounters_id</th>\n      <th>encounter_type_draft</th>\n      <th>initial_reported_reason_for_encounter_draft</th>\n      <th>names_of_officers_involved_draft</th>\n      <th>race_of_officers_involved_draft</th>\n      <th>known_past_shootings_of_Officer_draft</th>\n      <th>call_for_service_draft</th>\n    </tr>\n  </thead>\n  <tbody>\n    <tr>\n      <th>0</th>\n      <td>Kalon Horton</td>\n      <td>29</td>\n      <td>Male</td>\n      <td>Black</td>\n      <td>NaN</td>\n      <td>2021-05-09</td>\n      <td>NaN</td>\n      <td>Lancaster</td>\n      <td>TX</td>\n      <td>NaN</td>\n      <td>...</td>\n      <td>NaN</td>\n      <td>NaN</td>\n      <td>NaN</td>\n      <td>NaN</td>\n      <td>Part 1 Violent Crime</td>\n      <td>gunshots</td>\n      <td>NaN</td>\n      <td>NaN</td>\n      <td>NaN</td>\n      <td>Yes</td>\n    </tr>\n    <tr>\n      <th>1</th>\n      <td>Zachary Richardson</td>\n      <td>24</td>\n      <td>Male</td>\n      <td>Unknown Race</td>\n      <td>NaN</td>\n      <td>2021-05-09</td>\n      <td>90 S. Main St.</td>\n      <td>Leicester</td>\n      <td>MA</td>\n      <td>1524.0</td>\n      <td>...</td>\n      <td>NaN</td>\n      <td>Suburban</td>\n      <td>NaN</td>\n      <td>NaN</td>\n      <td>Other</td>\n      <td>deliberate car crash</td>\n      <td>NaN</td>\n      <td>NaN</td>\n      <td>NaN</td>\n      <td>Yes</td>\n    </tr>\n    <tr>\n      <th>2</th>\n      <td>Jeffrey Mark Murray</td>\n      <td>62</td>\n      <td>Male</td>\n      <td>Unknown Race</td>\n      <td>NaN</td>\n      <td>2021-05-09</td>\n      <td>NaN</td>\n      <td>Greenville</td>\n      <td>SC</td>\n      <td>NaN</td>\n      <td>...</td>\n      <td>NaN</td>\n      <td>NaN</td>\n      <td>NaN</td>\n      <td>NaN</td>\n      <td>Part 1 Violent Crime</td>\n      <td>murder</td>\n      <td>NaN</td>\n      <td>NaN</td>\n      <td>NaN</td>\n      <td>Yes</td>\n    </tr>\n    <tr>\n      <th>3</th>\n      <td>Everton Brown</td>\n      <td>56</td>\n      <td>Male</td>\n      <td>Unknown Race</td>\n      <td>NaN</td>\n      <td>2021-05-08</td>\n      <td>NaN</td>\n      <td>Baltimore</td>\n      <td>MD</td>\n      <td>NaN</td>\n      <td>...</td>\n      <td>NaN</td>\n      <td>NaN</td>\n      <td>NaN</td>\n      <td>NaN</td>\n      <td>Part 1 Violent Crime</td>\n      <td>murder</td>\n      <td>NaN</td>\n      <td>NaN</td>\n      <td>NaN</td>\n      <td>Yes</td>\n    </tr>\n    <tr>\n      <th>4</th>\n      <td>Felix Jerry Marquez</td>\n      <td>34</td>\n      <td>Male</td>\n      <td>Hispanic</td>\n      <td>NaN</td>\n      <td>2021-05-08</td>\n      <td>NaN</td>\n      <td>Riverside</td>\n      <td>CA</td>\n      <td>NaN</td>\n      <td>...</td>\n      <td>NaN</td>\n      <td>NaN</td>\n      <td>NaN</td>\n      <td>NaN</td>\n      <td>Person with a gun</td>\n      <td>person with a gun</td>\n      <td>NaN</td>\n      <td>NaN</td>\n      <td>NaN</td>\n      <td>No</td>\n    </tr>\n    <tr>\n      <th>...</th>\n      <td>...</td>\n      <td>...</td>\n      <td>...</td>\n      <td>...</td>\n      <td>...</td>\n      <td>...</td>\n      <td>...</td>\n      <td>...</td>\n      <td>...</td>\n      <td>...</td>\n      <td>...</td>\n      <td>...</td>\n      <td>...</td>\n      <td>...</td>\n      <td>...</td>\n      <td>...</td>\n      <td>...</td>\n      <td>...</td>\n      <td>...</td>\n      <td>...</td>\n      <td>...</td>\n    </tr>\n    <tr>\n      <th>8488</th>\n      <td>Name withheld by police</td>\n      <td>Unknown</td>\n      <td>Male</td>\n      <td>Black</td>\n      <td>NaN</td>\n      <td>2013-07-29</td>\n      <td>7005 AL-129</td>\n      <td>Winfield</td>\n      <td>AL</td>\n      <td>35594.0</td>\n      <td>...</td>\n      <td>NaN</td>\n      <td>Rural</td>\n      <td>659.0</td>\n      <td>NaN</td>\n      <td>NaN</td>\n      <td>NaN</td>\n      <td>NaN</td>\n      <td>NaN</td>\n      <td>NaN</td>\n      <td>NaN</td>\n    </tr>\n    <tr>\n      <th>8595</th>\n      <td>Christopher Calhoun</td>\n      <td>38</td>\n      <td>Male</td>\n      <td>Unknown Race</td>\n      <td>NaN</td>\n      <td>2013-06-27</td>\n      <td>Oak Street SW and Lee Street SW</td>\n      <td>Atlanta</td>\n      <td>GA</td>\n      <td>30310.0</td>\n      <td>...</td>\n      <td>NaN</td>\n      <td>Urban</td>\n      <td>554.0</td>\n      <td>NaN</td>\n      <td>NaN</td>\n      <td>NaN</td>\n      <td>NaN</td>\n      <td>NaN</td>\n      <td>NaN</td>\n      <td>NaN</td>\n    </tr>\n    <tr>\n      <th>8780</th>\n      <td>Danny Valdes</td>\n      <td>30</td>\n      <td>Male</td>\n      <td>Hispanic</td>\n      <td>NaN</td>\n      <td>2013-05-07</td>\n      <td>Northwest 59th Street and 35th Avenue</td>\n      <td>Miami</td>\n      <td>FL</td>\n      <td>33142.0</td>\n      <td>...</td>\n      <td>NaN</td>\n      <td>Urban</td>\n      <td>369.0</td>\n      <td>NaN</td>\n      <td>NaN</td>\n      <td>NaN</td>\n      <td>NaN</td>\n      <td>NaN</td>\n      <td>NaN</td>\n      <td>NaN</td>\n    </tr>\n    <tr>\n      <th>8808</th>\n      <td>Todd Jones</td>\n      <td>41</td>\n      <td>Male</td>\n      <td>Unknown Race</td>\n      <td>NaN</td>\n      <td>2013-04-29</td>\n      <td>9900 Beach Boulevard</td>\n      <td>Jacksonville</td>\n      <td>FL</td>\n      <td>32246.0</td>\n      <td>...</td>\n      <td>NaN</td>\n      <td>Suburban</td>\n      <td>343.0</td>\n      <td>NaN</td>\n      <td>NaN</td>\n      <td>NaN</td>\n      <td>NaN</td>\n      <td>NaN</td>\n      <td>NaN</td>\n      <td>NaN</td>\n    </tr>\n    <tr>\n      <th>8880</th>\n      <td>Douglas Musto</td>\n      <td>28</td>\n      <td>Male</td>\n      <td>Unknown Race</td>\n      <td>NaN</td>\n      <td>2013-04-07</td>\n      <td>128 Elm Street</td>\n      <td>Westfield</td>\n      <td>MA</td>\n      <td>1085.0</td>\n      <td>...</td>\n      <td>NaN</td>\n      <td>Suburban</td>\n      <td>268.0</td>\n      <td>NaN</td>\n      <td>NaN</td>\n      <td>NaN</td>\n      <td>NaN</td>\n      <td>NaN</td>\n      <td>NaN</td>\n      <td>NaN</td>\n    </tr>\n  </tbody>\n</table>\n<p>131 rows × 35 columns</p>\n</div>"
     },
     "metadata": {}
    }
   ]
  },
  {
   "cell_type": "markdown",
   "source": "## Next steps:\n- explore value counts of individual features to potentially clear nulls with 0's, combine values, etc.\n- drop columns, name, img_url, news_article_or_photo_of_official_document, off_duty_killing, wapo_id, mpv_id, fatal_encounters_id, names_of_officers_involved_draft, address",
   "metadata": {
    "tags": [],
    "cell_id": "00023-bab8ad65-35ac-4508-a5a4-1ebde94b85ca",
    "deepnote_cell_type": "markdown"
   }
  },
  {
   "cell_type": "code",
   "metadata": {
    "tags": [],
    "cell_id": "00025-3dbe89ac-7e2d-4eef-9a18-632b7f72f2c7",
    "deepnote_to_be_reexecuted": false,
    "source_hash": "f3dd26da",
    "execution_start": 1621870428230,
    "execution_millis": 213,
    "deepnote_cell_type": "code"
   },
   "source": "df.isnull().sum()",
   "execution_count": null,
   "outputs": [
    {
     "output_type": "execute_result",
     "execution_count": 24,
     "data": {
      "text/plain": "name                                              0\nage                                               0\ngender                                           10\nrace                                              0\nimg_url                                        4265\ndate                                              0\naddress                                         105\ncity                                              9\nstate                                             0\nzipcode                                          48\ncounty                                           17\nagency_responsible                                4\nori_agency_identifier                             3\ncause_of_death                                    0\ndescription_of_circumstances                     15\nofficial_disposition                             11\ncriminal_charges_filed                            0\nnews_article_or_photo_of_official_document        0\nmental_illness                                   61\narmed_unarmed_status                              0\nalleged_weapon                                    0\nalleged_threat_lvl                             2397\nfleeing                                        3091\nbody_camera                                    3165\nwapo_id                                        3099\noff_duty_killing                               8899\ngeography                                        25\nmpv_id                                           79\nfatal_encounters_id                             131\nencounter_type_draft                           4308\ninitial_reported_reason_for_encounter_draft    4308\nnames_of_officers_involved_draft               7753\nrace_of_officers_involved_draft                8806\nknown_past_shootings_of_Officer_draft          9073\ncall_for_service_draft                         5531\ndtype: int64"
     },
     "metadata": {}
    }
   ]
  },
  {
   "cell_type": "code",
   "metadata": {
    "tags": [],
    "cell_id": "00027-1b330a81-3e3d-46a4-b6a0-fb9e922d7336",
    "deepnote_to_be_reexecuted": false,
    "source_hash": "9670f8f4",
    "execution_start": 1621870428251,
    "execution_millis": 192,
    "deepnote_cell_type": "code"
   },
   "source": "df.body_camera.value_counts(dropna=False)",
   "execution_count": null,
   "outputs": [
    {
     "output_type": "execute_result",
     "execution_count": 25,
     "data": {
      "text/plain": "No                    5044\nNaN                   3165\nYes                    615\nno                     261\nyes                     46\nSurveillance Video       5\nBystander Video          4\nSurveillance video       2\nDashcam Video            2\nDashcam video            1\nsurveillance video       1\ncell phone video         1\nName: body_camera, dtype: int64"
     },
     "metadata": {}
    }
   ]
  },
  {
   "cell_type": "markdown",
   "source": "### Body cam nulls == No",
   "metadata": {
    "tags": [],
    "cell_id": "00028-8b3406ae-160b-4382-930f-2993b38abbe4",
    "deepnote_cell_type": "markdown"
   }
  },
  {
   "cell_type": "code",
   "metadata": {
    "tags": [],
    "cell_id": "00028-668c6563-f833-41fd-8137-07b0b0e30f76",
    "deepnote_to_be_reexecuted": false,
    "source_hash": "2ace6236",
    "execution_start": 1621870428269,
    "execution_millis": 4,
    "deepnote_cell_type": "code"
   },
   "source": "df.body_camera = df.body_camera.fillna('no').str.lower()",
   "execution_count": null,
   "outputs": []
  },
  {
   "cell_type": "code",
   "metadata": {
    "tags": [],
    "cell_id": "00030-6b7cd2ce-21ae-4ffa-bdd1-112d3096726d",
    "deepnote_to_be_reexecuted": false,
    "source_hash": "9670f8f4",
    "execution_start": 1621870428274,
    "execution_millis": 169,
    "deepnote_cell_type": "code"
   },
   "source": "df.body_camera.value_counts(dropna=False)",
   "execution_count": null,
   "outputs": [
    {
     "output_type": "execute_result",
     "execution_count": 27,
     "data": {
      "text/plain": "no                    8470\nyes                    661\nsurveillance video       8\nbystander video          4\ndashcam video            3\ncell phone video         1\nName: body_camera, dtype: int64"
     },
     "metadata": {}
    }
   ]
  },
  {
   "cell_type": "markdown",
   "source": "### df.known_past_shootings_of_Officer_draft nulls == 0",
   "metadata": {
    "tags": [],
    "cell_id": "00032-85d6272b-d6a0-44b4-8975-1658a529f1ed",
    "deepnote_cell_type": "markdown"
   }
  },
  {
   "cell_type": "code",
   "metadata": {
    "tags": [],
    "cell_id": "00031-5f4351f8-e77f-4a14-b502-aa0e15857fb7",
    "deepnote_to_be_reexecuted": false,
    "source_hash": "c2a04de0",
    "execution_start": 1621870428294,
    "execution_millis": 1,
    "deepnote_cell_type": "code"
   },
   "source": "df.known_past_shootings_of_Officer_draft = df.known_past_shootings_of_Officer_draft.fillna('0')",
   "execution_count": null,
   "outputs": []
  },
  {
   "cell_type": "code",
   "metadata": {
    "tags": [],
    "cell_id": "00031-7259ad27-a83b-4fde-a42d-5844cdb7d08f",
    "deepnote_to_be_reexecuted": false,
    "source_hash": "ab887b66",
    "execution_start": 1621870428301,
    "execution_millis": 0,
    "deepnote_cell_type": "code"
   },
   "source": "df.known_past_shootings_of_Officer_draft = df.known_past_shootings_of_Officer_draft.replace('None', '0').replace('No', '0')",
   "execution_count": null,
   "outputs": []
  },
  {
   "cell_type": "markdown",
   "source": "### Mental illness\n- unkown == unknown\n- yes/drug or alcohol use == drug or alcohol use\n- 'unknown ' == 'unknown'",
   "metadata": {
    "tags": [],
    "cell_id": "00035-aac72aeb-5337-4176-b9e1-76c6fab259b6",
    "deepnote_cell_type": "markdown"
   }
  },
  {
   "cell_type": "code",
   "metadata": {
    "tags": [],
    "cell_id": "00031-a0d8bbd3-d298-4aa4-8cb7-cbe73ec0d15d",
    "deepnote_to_be_reexecuted": false,
    "source_hash": "327c60bd",
    "execution_start": 1621870428302,
    "execution_millis": 0,
    "deepnote_cell_type": "code"
   },
   "source": "df.mental_illness = df.mental_illness.str.lower().replace('unkown', 'unknown').replace('yes/drug or alcohol use','drug or alcohol use').replace('unknown ','unknown')",
   "execution_count": null,
   "outputs": []
  },
  {
   "cell_type": "code",
   "metadata": {
    "tags": [],
    "cell_id": "00036-f5b35e71-967d-46aa-9db6-355bd81a3e0f",
    "deepnote_to_be_reexecuted": false,
    "source_hash": "61e5fcc8",
    "execution_start": 1621870428326,
    "execution_millis": 117,
    "deepnote_cell_type": "code"
   },
   "source": "df.alleged_threat_lvl.str.lower().value_counts(dropna=False)",
   "execution_count": null,
   "outputs": [
    {
     "output_type": "execute_result",
     "execution_count": 31,
     "data": {
      "text/plain": "attack          4332\nNaN             2397\nother           2053\nundetermined     363\nnone               2\nName: alleged_threat_lvl, dtype: int64"
     },
     "metadata": {}
    }
   ]
  },
  {
   "cell_type": "markdown",
   "source": "Separate alleged threat level nulls from main dataframe",
   "metadata": {
    "tags": [],
    "cell_id": "00041-dcda9c60-cbaf-4b10-8011-9b66cdd09249",
    "deepnote_cell_type": "markdown"
   }
  },
  {
   "cell_type": "code",
   "metadata": {
    "tags": [],
    "cell_id": "00038-b1610a3c-47c8-46ce-a88a-2541059c2dd7",
    "deepnote_to_be_reexecuted": false,
    "source_hash": "6d7335fc",
    "execution_start": 1621870428327,
    "execution_millis": 6,
    "deepnote_cell_type": "code"
   },
   "source": "null_target_df = df[df.alleged_threat_lvl.isnull() == True]",
   "execution_count": null,
   "outputs": []
  },
  {
   "cell_type": "code",
   "metadata": {
    "tags": [],
    "cell_id": "00039-587ad517-9536-4e6e-aa92-d0bddb234a01",
    "deepnote_to_be_reexecuted": false,
    "source_hash": "e4092829",
    "execution_start": 1621870428334,
    "execution_millis": 109,
    "deepnote_cell_type": "code"
   },
   "source": "null_target_df.description_of_circumstances.value_counts()",
   "execution_count": null,
   "outputs": [
    {
     "output_type": "execute_result",
     "execution_count": 33,
     "data": {
      "text/plain": "Borden, who suffered from a number of mental illnesses and depression, shot and killed his wife, two children, mother-in-law and himself.                                                                                                                                                                                                                                                                                                                                                                               4\nA U.S. Customs and Border Patrol agent in Texas, Juan David Ortiz, 35, is accused of killing four women, Melissa Ramirez, 29, Claudine Anne Luera, 42, Griselda Alicia Hernandez Cantú, 35, and Nikki Enriquez, 28.                                                                                                                                                                                                                                                                                                     3\nA woman and two men were killed and eight injured when a pickup fleeing Border Patrol agents rolled over near the Mexican border after agents deployed a tire deflation device.                                                                                                                                                                                                                                                                                                                                         3\nRobert Acevedo, 27, was charged with two counts of vehicle by homicide and resisting arrest in connection with a crash where two undocumented immigrants died following a chase with Border Patrol. The Border Patrol said in a news release that agents deployed tire-deflation spikes after the driver refused to stop.                                                                                                                                                                                               2\nOff duty police kills 1-year-old child, boyfriend and self.                                                                                                                                                                                                                                                                                                                                                                                                                                                             2\n                                                                                                                                                                                                                                                                                                                                                                                                                                                                                                                       ..\nMembers of a sheriff's gang task force, along with a probation officer, tried to stop the driver of a silver Toyota for a traffic violation. Deputies said McCullough took off. Four minutes later, McCullough stopped, got out of his car, and allegedly took out a weapon. Police shot and killed him.                                                                                                                                                                                                                1\nPolice responded to a call on a \"woman walking in the street with a handgun\" or an \"armed, suicidal woman.\" A \"mental health professional\" and officers reportedly tried to get her to unarm herself for approx. 30 minutes. She then allegedly raised the gun and \"pointed it at officers in a threatening manner.\" Officers Matt Roy, Chris Dalton, Richard Robles, Louie Arviso, Jaime Getz, and Senior Officer Andrea Pflugh shot her. It was later determined that she was armed with an Airsoft pellet pistol.    1\nPolice were called to Suarez's home due to his erratic behavior. Upon arrival, Suarez told police that he had taken drugs and threatened to kill the officers. After a brief struggle and failed taser use, an officer fatally shot Suarez.                                                                                                                                                                                                                                                                             1\nOfficers were dispatched to a domestic violence situation and 911 hang-up. 911 dispatchers heard sounds of struggle and screaming during the phone call. When officers arrived, they were contacted by someone who said that a man was armed with a knife. Officers found the man, who they allege was armed with a knife and a club, and claim charged at them. Two officers shot at Pinke multiple times, killing him.                                                                                                1\nCourtier was pulled over on suspicion of drunk driving and allegedly attempted to flee the scene. He was tasered and also suffered a facial laceration in a struggle with officers to arrest him. Courtier became unresponsive at the scene and was pronounced dead after arriving at a hospital.                                                                                                                                                                                                                       1\nName: description_of_circumstances, Length: 2373, dtype: int64"
     },
     "metadata": {}
    }
   ]
  },
  {
   "cell_type": "markdown",
   "source": "Create 4 list that hole index value of null threat level data, to go back and fill in the values",
   "metadata": {
    "tags": [],
    "cell_id": "00044-00aaf178-ba30-4952-b4f9-c0125b189a94",
    "deepnote_cell_type": "markdown"
   }
  },
  {
   "cell_type": "code",
   "metadata": {
    "tags": [],
    "cell_id": "00041-eca3cfdb-f8b0-4078-9b5c-3403c2a7d6e2",
    "deepnote_to_be_reexecuted": false,
    "source_hash": "3d598d71",
    "execution_start": 1621870428338,
    "execution_millis": 6,
    "deepnote_cell_type": "code"
   },
   "source": "list_1 = list(null_target_df.index[:600])\n\nlist_2 = list(null_target_df.index[600:1200]) #Barbara\n\nlist_3 = list(null_target_df.index[1200:1800])\n\nlist_4 = list(null_target_df.index[1800:])",
   "execution_count": null,
   "outputs": []
  },
  {
   "cell_type": "code",
   "metadata": {
    "tags": [],
    "cell_id": "00042-f24feb46-a5d5-43a0-a043-9c39f6831297",
    "deepnote_to_be_reexecuted": false,
    "source_hash": "dd70def9",
    "execution_start": 1621870428344,
    "execution_millis": 99,
    "deepnote_cell_type": "code"
   },
   "source": "len(list_1), len(list_2), len(list_3), len(list_4)",
   "execution_count": null,
   "outputs": [
    {
     "output_type": "execute_result",
     "execution_count": 35,
     "data": {
      "text/plain": "(600, 600, 600, 597)"
     },
     "metadata": {}
    }
   ]
  },
  {
   "cell_type": "code",
   "metadata": {
    "tags": [],
    "cell_id": "00042-073b0c0a-e894-4ee9-96d3-7cbae9bb5c2f",
    "deepnote_to_be_reexecuted": false,
    "source_hash": "de1e323c",
    "execution_start": 1621870428357,
    "execution_millis": 86,
    "deepnote_cell_type": "code"
   },
   "source": "df.info()",
   "execution_count": null,
   "outputs": [
    {
     "name": "stdout",
     "text": "<class 'pandas.core.frame.DataFrame'>\nRangeIndex: 9147 entries, 0 to 9146\nData columns (total 35 columns):\n #   Column                                       Non-Null Count  Dtype         \n---  ------                                       --------------  -----         \n 0   name                                         9147 non-null   object        \n 1   age                                          9147 non-null   object        \n 2   gender                                       9137 non-null   object        \n 3   race                                         9147 non-null   object        \n 4   img_url                                      4882 non-null   object        \n 5   date                                         9147 non-null   datetime64[ns]\n 6   address                                      9042 non-null   object        \n 7   city                                         9138 non-null   object        \n 8   state                                        9147 non-null   object        \n 9   zipcode                                      9099 non-null   float64       \n 10  county                                       9130 non-null   object        \n 11  agency_responsible                           9143 non-null   object        \n 12  ori_agency_identifier                        9144 non-null   object        \n 13  cause_of_death                               9147 non-null   object        \n 14  description_of_circumstances                 9132 non-null   object        \n 15  official_disposition                         9136 non-null   object        \n 16  criminal_charges_filed                       9147 non-null   object        \n 17  news_article_or_photo_of_official_document   9147 non-null   object        \n 18  mental_illness                               9086 non-null   object        \n 19  armed_unarmed_status                         9147 non-null   object        \n 20  alleged_weapon                               9147 non-null   object        \n 21  alleged_threat_lvl                           6750 non-null   object        \n 22  fleeing                                      6056 non-null   object        \n 23  body_camera                                  9147 non-null   object        \n 24  wapo_id                                      6048 non-null   float64       \n 25  off_duty_killing                             248 non-null    object        \n 26  geography                                    9122 non-null   object        \n 27  mpv_id                                       9068 non-null   float64       \n 28  fatal_encounters_id                          9016 non-null   float64       \n 29  encounter_type_draft                         4839 non-null   object        \n 30  initial_reported_reason_for_encounter_draft  4839 non-null   object        \n 31  names_of_officers_involved_draft             1394 non-null   object        \n 32  race_of_officers_involved_draft              341 non-null    object        \n 33  known_past_shootings_of_Officer_draft        9147 non-null   object        \n 34  call_for_service_draft                       3616 non-null   object        \ndtypes: datetime64[ns](1), float64(4), object(30)\nmemory usage: 2.4+ MB\n",
     "output_type": "stream"
    }
   ]
  },
  {
   "cell_type": "markdown",
   "source": "",
   "metadata": {
    "tags": [],
    "cell_id": "00048-256968fb-bdd7-4ad9-82b4-fe0ff43ad11b",
    "deepnote_cell_type": "markdown"
   }
  },
  {
   "cell_type": "markdown",
   "source": "### Drop alleged_threat_lvl nulls, until time allows to complete data",
   "metadata": {
    "tags": [],
    "cell_id": "00049-00d63baa-f420-4789-997b-985150766029",
    "deepnote_cell_type": "markdown"
   }
  },
  {
   "cell_type": "code",
   "metadata": {
    "tags": [],
    "cell_id": "00043-62532a6b-b1f5-4712-b807-a3309e69b81a",
    "deepnote_to_be_reexecuted": false,
    "source_hash": "8a90ba91",
    "execution_start": 1621870428384,
    "execution_millis": 0,
    "deepnote_cell_type": "code"
   },
   "source": "df = df[df.alleged_threat_lvl.isnull() == False]",
   "execution_count": null,
   "outputs": []
  },
  {
   "cell_type": "code",
   "metadata": {
    "tags": [],
    "cell_id": "00045-e49477b6-49cb-4200-85b7-36d78f9de95c",
    "deepnote_to_be_reexecuted": false,
    "source_hash": "14f60b8f",
    "execution_start": 1621870428387,
    "execution_millis": 57,
    "deepnote_cell_type": "code"
   },
   "source": "df.shape",
   "execution_count": null,
   "outputs": [
    {
     "output_type": "execute_result",
     "execution_count": 38,
     "data": {
      "text/plain": "(6750, 35)"
     },
     "metadata": {}
    }
   ]
  },
  {
   "cell_type": "code",
   "metadata": {
    "tags": [],
    "cell_id": "00046-a20db16d-d221-418e-83d8-d7f5034c0e1f",
    "deepnote_to_be_reexecuted": false,
    "source_hash": "f3dd26da",
    "execution_start": 1621870428407,
    "execution_millis": 37,
    "deepnote_cell_type": "code"
   },
   "source": "df.isnull().sum()",
   "execution_count": null,
   "outputs": [
    {
     "output_type": "execute_result",
     "execution_count": 39,
     "data": {
      "text/plain": "name                                              0\nage                                               0\ngender                                            8\nrace                                              0\nimg_url                                        3396\ndate                                              0\naddress                                          80\ncity                                              7\nstate                                             0\nzipcode                                          38\ncounty                                           16\nagency_responsible                                3\nori_agency_identifier                             2\ncause_of_death                                    0\ndescription_of_circumstances                     11\nofficial_disposition                              0\ncriminal_charges_filed                            0\nnews_article_or_photo_of_official_document        0\nmental_illness                                   59\narmed_unarmed_status                              0\nalleged_weapon                                    0\nalleged_threat_lvl                                0\nfleeing                                         705\nbody_camera                                       0\nwapo_id                                         736\noff_duty_killing                               6635\ngeography                                        21\nmpv_id                                           67\nfatal_encounters_id                              92\nencounter_type_draft                           2070\ninitial_reported_reason_for_encounter_draft    2070\nnames_of_officers_involved_draft               5389\nrace_of_officers_involved_draft                6419\nknown_past_shootings_of_Officer_draft             0\ncall_for_service_draft                         3281\ndtype: int64"
     },
     "metadata": {}
    }
   ]
  },
  {
   "cell_type": "code",
   "metadata": {
    "tags": [],
    "cell_id": "00048-98aa8d94-47d2-4364-a9e7-d04bf5cc10d2",
    "deepnote_to_be_reexecuted": false,
    "source_hash": "2778c14b",
    "execution_start": 1621870428415,
    "execution_millis": 4,
    "deepnote_cell_type": "code"
   },
   "source": "df.call_for_service_draft = df.call_for_service_draft.str.lower().replace('no ', 'no')",
   "execution_count": null,
   "outputs": []
  },
  {
   "cell_type": "code",
   "metadata": {
    "tags": [],
    "cell_id": "00054-a7985b59-29cb-4921-a36c-5cb2026fb583",
    "deepnote_to_be_reexecuted": false,
    "source_hash": "122e19ea",
    "execution_start": 1621870428421,
    "execution_millis": 23,
    "output_cleared": false,
    "deepnote_cell_type": "code"
   },
   "source": "df.call_for_service_draft.value_counts(dropna=False)",
   "execution_count": null,
   "outputs": [
    {
     "output_type": "execute_result",
     "execution_count": 41,
     "data": {
      "text/plain": "NaN            3281\nyes            2185\nno             1095\nunavailable     189\nName: call_for_service_draft, dtype: int64"
     },
     "metadata": {}
    }
   ]
  },
  {
   "cell_type": "code",
   "metadata": {
    "tags": [],
    "cell_id": "00049-b434769d-cbf4-4bc8-80bb-d1890d0761b0",
    "deepnote_to_be_reexecuted": false,
    "source_hash": "649ed50a",
    "execution_start": 1621870428436,
    "execution_millis": 27,
    "deepnote_cell_type": "code"
   },
   "source": "df.isnull().sum()\n",
   "execution_count": null,
   "outputs": [
    {
     "output_type": "execute_result",
     "execution_count": 42,
     "data": {
      "text/plain": "name                                              0\nage                                               0\ngender                                            8\nrace                                              0\nimg_url                                        3396\ndate                                              0\naddress                                          80\ncity                                              7\nstate                                             0\nzipcode                                          38\ncounty                                           16\nagency_responsible                                3\nori_agency_identifier                             2\ncause_of_death                                    0\ndescription_of_circumstances                     11\nofficial_disposition                              0\ncriminal_charges_filed                            0\nnews_article_or_photo_of_official_document        0\nmental_illness                                   59\narmed_unarmed_status                              0\nalleged_weapon                                    0\nalleged_threat_lvl                                0\nfleeing                                         705\nbody_camera                                       0\nwapo_id                                         736\noff_duty_killing                               6635\ngeography                                        21\nmpv_id                                           67\nfatal_encounters_id                              92\nencounter_type_draft                           2070\ninitial_reported_reason_for_encounter_draft    2070\nnames_of_officers_involved_draft               5389\nrace_of_officers_involved_draft                6419\nknown_past_shootings_of_Officer_draft             0\ncall_for_service_draft                         3281\ndtype: int64"
     },
     "metadata": {}
    }
   ]
  },
  {
   "cell_type": "code",
   "metadata": {
    "tags": [],
    "cell_id": "00056-d9bbe4f4-b29c-412f-95cb-0e6acd1fbec9",
    "deepnote_to_be_reexecuted": false,
    "source_hash": "9e5036cc",
    "execution_start": 1621870428453,
    "execution_millis": 2,
    "deepnote_cell_type": "code"
   },
   "source": "dropcols = ['name', 'img_url', 'ori_agency_identifier', 'news_article_or_photo_of_official_document', 'off_duty_killing', 'wapo_id', 'mpv_id', 'fatal_encounters_id', 'names_of_officers_involved_draft', 'address']",
   "execution_count": null,
   "outputs": []
  },
  {
   "cell_type": "code",
   "metadata": {
    "tags": [],
    "cell_id": "00057-af916e95-7d41-464b-9ede-99fe01222877",
    "deepnote_to_be_reexecuted": false,
    "source_hash": "20adab41",
    "execution_start": 1621870428485,
    "execution_millis": 0,
    "deepnote_cell_type": "code"
   },
   "source": "df.drop(columns=dropcols, inplace=True)",
   "execution_count": null,
   "outputs": []
  },
  {
   "cell_type": "code",
   "metadata": {
    "tags": [],
    "cell_id": "00058-2b94f3b2-bb0e-4d0e-8521-d8b1a9278b9c",
    "deepnote_to_be_reexecuted": false,
    "source_hash": "14f60b8f",
    "execution_start": 1621870428485,
    "execution_millis": 20,
    "deepnote_cell_type": "code"
   },
   "source": "df.shape",
   "execution_count": null,
   "outputs": [
    {
     "output_type": "execute_result",
     "execution_count": 45,
     "data": {
      "text/plain": "(6750, 25)"
     },
     "metadata": {}
    }
   ]
  },
  {
   "cell_type": "code",
   "metadata": {
    "tags": [],
    "cell_id": "00059-a090e744-3a68-4068-8505-3d78ba38b352",
    "deepnote_to_be_reexecuted": false,
    "source_hash": "f3dd26da",
    "execution_start": 1621870428486,
    "execution_millis": 19,
    "deepnote_cell_type": "code"
   },
   "source": "df.isnull().sum()",
   "execution_count": null,
   "outputs": [
    {
     "output_type": "execute_result",
     "execution_count": 46,
     "data": {
      "text/plain": "age                                               0\ngender                                            8\nrace                                              0\ndate                                              0\ncity                                              7\nstate                                             0\nzipcode                                          38\ncounty                                           16\nagency_responsible                                3\ncause_of_death                                    0\ndescription_of_circumstances                     11\nofficial_disposition                              0\ncriminal_charges_filed                            0\nmental_illness                                   59\narmed_unarmed_status                              0\nalleged_weapon                                    0\nalleged_threat_lvl                                0\nfleeing                                         705\nbody_camera                                       0\ngeography                                        21\nencounter_type_draft                           2070\ninitial_reported_reason_for_encounter_draft    2070\nrace_of_officers_involved_draft                6419\nknown_past_shootings_of_Officer_draft             0\ncall_for_service_draft                         3281\ndtype: int64"
     },
     "metadata": {}
    }
   ]
  },
  {
   "cell_type": "code",
   "metadata": {
    "tags": [],
    "cell_id": "00060-04051521-300c-405b-99ab-841dd5ff930b",
    "deepnote_to_be_reexecuted": false,
    "source_hash": "65bc9795",
    "execution_start": 1621870428494,
    "execution_millis": 14,
    "deepnote_cell_type": "code"
   },
   "source": "df.encounter_type_draft.str.lower().value_counts(dropna=False)",
   "execution_count": null,
   "outputs": [
    {
     "output_type": "execute_result",
     "execution_count": 47,
     "data": {
      "text/plain": "NaN                                                 2070\npart 1 violent crime                                1253\nother non-violent offense                            900\ntraffic stop                                         483\nmental health/welfare check                          476\n                                                    ... \nperson with a weapon (knife, explosive)                1\nperson with a weapon (claw hammer)                     1\nperson with weapon (gun)                               1\nperson with a weapon (bat)                             1\ndomestic disturbance/mental health/welfare check       1\nName: encounter_type_draft, Length: 62, dtype: int64"
     },
     "metadata": {}
    }
   ]
  },
  {
   "cell_type": "markdown",
   "source": "### Group confusing values into main groups in encounter_type_draft column\n- part 1 violent crime           \n- other                          \n- domestic disturbance            \n- traffic stop                    \n- mental health/welfare check     \n- none/unknown                    \n- person with a weapon            ",
   "metadata": {
    "tags": [],
    "cell_id": "00061-1a3efb95-1ede-4ff2-9f7a-0d232ae8e972",
    "deepnote_cell_type": "markdown"
   }
  },
  {
   "cell_type": "code",
   "metadata": {
    "tags": [],
    "cell_id": "00061-44a802dc-5a06-4d82-8834-889dcdf0ca19",
    "deepnote_to_be_reexecuted": false,
    "source_hash": "bc56dfa7",
    "execution_start": 1621870428517,
    "execution_millis": 6,
    "deepnote_cell_type": "code"
   },
   "source": "df.encounter_type_draft = df.encounter_type_draft.str.lower()",
   "execution_count": null,
   "outputs": []
  },
  {
   "cell_type": "code",
   "metadata": {
    "tags": [],
    "cell_id": "00061-b6c9bbb9-06f9-4dae-acd6-d67c612540e1",
    "deepnote_to_be_reexecuted": false,
    "source_hash": "f0ec3dfe",
    "execution_start": 1621870428565,
    "execution_millis": 1,
    "deepnote_cell_type": "code"
   },
   "source": "df.encounter_type_draft = np.where(df['encounter_type_draft'].str.contains('part 1 violent crime'), \"part 1 violent crime\", df.encounter_type_draft)",
   "execution_count": null,
   "outputs": []
  },
  {
   "cell_type": "code",
   "metadata": {
    "tags": [],
    "cell_id": "00062-b454cbcf-9161-4e51-ac4a-7b90737db8e0",
    "deepnote_to_be_reexecuted": false,
    "source_hash": "a62435f8",
    "execution_start": 1621870428566,
    "execution_millis": 1,
    "deepnote_cell_type": "code"
   },
   "source": "df.encounter_type_draft = np.where(df['encounter_type_draft'].str.contains('domestic disturbance'), \"domestic disturbance\", df.encounter_type_draft)",
   "execution_count": null,
   "outputs": []
  },
  {
   "cell_type": "code",
   "metadata": {
    "tags": [],
    "cell_id": "00063-b19c465a-887f-43a7-bd58-204480b1dadb",
    "deepnote_to_be_reexecuted": false,
    "source_hash": "4865a47d",
    "execution_start": 1621870428567,
    "execution_millis": 0,
    "deepnote_cell_type": "code"
   },
   "source": "df.encounter_type_draft = np.where(df['encounter_type_draft'].str.contains('person with '), \"person with a weapon\", df.encounter_type_draft)",
   "execution_count": null,
   "outputs": []
  },
  {
   "cell_type": "code",
   "metadata": {
    "tags": [],
    "cell_id": "00064-94662ba1-69b5-4a35-a5bd-55f7089179e2",
    "deepnote_to_be_reexecuted": false,
    "source_hash": "8feea85f",
    "execution_start": 1621870428568,
    "execution_millis": 0,
    "deepnote_cell_type": "code"
   },
   "source": "df.encounter_type_draft = np.where(df['encounter_type_draft'].str.contains('traffic'), \"traffic stop\", df.encounter_type_draft)\n",
   "execution_count": null,
   "outputs": []
  },
  {
   "cell_type": "code",
   "metadata": {
    "tags": [],
    "cell_id": "00065-6469c4c7-4204-41a2-ad72-04a850a96bc8",
    "deepnote_to_be_reexecuted": false,
    "source_hash": "5d137443",
    "execution_start": 1621870428600,
    "execution_millis": 0,
    "deepnote_cell_type": "code"
   },
   "source": "df.encounter_type_draft = np.where(df['encounter_type_draft'].str.contains('domestic distubance'), \"domestic disturbance\", df.encounter_type_draft)",
   "execution_count": null,
   "outputs": []
  },
  {
   "cell_type": "code",
   "metadata": {
    "tags": [],
    "cell_id": "00067-de2b954b-894a-433a-968d-9613686680de",
    "deepnote_to_be_reexecuted": false,
    "source_hash": "1e0f758",
    "execution_start": 1621870428601,
    "execution_millis": 0,
    "deepnote_cell_type": "code"
   },
   "source": "df.encounter_type_draft = np.where(df['encounter_type_draft'].str.lower().str.contains('other'), \"other\", df.encounter_type_draft)",
   "execution_count": null,
   "outputs": []
  },
  {
   "cell_type": "code",
   "metadata": {
    "tags": [],
    "cell_id": "00067-0ea61784-5880-4e54-9187-574769d45c2b",
    "deepnote_to_be_reexecuted": false,
    "source_hash": "b623e53d",
    "execution_start": 1621870428601,
    "execution_millis": 1,
    "deepnote_cell_type": "code"
   },
   "source": "",
   "execution_count": null,
   "outputs": []
  },
  {
   "cell_type": "code",
   "metadata": {
    "tags": [],
    "cell_id": "00064-2b87971c-f5a9-4183-8b7e-93ad458ee6e3",
    "deepnote_to_be_reexecuted": false,
    "source_hash": "25d43fa0",
    "execution_start": 1621870428602,
    "execution_millis": 23,
    "deepnote_cell_type": "code"
   },
   "source": "df.columns",
   "execution_count": null,
   "outputs": [
    {
     "output_type": "execute_result",
     "execution_count": 55,
     "data": {
      "text/plain": "Index(['age', 'gender', 'race', 'date', 'city', 'state', 'zipcode', 'county',\n       'agency_responsible', 'cause_of_death', 'description_of_circumstances',\n       'official_disposition', 'criminal_charges_filed', 'mental_illness',\n       'armed_unarmed_status', 'alleged_weapon', 'alleged_threat_lvl',\n       'fleeing', 'body_camera', 'geography', 'encounter_type_draft',\n       'initial_reported_reason_for_encounter_draft',\n       'race_of_officers_involved_draft',\n       'known_past_shootings_of_Officer_draft', 'call_for_service_draft'],\n      dtype='object')"
     },
     "metadata": {}
    }
   ]
  },
  {
   "cell_type": "markdown",
   "source": "### Group Cause of death:\n- gunshot\n- taser                  \n- physical restraint      \n- vehicle                 \n- beaten                  \n- other                    \n- pepper spray             \n- bean bag                 \n- bomb ",
   "metadata": {
    "tags": [],
    "cell_id": "00071-9c57e8d1-06bb-4eeb-90b3-48735ad16082",
    "deepnote_cell_type": "markdown"
   }
  },
  {
   "cell_type": "code",
   "metadata": {
    "tags": [],
    "cell_id": "00071-be20207f-a88f-4090-ac1e-a2b48f83d22a",
    "deepnote_to_be_reexecuted": false,
    "source_hash": "5d05f10e",
    "execution_start": 1621870428611,
    "execution_millis": 1,
    "deepnote_cell_type": "code"
   },
   "source": "df.cause_of_death = df.cause_of_death.str.lower()",
   "execution_count": null,
   "outputs": []
  },
  {
   "cell_type": "code",
   "metadata": {
    "tags": [],
    "cell_id": "00072-1cce41a4-9ac9-4151-8374-23ae7c1851c7",
    "deepnote_to_be_reexecuted": false,
    "source_hash": "2b9eab1a",
    "execution_start": 1621870428613,
    "execution_millis": 6,
    "deepnote_cell_type": "code"
   },
   "source": "df.cause_of_death = np.where(df['cause_of_death'].str.contains('gunshot'), \"gunshot\", df.cause_of_death)",
   "execution_count": null,
   "outputs": []
  },
  {
   "cell_type": "code",
   "metadata": {
    "tags": [],
    "cell_id": "00073-d25c4503-0cc2-4ca7-83b6-de3b22f98c5c",
    "deepnote_to_be_reexecuted": false,
    "source_hash": "bdc4a9d7",
    "execution_start": 1621870428621,
    "execution_millis": 8,
    "deepnote_cell_type": "code"
   },
   "source": "df.cause_of_death = np.where(df['cause_of_death'].str.contains('taser'), \"taser\", df.cause_of_death)",
   "execution_count": null,
   "outputs": []
  },
  {
   "cell_type": "code",
   "metadata": {
    "tags": [],
    "cell_id": "00074-55c82702-99b4-4590-a981-cb4ad72df052",
    "deepnote_to_be_reexecuted": false,
    "source_hash": "d3f87265",
    "execution_start": 1621870428632,
    "execution_millis": 5,
    "deepnote_cell_type": "code"
   },
   "source": "df.cause_of_death = np.where(df['cause_of_death'].str.contains('asphyxiated'), \"physical restraint\", df.cause_of_death)",
   "execution_count": null,
   "outputs": []
  },
  {
   "cell_type": "code",
   "metadata": {
    "tags": [],
    "cell_id": "00075-e439e313-5fee-4609-88a7-c27ad606319f",
    "deepnote_to_be_reexecuted": false,
    "source_hash": "e91e2db5",
    "execution_start": 1621870428677,
    "execution_millis": 0,
    "deepnote_cell_type": "code"
   },
   "source": "df.cause_of_death = np.where(df['cause_of_death'].str.contains('pepper spray'), \"pepper spray\", df.cause_of_death)",
   "execution_count": null,
   "outputs": []
  },
  {
   "cell_type": "code",
   "metadata": {
    "tags": [],
    "cell_id": "00066-f7a26e52-5ac7-462b-bacb-7e5ae2f1b66f",
    "deepnote_to_be_reexecuted": false,
    "source_hash": "de1e323c",
    "execution_start": 1621870428678,
    "execution_millis": 9,
    "deepnote_cell_type": "code"
   },
   "source": "df.info()",
   "execution_count": null,
   "outputs": [
    {
     "name": "stdout",
     "text": "<class 'pandas.core.frame.DataFrame'>\nInt64Index: 6750 entries, 0 to 8837\nData columns (total 25 columns):\n #   Column                                       Non-Null Count  Dtype         \n---  ------                                       --------------  -----         \n 0   age                                          6750 non-null   object        \n 1   gender                                       6742 non-null   object        \n 2   race                                         6750 non-null   object        \n 3   date                                         6750 non-null   datetime64[ns]\n 4   city                                         6743 non-null   object        \n 5   state                                        6750 non-null   object        \n 6   zipcode                                      6712 non-null   float64       \n 7   county                                       6734 non-null   object        \n 8   agency_responsible                           6747 non-null   object        \n 9   cause_of_death                               6750 non-null   object        \n 10  description_of_circumstances                 6739 non-null   object        \n 11  official_disposition                         6750 non-null   object        \n 12  criminal_charges_filed                       6750 non-null   object        \n 13  mental_illness                               6691 non-null   object        \n 14  armed_unarmed_status                         6750 non-null   object        \n 15  alleged_weapon                               6750 non-null   object        \n 16  alleged_threat_lvl                           6750 non-null   object        \n 17  fleeing                                      6045 non-null   object        \n 18  body_camera                                  6750 non-null   object        \n 19  geography                                    6729 non-null   object        \n 20  encounter_type_draft                         6750 non-null   object        \n 21  initial_reported_reason_for_encounter_draft  4680 non-null   object        \n 22  race_of_officers_involved_draft              331 non-null    object        \n 23  known_past_shootings_of_Officer_draft        6750 non-null   object        \n 24  call_for_service_draft                       3469 non-null   object        \ndtypes: datetime64[ns](1), float64(1), object(23)\nmemory usage: 1.3+ MB\n",
     "output_type": "stream"
    }
   ]
  },
  {
   "cell_type": "code",
   "metadata": {
    "tags": [],
    "cell_id": "00072-d57d466d-ece9-4b70-8ce5-2f5df7002b97",
    "deepnote_to_be_reexecuted": false,
    "source_hash": "9cae4bd5",
    "execution_start": 1621870428679,
    "execution_millis": 1,
    "deepnote_cell_type": "code"
   },
   "source": "dropcols",
   "execution_count": null,
   "outputs": [
    {
     "output_type": "execute_result",
     "execution_count": 62,
     "data": {
      "text/plain": "['name',\n 'img_url',\n 'ori_agency_identifier',\n 'news_article_or_photo_of_official_document',\n 'off_duty_killing',\n 'wapo_id',\n 'mpv_id',\n 'fatal_encounters_id',\n 'names_of_officers_involved_draft',\n 'address']"
     },
     "metadata": {}
    }
   ]
  },
  {
   "cell_type": "code",
   "metadata": {
    "tags": [],
    "cell_id": "00077-402a93a0-1d45-4ed7-a52e-cb739cfe0428",
    "deepnote_to_be_reexecuted": false,
    "source_hash": "cc640b66",
    "execution_start": 1621870428706,
    "execution_millis": 4,
    "deepnote_cell_type": "code"
   },
   "source": "df.initial_reported_reason_for_encounter_draft = df.initial_reported_reason_for_encounter_draft.str.lower()",
   "execution_count": null,
   "outputs": []
  },
  {
   "cell_type": "code",
   "metadata": {
    "tags": [],
    "cell_id": "00068-fbca6d75-a5aa-498e-9851-ec4d786a703b",
    "deepnote_to_be_reexecuted": false,
    "source_hash": "5731462c",
    "execution_start": 1621870428707,
    "execution_millis": 23,
    "deepnote_cell_type": "code"
   },
   "source": "df.initial_reported_reason_for_encounter_draft.value_counts(dropna=False)",
   "execution_count": null,
   "outputs": [
    {
     "output_type": "execute_result",
     "execution_count": 64,
     "data": {
      "text/plain": "NaN                                                 2070\ntraffic violation                                    235\nshooting                                             223\ndomestic disturbance                                 175\nrobbery                                              163\n                                                    ... \nsuspect (murder and kidnapping)                        1\ndisturbance - armed individual with baseball bat       1\nstolen moped                                           1\nmental illness - danger to self and others             1\nsuspicious individual with gun                         1\nName: initial_reported_reason_for_encounter_draft, Length: 1343, dtype: int64"
     },
     "metadata": {}
    }
   ]
  },
  {
   "cell_type": "code",
   "metadata": {
    "tags": [],
    "cell_id": "00077-261184e0-abdc-4c15-b493-ef640be4727f",
    "deepnote_to_be_reexecuted": false,
    "source_hash": "84b6082a",
    "execution_start": 1621870428708,
    "execution_millis": 0,
    "deepnote_cell_type": "code"
   },
   "source": "df.initial_reported_reason_for_encounter_draft = np.where(df['initial_reported_reason_for_encounter_draft'].str.contains('traffic'), \"traffic violation\", df.initial_reported_reason_for_encounter_draft)",
   "execution_count": null,
   "outputs": []
  },
  {
   "cell_type": "code",
   "metadata": {
    "tags": [],
    "cell_id": "00080-20f6a48c-0c16-4ded-8b7d-cc5f4e81924f",
    "deepnote_to_be_reexecuted": false,
    "source_hash": "164cfc49",
    "execution_start": 1621870428715,
    "execution_millis": 4,
    "deepnote_cell_type": "code"
   },
   "source": "df.initial_reported_reason_for_encounter_draft = np.where(df['initial_reported_reason_for_encounter_draft'].str.contains('domestic distu'), \"domestic disturbance\", df.initial_reported_reason_for_encounter_draft)\n",
   "execution_count": null,
   "outputs": []
  },
  {
   "cell_type": "code",
   "metadata": {
    "tags": [],
    "cell_id": "00081-25b17f91-0e40-4dee-b757-5a20d6ad96fe",
    "deepnote_to_be_reexecuted": false,
    "source_hash": "6bdadbd2",
    "execution_start": 1621870428724,
    "execution_millis": 9,
    "deepnote_cell_type": "code"
   },
   "source": "df.initial_reported_reason_for_encounter_draft = np.where(df['initial_reported_reason_for_encounter_draft'].str.contains('warrant'), \"warrant\", df.initial_reported_reason_for_encounter_draft)\n",
   "execution_count": null,
   "outputs": []
  },
  {
   "cell_type": "code",
   "metadata": {
    "tags": [],
    "cell_id": "00082-bc5377d8-bf53-42f3-abff-84d43bcfb89c",
    "deepnote_to_be_reexecuted": false,
    "source_hash": "49c40b48",
    "execution_start": 1621870428735,
    "execution_millis": 3,
    "deepnote_cell_type": "code"
   },
   "source": "df.initial_reported_reason_for_encounter_draft = np.where(df['initial_reported_reason_for_encounter_draft'].str.contains('assault'), \"assault\", df.initial_reported_reason_for_encounter_draft)",
   "execution_count": null,
   "outputs": []
  },
  {
   "cell_type": "code",
   "metadata": {
    "tags": [],
    "cell_id": "00083-840f9b15-877c-428b-9b36-d8fe9b616954",
    "deepnote_to_be_reexecuted": false,
    "source_hash": "470ec917",
    "execution_start": 1621870428783,
    "execution_millis": 1,
    "deepnote_cell_type": "code"
   },
   "source": "df.initial_reported_reason_for_encounter_draft = np.where(df['initial_reported_reason_for_encounter_draft'].str.contains('domestic'), \"domestic disturbance\", df.initial_reported_reason_for_encounter_draft)",
   "execution_count": null,
   "outputs": []
  },
  {
   "cell_type": "code",
   "metadata": {
    "tags": [],
    "cell_id": "00083-dc466bfe-0d6b-4d72-8a3a-cf130fe8bedd",
    "deepnote_to_be_reexecuted": false,
    "source_hash": "5affa93a",
    "execution_start": 1621870428785,
    "execution_millis": 0,
    "deepnote_cell_type": "code"
   },
   "source": "df.initial_reported_reason_for_encounter_draft = np.where(df['initial_reported_reason_for_encounter_draft'].str.contains('shooting'), \"shooting\", df.initial_reported_reason_for_encounter_draft)",
   "execution_count": null,
   "outputs": []
  },
  {
   "cell_type": "code",
   "metadata": {
    "tags": [],
    "cell_id": "00084-37c6da7d-f3bc-42aa-875f-5ab5f568e36d",
    "deepnote_to_be_reexecuted": false,
    "source_hash": "2aa3b551",
    "execution_start": 1621870428786,
    "execution_millis": 0,
    "deepnote_cell_type": "code"
   },
   "source": "df.initial_reported_reason_for_encounter_draft = np.where(df['initial_reported_reason_for_encounter_draft'].str.contains('public intox'), \"public intoxication\", df.initial_reported_reason_for_encounter_draft)",
   "execution_count": null,
   "outputs": []
  },
  {
   "cell_type": "code",
   "metadata": {
    "tags": [],
    "cell_id": "00086-b906931d-bb6e-40c9-a80e-ce2ce7736640",
    "deepnote_to_be_reexecuted": false,
    "source_hash": "5f3d8774",
    "execution_start": 1621870428815,
    "execution_millis": 0,
    "deepnote_cell_type": "code"
   },
   "source": "df.initial_reported_reason_for_encounter_draft = np.where(df['initial_reported_reason_for_encounter_draft'].str.contains('suspicious'), \"suspicious behavior\", df.initial_reported_reason_for_encounter_draft)",
   "execution_count": null,
   "outputs": []
  },
  {
   "cell_type": "code",
   "metadata": {
    "tags": [],
    "cell_id": "00087-b7f7e81a-3f50-42e3-8e6e-f7ba72922cca",
    "deepnote_to_be_reexecuted": false,
    "source_hash": "21b6fd2",
    "execution_start": 1621870428815,
    "execution_millis": 1,
    "deepnote_cell_type": "code"
   },
   "source": "df.initial_reported_reason_for_encounter_draft = np.where(df['initial_reported_reason_for_encounter_draft'].str.contains('mental ill'), \"mental illness\", df.initial_reported_reason_for_encounter_draft)",
   "execution_count": null,
   "outputs": []
  },
  {
   "cell_type": "code",
   "metadata": {
    "tags": [],
    "cell_id": "00087-224ae9c2-ecc7-4c16-885f-474ab769624d",
    "deepnote_to_be_reexecuted": false,
    "source_hash": "23c73f57",
    "execution_start": 1621870428816,
    "execution_millis": 0,
    "deepnote_cell_type": "code"
   },
   "source": "df.initial_reported_reason_for_encounter_draft = np.where(df['initial_reported_reason_for_encounter_draft'].str.contains('theft'), \"theft\", df.initial_reported_reason_for_encounter_draft)",
   "execution_count": null,
   "outputs": []
  },
  {
   "cell_type": "code",
   "metadata": {
    "tags": [],
    "cell_id": "00088-bbc5d805-ca39-419c-8abd-ebc2b0a8e3ce",
    "deepnote_to_be_reexecuted": false,
    "source_hash": "b7a1c30c",
    "execution_start": 1621870428818,
    "execution_millis": 2,
    "deepnote_cell_type": "code"
   },
   "source": "df.initial_reported_reason_for_encounter_draft = np.where(df['initial_reported_reason_for_encounter_draft'].str.contains('shoot'), \"shooting\", df.initial_reported_reason_for_encounter_draft)",
   "execution_count": null,
   "outputs": []
  },
  {
   "cell_type": "code",
   "metadata": {
    "tags": [],
    "cell_id": "00089-de92123d-ebcc-4175-bb8a-70db853a5e7f",
    "deepnote_to_be_reexecuted": false,
    "source_hash": "51d9239a",
    "execution_start": 1621870428864,
    "execution_millis": 1,
    "deepnote_cell_type": "code"
   },
   "source": "df.initial_reported_reason_for_encounter_draft = np.where(df['initial_reported_reason_for_encounter_draft'].str.contains('shots'), \"shooting\", df.initial_reported_reason_for_encounter_draft)",
   "execution_count": null,
   "outputs": []
  },
  {
   "cell_type": "code",
   "metadata": {
    "tags": [],
    "cell_id": "00090-d687ac66-4ffd-457f-8f10-372d62e23db7",
    "deepnote_to_be_reexecuted": false,
    "source_hash": "b1b852f",
    "execution_start": 1621870428865,
    "execution_millis": 1,
    "deepnote_cell_type": "code"
   },
   "source": "df.initial_reported_reason_for_encounter_draft = np.where(df['initial_reported_reason_for_encounter_draft'].str.contains('911 hang'), \"911 hang up call\", df.initial_reported_reason_for_encounter_draft)",
   "execution_count": null,
   "outputs": []
  },
  {
   "cell_type": "code",
   "metadata": {
    "tags": [],
    "cell_id": "00079-fc9e159c-ddae-4254-a998-9b971f4ff2d8",
    "deepnote_to_be_reexecuted": false,
    "source_hash": "2fafa756",
    "execution_start": 1621870428866,
    "execution_millis": 0,
    "deepnote_cell_type": "code"
   },
   "source": "df.initial_reported_reason_for_encounter_draft = np.where(df['initial_reported_reason_for_encounter_draft'].str.contains('murder'), \"murder\", df.initial_reported_reason_for_encounter_draft)",
   "execution_count": null,
   "outputs": []
  },
  {
   "cell_type": "code",
   "metadata": {
    "tags": [],
    "cell_id": "00093-8b482fe3-2bce-4ca6-9e12-dfd927b30110",
    "deepnote_to_be_reexecuted": false,
    "source_hash": "214d5905",
    "execution_start": 1621870428871,
    "execution_millis": 13,
    "deepnote_cell_type": "code"
   },
   "source": "df.initial_reported_reason_for_encounter_draft = np.where(df['initial_reported_reason_for_encounter_draft'].str.contains('burglary'), \"burglary\", df.initial_reported_reason_for_encounter_draft)",
   "execution_count": null,
   "outputs": []
  },
  {
   "cell_type": "code",
   "metadata": {
    "tags": [],
    "cell_id": "00094-2d8fe94f-ffde-46b3-9de2-18ad9f1f6271",
    "deepnote_to_be_reexecuted": false,
    "source_hash": "57c461ac",
    "execution_start": 1621870428884,
    "execution_millis": 82,
    "deepnote_cell_type": "code"
   },
   "source": "df.initial_reported_reason_for_encounter_draft.value_counts()",
   "execution_count": null,
   "outputs": [
    {
     "output_type": "execute_result",
     "execution_count": 80,
     "data": {
      "text/plain": "traffic violation                      2555\ndomestic disturbance                    799\nshooting                                448\nwarrant                                 386\nassault                                 262\n                                       ... \nstolen car                                1\nfake report of bike attack                1\ncut off patrol car                        1\ncar crash, armed individual               1\nserving order of protective custody       1\nName: initial_reported_reason_for_encounter_draft, Length: 512, dtype: int64"
     },
     "metadata": {}
    }
   ]
  },
  {
   "cell_type": "code",
   "metadata": {
    "tags": [],
    "cell_id": "00093-24e44460-d642-495c-83f3-9deb42a74eda",
    "deepnote_to_be_reexecuted": false,
    "source_hash": "f3dd26da",
    "execution_start": 1621870428906,
    "execution_millis": 61,
    "deepnote_cell_type": "code"
   },
   "source": "df.isnull().sum()",
   "execution_count": null,
   "outputs": [
    {
     "output_type": "execute_result",
     "execution_count": 81,
     "data": {
      "text/plain": "age                                               0\ngender                                            8\nrace                                              0\ndate                                              0\ncity                                              7\nstate                                             0\nzipcode                                          38\ncounty                                           16\nagency_responsible                                3\ncause_of_death                                    0\ndescription_of_circumstances                     11\nofficial_disposition                              0\ncriminal_charges_filed                            0\nmental_illness                                   59\narmed_unarmed_status                              0\nalleged_weapon                                    0\nalleged_threat_lvl                                0\nfleeing                                         705\nbody_camera                                       0\ngeography                                        21\nencounter_type_draft                              0\ninitial_reported_reason_for_encounter_draft       0\nrace_of_officers_involved_draft                6419\nknown_past_shootings_of_Officer_draft             0\ncall_for_service_draft                         3281\ndtype: int64"
     },
     "metadata": {}
    }
   ]
  },
  {
   "cell_type": "code",
   "metadata": {
    "tags": [],
    "cell_id": "00094-1144d6d9-e75c-4434-952b-0c77c02817cb",
    "deepnote_to_be_reexecuted": false,
    "source_hash": "1f674cad",
    "execution_start": 1621870428907,
    "execution_millis": 1,
    "deepnote_cell_type": "code"
   },
   "source": "df.drop(columns=['call_for_service_draft', 'race_of_officers_involved_draft'], inplace=True)",
   "execution_count": null,
   "outputs": []
  },
  {
   "cell_type": "code",
   "metadata": {
    "tags": [],
    "cell_id": "00095-4a9273a1-12d1-44e3-ae5b-7083888a988a",
    "deepnote_to_be_reexecuted": false,
    "source_hash": "f3dd26da",
    "execution_start": 1621870428916,
    "execution_millis": 51,
    "deepnote_cell_type": "code"
   },
   "source": "df.isnull().sum()",
   "execution_count": null,
   "outputs": [
    {
     "output_type": "execute_result",
     "execution_count": 83,
     "data": {
      "text/plain": "age                                              0\ngender                                           8\nrace                                             0\ndate                                             0\ncity                                             7\nstate                                            0\nzipcode                                         38\ncounty                                          16\nagency_responsible                               3\ncause_of_death                                   0\ndescription_of_circumstances                    11\nofficial_disposition                             0\ncriminal_charges_filed                           0\nmental_illness                                  59\narmed_unarmed_status                             0\nalleged_weapon                                   0\nalleged_threat_lvl                               0\nfleeing                                        705\nbody_camera                                      0\ngeography                                       21\nencounter_type_draft                             0\ninitial_reported_reason_for_encounter_draft      0\nknown_past_shootings_of_Officer_draft            0\ndtype: int64"
     },
     "metadata": {}
    }
   ]
  },
  {
   "cell_type": "code",
   "metadata": {
    "tags": [],
    "cell_id": "00097-bf470eab-7b88-410e-afc4-4a1c1a55d11d",
    "deepnote_to_be_reexecuted": false,
    "source_hash": "9ef6f276",
    "execution_start": 1621870428933,
    "execution_millis": 0,
    "deepnote_cell_type": "code"
   },
   "source": "df.fleeing = df.fleeing.str.lower()",
   "execution_count": null,
   "outputs": []
  },
  {
   "cell_type": "code",
   "metadata": {
    "tags": [],
    "cell_id": "00098-826c42fa-92dc-4334-9a7a-dac057e9963b",
    "deepnote_to_be_reexecuted": false,
    "source_hash": "6d918f4",
    "execution_start": 1621870428937,
    "execution_millis": 1,
    "deepnote_cell_type": "code"
   },
   "source": "df.fleeing = np.where(df['fleeing'].str.contains('not fleeing '), \"not fleeing\", df.fleeing)",
   "execution_count": null,
   "outputs": []
  },
  {
   "cell_type": "code",
   "metadata": {
    "tags": [],
    "cell_id": "00096-f799129a-92d7-44b1-b42f-44d41244cd27",
    "deepnote_to_be_reexecuted": false,
    "source_hash": "a79e551e",
    "execution_start": 1621870428941,
    "execution_millis": 85,
    "deepnote_cell_type": "code"
   },
   "source": "df.fleeing.value_counts()",
   "execution_count": null,
   "outputs": [
    {
     "output_type": "execute_result",
     "execution_count": 86,
     "data": {
      "text/plain": "not fleeing    4720\ncar            1012\nfoot            813\nother           205\nName: fleeing, dtype: int64"
     },
     "metadata": {}
    }
   ]
  },
  {
   "cell_type": "code",
   "metadata": {
    "tags": [],
    "cell_id": "00099-9b327a9d-3965-4368-aa68-47e5078c448e",
    "deepnote_to_be_reexecuted": false,
    "source_hash": "2e2c1a03",
    "execution_start": 1621870428950,
    "execution_millis": 76,
    "deepnote_cell_type": "code"
   },
   "source": "df.fleeing.fillna('not fleeing')",
   "execution_count": null,
   "outputs": [
    {
     "output_type": "execute_result",
     "execution_count": 87,
     "data": {
      "text/plain": "0       not fleeing\n1       not fleeing\n2       not fleeing\n3       not fleeing\n4       not fleeing\n           ...     \n8112           foot\n8466    not fleeing\n8691    not fleeing\n8771           foot\n8837    not fleeing\nName: fleeing, Length: 6750, dtype: object"
     },
     "metadata": {}
    }
   ]
  },
  {
   "cell_type": "code",
   "metadata": {
    "tags": [],
    "cell_id": "00100-d7ab1402-becb-44b1-81fb-2510c3df8b26",
    "deepnote_to_be_reexecuted": false,
    "source_hash": "f3dd26da",
    "execution_start": 1621870428959,
    "execution_millis": 67,
    "deepnote_cell_type": "code"
   },
   "source": "df.isnull().sum()",
   "execution_count": null,
   "outputs": [
    {
     "output_type": "execute_result",
     "execution_count": 88,
     "data": {
      "text/plain": "age                                             0\ngender                                          8\nrace                                            0\ndate                                            0\ncity                                            7\nstate                                           0\nzipcode                                        38\ncounty                                         16\nagency_responsible                              3\ncause_of_death                                  0\ndescription_of_circumstances                   11\nofficial_disposition                            0\ncriminal_charges_filed                          0\nmental_illness                                 59\narmed_unarmed_status                            0\nalleged_weapon                                  0\nalleged_threat_lvl                              0\nfleeing                                         0\nbody_camera                                     0\ngeography                                      21\nencounter_type_draft                            0\ninitial_reported_reason_for_encounter_draft     0\nknown_past_shootings_of_Officer_draft           0\ndtype: int64"
     },
     "metadata": {}
    }
   ]
  },
  {
   "cell_type": "code",
   "metadata": {
    "tags": [],
    "cell_id": "00101-d875a1e4-55a3-4d09-9a22-e4415c617cef",
    "deepnote_to_be_reexecuted": false,
    "source_hash": "1bd18b6b",
    "execution_start": 1621870428993,
    "execution_millis": 3,
    "deepnote_cell_type": "code"
   },
   "source": "df.dropna(inplace=True)",
   "execution_count": null,
   "outputs": []
  },
  {
   "cell_type": "code",
   "metadata": {
    "tags": [],
    "cell_id": "00102-cadc5ab6-5449-4579-b2cb-08eda056eda5",
    "deepnote_to_be_reexecuted": false,
    "source_hash": "d0f916fe",
    "execution_start": 1621870429003,
    "execution_millis": 128,
    "deepnote_cell_type": "code"
   },
   "source": "df.to_csv('prepped_data.csv')",
   "execution_count": null,
   "outputs": []
  },
  {
   "cell_type": "code",
   "metadata": {
    "tags": [],
    "cell_id": "00103-4ecf03f0-963f-4feb-9e91-bf6d6eb46a86",
    "deepnote_to_be_reexecuted": false,
    "source_hash": "eb6aa878",
    "execution_start": 1621870429133,
    "execution_millis": 81,
    "deepnote_cell_type": "code"
   },
   "source": "df2 = pd.read_csv('prepped_data.csv')",
   "execution_count": null,
   "outputs": []
  },
  {
   "cell_type": "code",
   "metadata": {
    "tags": [],
    "cell_id": "00104-1e6ccc3d-70a3-40de-a4af-bb16beb951ca",
    "deepnote_to_be_reexecuted": false,
    "source_hash": "4e0cbe0d",
    "execution_start": 1621870429284,
    "execution_millis": 127,
    "deepnote_cell_type": "code"
   },
   "source": "df2.head()",
   "execution_count": null,
   "outputs": [
    {
     "output_type": "execute_result",
     "execution_count": 92,
     "data": {
      "application/vnd.deepnote.dataframe.v2+json": {
       "row_count": 5,
       "column_count": 24,
       "columns": [
        {
         "name": "Unnamed: 0",
         "dtype": "int64",
         "stats": {
          "unique_count": 5,
          "nan_count": 0,
          "min": "1",
          "max": "13",
          "histogram": [
           {
            "bin_start": 1,
            "bin_end": 2.2,
            "count": 1
           },
           {
            "bin_start": 2.2,
            "bin_end": 3.4,
            "count": 0
           },
           {
            "bin_start": 3.4,
            "bin_end": 4.6,
            "count": 0
           },
           {
            "bin_start": 4.6,
            "bin_end": 5.8,
            "count": 0
           },
           {
            "bin_start": 5.8,
            "bin_end": 7,
            "count": 0
           },
           {
            "bin_start": 7,
            "bin_end": 8.2,
            "count": 2
           },
           {
            "bin_start": 8.2,
            "bin_end": 9.4,
            "count": 1
           },
           {
            "bin_start": 9.4,
            "bin_end": 10.6,
            "count": 0
           },
           {
            "bin_start": 10.6,
            "bin_end": 11.799999999999999,
            "count": 0
           },
           {
            "bin_start": 11.799999999999999,
            "bin_end": 13,
            "count": 1
           }
          ]
         }
        },
        {
         "name": "age",
         "dtype": "object",
         "stats": {
          "unique_count": 5,
          "nan_count": 0,
          "categories": [
           {
            "name": "24",
            "count": 1
           },
           {
            "name": "52",
            "count": 1
           },
           {
            "name": "3 others",
            "count": 3
           }
          ]
         }
        },
        {
         "name": "gender",
         "dtype": "object",
         "stats": {
          "unique_count": 1,
          "nan_count": 0,
          "categories": [
           {
            "name": "Male",
            "count": 5
           }
          ]
         }
        },
        {
         "name": "race",
         "dtype": "object",
         "stats": {
          "unique_count": 3,
          "nan_count": 0,
          "categories": [
           {
            "name": "Unknown Race",
            "count": 2
           },
           {
            "name": "White",
            "count": 2
           },
           {
            "name": "Black",
            "count": 1
           }
          ]
         }
        },
        {
         "name": "date",
         "dtype": "object",
         "stats": {
          "unique_count": 5,
          "nan_count": 0,
          "categories": [
           {
            "name": "2021-05-09",
            "count": 1
           },
           {
            "name": "2021-05-07",
            "count": 1
           },
           {
            "name": "3 others",
            "count": 3
           }
          ]
         }
        },
        {
         "name": "city",
         "dtype": "object",
         "stats": {
          "unique_count": 5,
          "nan_count": 0,
          "categories": [
           {
            "name": "Leicester",
            "count": 1
           },
           {
            "name": "Rutledge",
            "count": 1
           },
           {
            "name": "3 others",
            "count": 3
           }
          ]
         }
        },
        {
         "name": "state",
         "dtype": "object",
         "stats": {
          "unique_count": 5,
          "nan_count": 0,
          "categories": [
           {
            "name": "MA",
            "count": 1
           },
           {
            "name": "TN",
            "count": 1
           },
           {
            "name": "3 others",
            "count": 3
           }
          ]
         }
        },
        {
         "name": "zipcode",
         "dtype": "float64",
         "stats": {
          "unique_count": 5,
          "nan_count": 0,
          "min": "1524.0",
          "max": "95249.0",
          "histogram": [
           {
            "bin_start": 1524,
            "bin_end": 10896.5,
            "count": 1
           },
           {
            "bin_start": 10896.5,
            "bin_end": 20269,
            "count": 0
           },
           {
            "bin_start": 20269,
            "bin_end": 29641.5,
            "count": 0
           },
           {
            "bin_start": 29641.5,
            "bin_end": 39014,
            "count": 1
           },
           {
            "bin_start": 39014,
            "bin_end": 48386.5,
            "count": 1
           },
           {
            "bin_start": 48386.5,
            "bin_end": 57759,
            "count": 0
           },
           {
            "bin_start": 57759,
            "bin_end": 67131.5,
            "count": 0
           },
           {
            "bin_start": 67131.5,
            "bin_end": 76504,
            "count": 0
           },
           {
            "bin_start": 76504,
            "bin_end": 85876.5,
            "count": 0
           },
           {
            "bin_start": 85876.5,
            "bin_end": 95249,
            "count": 2
           }
          ]
         }
        },
        {
         "name": "county",
         "dtype": "object",
         "stats": {
          "unique_count": 5,
          "nan_count": 0,
          "categories": [
           {
            "name": "Worcester",
            "count": 1
           },
           {
            "name": "Grainger",
            "count": 1
           },
           {
            "name": "3 others",
            "count": 3
           }
          ]
         }
        },
        {
         "name": "agency_responsible",
         "dtype": "object",
         "stats": {
          "unique_count": 5,
          "nan_count": 0,
          "categories": [
           {
            "name": "Leicester Police Department",
            "count": 1
           },
           {
            "name": "Bean Station Police Department, Rutledge Police Department",
            "count": 1
           },
           {
            "name": "3 others",
            "count": 3
           }
          ]
         }
        },
        {
         "name": "cause_of_death",
         "dtype": "object",
         "stats": {
          "unique_count": 1,
          "nan_count": 0,
          "categories": [
           {
            "name": "gunshot",
            "count": 5
           }
          ]
         }
        },
        {
         "name": "description_of_circumstances",
         "dtype": "object",
         "stats": {
          "unique_count": 5,
          "nan_count": 0,
          "categories": [
           {
            "name": "A man allegedly crashed an SUV into the Leicester Police Station, repeatedly ramming his vehicle into the front doors until he gained entry into the building. Responding officers saw the SUV in the front door and encountered the man. Police claim the man placed a rifle on his shoulder and aimed it at the officers. The police officers shot and killed him.",
            "count": 1
           },
           {
            "name": "Deputies responded to reports of a man shooting a gun inside a home. When deputies arrived, they made contact with the man. While encountering the subject, an officer with the Bean Station PD and an officer with Rutledge PD fired at the man, killing him. No other details are available concerning the shooting at this time. ",
            "count": 1
           },
           {
            "name": "3 others",
            "count": 3
           }
          ]
         }
        },
        {
         "name": "official_disposition",
         "dtype": "object",
         "stats": {
          "unique_count": 1,
          "nan_count": 0,
          "categories": [
           {
            "name": "Pending investigation",
            "count": 5
           }
          ]
         }
        },
        {
         "name": "criminal_charges_filed",
         "dtype": "object",
         "stats": {
          "unique_count": 1,
          "nan_count": 0,
          "categories": [
           {
            "name": "No known charges",
            "count": 5
           }
          ]
         }
        },
        {
         "name": "mental_illness",
         "dtype": "object",
         "stats": {
          "unique_count": 1,
          "nan_count": 0,
          "categories": [
           {
            "name": "no",
            "count": 5
           }
          ]
         }
        },
        {
         "name": "armed_unarmed_status",
         "dtype": "object",
         "stats": {
          "unique_count": 1,
          "nan_count": 0,
          "categories": [
           {
            "name": "Allegedly Armed",
            "count": 5
           }
          ]
         }
        },
        {
         "name": "alleged_weapon",
         "dtype": "object",
         "stats": {
          "unique_count": 1,
          "nan_count": 0,
          "categories": [
           {
            "name": "gun",
            "count": 5
           }
          ]
         }
        },
        {
         "name": "alleged_threat_lvl",
         "dtype": "object",
         "stats": {
          "unique_count": 2,
          "nan_count": 0,
          "categories": [
           {
            "name": "attack",
            "count": 3
           },
           {
            "name": "other",
            "count": 2
           }
          ]
         }
        },
        {
         "name": "fleeing",
         "dtype": "object",
         "stats": {
          "unique_count": 2,
          "nan_count": 0,
          "categories": [
           {
            "name": "not fleeing",
            "count": 4
           },
           {
            "name": "car",
            "count": 1
           }
          ]
         }
        },
        {
         "name": "body_camera",
         "dtype": "object",
         "stats": {
          "unique_count": 1,
          "nan_count": 0,
          "categories": [
           {
            "name": "no",
            "count": 5
           }
          ]
         }
        },
        {
         "name": "geography",
         "dtype": "object",
         "stats": {
          "unique_count": 3,
          "nan_count": 0,
          "categories": [
           {
            "name": "Suburban",
            "count": 2
           },
           {
            "name": "Rural",
            "count": 2
           },
           {
            "name": "Urban",
            "count": 1
           }
          ]
         }
        },
        {
         "name": "encounter_type_draft",
         "dtype": "object",
         "stats": {
          "unique_count": 2,
          "nan_count": 0,
          "categories": [
           {
            "name": "part 1 violent crime",
            "count": 4
           },
           {
            "name": "other",
            "count": 1
           }
          ]
         }
        },
        {
         "name": "initial_reported_reason_for_encounter_draft",
         "dtype": "object",
         "stats": {
          "unique_count": 3,
          "nan_count": 0,
          "categories": [
           {
            "name": "shooting",
            "count": 3
           },
           {
            "name": "deliberate car crash",
            "count": 1
           },
           {
            "name": "hostage situation",
            "count": 1
           }
          ]
         }
        },
        {
         "name": "known_past_shootings_of_Officer_draft",
         "dtype": "int64",
         "stats": {
          "unique_count": 1,
          "nan_count": 0,
          "min": "0",
          "max": "0",
          "histogram": [
           {
            "bin_start": -0.5,
            "bin_end": -0.4,
            "count": 0
           },
           {
            "bin_start": -0.4,
            "bin_end": -0.3,
            "count": 0
           },
           {
            "bin_start": -0.3,
            "bin_end": -0.19999999999999996,
            "count": 0
           },
           {
            "bin_start": -0.19999999999999996,
            "bin_end": -0.09999999999999998,
            "count": 0
           },
           {
            "bin_start": -0.09999999999999998,
            "bin_end": 0,
            "count": 0
           },
           {
            "bin_start": 0,
            "bin_end": 0.10000000000000009,
            "count": 5
           },
           {
            "bin_start": 0.10000000000000009,
            "bin_end": 0.20000000000000007,
            "count": 0
           },
           {
            "bin_start": 0.20000000000000007,
            "bin_end": 0.30000000000000004,
            "count": 0
           },
           {
            "bin_start": 0.30000000000000004,
            "bin_end": 0.4,
            "count": 0
           },
           {
            "bin_start": 0.4,
            "bin_end": 0.5,
            "count": 0
           }
          ]
         }
        },
        {
         "name": "_deepnote_index_column",
         "dtype": "int64"
        }
       ],
       "rows_top": [
        {
         "Unnamed: 0": 1,
         "age": "24",
         "gender": "Male",
         "race": "Unknown Race",
         "date": "2021-05-09",
         "city": "Leicester",
         "state": "MA",
         "zipcode": 1524,
         "county": "Worcester",
         "agency_responsible": "Leicester Police Department",
         "cause_of_death": "gunshot",
         "description_of_circumstances": "A man allegedly crashed an SUV into the Leicester Police Station, repeatedly ramming his vehicle into the front doors until he gained entry into the building. Responding officers saw the SUV in the front door and encountered the man. Police claim the man placed a rifle on his shoulder and aimed it at the officers. The police officers shot and killed him.",
         "official_disposition": "Pending investigation",
         "criminal_charges_filed": "No known charges",
         "mental_illness": "no",
         "armed_unarmed_status": "Allegedly Armed",
         "alleged_weapon": "gun",
         "alleged_threat_lvl": "attack",
         "fleeing": "not fleeing",
         "body_camera": "no",
         "geography": "Suburban",
         "encounter_type_draft": "other",
         "initial_reported_reason_for_encounter_draft": "deliberate car crash",
         "known_past_shootings_of_Officer_draft": 0,
         "_deepnote_index_column": 0
        },
        {
         "Unnamed: 0": 7,
         "age": "52",
         "gender": "Male",
         "race": "Unknown Race",
         "date": "2021-05-07",
         "city": "Rutledge",
         "state": "TN",
         "zipcode": 37861,
         "county": "Grainger",
         "agency_responsible": "Bean Station Police Department, Rutledge Police Department",
         "cause_of_death": "gunshot",
         "description_of_circumstances": "Deputies responded to reports of a man shooting a gun inside a home. When deputies arrived, they made contact with the man. While encountering the subject, an officer with the Bean Station PD and an officer with Rutledge PD fired at the man, killing him. No other details are available concerning the shooting at this time. ",
         "official_disposition": "Pending investigation",
         "criminal_charges_filed": "No known charges",
         "mental_illness": "no",
         "armed_unarmed_status": "Allegedly Armed",
         "alleged_weapon": "gun",
         "alleged_threat_lvl": "attack",
         "fleeing": "not fleeing",
         "body_camera": "no",
         "geography": "Rural",
         "encounter_type_draft": "part 1 violent crime",
         "initial_reported_reason_for_encounter_draft": "shooting",
         "known_past_shootings_of_Officer_draft": 0,
         "_deepnote_index_column": 1
        },
        {
         "Unnamed: 0": 8,
         "age": "47",
         "gender": "Male",
         "race": "White",
         "date": "2021-05-06",
         "city": "San Andreas",
         "state": "CA",
         "zipcode": 95249,
         "county": "Calaveras",
         "agency_responsible": "Calaveras County Sheriff's Office",
         "cause_of_death": "gunshot",
         "description_of_circumstances": "Around 10:30 p.m., dispatchers got a call about an argument between a man and a woman at the Sierra Inn Motel. During the incident, the man allegedly pointed a gun at the woman's head. The suspect left before deputies arrived. A search started, and the man shot a deputy who was interviewing the victim. Police started searching the apartment complex. Eventually, the man emerged from an apartment holding an elderly woman hostage with a gun. Officers shot and killed Mark Aitulagi Lavea and shot and wounded the hostage.",
         "official_disposition": "Pending investigation",
         "criminal_charges_filed": "No known charges",
         "mental_illness": "no",
         "armed_unarmed_status": "Allegedly Armed",
         "alleged_weapon": "gun",
         "alleged_threat_lvl": "other",
         "fleeing": "not fleeing",
         "body_camera": "no",
         "geography": "Rural",
         "encounter_type_draft": "part 1 violent crime",
         "initial_reported_reason_for_encounter_draft": "hostage situation",
         "known_past_shootings_of_Officer_draft": 0,
         "_deepnote_index_column": 2
        },
        {
         "Unnamed: 0": 9,
         "age": "49",
         "gender": "Male",
         "race": "White",
         "date": "2021-05-05",
         "city": "Las Vegas",
         "state": "NV",
         "zipcode": 89104,
         "county": "Clark",
         "agency_responsible": "Las Vegas Metropolitan Police Department",
         "cause_of_death": "gunshot",
         "description_of_circumstances": "Officers responded to a report of gunshots at an apartment complex. Arriving officers allegedly encountered two men running through the complex, one of whom they claim was armed with a firearm. The two men were taken into custody and informed officers they were shot at by Holt. Officers went to Holt's apartment and allegedly witnessed him fire one round before going back inside. Officers began to set up a perimeter, when Holt allegedly exited the apartment with a gun. Officer Erik Lindberg shot and killed Holt. ",
         "official_disposition": "Pending investigation",
         "criminal_charges_filed": "No known charges",
         "mental_illness": "no",
         "armed_unarmed_status": "Allegedly Armed",
         "alleged_weapon": "gun",
         "alleged_threat_lvl": "attack",
         "fleeing": "not fleeing",
         "body_camera": "no",
         "geography": "Urban",
         "encounter_type_draft": "part 1 violent crime",
         "initial_reported_reason_for_encounter_draft": "shooting",
         "known_past_shootings_of_Officer_draft": 0,
         "_deepnote_index_column": 3
        },
        {
         "Unnamed: 0": 13,
         "age": "30",
         "gender": "Male",
         "race": "Black",
         "date": "2021-05-03",
         "city": "Biloxi",
         "state": "MS",
         "zipcode": 39532,
         "county": "Harrison",
         "agency_responsible": "Biloxi Police Department",
         "cause_of_death": "gunshot",
         "description_of_circumstances": "Police were searching for an alleged kidnapper and double-murder suspect, Eric Smith. Smith was killed he exchanged gunfire with officers. Police also shot and killed the baby La'Mello Parker.",
         "official_disposition": "Pending investigation",
         "criminal_charges_filed": "No known charges",
         "mental_illness": "no",
         "armed_unarmed_status": "Allegedly Armed",
         "alleged_weapon": "gun",
         "alleged_threat_lvl": "other",
         "fleeing": "car",
         "body_camera": "no",
         "geography": "Suburban",
         "encounter_type_draft": "part 1 violent crime",
         "initial_reported_reason_for_encounter_draft": "shooting",
         "known_past_shootings_of_Officer_draft": 0,
         "_deepnote_index_column": 4
        }
       ],
       "rows_bottom": null
      },
      "text/plain": "   Unnamed: 0 age gender          race        date         city state  \\\n0           1  24   Male  Unknown Race  2021-05-09    Leicester    MA   \n1           7  52   Male  Unknown Race  2021-05-07     Rutledge    TN   \n2           8  47   Male         White  2021-05-06  San Andreas    CA   \n3           9  49   Male         White  2021-05-05    Las Vegas    NV   \n4          13  30   Male         Black  2021-05-03       Biloxi    MS   \n\n   zipcode     county                                 agency_responsible  ...  \\\n0   1524.0  Worcester                        Leicester Police Department  ...   \n1  37861.0   Grainger  Bean Station Police Department, Rutledge Polic...  ...   \n2  95249.0  Calaveras                  Calaveras County Sheriff's Office  ...   \n3  89104.0      Clark           Las Vegas Metropolitan Police Department  ...   \n4  39532.0   Harrison                           Biloxi Police Department  ...   \n\n  mental_illness armed_unarmed_status alleged_weapon alleged_threat_lvl  \\\n0             no      Allegedly Armed            gun             attack   \n1             no      Allegedly Armed            gun             attack   \n2             no      Allegedly Armed            gun              other   \n3             no      Allegedly Armed            gun             attack   \n4             no      Allegedly Armed            gun              other   \n\n       fleeing body_camera geography  encounter_type_draft  \\\n0  not fleeing          no  Suburban                 other   \n1  not fleeing          no     Rural  part 1 violent crime   \n2  not fleeing          no     Rural  part 1 violent crime   \n3  not fleeing          no     Urban  part 1 violent crime   \n4          car          no  Suburban  part 1 violent crime   \n\n  initial_reported_reason_for_encounter_draft  \\\n0                        deliberate car crash   \n1                                    shooting   \n2                           hostage situation   \n3                                    shooting   \n4                                    shooting   \n\n  known_past_shootings_of_Officer_draft  \n0                                     0  \n1                                     0  \n2                                     0  \n3                                     0  \n4                                     0  \n\n[5 rows x 24 columns]",
      "text/html": "<div>\n<style scoped>\n    .dataframe tbody tr th:only-of-type {\n        vertical-align: middle;\n    }\n\n    .dataframe tbody tr th {\n        vertical-align: top;\n    }\n\n    .dataframe thead th {\n        text-align: right;\n    }\n</style>\n<table border=\"1\" class=\"dataframe\">\n  <thead>\n    <tr style=\"text-align: right;\">\n      <th></th>\n      <th>Unnamed: 0</th>\n      <th>age</th>\n      <th>gender</th>\n      <th>race</th>\n      <th>date</th>\n      <th>city</th>\n      <th>state</th>\n      <th>zipcode</th>\n      <th>county</th>\n      <th>agency_responsible</th>\n      <th>...</th>\n      <th>mental_illness</th>\n      <th>armed_unarmed_status</th>\n      <th>alleged_weapon</th>\n      <th>alleged_threat_lvl</th>\n      <th>fleeing</th>\n      <th>body_camera</th>\n      <th>geography</th>\n      <th>encounter_type_draft</th>\n      <th>initial_reported_reason_for_encounter_draft</th>\n      <th>known_past_shootings_of_Officer_draft</th>\n    </tr>\n  </thead>\n  <tbody>\n    <tr>\n      <th>0</th>\n      <td>1</td>\n      <td>24</td>\n      <td>Male</td>\n      <td>Unknown Race</td>\n      <td>2021-05-09</td>\n      <td>Leicester</td>\n      <td>MA</td>\n      <td>1524.0</td>\n      <td>Worcester</td>\n      <td>Leicester Police Department</td>\n      <td>...</td>\n      <td>no</td>\n      <td>Allegedly Armed</td>\n      <td>gun</td>\n      <td>attack</td>\n      <td>not fleeing</td>\n      <td>no</td>\n      <td>Suburban</td>\n      <td>other</td>\n      <td>deliberate car crash</td>\n      <td>0</td>\n    </tr>\n    <tr>\n      <th>1</th>\n      <td>7</td>\n      <td>52</td>\n      <td>Male</td>\n      <td>Unknown Race</td>\n      <td>2021-05-07</td>\n      <td>Rutledge</td>\n      <td>TN</td>\n      <td>37861.0</td>\n      <td>Grainger</td>\n      <td>Bean Station Police Department, Rutledge Polic...</td>\n      <td>...</td>\n      <td>no</td>\n      <td>Allegedly Armed</td>\n      <td>gun</td>\n      <td>attack</td>\n      <td>not fleeing</td>\n      <td>no</td>\n      <td>Rural</td>\n      <td>part 1 violent crime</td>\n      <td>shooting</td>\n      <td>0</td>\n    </tr>\n    <tr>\n      <th>2</th>\n      <td>8</td>\n      <td>47</td>\n      <td>Male</td>\n      <td>White</td>\n      <td>2021-05-06</td>\n      <td>San Andreas</td>\n      <td>CA</td>\n      <td>95249.0</td>\n      <td>Calaveras</td>\n      <td>Calaveras County Sheriff's Office</td>\n      <td>...</td>\n      <td>no</td>\n      <td>Allegedly Armed</td>\n      <td>gun</td>\n      <td>other</td>\n      <td>not fleeing</td>\n      <td>no</td>\n      <td>Rural</td>\n      <td>part 1 violent crime</td>\n      <td>hostage situation</td>\n      <td>0</td>\n    </tr>\n    <tr>\n      <th>3</th>\n      <td>9</td>\n      <td>49</td>\n      <td>Male</td>\n      <td>White</td>\n      <td>2021-05-05</td>\n      <td>Las Vegas</td>\n      <td>NV</td>\n      <td>89104.0</td>\n      <td>Clark</td>\n      <td>Las Vegas Metropolitan Police Department</td>\n      <td>...</td>\n      <td>no</td>\n      <td>Allegedly Armed</td>\n      <td>gun</td>\n      <td>attack</td>\n      <td>not fleeing</td>\n      <td>no</td>\n      <td>Urban</td>\n      <td>part 1 violent crime</td>\n      <td>shooting</td>\n      <td>0</td>\n    </tr>\n    <tr>\n      <th>4</th>\n      <td>13</td>\n      <td>30</td>\n      <td>Male</td>\n      <td>Black</td>\n      <td>2021-05-03</td>\n      <td>Biloxi</td>\n      <td>MS</td>\n      <td>39532.0</td>\n      <td>Harrison</td>\n      <td>Biloxi Police Department</td>\n      <td>...</td>\n      <td>no</td>\n      <td>Allegedly Armed</td>\n      <td>gun</td>\n      <td>other</td>\n      <td>car</td>\n      <td>no</td>\n      <td>Suburban</td>\n      <td>part 1 violent crime</td>\n      <td>shooting</td>\n      <td>0</td>\n    </tr>\n  </tbody>\n</table>\n<p>5 rows × 24 columns</p>\n</div>"
     },
     "metadata": {}
    }
   ]
  },
  {
   "cell_type": "code",
   "metadata": {
    "tags": [],
    "cell_id": "00105-a606c080-e963-47e8-9681-d31ab68e309f",
    "deepnote_to_be_reexecuted": false,
    "source_hash": "c0839396",
    "execution_start": 1621870429289,
    "execution_millis": 0,
    "deepnote_cell_type": "code"
   },
   "source": "df2.drop(columns='Unnamed: 0', inplace=True)",
   "execution_count": null,
   "outputs": []
  },
  {
   "cell_type": "code",
   "metadata": {
    "tags": [],
    "cell_id": "00105-e97c3c4d-848f-45a5-bea6-fc46e26c1fdb",
    "deepnote_to_be_reexecuted": false,
    "source_hash": "48de49ab",
    "execution_start": 1621870429294,
    "execution_millis": 117,
    "deepnote_cell_type": "code"
   },
   "source": "df2.shape",
   "execution_count": null,
   "outputs": [
    {
     "output_type": "execute_result",
     "execution_count": 94,
     "data": {
      "text/plain": "(6624, 23)"
     },
     "metadata": {}
    }
   ]
  },
  {
   "cell_type": "code",
   "metadata": {
    "tags": [],
    "cell_id": "00107-f5b6d731-ae16-46d4-9e8d-a923583741c5",
    "deepnote_to_be_reexecuted": false,
    "source_hash": "7cece97e",
    "execution_start": 1621870429316,
    "execution_millis": 95,
    "deepnote_cell_type": "code"
   },
   "source": "df2.isnull().sum()",
   "execution_count": null,
   "outputs": [
    {
     "output_type": "execute_result",
     "execution_count": 95,
     "data": {
      "text/plain": "age                                            0\ngender                                         0\nrace                                           0\ndate                                           0\ncity                                           0\nstate                                          0\nzipcode                                        0\ncounty                                         0\nagency_responsible                             0\ncause_of_death                                 0\ndescription_of_circumstances                   0\nofficial_disposition                           0\ncriminal_charges_filed                         0\nmental_illness                                 0\narmed_unarmed_status                           0\nalleged_weapon                                 0\nalleged_threat_lvl                             0\nfleeing                                        0\nbody_camera                                    0\ngeography                                      0\nencounter_type_draft                           0\ninitial_reported_reason_for_encounter_draft    0\nknown_past_shootings_of_Officer_draft          0\ndtype: int64"
     },
     "metadata": {}
    }
   ]
  },
  {
   "cell_type": "code",
   "metadata": {
    "tags": [],
    "cell_id": "00108-9621c639-2912-4cb5-a305-8a5d7cc49d9b",
    "deepnote_to_be_reexecuted": false,
    "source_hash": "a6c6200",
    "execution_start": 1621870429326,
    "execution_millis": 85,
    "deepnote_cell_type": "code"
   },
   "source": "df2.official_disposition.value_counts()",
   "execution_count": null,
   "outputs": [
    {
     "output_type": "execute_result",
     "execution_count": 96,
     "data": {
      "text/plain": "Pending investigation/No Known Charges                                                                                                                                                               4451\nPending investigation                                                                                                                                                                                 923\nJustified by District Attorney                                                                                                                                                                        329\nUnreported                                                                                                                                                                                            292\nGrand jury/No bill or Cleared                                                                                                                                                                         117\n                                                                                                                                                                                                     ... \nCharged with 1st degree wanton endangerment                                                                                                                                                             1\nJustified by coroner's inquest                                                                                                                                                                          1\nCharged, Convicted, Sentenced to 5 years in prison                                                                                                                                                      1\nPending investigation/No Known Charges; Minnesota Bureau of Criminal Apprehension, Minnesota State Patrol, Anoka County Sheriff's Office, Fridley Police Department, Lino Lakes Police Department       1\nJustified by U.S. Attorney                                                                                                                                                                              1\nName: official_disposition, Length: 114, dtype: int64"
     },
     "metadata": {}
    }
   ]
  },
  {
   "cell_type": "code",
   "metadata": {
    "tags": [],
    "cell_id": "00109-e7aa6fb8-b361-4613-bfe8-8a5d821d97fb",
    "deepnote_to_be_reexecuted": false,
    "source_hash": "6d27b674",
    "execution_start": 1621870429341,
    "execution_millis": 107,
    "deepnote_cell_type": "code"
   },
   "source": "df2.criminal_charges_filed.value_counts()",
   "execution_count": null,
   "outputs": [
    {
     "output_type": "execute_result",
     "execution_count": 97,
     "data": {
      "text/plain": "No known charges                                                                6530\nCharged with a crime                                                              49\nCharged, Acquitted                                                                20\nCharged, Charges Dropped                                                           4\nCharged, Convicted                                                                 3\nCharged, Convicted, Sentenced to 10 years in prison                                2\nCharged, Convicted, Sentenced to 25 years in prison                                1\nCharged, Convicted of assault                                                      1\nCharged, Convicted, Sentenced to 4 years                                           1\nCharged, Convicted of reckless homicide, sentenced to 1 year in prison             1\nCharged, Convicted, Sentenced to 14 years in prison                                1\nCharged, Convicted, Sentenced to 2.5 years in prison                               1\nCharged, Mistrial, Plead Guilty to Civil Rights Charges                            1\nCharged, Convicted, Sentenced to 10 Years of Prison                                1\nCharged, Mistrial                                                                  1\nCharged, Convicted, Sentenced to 6 years in prison                                 1\nCharged, Convicted, Sentenced to 12 years in prison and 8 years in probation       1\nCharged, Convicted, Sentenced to 5 years in prison                                 1\nCharged, Convicted, Sentenced to 40 years in prison                                1\nCharged, Plead No Contest, Sentenced to 10 years probation                         1\nCharged, Convicted, Sentenced to 7 years in prison                                 1\nCharged, Convicted, Sentenced to 1 year in prison and 4 years probation            1\nName: criminal_charges_filed, dtype: int64"
     },
     "metadata": {}
    }
   ]
  },
  {
   "cell_type": "code",
   "metadata": {
    "tags": [],
    "cell_id": "00110-fabd0ab0-5ba0-4b77-a62a-89f7078b20d5",
    "deepnote_to_be_reexecuted": false,
    "source_hash": "b623e53d",
    "execution_start": 1621870429350,
    "execution_millis": 0,
    "deepnote_cell_type": "code"
   },
   "source": "",
   "execution_count": null,
   "outputs": []
  },
  {
   "cell_type": "code",
   "metadata": {
    "tags": [],
    "cell_id": "00111-f07e8503-f9bc-483b-b0fc-7282ed23fdae",
    "deepnote_to_be_reexecuted": false,
    "source_hash": "b623e53d",
    "execution_start": 1621870429351,
    "execution_millis": 0,
    "deepnote_cell_type": "code"
   },
   "source": "",
   "execution_count": null,
   "outputs": []
  },
  {
   "cell_type": "markdown",
   "source": "<a style='text-decoration:none;line-height:16px;display:flex;color:#5B5B62;padding:10px;justify-content:end;' href='https://deepnote.com?utm_source=created-in-deepnote-cell&projectId=258e71fc-cf2b-48c3-8461-70ecd9787aa1' target=\"_blank\">\n<img alt='Created in deepnote.com' style='display:inline;max-height:16px;margin:0px;margin-right:7.5px;' src='data:image/svg+xml;base64,PD94bWwgdmVyc2lvbj0iMS4wIiBlbmNvZGluZz0iVVRGLTgiPz4KPHN2ZyB3aWR0aD0iODBweCIgaGVpZ2h0PSI4MHB4IiB2aWV3Qm94PSIwIDAgODAgODAiIHZlcnNpb249IjEuMSIgeG1sbnM9Imh0dHA6Ly93d3cudzMub3JnLzIwMDAvc3ZnIiB4bWxuczp4bGluaz0iaHR0cDovL3d3dy53My5vcmcvMTk5OS94bGluayI+CiAgICA8IS0tIEdlbmVyYXRvcjogU2tldGNoIDU0LjEgKDc2NDkwKSAtIGh0dHBzOi8vc2tldGNoYXBwLmNvbSAtLT4KICAgIDx0aXRsZT5Hcm91cCAzPC90aXRsZT4KICAgIDxkZXNjPkNyZWF0ZWQgd2l0aCBTa2V0Y2guPC9kZXNjPgogICAgPGcgaWQ9IkxhbmRpbmciIHN0cm9rZT0ibm9uZSIgc3Ryb2tlLXdpZHRoPSIxIiBmaWxsPSJub25lIiBmaWxsLXJ1bGU9ImV2ZW5vZGQiPgogICAgICAgIDxnIGlkPSJBcnRib2FyZCIgdHJhbnNmb3JtPSJ0cmFuc2xhdGUoLTEyMzUuMDAwMDAwLCAtNzkuMDAwMDAwKSI+CiAgICAgICAgICAgIDxnIGlkPSJHcm91cC0zIiB0cmFuc2Zvcm09InRyYW5zbGF0ZSgxMjM1LjAwMDAwMCwgNzkuMDAwMDAwKSI+CiAgICAgICAgICAgICAgICA8cG9seWdvbiBpZD0iUGF0aC0yMCIgZmlsbD0iIzAyNjVCNCIgcG9pbnRzPSIyLjM3NjIzNzYyIDgwIDM4LjA0NzY2NjcgODAgNTcuODIxNzgyMiA3My44MDU3NTkyIDU3LjgyMTc4MjIgMzIuNzU5MjczOSAzOS4xNDAyMjc4IDMxLjY4MzE2ODMiPjwvcG9seWdvbj4KICAgICAgICAgICAgICAgIDxwYXRoIGQ9Ik0zNS4wMDc3MTgsODAgQzQyLjkwNjIwMDcsNzYuNDU0OTM1OCA0Ny41NjQ5MTY3LDcxLjU0MjI2NzEgNDguOTgzODY2LDY1LjI2MTk5MzkgQzUxLjExMjI4OTksNTUuODQxNTg0MiA0MS42NzcxNzk1LDQ5LjIxMjIyODQgMjUuNjIzOTg0Niw0OS4yMTIyMjg0IEMyNS40ODQ5Mjg5LDQ5LjEyNjg0NDggMjkuODI2MTI5Niw0My4yODM4MjQ4IDM4LjY0NzU4NjksMzEuNjgzMTY4MyBMNzIuODcxMjg3MSwzMi41NTQ0MjUgTDY1LjI4MDk3Myw2Ny42NzYzNDIxIEw1MS4xMTIyODk5LDc3LjM3NjE0NCBMMzUuMDA3NzE4LDgwIFoiIGlkPSJQYXRoLTIyIiBmaWxsPSIjMDAyODY4Ij48L3BhdGg+CiAgICAgICAgICAgICAgICA8cGF0aCBkPSJNMCwzNy43MzA0NDA1IEwyNy4xMTQ1MzcsMC4yNTcxMTE0MzYgQzYyLjM3MTUxMjMsLTEuOTkwNzE3MDEgODAsMTAuNTAwMzkyNyA4MCwzNy43MzA0NDA1IEM4MCw2NC45NjA0ODgyIDY0Ljc3NjUwMzgsNzkuMDUwMzQxNCAzNC4zMjk1MTEzLDgwIEM0Ny4wNTUzNDg5LDc3LjU2NzA4MDggNTMuNDE4MjY3Nyw3MC4zMTM2MTAzIDUzLjQxODI2NzcsNTguMjM5NTg4NSBDNTMuNDE4MjY3Nyw0MC4xMjg1NTU3IDM2LjMwMzk1NDQsMzcuNzMwNDQwNSAyNS4yMjc0MTcsMzcuNzMwNDQwNSBDMTcuODQzMDU4NiwzNy43MzA0NDA1IDkuNDMzOTE5NjYsMzcuNzMwNDQwNSAwLDM3LjczMDQ0MDUgWiIgaWQ9IlBhdGgtMTkiIGZpbGw9IiMzNzkzRUYiPjwvcGF0aD4KICAgICAgICAgICAgPC9nPgogICAgICAgIDwvZz4KICAgIDwvZz4KPC9zdmc+' > </img>\nCreated in <span style='font-weight:600;margin-left:4px;'>Deepnote</span></a>",
   "metadata": {
    "tags": [],
    "created_in_deepnote_cell": true,
    "deepnote_cell_type": "markdown"
   }
  }
 ],
 "nbformat": 4,
 "nbformat_minor": 2,
 "metadata": {
  "orig_nbformat": 2,
  "deepnote": {
   "is_reactive": false
  },
  "deepnote_notebook_id": "527c85f5-3112-42aa-8748-950bf9b87ed2",
  "deepnote_execution_queue": []
 }
}