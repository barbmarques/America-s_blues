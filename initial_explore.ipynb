{
 "cells": [
  {
   "cell_type": "code",
   "metadata": {
    "tags": [],
    "cell_id": "00000-baaaad9e-8150-46ed-8c9c-646f919fec6e",
    "deepnote_to_be_reexecuted": false,
    "source_hash": "62a4bacf",
    "execution_start": 1621539417773,
    "execution_millis": 41,
    "deepnote_cell_type": "code"
   },
   "source": "# It's pretty cool",
   "execution_count": null,
   "outputs": []
  },
  {
   "cell_type": "code",
   "metadata": {
    "tags": [],
    "cell_id": "00001-ee56c469-1c86-4d08-b791-89b70dabec1e",
    "deepnote_to_be_reexecuted": false,
    "source_hash": "ad1c466c",
    "execution_start": 1621539417814,
    "execution_millis": 708,
    "deepnote_cell_type": "code"
   },
   "source": "import pandas as pd\nimport numpy as np\nfrom scipy import stats\n\n# Created Helper Functions\nimport wrangle as w \n\n# Visualizations\nimport seaborn as sns\nimport matplotlib.pyplot as plt",
   "execution_count": null,
   "outputs": []
  },
  {
   "cell_type": "code",
   "metadata": {
    "tags": [],
    "cell_id": "00002-749e8cad-f71c-4630-a2b6-0360c28ccf54",
    "deepnote_to_be_reexecuted": false,
    "source_hash": "81ca01d0",
    "execution_start": 1621539418526,
    "execution_millis": 5592,
    "deepnote_cell_type": "code"
   },
   "source": "df_fatal = pd.read_excel('data.xlsx')\ndf_fatal",
   "execution_count": null,
   "outputs": [
    {
     "output_type": "execute_result",
     "execution_count": 3,
     "data": {
      "application/vnd.deepnote.dataframe.v2+json": {
       "row_count": 9147,
       "column_count": 49,
       "columns": [
        {
         "name": "Victim's name",
         "dtype": "object",
         "stats": {
          "unique_count": 8915,
          "nan_count": 0,
          "categories": [
           {
            "name": "Name withheld by police",
            "count": 183
           },
           {
            "name": "Robert Edwards",
            "count": 3
           },
           {
            "name": "8913 others",
            "count": 8961
           }
          ]
         }
        },
        {
         "name": "Victim's age",
         "dtype": "object",
         "stats": {
          "unique_count": 89,
          "nan_count": 9,
          "categories": [
           {
            "name": "Unknown",
            "count": 331
           },
           {
            "name": "88 others",
            "count": 8807
           },
           {
            "name": "Missing",
            "count": 9
           }
          ]
         }
        },
        {
         "name": "Victim's gender",
         "dtype": "object",
         "stats": {
          "unique_count": 5,
          "nan_count": 10,
          "categories": [
           {
            "name": "Male",
            "count": 8668
           },
           {
            "name": "4 others",
            "count": 469
           },
           {
            "name": "Missing",
            "count": 10
           }
          ]
         }
        },
        {
         "name": "Victim's race",
         "dtype": "object",
         "stats": {
          "unique_count": 10,
          "nan_count": 0,
          "categories": [
           {
            "name": "White",
            "count": 3993
           },
           {
            "name": "Black",
            "count": 2306
           },
           {
            "name": "8 others",
            "count": 2848
           }
          ]
         }
        },
        {
         "name": "URL of image of victim",
         "dtype": "object",
         "stats": {
          "unique_count": 4874,
          "nan_count": 4265,
          "categories": [
           {
            "name": "https://fatalencounters.org/wp-content/uploads/2020/02/Andrew-J.-Smyrna.jpg",
            "count": 2
           },
           {
            "name": "4873 others",
            "count": 4880
           },
           {
            "name": "Missing",
            "count": 4265
           }
          ]
         }
        },
        {
         "name": "Date of Incident (month/day/year)",
         "dtype": "datetime64[ns]",
         "stats": {
          "unique_count": 2874,
          "nan_count": 0,
          "min": "2013-01-01 00:00:00",
          "max": "2021-05-09 00:00:00",
          "histogram": [
           {
            "bin_start": 1356998400000000000,
            "bin_end": 1383350400000000000,
            "count": 946
           },
           {
            "bin_start": 1383350400000000000,
            "bin_end": 1409702400000000000,
            "count": 863
           },
           {
            "bin_start": 1409702400000000000,
            "bin_end": 1436054400000000000,
            "count": 859
           },
           {
            "bin_start": 1436054400000000000,
            "bin_end": 1462406400000000000,
            "count": 941
           },
           {
            "bin_start": 1462406400000000000,
            "bin_end": 1488758400000000000,
            "count": 919
           },
           {
            "bin_start": 1488758400000000000,
            "bin_end": 1515110400000000000,
            "count": 881
           },
           {
            "bin_start": 1515110400000000000,
            "bin_end": 1541462400000000000,
            "count": 963
           },
           {
            "bin_start": 1541462400000000000,
            "bin_end": 1567814400000000000,
            "count": 910
           },
           {
            "bin_start": 1567814400000000000,
            "bin_end": 1594166400000000000,
            "count": 968
           },
           {
            "bin_start": 1594166400000000000,
            "bin_end": 1620518400000000000,
            "count": 897
           }
          ]
         }
        },
        {
         "name": "Street Address of Incident",
         "dtype": "object",
         "stats": {
          "unique_count": 8925,
          "nan_count": 105,
          "categories": [
           {
            "name": "I-35",
            "count": 6
           },
           {
            "name": "8924 others",
            "count": 9036
           },
           {
            "name": "Missing",
            "count": 105
           }
          ]
         }
        },
        {
         "name": "City",
         "dtype": "object",
         "stats": {
          "unique_count": 3266,
          "nan_count": 9,
          "categories": [
           {
            "name": "Phoenix",
            "count": 133
           },
           {
            "name": "3265 others",
            "count": 9005
           },
           {
            "name": "Missing",
            "count": 9
           }
          ]
         }
        },
        {
         "name": "State",
         "dtype": "object",
         "stats": {
          "unique_count": 51,
          "nan_count": 0,
          "categories": [
           {
            "name": "CA",
            "count": 1406
           },
           {
            "name": "TX",
            "count": 844
           },
           {
            "name": "49 others",
            "count": 6897
           }
          ]
         }
        },
        {
         "name": "Zipcode",
         "dtype": "float64",
         "stats": {
          "unique_count": 5605,
          "nan_count": 48,
          "min": "1085.0",
          "max": "330004.0",
          "histogram": [
           {
            "bin_start": 1085,
            "bin_end": 33976.9,
            "count": 2366
           },
           {
            "bin_start": 33976.9,
            "bin_end": 66868.8,
            "count": 2176
           },
           {
            "bin_start": 66868.8,
            "bin_end": 99760.70000000001,
            "count": 4555
           },
           {
            "bin_start": 99760.70000000001,
            "bin_end": 132652.6,
            "count": 1
           },
           {
            "bin_start": 132652.6,
            "bin_end": 165544.5,
            "count": 0
           },
           {
            "bin_start": 165544.5,
            "bin_end": 198436.40000000002,
            "count": 0
           },
           {
            "bin_start": 198436.40000000002,
            "bin_end": 231328.30000000002,
            "count": 0
           },
           {
            "bin_start": 231328.30000000002,
            "bin_end": 264220.2,
            "count": 0
           },
           {
            "bin_start": 264220.2,
            "bin_end": 297112.10000000003,
            "count": 0
           },
           {
            "bin_start": 297112.10000000003,
            "bin_end": 330004,
            "count": 1
           }
          ]
         }
        },
        {
         "name": "County",
         "dtype": "object"
        },
        {
         "name": "Agency responsible for death",
         "dtype": "object"
        },
        {
         "name": "ORI Agency Identifier (if available)",
         "dtype": "object"
        },
        {
         "name": "Cause of death",
         "dtype": "object"
        },
        {
         "name": "A brief description of the circumstances surrounding the death",
         "dtype": "object"
        },
        {
         "name": "Official disposition of death (justified or other)",
         "dtype": "object"
        },
        {
         "name": "Criminal Charges?",
         "dtype": "object"
        },
        {
         "name": "Link to news article or photo of official document",
         "dtype": "object"
        },
        {
         "name": "Symptoms of mental illness?",
         "dtype": "object"
        },
        {
         "name": "Armed/Unarmed Status",
         "dtype": "object"
        },
        {
         "name": "Alleged Weapon (Source: WaPo and Review of Cases Not Included in WaPo Database)",
         "dtype": "object"
        },
        {
         "name": "Alleged Threat Level (Source: WaPo)",
         "dtype": "object"
        },
        {
         "name": "Fleeing (Source: WaPo)",
         "dtype": "object"
        },
        {
         "name": "Body Camera (Source: WaPo)",
         "dtype": "object"
        },
        {
         "name": "WaPo ID (If included in WaPo database)",
         "dtype": "float64"
        },
        {
         "name": "Off-Duty Killing?",
         "dtype": "object"
        },
        {
         "name": "Geography (via Trulia methodology based on zipcode population density: http://jedkolko.com/wp-content/uploads/2015/05/full-ZCTA-urban-suburban-rural-classification.xlsx )",
         "dtype": "object"
        },
        {
         "name": "MPV ID",
         "dtype": "float64"
        },
        {
         "name": "Fatal Encounters ID",
         "dtype": "float64"
        },
        {
         "name": "Encounter Type (DRAFT)",
         "dtype": "object"
        },
        {
         "name": "Initial Reported Reason for Encounter (DRAFT)",
         "dtype": "object"
        },
        {
         "name": "Names of Officers Involved (DRAFT)",
         "dtype": "object"
        },
        {
         "name": "Race of Officers Involved (DRAFT)",
         "dtype": "object"
        },
        {
         "name": "Known Past Shootings of Officer(s) (DRAFT)",
         "dtype": "object"
        },
        {
         "name": "Call for Service? (DRAFT)",
         "dtype": "object"
        },
        {
         "name": "Unnamed: 35",
         "dtype": "float64"
        },
        {
         "name": "Unnamed: 36",
         "dtype": "float64"
        },
        {
         "name": "Unnamed: 37",
         "dtype": "float64"
        },
        {
         "name": "Unnamed: 38",
         "dtype": "float64"
        },
        {
         "name": "Unnamed: 39",
         "dtype": "float64"
        },
        {
         "name": "Unnamed: 40",
         "dtype": "float64"
        },
        {
         "name": "Unnamed: 41",
         "dtype": "float64"
        },
        {
         "name": "Unnamed: 42",
         "dtype": "float64"
        },
        {
         "name": "Unnamed: 43",
         "dtype": "float64"
        },
        {
         "name": "Unnamed: 44",
         "dtype": "float64"
        },
        {
         "name": "Unnamed: 45",
         "dtype": "float64"
        },
        {
         "name": "Unnamed: 46",
         "dtype": "float64"
        },
        {
         "name": "Unnamed: 47",
         "dtype": "float64"
        },
        {
         "name": "Unnamed: 48",
         "dtype": "float64"
        },
        {
         "name": "_deepnote_index_column",
         "dtype": "int64"
        }
       ],
       "rows_top": [
        {
         "Victim's name": "Kalon Horton",
         "Victim's age": "29",
         "Victim's gender": "Male",
         "Victim's race": "Black",
         "URL of image of victim": "nan",
         "Date of Incident (month/day/year)": "2021-05-09T00:00:00.000000",
         "Street Address of Incident": "nan",
         "City": "Lancaster",
         "State": "TX",
         "Zipcode": "nan",
         "County": "nan",
         "Agency responsible for death": "Lancaster Police Department",
         "ORI Agency Identifier (if available)": "TX0571700",
         "Cause of death": "Gunshot",
         "A brief description of the circumstances surrounding the death": "Police responded to a call of a man firing shots within an apartment complex. Officers went to Horton's apartment and forced their way in. Police claim Horton was armed, and they shot and killed him.",
         "Official disposition of death (justified or other)": "Pending investigation",
         "Criminal Charges?": "No known charges",
         "Link to news article or photo of official document": "https://www.fox4news.com/news/lancaster-police-officers-involved-in-shooting",
         "Symptoms of mental illness?": "No",
         "Armed/Unarmed Status": "Allegedly Armed",
         "Alleged Weapon (Source: WaPo and Review of Cases Not Included in WaPo Database)": "gun",
         "Alleged Threat Level (Source: WaPo)": "attack",
         "Fleeing (Source: WaPo)": "nan",
         "Body Camera (Source: WaPo)": "no",
         "WaPo ID (If included in WaPo database)": "6842.0",
         "Off-Duty Killing?": "nan",
         "Geography (via Trulia methodology based on zipcode population density: http://jedkolko.com/wp-content/uploads/2015/05/full-ZCTA-urban-suburban-rural-classification.xlsx )": "nan",
         "MPV ID": "nan",
         "Fatal Encounters ID": "nan",
         "Encounter Type (DRAFT)": "Part 1 Violent Crime",
         "Initial Reported Reason for Encounter (DRAFT)": "gunshots",
         "Names of Officers Involved (DRAFT)": "nan",
         "Race of Officers Involved (DRAFT)": "nan",
         "Known Past Shootings of Officer(s) (DRAFT)": "nan",
         "Call for Service? (DRAFT)": "Yes",
         "Unnamed: 35": "nan",
         "Unnamed: 36": "nan",
         "Unnamed: 37": "nan",
         "Unnamed: 38": "nan",
         "Unnamed: 39": "nan",
         "Unnamed: 40": "nan",
         "Unnamed: 41": "nan",
         "Unnamed: 42": "nan",
         "Unnamed: 43": "nan",
         "Unnamed: 44": "nan",
         "Unnamed: 45": "nan",
         "Unnamed: 46": "nan",
         "Unnamed: 47": "nan",
         "Unnamed: 48": "nan",
         "_deepnote_index_column": 0
        },
        {
         "Victim's name": "Name withheld by police",
         "Victim's age": "nan",
         "Victim's gender": "Male",
         "Victim's race": "Unknown Race",
         "URL of image of victim": "nan",
         "Date of Incident (month/day/year)": "2021-05-09T00:00:00.000000",
         "Street Address of Incident": "90 S. Main St.",
         "City": "Leicester",
         "State": "MA",
         "Zipcode": "1524.0",
         "County": "Worcester",
         "Agency responsible for death": "Leicester Police Department",
         "ORI Agency Identifier (if available)": "MA0142400",
         "Cause of death": "Gunshot",
         "A brief description of the circumstances surrounding the death": "A man allegedly crashed an SUV into the Leicester Police Station, repeatedly ramming his vehicle into the front doors until he gained entry into the building. Responding officers saw the SUV in the front door and encountered the man. Police claim the man placed a rifle on his shoulder and aimed it at the officers. The police officers shot and killed him.",
         "Official disposition of death (justified or other)": "Pending investigation",
         "Criminal Charges?": "No known charges",
         "Link to news article or photo of official document": "https://www.wcvb.com/article/leicester-police-station-shooting-car-crash-massachusetts/36374400",
         "Symptoms of mental illness?": "No",
         "Armed/Unarmed Status": "Allegedly Armed",
         "Alleged Weapon (Source: WaPo and Review of Cases Not Included in WaPo Database)": "gun",
         "Alleged Threat Level (Source: WaPo)": "attack",
         "Fleeing (Source: WaPo)": "not fleeing",
         "Body Camera (Source: WaPo)": "no",
         "WaPo ID (If included in WaPo database)": "6844.0",
         "Off-Duty Killing?": "nan",
         "Geography (via Trulia methodology based on zipcode population density: http://jedkolko.com/wp-content/uploads/2015/05/full-ZCTA-urban-suburban-rural-classification.xlsx )": "Suburban",
         "MPV ID": "nan",
         "Fatal Encounters ID": "nan",
         "Encounter Type (DRAFT)": "Other",
         "Initial Reported Reason for Encounter (DRAFT)": "deliberate car crash",
         "Names of Officers Involved (DRAFT)": "nan",
         "Race of Officers Involved (DRAFT)": "nan",
         "Known Past Shootings of Officer(s) (DRAFT)": "nan",
         "Call for Service? (DRAFT)": "Yes",
         "Unnamed: 35": "nan",
         "Unnamed: 36": "nan",
         "Unnamed: 37": "nan",
         "Unnamed: 38": "nan",
         "Unnamed: 39": "nan",
         "Unnamed: 40": "nan",
         "Unnamed: 41": "nan",
         "Unnamed: 42": "nan",
         "Unnamed: 43": "nan",
         "Unnamed: 44": "nan",
         "Unnamed: 45": "nan",
         "Unnamed: 46": "nan",
         "Unnamed: 47": "nan",
         "Unnamed: 48": "nan",
         "_deepnote_index_column": 1
        },
        {
         "Victim's name": "Jeffrey Mark Murray",
         "Victim's age": "62",
         "Victim's gender": "Male",
         "Victim's race": "Unknown Race",
         "URL of image of victim": "nan",
         "Date of Incident (month/day/year)": "2021-05-09T00:00:00.000000",
         "Street Address of Incident": "nan",
         "City": "Greenville",
         "State": "SC",
         "Zipcode": "nan",
         "County": "nan",
         "Agency responsible for death": "Greenville Police Department",
         "ORI Agency Identifier (if available)": "SC0230000",
         "Cause of death": "Gunshot",
         "A brief description of the circumstances surrounding the death": "Murray allegedly shot and killed David Oliver while Oliver was on the phone with the police. Police found Murray and killed him. ",
         "Official disposition of death (justified or other)": "Pending investigation",
         "Criminal Charges?": "No known charges",
         "Link to news article or photo of official document": "https://www.seattletimes.com/nation-world/nation/cyclist-killed-in-dispute-shooter-dies-in-police-gun-battle/",
         "Symptoms of mental illness?": "No",
         "Armed/Unarmed Status": "Allegedly Armed",
         "Alleged Weapon (Source: WaPo and Review of Cases Not Included in WaPo Database)": "gun",
         "Alleged Threat Level (Source: WaPo)": "attack",
         "Fleeing (Source: WaPo)": "not fleeing",
         "Body Camera (Source: WaPo)": "no",
         "WaPo ID (If included in WaPo database)": "6841.0",
         "Off-Duty Killing?": "nan",
         "Geography (via Trulia methodology based on zipcode population density: http://jedkolko.com/wp-content/uploads/2015/05/full-ZCTA-urban-suburban-rural-classification.xlsx )": "nan",
         "MPV ID": "nan",
         "Fatal Encounters ID": "nan",
         "Encounter Type (DRAFT)": "Part 1 Violent Crime",
         "Initial Reported Reason for Encounter (DRAFT)": "murder",
         "Names of Officers Involved (DRAFT)": "nan",
         "Race of Officers Involved (DRAFT)": "nan",
         "Known Past Shootings of Officer(s) (DRAFT)": "nan",
         "Call for Service? (DRAFT)": "Yes",
         "Unnamed: 35": "nan",
         "Unnamed: 36": "nan",
         "Unnamed: 37": "nan",
         "Unnamed: 38": "nan",
         "Unnamed: 39": "nan",
         "Unnamed: 40": "nan",
         "Unnamed: 41": "nan",
         "Unnamed: 42": "nan",
         "Unnamed: 43": "nan",
         "Unnamed: 44": "nan",
         "Unnamed: 45": "nan",
         "Unnamed: 46": "nan",
         "Unnamed: 47": "nan",
         "Unnamed: 48": "nan",
         "_deepnote_index_column": 2
        },
        {
         "Victim's name": "Everton Brown",
         "Victim's age": "56",
         "Victim's gender": "Male",
         "Victim's race": "Unknown Race",
         "URL of image of victim": "nan",
         "Date of Incident (month/day/year)": "2021-05-08T00:00:00.000000",
         "Street Address of Incident": "nan",
         "City": "Baltimore",
         "State": "MD",
         "Zipcode": "nan",
         "County": "nan",
         "Agency responsible for death": "Baltimore County Police Department",
         "ORI Agency Identifier (if available)": "MD0030000",
         "Cause of death": "Gunshot",
         "A brief description of the circumstances surrounding the death": "Brown allegedly shot and killed two neighbors, and injured another. Police responded to the scene and found Brown in a parking lot. Police allegedly commanded Brown to drop his gun and Brown refused. At least four officers shot at Brown, killing him. ",
         "Official disposition of death (justified or other)": "Pending investigation",
         "Criminal Charges?": "No known charges",
         "Link to news article or photo of official document": "https://abcnews.go.com/US/wireStory/police-maryland-man-killed-neighbors-set-house-ablaze-77591766",
         "Symptoms of mental illness?": "Yes",
         "Armed/Unarmed Status": "Allegedly Armed",
         "Alleged Weapon (Source: WaPo and Review of Cases Not Included in WaPo Database)": "gun",
         "Alleged Threat Level (Source: WaPo)": "attack",
         "Fleeing (Source: WaPo)": "not fleeing",
         "Body Camera (Source: WaPo)": "no",
         "WaPo ID (If included in WaPo database)": "6846.0",
         "Off-Duty Killing?": "nan",
         "Geography (via Trulia methodology based on zipcode population density: http://jedkolko.com/wp-content/uploads/2015/05/full-ZCTA-urban-suburban-rural-classification.xlsx )": "nan",
         "MPV ID": "nan",
         "Fatal Encounters ID": "nan",
         "Encounter Type (DRAFT)": "Part 1 Violent Crime",
         "Initial Reported Reason for Encounter (DRAFT)": "murder",
         "Names of Officers Involved (DRAFT)": "nan",
         "Race of Officers Involved (DRAFT)": "nan",
         "Known Past Shootings of Officer(s) (DRAFT)": "nan",
         "Call for Service? (DRAFT)": "Yes",
         "Unnamed: 35": "nan",
         "Unnamed: 36": "nan",
         "Unnamed: 37": "nan",
         "Unnamed: 38": "nan",
         "Unnamed: 39": "nan",
         "Unnamed: 40": "nan",
         "Unnamed: 41": "nan",
         "Unnamed: 42": "nan",
         "Unnamed: 43": "nan",
         "Unnamed: 44": "nan",
         "Unnamed: 45": "nan",
         "Unnamed: 46": "nan",
         "Unnamed: 47": "nan",
         "Unnamed: 48": "nan",
         "_deepnote_index_column": 3
        },
        {
         "Victim's name": "Felix Jerry Marquez",
         "Victim's age": "34",
         "Victim's gender": "Male",
         "Victim's race": "Hispanic",
         "URL of image of victim": "nan",
         "Date of Incident (month/day/year)": "2021-05-08T00:00:00.000000",
         "Street Address of Incident": "nan",
         "City": "Riverside",
         "State": "CA",
         "Zipcode": "nan",
         "County": "Riverside",
         "Agency responsible for death": "Riverside Police Department",
         "ORI Agency Identifier (if available)": "CA0331300",
         "Cause of death": "Gunshot",
         "A brief description of the circumstances surrounding the death": "Officers who were part of a homeless outreach unit encountered Marquez and claim he pulled a handgun, pointing it at them. The officers shot and killed Marquez. ",
         "Official disposition of death (justified or other)": "Pending investigation",
         "Criminal Charges?": "No known charges",
         "Link to news article or photo of official document": "https://www.avpress.com/news/police-shoot-man-who-pulled-gun/article_cd0b7314-b138-11eb-a877-6f0ab8fbc496.html",
         "Symptoms of mental illness?": "No",
         "Armed/Unarmed Status": "Allegedly Armed",
         "Alleged Weapon (Source: WaPo and Review of Cases Not Included in WaPo Database)": "gun",
         "Alleged Threat Level (Source: WaPo)": "attack",
         "Fleeing (Source: WaPo)": "not fleeing",
         "Body Camera (Source: WaPo)": "no",
         "WaPo ID (If included in WaPo database)": "6845.0",
         "Off-Duty Killing?": "nan",
         "Geography (via Trulia methodology based on zipcode population density: http://jedkolko.com/wp-content/uploads/2015/05/full-ZCTA-urban-suburban-rural-classification.xlsx )": "nan",
         "MPV ID": "nan",
         "Fatal Encounters ID": "nan",
         "Encounter Type (DRAFT)": "Person with a gun",
         "Initial Reported Reason for Encounter (DRAFT)": "person with a gun",
         "Names of Officers Involved (DRAFT)": "nan",
         "Race of Officers Involved (DRAFT)": "nan",
         "Known Past Shootings of Officer(s) (DRAFT)": "nan",
         "Call for Service? (DRAFT)": "No",
         "Unnamed: 35": "nan",
         "Unnamed: 36": "nan",
         "Unnamed: 37": "nan",
         "Unnamed: 38": "nan",
         "Unnamed: 39": "nan",
         "Unnamed: 40": "nan",
         "Unnamed: 41": "nan",
         "Unnamed: 42": "nan",
         "Unnamed: 43": "nan",
         "Unnamed: 44": "nan",
         "Unnamed: 45": "nan",
         "Unnamed: 46": "nan",
         "Unnamed: 47": "nan",
         "Unnamed: 48": "nan",
         "_deepnote_index_column": 4
        },
        {
         "Victim's name": "Daniel Hobbs",
         "Victim's age": "34",
         "Victim's gender": "Male",
         "Victim's race": "Unknown Race",
         "URL of image of victim": "nan",
         "Date of Incident (month/day/year)": "2021-05-08T00:00:00.000000",
         "Street Address of Incident": "Northwest 33rd Street and Portland",
         "City": "Oklahoma City",
         "State": "OK",
         "Zipcode": "nan",
         "County": "Oklahoma",
         "Agency responsible for death": "Oklahoma City Police Department",
         "ORI Agency Identifier (if available)": "OK0550600",
         "Cause of death": "Gunshot",
         "A brief description of the circumstances surrounding the death": "A neighbor called the police after seeing Hobbs in his grandfather's yard. The caller stated his grandfather allegedly had a victim protective order against Hobbs and that Hobbs may be under the influence. Officer Daniel Lopez responded to the home and spoke with Hobbs, who disclosed he was taking medication for mental illness. Lopez asked to search Hobbs for weapons, and a scuffle allegedly ensued. Police claim Lopez's body camera shut off during the scuffle. Lopez shot Hobbs four times. ",
         "Official disposition of death (justified or other)": "Pending investigation",
         "Criminal Charges?": "No known charges",
         "Link to news article or photo of official document": "https://www.koco.com/article/bodycam-video-shows-struggle-before-oklahoma-city-officer-shoots-kills-man/36429908#",
         "Symptoms of mental illness?": "Yes",
         "Armed/Unarmed Status": "Unarmed/Did Not Have Actual Weapon",
         "Alleged Weapon (Source: WaPo and Review of Cases Not Included in WaPo Database)": "no object",
         "Alleged Threat Level (Source: WaPo)": "other",
         "Fleeing (Source: WaPo)": "not fleeing",
         "Body Camera (Source: WaPo)": "yes",
         "WaPo ID (If included in WaPo database)": "6840.0",
         "Off-Duty Killing?": "nan",
         "Geography (via Trulia methodology based on zipcode population density: http://jedkolko.com/wp-content/uploads/2015/05/full-ZCTA-urban-suburban-rural-classification.xlsx )": "nan",
         "MPV ID": "nan",
         "Fatal Encounters ID": "nan",
         "Encounter Type (DRAFT)": "Other",
         "Initial Reported Reason for Encounter (DRAFT)": "violation of protective order",
         "Names of Officers Involved (DRAFT)": "Daniel Lopez",
         "Race of Officers Involved (DRAFT)": "nan",
         "Known Past Shootings of Officer(s) (DRAFT)": "nan",
         "Call for Service? (DRAFT)": "Yes",
         "Unnamed: 35": "nan",
         "Unnamed: 36": "nan",
         "Unnamed: 37": "nan",
         "Unnamed: 38": "nan",
         "Unnamed: 39": "nan",
         "Unnamed: 40": "nan",
         "Unnamed: 41": "nan",
         "Unnamed: 42": "nan",
         "Unnamed: 43": "nan",
         "Unnamed: 44": "nan",
         "Unnamed: 45": "nan",
         "Unnamed: 46": "nan",
         "Unnamed: 47": "nan",
         "Unnamed: 48": "nan",
         "_deepnote_index_column": 5
        },
        {
         "Victim's name": "Adonis Traughber",
         "Victim's age": "54",
         "Victim's gender": "Male",
         "Victim's race": "Unknown Race",
         "URL of image of victim": "nan",
         "Date of Incident (month/day/year)": "2021-05-08T00:00:00.000000",
         "Street Address of Incident": "Hedge Apple Drive",
         "City": "Clarksville",
         "State": "TN",
         "Zipcode": "nan",
         "County": "Montgomery",
         "Agency responsible for death": "Clarksville Police Department",
         "ORI Agency Identifier (if available)": "TN0630100",
         "Cause of death": "Gunshot",
         "A brief description of the circumstances surrounding the death": "Traughber shot his ex-girlfriend Shequita Jones and called the police, requesting a SWAT team. Police arrived and asked Traughber to put his gun down. Jones heard Traughber state he was surrendering, before police shot and killed him. ",
         "Official disposition of death (justified or other)": "Pending investigation",
         "Criminal Charges?": "No known charges",
         "Link to news article or photo of official document": "https://www.wsmv.com/news/ex-girlfriend-recounts-domestic-dispute-that-ended-in-an-officer-involved-shooting/article_f0e044c2-b138-11eb-a207-6375f1c167de.html",
         "Symptoms of mental illness?": "No",
         "Armed/Unarmed Status": "Allegedly Armed",
         "Alleged Weapon (Source: WaPo and Review of Cases Not Included in WaPo Database)": "gun",
         "Alleged Threat Level (Source: WaPo)": "attack",
         "Fleeing (Source: WaPo)": "not fleeing",
         "Body Camera (Source: WaPo)": "no",
         "WaPo ID (If included in WaPo database)": "6839.0",
         "Off-Duty Killing?": "nan",
         "Geography (via Trulia methodology based on zipcode population density: http://jedkolko.com/wp-content/uploads/2015/05/full-ZCTA-urban-suburban-rural-classification.xlsx )": "nan",
         "MPV ID": "nan",
         "Fatal Encounters ID": "nan",
         "Encounter Type (DRAFT)": "Part 1 Violent Crime/Domestic disturbance (intimate partner violence)",
         "Initial Reported Reason for Encounter (DRAFT)": "shooting/domestic disturbance",
         "Names of Officers Involved (DRAFT)": "nan",
         "Race of Officers Involved (DRAFT)": "nan",
         "Known Past Shootings of Officer(s) (DRAFT)": "nan",
         "Call for Service? (DRAFT)": "Yes",
         "Unnamed: 35": "nan",
         "Unnamed: 36": "nan",
         "Unnamed: 37": "nan",
         "Unnamed: 38": "nan",
         "Unnamed: 39": "nan",
         "Unnamed: 40": "nan",
         "Unnamed: 41": "nan",
         "Unnamed: 42": "nan",
         "Unnamed: 43": "nan",
         "Unnamed: 44": "nan",
         "Unnamed: 45": "nan",
         "Unnamed: 46": "nan",
         "Unnamed: 47": "nan",
         "Unnamed: 48": "nan",
         "_deepnote_index_column": 6
        },
        {
         "Victim's name": "Robbie Leigh Hodge",
         "Victim's age": "52",
         "Victim's gender": "Male",
         "Victim's race": "Unknown Race",
         "URL of image of victim": "nan",
         "Date of Incident (month/day/year)": "2021-05-07T00:00:00.000000",
         "Street Address of Incident": "1200 Rocky Branch Rd.",
         "City": "Rutledge",
         "State": "TN",
         "Zipcode": "37861.0",
         "County": "Grainger",
         "Agency responsible for death": "Bean Station Police Department, Rutledge Police Department",
         "ORI Agency Identifier (if available)": "TN0290300, TN0290100",
         "Cause of death": "Gunshot",
         "A brief description of the circumstances surrounding the death": "Deputies responded to reports of a man shooting a gun inside a home. When deputies arrived, they made contact with the man. While encountering the subject, an officer with the Bean Station PD and an officer with Rutledge PD fired at the man, killing him. No other details are available concerning the shooting at this time. ",
         "Official disposition of death (justified or other)": "Pending investigation",
         "Criminal Charges?": "No known charges",
         "Link to news article or photo of official document": "https://www.wate.com/news/local-news/tbi-1-man-dead-after-officer-involved-shooting-in-grainger-co-friday-night/",
         "Symptoms of mental illness?": "No",
         "Armed/Unarmed Status": "Allegedly Armed",
         "Alleged Weapon (Source: WaPo and Review of Cases Not Included in WaPo Database)": "gun",
         "Alleged Threat Level (Source: WaPo)": "attack",
         "Fleeing (Source: WaPo)": "not fleeing",
         "Body Camera (Source: WaPo)": "no",
         "WaPo ID (If included in WaPo database)": "6843.0",
         "Off-Duty Killing?": "nan",
         "Geography (via Trulia methodology based on zipcode population density: http://jedkolko.com/wp-content/uploads/2015/05/full-ZCTA-urban-suburban-rural-classification.xlsx )": "Rural",
         "MPV ID": "nan",
         "Fatal Encounters ID": "nan",
         "Encounter Type (DRAFT)": "Part 1 Violent Crime",
         "Initial Reported Reason for Encounter (DRAFT)": "gunshots",
         "Names of Officers Involved (DRAFT)": "nan",
         "Race of Officers Involved (DRAFT)": "nan",
         "Known Past Shootings of Officer(s) (DRAFT)": "nan",
         "Call for Service? (DRAFT)": "Yes",
         "Unnamed: 35": "nan",
         "Unnamed: 36": "nan",
         "Unnamed: 37": "nan",
         "Unnamed: 38": "nan",
         "Unnamed: 39": "nan",
         "Unnamed: 40": "nan",
         "Unnamed: 41": "nan",
         "Unnamed: 42": "nan",
         "Unnamed: 43": "nan",
         "Unnamed: 44": "nan",
         "Unnamed: 45": "nan",
         "Unnamed: 46": "nan",
         "Unnamed: 47": "nan",
         "Unnamed: 48": "nan",
         "_deepnote_index_column": 7
        },
        {
         "Victim's name": "Mark Aitulagi Lavea",
         "Victim's age": "47",
         "Victim's gender": "Male",
         "Victim's race": "White",
         "URL of image of victim": "https://fatalencounters.org/wp-content/uploads/2021/05/Mark-Aitulagi-Lavea.jpg",
         "Date of Incident (month/day/year)": "2021-05-06T00:00:00.000000",
         "Street Address of Incident": "500 Lewis Avenue",
         "City": "San Andreas",
         "State": "CA",
         "Zipcode": "95249.0",
         "County": "Calaveras",
         "Agency responsible for death": "Calaveras County Sheriff's Office",
         "ORI Agency Identifier (if available)": "CA0050000",
         "Cause of death": "Gunshot",
         "A brief description of the circumstances surrounding the death": "Around 10:30 p.m., dispatchers got a call about an argument between a man and a woman at the Sierra Inn Motel. During the incident, the man allegedly pointed a gun at the woman's head. The suspect left before deputies arrived. A search started, and the man shot a deputy who was interviewing the victim. Police started searching the apartment complex. Eventually, the man emerged from an apartment holding an elderly woman hostage with a gun. Officers shot and killed Mark Aitulagi Lavea and shot and wounded the hostage.",
         "Official disposition of death (justified or other)": "Pending investigation",
         "Criminal Charges?": "No known charges",
         "Link to news article or photo of official document": "https://sacramento.cbslocal.com/2021/05/07/calaveras-co-san-andreas-hostage-deputy-shot-suspect-dead/",
         "Symptoms of mental illness?": "No",
         "Armed/Unarmed Status": "Allegedly Armed",
         "Alleged Weapon (Source: WaPo and Review of Cases Not Included in WaPo Database)": "gun",
         "Alleged Threat Level (Source: WaPo)": "other",
         "Fleeing (Source: WaPo)": "not fleeing",
         "Body Camera (Source: WaPo)": "nan",
         "WaPo ID (If included in WaPo database)": "nan",
         "Off-Duty Killing?": "nan",
         "Geography (via Trulia methodology based on zipcode population density: http://jedkolko.com/wp-content/uploads/2015/05/full-ZCTA-urban-suburban-rural-classification.xlsx )": "Rural",
         "MPV ID": "nan",
         "Fatal Encounters ID": "30157.0",
         "Encounter Type (DRAFT)": "Part 1 Violent Crime",
         "Initial Reported Reason for Encounter (DRAFT)": "hostage situation",
         "Names of Officers Involved (DRAFT)": "nan",
         "Race of Officers Involved (DRAFT)": "nan",
         "Known Past Shootings of Officer(s) (DRAFT)": "nan",
         "Call for Service? (DRAFT)": "Yes",
         "Unnamed: 35": "nan",
         "Unnamed: 36": "nan",
         "Unnamed: 37": "nan",
         "Unnamed: 38": "nan",
         "Unnamed: 39": "nan",
         "Unnamed: 40": "nan",
         "Unnamed: 41": "nan",
         "Unnamed: 42": "nan",
         "Unnamed: 43": "nan",
         "Unnamed: 44": "nan",
         "Unnamed: 45": "nan",
         "Unnamed: 46": "nan",
         "Unnamed: 47": "nan",
         "Unnamed: 48": "nan",
         "_deepnote_index_column": 8
        },
        {
         "Victim's name": "William Holt",
         "Victim's age": "49",
         "Victim's gender": "Male",
         "Victim's race": "White",
         "URL of image of victim": "nan",
         "Date of Incident (month/day/year)": "2021-05-05T00:00:00.000000",
         "Street Address of Incident": "2775 Fremont St.",
         "City": "Las Vegas",
         "State": "NV",
         "Zipcode": "89104.0",
         "County": "Clark",
         "Agency responsible for death": "Las Vegas Metropolitan Police Department",
         "ORI Agency Identifier (if available)": "NV0020100",
         "Cause of death": "Gunshot",
         "A brief description of the circumstances surrounding the death": "Officers responded to a report of gunshots at an apartment complex. Arriving officers allegedly encountered two men running through the complex, one of whom they claim was armed with a firearm. The two men were taken into custody and informed officers they were shot at by Holt. Officers went to Holt's apartment and allegedly witnessed him fire one round before going back inside. Officers began to set up a perimeter, when Holt allegedly exited the apartment with a gun. Officer Erik Lindberg shot and killed Holt. ",
         "Official disposition of death (justified or other)": "Pending investigation",
         "Criminal Charges?": "No known charges",
         "Link to news article or photo of official document": "https://www.ktnv.com/news/watch-press-conference-for-may-4-shooting-involving-las-vegas-police",
         "Symptoms of mental illness?": "No",
         "Armed/Unarmed Status": "Allegedly Armed",
         "Alleged Weapon (Source: WaPo and Review of Cases Not Included in WaPo Database)": "gun",
         "Alleged Threat Level (Source: WaPo)": "attack",
         "Fleeing (Source: WaPo)": "not fleeing",
         "Body Camera (Source: WaPo)": "no",
         "WaPo ID (If included in WaPo database)": "6837.0",
         "Off-Duty Killing?": "nan",
         "Geography (via Trulia methodology based on zipcode population density: http://jedkolko.com/wp-content/uploads/2015/05/full-ZCTA-urban-suburban-rural-classification.xlsx )": "Urban",
         "MPV ID": "nan",
         "Fatal Encounters ID": "nan",
         "Encounter Type (DRAFT)": "Part 1 Violent Crime",
         "Initial Reported Reason for Encounter (DRAFT)": "gunshots",
         "Names of Officers Involved (DRAFT)": "Erik Lindberg",
         "Race of Officers Involved (DRAFT)": "nan",
         "Known Past Shootings of Officer(s) (DRAFT)": "nan",
         "Call for Service? (DRAFT)": "Yes",
         "Unnamed: 35": "nan",
         "Unnamed: 36": "nan",
         "Unnamed: 37": "nan",
         "Unnamed: 38": "nan",
         "Unnamed: 39": "nan",
         "Unnamed: 40": "nan",
         "Unnamed: 41": "nan",
         "Unnamed: 42": "nan",
         "Unnamed: 43": "nan",
         "Unnamed: 44": "nan",
         "Unnamed: 45": "nan",
         "Unnamed: 46": "nan",
         "Unnamed: 47": "nan",
         "Unnamed: 48": "nan",
         "_deepnote_index_column": 9
        }
       ],
       "rows_bottom": [
        {
         "Victim's name": "Peter Jourdan",
         "Victim's age": 37,
         "Victim's gender": "Male",
         "Victim's race": "Black",
         "URL of image of victim": "http://www.trbimg.com/img-50e7a90e/turbine/peter-jourdan-of-allentown.jpg-20130104/600",
         "Date of Incident (month/day/year)": "2013-01-03T00:00:00.000000",
         "Street Address of Incident": "Fort Hamilton Parkway & 62nd Street",
         "City": "Brooklyn",
         "State": "NY",
         "Zipcode": 11219,
         "County": "Kings",
         "Agency responsible for death": "New York Police Department",
         "ORI Agency Identifier (if available)": "NY0303000",
         "Cause of death": "Gunshot",
         "A brief description of the circumstances surrounding the death": "NYPD plainclothes transit police approached Jourdan after seeing him move from one subway car to another, a violation. Jourdan responded by pulling a 9mm pistol and firing on both officers, wounding one seriously. The other returned fire and shot Jourdan to death. He'd had significant mental health issues and an extensive arrest record, unknown to the officers.",
         "Official disposition of death (justified or other)": "Justified",
         "Criminal Charges?": "No known charges",
         "Link to news article or photo of official document": "http://articles.mcall.com/2013-01-04/news/mc-c-allentown-gunman-killed-on-ny-subway-20130104_1_lukasz-kozicki-officer-michael-levay-allentown-man; http://www.foxnews.com/us/2013/01/04/3-nypd-officers-shot-in-one-hour-span-in-separate-incidents/",
         "Symptoms of mental illness?": "No",
         "Armed/Unarmed Status": "Allegedly Armed",
         "Alleged Weapon (Source: WaPo and Review of Cases Not Included in WaPo Database)": "gun",
         "Alleged Threat Level (Source: WaPo)": "nan",
         "Fleeing (Source: WaPo)": "nan",
         "Body Camera (Source: WaPo)": "nan",
         "WaPo ID (If included in WaPo database)": "nan",
         "Off-Duty Killing?": "nan",
         "Geography (via Trulia methodology based on zipcode population density: http://jedkolko.com/wp-content/uploads/2015/05/full-ZCTA-urban-suburban-rural-classification.xlsx )": "Urban",
         "MPV ID": 8,
         "Fatal Encounters ID": 12180,
         "Encounter Type (DRAFT)": "nan",
         "Initial Reported Reason for Encounter (DRAFT)": "nan",
         "Names of Officers Involved (DRAFT)": "nan",
         "Race of Officers Involved (DRAFT)": "nan",
         "Known Past Shootings of Officer(s) (DRAFT)": "nan",
         "Call for Service? (DRAFT)": "nan",
         "Unnamed: 35": "nan",
         "Unnamed: 36": "nan",
         "Unnamed: 37": "nan",
         "Unnamed: 38": "nan",
         "Unnamed: 39": "nan",
         "Unnamed: 40": "nan",
         "Unnamed: 41": "nan",
         "Unnamed: 42": "nan",
         "Unnamed: 43": "nan",
         "Unnamed: 44": "nan",
         "Unnamed: 45": "nan",
         "Unnamed: 46": "nan",
         "Unnamed: 47": "nan",
         "Unnamed: 48": "nan",
         "_deepnote_index_column": 9137
        },
        {
         "Victim's name": "Chandler T. Guinn Jr.",
         "Victim's age": 23,
         "Victim's gender": "Male",
         "Victim's race": "Unknown Race",
         "URL of image of victim": "nan",
         "Date of Incident (month/day/year)": "2013-01-03T00:00:00.000000",
         "Street Address of Incident": "52nd Street and Troost Avenue",
         "City": "Kansas City",
         "State": "MO",
         "Zipcode": 64110,
         "County": "Jackson",
         "Agency responsible for death": "Rockhurst University Safety and Security Department",
         "ORI Agency Identifier (if available)": "Not Found/No Agency ORI",
         "Cause of death": "Gunshot",
         "A brief description of the circumstances surrounding the death": "A Rockhurst University officer shot Chandler T. Guinn Jr. after he allegedly got out of a disabled car, yelled at people and pointed a gun at the officer. According to police, Guinn was in a traffic accident near the campus at about 3 p.m. Guinn then reportedly tried to drive away, but his car stopped working in the intersection of 52nd and Troost. He got out of the car and started yelling at bystanders, waving a gun. Witnesses said Guinn started to take his clothes off in the street and threatened a doctor who came to help. Guinn then allegedly pointed the gun at a campus officer, who shot Guinn. Guinn died at an area hospital.",
         "Official disposition of death (justified or other)": "Unreported",
         "Criminal Charges?": "No known charges",
         "Link to news article or photo of official document": "http://fox4kc.com/2013/01/03/one-person-dead-following-east-side-wreck-shooting/",
         "Symptoms of mental illness?": "No",
         "Armed/Unarmed Status": "Allegedly Armed",
         "Alleged Weapon (Source: WaPo and Review of Cases Not Included in WaPo Database)": "gun",
         "Alleged Threat Level (Source: WaPo)": "nan",
         "Fleeing (Source: WaPo)": "nan",
         "Body Camera (Source: WaPo)": "nan",
         "WaPo ID (If included in WaPo database)": "nan",
         "Off-Duty Killing?": "nan",
         "Geography (via Trulia methodology based on zipcode population density: http://jedkolko.com/wp-content/uploads/2015/05/full-ZCTA-urban-suburban-rural-classification.xlsx )": "Suburban",
         "MPV ID": 9,
         "Fatal Encounters ID": 12179,
         "Encounter Type (DRAFT)": "nan",
         "Initial Reported Reason for Encounter (DRAFT)": "nan",
         "Names of Officers Involved (DRAFT)": "nan",
         "Race of Officers Involved (DRAFT)": "nan",
         "Known Past Shootings of Officer(s) (DRAFT)": "nan",
         "Call for Service? (DRAFT)": "nan",
         "Unnamed: 35": "nan",
         "Unnamed: 36": "nan",
         "Unnamed: 37": "nan",
         "Unnamed: 38": "nan",
         "Unnamed: 39": "nan",
         "Unnamed: 40": "nan",
         "Unnamed: 41": "nan",
         "Unnamed: 42": "nan",
         "Unnamed: 43": "nan",
         "Unnamed: 44": "nan",
         "Unnamed: 45": "nan",
         "Unnamed: 46": "nan",
         "Unnamed: 47": "nan",
         "Unnamed: 48": "nan",
         "_deepnote_index_column": 9138
        },
        {
         "Victim's name": "Hunter Jacob Todd",
         "Victim's age": 20,
         "Victim's gender": "Male",
         "Victim's race": "White",
         "URL of image of victim": "http://ak-cache.legacy.net/legacy/Images/Cobrands/DignityMemorial/Photos/59c43772-643e-42c2-b704-fdffa91a9e43.jpg",
         "Date of Incident (month/day/year)": "2013-01-03T00:00:00.000000",
         "Street Address of Incident": "8000 Debbie Ann Court",
         "City": "Citrus Heights",
         "State": "CA",
         "Zipcode": 95610,
         "County": "Sacramento",
         "Agency responsible for death": "Citrus Heights Police Department",
         "ORI Agency Identifier (if available)": "CA0349600",
         "Cause of death": "Gunshot",
         "A brief description of the circumstances surrounding the death": "Police responded to a report of a possible car burglary at the Glen Alta Way and Debbie Ann Court intersection in Citrus Heights. On arriving the first officer on the scene saw a man matching suspect's description and ordered him to show his hands. Suspect allegedly refused officer's commands and \"was aggressively reaching for something\" causing the officer to \"fear for his life\" and shoot the suspect. Suspect's alleged accomplice, Richard Martin Duran, was arrested on the scene.",
         "Official disposition of death (justified or other)": "Unreported",
         "Criminal Charges?": "No known charges",
         "Link to news article or photo of official document": "http://www.news10.net/news/article/224031/2/Investigation-continues-into-officer-involved-shooting",
         "Symptoms of mental illness?": "No",
         "Armed/Unarmed Status": "Unarmed/Did Not Have Actual Weapon",
         "Alleged Weapon (Source: WaPo and Review of Cases Not Included in WaPo Database)": "no object",
         "Alleged Threat Level (Source: WaPo)": "nan",
         "Fleeing (Source: WaPo)": "nan",
         "Body Camera (Source: WaPo)": "nan",
         "WaPo ID (If included in WaPo database)": "nan",
         "Off-Duty Killing?": "nan",
         "Geography (via Trulia methodology based on zipcode population density: http://jedkolko.com/wp-content/uploads/2015/05/full-ZCTA-urban-suburban-rural-classification.xlsx )": "Suburban",
         "MPV ID": 10,
         "Fatal Encounters ID": 12182,
         "Encounter Type (DRAFT)": "nan",
         "Initial Reported Reason for Encounter (DRAFT)": "nan",
         "Names of Officers Involved (DRAFT)": "nan",
         "Race of Officers Involved (DRAFT)": "nan",
         "Known Past Shootings of Officer(s) (DRAFT)": "nan",
         "Call for Service? (DRAFT)": "nan",
         "Unnamed: 35": "nan",
         "Unnamed: 36": "nan",
         "Unnamed: 37": "nan",
         "Unnamed: 38": "nan",
         "Unnamed: 39": "nan",
         "Unnamed: 40": "nan",
         "Unnamed: 41": "nan",
         "Unnamed: 42": "nan",
         "Unnamed: 43": "nan",
         "Unnamed: 44": "nan",
         "Unnamed: 45": "nan",
         "Unnamed: 46": "nan",
         "Unnamed: 47": "nan",
         "Unnamed: 48": "nan",
         "_deepnote_index_column": 9139
        },
        {
         "Victim's name": "Kenneth Morrow",
         "Victim's age": 52,
         "Victim's gender": "Male",
         "Victim's race": "Unknown Race",
         "URL of image of victim": "nan",
         "Date of Incident (month/day/year)": "2013-01-02T00:00:00.000000",
         "Street Address of Incident": "259 High Bridge Rd",
         "City": "Ormond Beach",
         "State": "FL",
         "Zipcode": 32174,
         "County": "Volusia",
         "Agency responsible for death": "Volusia County Sheriff's Office",
         "ORI Agency Identifier (if available)": "FL0640000",
         "Cause of death": "Gunshot",
         "A brief description of the circumstances surrounding the death": "Deputies discovered a suicidal Morrow and his parked motorcycle on a remote road. As they approached he held a handgun to his own head and threatened to shoot. After hours of negotiations and text messages back and forth Morrow advanced on the police in a threatening way, and they shot him to death.",
         "Official disposition of death (justified or other)": "Unreported",
         "Criminal Charges?": "No known charges",
         "Link to news article or photo of official document": "http://www.clickorlando.com/news/Deputies-shoot-kill-armed-man-near-Ormond-Beach/17990842",
         "Symptoms of mental illness?": "Yes",
         "Armed/Unarmed Status": "Allegedly Armed",
         "Alleged Weapon (Source: WaPo and Review of Cases Not Included in WaPo Database)": "gun",
         "Alleged Threat Level (Source: WaPo)": "nan",
         "Fleeing (Source: WaPo)": "nan",
         "Body Camera (Source: WaPo)": "nan",
         "WaPo ID (If included in WaPo database)": "nan",
         "Off-Duty Killing?": "nan",
         "Geography (via Trulia methodology based on zipcode population density: http://jedkolko.com/wp-content/uploads/2015/05/full-ZCTA-urban-suburban-rural-classification.xlsx )": "Urban",
         "MPV ID": 7,
         "Fatal Encounters ID": 12178,
         "Encounter Type (DRAFT)": "nan",
         "Initial Reported Reason for Encounter (DRAFT)": "nan",
         "Names of Officers Involved (DRAFT)": "nan",
         "Race of Officers Involved (DRAFT)": "nan",
         "Known Past Shootings of Officer(s) (DRAFT)": "nan",
         "Call for Service? (DRAFT)": "nan",
         "Unnamed: 35": "nan",
         "Unnamed: 36": "nan",
         "Unnamed: 37": "nan",
         "Unnamed: 38": "nan",
         "Unnamed: 39": "nan",
         "Unnamed: 40": "nan",
         "Unnamed: 41": "nan",
         "Unnamed: 42": "nan",
         "Unnamed: 43": "nan",
         "Unnamed: 44": "nan",
         "Unnamed: 45": "nan",
         "Unnamed: 46": "nan",
         "Unnamed: 47": "nan",
         "Unnamed: 48": "nan",
         "_deepnote_index_column": 9140
        },
        {
         "Victim's name": "Tyree Bell",
         "Victim's age": 31,
         "Victim's gender": "Male",
         "Victim's race": "Black",
         "URL of image of victim": "http://content.omaha.com/media/maps/ps/2013/jan/bell.jpg",
         "Date of Incident (month/day/year)": "2013-01-01T00:00:00.000000",
         "Street Address of Incident": "3727 N. 42nd St.",
         "City": "Omaha",
         "State": "NE",
         "Zipcode": 68111,
         "County": "Douglas",
         "Agency responsible for death": "Omaha Police Department",
         "ORI Agency Identifier (if available)": "NB0280200",
         "Cause of death": "Gunshot",
         "A brief description of the circumstances surrounding the death": "Omaha Police Department responded to a 911 domestic disturbance call around 2am which indicated that the suspect had a shotgun. Suspect's girlfriend left the house when police arrived but two children, suspects son and daughter were still inside. Daughter later was freed, but suspect allegedly used 3-year-old son as a shield multiple times when pointing shotgun at officers. Suspect threatened officers and made suicidal statements. Around 6:30am suspect put his son back in the house and came back out with shotgun and rifle, and was shot multiple times by four officers. Suspect had criminal history and mental issues. One gun was later found to be a pellet gun, and the other was unloaded.",
         "Official disposition of death (justified or other)": "Grand jury/No bill or Cleared",
         "Criminal Charges?": "No known charges",
         "Link to news article or photo of official document": "http://www.ketv.com/news/Police-chief-details-officer-involved-shooting/17983680; http://www.omaha.com/news/omaha-police-chief-describes-dead-suspect-as-suicidal-mentally-ill/article_d0d3c6c8-701a-51ab-85c1-738e06e9f5a8.html",
         "Symptoms of mental illness?": "Yes",
         "Armed/Unarmed Status": "Allegedly Armed",
         "Alleged Weapon (Source: WaPo and Review of Cases Not Included in WaPo Database)": "gun",
         "Alleged Threat Level (Source: WaPo)": "nan",
         "Fleeing (Source: WaPo)": "nan",
         "Body Camera (Source: WaPo)": "nan",
         "WaPo ID (If included in WaPo database)": "nan",
         "Off-Duty Killing?": "nan",
         "Geography (via Trulia methodology based on zipcode population density: http://jedkolko.com/wp-content/uploads/2015/05/full-ZCTA-urban-suburban-rural-classification.xlsx )": "Urban",
         "MPV ID": 2,
         "Fatal Encounters ID": 12173,
         "Encounter Type (DRAFT)": "nan",
         "Initial Reported Reason for Encounter (DRAFT)": "nan",
         "Names of Officers Involved (DRAFT)": "nan",
         "Race of Officers Involved (DRAFT)": "nan",
         "Known Past Shootings of Officer(s) (DRAFT)": "nan",
         "Call for Service? (DRAFT)": "nan",
         "Unnamed: 35": "nan",
         "Unnamed: 36": "nan",
         "Unnamed: 37": "nan",
         "Unnamed: 38": "nan",
         "Unnamed: 39": "nan",
         "Unnamed: 40": "nan",
         "Unnamed: 41": "nan",
         "Unnamed: 42": "nan",
         "Unnamed: 43": "nan",
         "Unnamed: 44": "nan",
         "Unnamed: 45": "nan",
         "Unnamed: 46": "nan",
         "Unnamed: 47": "nan",
         "Unnamed: 48": "nan",
         "_deepnote_index_column": 9141
        },
        {
         "Victim's name": "Abel Gurrola",
         "Victim's age": 26,
         "Victim's gender": "Male",
         "Victim's race": "Hispanic",
         "URL of image of victim": "http://www.bakersfieldnow.com/news/local/A-26-year-old-man-shot-by-police-is-in-critical-condition-185383592.html",
         "Date of Incident (month/day/year)": "2013-01-01T00:00:00.000000",
         "Street Address of Incident": "720 Terrace Way",
         "City": "Bakersfield",
         "State": "CA",
         "Zipcode": 93304,
         "County": "Kern",
         "Agency responsible for death": "Bakersfield Police Department",
         "ORI Agency Identifier (if available)": "CA0150200",
         "Cause of death": "Gunshot",
         "A brief description of the circumstances surrounding the death": "Officers responded to reports of gunshots at an apartment complex and allegedly saw Abel Gurrola carrying a rifle. Family members state that Abel Gurrola and his brother were shooting the rifle in a nearby empty lot to celebrate the New Year but did nothing to warrant being shot. Officers ordered him to drop the gun, but he refused and ran. Officers were found to be within department policy and state and federal guidelines. Family has filed wrongful death suit. Gurrola left behind a wife and six young children.",
         "Official disposition of death (justified or other)": "Justified",
         "Criminal Charges?": "No known charges",
         "Link to news article or photo of official document": "http://www.bakersfieldcalifornian.com/local/breaking-news/x837004059/Review-Board-Officers-actions-within-department-policy-in-fatal-Jan-1-shooting",
         "Symptoms of mental illness?": "No",
         "Armed/Unarmed Status": "Allegedly Armed",
         "Alleged Weapon (Source: WaPo and Review of Cases Not Included in WaPo Database)": "gun",
         "Alleged Threat Level (Source: WaPo)": "nan",
         "Fleeing (Source: WaPo)": "nan",
         "Body Camera (Source: WaPo)": "nan",
         "WaPo ID (If included in WaPo database)": "nan",
         "Off-Duty Killing?": "nan",
         "Geography (via Trulia methodology based on zipcode population density: http://jedkolko.com/wp-content/uploads/2015/05/full-ZCTA-urban-suburban-rural-classification.xlsx )": "Urban",
         "MPV ID": 3,
         "Fatal Encounters ID": 12174,
         "Encounter Type (DRAFT)": "nan",
         "Initial Reported Reason for Encounter (DRAFT)": "nan",
         "Names of Officers Involved (DRAFT)": "nan",
         "Race of Officers Involved (DRAFT)": "nan",
         "Known Past Shootings of Officer(s) (DRAFT)": "nan",
         "Call for Service? (DRAFT)": "nan",
         "Unnamed: 35": "nan",
         "Unnamed: 36": "nan",
         "Unnamed: 37": "nan",
         "Unnamed: 38": "nan",
         "Unnamed: 39": "nan",
         "Unnamed: 40": "nan",
         "Unnamed: 41": "nan",
         "Unnamed: 42": "nan",
         "Unnamed: 43": "nan",
         "Unnamed: 44": "nan",
         "Unnamed: 45": "nan",
         "Unnamed: 46": "nan",
         "Unnamed: 47": "nan",
         "Unnamed: 48": "nan",
         "_deepnote_index_column": 9142
        },
        {
         "Victim's name": "Christopher Tavares",
         "Victim's age": 21,
         "Victim's gender": "Male",
         "Victim's race": "Hispanic",
         "URL of image of victim": "http://www.krdo.com/image/view/-/17980228/medRes/1/-/nq7qay/-/Man-Killed-After-Shooting-Pueblo-Police-Officer.jpg",
         "Date of Incident (month/day/year)": "2013-01-01T00:00:00.000000",
         "Street Address of Incident": "Highway 50 and North Elizabeth Street",
         "City": "Pueblo",
         "State": "CO",
         "Zipcode": 81008,
         "County": "Pueblo",
         "Agency responsible for death": "Pueblo Police Department",
         "ORI Agency Identifier (if available)": "CO0510100",
         "Cause of death": "Gunshot",
         "A brief description of the circumstances surrounding the death": "Christopher was with two others in a car. Pueblo police officers attempted to pull them over after reports of gunshots in the area. They did not pull over to the side of the road, but then crashed the car. All three fled on foot. Christopher shot at the officers after getting out of the car, and struck one of them in the shoulder. They found his about an hour later and he did not cooperate with the officers. Police said Tavares was shot and killed after he refused to listen to a detective's commands and tried to flee.",
         "Official disposition of death (justified or other)": "Justified",
         "Criminal Charges?": "No known charges",
         "Link to news article or photo of official document": "http://www.krdo.com/news/Pueblo-Police-shoot-kill-man-suspected-of-shooting-officer/17963954",
         "Symptoms of mental illness?": "No",
         "Armed/Unarmed Status": "Allegedly Armed",
         "Alleged Weapon (Source: WaPo and Review of Cases Not Included in WaPo Database)": "gun",
         "Alleged Threat Level (Source: WaPo)": "nan",
         "Fleeing (Source: WaPo)": "nan",
         "Body Camera (Source: WaPo)": "nan",
         "WaPo ID (If included in WaPo database)": "nan",
         "Off-Duty Killing?": "nan",
         "Geography (via Trulia methodology based on zipcode population density: http://jedkolko.com/wp-content/uploads/2015/05/full-ZCTA-urban-suburban-rural-classification.xlsx )": "Suburban",
         "MPV ID": 4,
         "Fatal Encounters ID": 12176,
         "Encounter Type (DRAFT)": "nan",
         "Initial Reported Reason for Encounter (DRAFT)": "nan",
         "Names of Officers Involved (DRAFT)": "nan",
         "Race of Officers Involved (DRAFT)": "nan",
         "Known Past Shootings of Officer(s) (DRAFT)": "nan",
         "Call for Service? (DRAFT)": "nan",
         "Unnamed: 35": "nan",
         "Unnamed: 36": "nan",
         "Unnamed: 37": "nan",
         "Unnamed: 38": "nan",
         "Unnamed: 39": "nan",
         "Unnamed: 40": "nan",
         "Unnamed: 41": "nan",
         "Unnamed: 42": "nan",
         "Unnamed: 43": "nan",
         "Unnamed: 44": "nan",
         "Unnamed: 45": "nan",
         "Unnamed: 46": "nan",
         "Unnamed: 47": "nan",
         "Unnamed: 48": "nan",
         "_deepnote_index_column": 9143
        },
        {
         "Victim's name": "Mark Chavez",
         "Victim's age": 49,
         "Victim's gender": "Male",
         "Victim's race": "Hispanic",
         "URL of image of victim": "http://www.tricitytribuneusa.com/wp-content/uploads/Chavez_Mug0642-300x300.jpg",
         "Date of Incident (month/day/year)": "2013-01-01T00:00:00.000000",
         "Street Address of Incident": "912 Loma Linda Ave.",
         "City": "Farmington",
         "State": "NM",
         "Zipcode": 87401,
         "County": "San Juan",
         "Agency responsible for death": "Farmington Police Department",
         "ORI Agency Identifier (if available)": "NM0240200",
         "Cause of death": "Gunshot",
         "A brief description of the circumstances surrounding the death": "An officer responded to a report by Chavez that he had killed a woman. Chavez aggressively approached the officer with a blunt impact weapon. The officer used a Taser, which was ineffective. The officer then shot Chavez in the leg and torso. Chavez died at a local hospital. Investigators could not find evidence of a woman having been killed and suspect that Chavez made the call to lure police to his residence.",
         "Official disposition of death (justified or other)": "Unreported",
         "Criminal Charges?": "No known charges",
         "Link to news article or photo of official document": "http://www.daily-times.com/farmington-news/ci_22299125/farmington-officer-who-shot-killed-man-has-history?source=email",
         "Symptoms of mental illness?": "No",
         "Armed/Unarmed Status": "Allegedly Armed",
         "Alleged Weapon (Source: WaPo and Review of Cases Not Included in WaPo Database)": "blunt weapon",
         "Alleged Threat Level (Source: WaPo)": "nan",
         "Fleeing (Source: WaPo)": "nan",
         "Body Camera (Source: WaPo)": "nan",
         "WaPo ID (If included in WaPo database)": "nan",
         "Off-Duty Killing?": "nan",
         "Geography (via Trulia methodology based on zipcode population density: http://jedkolko.com/wp-content/uploads/2015/05/full-ZCTA-urban-suburban-rural-classification.xlsx )": "Urban",
         "MPV ID": 1,
         "Fatal Encounters ID": 12175,
         "Encounter Type (DRAFT)": "nan",
         "Initial Reported Reason for Encounter (DRAFT)": "nan",
         "Names of Officers Involved (DRAFT)": "nan",
         "Race of Officers Involved (DRAFT)": "nan",
         "Known Past Shootings of Officer(s) (DRAFT)": "nan",
         "Call for Service? (DRAFT)": "nan",
         "Unnamed: 35": "nan",
         "Unnamed: 36": "nan",
         "Unnamed: 37": "nan",
         "Unnamed: 38": "nan",
         "Unnamed: 39": "nan",
         "Unnamed: 40": "nan",
         "Unnamed: 41": "nan",
         "Unnamed: 42": "nan",
         "Unnamed: 43": "nan",
         "Unnamed: 44": "nan",
         "Unnamed: 45": "nan",
         "Unnamed: 46": "nan",
         "Unnamed: 47": "nan",
         "Unnamed: 48": "nan",
         "_deepnote_index_column": 9144
        },
        {
         "Victim's name": "Andrew L. Closson",
         "Victim's age": 21,
         "Victim's gender": "Male",
         "Victim's race": "White",
         "URL of image of victim": "http://www.superiortelegram.com/sites/default/files/styles/full_1000/public/fieldimages/30/obits/1205/andrewclosson.jpg?itok=UeptfkX5",
         "Date of Incident (month/day/year)": "2013-01-01T00:00:00.000000",
         "Street Address of Incident": "U.S. Highway 53",
         "City": "Gordon",
         "State": "WI",
         "Zipcode": 54838,
         "County": "Douglas",
         "Agency responsible for death": "Douglas County Sheriff's Office",
         "ORI Agency Identifier (if available)": "WI0160000",
         "Cause of death": "Gunshot",
         "A brief description of the circumstances surrounding the death": "Deputies responded to a 911 call of shots fired in the suspect's home. They set up a perimeter, however the suspect was able to escape through the back of the house. Lt. Christopher Hoyt, driving to the scene, saw a man hitchhiking on the northbound shoulder of U.S. Highway 53 just north of Gordon. Hoyt turned on lights, exited the vehicle, drew his weapon, and demanded suspect show his hands. Andrew Closson allegedly raised a long gun by his leg, pointing it at the deputy. Hoyt shot three times, killing Closson. Shooting was deemed justified by Douglas County District Attorney Dan Blank.",
         "Official disposition of death (justified or other)": "Justified",
         "Criminal Charges?": "No known charges",
         "Link to news article or photo of official document": "http://www.superiortelegram.com/content/deputy-cleared-new-years-shooting",
         "Symptoms of mental illness?": "Drug or alcohol use",
         "Armed/Unarmed Status": "Allegedly Armed",
         "Alleged Weapon (Source: WaPo and Review of Cases Not Included in WaPo Database)": "gun",
         "Alleged Threat Level (Source: WaPo)": "nan",
         "Fleeing (Source: WaPo)": "nan",
         "Body Camera (Source: WaPo)": "nan",
         "WaPo ID (If included in WaPo database)": "nan",
         "Off-Duty Killing?": "nan",
         "Geography (via Trulia methodology based on zipcode population density: http://jedkolko.com/wp-content/uploads/2015/05/full-ZCTA-urban-suburban-rural-classification.xlsx )": "Rural",
         "MPV ID": 5,
         "Fatal Encounters ID": 12172,
         "Encounter Type (DRAFT)": "nan",
         "Initial Reported Reason for Encounter (DRAFT)": "nan",
         "Names of Officers Involved (DRAFT)": "nan",
         "Race of Officers Involved (DRAFT)": "nan",
         "Known Past Shootings of Officer(s) (DRAFT)": "nan",
         "Call for Service? (DRAFT)": "nan",
         "Unnamed: 35": "nan",
         "Unnamed: 36": "nan",
         "Unnamed: 37": "nan",
         "Unnamed: 38": "nan",
         "Unnamed: 39": "nan",
         "Unnamed: 40": "nan",
         "Unnamed: 41": "nan",
         "Unnamed: 42": "nan",
         "Unnamed: 43": "nan",
         "Unnamed: 44": "nan",
         "Unnamed: 45": "nan",
         "Unnamed: 46": "nan",
         "Unnamed: 47": "nan",
         "Unnamed: 48": "nan",
         "_deepnote_index_column": 9145
        },
        {
         "Victim's name": "Andrew Layton",
         "Victim's age": 26,
         "Victim's gender": "Male",
         "Victim's race": "White",
         "URL of image of victim": "http://bloximages.chicago2.vip.townnews.com/mankatofreepress.com/content/tncms/assets/v3/editorial/b/b8/bb88d269-74de-5761-bb54-ed38bbea3b58/54055cc8c004e.image.jpg",
         "Date of Incident (month/day/year)": "2013-01-01T00:00:00.000000",
         "Street Address of Incident": "410 S Riverfront Drive",
         "City": "Mankato",
         "State": "MN",
         "Zipcode": 56001,
         "County": "Blue Earth",
         "Agency responsible for death": "Mankato Department of Public Safety",
         "ORI Agency Identifier (if available)": "MN0070100",
         "Cause of death": "Taser",
         "A brief description of the circumstances surrounding the death": "Former combat medic Layton was found unconscious at 4:45 a.m. on New Year's Day in the entryway of a grocery store. Combative and resistive to officers rousing him, he was tasered twice, which stopped his heart. He was revived but lapsed into coma and died five days later. Friends held that he'd been injured in a fight; police refused to be open about details.",
         "Official disposition of death (justified or other)": "Unreported",
         "Criminal Charges?": "No known charges",
         "Link to news article or photo of official document": "http://www.tmcnet.com/usubmit/2013/02/21/6938855.htm; http://www.mankatofreepress.com/news/local_news/north-mankato-man-tasered-by-police-before-death-mankato-city/article_a7b201ba-6abe-5ed4-8fb6-2dd122f64c80.html",
         "Symptoms of mental illness?": "No",
         "Armed/Unarmed Status": "Unarmed/Did Not Have Actual Weapon",
         "Alleged Weapon (Source: WaPo and Review of Cases Not Included in WaPo Database)": "no object",
         "Alleged Threat Level (Source: WaPo)": "nan",
         "Fleeing (Source: WaPo)": "nan",
         "Body Camera (Source: WaPo)": "nan",
         "WaPo ID (If included in WaPo database)": "nan",
         "Off-Duty Killing?": "nan",
         "Geography (via Trulia methodology based on zipcode population density: http://jedkolko.com/wp-content/uploads/2015/05/full-ZCTA-urban-suburban-rural-classification.xlsx )": "Suburban",
         "MPV ID": 6,
         "Fatal Encounters ID": 12171,
         "Encounter Type (DRAFT)": "nan",
         "Initial Reported Reason for Encounter (DRAFT)": "nan",
         "Names of Officers Involved (DRAFT)": "nan",
         "Race of Officers Involved (DRAFT)": "nan",
         "Known Past Shootings of Officer(s) (DRAFT)": "nan",
         "Call for Service? (DRAFT)": "nan",
         "Unnamed: 35": "nan",
         "Unnamed: 36": "nan",
         "Unnamed: 37": "nan",
         "Unnamed: 38": "nan",
         "Unnamed: 39": "nan",
         "Unnamed: 40": "nan",
         "Unnamed: 41": "nan",
         "Unnamed: 42": "nan",
         "Unnamed: 43": "nan",
         "Unnamed: 44": "nan",
         "Unnamed: 45": "nan",
         "Unnamed: 46": "nan",
         "Unnamed: 47": "nan",
         "Unnamed: 48": "nan",
         "_deepnote_index_column": 9146
        }
       ]
      },
      "text/plain": "                Victim's name Victim's age Victim's gender Victim's race  \\\n0                Kalon Horton           29            Male         Black   \n1     Name withheld by police          NaN            Male  Unknown Race   \n2         Jeffrey Mark Murray           62            Male  Unknown Race   \n3               Everton Brown           56            Male  Unknown Race   \n4         Felix Jerry Marquez           34            Male      Hispanic   \n...                       ...          ...             ...           ...   \n9142             Abel Gurrola           26            Male      Hispanic   \n9143      Christopher Tavares           21            Male      Hispanic   \n9144              Mark Chavez           49            Male      Hispanic   \n9145        Andrew L. Closson           21            Male         White   \n9146            Andrew Layton           26            Male         White   \n\n                                 URL of image of victim  \\\n0                                                   NaN   \n1                                                   NaN   \n2                                                   NaN   \n3                                                   NaN   \n4                                                   NaN   \n...                                                 ...   \n9142  http://www.bakersfieldnow.com/news/local/A-26-...   \n9143  http://www.krdo.com/image/view/-/17980228/medR...   \n9144  http://www.tricitytribuneusa.com/wp-content/up...   \n9145  http://www.superiortelegram.com/sites/default/...   \n9146  http://bloximages.chicago2.vip.townnews.com/ma...   \n\n     Date of Incident (month/day/year)             Street Address of Incident  \\\n0                           2021-05-09                                    NaN   \n1                           2021-05-09                         90 S. Main St.   \n2                           2021-05-09                                    NaN   \n3                           2021-05-08                                    NaN   \n4                           2021-05-08                                    NaN   \n...                                ...                                    ...   \n9142                        2013-01-01                        720 Terrace Way   \n9143                        2013-01-01  Highway 50 and North Elizabeth Street   \n9144                        2013-01-01                    912 Loma Linda Ave.   \n9145                        2013-01-01                        U.S. Highway 53   \n9146                        2013-01-01                 410 S Riverfront Drive   \n\n             City State  Zipcode  ... Unnamed: 39 Unnamed: 40 Unnamed: 41  \\\n0       Lancaster    TX      NaN  ...         NaN         NaN         NaN   \n1       Leicester    MA   1524.0  ...         NaN         NaN         NaN   \n2      Greenville    SC      NaN  ...         NaN         NaN         NaN   \n3       Baltimore    MD      NaN  ...         NaN         NaN         NaN   \n4       Riverside    CA      NaN  ...         NaN         NaN         NaN   \n...           ...   ...      ...  ...         ...         ...         ...   \n9142  Bakersfield    CA  93304.0  ...         NaN         NaN         NaN   \n9143       Pueblo    CO  81008.0  ...         NaN         NaN         NaN   \n9144   Farmington    NM  87401.0  ...         NaN         NaN         NaN   \n9145       Gordon    WI  54838.0  ...         NaN         NaN         NaN   \n9146      Mankato    MN  56001.0  ...         NaN         NaN         NaN   \n\n     Unnamed: 42 Unnamed: 43 Unnamed: 44 Unnamed: 45 Unnamed: 46 Unnamed: 47  \\\n0            NaN         NaN         NaN         NaN         NaN         NaN   \n1            NaN         NaN         NaN         NaN         NaN         NaN   \n2            NaN         NaN         NaN         NaN         NaN         NaN   \n3            NaN         NaN         NaN         NaN         NaN         NaN   \n4            NaN         NaN         NaN         NaN         NaN         NaN   \n...          ...         ...         ...         ...         ...         ...   \n9142         NaN         NaN         NaN         NaN         NaN         NaN   \n9143         NaN         NaN         NaN         NaN         NaN         NaN   \n9144         NaN         NaN         NaN         NaN         NaN         NaN   \n9145         NaN         NaN         NaN         NaN         NaN         NaN   \n9146         NaN         NaN         NaN         NaN         NaN         NaN   \n\n     Unnamed: 48  \n0            NaN  \n1            NaN  \n2            NaN  \n3            NaN  \n4            NaN  \n...          ...  \n9142         NaN  \n9143         NaN  \n9144         NaN  \n9145         NaN  \n9146         NaN  \n\n[9147 rows x 49 columns]",
      "text/html": "<div>\n<style scoped>\n    .dataframe tbody tr th:only-of-type {\n        vertical-align: middle;\n    }\n\n    .dataframe tbody tr th {\n        vertical-align: top;\n    }\n\n    .dataframe thead th {\n        text-align: right;\n    }\n</style>\n<table border=\"1\" class=\"dataframe\">\n  <thead>\n    <tr style=\"text-align: right;\">\n      <th></th>\n      <th>Victim's name</th>\n      <th>Victim's age</th>\n      <th>Victim's gender</th>\n      <th>Victim's race</th>\n      <th>URL of image of victim</th>\n      <th>Date of Incident (month/day/year)</th>\n      <th>Street Address of Incident</th>\n      <th>City</th>\n      <th>State</th>\n      <th>Zipcode</th>\n      <th>...</th>\n      <th>Unnamed: 39</th>\n      <th>Unnamed: 40</th>\n      <th>Unnamed: 41</th>\n      <th>Unnamed: 42</th>\n      <th>Unnamed: 43</th>\n      <th>Unnamed: 44</th>\n      <th>Unnamed: 45</th>\n      <th>Unnamed: 46</th>\n      <th>Unnamed: 47</th>\n      <th>Unnamed: 48</th>\n    </tr>\n  </thead>\n  <tbody>\n    <tr>\n      <th>0</th>\n      <td>Kalon Horton</td>\n      <td>29</td>\n      <td>Male</td>\n      <td>Black</td>\n      <td>NaN</td>\n      <td>2021-05-09</td>\n      <td>NaN</td>\n      <td>Lancaster</td>\n      <td>TX</td>\n      <td>NaN</td>\n      <td>...</td>\n      <td>NaN</td>\n      <td>NaN</td>\n      <td>NaN</td>\n      <td>NaN</td>\n      <td>NaN</td>\n      <td>NaN</td>\n      <td>NaN</td>\n      <td>NaN</td>\n      <td>NaN</td>\n      <td>NaN</td>\n    </tr>\n    <tr>\n      <th>1</th>\n      <td>Name withheld by police</td>\n      <td>NaN</td>\n      <td>Male</td>\n      <td>Unknown Race</td>\n      <td>NaN</td>\n      <td>2021-05-09</td>\n      <td>90 S. Main St.</td>\n      <td>Leicester</td>\n      <td>MA</td>\n      <td>1524.0</td>\n      <td>...</td>\n      <td>NaN</td>\n      <td>NaN</td>\n      <td>NaN</td>\n      <td>NaN</td>\n      <td>NaN</td>\n      <td>NaN</td>\n      <td>NaN</td>\n      <td>NaN</td>\n      <td>NaN</td>\n      <td>NaN</td>\n    </tr>\n    <tr>\n      <th>2</th>\n      <td>Jeffrey Mark Murray</td>\n      <td>62</td>\n      <td>Male</td>\n      <td>Unknown Race</td>\n      <td>NaN</td>\n      <td>2021-05-09</td>\n      <td>NaN</td>\n      <td>Greenville</td>\n      <td>SC</td>\n      <td>NaN</td>\n      <td>...</td>\n      <td>NaN</td>\n      <td>NaN</td>\n      <td>NaN</td>\n      <td>NaN</td>\n      <td>NaN</td>\n      <td>NaN</td>\n      <td>NaN</td>\n      <td>NaN</td>\n      <td>NaN</td>\n      <td>NaN</td>\n    </tr>\n    <tr>\n      <th>3</th>\n      <td>Everton Brown</td>\n      <td>56</td>\n      <td>Male</td>\n      <td>Unknown Race</td>\n      <td>NaN</td>\n      <td>2021-05-08</td>\n      <td>NaN</td>\n      <td>Baltimore</td>\n      <td>MD</td>\n      <td>NaN</td>\n      <td>...</td>\n      <td>NaN</td>\n      <td>NaN</td>\n      <td>NaN</td>\n      <td>NaN</td>\n      <td>NaN</td>\n      <td>NaN</td>\n      <td>NaN</td>\n      <td>NaN</td>\n      <td>NaN</td>\n      <td>NaN</td>\n    </tr>\n    <tr>\n      <th>4</th>\n      <td>Felix Jerry Marquez</td>\n      <td>34</td>\n      <td>Male</td>\n      <td>Hispanic</td>\n      <td>NaN</td>\n      <td>2021-05-08</td>\n      <td>NaN</td>\n      <td>Riverside</td>\n      <td>CA</td>\n      <td>NaN</td>\n      <td>...</td>\n      <td>NaN</td>\n      <td>NaN</td>\n      <td>NaN</td>\n      <td>NaN</td>\n      <td>NaN</td>\n      <td>NaN</td>\n      <td>NaN</td>\n      <td>NaN</td>\n      <td>NaN</td>\n      <td>NaN</td>\n    </tr>\n    <tr>\n      <th>...</th>\n      <td>...</td>\n      <td>...</td>\n      <td>...</td>\n      <td>...</td>\n      <td>...</td>\n      <td>...</td>\n      <td>...</td>\n      <td>...</td>\n      <td>...</td>\n      <td>...</td>\n      <td>...</td>\n      <td>...</td>\n      <td>...</td>\n      <td>...</td>\n      <td>...</td>\n      <td>...</td>\n      <td>...</td>\n      <td>...</td>\n      <td>...</td>\n      <td>...</td>\n      <td>...</td>\n    </tr>\n    <tr>\n      <th>9142</th>\n      <td>Abel Gurrola</td>\n      <td>26</td>\n      <td>Male</td>\n      <td>Hispanic</td>\n      <td>http://www.bakersfieldnow.com/news/local/A-26-...</td>\n      <td>2013-01-01</td>\n      <td>720 Terrace Way</td>\n      <td>Bakersfield</td>\n      <td>CA</td>\n      <td>93304.0</td>\n      <td>...</td>\n      <td>NaN</td>\n      <td>NaN</td>\n      <td>NaN</td>\n      <td>NaN</td>\n      <td>NaN</td>\n      <td>NaN</td>\n      <td>NaN</td>\n      <td>NaN</td>\n      <td>NaN</td>\n      <td>NaN</td>\n    </tr>\n    <tr>\n      <th>9143</th>\n      <td>Christopher Tavares</td>\n      <td>21</td>\n      <td>Male</td>\n      <td>Hispanic</td>\n      <td>http://www.krdo.com/image/view/-/17980228/medR...</td>\n      <td>2013-01-01</td>\n      <td>Highway 50 and North Elizabeth Street</td>\n      <td>Pueblo</td>\n      <td>CO</td>\n      <td>81008.0</td>\n      <td>...</td>\n      <td>NaN</td>\n      <td>NaN</td>\n      <td>NaN</td>\n      <td>NaN</td>\n      <td>NaN</td>\n      <td>NaN</td>\n      <td>NaN</td>\n      <td>NaN</td>\n      <td>NaN</td>\n      <td>NaN</td>\n    </tr>\n    <tr>\n      <th>9144</th>\n      <td>Mark Chavez</td>\n      <td>49</td>\n      <td>Male</td>\n      <td>Hispanic</td>\n      <td>http://www.tricitytribuneusa.com/wp-content/up...</td>\n      <td>2013-01-01</td>\n      <td>912 Loma Linda Ave.</td>\n      <td>Farmington</td>\n      <td>NM</td>\n      <td>87401.0</td>\n      <td>...</td>\n      <td>NaN</td>\n      <td>NaN</td>\n      <td>NaN</td>\n      <td>NaN</td>\n      <td>NaN</td>\n      <td>NaN</td>\n      <td>NaN</td>\n      <td>NaN</td>\n      <td>NaN</td>\n      <td>NaN</td>\n    </tr>\n    <tr>\n      <th>9145</th>\n      <td>Andrew L. Closson</td>\n      <td>21</td>\n      <td>Male</td>\n      <td>White</td>\n      <td>http://www.superiortelegram.com/sites/default/...</td>\n      <td>2013-01-01</td>\n      <td>U.S. Highway 53</td>\n      <td>Gordon</td>\n      <td>WI</td>\n      <td>54838.0</td>\n      <td>...</td>\n      <td>NaN</td>\n      <td>NaN</td>\n      <td>NaN</td>\n      <td>NaN</td>\n      <td>NaN</td>\n      <td>NaN</td>\n      <td>NaN</td>\n      <td>NaN</td>\n      <td>NaN</td>\n      <td>NaN</td>\n    </tr>\n    <tr>\n      <th>9146</th>\n      <td>Andrew Layton</td>\n      <td>26</td>\n      <td>Male</td>\n      <td>White</td>\n      <td>http://bloximages.chicago2.vip.townnews.com/ma...</td>\n      <td>2013-01-01</td>\n      <td>410 S Riverfront Drive</td>\n      <td>Mankato</td>\n      <td>MN</td>\n      <td>56001.0</td>\n      <td>...</td>\n      <td>NaN</td>\n      <td>NaN</td>\n      <td>NaN</td>\n      <td>NaN</td>\n      <td>NaN</td>\n      <td>NaN</td>\n      <td>NaN</td>\n      <td>NaN</td>\n      <td>NaN</td>\n      <td>NaN</td>\n    </tr>\n  </tbody>\n</table>\n<p>9147 rows × 49 columns</p>\n</div>"
     },
     "metadata": {}
    }
   ]
  },
  {
   "cell_type": "code",
   "metadata": {
    "tags": [],
    "cell_id": "00003-e299001d-39f6-4bdd-9ba0-4c56901160d1",
    "deepnote_to_be_reexecuted": false,
    "source_hash": "a89c8f4c",
    "execution_start": 1621539424111,
    "execution_millis": 34,
    "deepnote_cell_type": "code"
   },
   "source": "df_fatal.isnull().sum()",
   "execution_count": null,
   "outputs": [
    {
     "output_type": "execute_result",
     "execution_count": 4,
     "data": {
      "text/plain": "Victim's name                                                                                                                                                                    0\nVictim's age                                                                                                                                                                     9\nVictim's gender                                                                                                                                                                 10\nVictim's race                                                                                                                                                                    0\nURL of image of victim                                                                                                                                                        4265\nDate of Incident (month/day/year)                                                                                                                                                0\nStreet Address of Incident                                                                                                                                                     105\nCity                                                                                                                                                                             9\nState                                                                                                                                                                            0\nZipcode                                                                                                                                                                         48\nCounty                                                                                                                                                                          17\nAgency responsible for death                                                                                                                                                     4\nORI Agency Identifier (if available)                                                                                                                                             3\nCause of death                                                                                                                                                                   0\nA brief description of the circumstances surrounding the death                                                                                                                  15\nOfficial disposition of death (justified or other)                                                                                                                              11\nCriminal Charges?                                                                                                                                                                0\nLink to news article or photo of official document                                                                                                                               0\nSymptoms of mental illness?                                                                                                                                                     61\nArmed/Unarmed Status                                                                                                                                                             0\nAlleged Weapon (Source: WaPo and Review of Cases Not Included in WaPo Database)                                                                                                  0\nAlleged Threat Level (Source: WaPo)                                                                                                                                           2397\nFleeing (Source: WaPo)                                                                                                                                                        3091\nBody Camera (Source: WaPo)                                                                                                                                                    3165\nWaPo ID (If included in WaPo database)                                                                                                                                        3099\nOff-Duty Killing?                                                                                                                                                             8899\nGeography (via Trulia methodology based on zipcode population density: http://jedkolko.com/wp-content/uploads/2015/05/full-ZCTA-urban-suburban-rural-classification.xlsx )      25\nMPV ID                                                                                                                                                                          79\nFatal Encounters ID                                                                                                                                                            131\nEncounter Type (DRAFT)                                                                                                                                                        4308\nInitial Reported Reason for Encounter (DRAFT)                                                                                                                                 4308\nNames of Officers Involved (DRAFT)                                                                                                                                            7753\nRace of Officers Involved (DRAFT)                                                                                                                                             8806\nKnown Past Shootings of Officer(s) (DRAFT)                                                                                                                                    9073\nCall for Service? (DRAFT)                                                                                                                                                     5531\nUnnamed: 35                                                                                                                                                                   9147\nUnnamed: 36                                                                                                                                                                   9147\nUnnamed: 37                                                                                                                                                                   9147\nUnnamed: 38                                                                                                                                                                   9147\nUnnamed: 39                                                                                                                                                                   9147\nUnnamed: 40                                                                                                                                                                   9147\nUnnamed: 41                                                                                                                                                                   9147\nUnnamed: 42                                                                                                                                                                   9147\nUnnamed: 43                                                                                                                                                                   9147\nUnnamed: 44                                                                                                                                                                   9147\nUnnamed: 45                                                                                                                                                                   9147\nUnnamed: 46                                                                                                                                                                   9147\nUnnamed: 47                                                                                                                                                                   9147\nUnnamed: 48                                                                                                                                                                   9147\ndtype: int64"
     },
     "metadata": {}
    }
   ]
  },
  {
   "cell_type": "code",
   "metadata": {
    "tags": [],
    "cell_id": "00004-0933b627-6da2-444d-acb8-e472dddc0849",
    "deepnote_to_be_reexecuted": false,
    "source_hash": "f3ba4767",
    "execution_start": 1621539424140,
    "execution_millis": 0,
    "deepnote_cell_type": "code"
   },
   "source": "useless_columns = df_fatal.columns[35:]",
   "execution_count": null,
   "outputs": []
  },
  {
   "cell_type": "code",
   "metadata": {
    "tags": [],
    "cell_id": "00005-b89f2697-af20-454f-b051-7053b1876207",
    "deepnote_to_be_reexecuted": false,
    "source_hash": "9d35a1f1",
    "execution_start": 1621539424141,
    "execution_millis": 6,
    "deepnote_cell_type": "code"
   },
   "source": "df_fatal.drop(columns=useless_columns, inplace=True)",
   "execution_count": null,
   "outputs": []
  },
  {
   "cell_type": "code",
   "metadata": {
    "tags": [],
    "cell_id": "00006-3608af44-813d-44aa-bd13-6c07da4cbb80",
    "deepnote_to_be_reexecuted": false,
    "source_hash": "a89c8f4c",
    "execution_start": 1621539424164,
    "execution_millis": 11,
    "deepnote_cell_type": "code"
   },
   "source": "df_fatal.isnull().sum()",
   "execution_count": null,
   "outputs": [
    {
     "output_type": "execute_result",
     "execution_count": 7,
     "data": {
      "text/plain": "Victim's name                                                                                                                                                                    0\nVictim's age                                                                                                                                                                     9\nVictim's gender                                                                                                                                                                 10\nVictim's race                                                                                                                                                                    0\nURL of image of victim                                                                                                                                                        4265\nDate of Incident (month/day/year)                                                                                                                                                0\nStreet Address of Incident                                                                                                                                                     105\nCity                                                                                                                                                                             9\nState                                                                                                                                                                            0\nZipcode                                                                                                                                                                         48\nCounty                                                                                                                                                                          17\nAgency responsible for death                                                                                                                                                     4\nORI Agency Identifier (if available)                                                                                                                                             3\nCause of death                                                                                                                                                                   0\nA brief description of the circumstances surrounding the death                                                                                                                  15\nOfficial disposition of death (justified or other)                                                                                                                              11\nCriminal Charges?                                                                                                                                                                0\nLink to news article or photo of official document                                                                                                                               0\nSymptoms of mental illness?                                                                                                                                                     61\nArmed/Unarmed Status                                                                                                                                                             0\nAlleged Weapon (Source: WaPo and Review of Cases Not Included in WaPo Database)                                                                                                  0\nAlleged Threat Level (Source: WaPo)                                                                                                                                           2397\nFleeing (Source: WaPo)                                                                                                                                                        3091\nBody Camera (Source: WaPo)                                                                                                                                                    3165\nWaPo ID (If included in WaPo database)                                                                                                                                        3099\nOff-Duty Killing?                                                                                                                                                             8899\nGeography (via Trulia methodology based on zipcode population density: http://jedkolko.com/wp-content/uploads/2015/05/full-ZCTA-urban-suburban-rural-classification.xlsx )      25\nMPV ID                                                                                                                                                                          79\nFatal Encounters ID                                                                                                                                                            131\nEncounter Type (DRAFT)                                                                                                                                                        4308\nInitial Reported Reason for Encounter (DRAFT)                                                                                                                                 4308\nNames of Officers Involved (DRAFT)                                                                                                                                            7753\nRace of Officers Involved (DRAFT)                                                                                                                                             8806\nKnown Past Shootings of Officer(s) (DRAFT)                                                                                                                                    9073\nCall for Service? (DRAFT)                                                                                                                                                     5531\ndtype: int64"
     },
     "metadata": {}
    }
   ]
  },
  {
   "cell_type": "code",
   "metadata": {
    "tags": [],
    "cell_id": "00007-41b4fd6b-eb83-41cd-bce0-eda0e545b79d",
    "deepnote_to_be_reexecuted": false,
    "source_hash": "fc474bce",
    "execution_start": 1621539424179,
    "execution_millis": 13,
    "deepnote_cell_type": "code"
   },
   "source": "df_fatal['Cause of death'].value_counts()",
   "execution_count": null,
   "outputs": [
    {
     "output_type": "execute_result",
     "execution_count": 8,
     "data": {
      "text/plain": "Gunshot                                    8434\nGunshot, Taser                              273\nTaser                                       250\nVehicle                                      48\nPhysical Restraint                           33\nBeaten                                       31\nTasered                                      21\nPhysical restraint                            9\nAsphyxiated                                   9\nOther                                         6\nGunshot, Police Dog                           5\nGunshot, Pepper Spray                         4\nPepper Spray                                  4\nBean bag                                      2\nTaser, Physical Restraint                     2\nGunshot, Unspecified Less Lethal Weapon       1\nGunshot, Stabbed                              1\nGunshot, Beanbag Gun                          1\nGunshot, Taser, Beanbag Shotgun               1\nBaton, Pepper Spray, Physical Restraint       1\nGunshot, Bean Bag Gun                         1\nChemical agent/Pepper spray                   1\nBomb                                          1\nTaser, Pepper spray, beaten                   1\nGunshot, Taser, Pepper spray                  1\nTaser, Pepper Spray, Beaten                   1\nGunshot, Vehicle                              1\nBeaten/Bludgeoned with instrument             1\nTaser, Beaten                                 1\nGunshot, Taser, Baton                         1\nTaser, Baton                                  1\nName: Cause of death, dtype: int64"
     },
     "metadata": {}
    }
   ]
  },
  {
   "cell_type": "code",
   "metadata": {
    "tags": [],
    "cell_id": "00008-2a623e7f-ff1c-4943-9d48-1eb1f35ab2f7",
    "deepnote_to_be_reexecuted": false,
    "source_hash": "2296368a",
    "execution_start": 1621539424189,
    "execution_millis": 9,
    "deepnote_cell_type": "code"
   },
   "source": "df_fatal['Official disposition of death (justified or other)'].value_counts()\n",
   "execution_count": null,
   "outputs": [
    {
     "output_type": "execute_result",
     "execution_count": 9,
     "data": {
      "text/plain": "Pending investigation/No Known Charges                                                                                                   4852\nUnreported                                                                                                                               1223\nPending investigation                                                                                                                    1087\nJustified                                                                                                                                 651\nJustified by District Attorney                                                                                                            350\n                                                                                                                                         ... \nCharged, Convicted of murder, Sentenced to 10 years in prison                                                                               1\nCharged, Convicted of felony murder, Sentenced to life without parole, plus 16 years                                                        1\nMurder / Suicide                                                                                                                            1\nJustified; New York State Police investigation; Schwalm's brother offered condolences to the deputy because of his brother's illness.       1\nJustified/Civil suit/Family awarded money                                                                                                   1\nName: Official disposition of death (justified or other), Length: 154, dtype: int64"
     },
     "metadata": {}
    }
   ]
  },
  {
   "cell_type": "code",
   "metadata": {
    "tags": [],
    "cell_id": "00009-973a49b2-f306-4133-a7db-40e75a3e0095",
    "deepnote_to_be_reexecuted": false,
    "source_hash": "8c72a9c4",
    "execution_start": 1621539424196,
    "execution_millis": 11,
    "deepnote_cell_type": "code"
   },
   "source": "df_fatal['Criminal Charges?'].value_counts()",
   "execution_count": null,
   "outputs": [
    {
     "output_type": "execute_result",
     "execution_count": 10,
     "data": {
      "text/plain": "No known charges                                                                 8993\nCharged with a crime                                                               67\nCharged, Acquitted                                                                 32\nCharged, Charges Dropped                                                            7\nCharged, Mistrial                                                                   6\nCharged, Convicted                                                                  5\nCharged, Convicted, Sentenced to life in prison                                     2\nCharged, Convicted, Sentenced to 30 years in prison                                 2\nCharged, Convicted, Sentenced to 5 years probation.                                 2\nCharged, Convicted, Sentenced to 10 years in prison                                 2\nCharged, Convicted, Sentenced to Life in Prison                                     1\nCharged, Convicted, Sentenced to life in prison without parole, plus 16 years       1\nCharged, Convicted of assault                                                       1\nCharged, Convicted, Sentenced to 6 years                                            1\nCharged, Convicted, Sentenced to 4 years                                            1\nCharged, Plead Guilty to Manslaughter, Sentenced to 5 years in prison               1\nCharged, Convicted, Sentenced to 20 years in prison                                 1\nCharged, Convicted, Sentenced to 1 year in prison                                   1\nCharged, Convicted, Sentenced to 12 years in prison and 8 years in probation        1\nCharged, Convicted, Sentenced to 1 year in jail, 3 years suspended                  1\nCharged, Convicted, Sentenced to 7 years in prison                                  1\nCharged, Convicted, Sentenced to 40 years to Life in prison                         1\nCharged, Convicted, Sentenced to 1 year in prison and 4 years probation             1\nCharged, Convicted, Sentenced to 40 years in prison                                 1\nCharged, Convicted, Sentenced to 10 Years of Prison                                 1\nCharged, Convicted, Sentenced to 5 years in prison                                  1\nCharged, Convicted, Sentenced to 16 years in prison                                 1\nCharged, Convicted of reckless homicide, sentenced to 1 year in prison              1\nCharged, Plead No Contest, Sentenced to 10 years probation                          1\nCharged, Convicted, Sentenced to 6 years in prison                                  1\nCharged, Convicted, Sentenced to 3 years probation                                  1\nCharged, Mistrial, Plead Guilty to Civil Rights Charges                             1\nCharged, Mistrial, Plead Guilty to Manslaughter                                     1\nCharged, Convicted, Sentenced to 18 months                                          1\nCharged, Convicted, Sentenced to 50 years                                           1\nCharged, Convicted, Sentenced to 25 years in prison                                 1\nCharged, Convicted, Sentenced to 14 years in prison                                 1\nCharged, Convicted, Sentenced to 3 months in jail                                   1\nCharged, Convicted, Sentenced to 2.5 years in prison                                1\nName: Criminal Charges?, dtype: int64"
     },
     "metadata": {}
    }
   ]
  },
  {
   "cell_type": "code",
   "metadata": {
    "tags": [],
    "cell_id": "00010-01b8ce66-8e92-4f3c-9908-eb756654cc25",
    "deepnote_to_be_reexecuted": false,
    "source_hash": "9884a3aa",
    "execution_start": 1621539424208,
    "execution_millis": 8,
    "deepnote_cell_type": "code"
   },
   "source": "df_fatal['Body Camera (Source: WaPo)'].value_counts()",
   "execution_count": null,
   "outputs": [
    {
     "output_type": "execute_result",
     "execution_count": 11,
     "data": {
      "text/plain": "No                    5044\nYes                    615\nno                     261\nyes                     46\nSurveillance Video       5\nBystander Video          4\nSurveillance video       2\nDashcam Video            2\nsurveillance video       1\nDashcam video            1\ncell phone video         1\nName: Body Camera (Source: WaPo), dtype: int64"
     },
     "metadata": {}
    }
   ]
  },
  {
   "cell_type": "code",
   "metadata": {
    "tags": [],
    "cell_id": "00011-e338fd56-cc5c-46db-b0f2-9951fe65fe20",
    "deepnote_to_be_reexecuted": false,
    "source_hash": "92f04cf0",
    "execution_start": 1621539424220,
    "execution_millis": 12,
    "deepnote_cell_type": "code"
   },
   "source": "df_fatal['Known Past Shootings of Officer(s) (DRAFT)'].value_counts()",
   "execution_count": null,
   "outputs": [
    {
     "output_type": "execute_result",
     "execution_count": 12,
     "data": {
      "text/plain": "1       50\n2       11\n3        5\nNone     5\n4        2\nNo       1\nName: Known Past Shootings of Officer(s) (DRAFT), dtype: int64"
     },
     "metadata": {}
    }
   ]
  },
  {
   "cell_type": "code",
   "metadata": {
    "tags": [],
    "cell_id": "00012-45da63d1-fa4f-4325-aa2b-e69f723c90d4",
    "deepnote_to_be_reexecuted": false,
    "source_hash": "fad168a5",
    "execution_start": 1621539424227,
    "execution_millis": 82,
    "deepnote_cell_type": "code"
   },
   "source": "df_fatal[df_fatal['Known Past Shootings of Officer(s) (DRAFT)'] == 4]",
   "execution_count": null,
   "outputs": [
    {
     "output_type": "execute_result",
     "execution_count": 13,
     "data": {
      "application/vnd.deepnote.dataframe.v2+json": {
       "row_count": 2,
       "column_count": 35,
       "columns": [
        {
         "name": "Victim's name",
         "dtype": "object",
         "stats": {
          "unique_count": 2,
          "nan_count": 0,
          "categories": [
           {
            "name": "Leah Baker",
            "count": 1
           },
           {
            "name": "Mark Powell",
            "count": 1
           }
          ]
         }
        },
        {
         "name": "Victim's age",
         "dtype": "object",
         "stats": {
          "unique_count": 2,
          "nan_count": 0,
          "categories": [
           {
            "name": "29",
            "count": 1
           },
           {
            "name": "39",
            "count": 1
           }
          ]
         }
        },
        {
         "name": "Victim's gender",
         "dtype": "object",
         "stats": {
          "unique_count": 2,
          "nan_count": 0,
          "categories": [
           {
            "name": "Female",
            "count": 1
           },
           {
            "name": "Male",
            "count": 1
           }
          ]
         }
        },
        {
         "name": "Victim's race",
         "dtype": "object",
         "stats": {
          "unique_count": 2,
          "nan_count": 0,
          "categories": [
           {
            "name": "White",
            "count": 1
           },
           {
            "name": "Unknown Race",
            "count": 1
           }
          ]
         }
        },
        {
         "name": "URL of image of victim",
         "dtype": "object",
         "stats": {
          "unique_count": 0,
          "nan_count": 2,
          "categories": [
           {
            "name": "Missing",
            "count": 2
           }
          ]
         }
        },
        {
         "name": "Date of Incident (month/day/year)",
         "dtype": "datetime64[ns]",
         "stats": {
          "unique_count": 2,
          "nan_count": 0,
          "min": "2018-04-10 00:00:00",
          "max": "2020-04-11 00:00:00",
          "histogram": [
           {
            "bin_start": 1523318400000000000,
            "bin_end": 1529642880000000000,
            "count": 1
           },
           {
            "bin_start": 1529642880000000000,
            "bin_end": 1535967360000000000,
            "count": 0
           },
           {
            "bin_start": 1535967360000000000,
            "bin_end": 1542291840000000000,
            "count": 0
           },
           {
            "bin_start": 1542291840000000000,
            "bin_end": 1548616320000000000,
            "count": 0
           },
           {
            "bin_start": 1548616320000000000,
            "bin_end": 1554940800000000000,
            "count": 0
           },
           {
            "bin_start": 1554940800000000000,
            "bin_end": 1561265280000000000,
            "count": 0
           },
           {
            "bin_start": 1561265280000000000,
            "bin_end": 1567589760000000000,
            "count": 0
           },
           {
            "bin_start": 1567589760000000000,
            "bin_end": 1573914240000000000,
            "count": 0
           },
           {
            "bin_start": 1573914240000000000,
            "bin_end": 1580238720000000000,
            "count": 0
           },
           {
            "bin_start": 1580238720000000000,
            "bin_end": 1586563200000000000,
            "count": 1
           }
          ]
         }
        },
        {
         "name": "Street Address of Incident",
         "dtype": "object",
         "stats": {
          "unique_count": 2,
          "nan_count": 0,
          "categories": [
           {
            "name": "1300 Golfair Boulevard",
            "count": 1
           },
           {
            "name": "850 E Fort Lowell Rd",
            "count": 1
           }
          ]
         }
        },
        {
         "name": "City",
         "dtype": "object",
         "stats": {
          "unique_count": 2,
          "nan_count": 0,
          "categories": [
           {
            "name": "Jacksonville",
            "count": 1
           },
           {
            "name": "Tucson",
            "count": 1
           }
          ]
         }
        },
        {
         "name": "State",
         "dtype": "object",
         "stats": {
          "unique_count": 2,
          "nan_count": 0,
          "categories": [
           {
            "name": "FL",
            "count": 1
           },
           {
            "name": "AZ",
            "count": 1
           }
          ]
         }
        },
        {
         "name": "Zipcode",
         "dtype": "float64",
         "stats": {
          "unique_count": 2,
          "nan_count": 0,
          "min": "32209.0",
          "max": "85719.0",
          "histogram": [
           {
            "bin_start": 32209,
            "bin_end": 37560,
            "count": 1
           },
           {
            "bin_start": 37560,
            "bin_end": 42911,
            "count": 0
           },
           {
            "bin_start": 42911,
            "bin_end": 48262,
            "count": 0
           },
           {
            "bin_start": 48262,
            "bin_end": 53613,
            "count": 0
           },
           {
            "bin_start": 53613,
            "bin_end": 58964,
            "count": 0
           },
           {
            "bin_start": 58964,
            "bin_end": 64315,
            "count": 0
           },
           {
            "bin_start": 64315,
            "bin_end": 69666,
            "count": 0
           },
           {
            "bin_start": 69666,
            "bin_end": 75017,
            "count": 0
           },
           {
            "bin_start": 75017,
            "bin_end": 80368,
            "count": 0
           },
           {
            "bin_start": 80368,
            "bin_end": 85719,
            "count": 1
           }
          ]
         }
        },
        {
         "name": "County",
         "dtype": "object",
         "stats": {
          "unique_count": 2,
          "nan_count": 0,
          "categories": [
           {
            "name": "Duval",
            "count": 1
           },
           {
            "name": "Pima",
            "count": 1
           }
          ]
         }
        },
        {
         "name": "Agency responsible for death",
         "dtype": "object",
         "stats": {
          "unique_count": 2,
          "nan_count": 0,
          "categories": [
           {
            "name": "Jacksonville Sheriff's Office",
            "count": 1
           },
           {
            "name": "Tucson Police Department",
            "count": 1
           }
          ]
         }
        },
        {
         "name": "ORI Agency Identifier (if available)",
         "dtype": "object",
         "stats": {
          "unique_count": 2,
          "nan_count": 0,
          "categories": [
           {
            "name": "FL0162400",
            "count": 1
           },
           {
            "name": "AZ0100300",
            "count": 1
           }
          ]
         }
        },
        {
         "name": "Cause of death",
         "dtype": "object",
         "stats": {
          "unique_count": 1,
          "nan_count": 0,
          "categories": [
           {
            "name": "Gunshot",
            "count": 2
           }
          ]
         }
        },
        {
         "name": "A brief description of the circumstances surrounding the death",
         "dtype": "object",
         "stats": {
          "unique_count": 2,
          "nan_count": 0,
          "categories": [
           {
            "name": "Officer E. Meckling responded to dispute between several people over medicine. Leah Baker reportedly swung a butcher knife at Meckling, cutting her. Two other officers shot and killed Leah Baker, who they said wouldn't follow commands and charged them.",
            "count": 1
           },
           {
            "name": "Two officers arrived at a check-cashing business after a report that it was being robbed, police said. Soon after the officer arrived, a man armed with a gun walked out of the business. The man allegedly ignored commands to drop the weapon and was shot and killed.",
            "count": 1
           }
          ]
         }
        },
        {
         "name": "Official disposition of death (justified or other)",
         "dtype": "object",
         "stats": {
          "unique_count": 1,
          "nan_count": 0,
          "categories": [
           {
            "name": "Pending investigation/No Known Charges",
            "count": 2
           }
          ]
         }
        },
        {
         "name": "Criminal Charges?",
         "dtype": "object",
         "stats": {
          "unique_count": 1,
          "nan_count": 0,
          "categories": [
           {
            "name": "No known charges",
            "count": 2
           }
          ]
         }
        },
        {
         "name": "Link to news article or photo of official document",
         "dtype": "object",
         "stats": {
          "unique_count": 2,
          "nan_count": 0,
          "categories": [
           {
            "name": "https://www.news4jax.com/news/local/2020/04/11/officer-injured-in-northwest-jacksonville-shooting-suspect-taken-to-hospital/",
            "count": 1
           },
           {
            "name": "http://tucson.com/news/local/man-dies-after-being-shot-by-tucson-police-officer-answering/article_f8975480-3cdd-11e8-a4c5-c3f92581fb2d.html",
            "count": 1
           }
          ]
         }
        },
        {
         "name": "Symptoms of mental illness?",
         "dtype": "object",
         "stats": {
          "unique_count": 1,
          "nan_count": 0,
          "categories": [
           {
            "name": "No",
            "count": 2
           }
          ]
         }
        },
        {
         "name": "Armed/Unarmed Status",
         "dtype": "object",
         "stats": {
          "unique_count": 1,
          "nan_count": 0,
          "categories": [
           {
            "name": "Allegedly Armed",
            "count": 2
           }
          ]
         }
        },
        {
         "name": "Alleged Weapon (Source: WaPo and Review of Cases Not Included in WaPo Database)",
         "dtype": "object",
         "stats": {
          "unique_count": 2,
          "nan_count": 0,
          "categories": [
           {
            "name": "knife",
            "count": 1
           },
           {
            "name": "gun",
            "count": 1
           }
          ]
         }
        },
        {
         "name": "Alleged Threat Level (Source: WaPo)",
         "dtype": "object",
         "stats": {
          "unique_count": 1,
          "nan_count": 0,
          "categories": [
           {
            "name": "other",
            "count": 2
           }
          ]
         }
        },
        {
         "name": "Fleeing (Source: WaPo)",
         "dtype": "object",
         "stats": {
          "unique_count": 1,
          "nan_count": 0,
          "categories": [
           {
            "name": "Not fleeing",
            "count": 2
           }
          ]
         }
        },
        {
         "name": "Body Camera (Source: WaPo)",
         "dtype": "object",
         "stats": {
          "unique_count": 1,
          "nan_count": 0,
          "categories": [
           {
            "name": "No",
            "count": 2
           }
          ]
         }
        },
        {
         "name": "WaPo ID (If included in WaPo database)",
         "dtype": "float64",
         "stats": {
          "unique_count": 2,
          "nan_count": 0,
          "min": "3601.0",
          "max": "5740.0",
          "histogram": [
           {
            "bin_start": 3601,
            "bin_end": 3814.9,
            "count": 1
           },
           {
            "bin_start": 3814.9,
            "bin_end": 4028.8,
            "count": 0
           },
           {
            "bin_start": 4028.8,
            "bin_end": 4242.7,
            "count": 0
           },
           {
            "bin_start": 4242.7,
            "bin_end": 4456.6,
            "count": 0
           },
           {
            "bin_start": 4456.6,
            "bin_end": 4670.5,
            "count": 0
           },
           {
            "bin_start": 4670.5,
            "bin_end": 4884.4,
            "count": 0
           },
           {
            "bin_start": 4884.4,
            "bin_end": 5098.3,
            "count": 0
           },
           {
            "bin_start": 5098.3,
            "bin_end": 5312.2,
            "count": 0
           },
           {
            "bin_start": 5312.2,
            "bin_end": 5526.1,
            "count": 0
           },
           {
            "bin_start": 5526.1,
            "bin_end": 5740,
            "count": 1
           }
          ]
         }
        },
        {
         "name": "Off-Duty Killing?",
         "dtype": "object",
         "stats": {
          "unique_count": 0,
          "nan_count": 2,
          "categories": [
           {
            "name": "Missing",
            "count": 2
           }
          ]
         }
        },
        {
         "name": "Geography (via Trulia methodology based on zipcode population density: http://jedkolko.com/wp-content/uploads/2015/05/full-ZCTA-urban-suburban-rural-classification.xlsx )",
         "dtype": "object",
         "stats": {
          "unique_count": 2,
          "nan_count": 0,
          "categories": [
           {
            "name": "Urban",
            "count": 1
           },
           {
            "name": "Suburban",
            "count": 1
           }
          ]
         }
        },
        {
         "name": "MPV ID",
         "dtype": "float64",
         "stats": {
          "unique_count": 2,
          "nan_count": 0,
          "min": "5752.0",
          "max": "7968.0",
          "histogram": [
           {
            "bin_start": 5752,
            "bin_end": 5973.6,
            "count": 1
           },
           {
            "bin_start": 5973.6,
            "bin_end": 6195.2,
            "count": 0
           },
           {
            "bin_start": 6195.2,
            "bin_end": 6416.8,
            "count": 0
           },
           {
            "bin_start": 6416.8,
            "bin_end": 6638.4,
            "count": 0
           },
           {
            "bin_start": 6638.4,
            "bin_end": 6860,
            "count": 0
           },
           {
            "bin_start": 6860,
            "bin_end": 7081.6,
            "count": 0
           },
           {
            "bin_start": 7081.6,
            "bin_end": 7303.2,
            "count": 0
           },
           {
            "bin_start": 7303.2,
            "bin_end": 7524.8,
            "count": 0
           },
           {
            "bin_start": 7524.8,
            "bin_end": 7746.4,
            "count": 0
           },
           {
            "bin_start": 7746.4,
            "bin_end": 7968,
            "count": 1
           }
          ]
         }
        },
        {
         "name": "Fatal Encounters ID",
         "dtype": "float64",
         "stats": {
          "unique_count": 2,
          "nan_count": 0,
          "min": "24060.0",
          "max": "27858.0",
          "histogram": [
           {
            "bin_start": 24060,
            "bin_end": 24439.8,
            "count": 1
           },
           {
            "bin_start": 24439.8,
            "bin_end": 24819.6,
            "count": 0
           },
           {
            "bin_start": 24819.6,
            "bin_end": 25199.4,
            "count": 0
           },
           {
            "bin_start": 25199.4,
            "bin_end": 25579.2,
            "count": 0
           },
           {
            "bin_start": 25579.2,
            "bin_end": 25959,
            "count": 0
           },
           {
            "bin_start": 25959,
            "bin_end": 26338.8,
            "count": 0
           },
           {
            "bin_start": 26338.8,
            "bin_end": 26718.6,
            "count": 0
           },
           {
            "bin_start": 26718.6,
            "bin_end": 27098.4,
            "count": 0
           },
           {
            "bin_start": 27098.4,
            "bin_end": 27478.2,
            "count": 0
           },
           {
            "bin_start": 27478.2,
            "bin_end": 27858,
            "count": 1
           }
          ]
         }
        },
        {
         "name": "Encounter Type (DRAFT)",
         "dtype": "object",
         "stats": {
          "unique_count": 2,
          "nan_count": 0,
          "categories": [
           {
            "name": "Domestic Disturbance",
            "count": 1
           },
           {
            "name": "Part 1 Violent Crime",
            "count": 1
           }
          ]
         }
        },
        {
         "name": "Initial Reported Reason for Encounter (DRAFT)",
         "dtype": "object",
         "stats": {
          "unique_count": 2,
          "nan_count": 0,
          "categories": [
           {
            "name": "Domestic Disturbance-cohabitants (roommates)",
            "count": 1
           },
           {
            "name": "Robbery",
            "count": 1
           }
          ]
         }
        },
        {
         "name": "Names of Officers Involved (DRAFT)",
         "dtype": "object",
         "stats": {
          "unique_count": 2,
          "nan_count": 0,
          "categories": [
           {
            "name": "E. Meckling, J.C. Nobles (fired shots)",
            "count": 1
           },
           {
            "name": "Jeffrey Stover",
            "count": 1
           }
          ]
         }
        },
        {
         "name": "Race of Officers Involved (DRAFT)",
         "dtype": "object",
         "stats": {
          "unique_count": 1,
          "nan_count": 1,
          "categories": [
           {
            "name": "White",
            "count": 1
           },
           {
            "name": "Missing",
            "count": 1
           }
          ]
         }
        },
        {
         "name": "Known Past Shootings of Officer(s) (DRAFT)",
         "dtype": "object",
         "stats": {
          "unique_count": 1,
          "nan_count": 0,
          "categories": [
           {
            "name": "4",
            "count": 2
           }
          ]
         }
        },
        {
         "name": "Call for Service? (DRAFT)",
         "dtype": "object",
         "stats": {
          "unique_count": 1,
          "nan_count": 0,
          "categories": [
           {
            "name": "Yes",
            "count": 2
           }
          ]
         }
        },
        {
         "name": "_deepnote_index_column",
         "dtype": "int64"
        }
       ],
       "rows_top": [
        {
         "Victim's name": "Leah Baker",
         "Victim's age": 29,
         "Victim's gender": "Female",
         "Victim's race": "White",
         "URL of image of victim": "nan",
         "Date of Incident (month/day/year)": "2020-04-11T00:00:00.000000",
         "Street Address of Incident": "1300 Golfair Boulevard",
         "City": "Jacksonville",
         "State": "FL",
         "Zipcode": 32209,
         "County": "Duval",
         "Agency responsible for death": "Jacksonville Sheriff's Office",
         "ORI Agency Identifier (if available)": "FL0162400",
         "Cause of death": "Gunshot",
         "A brief description of the circumstances surrounding the death": "Officer E. Meckling responded to dispute between several people over medicine. Leah Baker reportedly swung a butcher knife at Meckling, cutting her. Two other officers shot and killed Leah Baker, who they said wouldn't follow commands and charged them.",
         "Official disposition of death (justified or other)": "Pending investigation/No Known Charges",
         "Criminal Charges?": "No known charges",
         "Link to news article or photo of official document": "https://www.news4jax.com/news/local/2020/04/11/officer-injured-in-northwest-jacksonville-shooting-suspect-taken-to-hospital/",
         "Symptoms of mental illness?": "No",
         "Armed/Unarmed Status": "Allegedly Armed",
         "Alleged Weapon (Source: WaPo and Review of Cases Not Included in WaPo Database)": "knife",
         "Alleged Threat Level (Source: WaPo)": "other",
         "Fleeing (Source: WaPo)": "Not fleeing",
         "Body Camera (Source: WaPo)": "No",
         "WaPo ID (If included in WaPo database)": 5740,
         "Off-Duty Killing?": "nan",
         "Geography (via Trulia methodology based on zipcode population density: http://jedkolko.com/wp-content/uploads/2015/05/full-ZCTA-urban-suburban-rural-classification.xlsx )": "Urban",
         "MPV ID": 7968,
         "Fatal Encounters ID": 27858,
         "Encounter Type (DRAFT)": "Domestic Disturbance",
         "Initial Reported Reason for Encounter (DRAFT)": "Domestic Disturbance-cohabitants (roommates)",
         "Names of Officers Involved (DRAFT)": "E. Meckling, J.C. Nobles (fired shots)",
         "Race of Officers Involved (DRAFT)": "nan",
         "Known Past Shootings of Officer(s) (DRAFT)": 4,
         "Call for Service? (DRAFT)": "Yes",
         "_deepnote_index_column": 1187
        },
        {
         "Victim's name": "Mark Powell",
         "Victim's age": 39,
         "Victim's gender": "Male",
         "Victim's race": "Unknown Race",
         "URL of image of victim": "nan",
         "Date of Incident (month/day/year)": "2018-04-10T00:00:00.000000",
         "Street Address of Incident": "850 E Fort Lowell Rd",
         "City": "Tucson",
         "State": "AZ",
         "Zipcode": 85719,
         "County": "Pima",
         "Agency responsible for death": "Tucson Police Department",
         "ORI Agency Identifier (if available)": "AZ0100300",
         "Cause of death": "Gunshot",
         "A brief description of the circumstances surrounding the death": "Two officers arrived at a check-cashing business after a report that it was being robbed, police said. Soon after the officer arrived, a man armed with a gun walked out of the business. The man allegedly ignored commands to drop the weapon and was shot and killed.",
         "Official disposition of death (justified or other)": "Pending investigation/No Known Charges",
         "Criminal Charges?": "No known charges",
         "Link to news article or photo of official document": "http://tucson.com/news/local/man-dies-after-being-shot-by-tucson-police-officer-answering/article_f8975480-3cdd-11e8-a4c5-c3f92581fb2d.html",
         "Symptoms of mental illness?": "No",
         "Armed/Unarmed Status": "Allegedly Armed",
         "Alleged Weapon (Source: WaPo and Review of Cases Not Included in WaPo Database)": "gun",
         "Alleged Threat Level (Source: WaPo)": "other",
         "Fleeing (Source: WaPo)": "Not fleeing",
         "Body Camera (Source: WaPo)": "No",
         "WaPo ID (If included in WaPo database)": 3601,
         "Off-Duty Killing?": "nan",
         "Geography (via Trulia methodology based on zipcode population density: http://jedkolko.com/wp-content/uploads/2015/05/full-ZCTA-urban-suburban-rural-classification.xlsx )": "Suburban",
         "MPV ID": 5752,
         "Fatal Encounters ID": 24060,
         "Encounter Type (DRAFT)": "Part 1 Violent Crime",
         "Initial Reported Reason for Encounter (DRAFT)": "Robbery",
         "Names of Officers Involved (DRAFT)": "Jeffrey Stover",
         "Race of Officers Involved (DRAFT)": "White",
         "Known Past Shootings of Officer(s) (DRAFT)": 4,
         "Call for Service? (DRAFT)": "Yes",
         "_deepnote_index_column": 3396
        }
       ],
       "rows_bottom": null
      },
      "text/plain": "     Victim's name Victim's age Victim's gender Victim's race  \\\n1187    Leah Baker           29          Female         White   \n3396   Mark Powell           39            Male  Unknown Race   \n\n     URL of image of victim Date of Incident (month/day/year)  \\\n1187                    NaN                        2020-04-11   \n3396                    NaN                        2018-04-10   \n\n     Street Address of Incident          City State  Zipcode  ...  \\\n1187     1300 Golfair Boulevard  Jacksonville    FL  32209.0  ...   \n3396       850 E Fort Lowell Rd        Tucson    AZ  85719.0  ...   \n\n     Off-Duty Killing?  \\\n1187               NaN   \n3396               NaN   \n\n     Geography (via Trulia methodology based on zipcode population density: http://jedkolko.com/wp-content/uploads/2015/05/full-ZCTA-urban-suburban-rural-classification.xlsx )  \\\n1187                                              Urban                                                                                                                           \n3396                                           Suburban                                                                                                                           \n\n      MPV ID Fatal Encounters ID Encounter Type (DRAFT)  \\\n1187  7968.0             27858.0   Domestic Disturbance   \n3396  5752.0             24060.0   Part 1 Violent Crime   \n\n     Initial Reported Reason for Encounter (DRAFT)  \\\n1187  Domestic Disturbance-cohabitants (roommates)   \n3396                                       Robbery   \n\n          Names of Officers Involved (DRAFT)  \\\n1187  E. Meckling, J.C. Nobles (fired shots)   \n3396                          Jeffrey Stover   \n\n     Race of Officers Involved (DRAFT)  \\\n1187                               NaN   \n3396                             White   \n\n     Known Past Shootings of Officer(s) (DRAFT) Call for Service? (DRAFT)  \n1187                                          4                       Yes  \n3396                                          4                       Yes  \n\n[2 rows x 35 columns]",
      "text/html": "<div>\n<style scoped>\n    .dataframe tbody tr th:only-of-type {\n        vertical-align: middle;\n    }\n\n    .dataframe tbody tr th {\n        vertical-align: top;\n    }\n\n    .dataframe thead th {\n        text-align: right;\n    }\n</style>\n<table border=\"1\" class=\"dataframe\">\n  <thead>\n    <tr style=\"text-align: right;\">\n      <th></th>\n      <th>Victim's name</th>\n      <th>Victim's age</th>\n      <th>Victim's gender</th>\n      <th>Victim's race</th>\n      <th>URL of image of victim</th>\n      <th>Date of Incident (month/day/year)</th>\n      <th>Street Address of Incident</th>\n      <th>City</th>\n      <th>State</th>\n      <th>Zipcode</th>\n      <th>...</th>\n      <th>Off-Duty Killing?</th>\n      <th>Geography (via Trulia methodology based on zipcode population density: http://jedkolko.com/wp-content/uploads/2015/05/full-ZCTA-urban-suburban-rural-classification.xlsx )</th>\n      <th>MPV ID</th>\n      <th>Fatal Encounters ID</th>\n      <th>Encounter Type (DRAFT)</th>\n      <th>Initial Reported Reason for Encounter (DRAFT)</th>\n      <th>Names of Officers Involved (DRAFT)</th>\n      <th>Race of Officers Involved (DRAFT)</th>\n      <th>Known Past Shootings of Officer(s) (DRAFT)</th>\n      <th>Call for Service? (DRAFT)</th>\n    </tr>\n  </thead>\n  <tbody>\n    <tr>\n      <th>1187</th>\n      <td>Leah Baker</td>\n      <td>29</td>\n      <td>Female</td>\n      <td>White</td>\n      <td>NaN</td>\n      <td>2020-04-11</td>\n      <td>1300 Golfair Boulevard</td>\n      <td>Jacksonville</td>\n      <td>FL</td>\n      <td>32209.0</td>\n      <td>...</td>\n      <td>NaN</td>\n      <td>Urban</td>\n      <td>7968.0</td>\n      <td>27858.0</td>\n      <td>Domestic Disturbance</td>\n      <td>Domestic Disturbance-cohabitants (roommates)</td>\n      <td>E. Meckling, J.C. Nobles (fired shots)</td>\n      <td>NaN</td>\n      <td>4</td>\n      <td>Yes</td>\n    </tr>\n    <tr>\n      <th>3396</th>\n      <td>Mark Powell</td>\n      <td>39</td>\n      <td>Male</td>\n      <td>Unknown Race</td>\n      <td>NaN</td>\n      <td>2018-04-10</td>\n      <td>850 E Fort Lowell Rd</td>\n      <td>Tucson</td>\n      <td>AZ</td>\n      <td>85719.0</td>\n      <td>...</td>\n      <td>NaN</td>\n      <td>Suburban</td>\n      <td>5752.0</td>\n      <td>24060.0</td>\n      <td>Part 1 Violent Crime</td>\n      <td>Robbery</td>\n      <td>Jeffrey Stover</td>\n      <td>White</td>\n      <td>4</td>\n      <td>Yes</td>\n    </tr>\n  </tbody>\n</table>\n<p>2 rows × 35 columns</p>\n</div>"
     },
     "metadata": {}
    }
   ]
  },
  {
   "cell_type": "code",
   "metadata": {
    "tags": [],
    "cell_id": "00013-0e1053f3-3d8b-48b9-83b6-10769b9715b3",
    "deepnote_to_be_reexecuted": false,
    "source_hash": "4efa41",
    "execution_start": 1621539424315,
    "execution_millis": 8,
    "deepnote_cell_type": "code"
   },
   "source": "df_fatal['Body Camera (Source: WaPo)'] = df_fatal['Body Camera (Source: WaPo)'].str.replace('yes', 'Yes').str.replace('no', 'No')",
   "execution_count": null,
   "outputs": []
  },
  {
   "cell_type": "code",
   "metadata": {
    "tags": [],
    "cell_id": "00014-587b85a2-45a3-4262-a8da-4830686c4daf",
    "deepnote_to_be_reexecuted": false,
    "source_hash": "14af9930",
    "execution_start": 1621539424329,
    "execution_millis": 14,
    "deepnote_cell_type": "code"
   },
   "source": "df_fatal['Body Camera (Source: WaPo)'].value_counts(dropna=False)",
   "execution_count": null,
   "outputs": [
    {
     "output_type": "execute_result",
     "execution_count": 15,
     "data": {
      "text/plain": "No                    5305\nNaN                   3165\nYes                    661\nSurveillance Video       5\nBystander Video          4\nSurveillance video       2\nDashcam Video            2\nsurveillance video       1\nDashcam video            1\ncell phone video         1\nName: Body Camera (Source: WaPo), dtype: int64"
     },
     "metadata": {}
    }
   ]
  },
  {
   "cell_type": "code",
   "metadata": {
    "tags": [],
    "cell_id": "00015-da825711-7eea-480e-b56c-a2e033ad5f8b",
    "deepnote_to_be_reexecuted": false,
    "source_hash": "418131ed",
    "execution_start": 1621539424382,
    "execution_millis": 0,
    "deepnote_cell_type": "code"
   },
   "source": "#testing git hub push",
   "execution_count": null,
   "outputs": []
  },
  {
   "cell_type": "code",
   "metadata": {
    "tags": [],
    "cell_id": "00016-6e002d33-bf1f-4d8a-b4af-ec019bb0f272",
    "deepnote_to_be_reexecuted": false,
    "source_hash": "a804f7d7",
    "execution_start": 1621539424382,
    "execution_millis": 78,
    "deepnote_cell_type": "code"
   },
   "source": "#testing push\ndf_fatal.head()",
   "execution_count": null,
   "outputs": [
    {
     "output_type": "execute_result",
     "execution_count": 17,
     "data": {
      "application/vnd.deepnote.dataframe.v2+json": {
       "row_count": 5,
       "column_count": 35,
       "columns": [
        {
         "name": "Victim's name",
         "dtype": "object",
         "stats": {
          "unique_count": 5,
          "nan_count": 0,
          "categories": [
           {
            "name": "Kalon Horton",
            "count": 1
           },
           {
            "name": "Name withheld by police",
            "count": 1
           },
           {
            "name": "3 others",
            "count": 3
           }
          ]
         }
        },
        {
         "name": "Victim's age",
         "dtype": "object",
         "stats": {
          "unique_count": 4,
          "nan_count": 1,
          "categories": [
           {
            "name": "29.0",
            "count": 1
           },
           {
            "name": "3 others",
            "count": 3
           },
           {
            "name": "Missing",
            "count": 1
           }
          ]
         }
        },
        {
         "name": "Victim's gender",
         "dtype": "object",
         "stats": {
          "unique_count": 1,
          "nan_count": 0,
          "categories": [
           {
            "name": "Male",
            "count": 5
           }
          ]
         }
        },
        {
         "name": "Victim's race",
         "dtype": "object",
         "stats": {
          "unique_count": 3,
          "nan_count": 0,
          "categories": [
           {
            "name": "Unknown Race",
            "count": 3
           },
           {
            "name": "Black",
            "count": 1
           },
           {
            "name": "Hispanic",
            "count": 1
           }
          ]
         }
        },
        {
         "name": "URL of image of victim",
         "dtype": "object",
         "stats": {
          "unique_count": 0,
          "nan_count": 5,
          "categories": [
           {
            "name": "Missing",
            "count": 5
           }
          ]
         }
        },
        {
         "name": "Date of Incident (month/day/year)",
         "dtype": "datetime64[ns]",
         "stats": {
          "unique_count": 2,
          "nan_count": 0,
          "min": "2021-05-08 00:00:00",
          "max": "2021-05-09 00:00:00",
          "histogram": [
           {
            "bin_start": 1620432000000000000,
            "bin_end": 1620440640000000000,
            "count": 2
           },
           {
            "bin_start": 1620440640000000000,
            "bin_end": 1620449280000000000,
            "count": 0
           },
           {
            "bin_start": 1620449280000000000,
            "bin_end": 1620457920000000000,
            "count": 0
           },
           {
            "bin_start": 1620457920000000000,
            "bin_end": 1620466560000000000,
            "count": 0
           },
           {
            "bin_start": 1620466560000000000,
            "bin_end": 1620475200000000000,
            "count": 0
           },
           {
            "bin_start": 1620475200000000000,
            "bin_end": 1620483840000000000,
            "count": 0
           },
           {
            "bin_start": 1620483840000000000,
            "bin_end": 1620492480000000000,
            "count": 0
           },
           {
            "bin_start": 1620492480000000000,
            "bin_end": 1620501120000000000,
            "count": 0
           },
           {
            "bin_start": 1620501120000000000,
            "bin_end": 1620509760000000000,
            "count": 0
           },
           {
            "bin_start": 1620509760000000000,
            "bin_end": 1620518400000000000,
            "count": 3
           }
          ]
         }
        },
        {
         "name": "Street Address of Incident",
         "dtype": "object",
         "stats": {
          "unique_count": 1,
          "nan_count": 4,
          "categories": [
           {
            "name": "90 S. Main St.",
            "count": 1
           },
           {
            "name": "Missing",
            "count": 4
           }
          ]
         }
        },
        {
         "name": "City",
         "dtype": "object",
         "stats": {
          "unique_count": 5,
          "nan_count": 0,
          "categories": [
           {
            "name": "Lancaster",
            "count": 1
           },
           {
            "name": "Leicester",
            "count": 1
           },
           {
            "name": "3 others",
            "count": 3
           }
          ]
         }
        },
        {
         "name": "State",
         "dtype": "object",
         "stats": {
          "unique_count": 5,
          "nan_count": 0,
          "categories": [
           {
            "name": "TX",
            "count": 1
           },
           {
            "name": "MA",
            "count": 1
           },
           {
            "name": "3 others",
            "count": 3
           }
          ]
         }
        },
        {
         "name": "Zipcode",
         "dtype": "float64",
         "stats": {
          "unique_count": 1,
          "nan_count": 4,
          "min": "1524.0",
          "max": "1524.0",
          "histogram": [
           {
            "bin_start": 1523.5,
            "bin_end": 1523.6,
            "count": 0
           },
           {
            "bin_start": 1523.6,
            "bin_end": 1523.7,
            "count": 0
           },
           {
            "bin_start": 1523.7,
            "bin_end": 1523.8,
            "count": 0
           },
           {
            "bin_start": 1523.8,
            "bin_end": 1523.9,
            "count": 0
           },
           {
            "bin_start": 1523.9,
            "bin_end": 1524,
            "count": 0
           },
           {
            "bin_start": 1524,
            "bin_end": 1524.1,
            "count": 1
           },
           {
            "bin_start": 1524.1,
            "bin_end": 1524.2,
            "count": 0
           },
           {
            "bin_start": 1524.2,
            "bin_end": 1524.3,
            "count": 0
           },
           {
            "bin_start": 1524.3,
            "bin_end": 1524.4,
            "count": 0
           },
           {
            "bin_start": 1524.4,
            "bin_end": 1524.5,
            "count": 0
           }
          ]
         }
        },
        {
         "name": "County",
         "dtype": "object",
         "stats": {
          "unique_count": 2,
          "nan_count": 3,
          "categories": [
           {
            "name": "Worcester",
            "count": 1
           },
           {
            "name": "Riverside",
            "count": 1
           },
           {
            "name": "Missing",
            "count": 3
           }
          ]
         }
        },
        {
         "name": "Agency responsible for death",
         "dtype": "object",
         "stats": {
          "unique_count": 5,
          "nan_count": 0,
          "categories": [
           {
            "name": "Lancaster Police Department",
            "count": 1
           },
           {
            "name": "Leicester Police Department",
            "count": 1
           },
           {
            "name": "3 others",
            "count": 3
           }
          ]
         }
        },
        {
         "name": "ORI Agency Identifier (if available)",
         "dtype": "object",
         "stats": {
          "unique_count": 5,
          "nan_count": 0,
          "categories": [
           {
            "name": "TX0571700",
            "count": 1
           },
           {
            "name": "MA0142400",
            "count": 1
           },
           {
            "name": "3 others",
            "count": 3
           }
          ]
         }
        },
        {
         "name": "Cause of death",
         "dtype": "object",
         "stats": {
          "unique_count": 1,
          "nan_count": 0,
          "categories": [
           {
            "name": "Gunshot",
            "count": 5
           }
          ]
         }
        },
        {
         "name": "A brief description of the circumstances surrounding the death",
         "dtype": "object",
         "stats": {
          "unique_count": 5,
          "nan_count": 0,
          "categories": [
           {
            "name": "Police responded to a call of a man firing shots within an apartment complex. Officers went to Horton's apartment and forced their way in. Police claim Horton was armed, and they shot and killed him.",
            "count": 1
           },
           {
            "name": "A man allegedly crashed an SUV into the Leicester Police Station, repeatedly ramming his vehicle into the front doors until he gained entry into the building. Responding officers saw the SUV in the front door and encountered the man. Police claim the man placed a rifle on his shoulder and aimed it at the officers. The police officers shot and killed him.",
            "count": 1
           },
           {
            "name": "3 others",
            "count": 3
           }
          ]
         }
        },
        {
         "name": "Official disposition of death (justified or other)",
         "dtype": "object",
         "stats": {
          "unique_count": 1,
          "nan_count": 0,
          "categories": [
           {
            "name": "Pending investigation",
            "count": 5
           }
          ]
         }
        },
        {
         "name": "Criminal Charges?",
         "dtype": "object",
         "stats": {
          "unique_count": 1,
          "nan_count": 0,
          "categories": [
           {
            "name": "No known charges",
            "count": 5
           }
          ]
         }
        },
        {
         "name": "Link to news article or photo of official document",
         "dtype": "object",
         "stats": {
          "unique_count": 5,
          "nan_count": 0,
          "categories": [
           {
            "name": "https://www.fox4news.com/news/lancaster-police-officers-involved-in-shooting",
            "count": 1
           },
           {
            "name": "https://www.wcvb.com/article/leicester-police-station-shooting-car-crash-massachusetts/36374400",
            "count": 1
           },
           {
            "name": "3 others",
            "count": 3
           }
          ]
         }
        },
        {
         "name": "Symptoms of mental illness?",
         "dtype": "object",
         "stats": {
          "unique_count": 2,
          "nan_count": 0,
          "categories": [
           {
            "name": "No",
            "count": 4
           },
           {
            "name": "Yes",
            "count": 1
           }
          ]
         }
        },
        {
         "name": "Armed/Unarmed Status",
         "dtype": "object",
         "stats": {
          "unique_count": 1,
          "nan_count": 0,
          "categories": [
           {
            "name": "Allegedly Armed",
            "count": 5
           }
          ]
         }
        },
        {
         "name": "Alleged Weapon (Source: WaPo and Review of Cases Not Included in WaPo Database)",
         "dtype": "object",
         "stats": {
          "unique_count": 1,
          "nan_count": 0,
          "categories": [
           {
            "name": "gun",
            "count": 5
           }
          ]
         }
        },
        {
         "name": "Alleged Threat Level (Source: WaPo)",
         "dtype": "object",
         "stats": {
          "unique_count": 1,
          "nan_count": 0,
          "categories": [
           {
            "name": "attack",
            "count": 5
           }
          ]
         }
        },
        {
         "name": "Fleeing (Source: WaPo)",
         "dtype": "object",
         "stats": {
          "unique_count": 1,
          "nan_count": 1,
          "categories": [
           {
            "name": "not fleeing",
            "count": 4
           },
           {
            "name": "Missing",
            "count": 1
           }
          ]
         }
        },
        {
         "name": "Body Camera (Source: WaPo)",
         "dtype": "object",
         "stats": {
          "unique_count": 1,
          "nan_count": 0,
          "categories": [
           {
            "name": "No",
            "count": 5
           }
          ]
         }
        },
        {
         "name": "WaPo ID (If included in WaPo database)",
         "dtype": "float64",
         "stats": {
          "unique_count": 5,
          "nan_count": 0,
          "min": "6841.0",
          "max": "6846.0",
          "histogram": [
           {
            "bin_start": 6841,
            "bin_end": 6841.5,
            "count": 1
           },
           {
            "bin_start": 6841.5,
            "bin_end": 6842,
            "count": 0
           },
           {
            "bin_start": 6842,
            "bin_end": 6842.5,
            "count": 1
           },
           {
            "bin_start": 6842.5,
            "bin_end": 6843,
            "count": 0
           },
           {
            "bin_start": 6843,
            "bin_end": 6843.5,
            "count": 0
           },
           {
            "bin_start": 6843.5,
            "bin_end": 6844,
            "count": 0
           },
           {
            "bin_start": 6844,
            "bin_end": 6844.5,
            "count": 1
           },
           {
            "bin_start": 6844.5,
            "bin_end": 6845,
            "count": 0
           },
           {
            "bin_start": 6845,
            "bin_end": 6845.5,
            "count": 1
           },
           {
            "bin_start": 6845.5,
            "bin_end": 6846,
            "count": 1
           }
          ]
         }
        },
        {
         "name": "Off-Duty Killing?",
         "dtype": "object",
         "stats": {
          "unique_count": 0,
          "nan_count": 5,
          "categories": [
           {
            "name": "Missing",
            "count": 5
           }
          ]
         }
        },
        {
         "name": "Geography (via Trulia methodology based on zipcode population density: http://jedkolko.com/wp-content/uploads/2015/05/full-ZCTA-urban-suburban-rural-classification.xlsx )",
         "dtype": "object",
         "stats": {
          "unique_count": 1,
          "nan_count": 4,
          "categories": [
           {
            "name": "Suburban",
            "count": 1
           },
           {
            "name": "Missing",
            "count": 4
           }
          ]
         }
        },
        {
         "name": "MPV ID",
         "dtype": "float64",
         "stats": {
          "unique_count": 0,
          "nan_count": 5,
          "min": null,
          "max": null,
          "histogram": [
           {
            "bin_start": 0,
            "bin_end": 0.1,
            "count": 0
           },
           {
            "bin_start": 0.1,
            "bin_end": 0.2,
            "count": 0
           },
           {
            "bin_start": 0.2,
            "bin_end": 0.30000000000000004,
            "count": 0
           },
           {
            "bin_start": 0.30000000000000004,
            "bin_end": 0.4,
            "count": 0
           },
           {
            "bin_start": 0.4,
            "bin_end": 0.5,
            "count": 0
           },
           {
            "bin_start": 0.5,
            "bin_end": 0.6000000000000001,
            "count": 0
           },
           {
            "bin_start": 0.6000000000000001,
            "bin_end": 0.7000000000000001,
            "count": 0
           },
           {
            "bin_start": 0.7000000000000001,
            "bin_end": 0.8,
            "count": 0
           },
           {
            "bin_start": 0.8,
            "bin_end": 0.9,
            "count": 0
           },
           {
            "bin_start": 0.9,
            "bin_end": 1,
            "count": 0
           }
          ]
         }
        },
        {
         "name": "Fatal Encounters ID",
         "dtype": "float64",
         "stats": {
          "unique_count": 0,
          "nan_count": 5,
          "min": null,
          "max": null,
          "histogram": [
           {
            "bin_start": 0,
            "bin_end": 0.1,
            "count": 0
           },
           {
            "bin_start": 0.1,
            "bin_end": 0.2,
            "count": 0
           },
           {
            "bin_start": 0.2,
            "bin_end": 0.30000000000000004,
            "count": 0
           },
           {
            "bin_start": 0.30000000000000004,
            "bin_end": 0.4,
            "count": 0
           },
           {
            "bin_start": 0.4,
            "bin_end": 0.5,
            "count": 0
           },
           {
            "bin_start": 0.5,
            "bin_end": 0.6000000000000001,
            "count": 0
           },
           {
            "bin_start": 0.6000000000000001,
            "bin_end": 0.7000000000000001,
            "count": 0
           },
           {
            "bin_start": 0.7000000000000001,
            "bin_end": 0.8,
            "count": 0
           },
           {
            "bin_start": 0.8,
            "bin_end": 0.9,
            "count": 0
           },
           {
            "bin_start": 0.9,
            "bin_end": 1,
            "count": 0
           }
          ]
         }
        },
        {
         "name": "Encounter Type (DRAFT)",
         "dtype": "object",
         "stats": {
          "unique_count": 3,
          "nan_count": 0,
          "categories": [
           {
            "name": "Part 1 Violent Crime",
            "count": 3
           },
           {
            "name": "Other",
            "count": 1
           },
           {
            "name": "Person with a gun",
            "count": 1
           }
          ]
         }
        },
        {
         "name": "Initial Reported Reason for Encounter (DRAFT)",
         "dtype": "object",
         "stats": {
          "unique_count": 4,
          "nan_count": 0,
          "categories": [
           {
            "name": "murder",
            "count": 2
           },
           {
            "name": "gunshots",
            "count": 1
           },
           {
            "name": "2 others",
            "count": 2
           }
          ]
         }
        },
        {
         "name": "Names of Officers Involved (DRAFT)",
         "dtype": "object",
         "stats": {
          "unique_count": 0,
          "nan_count": 5,
          "categories": [
           {
            "name": "Missing",
            "count": 5
           }
          ]
         }
        },
        {
         "name": "Race of Officers Involved (DRAFT)",
         "dtype": "object",
         "stats": {
          "unique_count": 0,
          "nan_count": 5,
          "categories": [
           {
            "name": "Missing",
            "count": 5
           }
          ]
         }
        },
        {
         "name": "Known Past Shootings of Officer(s) (DRAFT)",
         "dtype": "object",
         "stats": {
          "unique_count": 0,
          "nan_count": 5,
          "categories": [
           {
            "name": "Missing",
            "count": 5
           }
          ]
         }
        },
        {
         "name": "Call for Service? (DRAFT)",
         "dtype": "object",
         "stats": {
          "unique_count": 2,
          "nan_count": 0,
          "categories": [
           {
            "name": "Yes",
            "count": 4
           },
           {
            "name": "No",
            "count": 1
           }
          ]
         }
        },
        {
         "name": "_deepnote_index_column",
         "dtype": "int64"
        }
       ],
       "rows_top": [
        {
         "Victim's name": "Kalon Horton",
         "Victim's age": "29",
         "Victim's gender": "Male",
         "Victim's race": "Black",
         "URL of image of victim": "nan",
         "Date of Incident (month/day/year)": "2021-05-09T00:00:00.000000",
         "Street Address of Incident": "nan",
         "City": "Lancaster",
         "State": "TX",
         "Zipcode": "nan",
         "County": "nan",
         "Agency responsible for death": "Lancaster Police Department",
         "ORI Agency Identifier (if available)": "TX0571700",
         "Cause of death": "Gunshot",
         "A brief description of the circumstances surrounding the death": "Police responded to a call of a man firing shots within an apartment complex. Officers went to Horton's apartment and forced their way in. Police claim Horton was armed, and they shot and killed him.",
         "Official disposition of death (justified or other)": "Pending investigation",
         "Criminal Charges?": "No known charges",
         "Link to news article or photo of official document": "https://www.fox4news.com/news/lancaster-police-officers-involved-in-shooting",
         "Symptoms of mental illness?": "No",
         "Armed/Unarmed Status": "Allegedly Armed",
         "Alleged Weapon (Source: WaPo and Review of Cases Not Included in WaPo Database)": "gun",
         "Alleged Threat Level (Source: WaPo)": "attack",
         "Fleeing (Source: WaPo)": "nan",
         "Body Camera (Source: WaPo)": "No",
         "WaPo ID (If included in WaPo database)": 6842,
         "Off-Duty Killing?": "nan",
         "Geography (via Trulia methodology based on zipcode population density: http://jedkolko.com/wp-content/uploads/2015/05/full-ZCTA-urban-suburban-rural-classification.xlsx )": "nan",
         "MPV ID": "nan",
         "Fatal Encounters ID": "nan",
         "Encounter Type (DRAFT)": "Part 1 Violent Crime",
         "Initial Reported Reason for Encounter (DRAFT)": "gunshots",
         "Names of Officers Involved (DRAFT)": "nan",
         "Race of Officers Involved (DRAFT)": "nan",
         "Known Past Shootings of Officer(s) (DRAFT)": "nan",
         "Call for Service? (DRAFT)": "Yes",
         "_deepnote_index_column": 0
        },
        {
         "Victim's name": "Name withheld by police",
         "Victim's age": "nan",
         "Victim's gender": "Male",
         "Victim's race": "Unknown Race",
         "URL of image of victim": "nan",
         "Date of Incident (month/day/year)": "2021-05-09T00:00:00.000000",
         "Street Address of Incident": "90 S. Main St.",
         "City": "Leicester",
         "State": "MA",
         "Zipcode": "1524.0",
         "County": "Worcester",
         "Agency responsible for death": "Leicester Police Department",
         "ORI Agency Identifier (if available)": "MA0142400",
         "Cause of death": "Gunshot",
         "A brief description of the circumstances surrounding the death": "A man allegedly crashed an SUV into the Leicester Police Station, repeatedly ramming his vehicle into the front doors until he gained entry into the building. Responding officers saw the SUV in the front door and encountered the man. Police claim the man placed a rifle on his shoulder and aimed it at the officers. The police officers shot and killed him.",
         "Official disposition of death (justified or other)": "Pending investigation",
         "Criminal Charges?": "No known charges",
         "Link to news article or photo of official document": "https://www.wcvb.com/article/leicester-police-station-shooting-car-crash-massachusetts/36374400",
         "Symptoms of mental illness?": "No",
         "Armed/Unarmed Status": "Allegedly Armed",
         "Alleged Weapon (Source: WaPo and Review of Cases Not Included in WaPo Database)": "gun",
         "Alleged Threat Level (Source: WaPo)": "attack",
         "Fleeing (Source: WaPo)": "not fleeing",
         "Body Camera (Source: WaPo)": "No",
         "WaPo ID (If included in WaPo database)": 6844,
         "Off-Duty Killing?": "nan",
         "Geography (via Trulia methodology based on zipcode population density: http://jedkolko.com/wp-content/uploads/2015/05/full-ZCTA-urban-suburban-rural-classification.xlsx )": "Suburban",
         "MPV ID": "nan",
         "Fatal Encounters ID": "nan",
         "Encounter Type (DRAFT)": "Other",
         "Initial Reported Reason for Encounter (DRAFT)": "deliberate car crash",
         "Names of Officers Involved (DRAFT)": "nan",
         "Race of Officers Involved (DRAFT)": "nan",
         "Known Past Shootings of Officer(s) (DRAFT)": "nan",
         "Call for Service? (DRAFT)": "Yes",
         "_deepnote_index_column": 1
        },
        {
         "Victim's name": "Jeffrey Mark Murray",
         "Victim's age": "62",
         "Victim's gender": "Male",
         "Victim's race": "Unknown Race",
         "URL of image of victim": "nan",
         "Date of Incident (month/day/year)": "2021-05-09T00:00:00.000000",
         "Street Address of Incident": "nan",
         "City": "Greenville",
         "State": "SC",
         "Zipcode": "nan",
         "County": "nan",
         "Agency responsible for death": "Greenville Police Department",
         "ORI Agency Identifier (if available)": "SC0230000",
         "Cause of death": "Gunshot",
         "A brief description of the circumstances surrounding the death": "Murray allegedly shot and killed David Oliver while Oliver was on the phone with the police. Police found Murray and killed him. ",
         "Official disposition of death (justified or other)": "Pending investigation",
         "Criminal Charges?": "No known charges",
         "Link to news article or photo of official document": "https://www.seattletimes.com/nation-world/nation/cyclist-killed-in-dispute-shooter-dies-in-police-gun-battle/",
         "Symptoms of mental illness?": "No",
         "Armed/Unarmed Status": "Allegedly Armed",
         "Alleged Weapon (Source: WaPo and Review of Cases Not Included in WaPo Database)": "gun",
         "Alleged Threat Level (Source: WaPo)": "attack",
         "Fleeing (Source: WaPo)": "not fleeing",
         "Body Camera (Source: WaPo)": "No",
         "WaPo ID (If included in WaPo database)": 6841,
         "Off-Duty Killing?": "nan",
         "Geography (via Trulia methodology based on zipcode population density: http://jedkolko.com/wp-content/uploads/2015/05/full-ZCTA-urban-suburban-rural-classification.xlsx )": "nan",
         "MPV ID": "nan",
         "Fatal Encounters ID": "nan",
         "Encounter Type (DRAFT)": "Part 1 Violent Crime",
         "Initial Reported Reason for Encounter (DRAFT)": "murder",
         "Names of Officers Involved (DRAFT)": "nan",
         "Race of Officers Involved (DRAFT)": "nan",
         "Known Past Shootings of Officer(s) (DRAFT)": "nan",
         "Call for Service? (DRAFT)": "Yes",
         "_deepnote_index_column": 2
        },
        {
         "Victim's name": "Everton Brown",
         "Victim's age": "56",
         "Victim's gender": "Male",
         "Victim's race": "Unknown Race",
         "URL of image of victim": "nan",
         "Date of Incident (month/day/year)": "2021-05-08T00:00:00.000000",
         "Street Address of Incident": "nan",
         "City": "Baltimore",
         "State": "MD",
         "Zipcode": "nan",
         "County": "nan",
         "Agency responsible for death": "Baltimore County Police Department",
         "ORI Agency Identifier (if available)": "MD0030000",
         "Cause of death": "Gunshot",
         "A brief description of the circumstances surrounding the death": "Brown allegedly shot and killed two neighbors, and injured another. Police responded to the scene and found Brown in a parking lot. Police allegedly commanded Brown to drop his gun and Brown refused. At least four officers shot at Brown, killing him. ",
         "Official disposition of death (justified or other)": "Pending investigation",
         "Criminal Charges?": "No known charges",
         "Link to news article or photo of official document": "https://abcnews.go.com/US/wireStory/police-maryland-man-killed-neighbors-set-house-ablaze-77591766",
         "Symptoms of mental illness?": "Yes",
         "Armed/Unarmed Status": "Allegedly Armed",
         "Alleged Weapon (Source: WaPo and Review of Cases Not Included in WaPo Database)": "gun",
         "Alleged Threat Level (Source: WaPo)": "attack",
         "Fleeing (Source: WaPo)": "not fleeing",
         "Body Camera (Source: WaPo)": "No",
         "WaPo ID (If included in WaPo database)": 6846,
         "Off-Duty Killing?": "nan",
         "Geography (via Trulia methodology based on zipcode population density: http://jedkolko.com/wp-content/uploads/2015/05/full-ZCTA-urban-suburban-rural-classification.xlsx )": "nan",
         "MPV ID": "nan",
         "Fatal Encounters ID": "nan",
         "Encounter Type (DRAFT)": "Part 1 Violent Crime",
         "Initial Reported Reason for Encounter (DRAFT)": "murder",
         "Names of Officers Involved (DRAFT)": "nan",
         "Race of Officers Involved (DRAFT)": "nan",
         "Known Past Shootings of Officer(s) (DRAFT)": "nan",
         "Call for Service? (DRAFT)": "Yes",
         "_deepnote_index_column": 3
        },
        {
         "Victim's name": "Felix Jerry Marquez",
         "Victim's age": "34",
         "Victim's gender": "Male",
         "Victim's race": "Hispanic",
         "URL of image of victim": "nan",
         "Date of Incident (month/day/year)": "2021-05-08T00:00:00.000000",
         "Street Address of Incident": "nan",
         "City": "Riverside",
         "State": "CA",
         "Zipcode": "nan",
         "County": "Riverside",
         "Agency responsible for death": "Riverside Police Department",
         "ORI Agency Identifier (if available)": "CA0331300",
         "Cause of death": "Gunshot",
         "A brief description of the circumstances surrounding the death": "Officers who were part of a homeless outreach unit encountered Marquez and claim he pulled a handgun, pointing it at them. The officers shot and killed Marquez. ",
         "Official disposition of death (justified or other)": "Pending investigation",
         "Criminal Charges?": "No known charges",
         "Link to news article or photo of official document": "https://www.avpress.com/news/police-shoot-man-who-pulled-gun/article_cd0b7314-b138-11eb-a877-6f0ab8fbc496.html",
         "Symptoms of mental illness?": "No",
         "Armed/Unarmed Status": "Allegedly Armed",
         "Alleged Weapon (Source: WaPo and Review of Cases Not Included in WaPo Database)": "gun",
         "Alleged Threat Level (Source: WaPo)": "attack",
         "Fleeing (Source: WaPo)": "not fleeing",
         "Body Camera (Source: WaPo)": "No",
         "WaPo ID (If included in WaPo database)": 6845,
         "Off-Duty Killing?": "nan",
         "Geography (via Trulia methodology based on zipcode population density: http://jedkolko.com/wp-content/uploads/2015/05/full-ZCTA-urban-suburban-rural-classification.xlsx )": "nan",
         "MPV ID": "nan",
         "Fatal Encounters ID": "nan",
         "Encounter Type (DRAFT)": "Person with a gun",
         "Initial Reported Reason for Encounter (DRAFT)": "person with a gun",
         "Names of Officers Involved (DRAFT)": "nan",
         "Race of Officers Involved (DRAFT)": "nan",
         "Known Past Shootings of Officer(s) (DRAFT)": "nan",
         "Call for Service? (DRAFT)": "No",
         "_deepnote_index_column": 4
        }
       ],
       "rows_bottom": null
      },
      "text/plain": "             Victim's name Victim's age Victim's gender Victim's race  \\\n0             Kalon Horton           29            Male         Black   \n1  Name withheld by police          NaN            Male  Unknown Race   \n2      Jeffrey Mark Murray           62            Male  Unknown Race   \n3            Everton Brown           56            Male  Unknown Race   \n4      Felix Jerry Marquez           34            Male      Hispanic   \n\n  URL of image of victim Date of Incident (month/day/year)  \\\n0                    NaN                        2021-05-09   \n1                    NaN                        2021-05-09   \n2                    NaN                        2021-05-09   \n3                    NaN                        2021-05-08   \n4                    NaN                        2021-05-08   \n\n  Street Address of Incident        City State  Zipcode  ...  \\\n0                        NaN   Lancaster    TX      NaN  ...   \n1             90 S. Main St.   Leicester    MA   1524.0  ...   \n2                        NaN  Greenville    SC      NaN  ...   \n3                        NaN   Baltimore    MD      NaN  ...   \n4                        NaN   Riverside    CA      NaN  ...   \n\n  Off-Duty Killing?  \\\n0               NaN   \n1               NaN   \n2               NaN   \n3               NaN   \n4               NaN   \n\n  Geography (via Trulia methodology based on zipcode population density: http://jedkolko.com/wp-content/uploads/2015/05/full-ZCTA-urban-suburban-rural-classification.xlsx )  \\\n0                                                NaN                                                                                                                           \n1                                           Suburban                                                                                                                           \n2                                                NaN                                                                                                                           \n3                                                NaN                                                                                                                           \n4                                                NaN                                                                                                                           \n\n  MPV ID Fatal Encounters ID Encounter Type (DRAFT)  \\\n0    NaN                 NaN   Part 1 Violent Crime   \n1    NaN                 NaN                  Other   \n2    NaN                 NaN   Part 1 Violent Crime   \n3    NaN                 NaN   Part 1 Violent Crime   \n4    NaN                 NaN      Person with a gun   \n\n  Initial Reported Reason for Encounter (DRAFT)  \\\n0                                      gunshots   \n1                          deliberate car crash   \n2                                        murder   \n3                                        murder   \n4                             person with a gun   \n\n  Names of Officers Involved (DRAFT) Race of Officers Involved (DRAFT)  \\\n0                                NaN                               NaN   \n1                                NaN                               NaN   \n2                                NaN                               NaN   \n3                                NaN                               NaN   \n4                                NaN                               NaN   \n\n  Known Past Shootings of Officer(s) (DRAFT) Call for Service? (DRAFT)  \n0                                        NaN                       Yes  \n1                                        NaN                       Yes  \n2                                        NaN                       Yes  \n3                                        NaN                       Yes  \n4                                        NaN                        No  \n\n[5 rows x 35 columns]",
      "text/html": "<div>\n<style scoped>\n    .dataframe tbody tr th:only-of-type {\n        vertical-align: middle;\n    }\n\n    .dataframe tbody tr th {\n        vertical-align: top;\n    }\n\n    .dataframe thead th {\n        text-align: right;\n    }\n</style>\n<table border=\"1\" class=\"dataframe\">\n  <thead>\n    <tr style=\"text-align: right;\">\n      <th></th>\n      <th>Victim's name</th>\n      <th>Victim's age</th>\n      <th>Victim's gender</th>\n      <th>Victim's race</th>\n      <th>URL of image of victim</th>\n      <th>Date of Incident (month/day/year)</th>\n      <th>Street Address of Incident</th>\n      <th>City</th>\n      <th>State</th>\n      <th>Zipcode</th>\n      <th>...</th>\n      <th>Off-Duty Killing?</th>\n      <th>Geography (via Trulia methodology based on zipcode population density: http://jedkolko.com/wp-content/uploads/2015/05/full-ZCTA-urban-suburban-rural-classification.xlsx )</th>\n      <th>MPV ID</th>\n      <th>Fatal Encounters ID</th>\n      <th>Encounter Type (DRAFT)</th>\n      <th>Initial Reported Reason for Encounter (DRAFT)</th>\n      <th>Names of Officers Involved (DRAFT)</th>\n      <th>Race of Officers Involved (DRAFT)</th>\n      <th>Known Past Shootings of Officer(s) (DRAFT)</th>\n      <th>Call for Service? (DRAFT)</th>\n    </tr>\n  </thead>\n  <tbody>\n    <tr>\n      <th>0</th>\n      <td>Kalon Horton</td>\n      <td>29</td>\n      <td>Male</td>\n      <td>Black</td>\n      <td>NaN</td>\n      <td>2021-05-09</td>\n      <td>NaN</td>\n      <td>Lancaster</td>\n      <td>TX</td>\n      <td>NaN</td>\n      <td>...</td>\n      <td>NaN</td>\n      <td>NaN</td>\n      <td>NaN</td>\n      <td>NaN</td>\n      <td>Part 1 Violent Crime</td>\n      <td>gunshots</td>\n      <td>NaN</td>\n      <td>NaN</td>\n      <td>NaN</td>\n      <td>Yes</td>\n    </tr>\n    <tr>\n      <th>1</th>\n      <td>Name withheld by police</td>\n      <td>NaN</td>\n      <td>Male</td>\n      <td>Unknown Race</td>\n      <td>NaN</td>\n      <td>2021-05-09</td>\n      <td>90 S. Main St.</td>\n      <td>Leicester</td>\n      <td>MA</td>\n      <td>1524.0</td>\n      <td>...</td>\n      <td>NaN</td>\n      <td>Suburban</td>\n      <td>NaN</td>\n      <td>NaN</td>\n      <td>Other</td>\n      <td>deliberate car crash</td>\n      <td>NaN</td>\n      <td>NaN</td>\n      <td>NaN</td>\n      <td>Yes</td>\n    </tr>\n    <tr>\n      <th>2</th>\n      <td>Jeffrey Mark Murray</td>\n      <td>62</td>\n      <td>Male</td>\n      <td>Unknown Race</td>\n      <td>NaN</td>\n      <td>2021-05-09</td>\n      <td>NaN</td>\n      <td>Greenville</td>\n      <td>SC</td>\n      <td>NaN</td>\n      <td>...</td>\n      <td>NaN</td>\n      <td>NaN</td>\n      <td>NaN</td>\n      <td>NaN</td>\n      <td>Part 1 Violent Crime</td>\n      <td>murder</td>\n      <td>NaN</td>\n      <td>NaN</td>\n      <td>NaN</td>\n      <td>Yes</td>\n    </tr>\n    <tr>\n      <th>3</th>\n      <td>Everton Brown</td>\n      <td>56</td>\n      <td>Male</td>\n      <td>Unknown Race</td>\n      <td>NaN</td>\n      <td>2021-05-08</td>\n      <td>NaN</td>\n      <td>Baltimore</td>\n      <td>MD</td>\n      <td>NaN</td>\n      <td>...</td>\n      <td>NaN</td>\n      <td>NaN</td>\n      <td>NaN</td>\n      <td>NaN</td>\n      <td>Part 1 Violent Crime</td>\n      <td>murder</td>\n      <td>NaN</td>\n      <td>NaN</td>\n      <td>NaN</td>\n      <td>Yes</td>\n    </tr>\n    <tr>\n      <th>4</th>\n      <td>Felix Jerry Marquez</td>\n      <td>34</td>\n      <td>Male</td>\n      <td>Hispanic</td>\n      <td>NaN</td>\n      <td>2021-05-08</td>\n      <td>NaN</td>\n      <td>Riverside</td>\n      <td>CA</td>\n      <td>NaN</td>\n      <td>...</td>\n      <td>NaN</td>\n      <td>NaN</td>\n      <td>NaN</td>\n      <td>NaN</td>\n      <td>Person with a gun</td>\n      <td>person with a gun</td>\n      <td>NaN</td>\n      <td>NaN</td>\n      <td>NaN</td>\n      <td>No</td>\n    </tr>\n  </tbody>\n</table>\n<p>5 rows × 35 columns</p>\n</div>"
     },
     "metadata": {}
    }
   ]
  },
  {
   "cell_type": "code",
   "metadata": {
    "tags": [],
    "cell_id": "00017-c5e996f8-69cb-4662-9522-bf193f35d5fa",
    "deepnote_to_be_reexecuted": false,
    "source_hash": "53da8d8d",
    "execution_start": 1621539424457,
    "execution_millis": 11,
    "deepnote_cell_type": "code"
   },
   "source": "df_fatal['Fleeing (Source: WaPo)'].value_counts()",
   "execution_count": null,
   "outputs": [
    {
     "output_type": "execute_result",
     "execution_count": 18,
     "data": {
      "text/plain": "Not fleeing     3794\nCar              963\nFoot             752\nOther            181\nnot fleeing      176\nfoot              65\ncar               51\nNot Fleeing       47\nother             24\nnot fleeing        3\nName: Fleeing (Source: WaPo), dtype: int64"
     },
     "metadata": {}
    }
   ]
  },
  {
   "cell_type": "code",
   "metadata": {
    "tags": [],
    "cell_id": "00018-314d5307-bd7f-4152-84b0-f462d7dc3817",
    "deepnote_to_be_reexecuted": false,
    "source_hash": "f1e669c",
    "execution_start": 1621539424466,
    "execution_millis": 447,
    "deepnote_cell_type": "code"
   },
   "source": "df_fatal['Cause of death'].hist()\nplt.xticks(rotation='vertical')",
   "execution_count": null,
   "outputs": [
    {
     "output_type": "execute_result",
     "execution_count": 19,
     "data": {
      "text/plain": "([0,\n  1,\n  2,\n  3,\n  4,\n  5,\n  6,\n  7,\n  8,\n  9,\n  10,\n  11,\n  12,\n  13,\n  14,\n  15,\n  16,\n  17,\n  18,\n  19,\n  20,\n  21,\n  22,\n  23,\n  24,\n  25,\n  26,\n  27,\n  28,\n  29,\n  30],\n [Text(0, 0, ''),\n  Text(0, 0, ''),\n  Text(0, 0, ''),\n  Text(0, 0, ''),\n  Text(0, 0, ''),\n  Text(0, 0, ''),\n  Text(0, 0, ''),\n  Text(0, 0, ''),\n  Text(0, 0, ''),\n  Text(0, 0, ''),\n  Text(0, 0, ''),\n  Text(0, 0, ''),\n  Text(0, 0, ''),\n  Text(0, 0, ''),\n  Text(0, 0, ''),\n  Text(0, 0, ''),\n  Text(0, 0, ''),\n  Text(0, 0, ''),\n  Text(0, 0, ''),\n  Text(0, 0, ''),\n  Text(0, 0, ''),\n  Text(0, 0, ''),\n  Text(0, 0, ''),\n  Text(0, 0, ''),\n  Text(0, 0, ''),\n  Text(0, 0, ''),\n  Text(0, 0, ''),\n  Text(0, 0, ''),\n  Text(0, 0, ''),\n  Text(0, 0, ''),\n  Text(0, 0, '')])"
     },
     "metadata": {}
    },
    {
     "data": {
      "text/plain": "<Figure size 432x288 with 1 Axes>",
      "image/png": "[encoded data removed]"
     },
     "metadata": {
      "needs_background": "light",
      "image/png": {
       "width": 381,
       "height": 448
      }
     },
     "output_type": "display_data"
    }
   ]
  },
  {
   "cell_type": "code",
   "metadata": {
    "tags": [],
    "cell_id": "00019-0f1929d9-cdb5-47bd-837c-9deefe69394b",
    "deepnote_to_be_reexecuted": false,
    "source_hash": "4b9746f9",
    "execution_start": 1621539424918,
    "execution_millis": 183,
    "deepnote_cell_type": "code"
   },
   "source": "df_fatal['Fleeing (Source: WaPo)'].hist()\nplt.xticks(rotation='vertical')",
   "execution_count": null,
   "outputs": [
    {
     "output_type": "execute_result",
     "execution_count": 20,
     "data": {
      "text/plain": "([0, 1, 2, 3, 4, 5, 6, 7, 8, 9],\n [Text(0, 0, ''),\n  Text(0, 0, ''),\n  Text(0, 0, ''),\n  Text(0, 0, ''),\n  Text(0, 0, ''),\n  Text(0, 0, ''),\n  Text(0, 0, ''),\n  Text(0, 0, ''),\n  Text(0, 0, ''),\n  Text(0, 0, '')])"
     },
     "metadata": {}
    },
    {
     "data": {
      "text/plain": "<Figure size 432x288 with 1 Axes>",
      "image/png": "[encoded data removed]"
     },
     "metadata": {
      "needs_background": "light",
      "image/png": {
       "width": 381,
       "height": 295
      }
     },
     "output_type": "display_data"
    }
   ]
  },
  {
   "cell_type": "code",
   "metadata": {
    "tags": [],
    "cell_id": "00020-c203f667-7d61-4c72-837f-520c087d77f1",
    "deepnote_to_be_reexecuted": false,
    "source_hash": "d1c1719d",
    "execution_start": 1621539425114,
    "execution_millis": 128,
    "deepnote_cell_type": "code"
   },
   "source": "df_fatal['Alleged Threat Level (Source: WaPo)'].hist()\nplt.xticks(rotation='vertical')",
   "execution_count": null,
   "outputs": [
    {
     "output_type": "execute_result",
     "execution_count": 21,
     "data": {
      "text/plain": "([0, 1, 2, 3, 4, 5],\n [Text(0, 0, ''),\n  Text(0, 0, ''),\n  Text(0, 0, ''),\n  Text(0, 0, ''),\n  Text(0, 0, ''),\n  Text(0, 0, '')])"
     },
     "metadata": {}
    },
    {
     "data": {
      "text/plain": "<Figure size 432x288 with 1 Axes>",
      "image/png": "[encoded data removed]"
     },
     "metadata": {
      "needs_background": "light",
      "image/png": {
       "width": 381,
       "height": 309
      }
     },
     "output_type": "display_data"
    }
   ]
  },
  {
   "cell_type": "code",
   "metadata": {
    "tags": [],
    "cell_id": "00021-88c6f9f2-bad0-4f19-9036-7ac65f4010a0",
    "deepnote_to_be_reexecuted": false,
    "source_hash": "d70510af",
    "execution_start": 1621539425243,
    "execution_millis": 190,
    "deepnote_cell_type": "code"
   },
   "source": "df_fatal['Body Camera (Source: WaPo)'].hist()\nplt.xticks(rotation='vertical')",
   "execution_count": null,
   "outputs": [
    {
     "output_type": "execute_result",
     "execution_count": 22,
     "data": {
      "text/plain": "([0, 1, 2, 3, 4, 5, 6, 7, 8],\n [Text(0, 0, ''),\n  Text(0, 0, ''),\n  Text(0, 0, ''),\n  Text(0, 0, ''),\n  Text(0, 0, ''),\n  Text(0, 0, ''),\n  Text(0, 0, ''),\n  Text(0, 0, ''),\n  Text(0, 0, '')])"
     },
     "metadata": {}
    },
    {
     "data": {
      "text/plain": "<Figure size 432x288 with 1 Axes>",
      "image/png": "[encoded data removed]"
     },
     "metadata": {
      "needs_background": "light",
      "image/png": {
       "width": 381,
       "height": 331
      }
     },
     "output_type": "display_data"
    }
   ]
  },
  {
   "cell_type": "code",
   "metadata": {
    "tags": [],
    "cell_id": "00022-8b93f294-2a01-4765-963b-514f8de5c360",
    "deepnote_to_be_reexecuted": false,
    "source_hash": "aa20d0af",
    "execution_start": 1621539425446,
    "execution_millis": 123,
    "deepnote_cell_type": "code"
   },
   "source": "df_fatal['Geography (via Trulia methodology based on zipcode population density: http://jedkolko.com/wp-content/uploads/2015/05/full-ZCTA-urban-suburban-rural-classification.xlsx )'].hist()\nplt.xticks(rotation='vertical')",
   "execution_count": null,
   "outputs": [
    {
     "output_type": "execute_result",
     "execution_count": 23,
     "data": {
      "text/plain": "([0, 1, 2, 3],\n [Text(0, 0, ''), Text(0, 0, ''), Text(0, 0, ''), Text(0, 0, '')])"
     },
     "metadata": {}
    },
    {
     "data": {
      "text/plain": "<Figure size 432x288 with 1 Axes>",
      "image/png": "[encoded data removed]"
     },
     "metadata": {
      "needs_background": "light",
      "image/png": {
       "width": 381,
       "height": 310
      }
     },
     "output_type": "display_data"
    }
   ]
  },
  {
   "cell_type": "code",
   "metadata": {
    "tags": [],
    "cell_id": "00023-3764243f-6176-40ab-9e32-dba54e9aca44",
    "deepnote_to_be_reexecuted": false,
    "source_hash": "b623e53d",
    "execution_start": 1621539425568,
    "execution_millis": 4,
    "deepnote_cell_type": "code"
   },
   "source": "",
   "execution_count": null,
   "outputs": []
  },
  {
   "cell_type": "markdown",
   "source": "# Project Description and Goals\nAcross the United States, there are altercations that result in killings by police officers, whether on-duty or off-duty. Each case is considered as a person dying from being shot, beaten, restrained, intentionally hit by a police vehicle, pepper sprayed, tasered, or otherwise harmed by police. \n\nFor our capstone, we are addressing the issue of police violence that has become a heated topic throughout the country in the recent years. As a team, we will be attempting to help law enforcement agencies spot risk factors so they may step in before risk transforms into actual harm.  \n\nThe open-sourced dataset we acquired from [Mapping Police Violence](https://mappingpoliceviolence.org/aboutthedata) has gathered over 9000 police killings from January 2013 to May 2021. Top drivers of civilian fatalities identified will shed light on changes to be made to save more lives. Then, we will use the features to apply to our classification models predicting the threat level of the victim (attacker or not).\n\n### Objectives for this project include:\n- Identifying the drivers of civilian fatalities. \n- Documenting the process and analysis throughout the data science pipeline.\n- Constructing a classification model that can predict what the victim's threat level is, given the features of the dataset.\n- Deliverables:\n    - README.md file containing overall project information. \n    - A well-documented jupyter notebook detailing the data science pipeline process.\n    - Python modules that automate the data acquisition, preparation, and exploration process.\n\n### Pipeline Process:\n1. Acquire\n2. Prepare\n3. Explore\n4. Model/Evaluate\n5. Deliver\n\n### Initial Hypotheses:\n- How many fatalities happened as a result of an attack by the civilian? (alleged threat level)\n- What are the fatalities by state: % killings vs pop\n- Is race a factor?\n- Does the police officer having a bodycam make a difference?\n- Where and what areas result in more killings?\n- What is happening in suburban fatalities?\n- Do symptoms of mental illness play a role in threat level?\n\n\n***\n### Project Imports\n\n\n***\n# Data Acquisition\n\n### Findings\n- what was messy and how it is going to be cleaned\n\n*** \n# Data Preparation\n- df from prepare and verify no nulls, shape, etc.\n- split data\n\n*** \n# Data Exploration\n- answer questions from initial hypotheses\n- write takeaways for each visual\n\n***\n# Data Modeling and Evaluation\n- set up X inputs and y target variables for each split\n- establish baseline prediction (mode) and baseline accuracy model\n- fit/transform/evaluate various classification algorithms and specify different feature selection/hyperparameters\n- compare baseline and train scores\n- select top 3 (?) models on training data to compare train scores to validate scores\n- select top model to test and then write takeaways in conclusion\n\n***\n# Conclusion\n### Takeaways \n- overall from modeling and from any other additional takeaways from project as a whole\n- possible recommendations: May include finding more appropriate interventions or training courses, or filling in detailed information, leaving none out in order to learn how to be better each time.\n\n### Next Steps",
   "metadata": {
    "tags": [],
    "cell_id": "00024-8717fb68-1fe6-4ee2-b717-64940e5b3f9c",
    "deepnote_cell_type": "markdown"
   }
  },
  {
   "cell_type": "markdown",
   "source": "",
   "metadata": {
    "tags": [],
    "cell_id": "00025-104c94b4-6b77-42c1-aa6c-3271216dfd67",
    "deepnote_cell_type": "markdown"
   }
  },
  {
   "cell_type": "markdown",
   "source": "<a style='text-decoration:none;line-height:16px;display:flex;color:#5B5B62;padding:10px;justify-content:end;' href='https://deepnote.com?utm_source=created-in-deepnote-cell&projectId=258e71fc-cf2b-48c3-8461-70ecd9787aa1' target=\"_blank\">\n<img alt='Created in deepnote.com' style='display:inline;max-height:16px;margin:0px;margin-right:7.5px;' src='data:image/svg+xml;base64,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' > </img>\nCreated in <span style='font-weight:600;margin-left:4px;'>Deepnote</span></a>",
   "metadata": {
    "tags": [],
    "created_in_deepnote_cell": true,
    "deepnote_cell_type": "markdown"
   }
  }
 ],
 "nbformat": 4,
 "nbformat_minor": 2,
 "metadata": {
  "orig_nbformat": 2,
  "deepnote": {
   "is_reactive": false
  },
  "deepnote_notebook_id": "d5cdbc56-b11e-4110-b945-3ba1daec74ae",
  "deepnote_execution_queue": []
 }
}