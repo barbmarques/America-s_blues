{
 "cells": [
  {
   "cell_type": "markdown",
   "metadata": {
    "cell_id": "00000-3441f495-115e-4844-a3ee-0feae2e2b7de",
    "deepnote_cell_type": "markdown"
   },
   "source": [
    "# Project Description and Goals\n",
    "Across the United States, there are altercations that result in killings by police officers, whether on-duty or off-duty. Each case is considered as a person dying from being shot, beaten, restrained, intentionally hit by a police vehicle, pepper sprayed, tasered, or otherwise harmed by police. \n",
    "\n",
    "For our capstone, we are addressing the issue of police violence that has become a heated topic throughout the country in the recent years. As a team, we will be attempting to help law enforcement agencies spot risk factors so they may step in before risk transforms into actual harm.  \n",
    "\n",
    "The open-sourced dataset we acquired from [Mapping Police Violence](https://mappingpoliceviolence.org/aboutthedata) has gathered over 9000 police killings from January 2013 to May 2021. Top drivers of civilian fatalities identified will shed light on changes to be made to save more lives. Then, we will use the features to apply to our classification models predicting the threat level of the victim (attacker or not).\n",
    "\n",
    "### Objectives for this project include:\n",
    "- Identifying the drivers of civilian fatalities. \n",
    "- Documenting the process and analysis throughout the data science pipeline.\n",
    "- Constructing a classification model that can predict what the victim's threat level is, given the features of the dataset.\n",
    "- Deliverables:\n",
    "    - README.md file containing overall project information. \n",
    "    - A well-documented jupyter notebook detailing the data science pipeline process.\n",
    "    - Python modules that automate the data acquisition, preparation, and exploration process.\n",
    "\n",
    "### Initial Hypotheses:\n",
    "- Does gender make a difference in alleged threat level?\n",
    "- How does mental illness affect each gender?\n",
    "- Do symptoms of mental illness play a role in threat level?\n",
    "- Is race a factor for alleged threat level?\n",
    "- Does the police officer having a bodycam make a difference in alleged threat level?\n",
    "- Is cause of death and alleged threat level independent of one another?\n",
    "- What are the fatalities by state: % killings vs pop\n",
    "- Where and what areas result in more killings?"
   ]
  },
  {
   "cell_type": "markdown",
   "metadata": {
    "cell_id": "00001-e8131b86-3ef9-463b-9cad-f900ac6b9491",
    "deepnote_cell_type": "markdown"
   },
   "source": [
    "___\n",
    "# Imports \n",
    "Import all necessary libraries and functions. "
   ]
  },
  {
   "cell_type": "code",
   "execution_count": 1,
   "metadata": {
    "cell_id": "00002-5a80c8ee-83bb-4b98-a637-c389a2654e1a",
    "deepnote_cell_type": "code",
    "deepnote_to_be_reexecuted": false,
    "execution_millis": 1655,
    "execution_start": 1622036121596,
    "source_hash": "cf821f9a"
   },
   "outputs": [],
   "source": [
    "import pandas as pd\n",
    "import numpy as np\n",
    "\n",
    "# Helper Functions\n",
    "import wrangle as w \n",
    "import explore as exp\n",
    "from explore import rfe, split, select_kbest\n",
    "\n",
    "# Visualizations\n",
    "import seaborn as sns\n",
    "import matplotlib.pyplot as plt\n",
    "\n",
    "# Ignore warnings\n",
    "import warnings\n",
    "warnings.filterwarnings(\"ignore\")\n",
    "\n",
    "# Hypothesis tests\n",
    "from scipy import stats\n",
    "from scipy.stats import chi2_contingency\n",
    "from scipy.stats import ttest_1samp\n",
    "from scipy.stats import ttest_ind\n",
    "\n",
    "# Split data\n",
    "from sklearn.model_selection import train_test_split\n",
    "\n",
    "#Feature Engineering\n",
    "from sklearn.feature_selection import SelectKBest, f_regression, chi2\n",
    "from sklearn.feature_selection import RFE\n",
    "\n",
    "# Evaluate models\n",
    "from sklearn.metrics import classification_report\n",
    "from sklearn.metrics import accuracy_score\n",
    "\n",
    "# Create models for classification ML:\n",
    "# Decision Tree  \n",
    "from sklearn.tree import DecisionTreeClassifier\n",
    "from sklearn.tree import export_graphviz\n",
    "\n",
    "# Random Forest\n",
    "from sklearn.ensemble import RandomForestClassifier\n",
    "\n",
    "# K-Nearest Neighbor(KNN)  \n",
    "from sklearn.neighbors import KNeighborsClassifier\n",
    "\n",
    "# Logistic Regression\n",
    "from sklearn.linear_model import LogisticRegression"
   ]
  },
  {
   "cell_type": "markdown",
   "metadata": {
    "cell_id": "00003-869b8508-37ca-471a-b855-9d27b61eea32",
    "deepnote_cell_type": "markdown"
   },
   "source": [
    "\n",
    "___\n",
    "# Acquire Data"
   ]
  },
  {
   "cell_type": "code",
   "execution_count": 2,
   "metadata": {
    "cell_id": "00004-416faafa-f938-4e39-a127-6aea5b174c8a",
    "deepnote_cell_type": "code",
    "deepnote_to_be_reexecuted": false,
    "execution_millis": 5485,
    "execution_start": 1622036123254,
    "source_hash": "bb51ee53",
    "tags": []
   },
   "outputs": [
    {
     "data": {
      "text/html": [
       "<div>\n",
       "<style scoped>\n",
       "    .dataframe tbody tr th:only-of-type {\n",
       "        vertical-align: middle;\n",
       "    }\n",
       "\n",
       "    .dataframe tbody tr th {\n",
       "        vertical-align: top;\n",
       "    }\n",
       "\n",
       "    .dataframe thead th {\n",
       "        text-align: right;\n",
       "    }\n",
       "</style>\n",
       "<table border=\"1\" class=\"dataframe\">\n",
       "  <thead>\n",
       "    <tr style=\"text-align: right;\">\n",
       "      <th></th>\n",
       "      <th>Victim's name</th>\n",
       "      <th>Victim's age</th>\n",
       "      <th>Victim's gender</th>\n",
       "      <th>Victim's race</th>\n",
       "      <th>URL of image of victim</th>\n",
       "      <th>Date of Incident (month/day/year)</th>\n",
       "      <th>Street Address of Incident</th>\n",
       "      <th>City</th>\n",
       "      <th>State</th>\n",
       "      <th>Zipcode</th>\n",
       "      <th>...</th>\n",
       "      <th>Off-Duty Killing?</th>\n",
       "      <th>Geography (via Trulia methodology based on zipcode population density: http://jedkolko.com/wp-content/uploads/2015/05/full-ZCTA-urban-suburban-rural-classification.xlsx )</th>\n",
       "      <th>MPV ID</th>\n",
       "      <th>Fatal Encounters ID</th>\n",
       "      <th>Encounter Type (DRAFT)</th>\n",
       "      <th>Initial Reported Reason for Encounter (DRAFT)</th>\n",
       "      <th>Names of Officers Involved (DRAFT)</th>\n",
       "      <th>Race of Officers Involved (DRAFT)</th>\n",
       "      <th>Known Past Shootings of Officer(s) (DRAFT)</th>\n",
       "      <th>Call for Service? (DRAFT)</th>\n",
       "    </tr>\n",
       "  </thead>\n",
       "  <tbody>\n",
       "    <tr>\n",
       "      <th>0</th>\n",
       "      <td>Kalon Horton</td>\n",
       "      <td>29</td>\n",
       "      <td>Male</td>\n",
       "      <td>Black</td>\n",
       "      <td>NaN</td>\n",
       "      <td>2021-05-09</td>\n",
       "      <td>NaN</td>\n",
       "      <td>Lancaster</td>\n",
       "      <td>TX</td>\n",
       "      <td>NaN</td>\n",
       "      <td>...</td>\n",
       "      <td>NaN</td>\n",
       "      <td>NaN</td>\n",
       "      <td>NaN</td>\n",
       "      <td>NaN</td>\n",
       "      <td>Part 1 Violent Crime</td>\n",
       "      <td>gunshots</td>\n",
       "      <td>NaN</td>\n",
       "      <td>NaN</td>\n",
       "      <td>NaN</td>\n",
       "      <td>Yes</td>\n",
       "    </tr>\n",
       "    <tr>\n",
       "      <th>1</th>\n",
       "      <td>Name withheld by police</td>\n",
       "      <td>NaN</td>\n",
       "      <td>Male</td>\n",
       "      <td>Unknown Race</td>\n",
       "      <td>NaN</td>\n",
       "      <td>2021-05-09</td>\n",
       "      <td>90 S. Main St.</td>\n",
       "      <td>Leicester</td>\n",
       "      <td>MA</td>\n",
       "      <td>1524.0</td>\n",
       "      <td>...</td>\n",
       "      <td>NaN</td>\n",
       "      <td>Suburban</td>\n",
       "      <td>NaN</td>\n",
       "      <td>NaN</td>\n",
       "      <td>Other</td>\n",
       "      <td>deliberate car crash</td>\n",
       "      <td>NaN</td>\n",
       "      <td>NaN</td>\n",
       "      <td>NaN</td>\n",
       "      <td>Yes</td>\n",
       "    </tr>\n",
       "    <tr>\n",
       "      <th>2</th>\n",
       "      <td>Jeffrey Mark Murray</td>\n",
       "      <td>62</td>\n",
       "      <td>Male</td>\n",
       "      <td>Unknown Race</td>\n",
       "      <td>NaN</td>\n",
       "      <td>2021-05-09</td>\n",
       "      <td>NaN</td>\n",
       "      <td>Greenville</td>\n",
       "      <td>SC</td>\n",
       "      <td>NaN</td>\n",
       "      <td>...</td>\n",
       "      <td>NaN</td>\n",
       "      <td>NaN</td>\n",
       "      <td>NaN</td>\n",
       "      <td>NaN</td>\n",
       "      <td>Part 1 Violent Crime</td>\n",
       "      <td>murder</td>\n",
       "      <td>NaN</td>\n",
       "      <td>NaN</td>\n",
       "      <td>NaN</td>\n",
       "      <td>Yes</td>\n",
       "    </tr>\n",
       "    <tr>\n",
       "      <th>3</th>\n",
       "      <td>Everton Brown</td>\n",
       "      <td>56</td>\n",
       "      <td>Male</td>\n",
       "      <td>Unknown Race</td>\n",
       "      <td>NaN</td>\n",
       "      <td>2021-05-08</td>\n",
       "      <td>NaN</td>\n",
       "      <td>Baltimore</td>\n",
       "      <td>MD</td>\n",
       "      <td>NaN</td>\n",
       "      <td>...</td>\n",
       "      <td>NaN</td>\n",
       "      <td>NaN</td>\n",
       "      <td>NaN</td>\n",
       "      <td>NaN</td>\n",
       "      <td>Part 1 Violent Crime</td>\n",
       "      <td>murder</td>\n",
       "      <td>NaN</td>\n",
       "      <td>NaN</td>\n",
       "      <td>NaN</td>\n",
       "      <td>Yes</td>\n",
       "    </tr>\n",
       "    <tr>\n",
       "      <th>4</th>\n",
       "      <td>Felix Jerry Marquez</td>\n",
       "      <td>34</td>\n",
       "      <td>Male</td>\n",
       "      <td>Hispanic</td>\n",
       "      <td>NaN</td>\n",
       "      <td>2021-05-08</td>\n",
       "      <td>NaN</td>\n",
       "      <td>Riverside</td>\n",
       "      <td>CA</td>\n",
       "      <td>NaN</td>\n",
       "      <td>...</td>\n",
       "      <td>NaN</td>\n",
       "      <td>NaN</td>\n",
       "      <td>NaN</td>\n",
       "      <td>NaN</td>\n",
       "      <td>Person with a gun</td>\n",
       "      <td>person with a gun</td>\n",
       "      <td>NaN</td>\n",
       "      <td>NaN</td>\n",
       "      <td>NaN</td>\n",
       "      <td>No</td>\n",
       "    </tr>\n",
       "  </tbody>\n",
       "</table>\n",
       "<p>5 rows × 35 columns</p>\n",
       "</div>"
      ],
      "text/plain": [
       "             Victim's name Victim's age Victim's gender Victim's race  \\\n",
       "0             Kalon Horton           29            Male         Black   \n",
       "1  Name withheld by police          NaN            Male  Unknown Race   \n",
       "2      Jeffrey Mark Murray           62            Male  Unknown Race   \n",
       "3            Everton Brown           56            Male  Unknown Race   \n",
       "4      Felix Jerry Marquez           34            Male      Hispanic   \n",
       "\n",
       "  URL of image of victim Date of Incident (month/day/year)  \\\n",
       "0                    NaN                        2021-05-09   \n",
       "1                    NaN                        2021-05-09   \n",
       "2                    NaN                        2021-05-09   \n",
       "3                    NaN                        2021-05-08   \n",
       "4                    NaN                        2021-05-08   \n",
       "\n",
       "  Street Address of Incident        City State  Zipcode  ...  \\\n",
       "0                        NaN   Lancaster    TX      NaN  ...   \n",
       "1             90 S. Main St.   Leicester    MA   1524.0  ...   \n",
       "2                        NaN  Greenville    SC      NaN  ...   \n",
       "3                        NaN   Baltimore    MD      NaN  ...   \n",
       "4                        NaN   Riverside    CA      NaN  ...   \n",
       "\n",
       "  Off-Duty Killing?  \\\n",
       "0               NaN   \n",
       "1               NaN   \n",
       "2               NaN   \n",
       "3               NaN   \n",
       "4               NaN   \n",
       "\n",
       "  Geography (via Trulia methodology based on zipcode population density: http://jedkolko.com/wp-content/uploads/2015/05/full-ZCTA-urban-suburban-rural-classification.xlsx )  \\\n",
       "0                                                NaN                                                                                                                           \n",
       "1                                           Suburban                                                                                                                           \n",
       "2                                                NaN                                                                                                                           \n",
       "3                                                NaN                                                                                                                           \n",
       "4                                                NaN                                                                                                                           \n",
       "\n",
       "  MPV ID Fatal Encounters ID Encounter Type (DRAFT)  \\\n",
       "0    NaN                 NaN   Part 1 Violent Crime   \n",
       "1    NaN                 NaN                  Other   \n",
       "2    NaN                 NaN   Part 1 Violent Crime   \n",
       "3    NaN                 NaN   Part 1 Violent Crime   \n",
       "4    NaN                 NaN      Person with a gun   \n",
       "\n",
       "  Initial Reported Reason for Encounter (DRAFT)  \\\n",
       "0                                      gunshots   \n",
       "1                          deliberate car crash   \n",
       "2                                        murder   \n",
       "3                                        murder   \n",
       "4                             person with a gun   \n",
       "\n",
       "  Names of Officers Involved (DRAFT) Race of Officers Involved (DRAFT)  \\\n",
       "0                                NaN                               NaN   \n",
       "1                                NaN                               NaN   \n",
       "2                                NaN                               NaN   \n",
       "3                                NaN                               NaN   \n",
       "4                                NaN                               NaN   \n",
       "\n",
       "  Known Past Shootings of Officer(s) (DRAFT) Call for Service? (DRAFT)  \n",
       "0                                        NaN                       Yes  \n",
       "1                                        NaN                       Yes  \n",
       "2                                        NaN                       Yes  \n",
       "3                                        NaN                       Yes  \n",
       "4                                        NaN                        No  \n",
       "\n",
       "[5 rows x 35 columns]"
      ]
     },
     "execution_count": 2,
     "metadata": {},
     "output_type": "execute_result"
    }
   ],
   "source": [
    "# reads data from MPV website's downloaded dataset\n",
    "df = pd.read_excel('data.xlsx')\n",
    "df.head()"
   ]
  },
  {
   "cell_type": "markdown",
   "metadata": {
    "cell_id": "00005-7e9de759-638f-4e2e-9823-cdd59de86202",
    "deepnote_cell_type": "markdown",
    "tags": []
   },
   "source": [
    "\n",
    "### Initial Data Summarization"
   ]
  },
  {
   "cell_type": "code",
   "execution_count": 3,
   "metadata": {
    "cell_id": "00006-66c9c220-a672-4eb2-96c2-c8ee87878fb2",
    "deepnote_cell_type": "code",
    "deepnote_to_be_reexecuted": false,
    "execution_millis": 13,
    "execution_start": 1622036128729,
    "source_hash": "cbfec6c2",
    "tags": []
   },
   "outputs": [
    {
     "data": {
      "text/plain": [
       "(9147, 35)"
      ]
     },
     "execution_count": 3,
     "metadata": {},
     "output_type": "execute_result"
    }
   ],
   "source": [
    "# rows and columns\n",
    "df.shape"
   ]
  },
  {
   "cell_type": "code",
   "execution_count": 4,
   "metadata": {
    "cell_id": "00007-3023c14a-dce9-4cab-a59e-2921c293098c",
    "deepnote_cell_type": "code",
    "deepnote_to_be_reexecuted": false,
    "execution_millis": 24,
    "execution_start": 1622036128746,
    "source_hash": "5451bed5",
    "tags": []
   },
   "outputs": [
    {
     "name": "stdout",
     "output_type": "stream",
     "text": [
      "<class 'pandas.core.frame.DataFrame'>\n",
      "RangeIndex: 9147 entries, 0 to 9146\n",
      "Data columns (total 35 columns):\n",
      " #   Column                                                                                                                                                                      Non-Null Count  Dtype         \n",
      "---  ------                                                                                                                                                                      --------------  -----         \n",
      " 0   Victim's name                                                                                                                                                               9147 non-null   object        \n",
      " 1   Victim's age                                                                                                                                                                9138 non-null   object        \n",
      " 2   Victim's gender                                                                                                                                                             9137 non-null   object        \n",
      " 3   Victim's race                                                                                                                                                               9147 non-null   object        \n",
      " 4   URL of image of victim                                                                                                                                                      4882 non-null   object        \n",
      " 5   Date of Incident (month/day/year)                                                                                                                                           9147 non-null   datetime64[ns]\n",
      " 6   Street Address of Incident                                                                                                                                                  9042 non-null   object        \n",
      " 7   City                                                                                                                                                                        9138 non-null   object        \n",
      " 8   State                                                                                                                                                                       9147 non-null   object        \n",
      " 9   Zipcode                                                                                                                                                                     9099 non-null   float64       \n",
      " 10  County                                                                                                                                                                      9130 non-null   object        \n",
      " 11  Agency responsible for death                                                                                                                                                9143 non-null   object        \n",
      " 12  ORI Agency Identifier (if available)                                                                                                                                        9144 non-null   object        \n",
      " 13  Cause of death                                                                                                                                                              9147 non-null   object        \n",
      " 14  A brief description of the circumstances surrounding the death                                                                                                              9132 non-null   object        \n",
      " 15  Official disposition of death (justified or other)                                                                                                                          9136 non-null   object        \n",
      " 16  Criminal Charges?                                                                                                                                                           9147 non-null   object        \n",
      " 17  Link to news article or photo of official document                                                                                                                          9147 non-null   object        \n",
      " 18  Symptoms of mental illness?                                                                                                                                                 9086 non-null   object        \n",
      " 19  Armed/Unarmed Status                                                                                                                                                        9147 non-null   object        \n",
      " 20  Alleged Weapon (Source: WaPo and Review of Cases Not Included in WaPo Database)                                                                                             9147 non-null   object        \n",
      " 21  Alleged Threat Level (Source: WaPo)                                                                                                                                         6750 non-null   object        \n",
      " 22  Fleeing (Source: WaPo)                                                                                                                                                      6056 non-null   object        \n",
      " 23  Body Camera (Source: WaPo)                                                                                                                                                  5982 non-null   object        \n",
      " 24  WaPo ID (If included in WaPo database)                                                                                                                                      6048 non-null   float64       \n",
      " 25  Off-Duty Killing?                                                                                                                                                           248 non-null    object        \n",
      " 26  Geography (via Trulia methodology based on zipcode population density: http://jedkolko.com/wp-content/uploads/2015/05/full-ZCTA-urban-suburban-rural-classification.xlsx )  9122 non-null   object        \n",
      " 27  MPV ID                                                                                                                                                                      9068 non-null   float64       \n",
      " 28  Fatal Encounters ID                                                                                                                                                         9016 non-null   float64       \n",
      " 29  Encounter Type (DRAFT)                                                                                                                                                      4839 non-null   object        \n",
      " 30  Initial Reported Reason for Encounter (DRAFT)                                                                                                                               4839 non-null   object        \n",
      " 31  Names of Officers Involved (DRAFT)                                                                                                                                          1394 non-null   object        \n",
      " 32  Race of Officers Involved (DRAFT)                                                                                                                                           341 non-null    object        \n",
      " 33  Known Past Shootings of Officer(s) (DRAFT)                                                                                                                                  74 non-null     object        \n",
      " 34  Call for Service? (DRAFT)                                                                                                                                                   3616 non-null   object        \n",
      "dtypes: datetime64[ns](1), float64(4), object(30)\n",
      "memory usage: 2.4+ MB\n"
     ]
    }
   ],
   "source": [
    "# list of column names and data types with information\n",
    "df.info()"
   ]
  },
  {
   "cell_type": "code",
   "execution_count": 5,
   "metadata": {
    "cell_id": "00008-9358fbc7-36f0-4492-a899-2127b3c60a54",
    "deepnote_cell_type": "code",
    "deepnote_to_be_reexecuted": false,
    "execution_millis": 13,
    "execution_start": 1622036128777,
    "source_hash": "f099b8f5",
    "tags": []
   },
   "outputs": [
    {
     "data": {
      "text/plain": [
       "Victim's name                                                                                                                                                                    0\n",
       "Victim's age                                                                                                                                                                     9\n",
       "Victim's gender                                                                                                                                                                 10\n",
       "Victim's race                                                                                                                                                                    0\n",
       "URL of image of victim                                                                                                                                                        4265\n",
       "Date of Incident (month/day/year)                                                                                                                                                0\n",
       "Street Address of Incident                                                                                                                                                     105\n",
       "City                                                                                                                                                                             9\n",
       "State                                                                                                                                                                            0\n",
       "Zipcode                                                                                                                                                                         48\n",
       "County                                                                                                                                                                          17\n",
       "Agency responsible for death                                                                                                                                                     4\n",
       "ORI Agency Identifier (if available)                                                                                                                                             3\n",
       "Cause of death                                                                                                                                                                   0\n",
       "A brief description of the circumstances surrounding the death                                                                                                                  15\n",
       "Official disposition of death (justified or other)                                                                                                                              11\n",
       "Criminal Charges?                                                                                                                                                                0\n",
       "Link to news article or photo of official document                                                                                                                               0\n",
       "Symptoms of mental illness?                                                                                                                                                     61\n",
       "Armed/Unarmed Status                                                                                                                                                             0\n",
       "Alleged Weapon (Source: WaPo and Review of Cases Not Included in WaPo Database)                                                                                                  0\n",
       "Alleged Threat Level (Source: WaPo)                                                                                                                                           2397\n",
       "Fleeing (Source: WaPo)                                                                                                                                                        3091\n",
       "Body Camera (Source: WaPo)                                                                                                                                                    3165\n",
       "WaPo ID (If included in WaPo database)                                                                                                                                        3099\n",
       "Off-Duty Killing?                                                                                                                                                             8899\n",
       "Geography (via Trulia methodology based on zipcode population density: http://jedkolko.com/wp-content/uploads/2015/05/full-ZCTA-urban-suburban-rural-classification.xlsx )      25\n",
       "MPV ID                                                                                                                                                                          79\n",
       "Fatal Encounters ID                                                                                                                                                            131\n",
       "Encounter Type (DRAFT)                                                                                                                                                        4308\n",
       "Initial Reported Reason for Encounter (DRAFT)                                                                                                                                 4308\n",
       "Names of Officers Involved (DRAFT)                                                                                                                                            7753\n",
       "Race of Officers Involved (DRAFT)                                                                                                                                             8806\n",
       "Known Past Shootings of Officer(s) (DRAFT)                                                                                                                                    9073\n",
       "Call for Service? (DRAFT)                                                                                                                                                     5531\n",
       "dtype: int64"
      ]
     },
     "execution_count": 5,
     "metadata": {},
     "output_type": "execute_result"
    }
   ],
   "source": [
    "# check nulls\n",
    "df.isnull().sum()"
   ]
  },
  {
   "cell_type": "code",
   "execution_count": 6,
   "metadata": {
    "cell_id": "00009-b8f46887-c48e-4bb6-a25d-9d2877862d50",
    "deepnote_cell_type": "code",
    "deepnote_to_be_reexecuted": false,
    "execution_millis": 14,
    "execution_start": 1622036128830,
    "source_hash": "986d469e",
    "tags": []
   },
   "outputs": [
    {
     "name": "stdout",
     "output_type": "stream",
     "text": [
      "VICTIM'S AGE\n",
      "Unknown    331\n",
      "25         299\n",
      "27         294\n",
      "31         290\n",
      "28         289\n",
      "          ... \n",
      "88           1\n",
      "10           1\n",
      "7            1\n",
      "85           1\n",
      "107          1\n",
      "Name: Victim's age, Length: 89, dtype: int64\n",
      "-------------------------------------\n",
      "VICTIM'S GENDER\n",
      "Male           8668\n",
      "Female          453\n",
      "Transgender       9\n",
      "Unknown           6\n",
      "Male              1\n",
      "Name: Victim's gender, dtype: int64\n",
      "-------------------------------------\n",
      "VICTIM'S RACE\n",
      "White                     3993\n",
      "Black                     2306\n",
      "Hispanic                  1631\n",
      "Unknown Race               896\n",
      "Asian                      135\n",
      "Native American            130\n",
      "Pacific Islander            52\n",
      "Unknown race                 2\n",
      "Asian/Pacific Islander       1\n",
      "Hispanic                     1\n",
      "Name: Victim's race, dtype: int64\n",
      "-------------------------------------\n",
      "CAUSE OF DEATH\n",
      "Gunshot                                    8434\n",
      "Gunshot, Taser                              273\n",
      "Taser                                       250\n",
      "Vehicle                                      48\n",
      "Physical Restraint                           33\n",
      "Beaten                                       31\n",
      "Tasered                                      21\n",
      "Asphyxiated                                   9\n",
      "Physical restraint                            9\n",
      "Other                                         6\n",
      "Gunshot, Police Dog                           5\n",
      "Pepper Spray                                  4\n",
      "Gunshot, Pepper Spray                         4\n",
      "Bean bag                                      2\n",
      "Taser, Physical Restraint                     2\n",
      "Bomb                                          1\n",
      "Taser, Baton                                  1\n",
      "Gunshot, Taser, Baton                         1\n",
      "Taser, Pepper Spray, Beaten                   1\n",
      "Gunshot, Unspecified Less Lethal Weapon       1\n",
      "Gunshot, Stabbed                              1\n",
      "Gunshot, Taser, Beanbag Shotgun               1\n",
      "Taser, Pepper spray, beaten                   1\n",
      "Gunshot, Beanbag Gun                          1\n",
      "Gunshot, Bean Bag Gun                         1\n",
      "Gunshot, Vehicle                              1\n",
      "Taser, Beaten                                 1\n",
      "Gunshot, Taser, Pepper spray                  1\n",
      "Baton, Pepper Spray, Physical Restraint       1\n",
      "Chemical agent/Pepper spray                   1\n",
      "Beaten/Bludgeoned with instrument             1\n",
      "Name: Cause of death, dtype: int64\n",
      "-------------------------------------\n",
      "OFFICIAL DISPOSITION OF DEATH (JUSTIFIED OR OTHER)\n",
      "Pending investigation/No Known Charges                                                4852\n",
      "Unreported                                                                            1223\n",
      "Pending investigation                                                                 1087\n",
      "Justified                                                                              651\n",
      "Justified by District Attorney                                                         350\n",
      "                                                                                      ... \n",
      "Charged with assault                                                                     1\n",
      "Justified by Grand Jury                                                                  1\n",
      "Pending investigation/No Known Charges; Snohomish County Multiagency Response Team       1\n",
      "Charged with second-degree murder, Acquitted                                             1\n",
      "Charged, Convicted of Third Degree Murder                                                1\n",
      "Name: Official disposition of death (justified or other), Length: 154, dtype: int64\n",
      "-------------------------------------\n",
      "CRIMINAL CHARGES?\n",
      "No known charges                                                                 8993\n",
      "Charged with a crime                                                               67\n",
      "Charged, Acquitted                                                                 32\n",
      "Charged, Charges Dropped                                                            7\n",
      "Charged, Mistrial                                                                   6\n",
      "Charged, Convicted                                                                  5\n",
      "Charged, Convicted, Sentenced to 10 years in prison                                 2\n",
      "Charged, Convicted, Sentenced to 5 years probation.                                 2\n",
      "Charged, Convicted, Sentenced to 30 years in prison                                 2\n",
      "Charged, Convicted, Sentenced to life in prison                                     2\n",
      "Charged, Convicted, Sentenced to 40 years to Life in prison                         1\n",
      "Charged, Convicted, Sentenced to 6 years in prison                                  1\n",
      "Charged, Mistrial, Plead Guilty to Civil Rights Charges                             1\n",
      "Charged, Plead Guilty to Manslaughter, Sentenced to 5 years in prison               1\n",
      "Charged, Convicted, Sentenced to 1 year in prison and 4 years probation             1\n",
      "Charged, Convicted, Sentenced to 10 Years of Prison                                 1\n",
      "Charged, Convicted, Sentenced to Life in Prison                                     1\n",
      "Charged, Convicted, Sentenced to 25 years in prison                                 1\n",
      "Charged, Convicted, Sentenced to 1 year in jail, 3 years suspended                  1\n",
      "Charged, Convicted, Sentenced to 5 years in prison                                  1\n",
      "Charged, Convicted of reckless homicide, sentenced to 1 year in prison              1\n",
      "Charged, Convicted, Sentenced to 12 years in prison and 8 years in probation        1\n",
      "Charged, Convicted of assault                                                       1\n",
      "Charged, Convicted, Sentenced to 50 years                                           1\n",
      "Charged, Convicted, Sentenced to life in prison without parole, plus 16 years       1\n",
      "Charged, Plead No Contest, Sentenced to 10 years probation                          1\n",
      "Charged, Convicted, Sentenced to 4 years                                            1\n",
      "Charged, Convicted, Sentenced to 7 years in prison                                  1\n",
      "Charged, Mistrial, Plead Guilty to Manslaughter                                     1\n",
      "Charged, Convicted, Sentenced to 6 years                                            1\n",
      "Charged, Convicted, Sentenced to 3 years probation                                  1\n",
      "Charged, Convicted, Sentenced to 40 years in prison                                 1\n",
      "Charged, Convicted, Sentenced to 18 months                                          1\n",
      "Charged, Convicted, Sentenced to 20 years in prison                                 1\n",
      "Charged, Convicted, Sentenced to 16 years in prison                                 1\n",
      "Charged, Convicted, Sentenced to 3 months in jail                                   1\n",
      "Charged, Convicted, Sentenced to 1 year in prison                                   1\n",
      "Charged, Convicted, Sentenced to 2.5 years in prison                                1\n",
      "Charged, Convicted, Sentenced to 14 years in prison                                 1\n",
      "Name: Criminal Charges?, dtype: int64\n",
      "-------------------------------------\n",
      "SYMPTOMS OF MENTAL ILLNESS?\n",
      "No                         5897\n",
      "Yes                        1678\n",
      "Unknown                    1179\n",
      "Drug or alcohol use         326\n",
      "Drug or Alcohol Use           2\n",
      "Unknown                       1\n",
      "unknown                       1\n",
      "Yes/Drug or alcohol use       1\n",
      "Unkown                        1\n",
      "Name: Symptoms of mental illness?, dtype: int64\n",
      "-------------------------------------\n",
      "ARMED/UNARMED STATUS\n",
      "Allegedly Armed                       6552\n",
      "Unarmed/Did Not Have Actual Weapon    1212\n",
      "Unclear                                764\n",
      "Vehicle                                594\n",
      "Allegedly armed                         24\n",
      "Unclear                                  1\n",
      "Name: Armed/Unarmed Status, dtype: int64\n",
      "-------------------------------------\n",
      "ALLEGED WEAPON (SOURCE: WAPO AND REVIEW OF CASES NOT INCLUDED IN WAPO DATABASE)\n",
      "gun                             4814\n",
      "knife                           1200\n",
      "no object                        926\n",
      "undetermined                     598\n",
      "vehicle                          529\n",
      "                                ... \n",
      "mallett                            1\n",
      "flashlight                         1\n",
      "knife and scissors                 1\n",
      "baseball bat and screwdriver       1\n",
      "fireworks                          1\n",
      "Name: Alleged Weapon (Source: WaPo and Review of Cases Not Included in WaPo Database), Length: 176, dtype: int64\n",
      "-------------------------------------\n",
      "ALLEGED THREAT LEVEL (SOURCE: WAPO)\n",
      "attack          4332\n",
      "other           2052\n",
      "undetermined     363\n",
      "None               1\n",
      "Other              1\n",
      "none               1\n",
      "Name: Alleged Threat Level (Source: WaPo), dtype: int64\n",
      "-------------------------------------\n",
      "FLEEING (SOURCE: WAPO)\n",
      "Not fleeing     3794\n",
      "Car              963\n",
      "Foot             752\n",
      "Other            181\n",
      "not fleeing      176\n",
      "foot              65\n",
      "car               51\n",
      "Not Fleeing       47\n",
      "other             24\n",
      "not fleeing        3\n",
      "Name: Fleeing (Source: WaPo), dtype: int64\n",
      "-------------------------------------\n",
      "BODY CAMERA (SOURCE: WAPO)\n",
      "No                    5044\n",
      "Yes                    615\n",
      "no                     261\n",
      "yes                     46\n",
      "Surveillance Video       5\n",
      "Bystander Video          4\n",
      "Dashcam Video            2\n",
      "Surveillance video       2\n",
      "surveillance video       1\n",
      "Dashcam video            1\n",
      "cell phone video         1\n",
      "Name: Body Camera (Source: WaPo), dtype: int64\n",
      "-------------------------------------\n",
      "OFF-DUTY KILLING?\n",
      "Off-Duty    231\n",
      "Off-duty     14\n",
      "off-duty      3\n",
      "Name: Off-Duty Killing?, dtype: int64\n",
      "-------------------------------------\n",
      "GEOGRAPHY (VIA TRULIA METHODOLOGY BASED ON ZIPCODE POPULATION DENSITY: HTTP://JEDKOLKO.COM/WP-CONTENT/UPLOADS/2015/05/FULL-ZCTA-URBAN-SUBURBAN-RURAL-CLASSIFICATION.XLSX )\n",
      "Suburban        4550\n",
      "Urban           2448\n",
      "Rural           2043\n",
      "Undetermined      81\n",
      "Name: Geography (via Trulia methodology based on zipcode population density: http://jedkolko.com/wp-content/uploads/2015/05/full-ZCTA-urban-suburban-rural-classification.xlsx ), dtype: int64\n",
      "-------------------------------------\n",
      "ENCOUNTER TYPE (DRAFT)\n",
      "Part 1 Violent Crime                                                     1283\n",
      "Other Non-Violent Offense                                                 928\n",
      "Traffic Stop                                                              497\n",
      "Mental Health/Welfare Check                                               494\n",
      "Domestic Disturbance                                                      383\n",
      "                                                                         ... \n",
      "Domestic Distubance-intimate partner (wife) and family                      1\n",
      "Person with a Weapon (knife, explosive)                                     1\n",
      "Part 1 Violent Crime/Domestic Disturbance (intimate partner violence)       1\n",
      "Person with a Weapon (gun and knife)/Other Non-Violent Offense              1\n",
      "Domestic Disturbance-familiy (immediate)                                    1\n",
      "Name: Encounter Type (DRAFT), Length: 66, dtype: int64\n",
      "-------------------------------------\n",
      "INITIAL REPORTED REASON FOR ENCOUNTER (DRAFT)\n",
      "Traffic violation                                                              237\n",
      "Shooting                                                                       184\n",
      "domestic disturbance                                                           152\n",
      "Domestic Disturbance-no specific details                                       131\n",
      "domestic incident                                                               93\n",
      "                                                                              ... \n",
      "surveillance operation                                                           1\n",
      "suspect - kidnapping woman at gunpoint                                           1\n",
      "Warrant (arrest-assault)                                                         1\n",
      "traffic violation (speeding)                                                     1\n",
      "receiving treatment for health issue, allegedly tried to grab officer's gun      1\n",
      "Name: Initial Reported Reason for Encounter (DRAFT), Length: 1475, dtype: int64\n",
      "-------------------------------------\n",
      "RACE OF OFFICERS INVOLVED (DRAFT)\n",
      "White                                                                 148\n",
      "White, White                                                           47\n",
      "Hispanic                                                               24\n",
      "White, White, White                                                    13\n",
      "Black                                                                  13\n",
      "                                                                     ... \n",
      "White, White, Hispanic, White, White, White                             1\n",
      "Unknown, Unknown, Unknown                                               1\n",
      "Unknown, Unknown, Unknown, Unknown, Unknown, White, White, Unknown      1\n",
      "Hispanic, Unknown, Unknown                                              1\n",
      "White, White, White, White, White                                       1\n",
      "Name: Race of Officers Involved (DRAFT), Length: 63, dtype: int64\n",
      "-------------------------------------\n",
      "KNOWN PAST SHOOTINGS OF OFFICER(S) (DRAFT)\n",
      "1       50\n",
      "2       11\n",
      "None     5\n",
      "3        5\n",
      "4        2\n",
      "No       1\n",
      "Name: Known Past Shootings of Officer(s) (DRAFT), dtype: int64\n",
      "-------------------------------------\n",
      "CALL FOR SERVICE? (DRAFT)\n",
      "Yes            2257\n",
      "No             1099\n",
      "Unavailable     203\n",
      "No               55\n",
      "yes               2\n",
      "Name: Call for Service? (DRAFT), dtype: int64\n",
      "-------------------------------------\n"
     ]
    }
   ],
   "source": [
    "# specify useless columns and what to exclude for counts\n",
    "useless_columns = df.columns[35:]\n",
    "exclusions = [\"Victim's name\", \n",
    "              \"URL of image of victim\", \n",
    "              \"Date of Incident (month/day/year)\", \n",
    "              \"Street Address of Incident\", \n",
    "              \"City\", \"State\", \"Zipcode\", \"County\", \n",
    "              \"Agency responsible for death\", \"ORI Agency Identifier (if available)\", \n",
    "              \"A brief description of the circumstances surrounding the death\", \n",
    "              \"Link to news article or photo of official document\", \n",
    "              \"Link to news article or photo of official document\", \n",
    "              \"WaPo ID (If included in WaPo database)\", \n",
    "              \"MPV ID\", \n",
    "              \"Fatal Encounters ID\", \n",
    "              \"Names of Officers Involved (DRAFT)\"]\n",
    "\n",
    "# getting value counts for specific columns\n",
    "for column in df.columns:\n",
    "    if column not in exclusions and column not in useless_columns:\n",
    "        print(column.upper())\n",
    "        print(df[column].value_counts())\n",
    "        print(\"-------------------------------------\")"
   ]
  },
  {
   "cell_type": "code",
   "execution_count": 7,
   "metadata": {
    "cell_id": "00010-69d4947e-e402-4e6d-a3a7-ce6e0cf04a06",
    "deepnote_cell_type": "code",
    "deepnote_to_be_reexecuted": false,
    "execution_millis": 1707,
    "execution_start": 1622036128898,
    "source_hash": "e1563a2a",
    "tags": []
   },
   "outputs": [
    {
     "name": "stdout",
     "output_type": "stream",
     "text": [
      "------------------------------------------------------\n",
      "------------------------------------------------------\n"
     ]
    },
    {
     "data": {
      "image/png": "[encoded data removed]",
      "text/plain": [
       "<Figure size 432x288 with 1 Axes>"
      ]
     },
     "metadata": {
      "needs_background": "light"
     },
     "output_type": "display_data"
    },
    {
     "name": "stdout",
     "output_type": "stream",
     "text": [
      "------------------------------------------------------\n",
      "------------------------------------------------------\n"
     ]
    },
    {
     "data": {
      "image/png": "[encoded data removed]",
      "text/plain": [
       "<Figure size 432x288 with 1 Axes>"
      ]
     },
     "metadata": {
      "needs_background": "light"
     },
     "output_type": "display_data"
    },
    {
     "name": "stdout",
     "output_type": "stream",
     "text": [
      "------------------------------------------------------\n",
      "------------------------------------------------------\n"
     ]
    },
    {
     "data": {
      "image/png": "[encoded data removed]",
      "text/plain": [
       "<Figure size 432x288 with 1 Axes>"
      ]
     },
     "metadata": {
      "needs_background": "light"
     },
     "output_type": "display_data"
    },
    {
     "name": "stdout",
     "output_type": "stream",
     "text": [
      "------------------------------------------------------\n",
      "------------------------------------------------------\n"
     ]
    },
    {
     "data": {
      "image/png": "[encoded data removed]",
      "text/plain": [
       "<Figure size 432x288 with 1 Axes>"
      ]
     },
     "metadata": {
      "needs_background": "light"
     },
     "output_type": "display_data"
    },
    {
     "name": "stdout",
     "output_type": "stream",
     "text": [
      "------------------------------------------------------\n",
      "------------------------------------------------------\n"
     ]
    },
    {
     "data": {
      "image/png": "[encoded data removed]",
      "text/plain": [
       "<Figure size 432x288 with 1 Axes>"
      ]
     },
     "metadata": {
      "needs_background": "light"
     },
     "output_type": "display_data"
    },
    {
     "name": "stdout",
     "output_type": "stream",
     "text": [
      "------------------------------------------------------\n",
      "------------------------------------------------------\n"
     ]
    },
    {
     "data": {
      "image/png": "[encoded data removed]",
      "text/plain": [
       "<Figure size 432x288 with 1 Axes>"
      ]
     },
     "metadata": {
      "needs_background": "light"
     },
     "output_type": "display_data"
    },
    {
     "name": "stdout",
     "output_type": "stream",
     "text": [
      "------------------------------------------------------\n",
      "------------------------------------------------------\n"
     ]
    },
    {
     "data": {
      "image/png": "[encoded data removed]",
      "text/plain": [
       "<Figure size 432x288 with 1 Axes>"
      ]
     },
     "metadata": {
      "needs_background": "light"
     },
     "output_type": "display_data"
    },
    {
     "name": "stdout",
     "output_type": "stream",
     "text": [
      "------------------------------------------------------\n",
      "------------------------------------------------------\n"
     ]
    },
    {
     "data": {
      "image/png": "[encoded data removed]",
      "text/plain": [
       "<Figure size 432x288 with 1 Axes>"
      ]
     },
     "metadata": {
      "needs_background": "light"
     },
     "output_type": "display_data"
    },
    {
     "name": "stdout",
     "output_type": "stream",
     "text": [
      "------------------------------------------------------\n",
      "------------------------------------------------------\n"
     ]
    },
    {
     "data": {
      "image/png": "[encoded data removed]",
      "text/plain": [
       "<Figure size 432x288 with 1 Axes>"
      ]
     },
     "metadata": {
      "needs_background": "light"
     },
     "output_type": "display_data"
    },
    {
     "name": "stdout",
     "output_type": "stream",
     "text": [
      "------------------------------------------------------\n",
      "------------------------------------------------------\n"
     ]
    },
    {
     "data": {
      "image/png": "[encoded data removed]",
      "text/plain": [
       "<Figure size 432x288 with 1 Axes>"
      ]
     },
     "metadata": {
      "needs_background": "light"
     },
     "output_type": "display_data"
    }
   ],
   "source": [
    "# specify more columns to exclude for univariate distributions\n",
    "more_exclusions = [\"Victim's age\", \n",
    "                   \"Cause of death\", \n",
    "                   \"Official disposition of death (justified or other)\", \n",
    "                   \"Alleged Weapon (Source: WaPo and Review of Cases Not Included in WaPo Database)\", \n",
    "                   \"Encounter Type (DRAFT)\", \n",
    "                   \"Initial Reported Reason for Encounter (DRAFT)\", \n",
    "                   \"Criminal Charges?\",\n",
    "                   \"Race of Officers Involved (DRAFT)\", \n",
    "                   \"Geography (via Trulia methodology based on zipcode population density: http://jedkolko.com/wp-content/uploads/2015/05/full-ZCTA-urban-suburban-rural-classification.xlsx )\"]\n",
    "\n",
    "# univariate distributions\n",
    "for column in df.columns:\n",
    "    if column not in exclusions and column not in useless_columns and column not in more_exclusions:\n",
    "        sns.countplot(x=df[column], data=df, palette = 'ocean_r')\n",
    "        print(\"------------------------------------------------------\")\n",
    "        print(\"------------------------------------------------------\")\n",
    "        plt.xticks(rotation=65)\n",
    "        plt.show()"
   ]
  },
  {
   "cell_type": "markdown",
   "metadata": {
    "cell_id": "00011-6c3f83f0-add0-4b6b-a8a4-36b034f99417",
    "deepnote_cell_type": "markdown",
    "tags": []
   },
   "source": [
    "### Takeaways\n",
    "- There are a couple of unnecessary columns (begin with `Unnamed:`).\n",
    "- Messy column names need to be renamed for better readability.\n",
    "- A lot of columns are not needed due to nulls/unusable and will need to be dropped. \n",
    "- Most values in each column have a wide variety of text variation. These should be lowercased, stripped, and grouped. \n",
    "- Many nulls in dataset that need to be filled in or dropped.\n",
    "- Dummy variables and encoding needs to be done to pretty much all of the dataset in order to model/evaluate. \n",
    "- Possibly a good idea to create age bins.\n",
    "- Possible exploration with time series. Set `Date of Incident` as datetime index?\n"
   ]
  },
  {
   "cell_type": "markdown",
   "metadata": {
    "cell_id": "00012-9db3b09b-558b-4149-a7f6-e5506eba2498",
    "deepnote_cell_type": "markdown"
   },
   "source": [
    "\n",
    "___\n",
    "# Prepare and Split Data"
   ]
  },
  {
   "cell_type": "code",
   "execution_count": 8,
   "metadata": {
    "cell_id": "00013-e6141de5-c6f1-4428-9dbb-8d50287b3ab2",
    "deepnote_cell_type": "code",
    "deepnote_to_be_reexecuted": false,
    "execution_millis": 5675,
    "execution_start": 1622036130564,
    "source_hash": "12dfb9ed",
    "tags": []
   },
   "outputs": [
    {
     "data": {
      "text/html": [
       "<div>\n",
       "<style scoped>\n",
       "    .dataframe tbody tr th:only-of-type {\n",
       "        vertical-align: middle;\n",
       "    }\n",
       "\n",
       "    .dataframe tbody tr th {\n",
       "        vertical-align: top;\n",
       "    }\n",
       "\n",
       "    .dataframe thead th {\n",
       "        text-align: right;\n",
       "    }\n",
       "</style>\n",
       "<table border=\"1\" class=\"dataframe\">\n",
       "  <thead>\n",
       "    <tr style=\"text-align: right;\">\n",
       "      <th></th>\n",
       "      <th>age</th>\n",
       "      <th>gender</th>\n",
       "      <th>race</th>\n",
       "      <th>date</th>\n",
       "      <th>city</th>\n",
       "      <th>state</th>\n",
       "      <th>zipcode</th>\n",
       "      <th>county</th>\n",
       "      <th>agency_responsible</th>\n",
       "      <th>cause_of_death</th>\n",
       "      <th>...</th>\n",
       "      <th>age_bins</th>\n",
       "      <th>unknown</th>\n",
       "      <th>under 12</th>\n",
       "      <th>12-17</th>\n",
       "      <th>18-24</th>\n",
       "      <th>25-34</th>\n",
       "      <th>35-44</th>\n",
       "      <th>45-54</th>\n",
       "      <th>55-64</th>\n",
       "      <th>65+</th>\n",
       "    </tr>\n",
       "  </thead>\n",
       "  <tbody>\n",
       "    <tr>\n",
       "      <th>7</th>\n",
       "      <td>52</td>\n",
       "      <td>male</td>\n",
       "      <td>unknown race</td>\n",
       "      <td>2021-05-07</td>\n",
       "      <td>rutledge</td>\n",
       "      <td>tn</td>\n",
       "      <td>37861.0</td>\n",
       "      <td>grainger</td>\n",
       "      <td>bean station police department, rutledge polic...</td>\n",
       "      <td>gunshot</td>\n",
       "      <td>...</td>\n",
       "      <td>45-54</td>\n",
       "      <td>0</td>\n",
       "      <td>0</td>\n",
       "      <td>0</td>\n",
       "      <td>0</td>\n",
       "      <td>0</td>\n",
       "      <td>0</td>\n",
       "      <td>1</td>\n",
       "      <td>0</td>\n",
       "      <td>0</td>\n",
       "    </tr>\n",
       "    <tr>\n",
       "      <th>8</th>\n",
       "      <td>47</td>\n",
       "      <td>male</td>\n",
       "      <td>white</td>\n",
       "      <td>2021-05-06</td>\n",
       "      <td>san andreas</td>\n",
       "      <td>ca</td>\n",
       "      <td>95249.0</td>\n",
       "      <td>calaveras</td>\n",
       "      <td>calaveras county sheriff's office</td>\n",
       "      <td>gunshot</td>\n",
       "      <td>...</td>\n",
       "      <td>45-54</td>\n",
       "      <td>0</td>\n",
       "      <td>0</td>\n",
       "      <td>0</td>\n",
       "      <td>0</td>\n",
       "      <td>0</td>\n",
       "      <td>0</td>\n",
       "      <td>1</td>\n",
       "      <td>0</td>\n",
       "      <td>0</td>\n",
       "    </tr>\n",
       "    <tr>\n",
       "      <th>9</th>\n",
       "      <td>49</td>\n",
       "      <td>male</td>\n",
       "      <td>white</td>\n",
       "      <td>2021-05-05</td>\n",
       "      <td>las vegas</td>\n",
       "      <td>nv</td>\n",
       "      <td>89104.0</td>\n",
       "      <td>clark</td>\n",
       "      <td>las vegas metropolitan police department</td>\n",
       "      <td>gunshot</td>\n",
       "      <td>...</td>\n",
       "      <td>45-54</td>\n",
       "      <td>0</td>\n",
       "      <td>0</td>\n",
       "      <td>0</td>\n",
       "      <td>0</td>\n",
       "      <td>0</td>\n",
       "      <td>0</td>\n",
       "      <td>1</td>\n",
       "      <td>0</td>\n",
       "      <td>0</td>\n",
       "    </tr>\n",
       "    <tr>\n",
       "      <th>10</th>\n",
       "      <td>27</td>\n",
       "      <td>male</td>\n",
       "      <td>black</td>\n",
       "      <td>2021-05-04</td>\n",
       "      <td>mesquite</td>\n",
       "      <td>tx</td>\n",
       "      <td>75150.0</td>\n",
       "      <td>dallas</td>\n",
       "      <td>mesquite police department</td>\n",
       "      <td>gunshot</td>\n",
       "      <td>...</td>\n",
       "      <td>25-34</td>\n",
       "      <td>0</td>\n",
       "      <td>0</td>\n",
       "      <td>0</td>\n",
       "      <td>0</td>\n",
       "      <td>1</td>\n",
       "      <td>0</td>\n",
       "      <td>0</td>\n",
       "      <td>0</td>\n",
       "      <td>0</td>\n",
       "    </tr>\n",
       "    <tr>\n",
       "      <th>12</th>\n",
       "      <td>1</td>\n",
       "      <td>male</td>\n",
       "      <td>black</td>\n",
       "      <td>2021-05-03</td>\n",
       "      <td>biloxi</td>\n",
       "      <td>ms</td>\n",
       "      <td>39532.0</td>\n",
       "      <td>harrison</td>\n",
       "      <td>biloxi police department</td>\n",
       "      <td>gunshot</td>\n",
       "      <td>...</td>\n",
       "      <td>under 12</td>\n",
       "      <td>0</td>\n",
       "      <td>1</td>\n",
       "      <td>0</td>\n",
       "      <td>0</td>\n",
       "      <td>0</td>\n",
       "      <td>0</td>\n",
       "      <td>0</td>\n",
       "      <td>0</td>\n",
       "      <td>0</td>\n",
       "    </tr>\n",
       "  </tbody>\n",
       "</table>\n",
       "<p>5 rows × 60 columns</p>\n",
       "</div>"
      ],
      "text/plain": [
       "    age gender          race       date         city state  zipcode  \\\n",
       "7    52   male  unknown race 2021-05-07     rutledge    tn  37861.0   \n",
       "8    47   male         white 2021-05-06  san andreas    ca  95249.0   \n",
       "9    49   male         white 2021-05-05    las vegas    nv  89104.0   \n",
       "10   27   male         black 2021-05-04     mesquite    tx  75150.0   \n",
       "12    1   male         black 2021-05-03       biloxi    ms  39532.0   \n",
       "\n",
       "       county                                 agency_responsible  \\\n",
       "7    grainger  bean station police department, rutledge polic...   \n",
       "8   calaveras                  calaveras county sheriff's office   \n",
       "9       clark           las vegas metropolitan police department   \n",
       "10     dallas                         mesquite police department   \n",
       "12   harrison                           biloxi police department   \n",
       "\n",
       "   cause_of_death  ...  age_bins unknown under 12 12-17 18-24 25-34  35-44  \\\n",
       "7         gunshot  ...     45-54       0        0     0     0     0      0   \n",
       "8         gunshot  ...     45-54       0        0     0     0     0      0   \n",
       "9         gunshot  ...     45-54       0        0     0     0     0      0   \n",
       "10        gunshot  ...     25-34       0        0     0     0     1      0   \n",
       "12        gunshot  ...  under 12       0        1     0     0     0      0   \n",
       "\n",
       "   45-54  55-64 65+  \n",
       "7      1      0   0  \n",
       "8      1      0   0  \n",
       "9      1      0   0  \n",
       "10     0      0   0  \n",
       "12     0      0   0  \n",
       "\n",
       "[5 rows x 60 columns]"
      ]
     },
     "execution_count": 8,
     "metadata": {},
     "output_type": "execute_result"
    }
   ],
   "source": [
    "#grab cleaned data frame from wrangle.py\n",
    "df = w.wrangle_data(cached=False)\n",
    "df.head()"
   ]
  },
  {
   "cell_type": "code",
   "execution_count": 9,
   "metadata": {
    "cell_id": "00014-452ae5ec-9e0c-4593-9eba-4f3036659889",
    "deepnote_cell_type": "code",
    "deepnote_to_be_reexecuted": false,
    "execution_millis": 22,
    "execution_start": 1622036136236,
    "source_hash": "7dff3e6b",
    "tags": []
   },
   "outputs": [
    {
     "data": {
      "text/plain": [
       "age                                            0\n",
       "gender                                         0\n",
       "race                                           0\n",
       "date                                           0\n",
       "city                                           0\n",
       "state                                          0\n",
       "zipcode                                        0\n",
       "county                                         0\n",
       "agency_responsible                             0\n",
       "cause_of_death                                 0\n",
       "description_of_circumstances                   0\n",
       "official_disposition                           0\n",
       "criminal_charges_filed                         0\n",
       "mental_illness                                 0\n",
       "armed_unarmed_status                           0\n",
       "alleged_weapon                                 0\n",
       "alleged_threat_lvl                             0\n",
       "fleeing                                        0\n",
       "body_camera                                    0\n",
       "geography                                      0\n",
       "encounter_type_draft                           0\n",
       "initial_reported_reason_for_encounter_draft    0\n",
       "known_past_shootings_of_officer_draft          0\n",
       "is_female                                      0\n",
       "is_male                                        0\n",
       "is_transgender                                 0\n",
       "was_fleeing                                    0\n",
       "was_not fleeing                                0\n",
       "was_allegedly_armed                            0\n",
       "was_unarmed                                    0\n",
       "was_vehicle                                    0\n",
       "was_domestic_disturbance                       0\n",
       "was_mental_health_welfare_check                0\n",
       "was_person_with_a_weapon                       0\n",
       "was_traffic_stop                               0\n",
       "was_violent_crime_part_1                       0\n",
       "is_asian/pacific islander                      0\n",
       "is_black                                       0\n",
       "is_hispanic                                    0\n",
       "is_native american                             0\n",
       "is_unknown race                                0\n",
       "is_white                                       0\n",
       "mntlill_drug or alcohol use                    0\n",
       "mntlill_no                                     0\n",
       "mntlill_unknown                                0\n",
       "mntlill_yes                                    0\n",
       "rural                                          0\n",
       "suburban                                       0\n",
       "urban                                          0\n",
       "cod_lethal                                     0\n",
       "age_bins                                       0\n",
       "unknown                                        0\n",
       "under 12                                       0\n",
       "12-17                                          0\n",
       "18-24                                          0\n",
       "25-34                                          0\n",
       "35-44                                          0\n",
       "45-54                                          0\n",
       "55-64                                          0\n",
       "65+                                            0\n",
       "dtype: int64"
      ]
     },
     "execution_count": 9,
     "metadata": {},
     "output_type": "execute_result"
    }
   ],
   "source": [
    "#double check no nulls\n",
    "df.isnull().sum()"
   ]
  },
  {
   "cell_type": "code",
   "execution_count": 10,
   "metadata": {
    "cell_id": "00015-b99b3731-8ca5-4c84-a8d8-3205fbcfbc5c",
    "deepnote_cell_type": "code",
    "deepnote_to_be_reexecuted": false,
    "execution_millis": 11,
    "execution_start": 1622036136247,
    "source_hash": "3edc948f",
    "tags": []
   },
   "outputs": [
    {
     "data": {
      "text/plain": [
       "age                                                     int64\n",
       "gender                                                 object\n",
       "race                                                   object\n",
       "date                                           datetime64[ns]\n",
       "city                                                   object\n",
       "state                                                  object\n",
       "zipcode                                               float64\n",
       "county                                                 object\n",
       "agency_responsible                                     object\n",
       "cause_of_death                                         object\n",
       "description_of_circumstances                           object\n",
       "official_disposition                                   object\n",
       "criminal_charges_filed                                 object\n",
       "mental_illness                                         object\n",
       "armed_unarmed_status                                   object\n",
       "alleged_weapon                                         object\n",
       "alleged_threat_lvl                                    float64\n",
       "fleeing                                                object\n",
       "body_camera                                           float64\n",
       "geography                                              object\n",
       "encounter_type_draft                                   object\n",
       "initial_reported_reason_for_encounter_draft            object\n",
       "known_past_shootings_of_officer_draft                  object\n",
       "is_female                                               uint8\n",
       "is_male                                                 uint8\n",
       "is_transgender                                          uint8\n",
       "was_fleeing                                           float64\n",
       "was_not fleeing                                       float64\n",
       "was_allegedly_armed                                   float64\n",
       "was_unarmed                                           float64\n",
       "was_vehicle                                           float64\n",
       "was_domestic_disturbance                                uint8\n",
       "was_mental_health_welfare_check                         uint8\n",
       "was_person_with_a_weapon                                uint8\n",
       "was_traffic_stop                                        uint8\n",
       "was_violent_crime_part_1                                uint8\n",
       "is_asian/pacific islander                               uint8\n",
       "is_black                                                uint8\n",
       "is_hispanic                                             uint8\n",
       "is_native american                                      uint8\n",
       "is_unknown race                                         uint8\n",
       "is_white                                                uint8\n",
       "mntlill_drug or alcohol use                             uint8\n",
       "mntlill_no                                              uint8\n",
       "mntlill_unknown                                         uint8\n",
       "mntlill_yes                                             uint8\n",
       "rural                                                 float64\n",
       "suburban                                              float64\n",
       "urban                                                 float64\n",
       "cod_lethal                                              int64\n",
       "age_bins                                             category\n",
       "unknown                                                 uint8\n",
       "under 12                                                uint8\n",
       "12-17                                                   uint8\n",
       "18-24                                                   uint8\n",
       "25-34                                                   uint8\n",
       "35-44                                                   uint8\n",
       "45-54                                                   uint8\n",
       "55-64                                                   uint8\n",
       "65+                                                     uint8\n",
       "dtype: object"
      ]
     },
     "execution_count": 10,
     "metadata": {},
     "output_type": "execute_result"
    }
   ],
   "source": [
    "#double check data types\n",
    "df.dtypes"
   ]
  },
  {
   "cell_type": "code",
   "execution_count": 11,
   "metadata": {
    "cell_id": "00016-46de6f35-bbad-4c2e-b885-9925a0bbb3ee",
    "deepnote_cell_type": "code",
    "deepnote_to_be_reexecuted": false,
    "execution_millis": 157,
    "execution_start": 1622036136254,
    "source_hash": "be21ca7a",
    "tags": []
   },
   "outputs": [
    {
     "name": "stdout",
     "output_type": "stream",
     "text": [
      "overall shape of dataframe: (8634, 60)\n",
      "train: (4834, 60)\n",
      "validate: (2073, 60)\n",
      "test: (1727, 60)\n"
     ]
    },
    {
     "data": {
      "text/html": [
       "<div>\n",
       "<style scoped>\n",
       "    .dataframe tbody tr th:only-of-type {\n",
       "        vertical-align: middle;\n",
       "    }\n",
       "\n",
       "    .dataframe tbody tr th {\n",
       "        vertical-align: top;\n",
       "    }\n",
       "\n",
       "    .dataframe thead th {\n",
       "        text-align: right;\n",
       "    }\n",
       "</style>\n",
       "<table border=\"1\" class=\"dataframe\">\n",
       "  <thead>\n",
       "    <tr style=\"text-align: right;\">\n",
       "      <th></th>\n",
       "      <th>age</th>\n",
       "      <th>gender</th>\n",
       "      <th>race</th>\n",
       "      <th>date</th>\n",
       "      <th>city</th>\n",
       "      <th>state</th>\n",
       "      <th>zipcode</th>\n",
       "      <th>county</th>\n",
       "      <th>agency_responsible</th>\n",
       "      <th>cause_of_death</th>\n",
       "      <th>...</th>\n",
       "      <th>age_bins</th>\n",
       "      <th>unknown</th>\n",
       "      <th>under 12</th>\n",
       "      <th>12-17</th>\n",
       "      <th>18-24</th>\n",
       "      <th>25-34</th>\n",
       "      <th>35-44</th>\n",
       "      <th>45-54</th>\n",
       "      <th>55-64</th>\n",
       "      <th>65+</th>\n",
       "    </tr>\n",
       "  </thead>\n",
       "  <tbody>\n",
       "    <tr>\n",
       "      <th>1554</th>\n",
       "      <td>25</td>\n",
       "      <td>male</td>\n",
       "      <td>black</td>\n",
       "      <td>2019-12-19</td>\n",
       "      <td>tempe</td>\n",
       "      <td>az</td>\n",
       "      <td>85281.0</td>\n",
       "      <td>maricopa</td>\n",
       "      <td>arizona department of public safety</td>\n",
       "      <td>gunshot</td>\n",
       "      <td>...</td>\n",
       "      <td>25-34</td>\n",
       "      <td>0</td>\n",
       "      <td>0</td>\n",
       "      <td>0</td>\n",
       "      <td>0</td>\n",
       "      <td>1</td>\n",
       "      <td>0</td>\n",
       "      <td>0</td>\n",
       "      <td>0</td>\n",
       "      <td>0</td>\n",
       "    </tr>\n",
       "    <tr>\n",
       "      <th>7137</th>\n",
       "      <td>26</td>\n",
       "      <td>male</td>\n",
       "      <td>hispanic</td>\n",
       "      <td>2014-11-16</td>\n",
       "      <td>east los angeles</td>\n",
       "      <td>ca</td>\n",
       "      <td>90022.0</td>\n",
       "      <td>los angeles</td>\n",
       "      <td>los angeles county sheriff's department</td>\n",
       "      <td>gunshot</td>\n",
       "      <td>...</td>\n",
       "      <td>25-34</td>\n",
       "      <td>0</td>\n",
       "      <td>0</td>\n",
       "      <td>0</td>\n",
       "      <td>0</td>\n",
       "      <td>1</td>\n",
       "      <td>0</td>\n",
       "      <td>0</td>\n",
       "      <td>0</td>\n",
       "      <td>0</td>\n",
       "    </tr>\n",
       "    <tr>\n",
       "      <th>2043</th>\n",
       "      <td>23</td>\n",
       "      <td>male</td>\n",
       "      <td>white</td>\n",
       "      <td>2019-07-09</td>\n",
       "      <td>cleveland</td>\n",
       "      <td>oh</td>\n",
       "      <td>44144.0</td>\n",
       "      <td>cuyahoga</td>\n",
       "      <td>brooklyn police department</td>\n",
       "      <td>gunshot</td>\n",
       "      <td>...</td>\n",
       "      <td>18-24</td>\n",
       "      <td>0</td>\n",
       "      <td>0</td>\n",
       "      <td>0</td>\n",
       "      <td>1</td>\n",
       "      <td>0</td>\n",
       "      <td>0</td>\n",
       "      <td>0</td>\n",
       "      <td>0</td>\n",
       "      <td>0</td>\n",
       "    </tr>\n",
       "    <tr>\n",
       "      <th>8579</th>\n",
       "      <td>37</td>\n",
       "      <td>male</td>\n",
       "      <td>hispanic</td>\n",
       "      <td>2013-07-02</td>\n",
       "      <td>las cruces</td>\n",
       "      <td>nm</td>\n",
       "      <td>88005.0</td>\n",
       "      <td>dona ana</td>\n",
       "      <td>las cruces police department</td>\n",
       "      <td>gunshot</td>\n",
       "      <td>...</td>\n",
       "      <td>35-44</td>\n",
       "      <td>0</td>\n",
       "      <td>0</td>\n",
       "      <td>0</td>\n",
       "      <td>0</td>\n",
       "      <td>0</td>\n",
       "      <td>1</td>\n",
       "      <td>0</td>\n",
       "      <td>0</td>\n",
       "      <td>0</td>\n",
       "    </tr>\n",
       "    <tr>\n",
       "      <th>8556</th>\n",
       "      <td>27</td>\n",
       "      <td>male</td>\n",
       "      <td>white</td>\n",
       "      <td>2013-07-08</td>\n",
       "      <td>sewickley</td>\n",
       "      <td>pa</td>\n",
       "      <td>15143.0</td>\n",
       "      <td>allegheny</td>\n",
       "      <td>sewickley police department, allegheny county ...</td>\n",
       "      <td>gunshot</td>\n",
       "      <td>...</td>\n",
       "      <td>25-34</td>\n",
       "      <td>0</td>\n",
       "      <td>0</td>\n",
       "      <td>0</td>\n",
       "      <td>0</td>\n",
       "      <td>1</td>\n",
       "      <td>0</td>\n",
       "      <td>0</td>\n",
       "      <td>0</td>\n",
       "      <td>0</td>\n",
       "    </tr>\n",
       "  </tbody>\n",
       "</table>\n",
       "<p>5 rows × 60 columns</p>\n",
       "</div>"
      ],
      "text/plain": [
       "      age gender      race       date              city state  zipcode  \\\n",
       "1554   25   male     black 2019-12-19             tempe    az  85281.0   \n",
       "7137   26   male  hispanic 2014-11-16  east los angeles    ca  90022.0   \n",
       "2043   23   male     white 2019-07-09         cleveland    oh  44144.0   \n",
       "8579   37   male  hispanic 2013-07-02        las cruces    nm  88005.0   \n",
       "8556   27   male     white 2013-07-08         sewickley    pa  15143.0   \n",
       "\n",
       "           county                                 agency_responsible  \\\n",
       "1554     maricopa                arizona department of public safety   \n",
       "7137  los angeles            los angeles county sheriff's department   \n",
       "2043     cuyahoga                         brooklyn police department   \n",
       "8579     dona ana                       las cruces police department   \n",
       "8556    allegheny  sewickley police department, allegheny county ...   \n",
       "\n",
       "     cause_of_death  ... age_bins unknown under 12 12-17 18-24 25-34  35-44  \\\n",
       "1554        gunshot  ...    25-34       0        0     0     0     1      0   \n",
       "7137        gunshot  ...    25-34       0        0     0     0     1      0   \n",
       "2043        gunshot  ...    18-24       0        0     0     1     0      0   \n",
       "8579        gunshot  ...    35-44       0        0     0     0     0      1   \n",
       "8556        gunshot  ...    25-34       0        0     0     0     1      0   \n",
       "\n",
       "     45-54  55-64 65+  \n",
       "1554     0      0   0  \n",
       "7137     0      0   0  \n",
       "2043     0      0   0  \n",
       "8579     0      0   0  \n",
       "8556     0      0   0  \n",
       "\n",
       "[5 rows x 60 columns]"
      ]
     },
     "execution_count": 11,
     "metadata": {},
     "output_type": "execute_result"
    }
   ],
   "source": [
    "#split the data using the split function in explore.py\n",
    "train, validate, test = split(df, stratify_by=\"alleged_threat_lvl\")\n",
    "\n",
    "#check split datasets\n",
    "print('overall shape of dataframe:', df.shape)\n",
    "print('train:', train.shape)\n",
    "print('validate:', validate.shape)\n",
    "print('test:', test.shape)\n",
    "\n",
    "#work w/ training data\n",
    "train.head()"
   ]
  },
  {
   "cell_type": "markdown",
   "metadata": {
    "cell_id": "00017-5c504e43-7325-49d1-832e-2fddaf21e075",
    "deepnote_cell_type": "markdown",
    "tags": []
   },
   "source": [
    "### Takeaway\n",
    "- Data is prepped/split and ready to be explored, modeled, and evaluated."
   ]
  },
  {
   "cell_type": "markdown",
   "metadata": {
    "cell_id": "00018-5fdafbc9-cbe4-47f4-bb2e-93cd86a9f7d6",
    "deepnote_cell_type": "markdown"
   },
   "source": [
    "\n",
    "___\n",
    "# Explore Data\n",
    "#### Address questions posed in planning\n",
    "- Does gender make a difference in alleged threat level?\n",
    "- How does mental illness affect each gender?\n",
    "- Do symptoms of mental illness play a role in threat level?\n",
    "- Is race a factor for alleged threat level?\n",
    "- Does bodycam make a difference in alleged threat level?\n",
    "- Is cause of death and alleged threat level independent of one another?\n",
    "- What areas in geography are resulting in more killings?\n",
    "- What are the fatalities by state: % killings vs pop\n",
    "\n",
    "## • Visualizations"
   ]
  },
  {
   "cell_type": "code",
   "execution_count": 12,
   "metadata": {
    "cell_id": "00019-74a55cea-e172-4444-8076-f4843102508d",
    "deepnote_cell_type": "code",
    "deepnote_to_be_reexecuted": false,
    "execution_millis": 243,
    "execution_start": 1622036136414,
    "source_hash": "bebc8bdb"
   },
   "outputs": [
    {
     "data": {
      "image/png": "[encoded data removed]",
      "text/plain": [
       "<Figure size 576x432 with 1 Axes>"
      ]
     },
     "metadata": {
      "needs_background": "light"
     },
     "output_type": "display_data"
    },
    {
     "data": {
      "text/html": [
       "<div>\n",
       "<style scoped>\n",
       "    .dataframe tbody tr th:only-of-type {\n",
       "        vertical-align: middle;\n",
       "    }\n",
       "\n",
       "    .dataframe tbody tr th {\n",
       "        vertical-align: top;\n",
       "    }\n",
       "\n",
       "    .dataframe thead th {\n",
       "        text-align: right;\n",
       "    }\n",
       "</style>\n",
       "<table border=\"1\" class=\"dataframe\">\n",
       "  <thead>\n",
       "    <tr style=\"text-align: right;\">\n",
       "      <th>alleged_threat_lvl</th>\n",
       "      <th>0.0</th>\n",
       "      <th>1.0</th>\n",
       "    </tr>\n",
       "    <tr>\n",
       "      <th>gender</th>\n",
       "      <th></th>\n",
       "      <th></th>\n",
       "    </tr>\n",
       "  </thead>\n",
       "  <tbody>\n",
       "    <tr>\n",
       "      <th>female</th>\n",
       "      <td>0.578261</td>\n",
       "      <td>0.421739</td>\n",
       "    </tr>\n",
       "    <tr>\n",
       "      <th>male</th>\n",
       "      <td>0.505002</td>\n",
       "      <td>0.494998</td>\n",
       "    </tr>\n",
       "    <tr>\n",
       "      <th>transgender</th>\n",
       "      <td>0.666667</td>\n",
       "      <td>0.333333</td>\n",
       "    </tr>\n",
       "  </tbody>\n",
       "</table>\n",
       "</div>"
      ],
      "text/plain": [
       "alleged_threat_lvl       0.0       1.0\n",
       "gender                                \n",
       "female              0.578261  0.421739\n",
       "male                0.505002  0.494998\n",
       "transgender         0.666667  0.333333"
      ]
     },
     "execution_count": 12,
     "metadata": {},
     "output_type": "execute_result"
    }
   ],
   "source": [
    "#visualize gender vs alleged threat level\n",
    "ax = pd.crosstab(train.gender, train.alleged_threat_lvl, normalize ='index').plot.barh(figsize=(8, 6), cmap=plt.cm.get_cmap('Blues'), ec=\"black\")\n",
    "\n",
    "#customize legend\n",
    "legend_labels, _= ax.get_legend_handles_labels()\n",
    "ax.legend(legend_labels, ['Non-Attack', 'Attack'], \n",
    "          bbox_to_anchor=(1,1), \n",
    "          title='Threat Level')\n",
    "\n",
    "#customize chart\n",
    "plt.title(\"Does Gender Make a Difference in Alleged Threat Level?\", fontsize = 15)\n",
    "plt.ylabel(\"Gender\", fontsize = 12)\n",
    "plt.xlabel('Percentage', fontsize = 12)\n",
    "ax.tick_params(labelsize=10)\n",
    "plt.xlim([0.0, 1.0])\n",
    "plt.show()\n",
    "\n",
    "#get percentages df\n",
    "percentages = pd.crosstab(train.gender, train.alleged_threat_lvl, normalize = 'index')\n",
    "percentages"
   ]
  },
  {
   "cell_type": "markdown",
   "metadata": {
    "cell_id": "00020-1c15ad82-71c8-4601-ad83-3b2ad48d0cdd",
    "deepnote_cell_type": "markdown"
   },
   "source": [
    "### Takeaways\n",
    "- Highest percentage of non-attacks are transgender. Second highest is female.\n",
    "- Highest percentage of attacks are male. Second highest is female.\n",
    "- Males are almost equally likely to be an attack or non-attack threat level."
   ]
  },
  {
   "cell_type": "code",
   "execution_count": 13,
   "metadata": {
    "cell_id": "00021-25b5d572-bb44-4cdc-85ec-54d7263e8b0f",
    "deepnote_cell_type": "code",
    "deepnote_to_be_reexecuted": false,
    "execution_millis": 217,
    "execution_start": 1622036136694,
    "source_hash": "119e49bb"
   },
   "outputs": [
    {
     "data": {
      "image/png": "[encoded data removed]",
      "text/plain": [
       "<Figure size 576x432 with 1 Axes>"
      ]
     },
     "metadata": {
      "needs_background": "light"
     },
     "output_type": "display_data"
    },
    {
     "data": {
      "text/html": [
       "<div>\n",
       "<style scoped>\n",
       "    .dataframe tbody tr th:only-of-type {\n",
       "        vertical-align: middle;\n",
       "    }\n",
       "\n",
       "    .dataframe tbody tr th {\n",
       "        vertical-align: top;\n",
       "    }\n",
       "\n",
       "    .dataframe thead th {\n",
       "        text-align: right;\n",
       "    }\n",
       "</style>\n",
       "<table border=\"1\" class=\"dataframe\">\n",
       "  <thead>\n",
       "    <tr style=\"text-align: right;\">\n",
       "      <th>mental_illness</th>\n",
       "      <th>drug or alcohol use</th>\n",
       "      <th>no</th>\n",
       "      <th>unknown</th>\n",
       "      <th>yes</th>\n",
       "    </tr>\n",
       "    <tr>\n",
       "      <th>gender</th>\n",
       "      <th></th>\n",
       "      <th></th>\n",
       "      <th></th>\n",
       "      <th></th>\n",
       "    </tr>\n",
       "  </thead>\n",
       "  <tbody>\n",
       "    <tr>\n",
       "      <th>female</th>\n",
       "      <td>0.017391</td>\n",
       "      <td>0.513043</td>\n",
       "      <td>0.165217</td>\n",
       "      <td>0.304348</td>\n",
       "    </tr>\n",
       "    <tr>\n",
       "      <th>male</th>\n",
       "      <td>0.038278</td>\n",
       "      <td>0.650065</td>\n",
       "      <td>0.125054</td>\n",
       "      <td>0.186603</td>\n",
       "    </tr>\n",
       "    <tr>\n",
       "      <th>transgender</th>\n",
       "      <td>0.000000</td>\n",
       "      <td>0.500000</td>\n",
       "      <td>0.166667</td>\n",
       "      <td>0.333333</td>\n",
       "    </tr>\n",
       "  </tbody>\n",
       "</table>\n",
       "</div>"
      ],
      "text/plain": [
       "mental_illness  drug or alcohol use        no   unknown       yes\n",
       "gender                                                           \n",
       "female                     0.017391  0.513043  0.165217  0.304348\n",
       "male                       0.038278  0.650065  0.125054  0.186603\n",
       "transgender                0.000000  0.500000  0.166667  0.333333"
      ]
     },
     "execution_count": 13,
     "metadata": {},
     "output_type": "execute_result"
    }
   ],
   "source": [
    "#visualize mental illness per gender\n",
    "ax = pd.crosstab(train.gender, train.mental_illness, normalize ='index').plot.barh(figsize=(8, 6), cmap=plt.cm.get_cmap('Blues'), ec=\"black\")\n",
    "\n",
    "#customize legend\n",
    "legend_labels, _= ax.get_legend_handles_labels()\n",
    "ax.legend(legend_labels, ['Drug / Alcohol Use', 'No', 'Unknown', 'Yes'], \n",
    "          bbox_to_anchor=(1,1), \n",
    "          title='Mental Illness')\n",
    "\n",
    "#customize chart\n",
    "plt.title(\"How Does Mental Illness Affect Each Gender?\", fontsize = 15)\n",
    "plt.ylabel(\"Gender\", fontsize = 12)\n",
    "plt.xlabel('Percentage', fontsize = 12)\n",
    "ax.tick_params(labelsize=10)\n",
    "plt.xlim([0.0, 1.0])\n",
    "plt.show()\n",
    "\n",
    "#get percentages df\n",
    "percentages = pd.crosstab(train.gender, train.mental_illness, normalize = 'index')\n",
    "percentages"
   ]
  },
  {
   "cell_type": "markdown",
   "metadata": {
    "cell_id": "00022-d53840db-2450-4ff6-9532-f2f7e4701dc6",
    "deepnote_cell_type": "markdown"
   },
   "source": [
    "### Takeaways\n",
    "- Males are most often categorized as not having a mental illness, however, they have a high threat level (according to previous visual). \n",
    "- All genders have higher percentages of no mental illness. Could this be related to limited mental health awareness/support across the country?\n",
    "- Males have the highest percentage of drug / alchohol use instances.\n",
    "- Unknown mental status is almost equal across genders."
   ]
  },
  {
   "cell_type": "code",
   "execution_count": 14,
   "metadata": {
    "cell_id": "00023-16b478ae-5e90-46ab-b20a-079ac47a1297",
    "deepnote_cell_type": "code",
    "deepnote_to_be_reexecuted": false,
    "execution_millis": 321,
    "execution_start": 1622036136915,
    "source_hash": "2df2b67",
    "tags": []
   },
   "outputs": [
    {
     "data": {
      "image/png": "[encoded data removed]",
      "text/plain": [
       "<Figure size 576x432 with 1 Axes>"
      ]
     },
     "metadata": {
      "needs_background": "light"
     },
     "output_type": "display_data"
    },
    {
     "data": {
      "text/html": [
       "<div>\n",
       "<style scoped>\n",
       "    .dataframe tbody tr th:only-of-type {\n",
       "        vertical-align: middle;\n",
       "    }\n",
       "\n",
       "    .dataframe tbody tr th {\n",
       "        vertical-align: top;\n",
       "    }\n",
       "\n",
       "    .dataframe thead th {\n",
       "        text-align: right;\n",
       "    }\n",
       "</style>\n",
       "<table border=\"1\" class=\"dataframe\">\n",
       "  <thead>\n",
       "    <tr style=\"text-align: right;\">\n",
       "      <th>alleged_threat_lvl</th>\n",
       "      <th>0.0</th>\n",
       "      <th>1.0</th>\n",
       "    </tr>\n",
       "    <tr>\n",
       "      <th>mental_illness</th>\n",
       "      <th></th>\n",
       "      <th></th>\n",
       "    </tr>\n",
       "  </thead>\n",
       "  <tbody>\n",
       "    <tr>\n",
       "      <th>drug or alcohol use</th>\n",
       "      <td>0.633333</td>\n",
       "      <td>0.366667</td>\n",
       "    </tr>\n",
       "    <tr>\n",
       "      <th>no</th>\n",
       "      <td>0.486817</td>\n",
       "      <td>0.513183</td>\n",
       "    </tr>\n",
       "    <tr>\n",
       "      <th>unknown</th>\n",
       "      <td>0.622150</td>\n",
       "      <td>0.377850</td>\n",
       "    </tr>\n",
       "    <tr>\n",
       "      <th>yes</th>\n",
       "      <td>0.482796</td>\n",
       "      <td>0.517204</td>\n",
       "    </tr>\n",
       "  </tbody>\n",
       "</table>\n",
       "</div>"
      ],
      "text/plain": [
       "alleged_threat_lvl        0.0       1.0\n",
       "mental_illness                         \n",
       "drug or alcohol use  0.633333  0.366667\n",
       "no                   0.486817  0.513183\n",
       "unknown              0.622150  0.377850\n",
       "yes                  0.482796  0.517204"
      ]
     },
     "execution_count": 14,
     "metadata": {},
     "output_type": "execute_result"
    }
   ],
   "source": [
    "#visualize mental illness vs threat level\n",
    "ax = pd.crosstab(train.mental_illness, train.alleged_threat_lvl, normalize ='index').plot.bar(figsize=(8, 6), cmap=plt.cm.get_cmap('Blues'), ec=\"black\")\n",
    "\n",
    "#customize legend\n",
    "legend_labels, _= ax.get_legend_handles_labels()\n",
    "ax.legend(legend_labels, ['Non-Attack', 'Attack'], \n",
    "          bbox_to_anchor=(1,1), \n",
    "          title='Threat Level')\n",
    "\n",
    "#customize chart\n",
    "plt.title(\"Does Mental Illness Play a Role in Threat Level?\", fontsize = 15)\n",
    "plt.ylabel(\"Percentage\", fontsize = 12)\n",
    "plt.xlabel('Mental Illness', fontsize = 12)\n",
    "ax.tick_params(labelsize=10)\n",
    "plt.ylim([0.0, 1.0])\n",
    "plt.xticks(rotation=0)\n",
    "plt.show()\n",
    "\n",
    "#get percentages df\n",
    "percentages = pd.crosstab(train.mental_illness, train.alleged_threat_lvl, normalize = 'index')\n",
    "percentages"
   ]
  },
  {
   "cell_type": "markdown",
   "metadata": {
    "cell_id": "00024-045788c7-b8ec-44c7-b56c-8e7b41d61619",
    "deepnote_cell_type": "markdown",
    "tags": []
   },
   "source": [
    "### Takeaways\n",
    "- People with no mental illness have been characterized as having an 'attack' threat level more often than not being attackers, but not by much. \n",
    "- Same for people with mental illness (more likely to be attacks than non-attacks, but not by much).\n",
    "- Highest percentage of non-attacks are people under the influence of drugs/alcohol or people with unknown mental status. "
   ]
  },
  {
   "cell_type": "code",
   "execution_count": 15,
   "metadata": {
    "cell_id": "00025-0559b91b-ccbd-4577-8930-01476d8a7415",
    "deepnote_cell_type": "code",
    "deepnote_to_be_reexecuted": false,
    "execution_millis": 1,
    "execution_start": 1622036137228,
    "source_hash": "662f7a6",
    "tags": []
   },
   "outputs": [],
   "source": [
    "#ax = sns.countplot(data=train, x='mental_illness', hue='alleged_threat_lvl', palette = 'ocean_r')\n",
    "#ax = pd.crosstab(train.mental_illness, train.alleged_threat_lvl, normalize ='index').plot(kind = 'bar', figsize=(15, 10), cmap=plt.cm.get_cmap('ocean_r'), ec=\"black\")\n",
    "\n",
    "#x, y, hue = \"mental_illness\", \"percent\", \"alleged_threat_lvl\"\n",
    "#hue_order = [\"Non-Attack\", \"Attack\"]\n",
    "\n",
    "#ax = (train[x]\n",
    "# .groupby(train[hue])\n",
    "# .value_counts(normalize='index')\n",
    "# .rename(y)\n",
    "# .reset_index()\n",
    "# .pipe((sns.barplot, \"data\"), x=x, y=y, hue=hue, palette = \"ocean_r\"))\n",
    "\n",
    "\n",
    "#customize legend\n",
    "#legend_labels, _= ax.get_legend_handles_labels()\n",
    "#ax.legend(legend_labels, ['Non-Attack','Attack'], \n",
    "#          bbox_to_anchor=(1,1), \n",
    "#          title='Threat Level')\n",
    "\n",
    "#customize chart\n",
    "#plt.title('Does Mental Illness Play a Role in Threat Level?')\n",
    "#plt.xlabel('Mental Illness')\n",
    "#plt.ylabel('Percentage')\n",
    "#plt.ylim([0.0, 1.0])\n",
    "#plt.show()\n",
    "\n",
    "#get percentages df\n",
    "#percentages = pd.crosstab(train.mental_illness, train.alleged_threat_lvl, normalize = 'index')\n",
    "#percentages.plot.bar(cmap='Blues', ec='black', )\n",
    "#percentages"
   ]
  },
  {
   "cell_type": "code",
   "execution_count": 16,
   "metadata": {
    "cell_id": "00026-e1426399-8f5c-46c7-b4fa-955c136ed84c",
    "deepnote_cell_type": "code",
    "deepnote_to_be_reexecuted": false,
    "execution_millis": 249,
    "execution_start": 1622036137230,
    "source_hash": "867bdf02",
    "tags": []
   },
   "outputs": [
    {
     "data": {
      "image/png": "[encoded data removed]",
      "text/plain": [
       "<Figure size 576x432 with 1 Axes>"
      ]
     },
     "metadata": {
      "needs_background": "light"
     },
     "output_type": "display_data"
    },
    {
     "data": {
      "text/html": [
       "<div>\n",
       "<style scoped>\n",
       "    .dataframe tbody tr th:only-of-type {\n",
       "        vertical-align: middle;\n",
       "    }\n",
       "\n",
       "    .dataframe tbody tr th {\n",
       "        vertical-align: top;\n",
       "    }\n",
       "\n",
       "    .dataframe thead th {\n",
       "        text-align: right;\n",
       "    }\n",
       "</style>\n",
       "<table border=\"1\" class=\"dataframe\">\n",
       "  <thead>\n",
       "    <tr style=\"text-align: right;\">\n",
       "      <th>alleged_threat_lvl</th>\n",
       "      <th>0.0</th>\n",
       "      <th>1.0</th>\n",
       "    </tr>\n",
       "    <tr>\n",
       "      <th>race</th>\n",
       "      <th></th>\n",
       "      <th></th>\n",
       "    </tr>\n",
       "  </thead>\n",
       "  <tbody>\n",
       "    <tr>\n",
       "      <th>asian/pacific islander</th>\n",
       "      <td>0.494949</td>\n",
       "      <td>0.505051</td>\n",
       "    </tr>\n",
       "    <tr>\n",
       "      <th>black</th>\n",
       "      <td>0.502447</td>\n",
       "      <td>0.497553</td>\n",
       "    </tr>\n",
       "    <tr>\n",
       "      <th>hispanic</th>\n",
       "      <td>0.546682</td>\n",
       "      <td>0.453318</td>\n",
       "    </tr>\n",
       "    <tr>\n",
       "      <th>native american</th>\n",
       "      <td>0.597015</td>\n",
       "      <td>0.402985</td>\n",
       "    </tr>\n",
       "    <tr>\n",
       "      <th>unknown race</th>\n",
       "      <td>0.527311</td>\n",
       "      <td>0.472689</td>\n",
       "    </tr>\n",
       "    <tr>\n",
       "      <th>white</th>\n",
       "      <td>0.489649</td>\n",
       "      <td>0.510351</td>\n",
       "    </tr>\n",
       "  </tbody>\n",
       "</table>\n",
       "</div>"
      ],
      "text/plain": [
       "alleged_threat_lvl           0.0       1.0\n",
       "race                                      \n",
       "asian/pacific islander  0.494949  0.505051\n",
       "black                   0.502447  0.497553\n",
       "hispanic                0.546682  0.453318\n",
       "native american         0.597015  0.402985\n",
       "unknown race            0.527311  0.472689\n",
       "white                   0.489649  0.510351"
      ]
     },
     "execution_count": 16,
     "metadata": {},
     "output_type": "execute_result"
    }
   ],
   "source": [
    "#visualize race vs alleged threat level\n",
    "ax = pd.crosstab(train.race, train.alleged_threat_lvl, normalize ='index').plot.barh(figsize=(8, 6), cmap=plt.cm.get_cmap('Blues'), ec=\"black\")\n",
    "\n",
    "#customize legend\n",
    "legend_labels, _= ax.get_legend_handles_labels()\n",
    "ax.legend(legend_labels, ['Non-Attack', 'Attack'], \n",
    "          bbox_to_anchor=(1,1), \n",
    "          title='Threat Level')\n",
    "\n",
    "#customize chart\n",
    "plt.title(\"Is Race a Factor in Threat Level?\", fontsize = 15)\n",
    "plt.ylabel(\"Race\", fontsize = 12)\n",
    "plt.xlabel('Percentage', fontsize = 12)\n",
    "ax.tick_params(labelsize=10)\n",
    "plt.xlim([0.0, 1.0])\n",
    "plt.show()\n",
    "\n",
    "#get percentages df\n",
    "percentages = pd.crosstab(train.race, train.alleged_threat_lvl, normalize = 'index')\n",
    "percentages"
   ]
  },
  {
   "cell_type": "markdown",
   "metadata": {
    "cell_id": "00027-0477dca9-7e11-455b-82ef-99b56a2056f1",
    "deepnote_cell_type": "markdown",
    "tags": []
   },
   "source": [
    "### Takeaways\n",
    "- The highest occurrence of non-attacks are seen in Native Americans. Second highest is Hispanics.\n",
    "- The highest occurrence of attacks are seen in White races. Second highest appears to be Asians/Pacific Islanders. \n",
    "- Black races are almost equally likely to result in attack/non-attack threat levels.\n",
    "- There is a lot of unknown races in the data. Why?"
   ]
  },
  {
   "cell_type": "code",
   "execution_count": 17,
   "metadata": {
    "cell_id": "00028-73357076-40ef-4457-ba7c-9bd933878212",
    "deepnote_cell_type": "code",
    "deepnote_to_be_reexecuted": false,
    "execution_millis": 214,
    "execution_start": 1622036137483,
    "source_hash": "704749a3"
   },
   "outputs": [
    {
     "data": {
      "image/png": "[encoded data removed]",
      "text/plain": [
       "<Figure size 576x432 with 1 Axes>"
      ]
     },
     "metadata": {
      "needs_background": "light"
     },
     "output_type": "display_data"
    },
    {
     "data": {
      "text/html": [
       "<div>\n",
       "<style scoped>\n",
       "    .dataframe tbody tr th:only-of-type {\n",
       "        vertical-align: middle;\n",
       "    }\n",
       "\n",
       "    .dataframe tbody tr th {\n",
       "        vertical-align: top;\n",
       "    }\n",
       "\n",
       "    .dataframe thead th {\n",
       "        text-align: right;\n",
       "    }\n",
       "</style>\n",
       "<table border=\"1\" class=\"dataframe\">\n",
       "  <thead>\n",
       "    <tr style=\"text-align: right;\">\n",
       "      <th>alleged_threat_lvl</th>\n",
       "      <th>0.0</th>\n",
       "      <th>1.0</th>\n",
       "    </tr>\n",
       "    <tr>\n",
       "      <th>body_camera</th>\n",
       "      <th></th>\n",
       "      <th></th>\n",
       "    </tr>\n",
       "  </thead>\n",
       "  <tbody>\n",
       "    <tr>\n",
       "      <th>0.0</th>\n",
       "      <td>0.516726</td>\n",
       "      <td>0.483274</td>\n",
       "    </tr>\n",
       "    <tr>\n",
       "      <th>1.0</th>\n",
       "      <td>0.405714</td>\n",
       "      <td>0.594286</td>\n",
       "    </tr>\n",
       "  </tbody>\n",
       "</table>\n",
       "</div>"
      ],
      "text/plain": [
       "alleged_threat_lvl       0.0       1.0\n",
       "body_camera                           \n",
       "0.0                 0.516726  0.483274\n",
       "1.0                 0.405714  0.594286"
      ]
     },
     "execution_count": 17,
     "metadata": {},
     "output_type": "execute_result"
    }
   ],
   "source": [
    "#visualize body camera vs alleged threat level\n",
    "ax = pd.crosstab(train.body_camera, train.alleged_threat_lvl, normalize ='index').plot.bar(figsize=(8, 6), cmap=plt.cm.get_cmap('Blues'), ec=\"black\")\n",
    "\n",
    "#customize legend\n",
    "legend_labels, _= ax.get_legend_handles_labels()\n",
    "ax.legend(legend_labels, ['Non-Attack', 'Attack'], \n",
    "          bbox_to_anchor=(1,1), \n",
    "          title='Threat Level')\n",
    "\n",
    "#customize chart\n",
    "plt.title(\"Does Bodycam Make a Difference in Alleged Threat Level?\", fontsize = 15)\n",
    "plt.ylabel(\"Percentage\", fontsize = 12)\n",
    "plt.xlabel('Body Camera', fontsize = 12)\n",
    "ax.tick_params(labelsize=10)\n",
    "x_labels = ['Off', 'On']\n",
    "ax.set_xticklabels(x_labels)\n",
    "\n",
    "plt.ylim([0.0, 1.0])\n",
    "plt.show()\n",
    "\n",
    "#get percentages df\n",
    "percentages = pd.crosstab(train.body_camera, train.alleged_threat_lvl, normalize = 'index')\n",
    "percentages"
   ]
  },
  {
   "cell_type": "markdown",
   "metadata": {
    "cell_id": "00029-6695d918-b31a-48ee-9d7a-9dcd534a4e4a",
    "deepnote_cell_type": "markdown"
   },
   "source": [
    "### Takeaways\n",
    "- When bodycam is off, there seems to be more non-attacks than attacks. Why is there non-attack threat levels resulting in these fatalities?\n",
    "- When bodycam is on, there is a higher chance of an attack than a non-attack."
   ]
  },
  {
   "cell_type": "code",
   "execution_count": 18,
   "metadata": {
    "cell_id": "00030-ab00bde3-4654-405a-b6de-acdac7d3f835",
    "deepnote_cell_type": "code",
    "deepnote_to_be_reexecuted": false,
    "execution_millis": 113,
    "execution_start": 1622036137726,
    "source_hash": "6ccbc52",
    "tags": []
   },
   "outputs": [
    {
     "data": {
      "image/png": "[encoded data removed]",
      "text/plain": [
       "<Figure size 432x288 with 1 Axes>"
      ]
     },
     "metadata": {
      "needs_background": "light"
     },
     "output_type": "display_data"
    }
   ],
   "source": [
    "#visualize what areas in geography are resulting in more killings?\n",
    "sns.countplot(data=df, x='geography', palette='Blues')\n",
    "plt.title(\"Fatal Incidents are Occurring in Our Backyards\")\n",
    "plt.ylabel('Number of Fatalities')\n",
    "plt.show()"
   ]
  },
  {
   "cell_type": "markdown",
   "metadata": {
    "cell_id": "00031-c26442f7-3fd3-430e-89cc-f5a77d2cef8e",
    "deepnote_cell_type": "markdown",
    "tags": []
   },
   "source": [
    "### Takeaways\n",
    "- Suburban neighborhoods have the highest number of fatalities. \n",
    "- Rural areas have the least amount of fatal incidents. "
   ]
  },
  {
   "cell_type": "code",
   "execution_count": 19,
   "metadata": {
    "cell_id": "00032-68d92535-758e-435d-9c06-e07cec33b084",
    "deepnote_cell_type": "code",
    "deepnote_to_be_reexecuted": false,
    "execution_millis": 177,
    "execution_start": 1622036137886,
    "source_hash": "b6f024c0",
    "tags": []
   },
   "outputs": [
    {
     "data": {
      "image/png": "[encoded data removed]",
      "text/plain": [
       "<Figure size 576x432 with 1 Axes>"
      ]
     },
     "metadata": {
      "needs_background": "light"
     },
     "output_type": "display_data"
    },
    {
     "data": {
      "text/html": [
       "<div>\n",
       "<style scoped>\n",
       "    .dataframe tbody tr th:only-of-type {\n",
       "        vertical-align: middle;\n",
       "    }\n",
       "\n",
       "    .dataframe tbody tr th {\n",
       "        vertical-align: top;\n",
       "    }\n",
       "\n",
       "    .dataframe thead th {\n",
       "        text-align: right;\n",
       "    }\n",
       "</style>\n",
       "<table border=\"1\" class=\"dataframe\">\n",
       "  <thead>\n",
       "    <tr style=\"text-align: right;\">\n",
       "      <th>alleged_threat_lvl</th>\n",
       "      <th>0.0</th>\n",
       "      <th>1.0</th>\n",
       "    </tr>\n",
       "    <tr>\n",
       "      <th>geography</th>\n",
       "      <th></th>\n",
       "      <th></th>\n",
       "    </tr>\n",
       "  </thead>\n",
       "  <tbody>\n",
       "    <tr>\n",
       "      <th>rural</th>\n",
       "      <td>0.470919</td>\n",
       "      <td>0.529081</td>\n",
       "    </tr>\n",
       "    <tr>\n",
       "      <th>suburban</th>\n",
       "      <td>0.509611</td>\n",
       "      <td>0.490389</td>\n",
       "    </tr>\n",
       "    <tr>\n",
       "      <th>urban</th>\n",
       "      <td>0.537415</td>\n",
       "      <td>0.462585</td>\n",
       "    </tr>\n",
       "  </tbody>\n",
       "</table>\n",
       "</div>"
      ],
      "text/plain": [
       "alleged_threat_lvl       0.0       1.0\n",
       "geography                             \n",
       "rural               0.470919  0.529081\n",
       "suburban            0.509611  0.490389\n",
       "urban               0.537415  0.462585"
      ]
     },
     "execution_count": 19,
     "metadata": {},
     "output_type": "execute_result"
    }
   ],
   "source": [
    "#visualize geography vs alleged threat level\n",
    "ax = pd.crosstab(train.geography, train.alleged_threat_lvl, normalize ='index').plot.bar(figsize=(8, 6), cmap=plt.cm.get_cmap('Blues'), ec=\"black\")\n",
    "\n",
    "#customize legend\n",
    "legend_labels, _= ax.get_legend_handles_labels()\n",
    "ax.legend(legend_labels, ['Non-Attack', 'Attack'], \n",
    "          bbox_to_anchor=(1,1), \n",
    "          title='Threat Level')\n",
    "\n",
    "#customize chart\n",
    "plt.title(\"Does Geography Make a Difference in Alleged Threat Level?\", fontsize = 15)\n",
    "plt.ylabel(\"Percentage\", fontsize = 12)\n",
    "plt.xlabel('Geography', fontsize = 12)\n",
    "ax.tick_params(labelsize=10)\n",
    "#x_labels = ['Off', 'On']\n",
    "#ax.set_xticklabels(x_labels)\n",
    "\n",
    "plt.ylim([0.0, 1.0])\n",
    "plt.show()\n",
    "\n",
    "#get percentages df\n",
    "percentages = pd.crosstab(train.geography, train.alleged_threat_lvl, normalize = 'index')\n",
    "percentages"
   ]
  },
  {
   "cell_type": "markdown",
   "metadata": {
    "cell_id": "00033-74339993-4dc2-4f17-9924-46272be94aa5",
    "deepnote_cell_type": "markdown",
    "tags": []
   },
   "source": [
    "### Takeaways\n",
    "- Not much variation, but there is a higher percentage of attack threat level happening in rural areas.\n",
    "- Highest percentage of non-attack threat levels are happening in urban areas. \n",
    "- Suburban areas are almost equally likely to be attack/non-attacks. Slightly higher percentage for non-attacks. "
   ]
  },
  {
   "cell_type": "markdown",
   "metadata": {
    "cell_id": "00030-73e1c565-704e-418d-a847-e233825c6af7",
    "deepnote_cell_type": "markdown"
   },
   "source": [
    "\n",
    "___\n",
    "\n",
    "## • Hypothesis Testing"
   ]
  },
  {
   "cell_type": "code",
   "execution_count": 20,
   "metadata": {
    "cell_id": "00031-94160826-b709-400c-8e89-6974274a3f97",
    "deepnote_cell_type": "code",
    "deepnote_to_be_reexecuted": false,
    "execution_millis": 24,
    "execution_start": 1622036138060,
    "source_hash": "a2898aa8"
   },
   "outputs": [
    {
     "name": "stdout",
     "output_type": "stream",
     "text": [
      "2.2636340254396954 0.02364079475189402\n",
      "We reject the null hypothesis.\n",
      "We can move forward with alternative hypothesis: Attacker status for males & total population are different.\n"
     ]
    }
   ],
   "source": [
    "#t-test for gender vs threat level\n",
    "female = train[train.gender == 'female']\n",
    "male = train[train.gender == 'male']\n",
    "transg = train[train.gender == 'transgender']\n",
    "not_male = train[train.gender != 'male']\n",
    "\n",
    "male_att = male.alleged_threat_lvl\n",
    "non_male_att = not_male.alleged_threat_lvl\n",
    "\n",
    "null_hypothesis = \"There is not a difference between male attackers and the remaining population.\"\n",
    "alternative_hypothesis = \"Attacker status for males & total population are different.\"\n",
    "confidence_level = .95\n",
    "a = 1 - confidence_level\n",
    "\n",
    "t, p = stats.ttest_ind(male_att, non_male_att)\n",
    "print(t, p)\n",
    "\n",
    "if p < a:\n",
    "    print(\"We reject the null hypothesis.\")\n",
    "    print(f\"We can move forward with alternative hypothesis: {alternative_hypothesis}\")\n",
    "else:\n",
    "    print(\"We fail to reject the null hypothesis\")\n",
    "    print(f\"Not enough evidence to support the claim: {null_hypothesis}\")"
   ]
  },
  {
   "cell_type": "code",
   "execution_count": 21,
   "metadata": {
    "cell_id": "00032-4950794d-8dd1-435e-ad3b-c648d56f3e64",
    "deepnote_cell_type": "code",
    "deepnote_to_be_reexecuted": false,
    "execution_millis": 22,
    "execution_start": 1622036138075,
    "source_hash": "61ecaf9b",
    "tags": []
   },
   "outputs": [
    {
     "name": "stdout",
     "output_type": "stream",
     "text": [
      "Observed\n",
      "\n",
      "[[ 114   66]\n",
      " [1514 1596]\n",
      " [ 382  232]\n",
      " [ 449  481]]\n",
      "---\n",
      "Expected\n",
      "\n",
      "[[  91.56392222   88.43607778]\n",
      " [1582.02110054 1527.97889946]\n",
      " [ 312.33471245  301.66528755]\n",
      " [ 473.08026479  456.91973521]]\n",
      "---\n",
      "\n",
      "chi^2 = 51.2639\n",
      "p     = 0.0000\n",
      "\n",
      "Because the p-value: 0.0 is less than alpha: 0.05, we can reject the null hypothesis\n"
     ]
    }
   ],
   "source": [
    "#chi2 test for mental illness vs alleged threat level\n",
    "exp.chi2_matts(train, 'mental_illness', 'alleged_threat_lvl', alpha=0.05)"
   ]
  },
  {
   "cell_type": "code",
   "execution_count": 22,
   "metadata": {
    "cell_id": "00033-eeb51f25-a129-4e52-b584-c4d7542fbba7",
    "deepnote_cell_type": "code",
    "deepnote_to_be_reexecuted": false,
    "execution_millis": 50,
    "execution_start": 1622036138094,
    "source_hash": "b256267b",
    "tags": []
   },
   "outputs": [
    {
     "name": "stdout",
     "output_type": "stream",
     "text": [
      "Observed\n",
      "\n",
      "[[  49   50]\n",
      " [ 616  610]\n",
      " [ 486  403]\n",
      " [  40   27]\n",
      " [ 251  225]\n",
      " [1017 1060]]\n",
      "---\n",
      "Expected\n",
      "\n",
      "[[  50.36015722   48.63984278]\n",
      " [ 623.65204799  602.34795201]\n",
      " [ 452.22403806  436.77596194]\n",
      " [  34.0821266    32.9178734 ]\n",
      " [ 242.13570542  233.86429458]\n",
      " [1056.5459247  1020.4540753 ]]\n",
      "---\n",
      "\n",
      "chi^2 = 11.1651\n",
      "p     = 0.0482\n",
      "\n",
      "Because the p-value: 0.0482 is less than alpha: 0.05, we can reject the null hypothesis\n"
     ]
    }
   ],
   "source": [
    "#chi2 test for race vs alleged threat level\n",
    "exp.chi2_matts(train, 'race', 'alleged_threat_lvl', alpha=0.05)"
   ]
  },
  {
   "cell_type": "code",
   "execution_count": 23,
   "metadata": {
    "cell_id": "00034-001813b0-56b1-4ca9-bb59-4c5a17834fc0",
    "deepnote_cell_type": "code",
    "deepnote_to_be_reexecuted": false,
    "execution_millis": 20,
    "execution_start": 1622036138124,
    "source_hash": "cecd4fd8"
   },
   "outputs": [
    {
     "name": "stdout",
     "output_type": "stream",
     "text": [
      "Observed\n",
      "\n",
      "[[2317 2167]\n",
      " [ 142  208]]\n",
      "---\n",
      "Expected\n",
      "\n",
      "[[2280.95904013 2203.04095987]\n",
      " [ 178.04095987  171.95904013]]\n",
      "---\n",
      "\n",
      "chi^2 = 15.5676\n",
      "p     = 0.0001\n",
      "\n",
      "Because the p-value: 0.0001 is less than alpha: 0.05, we can reject the null hypothesis\n"
     ]
    }
   ],
   "source": [
    "#chi2 test for bodycam vs alleged threat level\n",
    "exp.chi2_matts(train, 'body_camera', 'alleged_threat_lvl', alpha=0.05)"
   ]
  },
  {
   "cell_type": "markdown",
   "metadata": {
    "cell_id": "00035-cb9ab923-c4c1-4cf6-9e8b-5b0753e801b0",
    "deepnote_cell_type": "markdown"
   },
   "source": [
    "### Takeaways\n",
    "- All four statistical tests rejected the null hypothesis.\n",
    "    - T-test demonstrates there is a difference between male attackers and the remaining population.\n",
    "    - 1st Chi^2 test demonstrates that mental status is dependent on alleged threat level.\n",
    "    - 2nd Chi^2 test demonstrates that race is dependent on alleged threat level.\n",
    "    - 3rd chi^2 test demonstrates that bodycam is dependent on alleged threat level."
   ]
  },
  {
   "cell_type": "markdown",
   "metadata": {
    "cell_id": "00036-e7de0801-f028-4f1e-b9f5-0b9623d65f22",
    "deepnote_cell_type": "markdown"
   },
   "source": [
    "\n",
    "___\n",
    "# Modeling"
   ]
  },
  {
   "cell_type": "code",
   "execution_count": 24,
   "metadata": {
    "cell_id": "00037-da25c61e-db34-4a6f-a0ca-130c9dff7bb5",
    "deepnote_cell_type": "code",
    "deepnote_to_be_reexecuted": false,
    "execution_millis": 15,
    "execution_start": 1622036138135,
    "source_hash": "9a2eb543"
   },
   "outputs": [],
   "source": [
    "#set up X inputs and y target variable for each split\n",
    "X_train = train.drop(columns=['alleged_threat_lvl'])\n",
    "y_train = train.alleged_threat_lvl\n",
    "\n",
    "X_validate = validate.drop(columns=['alleged_threat_lvl'])\n",
    "y_validate = validate.alleged_threat_lvl\n",
    "\n",
    "X_test = test.drop(columns=['alleged_threat_lvl'])\n",
    "y_test = test.alleged_threat_lvl"
   ]
  },
  {
   "cell_type": "code",
   "execution_count": 25,
   "metadata": {
    "cell_id": "00038-3ae76ef2-d11a-48ec-ab72-57825f37784c",
    "deepnote_cell_type": "code",
    "deepnote_to_be_reexecuted": false,
    "execution_millis": 4,
    "execution_start": 1622036138150,
    "source_hash": "1dcf78a4"
   },
   "outputs": [],
   "source": [
    "# dropping columns that are not numeric datatypes\n",
    "dropcols = ['date', \n",
    "            'gender',\n",
    "            'race',\n",
    "            'city',\n",
    "            'state',\n",
    "            'zipcode',\n",
    "            'county',\n",
    "            'agency_responsible',\n",
    "            'cause_of_death',\n",
    "            'description_of_circumstances',\n",
    "            'official_disposition',\n",
    "            'criminal_charges_filed',\n",
    "            'mental_illness',\n",
    "            'armed_unarmed_status',\n",
    "            'alleged_threat_lvl',\n",
    "            'alleged_weapon',\n",
    "            'fleeing',\n",
    "            'geography',\n",
    "            'encounter_type_draft',\n",
    "            'initial_reported_reason_for_encounter_draft',\n",
    "            'known_past_shootings_of_officer_draft',\n",
    "            'age_bins']\n",
    "\n",
    "X_train = train.drop(columns=dropcols)\n",
    "X_validate = validate.drop(columns=dropcols)\n",
    "X_test = test.drop(columns=dropcols)"
   ]
  },
  {
   "cell_type": "markdown",
   "metadata": {
    "cell_id": "00039-b06d9571-5dff-46ee-90f4-1e679c44793d",
    "deepnote_cell_type": "markdown"
   },
   "source": [
    "\n",
    "___\n",
    "## • Feature Importance"
   ]
  },
  {
   "cell_type": "markdown",
   "metadata": {
    "cell_id": "00040-b6cfa412-8b53-4e59-91d0-b3fe21677aa2",
    "deepnote_cell_type": "markdown"
   },
   "source": [
    "#### Select K Best\n",
    "- Uses statistical tests to determine each feature's usefulness in predicting the target variable. \n",
    "- Ranks the features and then select the K best features."
   ]
  },
  {
   "cell_type": "code",
   "execution_count": 26,
   "metadata": {
    "cell_id": "00041-4407dbf3-c191-4914-9bbd-9aab8f9700f3",
    "deepnote_cell_type": "code",
    "deepnote_to_be_reexecuted": false,
    "execution_millis": 77,
    "execution_start": 1622036138158,
    "source_hash": "dd7ebbdf"
   },
   "outputs": [
    {
     "data": {
      "text/plain": [
       "['age',\n",
       " 'body_camera',\n",
       " 'was_fleeing',\n",
       " 'was_allegedly_armed',\n",
       " 'was_unarmed',\n",
       " 'was_domestic_disturbance',\n",
       " 'was_mental_health_welfare_check',\n",
       " 'was_traffic_stop',\n",
       " 'was_violent_crime_part_1',\n",
       " 'mntlill_drug or alcohol use',\n",
       " 'mntlill_no',\n",
       " 'mntlill_unknown',\n",
       " 'rural',\n",
       " 'under 12',\n",
       " '55-64']"
      ]
     },
     "execution_count": 26,
     "metadata": {},
     "output_type": "execute_result"
    }
   ],
   "source": [
    "f_features = select_kbest(X_train, y_train, 15)\n",
    "f_features"
   ]
  },
  {
   "cell_type": "markdown",
   "metadata": {
    "cell_id": "00042-6a78b05e-6317-4905-b701-2ebd07d4dd26",
    "deepnote_cell_type": "markdown"
   },
   "source": [
    "#### Recursive Feature Elimination (RFE)\n",
    "- Recursively removes attributes to meet the number of required features and then builds a model on those attributes that remain to see if you can you match or improve performance with a smaller subset."
   ]
  },
  {
   "cell_type": "code",
   "execution_count": 27,
   "metadata": {
    "cell_id": "00043-64c2c310-1b55-4501-9ac7-d62c5bb3d4c7",
    "deepnote_cell_type": "code",
    "deepnote_to_be_reexecuted": false,
    "execution_millis": 7033,
    "execution_start": 1622036138223,
    "source_hash": "509f8fd5"
   },
   "outputs": [
    {
     "data": {
      "text/plain": [
       "['is_male',\n",
       " 'is_transgender',\n",
       " 'was_fleeing',\n",
       " 'was_allegedly_armed',\n",
       " 'was_unarmed',\n",
       " 'was_vehicle',\n",
       " 'was_domestic_disturbance',\n",
       " 'was_mental_health_welfare_check',\n",
       " 'was_person_with_a_weapon',\n",
       " 'was_traffic_stop',\n",
       " 'was_violent_crime_part_1',\n",
       " 'is_native american',\n",
       " 'mntlill_no',\n",
       " 'cod_lethal',\n",
       " 'under 12']"
      ]
     },
     "execution_count": 27,
     "metadata": {},
     "output_type": "execute_result"
    }
   ],
   "source": [
    "rfe_features = rfe(X_train, y_train, 15)\n",
    "rfe_features"
   ]
  },
  {
   "cell_type": "code",
   "execution_count": 28,
   "metadata": {
    "cell_id": "00044-d5fa0576-f72e-4c4f-b4ff-30ce77c27c27",
    "deepnote_cell_type": "code",
    "deepnote_to_be_reexecuted": false,
    "execution_millis": 80,
    "execution_start": 1622036145249,
    "source_hash": "31ee34a3"
   },
   "outputs": [
    {
     "name": "stdout",
     "output_type": "stream",
     "text": [
      "21\n"
     ]
    },
    {
     "data": {
      "text/plain": [
       "['rural',\n",
       " 'cod_lethal',\n",
       " 'was_person_with_a_weapon',\n",
       " 'mntlill_no',\n",
       " 'was_violent_crime_part_1',\n",
       " '55-64',\n",
       " 'age',\n",
       " 'was_mental_health_welfare_check',\n",
       " 'was_allegedly_armed',\n",
       " 'was_traffic_stop',\n",
       " 'was_fleeing',\n",
       " 'under 12',\n",
       " 'was_domestic_disturbance',\n",
       " 'mntlill_drug or alcohol use',\n",
       " 'is_transgender',\n",
       " 'is_male',\n",
       " 'was_unarmed',\n",
       " 'is_native american',\n",
       " 'was_vehicle',\n",
       " 'mntlill_unknown',\n",
       " 'body_camera']"
      ]
     },
     "execution_count": 28,
     "metadata": {},
     "output_type": "execute_result"
    }
   ],
   "source": [
    "combo_feats = list(set(f_features + rfe_features))\n",
    "print(len(combo_feats))\n",
    "combo_feats"
   ]
  },
  {
   "cell_type": "code",
   "execution_count": 29,
   "metadata": {
    "cell_id": "00045-fa265ac4-5db4-4a74-8177-c18e5dd4881f",
    "deepnote_cell_type": "code",
    "deepnote_to_be_reexecuted": false,
    "execution_millis": 12,
    "execution_start": 1622036145335,
    "source_hash": "10a14d49"
   },
   "outputs": [
    {
     "name": "stdout",
     "output_type": "stream",
     "text": [
      "19\n"
     ]
    }
   ],
   "source": [
    "#specify combined features that reduces multicollinearity\n",
    "combo_feats = ['55-64',\n",
    "               'is_native american',\n",
    "               'mntlill_no',\n",
    "               'under 12',\n",
    "               'was_traffic_stop',\n",
    "               'body_camera',\n",
    "               'age',\n",
    "               'was_allegedly_armed',\n",
    "               'is_black',\n",
    "               'was_domestic_disturbance',\n",
    "               'was_fleeing',\n",
    "               'cod_lethal',\n",
    "               'was_mental_health_welfare_check',\n",
    "               'is_white',\n",
    "               'was_violent_crime_part_1',\n",
    "               'was_vehicle',\n",
    "               'mntlill_drug or alcohol use',\n",
    "               'is_transgender',\n",
    "               'is_female']\n",
    " \n",
    "print(len(combo_feats))"
   ]
  },
  {
   "cell_type": "markdown",
   "metadata": {
    "cell_id": "00046-87393bc7-1ab1-4acb-b82a-4109257062bf",
    "deepnote_cell_type": "markdown"
   },
   "source": [
    "\n",
    "___\n",
    "## • Identify Baseline"
   ]
  },
  {
   "cell_type": "code",
   "execution_count": 30,
   "metadata": {
    "cell_id": "00047-3bd7549e-52ec-445f-8380-0452d9137503",
    "deepnote_cell_type": "code",
    "deepnote_to_be_reexecuted": false,
    "execution_millis": 13,
    "execution_start": 1622036145344,
    "source_hash": "276ef1c0"
   },
   "outputs": [
    {
     "data": {
      "text/plain": [
       "0.0    2459\n",
       "1.0    2375\n",
       "Name: alleged_threat_lvl, dtype: int64"
      ]
     },
     "execution_count": 30,
     "metadata": {},
     "output_type": "execute_result"
    }
   ],
   "source": [
    "#baseline prediction: the most prevalent class in training dataset(the mode)\n",
    "train.alleged_threat_lvl.value_counts()"
   ]
  },
  {
   "cell_type": "code",
   "execution_count": 31,
   "metadata": {
    "cell_id": "00048-f2ae5cbc-cbb8-42b2-8144-7cd815eb6104",
    "deepnote_cell_type": "code",
    "deepnote_to_be_reexecuted": false,
    "execution_millis": 11,
    "execution_start": 1622036145395,
    "source_hash": "470ea14d"
   },
   "outputs": [
    {
     "name": "stdout",
     "output_type": "stream",
     "text": [
      "baseline accuracy:  0.51\n"
     ]
    }
   ],
   "source": [
    "#baseline model would be to predict 0 since it is most prevalant\n",
    "#baseline accuracy:\n",
    "baseline_accuracy = (train.alleged_threat_lvl == 0).mean()\n",
    "\n",
    "print(f'baseline accuracy: {baseline_accuracy: .2}')"
   ]
  },
  {
   "cell_type": "markdown",
   "metadata": {
    "cell_id": "00049-210a0ded-3e78-48c1-9481-ddaa72fc437f",
    "deepnote_cell_type": "markdown"
   },
   "source": [
    "\n",
    "___\n",
    "## • Model on Train"
   ]
  },
  {
   "cell_type": "markdown",
   "metadata": {
    "cell_id": "00050-9021fe9e-019d-4d30-9c77-509908a249c2",
    "deepnote_cell_type": "markdown"
   },
   "source": [
    "### Decision Tree"
   ]
  },
  {
   "cell_type": "code",
   "execution_count": 32,
   "metadata": {
    "cell_id": "00051-e2a46736-acb0-4a1e-974a-ebc62704eb74",
    "deepnote_cell_type": "code",
    "deepnote_to_be_reexecuted": false,
    "execution_millis": 10,
    "execution_start": 1622036145397,
    "source_hash": "c2c98502",
    "tags": []
   },
   "outputs": [
    {
     "name": "stdout",
     "output_type": "stream",
     "text": [
      "Baseline is 0.51\n",
      "----------------\n",
      "Accuracy of Decision Tree classifier on combo_feats (max_depth = 3): 0.71\n"
     ]
    }
   ],
   "source": [
    "#create Decision Tree model (specifying max_depth argument and combo_feats)\n",
    "dt = DecisionTreeClassifier(max_depth=3, random_state=123)\n",
    "\n",
    "#fit model on combo_feats\n",
    "dt.fit(X_train[combo_feats], y_train)\n",
    "\n",
    "#get predictions from model\n",
    "y_pred = dt.predict(X_train[combo_feats])\n",
    "\n",
    "#compute accuracy\n",
    "dt_train_acc = round(dt.score(X_train[combo_feats], y_train), 2)\n",
    "\n",
    "#compare to baseline\n",
    "print(\"Baseline is\", round(baseline_accuracy, 2))\n",
    "print(\"----------------\")\n",
    "print('Accuracy of Decision Tree classifier on combo_feats (max_depth = 3): {:.2f}'\n",
    "     .format(dt.score(X_train[combo_feats], y_train)))"
   ]
  },
  {
   "cell_type": "markdown",
   "metadata": {
    "cell_id": "00052-e1f29d01-7b91-4393-b6e6-d69929bc8c13",
    "deepnote_cell_type": "markdown",
    "tags": []
   },
   "source": [
    "### Random Forest"
   ]
  },
  {
   "cell_type": "code",
   "execution_count": 77,
   "metadata": {
    "cell_id": "00053-f1e5f5b1-be36-43b4-a283-547f2808a4a8",
    "deepnote_cell_type": "code",
    "deepnote_to_be_reexecuted": false,
    "execution_millis": 304,
    "execution_start": 1622036145438,
    "source_hash": "698d108b",
    "tags": []
   },
   "outputs": [
    {
     "name": "stdout",
     "output_type": "stream",
     "text": [
      "Baseline is 0.51\n",
      "----------------\n",
      "Accuracy of Random Forest classifier on combo_feats (max_depth = 5, min_samples_leaf = 3): 0.71\n"
     ]
    }
   ],
   "source": [
    "#create Random Forest model (specifying max_depth/min_samples_leaf arguments and combo_feats)\n",
    "rf = RandomForestClassifier(max_depth=3, min_samples_leaf=3, random_state=123)\n",
    "\n",
    "#fit model on combo_feats\n",
    "rf.fit(X_train[combo_feats], y_train)\n",
    "\n",
    "#get predictions from model\n",
    "y_pred = rf.predict(X_train[combo_feats])\n",
    "\n",
    "#compute accuracy\n",
    "rf_train_acc = round(rf.score(X_train[combo_feats], y_train), 2)\n",
    "\n",
    "#compare to baseline\n",
    "print(\"Baseline is\", round(baseline_accuracy, 2))\n",
    "print(\"----------------\")\n",
    "print('Accuracy of Random Forest classifier on combo_feats (max_depth = 5, min_samples_leaf = 3): {:.2f}'\n",
    "     .format(rf.score(X_train[combo_feats], y_train)))"
   ]
  },
  {
   "cell_type": "markdown",
   "metadata": {
    "cell_id": "00054-d68c60a3-8faf-42a9-a78f-36c883c75872",
    "deepnote_cell_type": "markdown",
    "tags": []
   },
   "source": [
    "### K-Nearest Neighbor (KNN)"
   ]
  },
  {
   "cell_type": "code",
   "execution_count": 78,
   "metadata": {
    "cell_id": "00055-ebe6b7ff-2aa6-49d0-b12b-1e34fee6f243",
    "deepnote_cell_type": "code",
    "deepnote_to_be_reexecuted": false,
    "execution_millis": 2131,
    "execution_start": 1622036145738,
    "source_hash": "332e4e58",
    "tags": []
   },
   "outputs": [
    {
     "name": "stdout",
     "output_type": "stream",
     "text": [
      "Baseline is 0.51\n",
      "----------------\n",
      "Accuracy of KNN classifier on combo_feats (n_neighbors = 20): 0.70\n"
     ]
    }
   ],
   "source": [
    "#create KNN model (specifying n_neighbors argument and combo_feats)\n",
    "knn = KNeighborsClassifier(n_neighbors=20)\n",
    "\n",
    "#fit model on combo_feats\n",
    "knn.fit(X_train[combo_feats], y_train)\n",
    "\n",
    "#get predictions from model\n",
    "y_pred = knn.predict(X_train[combo_feats])\n",
    "\n",
    "#compute accuracy\n",
    "knn_train_acc = round(knn.score(X_train[combo_feats], y_train), 2)\n",
    "\n",
    "#compare to baseline\n",
    "print(\"Baseline is\", round(baseline_accuracy, 2))\n",
    "print(\"----------------\")\n",
    "print('Accuracy of KNN classifier on combo_feats (n_neighbors = 20): {:.2f}'\n",
    "     .format(knn.score(X_train[combo_feats], y_train)))"
   ]
  },
  {
   "cell_type": "markdown",
   "metadata": {
    "cell_id": "00056-28d0bd7f-02c5-489e-a65b-e9ebdd9faee3",
    "deepnote_cell_type": "markdown",
    "tags": []
   },
   "source": [
    "### Logistic Regression"
   ]
  },
  {
   "cell_type": "code",
   "execution_count": 79,
   "metadata": {
    "cell_id": "00057-21c08ac0-a750-4b3d-9e8f-6400ee897fcd",
    "deepnote_cell_type": "code",
    "deepnote_to_be_reexecuted": false,
    "execution_millis": 291,
    "execution_start": 1622036147872,
    "source_hash": "cc070c24",
    "tags": []
   },
   "outputs": [
    {
     "name": "stdout",
     "output_type": "stream",
     "text": [
      "Baseline is 0.51\n",
      "----------------\n",
      "Accuracy of Logistic Regression classifier on combo_feats (default parameters): 0.70\n"
     ]
    }
   ],
   "source": [
    "#create Logistic Regression model (default parameters, specifying combo_feats)\n",
    "logit = LogisticRegression(random_state=123)\n",
    "\n",
    "#fit model on combo_feats\n",
    "logit.fit(X_train[combo_feats], y_train)\n",
    "\n",
    "#get predictions from model\n",
    "y_pred = logit.predict(X_train[combo_feats])\n",
    "\n",
    "#compute accuracy\n",
    "logit_train_acc = round(logit.score(X_train[combo_feats], y_train), 2)\n",
    "\n",
    "#compare to baseline\n",
    "print(\"Baseline is\", round(baseline_accuracy, 2))\n",
    "print(\"----------------\")\n",
    "print('Accuracy of Logistic Regression classifier on combo_feats (default parameters): {:.2f}'\n",
    "     .format(logit.score(X_train[combo_feats], y_train)))"
   ]
  },
  {
   "cell_type": "markdown",
   "metadata": {
    "cell_id": "00058-5d5ab10f-0c25-4469-87c8-b23aec8b3f64",
    "deepnote_cell_type": "markdown",
    "tags": []
   },
   "source": [
    "### Takeways:\n",
    "- **Decision Tree** model (dt) specifying max_depth argument of 3 and using combo_feats:\n",
    "    - Score of 71% accuracy\n",
    "    \n",
    "    \n",
    "    \n",
    "- **Random Forest** model (rf) specifying max_depth argument of 5, min_samples_leaf argument of 3 and using combo_feats:\n",
    "    - Score of 72% accuracy\n",
    "    \n",
    "    \n",
    "    \n",
    "- **K-Nearest Neighbor** model (knn) specifying n_neighbors argument of 20 and using combo_feats:\n",
    "    - Score of 70% accuracy\n",
    "    \n",
    "    \n",
    "    \n",
    "- **Logistic Regression** model (logit) using default parameters and combo_feats:\n",
    "    - Score of 70% accuracy\n",
    "\n",
    "Next, compare scores to validate (out-of-sample data)."
   ]
  },
  {
   "cell_type": "markdown",
   "metadata": {
    "cell_id": "00059-b46fbe9f-67da-4a26-b744-b1aba7a423e0",
    "deepnote_cell_type": "markdown"
   },
   "source": [
    "\n",
    "___\n",
    "## • Model on Validate"
   ]
  },
  {
   "cell_type": "code",
   "execution_count": 80,
   "metadata": {
    "cell_id": "00060-6cbc128b-256f-42ad-8daf-9372484239de",
    "deepnote_cell_type": "code",
    "deepnote_to_be_reexecuted": false,
    "execution_millis": 90,
    "execution_start": 1622036148159,
    "source_hash": "d328fc71",
    "tags": []
   },
   "outputs": [
    {
     "name": "stdout",
     "output_type": "stream",
     "text": [
      "Accuracy of Decision Tree classifier on train set: 0.71\n",
      "--------------------------------------------------------------\n",
      "Decision Tree classifier on validate set:\n",
      "              precision    recall  f1-score   support\n",
      "\n",
      "         0.0       0.77      0.62      0.69      1054\n",
      "         1.0       0.67      0.81      0.74      1019\n",
      "\n",
      "    accuracy                           0.71      2073\n",
      "   macro avg       0.72      0.71      0.71      2073\n",
      "weighted avg       0.72      0.71      0.71      2073\n",
      "\n"
     ]
    }
   ],
   "source": [
    "#dt's metrics on validate\n",
    "\n",
    "#evaluate on validate sample\n",
    "y_pred = dt.predict(X_validate[combo_feats])\n",
    "\n",
    "#compute accuracy\n",
    "dt_val_acc = round(dt.score(X_validate[combo_feats], y_validate), 2)\n",
    "\n",
    "#compare train to validate\n",
    "print('Accuracy of Decision Tree classifier on train set: {:.2f}'\n",
    "     .format(dt.score(X_train[combo_feats], y_train)))\n",
    "print(\"--------------------------------------------------------------\")\n",
    "print(\"Decision Tree classifier on validate set:\")\n",
    "print(classification_report(y_validate, y_pred))"
   ]
  },
  {
   "cell_type": "code",
   "execution_count": 81,
   "metadata": {
    "cell_id": "00061-b77a91e4-3561-4a23-a6f4-46b4ca1f94e4",
    "deepnote_cell_type": "code",
    "deepnote_to_be_reexecuted": false,
    "execution_millis": 154,
    "execution_start": 1622036148246,
    "source_hash": "47d5ea37",
    "tags": []
   },
   "outputs": [
    {
     "name": "stdout",
     "output_type": "stream",
     "text": [
      "Accuracy of Random Forest classifier on train set: 0.71\n",
      "--------------------------------------------------------------\n",
      "Random Forest classifier on validate set:\n",
      "              precision    recall  f1-score   support\n",
      "\n",
      "         0.0       0.74      0.69      0.71      1054\n",
      "         1.0       0.70      0.75      0.72      1019\n",
      "\n",
      "    accuracy                           0.72      2073\n",
      "   macro avg       0.72      0.72      0.72      2073\n",
      "weighted avg       0.72      0.72      0.72      2073\n",
      "\n"
     ]
    }
   ],
   "source": [
    "#rf's metrics on validate\n",
    "\n",
    "#evaluate on validate sample\n",
    "y_pred = rf.predict(X_validate[combo_feats])\n",
    "\n",
    "#compute accuracy\n",
    "rf_val_acc = round(rf.score(X_validate[combo_feats], y_validate), 2)\n",
    "\n",
    "#compare train to validate\n",
    "print('Accuracy of Random Forest classifier on train set: {:.2f}'\n",
    "     .format(rf.score(X_train[combo_feats], y_train)))\n",
    "print(\"--------------------------------------------------------------\")\n",
    "print(\"Random Forest classifier on validate set:\")\n",
    "print(classification_report(y_validate, y_pred))"
   ]
  },
  {
   "cell_type": "code",
   "execution_count": 82,
   "metadata": {
    "cell_id": "00062-6693ccb3-1444-4b7b-9576-1627641bef2e",
    "deepnote_cell_type": "code",
    "deepnote_to_be_reexecuted": false,
    "execution_millis": 1384,
    "execution_start": 1622036148403,
    "source_hash": "e80a3dc9",
    "tags": []
   },
   "outputs": [
    {
     "name": "stdout",
     "output_type": "stream",
     "text": [
      "Accuracy of KNN classifier on train set: 0.70\n",
      "--------------------------------------------------------------\n",
      "KNN classifier on validate set:\n",
      "              precision    recall  f1-score   support\n",
      "\n",
      "         0.0       0.66      0.71      0.68      1054\n",
      "         1.0       0.67      0.63      0.65      1019\n",
      "\n",
      "    accuracy                           0.67      2073\n",
      "   macro avg       0.67      0.67      0.67      2073\n",
      "weighted avg       0.67      0.67      0.67      2073\n",
      "\n"
     ]
    }
   ],
   "source": [
    "#knn's metrics on validate\n",
    "\n",
    "#evaluate on validate sample\n",
    "y_pred = knn.predict(X_validate[combo_feats])\n",
    "\n",
    "#compute accuracy\n",
    "knn_val_acc = round(knn.score(X_validate[combo_feats], y_validate), 2)\n",
    "\n",
    "#compare train to validate\n",
    "print('Accuracy of KNN classifier on train set: {:.2f}'\n",
    "     .format(knn.score(X_train[combo_feats], y_train)))\n",
    "print(\"--------------------------------------------------------------\")\n",
    "print(\"KNN classifier on validate set:\")\n",
    "print(classification_report(y_validate, y_pred))"
   ]
  },
  {
   "cell_type": "code",
   "execution_count": 83,
   "metadata": {
    "cell_id": "00063-e5c55b88-4f32-4f4d-b4cb-1e48f3a01700",
    "deepnote_cell_type": "code",
    "deepnote_to_be_reexecuted": false,
    "execution_millis": 62,
    "execution_start": 1622036149784,
    "source_hash": "79570e45"
   },
   "outputs": [
    {
     "name": "stdout",
     "output_type": "stream",
     "text": [
      "Accuracy of Logistic Regression classifier on train set: 0.70\n",
      "--------------------------------------------------------------\n",
      "Logistic Regression classifier on validate set:\n",
      "              precision    recall  f1-score   support\n",
      "\n",
      "         0.0       0.70      0.71      0.71      1054\n",
      "         1.0       0.70      0.69      0.69      1019\n",
      "\n",
      "    accuracy                           0.70      2073\n",
      "   macro avg       0.70      0.70      0.70      2073\n",
      "weighted avg       0.70      0.70      0.70      2073\n",
      "\n"
     ]
    }
   ],
   "source": [
    "\n",
    "#logit's metrics on validate\n",
    "\n",
    "#evaluate on validate sample\n",
    "y_pred = logit.predict(X_validate[combo_feats])\n",
    "\n",
    "#compute accuracy\n",
    "logit_val_acc = round(logit.score(X_validate[combo_feats], y_validate), 2)\n",
    "\n",
    "#compare train to validate\n",
    "print('Accuracy of Logistic Regression classifier on train set: {:.2f}'\n",
    "     .format(logit.score(X_train[combo_feats], y_train)))\n",
    "print(\"--------------------------------------------------------------\")\n",
    "print(\"Logistic Regression classifier on validate set:\")\n",
    "print(classification_report(y_validate, y_pred))"
   ]
  },
  {
   "cell_type": "code",
   "execution_count": 84,
   "metadata": {
    "cell_id": "00064-0737a4ae-d108-4118-afdf-b6d78d35b360",
    "deepnote_cell_type": "code",
    "deepnote_to_be_reexecuted": false,
    "execution_millis": 112,
    "execution_start": 1622036149834,
    "source_hash": "6025acc3"
   },
   "outputs": [
    {
     "data": {
      "text/html": [
       "<div>\n",
       "<style scoped>\n",
       "    .dataframe tbody tr th:only-of-type {\n",
       "        vertical-align: middle;\n",
       "    }\n",
       "\n",
       "    .dataframe tbody tr th {\n",
       "        vertical-align: top;\n",
       "    }\n",
       "\n",
       "    .dataframe thead th {\n",
       "        text-align: right;\n",
       "    }\n",
       "</style>\n",
       "<table border=\"1\" class=\"dataframe\">\n",
       "  <thead>\n",
       "    <tr style=\"text-align: right;\">\n",
       "      <th></th>\n",
       "      <th>Model</th>\n",
       "      <th>Baseline</th>\n",
       "      <th>Train Accuracy</th>\n",
       "      <th>Validate Accuracy</th>\n",
       "    </tr>\n",
       "  </thead>\n",
       "  <tbody>\n",
       "    <tr>\n",
       "      <th>0</th>\n",
       "      <td>Decision Tree</td>\n",
       "      <td>0.51</td>\n",
       "      <td>0.71</td>\n",
       "      <td>0.71</td>\n",
       "    </tr>\n",
       "    <tr>\n",
       "      <th>1</th>\n",
       "      <td>Random Forest</td>\n",
       "      <td>0.51</td>\n",
       "      <td>0.71</td>\n",
       "      <td>0.72</td>\n",
       "    </tr>\n",
       "    <tr>\n",
       "      <th>2</th>\n",
       "      <td>K-Nearest Neighbor</td>\n",
       "      <td>0.51</td>\n",
       "      <td>0.70</td>\n",
       "      <td>0.67</td>\n",
       "    </tr>\n",
       "    <tr>\n",
       "      <th>3</th>\n",
       "      <td>Logistic Regression</td>\n",
       "      <td>0.51</td>\n",
       "      <td>0.70</td>\n",
       "      <td>0.70</td>\n",
       "    </tr>\n",
       "  </tbody>\n",
       "</table>\n",
       "</div>"
      ],
      "text/plain": [
       "                 Model  Baseline  Train Accuracy  Validate Accuracy\n",
       "0        Decision Tree      0.51            0.71               0.71\n",
       "1        Random Forest      0.51            0.71               0.72\n",
       "2   K-Nearest Neighbor      0.51            0.70               0.67\n",
       "3  Logistic Regression      0.51            0.70               0.70"
      ]
     },
     "execution_count": 84,
     "metadata": {},
     "output_type": "execute_result"
    }
   ],
   "source": [
    "# Build dataframe to record accuracy (starting with decision tree)\n",
    "metric_df = pd.DataFrame(data=[{\n",
    "    'Model': 'Decision Tree', \n",
    "    'Baseline': round(baseline_accuracy, 2),\n",
    "    'Train Accuracy': round(dt_train_acc, 2),\n",
    "    'Validate Accuracy': round(dt_val_acc, 2)}])\n",
    "\n",
    "# append dataframe to record accuracy on random forest\n",
    "metric_df = metric_df.append({\n",
    "    'Model': 'Random Forest', \n",
    "    'Baseline': round(baseline_accuracy, 2),\n",
    "    'Train Accuracy': round(rf_train_acc, 2),\n",
    "    'Validate Accuracy':round(rf_val_acc, 2)}, ignore_index=True)\n",
    "\n",
    "# append dataframe to record accuracy on knn\n",
    "metric_df = metric_df.append({\n",
    "    'Model': 'K-Nearest Neighbor', \n",
    "    'Baseline': round(baseline_accuracy, 2),\n",
    "    'Train Accuracy': round(knn_train_acc, 2),\n",
    "    'Validate Accuracy':round(knn_val_acc, 2)}, ignore_index=True)\n",
    "\n",
    "# append dataframe to record accuracy on logistic regression\n",
    "metric_df = metric_df.append({\n",
    "    'Model': 'Logistic Regression', \n",
    "    'Baseline': round(baseline_accuracy, 2),\n",
    "    'Train Accuracy': round(logit_train_acc, 2),\n",
    "    'Validate Accuracy':round(logit_val_acc, 2)}, ignore_index=True)\n",
    "\n",
    "\n",
    "metric_df"
   ]
  },
  {
   "cell_type": "markdown",
   "metadata": {
    "cell_id": "00065-dd902f67-c788-4d1a-b45d-d27f15db5ab7",
    "deepnote_cell_type": "markdown",
    "tags": []
   },
   "source": [
    "### Takeaways\n",
    "\n",
    "**Random Forest** is the best-performing model and will be evaluated on test data.\n"
   ]
  },
  {
   "cell_type": "markdown",
   "metadata": {
    "cell_id": "00066-02f8a937-f986-4f67-9f60-806c400cda37",
    "deepnote_cell_type": "markdown"
   },
   "source": [
    "\n",
    "___\n",
    "## • Model on Test"
   ]
  },
  {
   "cell_type": "code",
   "execution_count": 85,
   "metadata": {
    "cell_id": "00067-f5ef62c1-9e53-46d4-82ed-58d1af5f3e35",
    "deepnote_cell_type": "code",
    "deepnote_to_be_reexecuted": false,
    "execution_millis": 82,
    "execution_start": 1622036149939,
    "source_hash": "251cfd85"
   },
   "outputs": [
    {
     "name": "stdout",
     "output_type": "stream",
     "text": [
      "Random Forest Model:\n",
      "              precision    recall  f1-score   support\n",
      "\n",
      "         0.0       0.72      0.69      0.71       879\n",
      "         1.0       0.70      0.73      0.71       848\n",
      "\n",
      "    accuracy                           0.71      1727\n",
      "   macro avg       0.71      0.71      0.71      1727\n",
      "weighted avg       0.71      0.71      0.71      1727\n",
      "\n"
     ]
    }
   ],
   "source": [
    "#evaluate on test sample \n",
    "y_pred_test = rf.predict(X_test[combo_feats])\n",
    "\n",
    "#compute accuracy\n",
    "rf_test_acc = round(rf.score(X_test[combo_feats], y_test), 2)\n",
    "\n",
    "print(\"Random Forest Model:\")\n",
    "print(classification_report(y_test, y_pred_test))"
   ]
  },
  {
   "cell_type": "code",
   "execution_count": 86,
   "metadata": {},
   "outputs": [
    {
     "name": "stdout",
     "output_type": "stream",
     "text": [
      "100\n"
     ]
    }
   ],
   "source": [
    "#import Graphviz\n",
    "import graphviz\n",
    "from graphviz import Graph\n",
    "from sklearn.tree import DecisionTreeClassifier\n",
    "from sklearn import tree\n",
    "from sklearn.tree import export_graphviz\n",
    "\n",
    "\n",
    "trees = rf.estimators_\n",
    "\n",
    "# Our Random Forest contains 100 trees\n",
    "print(len(trees))"
   ]
  },
  {
   "cell_type": "code",
   "execution_count": 87,
   "metadata": {},
   "outputs": [
    {
     "name": "stdout",
     "output_type": "stream",
     "text": [
      "<class 'pandas.core.frame.DataFrame'>\n",
      "Int64Index: 1727 entries, 8304 to 8700\n",
      "Data columns (total 1 columns):\n",
      " #   Column              Non-Null Count  Dtype \n",
      "---  ------              --------------  ----- \n",
      " 0   alleged_threat_lvl  1727 non-null   object\n",
      "dtypes: object(1)\n",
      "memory usage: 27.0+ KB\n"
     ]
    }
   ],
   "source": [
    "rfcn = pd.DataFrame(data = y_test)\n",
    "rfcn['alleged_threat_lvl'] = rfcn['alleged_threat_lvl'].astype(str)\n",
    "rfcn.info()"
   ]
  },
  {
   "cell_type": "code",
   "execution_count": 99,
   "metadata": {},
   "outputs": [
    {
     "data": {
      "text/plain": [
       "'rf7.pdf'"
      ]
     },
     "execution_count": 99,
     "metadata": {},
     "output_type": "execute_result"
    }
   ],
   "source": [
    "# Extract the first tree for visualization\n",
    "rf1 = rf.estimators_[67]\n",
    "fn=['55-64','is_native american','mntlill_no','under 12','was_traffic_stop','body_camera','age','was_allegedly_armed',\n",
    "    'is_black','was_domestic_disturbance','was_fleeing','cod_lethal','was_mental_health_welfare_check',\n",
    "    'is_white','was_violent_crime_part_1','was_vehicle','mntlill_drug or alcohol use','is_transgender','is_female']\n",
    "cn=rfcn.alleged_threat_lvl\n",
    "\n",
    "# Visualize the model so it can explain itself!\n",
    "dot_data = export_graphviz(rf1, feature_names= fn, rounded=True, filled=True, out_file=None)\n",
    "graph = graphviz.Source(dot_data) \n",
    "\n",
    "graph.render('rf7', view=True)"
   ]
  },
  {
   "cell_type": "code",
   "execution_count": 91,
   "metadata": {
    "cell_id": "00068-d6ab31e2-9077-41c7-89e8-5022a633a090",
    "deepnote_cell_type": "code",
    "deepnote_to_be_reexecuted": false,
    "execution_millis": 3,
    "execution_start": 1622036150012,
    "source_hash": "d868f546"
   },
   "outputs": [],
   "source": [
    "# append dataframe to record accuracy on final random forest\n",
    "metric_df = metric_df.append({\n",
    "    'Model': 'Random Forest', \n",
    "    'Baseline': round(baseline_accuracy, 2),\n",
    "    'Train Accuracy': round(rf_train_acc, 2),\n",
    "    'Validate Accuracy':round(rf_val_acc, 2),\n",
    "    'Test Accuracy': round(rf_test_acc, 2)}, ignore_index=True)"
   ]
  },
  {
   "cell_type": "code",
   "execution_count": 43,
   "metadata": {
    "cell_id": "00069-58a1a5db-f5a1-45d6-88a0-b3f0ad7ff885",
    "deepnote_cell_type": "code",
    "deepnote_to_be_reexecuted": false,
    "execution_millis": 12,
    "execution_start": 1622036150058,
    "source_hash": "400c35cf"
   },
   "outputs": [
    {
     "data": {
      "text/html": [
       "<div>\n",
       "<style scoped>\n",
       "    .dataframe tbody tr th:only-of-type {\n",
       "        vertical-align: middle;\n",
       "    }\n",
       "\n",
       "    .dataframe tbody tr th {\n",
       "        vertical-align: top;\n",
       "    }\n",
       "\n",
       "    .dataframe thead th {\n",
       "        text-align: right;\n",
       "    }\n",
       "</style>\n",
       "<table border=\"1\" class=\"dataframe\">\n",
       "  <thead>\n",
       "    <tr style=\"text-align: right;\">\n",
       "      <th></th>\n",
       "      <th>Model</th>\n",
       "      <th>Baseline</th>\n",
       "      <th>Train Accuracy</th>\n",
       "      <th>Validate Accuracy</th>\n",
       "      <th>Test Accuracy</th>\n",
       "    </tr>\n",
       "  </thead>\n",
       "  <tbody>\n",
       "    <tr>\n",
       "      <th>0</th>\n",
       "      <td>Decision Tree</td>\n",
       "      <td>0.51</td>\n",
       "      <td>0.71</td>\n",
       "      <td>0.71</td>\n",
       "      <td>NaN</td>\n",
       "    </tr>\n",
       "    <tr>\n",
       "      <th>1</th>\n",
       "      <td>Random Forest</td>\n",
       "      <td>0.51</td>\n",
       "      <td>0.72</td>\n",
       "      <td>0.72</td>\n",
       "      <td>NaN</td>\n",
       "    </tr>\n",
       "    <tr>\n",
       "      <th>2</th>\n",
       "      <td>K-Nearest Neighbor</td>\n",
       "      <td>0.51</td>\n",
       "      <td>0.70</td>\n",
       "      <td>0.67</td>\n",
       "      <td>NaN</td>\n",
       "    </tr>\n",
       "    <tr>\n",
       "      <th>3</th>\n",
       "      <td>Logistic Regression</td>\n",
       "      <td>0.51</td>\n",
       "      <td>0.70</td>\n",
       "      <td>0.70</td>\n",
       "      <td>NaN</td>\n",
       "    </tr>\n",
       "    <tr>\n",
       "      <th>4</th>\n",
       "      <td>Random Forest</td>\n",
       "      <td>0.51</td>\n",
       "      <td>0.72</td>\n",
       "      <td>0.72</td>\n",
       "      <td>0.72</td>\n",
       "    </tr>\n",
       "  </tbody>\n",
       "</table>\n",
       "</div>"
      ],
      "text/plain": [
       "                 Model  Baseline  Train Accuracy  Validate Accuracy  \\\n",
       "0        Decision Tree      0.51            0.71               0.71   \n",
       "1        Random Forest      0.51            0.72               0.72   \n",
       "2   K-Nearest Neighbor      0.51            0.70               0.67   \n",
       "3  Logistic Regression      0.51            0.70               0.70   \n",
       "4        Random Forest      0.51            0.72               0.72   \n",
       "\n",
       "   Test Accuracy  \n",
       "0            NaN  \n",
       "1            NaN  \n",
       "2            NaN  \n",
       "3            NaN  \n",
       "4           0.72  "
      ]
     },
     "execution_count": 43,
     "metadata": {},
     "output_type": "execute_result"
    }
   ],
   "source": [
    "metric_df"
   ]
  },
  {
   "cell_type": "markdown",
   "metadata": {
    "cell_id": "00071-20504c14-7d7d-4b42-808e-c41367fa590e",
    "deepnote_cell_type": "markdown"
   },
   "source": [
    "\n",
    "___\n",
    "# Conclusion\n",
    "\n",
    "### Takeaways\n",
    "- All models had roughly the same score for train and validate sets.\n",
    "- K-Nearest neighbor model performed the worst on out-of-sample data.\n",
    "- The best performing model uses a Random Forest algorithm and combined features from Select K Best and Recursive Feature Elimination lists.\n",
    "- Our final Random Forest model increased by 21% from a baseline accuracy of 51% to 72% accuracy on out-of-sample data.\n",
    "\n",
    "\n",
    "### Drivers\n",
    "- The top drivers of predicting a victim's threat level were encounter type of incident, gender, race, armed/unarmed status, mental illness, age, geography, fleeing events, and body camera reports.\n",
    "- These drivers can be used to shed light on changes to be made in law enforcement and to help law enforcement agencies spot risk factors, so they may step in before risk transforms into actual harm.\n",
    "\n",
    "\n",
    "### Next Steps\n",
    "- Fill in missing values manually as best as possible based on the description column in the dataset (large amount of data missing). \n",
    "- Natural language processing exploration on description of incident. "
   ]
  },
  {
   "cell_type": "markdown",
   "metadata": {
    "cell_id": "00071-9aff8c8b-3864-45f2-97f0-ebfa9efaf4b8",
    "deepnote_cell_type": "markdown",
    "tags": []
   },
   "source": [
    "\n",
    "#### Report containing summarization of notebook can be found [here](link to presentation)."
   ]
  },
  {
   "cell_type": "markdown",
   "metadata": {
    "cell_id": "00072-c9e395f6-a293-40ad-94d5-1fc3fdec18e8",
    "deepnote_cell_type": "markdown",
    "tags": []
   },
   "source": []
  },
  {
   "cell_type": "markdown",
   "metadata": {
    "created_in_deepnote_cell": true,
    "deepnote_cell_type": "markdown",
    "tags": []
   },
   "source": [
    "<a style='text-decoration:none;line-height:16px;display:flex;color:#5B5B62;padding:10px;justify-content:end;' href='https://deepnote.com?utm_source=created-in-deepnote-cell&projectId=258e71fc-cf2b-48c3-8461-70ecd9787aa1' target=\"_blank\">\n",
    "<img alt='Created in deepnote.com' style='display:inline;max-height:16px;margin:0px;margin-right:7.5px;' src='data:image/svg+xml;base64,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' > </img>\n",
    "Created in <span style='font-weight:600;margin-left:4px;'>Deepnote</span></a>"
   ]
  }
 ],
 "metadata": {
  "deepnote": {},
  "deepnote_execution_queue": [],
  "deepnote_notebook_id": "4e2411ff-ea36-4a6b-858b-e4e3a16bd035",
  "kernelspec": {
   "display_name": "Python 3",
   "language": "python",
   "name": "python3"
  },
  "language_info": {
   "codemirror_mode": {
    "name": "ipython",
    "version": 3
   },
   "file_extension": ".py",
   "mimetype": "text/x-python",
   "name": "python",
   "nbconvert_exporter": "python",
   "pygments_lexer": "ipython3",
   "version": "3.8.5"
  }
 },
 "nbformat": 4,
 "nbformat_minor": 4
}
